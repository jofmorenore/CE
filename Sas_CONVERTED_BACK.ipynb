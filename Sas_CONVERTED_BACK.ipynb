{
  "cells": [
    {
      "cell_type": "markdown",
      "metadata": {
        "id": "view-in-github",
        "colab_type": "text"
      },
      "source": [
        "<a href=\"https://colab.research.google.com/github/jofmorenore/CE/blob/main/Sas_CONVERTED_BACK.ipynb\" target=\"_parent\"><img src=\"https://colab.research.google.com/assets/colab-badge.svg\" alt=\"Open In Colab\"/></a>"
      ]
    },
    {
      "cell_type": "markdown",
      "metadata": {
        "id": "D0t03rWcqCfR"
      },
      "source": [
        "\n",
        "<center><strong><h1 style=\"color:red;\"> Introducción a SAS </h1></strong></center>\n",
        "<center><strong><h2 style=\"color:black;\"> Luis Hernando Vanegas (lhvanegasp@unal.edu.co) </h2></strong></center>\n",
        "<center><strong><h2 style=\"color:black;\"> Luis Marina Rondón (lmrondonp@unal.edu.co) </h2></strong></center>\n",
        "<center><strong><h3 style=\"color:blue;\"> Universidad Nacional de Colombia </h3></strong></center>\n",
        "<center><strong><h3 style=\"color:blue;\"> Sede Bogotá </h3></strong></center>\n",
        "<center><strong><h3 style=\"color:blue;\"> Facultad de Ciencias </h3></strong></center>\n",
        "<center><strong><h3 style=\"color:blue;\"> Departamento de Estadística </h3></strong></center>\n"
      ]
    },
    {
      "cell_type": "markdown",
      "metadata": {
        "id": "NLy3QKt4qCfT"
      },
      "source": [
        "\n",
        "<h1><a href=\"https://documentation.sas.com/doc/en/pgmsascdc/9.4_3.5/proc/n045uxf7ll2p5on1ly4at3vpd47e.htm\" style=\"color:red;\" target=\"_blank\"><strong>1. proc export</strong></a></h1><h2 style=\"color:black;\">Importación y exportación de datos</h2>\n"
      ]
    },
    {
      "cell_type": "markdown",
      "metadata": {
        "id": "s2MlgYWsqCfT"
      },
      "source": [
        "\n",
        "<h3 style=\"color:red;\">Ejemplo 1</h3><p align=\"justify\"> Exporte el conjunto de datos <strong>sashelp.stocks</strong> al archivo <strong>stocks.txt</strong> delimitado por \",\".</p>\n"
      ]
    },
    {
      "cell_type": "code",
      "execution_count": null,
      "metadata": {
        "id": "BT9Sw_NEqCfU"
      },
      "outputs": [],
      "source": [
        "\n",
        "\n",
        "proc export data=sashelp.stocks dbms=tab outfile=\"/home/hvanegasp0/Curso/stocks.txt\" replace;\n",
        "    delimiter=\",\";\n",
        "run;\n",
        "\n",
        "\n"
      ]
    },
    {
      "cell_type": "markdown",
      "metadata": {
        "id": "N-yB6LwyqCfU"
      },
      "source": [
        "\n",
        "<h3 style=\"color:red;\">Ejemplo 2</h3><p></p><p align=\"justify\"> Importe el conjunto de datos <strong>stocks.txt</strong> y llámelos <strong>stockstxt</strong>.</p>\n",
        "<h3><a href=\"https://documentation.sas.com/doc/en/pgmsascdc/9.4_3.5/leforinforref/n0verk17pchh4vn1akrrv0b5w3r0.htm\" style=\"color:red;\" target=\"_blank\"><strong>informats</strong></a></h3>\n",
        "<h3><a href=\"https://documentation.sas.com/doc/en/pgmsascdc/9.4_3.5/leforinforref/n0p2fmevfgj470n17h4k9f27qjag.htm\" style=\"color:red;\" target=\"_blank\"><strong>formats</strong></a></h3>\n"
      ]
    },
    {
      "cell_type": "code",
      "execution_count": null,
      "metadata": {
        "id": "sRT9anbyqCfU"
      },
      "outputs": [],
      "source": [
        "\n",
        "\n",
        "data stockstxt;\n",
        "    infile \"/home/hvanegasp0/Curso/stocks.txt\" dsd delimiter=\",\" firstobs=2;\n",
        "    informat Stock $10. Date date. Open High Low Close Volume AdjClose comma.;\n",
        "    format Date ddmmyy. Open High Low Close AdjClose dollar8.2 Volume comma10.0;\n",
        "    input Stock Date Open High Low Close Volume AdjClose;\n",
        "run;\n",
        "\n",
        "\n"
      ]
    },
    {
      "cell_type": "markdown",
      "metadata": {
        "id": "RHKZ-qL8qCfV"
      },
      "source": [
        "\n",
        "<h3 style=\"color:red;\">Ejemplo 3</h3><p align=\"justify\"> Exporte el conjunto de datos <strong>sashelp.stocks</strong> al archivo <strong>stocks.dat</strong> delimitado por \";\".</p>\n"
      ]
    },
    {
      "cell_type": "code",
      "execution_count": null,
      "metadata": {
        "id": "cGkqr0KnqCfV"
      },
      "outputs": [],
      "source": [
        "\n",
        "\n",
        "proc export data=sashelp.stocks dbms=dlm outfile=\"/home/hvanegasp0/Curso/stocks.dat\" replace;\n",
        "    delimiter=\";\";\n",
        "run;\n",
        "\n",
        "\n"
      ]
    },
    {
      "cell_type": "markdown",
      "metadata": {
        "id": "OUccJCgfqCfW"
      },
      "source": [
        "\n",
        "<h3 style=\"color:red;\">Ejemplo 4</h3><p align=\"justify\"> Importe el conjunto de datos <strong>stocks.dat</strong> y llámelos <strong>stocksdat</strong>.</p>\n"
      ]
    },
    {
      "cell_type": "code",
      "execution_count": null,
      "metadata": {
        "id": "RNegJzdxqCfW"
      },
      "outputs": [],
      "source": [
        "\n",
        "\n",
        "data stocksdat;\n",
        "    infile \"/home/hvanegasp0/Curso/stocks.dat\" dsd delimiter=\";\" firstobs=2;\n",
        "    informat Stock $10. Date date. Open High Low Close Volume AdjClose comma.;\n",
        "    format Date ddmmyy. Open High Low Close AdjClose dollar8.2 Volume comma10.0;\n",
        "    input Stock Date Open High Low Close Volume AdjClose;\n",
        "run;\n",
        "\n",
        "\n"
      ]
    },
    {
      "cell_type": "markdown",
      "metadata": {
        "id": "pnpHGGxhqCfW"
      },
      "source": [
        "\n",
        "<h3 style=\"color:red;\">Ejemplo 5</h3><p align=\"justify\"> Exporte el conjunto de datos <strong>sashelp.shoes</strong> al archivo shoes.csv delimitado por tabulaciones.</p>\n"
      ]
    },
    {
      "cell_type": "code",
      "execution_count": null,
      "metadata": {
        "id": "KMLr3Mx5qCfX"
      },
      "outputs": [],
      "source": [
        "\n",
        "\n",
        "proc export data=sashelp.shoes dbms=csv outfile=\"/home/hvanegasp0/Curso/shoes.csv\" replace;\n",
        "    delimiter=\"09\"x;\n",
        "run;\n",
        "\n",
        "\n"
      ]
    },
    {
      "cell_type": "markdown",
      "metadata": {
        "id": "EWCCwEjSqCfX"
      },
      "source": [
        "\n",
        "<h3 style=\"color:red;\">Ejemplo 6</h3><p align=\"justify\"> Importe el conjunto de datos <strong>shoes.csv</strong> y llámelos <strong>shoescsv</strong>.</p>\n"
      ]
    },
    {
      "cell_type": "code",
      "execution_count": null,
      "metadata": {
        "id": "MOorHLEYqCfX"
      },
      "outputs": [],
      "source": [
        "\n",
        "\n",
        "data shoescsv;\n",
        "    infile \"/home/hvanegasp0/Curso/shoes.csv\" dsd delimiter=\"09\"x firstobs=2;\n",
        "    informat Region Product Subsidiary $25. Sales Inventory Return comma10.;\n",
        "    format Sales Inventory Return dollar10.;\n",
        "    input Region Product Subsidiary Stores Sales Inventory Return;\n",
        "run;\n",
        "\n",
        "\n"
      ]
    },
    {
      "cell_type": "markdown",
      "metadata": {
        "id": "E09PeDTXqCfX"
      },
      "source": [
        "\n",
        "<h3 style=\"color:red;\">Ejemplo 7</h3><p align=\"justify\"> Exporte el conjunto de datos <strong>sashelp.shoes</strong> al archivo <strong>shoes.dlm</strong> delimitado por \"&amp;\".</p>\n"
      ]
    },
    {
      "cell_type": "code",
      "execution_count": null,
      "metadata": {
        "id": "NLhxh0ZMqCfY"
      },
      "outputs": [],
      "source": [
        "\n",
        "\n",
        "proc export data=sashelp.shoes dbms=dlm outfile=\"/home/hvanegasp0/Curso/shoes.dlm\" replace;\n",
        "    delimiter=\"&\";\n",
        "run;\n",
        "\n",
        "\n"
      ]
    },
    {
      "cell_type": "markdown",
      "metadata": {
        "id": "1dBS-RAzqCfY"
      },
      "source": [
        "\n",
        "<h3 style=\"color:red;\">Ejemplo 8</h3><p align=\"justify\"> Importe el conjunto de datos <strong>shoes.dlm</strong> y llámelos <strong>shoesdlm</strong>.</p>\n"
      ]
    },
    {
      "cell_type": "code",
      "execution_count": null,
      "metadata": {
        "id": "2g_mmfivqCfY"
      },
      "outputs": [],
      "source": [
        "\n",
        "\n",
        "data shoesdlm;\n",
        "    infile \"/home/hvanegasp0/Curso/shoes.dlm\" dsd delimiter=\"&\" firstobs=2;\n",
        "    informat Region Product Subsidiary $25. Sales Inventory Return comma10.;\n",
        "    format Sales Inventory Return dollar10.;\n",
        "    input Region Product Subsidiary Stores Sales Inventory Return;\n",
        "run;\n",
        "\n",
        "\n"
      ]
    },
    {
      "cell_type": "markdown",
      "metadata": {
        "id": "7dUHpC-PqCfY"
      },
      "source": [
        "\n",
        "<h3 style=\"color:red;\">Ejemplo 9</h3><p align=\"justify\"> Exporte el conjunto de datos <strong>sashelp.shoes</strong> a la hoja \"Zapatos\" del archivo <strong>shoes.xlsx</strong>.</p>\n"
      ]
    },
    {
      "cell_type": "code",
      "execution_count": null,
      "metadata": {
        "id": "qC7rruv_qCfY"
      },
      "outputs": [],
      "source": [
        "\n",
        "\n",
        "proc export data=sashelp.shoes dbms=xlsx outfile=\"/home/hvanegasp0/Curso/shoes.xlsx\" replace;\n",
        "    sheet=\"Zapatos\";\n",
        "run;\n",
        "\n",
        "\n"
      ]
    },
    {
      "cell_type": "markdown",
      "metadata": {
        "id": "x5L-b0RGqCfY"
      },
      "source": [
        "\n",
        "<h3 style=\"color:red;\">Ejemplo 10</h3><p align=\"justify\"> Importe el conjunto de datos en la hoja \"Zapatos\" del archivo <strong>shoes.xlsx</strong> y llámelos <strong>shoesxlsx</strong>.</p>\n"
      ]
    },
    {
      "cell_type": "code",
      "execution_count": null,
      "metadata": {
        "id": "pLgbfXNAqCfY"
      },
      "outputs": [],
      "source": [
        "\n",
        "\n",
        "proc import out=shoesxlsx dbms=xlsx datafile=d replace;\n",
        "    getnames=yes;\n",
        "    sheet=\"Zapatos\";\n",
        "run;\n",
        "\n",
        "\n"
      ]
    },
    {
      "cell_type": "markdown",
      "metadata": {
        "id": "J5i5Pgw_qCfZ"
      },
      "source": [
        "\n",
        "<h3 style=\"color:red;\">Ejemplo 11</h3><p align=\"justify\"> El archivo <a href=\"https://users.stat.ufl.edu/~winner/data/ukcars.dat\" style=\"color:red;\" target=\"_blank\"><strong>ukcars.dat</strong></a> contiene la producción mensual de vehículos comerciales y de pasajeros en el Reino Unido desde enero de 1997 hasta septiembre de 2004. Importe los datos de acuerdo a la descripción de los mismos que se hace en <a href=\"https://users.stat.ufl.edu/~winner/data/ukcars.txt\" style=\"color:red;\" target=\"_blank\"><strong>ukcars</strong></a>.</p>\n"
      ]
    },
    {
      "cell_type": "code",
      "execution_count": null,
      "metadata": {
        "id": "PjQrh1NqqCfZ"
      },
      "outputs": [],
      "source": [
        "\n",
        "\n",
        "data ukcars;\n",
        "    infile \"http://users.stat.ufl.edu/~winner/data/ukcars.dat\" dsd;\n",
        "    format Commercial Passengers comma10.;\n",
        "    input Year 5. Month $6. Commercial 7. Passengers 6.;\n",
        "run;\n",
        "\n",
        "\n"
      ]
    },
    {
      "cell_type": "markdown",
      "metadata": {
        "id": "tzT5LR2PqCfZ"
      },
      "source": [
        "\n",
        "<h3 style=\"color:red;\">Ejemplo 12</h3><p align=\"justify\"> El archivo <a href=\"https://users.stat.ufl.edu/~winner/data/grunfeld.dat\" style=\"color:red;\" target=\"_blank\"><strong>grunfeld.dat</strong></a> contiene la inversión, cotización y total de capital para 10 firmas en el periodo comprendido entre 1935 y 1954. Importe los datos de acuerdo a la descripción de los mismos que se hace en <a href=\"https://users.stat.ufl.edu/~winner/data/grunfeld.txt\" style=\"color:red;\" target=\"_blank\"><strong>grunfeld</strong></a>.</p>\n"
      ]
    },
    {
      "cell_type": "code",
      "execution_count": null,
      "metadata": {
        "id": "2r4ebHavqCfZ"
      },
      "outputs": [],
      "source": [
        "\n",
        "\n",
        "data grunfeld;\n",
        "    infile \"http://users.stat.ufl.edu/~winner/data/grunfeld.dat\" dsd;\n",
        "    format Investment Value Capital comma10.;\n",
        "    input Firm $20. Year 5. Investment 8. Value 9. Capital 7.;\n",
        "run;\n",
        "\n",
        "\n"
      ]
    },
    {
      "cell_type": "markdown",
      "metadata": {
        "id": "aTZK2LltqCfZ"
      },
      "source": [
        "\n",
        "<h1><a href=\"https://documentation.sas.com/doc/en/pgmsascdc/9.4_3.5/proc/p10qiuo2yicr4qn17rav8kptnjpu.htm\" style=\"color:red;\" target=\"_blank\"><strong>2. proc print</strong></a></h1>\n"
      ]
    },
    {
      "cell_type": "markdown",
      "metadata": {
        "id": "98llX7RPqCfZ"
      },
      "source": [
        "\n",
        "<h3 style=\"color:red;\">Ejemplo 1</h3><p align=\"justify\"> Muestre las variables <i>Species</i>, <i>SepalLength</i> y <i>PetalWidth</i> del conjunto de datos <strong>sashelp.iris</strong>.</p>\n"
      ]
    },
    {
      "cell_type": "code",
      "execution_count": null,
      "metadata": {
        "id": "fz6xFS-oqCfZ"
      },
      "outputs": [],
      "source": [
        "\n",
        "\n",
        "proc print data=sashelp.iris noobs;\n",
        "    var Species SepalLength PetalWidth;\n",
        "run;\n",
        "\n",
        "\n"
      ]
    },
    {
      "cell_type": "markdown",
      "metadata": {
        "id": "eK-FyEOuqCfa"
      },
      "source": [
        "\n",
        "<h3 style=\"color:red;\">Ejemplo 2</h3><p align=\"justify\"> Muestre las variables <i>Species</i>, <i>SepalLength</i>, <i>SepalWidth</i>, <i>PetalLength</i> y <i>PetalWidth</i> del conjunto de datos sashelp.iris para las especies \"Setosa\" y \"Versicolor\" cuando <i>PetalLength</i> es menor que 40.</p>\n"
      ]
    },
    {
      "cell_type": "code",
      "execution_count": null,
      "metadata": {
        "id": "A_15cySaqCfa"
      },
      "outputs": [],
      "source": [
        "\n",
        "\n",
        "proc print data=sashelp.iris noobs;\n",
        "    var Species SepalLength SepalWidth PetalLength PetalWidth;\n",
        "    where Species in (\"Setosa\",\"Versicolor\") and PetalLength < 40;\n",
        "run;\n",
        "\n",
        "\n"
      ]
    },
    {
      "cell_type": "markdown",
      "metadata": {
        "id": "xvJL6dttqCfa"
      },
      "source": [
        "\n",
        "<h3 style=\"color:red;\">Ejemplo 3</h3><p align=\"justify\"> Muestre todas las variables y las primeras 10 filas del conjunto de datos <strong>sashelp.iris</strong> para la especie \"Virginica\".</p>\n"
      ]
    },
    {
      "cell_type": "code",
      "execution_count": null,
      "metadata": {
        "id": "d939bF-LqCfa"
      },
      "outputs": [],
      "source": [
        "\n",
        "\n",
        "proc print data=sashelp.iris (firstobs=1 obs=10) noobs;\n",
        "    var Species SepalLength SepalWidth PetalLength PetalWidth;\n",
        "    where Species=\"Virginica\";\n",
        "run;\n",
        "\n",
        "\n"
      ]
    },
    {
      "cell_type": "markdown",
      "metadata": {
        "id": "OzwCUciUqCfa"
      },
      "source": [
        "\n",
        "<h3 style=\"color:red;\">Ejemplo 4</h3><p align=\"justify\"> Muestre todas las variables y las filas de la 20 a la 30 del conjunto de datos <strong>sashelp.iris</strong> para la especie \"Versicolor\".</p>\n"
      ]
    },
    {
      "cell_type": "code",
      "execution_count": null,
      "metadata": {
        "id": "JMAuvXZrqCfb"
      },
      "outputs": [],
      "source": [
        "\n",
        "\n",
        "proc print data=sashelp.iris (firstobs=20 obs=30) noobs;\n",
        "    where Species=\"Versicolor\";\n",
        "run;\n",
        "\n",
        "\n"
      ]
    },
    {
      "cell_type": "code",
      "execution_count": null,
      "metadata": {
        "id": "n-uFAaIaqCfb"
      },
      "outputs": [],
      "source": [
        "\n",
        "\n",
        "proc print data=sashelp.iris noobs;\n",
        "    var Species SepalLength SepalWidth PetalLength PetalWidth;\n",
        "    where Species in (\"Setosa\",\"Versicolor\") and PetalLength < 40;\n",
        "run;\n",
        "\n",
        "\n"
      ]
    },
    {
      "cell_type": "markdown",
      "metadata": {
        "id": "CkaNiNXkqCfb"
      },
      "source": [
        "\n",
        "<h3><a href=\"https://documentation.sas.com/doc/en/pgmsascdc/9.4_3.5/proc/n18jyszn33umngn14czw2qfw7thc.htm\" style=\"color:red;\" target=\"_blank\"><strong>proc import</strong></a></h3>\n"
      ]
    },
    {
      "cell_type": "code",
      "execution_count": null,
      "metadata": {
        "id": "_doa5FKzqCfb"
      },
      "outputs": [],
      "source": [
        "\n",
        "\n",
        "proc import datafile=\"/home/hvanegasp0/Curso/Municipios.xlsx\" dbms=xlsx out=Municipios replace;\n",
        "    getnames=yes;\n",
        "run;\n",
        "\n",
        "proc contents data=Municipios varnum;\n",
        "run;\n",
        "\n",
        "proc print data=Municipios (obs=10) noobs;\n",
        "run;\n",
        "\n",
        "\n"
      ]
    },
    {
      "cell_type": "markdown",
      "metadata": {
        "id": "XGiaCyIvqCfc"
      },
      "source": [
        "\n",
        "<h1 style=\"color:red;\">3. data step </h1><h2 style=\"color:black;\">Creación, modificación y eliminación de variables/columnas</h2>\n",
        "<h2 style=\"color:black;\">Selección de registros/filas</h2>\n"
      ]
    },
    {
      "cell_type": "markdown",
      "metadata": {
        "id": "Lggu_7sSqCfc"
      },
      "source": [
        "\n",
        "<h3><a href=\"https://documentation.sas.com/doc/en/pgmsascdc/9.4_3.5/lrcon/p00iah2thp63bmn1lt20esag14lh.htm#n1feyypdf6czp4n15pthf5lafmlf\" style=\"color:red;\" target=\"_blank\"><strong>Operadores aritméticos</strong></a></h3>\n",
        "<h3><a href=\"https://documentation.sas.com/doc/en/pgmsascdc/9.4_3.5/lrcon/p00iah2thp63bmn1lt20esag14lh.htm#n10lfrm906gpv7n1t7fue0g1ayqz\" style=\"color:red;\" target=\"_blank\"><strong>Operadores de comparación</strong></a></h3>\n",
        "<h3><a href=\"https://documentation.sas.com/doc/en/pgmsascdc/9.4_3.5/lrcon/p00iah2thp63bmn1lt20esag14lh.htm#n19ojrq5dkxpd6n14egp2a3oz0up\" style=\"color:red;\" target=\"_blank\"><strong>Operadores lógicos</strong></a></h3>\n",
        "<h3><a href=\"https://documentation.sas.com/doc/en/pgmsascdc/9.4_3.5/lefunctionsref/n01f5qrjoh9h4hn1olbdpb5pr2td.htm\" style=\"color:red;\" target=\"_blank\"><strong>Funciones</strong></a></h3>\n"
      ]
    },
    {
      "cell_type": "markdown",
      "metadata": {
        "id": "K3_nB8FaqCfc"
      },
      "source": [
        "\n",
        "<h3 style=\"color:red;\">Ejemplo 1</h3><p></p><p align=\"justify\"> Cuales variables del conjunto de datos Municipios tienen valores perdidos o missings? </p>\n",
        "<h3><a href=\"https://documentation.sas.com/doc/en/vdmmlcdc/8.1/lestmtsref/p1s3uhhqtscz2sn1otiatbovfn1t.htm\" style=\"color:red;\" target=\"_blank\"><strong>%include</strong></a></h3>\n"
      ]
    },
    {
      "cell_type": "code",
      "execution_count": null,
      "metadata": {
        "id": "c55IDkW_qCfc"
      },
      "outputs": [],
      "source": [
        "\n",
        "\n",
        "%include \"/home/hvanegasp0/Curso/mismacros.sas\";\n",
        "%missings(Municipios);\n",
        "\n",
        "\n"
      ]
    },
    {
      "cell_type": "markdown",
      "metadata": {
        "id": "WsYZ5VxVqCfc"
      },
      "source": [
        "\n",
        "<h3 style=\"color:red;\">Ejemplo 2</h3><p align=\"justify\"> Se hace \"limpieza\" en los nombres de los municipios, es decir, </p><ul>\n",
        "<li><p align=\"justify\"> Se eliminan caracteres especiales.</p></li>\n",
        "<li><p align=\"justify\"> Se eliminan espacios al inicio y al final.</p></li>\n",
        "<li><p align=\"justify\"> Se reemplazan espacios múltiples por sencillos.</p></li>\n",
        "<li><p></p><p align=\"justify\"> Se escriben en letras minúsculas excepto en la inicial de cada palabra.</p>\n",
        "<h3><a href=\"https://documentation.sas.com/doc/en/pgmsascdc/9.4_3.5/lefunctionsref/n0rrwqm16uiv4vn1t0jj0jvidgao.htm\" style=\"color:red;\" target=\"_blank\"><strong>lowcase</strong></a></h3>\n",
        "<h3><a href=\"https://documentation.sas.com/doc/en/pgmsascdc/9.4_3.5/lefunctionsref/p1si0i16bcqti7n1jxxxe1hstunq.htm\" style=\"color:red;\" target=\"_blank\"><strong>compbl</strong></a></h3>\n",
        "<h3><a href=\"https://documentation.sas.com/doc/en/pgmsascdc/9.4_3.5/lefunctionsref/n0fcshr0ir3h73n1b845c4aq58hz.htm\" style=\"color:red;\" target=\"_blank\"><strong>compress</strong></a></h3>\n",
        "<h3><a href=\"https://documentation.sas.com/doc/en/pgmsascdc/9.4_3.5/lefunctionsref/n0xk6tl87f4b4qn1sp1ywen1ntan.htm\" style=\"color:red;\" target=\"_blank\"><strong>strip</strong></a></h3>\n",
        "<h3><a href=\"https://documentation.sas.com/doc/en/pgmsascdc/9.4_3.5/lefunctionsref/n169kj2of5nur0n1bl1hubv55q63.htm\" style=\"color:red;\" target=\"_blank\"><strong>propcase</strong></a></h3></li>\n",
        "</ul>\n"
      ]
    },
    {
      "cell_type": "code",
      "execution_count": null,
      "metadata": {
        "id": "b14ulG9_qCfd"
      },
      "outputs": [],
      "source": [
        "\n",
        "\n",
        "data Municipios;\n",
        "set Municipios;\n",
        "    Municipio2 = lowcase(Municipio);\n",
        "    Municipio2 = compress(Municipio2,\"abcdefghijklmnopqrstuvwxyzáéíóúüñ \",\"k\");\n",
        "    Municipio2 = strip(Municipio2);\n",
        "    Municipio2 = compbl(Municipio2);\n",
        "    Municipio2 = propcase(Municipio2);\n",
        "run;\n",
        "\n",
        "proc print data=Municipios (obs=10) noobs;\n",
        "    var Municipio Municipio2;\n",
        "run;\n",
        "\n",
        "data Municipios;\n",
        "set Municipios;\n",
        "    Municipio = Municipio2;\n",
        "    drop Municipio2;\n",
        "run;\n",
        "\n",
        "\n"
      ]
    },
    {
      "cell_type": "markdown",
      "metadata": {
        "id": "WsteisH8qCfd"
      },
      "source": [
        "\n",
        "<h3 style=\"color:red;\">Ejemplo 3</h3><p align=\"justify\"> Se hace \"limpieza\" en los nombres de los departamentos, es decir, </p><ul>\n",
        "<li><p align=\"justify\"> Se eliminan caracteres especiales.</p></li>\n",
        "<li><p align=\"justify\"> Se eliminan espacios al inicio y al final.</p></li>\n",
        "<li><p align=\"justify\"> Se reemplazan espacios múltiples por sencillos.</p></li>\n",
        "<li><p align=\"justify\"> Se escriben en letras minúsculas excepto en la inicial de cada palabra.</p></li>\n",
        "</ul>\n"
      ]
    },
    {
      "cell_type": "code",
      "execution_count": null,
      "metadata": {
        "id": "0G_5bXB-qCfd"
      },
      "outputs": [],
      "source": [
        "\n",
        "\n",
        "data Municipios;\n",
        "set Municipios;\n",
        "    Departamento2 = lowcase(Departamento);\n",
        "    Departamento2 = compress(Departamento2,\"abcdefghijklmnopqrstuvwxyzáéíóúüñ \",\"k\");\n",
        "    Departamento2 = strip(Departamento2);\n",
        "    Departamento2 = compbl(Departamento2);\n",
        "    Departamento2 = propcase(Departamento2);\n",
        "run;\n",
        "\n",
        "proc print data=Municipios (obs=10) noobs;\n",
        "    var Departamento Departamento2;\n",
        "run;\n",
        "\n",
        "data Municipios;\n",
        "set Municipios;\n",
        "    Departamento = Departamento2;\n",
        "    drop Departamento2;\n",
        "run;\n",
        "\n",
        "\n"
      ]
    },
    {
      "cell_type": "markdown",
      "metadata": {
        "id": "hpiHkW5IqCfd"
      },
      "source": [
        "\n",
        "<h3 style=\"color:red;\">Ejemplo 4</h3><p align=\"justify\"> Se hace \"limpieza\" en los nombres de las regiones, es decir, </p><ul>\n",
        "<li><p align=\"justify\"> Se eliminan caracteres especiales.</p></li>\n",
        "<li><p align=\"justify\"> Se eliminan espacios al inicio y al final.</p></li>\n",
        "<li><p align=\"justify\"> Se reemplazan espacios múltiples por sencillos.</p></li>\n",
        "<li><p align=\"justify\"> Se escriben en letras minúsculas excepto en la inicial de cada palabra.</p></li>\n",
        "</ul>\n"
      ]
    },
    {
      "cell_type": "code",
      "execution_count": null,
      "metadata": {
        "id": "r4apB9ZfqCfd"
      },
      "outputs": [],
      "source": [
        "\n",
        "\n",
        "data Municipios;\n",
        "set Municipios;\n",
        "    Region = lowcase(Region);\n",
        "    Region = compress(Region,\"abcdefghijklmnopqrstuvwxyzáéíóúüñ \",\"k\");\n",
        "    Region = strip(Region);\n",
        "    Region = compbl(Region);\n",
        "    Region = propcase(Region);\n",
        "run;\n",
        "\n",
        "\n"
      ]
    },
    {
      "cell_type": "markdown",
      "metadata": {
        "id": "cmySnR77qCfe"
      },
      "source": [
        "\n",
        "<h3 style=\"color:red;\">Ejemplo 5</h3><p></p><p align=\"justify\"> Se crea la variable <i>Tipo</i> igual a: <i>(i)</i> \"Capital\" para la capital de cada departamento; y <i>(ii)</i> \"Otro\" para el resto de los municipios. </p>\n",
        "<h3><a href=\"https://documentation.sas.com/doc/en/pgmsascdc/9.4_3.5/lestmtsref/n1j60arf27ll4nn1ejavv3nby4pa.htm\" style=\"color:red;\" target=\"_blank\"><strong>if-then/else</strong></a></h3>\n",
        "<h3><a href=\"https://documentation.sas.com/doc/en/pgmsascdc/9.4_3.5/lefunctionsref/n1e21rr6al5m2nn19r1fat5qxwrt.htm\" style=\"color:red;\" target=\"_blank\"><strong>cats</strong></a></h3>\n",
        "<h3><a href=\"https://documentation.sas.com/doc/en/pgmsascdc/9.4_3.5/lefunctionsref/p0wqoixcwtx2jqn1ovqf06kart0o.htm\" style=\"color:red;\" target=\"_blank\"><strong>substrn</strong></a></h3>\n"
      ]
    },
    {
      "cell_type": "code",
      "execution_count": null,
      "metadata": {
        "id": "COBHccOlqCfe"
      },
      "outputs": [],
      "source": [
        "\n",
        "\n",
        "data Municipios2;\n",
        "set Municipios;\n",
        "    if substrn(Depmun,3,3) = \"001\" then Tipo = \"Capital\";\n",
        "    else Tipo = \"Otro\";\n",
        "    if Depmun=\"25001\" then Tipo = \"Otro\";\n",
        "run;\n",
        "\n",
        "data Municipios3;\n",
        "set Municipios;\n",
        "    if Depmun = cats(Dep,\"001\") then Tipo = \"Capital\";\n",
        "    else Tipo = \"Otro\";\n",
        "    if Depmun=\"25001\" then Tipo = \"Otro\";\n",
        "run;\n",
        "\n",
        "proc compare base=Municipios2 compare=Municipios3;\n",
        "run;\n",
        "\n",
        "data Municipios;\n",
        "set Municipios2;\n",
        "run;\n",
        "\n",
        "proc print data=Municipios (obs=10) noobs;\n",
        "    var Dep Departamento Depmun Municipio Tipo;\n",
        "    where Tipo=\"Capital\";\n",
        "run;\n",
        "\n",
        "\n"
      ]
    },
    {
      "cell_type": "markdown",
      "metadata": {
        "id": "wHpX1XbJqCfe"
      },
      "source": [
        "\n",
        "<h3 style=\"color:red;\">Ejemplo 6</h3><p align=\"justify\"> Se crea la variable <i>denspobl</i> definida como el cociente entre <i>Poblacion</i> y <i>Superficie</i>. Se crea también la variable <i>Zona</i> definida como: <i>(i)</i> \"Urbano\" cuando <i>Irural</i> $ <= 40$; y <i>(ii)</i> \"Rural\" cuando <i>Irural</i> $ > 40$. </p>\n"
      ]
    },
    {
      "cell_type": "code",
      "execution_count": null,
      "metadata": {
        "id": "_nWLOm_7qCfe"
      },
      "outputs": [],
      "source": [
        "\n",
        "\n",
        "data Municipios;\n",
        "set Municipios;\n",
        "    Denspobl = Poblacion/Superficie;\n",
        "    if Irural >= 40 then Zona = \"Rural\";\n",
        "    else Zona = \"Urbano\"; \n",
        "run;\n",
        "\n",
        "\n"
      ]
    },
    {
      "cell_type": "markdown",
      "metadata": {
        "id": "YWFKPaxGqCff"
      },
      "source": [
        "\n",
        "<h3><strong><a href=\"https://documentation.sas.com/doc/en/pgmsascdc/9.4_3.2/lefunctionsref/p0s9ilagexmjl8n1u7e1t1jfnzlk.htm\" style=\"color:red;\" target=\"_blank\">Expresiones regulares</a></strong></h3>\n",
        "<h3><strong><a href=\"https://documentation.sas.com/doc/en/pgmsascdc/9.4_3.2/lefunctionsref/n0bj9p4401w3n9n1gmv6tfshit9m.htm\" style=\"color:red;\" target=\"_blank\">prxmatch</a></strong></h3>\n"
      ]
    },
    {
      "cell_type": "markdown",
      "metadata": {
        "id": "rWLfEHIfqCff"
      },
      "source": [
        "\n",
        "<h3 style=\"color:red;\">Ejemplo 7</h3><p align=\"justify\"> Conjunto de datos con las variables <i>Departamento</i>, <i>Depmun</i> y <i>Municipio</i>, y con todos los municipios cuyo nombre incluye el nombre de un santo, por ejemplo, Santa Marta, Santo Tomás, San José y Valle de San Jacinto.</p>\n"
      ]
    },
    {
      "cell_type": "code",
      "execution_count": null,
      "metadata": {
        "id": "25Z4HICzqCff"
      },
      "outputs": [],
      "source": [
        "\n",
        "\n",
        "data sintildes;\n",
        "set CursoSAS.Municipios;\n",
        "    Municipio2 = ktranslate(lowcase(Municipio),\"aeiou\",\"áéíóú\");\n",
        "    largo = length(strip(Municipio2));\n",
        "run;\n",
        "\n",
        "data Santos;\n",
        "set sintildes;\n",
        "    where prxmatch('/(^| )san( |ta |to )/',strip(Municipio2));\n",
        "    keep Departamento Depmun Municipio;      \n",
        "run;\n",
        "\n",
        "proc print data=Santos noobs;\n",
        "run;\n",
        "\n",
        "\n"
      ]
    },
    {
      "cell_type": "markdown",
      "metadata": {
        "id": "5aLZICsRqCff"
      },
      "source": [
        "\n",
        "<h3 style=\"color:red;\">Ejemplo 8</h3><p align=\"justify\"> Conjunto de datos con las variables <i>Departamento</i>, <i>Depmun</i> y <i>Municipio</i>, y con todos los municipios cuyos nombres inician y terminan con la misma vocal.</p>\n"
      ]
    },
    {
      "cell_type": "code",
      "execution_count": null,
      "metadata": {
        "id": "2H7zWztMqCff"
      },
      "outputs": [],
      "source": [
        "\n",
        "\n",
        "data Vocales;\n",
        "set sintildes;\n",
        "    where prxmatch('/(^a.*a$)|(^e.*e$)|(^i.*i$)|(^o.*o$)|(^u.*u$)/',strip(Municipio2));\n",
        "    keep Dep Departamento Depmun Municipio;      \n",
        "run;\n",
        "\n",
        "data Vocales2;\n",
        "set sintildes;\n",
        "    where substr(strip(Municipio2),1,1)=substr(strip(Municipio2),largo,1)\n",
        "          and substr(strip(Municipio2),1,1) in (\"a\",\"e\",\"i\",\"o\",\"u\");\n",
        "    keep Dep Departamento Depmun Municipio;      \n",
        "run;\n",
        "\n",
        "proc compare base=Vocales compare=Vocales2;\n",
        "run;\n",
        "\n",
        "\n"
      ]
    },
    {
      "cell_type": "markdown",
      "metadata": {
        "id": "GWcx9ykkqCff"
      },
      "source": [
        "\n",
        "<h3 style=\"color:red;\">Ejemplo 9</h3><p align=\"justify\"> Conjunto de datos con todos los municipios cuyos nombres inician y terminan con la misma consonante.</p>\n"
      ]
    },
    {
      "cell_type": "code",
      "execution_count": null,
      "metadata": {
        "id": "gzpm5PbpqCfg"
      },
      "outputs": [],
      "source": [
        "\n",
        "\n",
        "data Consonantes;\n",
        "set sintildes;\n",
        "    where substrn(strip(Municipio2),1,1)=substrn(strip(Municipio2),largo,1)\n",
        "          and substrn(strip(Municipio2),1,1) not in (\"a\",\"e\",\"i\",\"o\",\"u\");\n",
        "    keep Dep Departamento Depmun Municipio;      \n",
        "run;\n",
        "\n",
        "proc print data=Consonantes noobs;\n",
        "    var Dep Departamento Depmun Municipio;\n",
        "run;\n",
        "\n",
        "\n"
      ]
    },
    {
      "cell_type": "markdown",
      "metadata": {
        "id": "_cag8JPsqCfg"
      },
      "source": [
        "\n",
        "<h3 style=\"color:red;\">Ejemplo 10</h3><p align=\"justify\"> Conjunto de datos con todas las variables excepto <i>Poblacion</i>, <i>Superficie</i> y <i>Irural</i>, y con todos los municipios cuyos nombres tienen \"A\" como primera letra y \"e\" como cuarta letra.</p>\n"
      ]
    },
    {
      "cell_type": "code",
      "execution_count": null,
      "metadata": {
        "id": "--zGttfxqCfg"
      },
      "outputs": [],
      "source": [
        "\n",
        "\n",
        "data Aes;\n",
        "set sintildes;\n",
        "    where prxmatch('/^a.{2}e/',strip(Municipio2));\n",
        "    drop Poblacion Superficie Irural;\n",
        "run;\n",
        "\n",
        "proc print data=Aes noobs;\n",
        "    var Dep Departamento Depmun Municipio;\n",
        "run;\n",
        "\n",
        "\n"
      ]
    },
    {
      "cell_type": "markdown",
      "metadata": {
        "id": "MZxjXWBfqCfg"
      },
      "source": [
        "\n",
        "<h3 style=\"color:red;\">Ejemplo 11</h3><p align=\"justify\"> Se crea la libreria llamada <i>CursoSAS</i> y se guarda en ella el conjunto de datos <i>Municipios</i>.</p>\n"
      ]
    },
    {
      "cell_type": "markdown",
      "metadata": {
        "id": "1Vx1HHo8qCfg"
      },
      "source": [
        "\n",
        "<h3><strong><a href=\"https://documentation.sas.com/doc/en/pgmsascdc/9.4_3.5/lestmtsglobal/n1nk65k2vsfmxfn1wu17fntzszbp.htm\" style=\"color:red;\" target=\"_blank\">libname</a></strong></h3>\n",
        "<h3><strong><a href=\"https://documentation.sas.com/doc/en/pgmsascdc/9.4_3.5/proc/p0xdkenol7pi1cn14p0iq38shax4.htm\" style=\"color:red;\" target=\"_blank\">proc datasets</a></strong></h3>\n"
      ]
    },
    {
      "cell_type": "code",
      "execution_count": null,
      "metadata": {
        "id": "8H3zXOkkqCfg"
      },
      "outputs": [],
      "source": [
        "\n",
        "\n",
        "libname CursoSAS \"/home/hvanegasp0/Curso/\";\n",
        "\n",
        "data CursoSAS.Municipios;\n",
        "set Municipios;\n",
        "run;\n",
        "\n",
        "proc datasets library=CursoSAS memtype=data;\n",
        "run;\n",
        "\n",
        "\n"
      ]
    },
    {
      "cell_type": "markdown",
      "metadata": {
        "id": "GaUGWU_YqCfg"
      },
      "source": [
        "\n",
        "<h3 style=\"color:red;\">Ejemplo 12</h3><p align=\"justify\"> Se eliminan de la libreria <i>Work</i> los conjuntos de datos <i>Municipios</i>, <i>Municipios2</i> y <i>Municipios3</i>.</p>\n"
      ]
    },
    {
      "cell_type": "code",
      "execution_count": null,
      "metadata": {
        "id": "cqgQ_hSSqCfh"
      },
      "outputs": [],
      "source": [
        "\n",
        "\n",
        "proc datasets library=Work memtype=data;\n",
        "run;\n",
        "\n",
        "proc datasets library=Work memtype=data;\n",
        "    delete Municipios Municipios2 Municipios3;\n",
        "run;\n",
        "\n",
        "proc datasets library=Work memtype=data;\n",
        "run;\n",
        "\n",
        "\n"
      ]
    },
    {
      "cell_type": "markdown",
      "metadata": {
        "id": "WZ0dmF4sqCfh"
      },
      "source": [
        "\n",
        "<h3 style=\"color:black;\"><strong>Unión vertical de conjuntos de datos</strong></h3>\n"
      ]
    },
    {
      "cell_type": "code",
      "execution_count": null,
      "metadata": {
        "id": "1wypUYaxqCfh"
      },
      "outputs": [],
      "source": [
        "\n",
        "\n",
        "data ds1;\n",
        "input age name$;\n",
        "cards;\n",
        "32 Messi\n",
        "35 Cr7\n",
        "59 Maradona\n",
        "79 Pele\n",
        ";\n",
        "run;\n",
        "\n",
        "proc print data=ds1 noobs;\n",
        "run;\n",
        "\n",
        "data ds2;\n",
        "input year name$;\n",
        "cards;\n",
        "1947 Cruyf\n",
        "1976 Ronaldo\n",
        "1972 Zidane\n",
        ";\n",
        "run;\n",
        "\n",
        "proc print data=ds2 noobs;\n",
        "run;\n",
        "\n",
        "\n"
      ]
    },
    {
      "cell_type": "code",
      "execution_count": null,
      "metadata": {
        "id": "giprfJzPqCfh"
      },
      "outputs": [],
      "source": [
        "\n",
        "\n",
        "data uv1;\n",
        "set ds1 ds2;\n",
        "run;\n",
        "\n",
        "proc print data=uv1 noobs;\n",
        "run;\n",
        "\n",
        "data uv2;\n",
        "set ds2 ds1;\n",
        "run;\n",
        "\n",
        "proc print data=uv2 noobs;\n",
        "run;\n",
        "\n",
        "\n"
      ]
    },
    {
      "cell_type": "markdown",
      "metadata": {
        "id": "i1VFt_7dqCfh"
      },
      "source": [
        "\n",
        "<h3 style=\"color:black;\"><strong>Unión horizontal de conjuntos de datos</strong></h3>\n"
      ]
    },
    {
      "cell_type": "code",
      "execution_count": null,
      "metadata": {
        "id": "gy8tXAkiqCfh"
      },
      "outputs": [],
      "source": [
        "\n",
        "\n",
        "data uh1;\n",
        "set ds1;\n",
        "set ds2;\n",
        "run;\n",
        "\n",
        "proc print data=uh1 noobs;\n",
        "run;\n",
        "\n",
        "data uh2;\n",
        "set ds2;\n",
        "set ds1;\n",
        "run;\n",
        "\n",
        "proc print data=uh2 noobs;\n",
        "run;\n",
        "\n",
        "\n"
      ]
    },
    {
      "cell_type": "markdown",
      "metadata": {
        "id": "g9GSnxfiqCfi"
      },
      "source": [
        "\n",
        "<h3 style=\"color:red;\">Ejemplo 13</h3><p align=\"justify\"> Unión vertical de las filas 11 a 20 del conjunto de datos <i>sashelp.prdsal2</i> con las filas 111 a 120 del conjunto de datos <i>sashelp.prdsal3</i>.</p>\n"
      ]
    },
    {
      "cell_type": "code",
      "execution_count": null,
      "metadata": {
        "id": "6fXwX3UNqCfi"
      },
      "outputs": [],
      "source": [
        "\n",
        "\n",
        "data prdsal2;\n",
        "set sashelp.prdsal2;\n",
        "    where _n_ > 10 and _n_ <= 20;\n",
        "run;\n",
        "\n",
        "data prdsal3;\n",
        "set sashelp.prdsal3;\n",
        "    where _n_ > 110 and _n_ <= 120;\n",
        "run;\n",
        "\n",
        "data prdsal;\n",
        "set prdsal2 prdsal3;\n",
        "run;\n",
        "\n",
        "proc print data=prdsal noobs;\n",
        "run;\n",
        "\n",
        "\n"
      ]
    },
    {
      "cell_type": "markdown",
      "metadata": {
        "id": "BLMC-IBMqCfi"
      },
      "source": [
        "\n",
        "<h3 style=\"color:red;\">Ejemplo 14</h3><p align=\"justify\"> Unión horizontal de los conjunto de datos <i>nvst1</i>, <i>nvst2</i>, <i>nvst3</i>, <i>nvst4</i> y <i>nvst5</i> de la libreria <i>sashelp</i>.</p>\n"
      ]
    },
    {
      "cell_type": "code",
      "execution_count": null,
      "metadata": {
        "id": "HObCF-5JqCfi"
      },
      "outputs": [],
      "source": [
        "\n",
        "\n",
        "data nvst;\n",
        "set sashelp.nvst1 (rename=(amount=amount1));\n",
        "set sashelp.nvst2 (rename=(amount=amount2));\n",
        "set sashelp.nvst3 (rename=(amount=amount3));\n",
        "set sashelp.nvst4 (rename=(amount=amount4));\n",
        "set sashelp.nvst5 (rename=(amount=amount5));\n",
        "run;\n",
        "\n",
        "proc print data=nvst noobs;\n",
        "run;\n",
        "\n",
        "\n"
      ]
    },
    {
      "cell_type": "markdown",
      "metadata": {
        "id": "sh2mzYXOqCfi"
      },
      "source": [
        "\n",
        "<h1><a style=\"color:red;\">Ejercicio: sashelp.cars</a></h1><ul>\n",
        "<li><p align=\"justify\"> Para pronosticar el rendimiento, en millas por galón, de los vehículos cuando transitan por grandes autopistas se usa con frecuencia la siguiente fórmula:</p>\n",
        "$$\\frac{16850}{{\\rm Horsepower}^{0.1278}{\\rm Weight}^{0.7081}}$$\n",
        "<p align=\"justify\"> Cuales son los 5 vehículos en los que la fórmula anterior arroja las mayores sobreestimaciones relativas? Cuales son los 5 vehículos en los que la fórmula anterior arroja las mayores subestimaciones absolutas?</p></li>\n",
        "<li><p align=\"justify\"> Cree un conjunto de datos solamente con información sobre fabricante, modelo, origen, peso, caballos de fuerza y rendimiento en grandes autopistas, que incluya solamente los vehículos fabricados por Hyundai de modelos Accent, Elantra o Sonata, y en el que exista una variable definida como \"High\" para los vehículos cuyo peso es mayor a 1.2 toneladas y \"Low\" para los demás.</p></li>\n",
        "</ul>\n"
      ]
    },
    {
      "cell_type": "markdown",
      "metadata": {
        "id": "ZoCYXrZkqCfj"
      },
      "source": [
        "\n",
        "<h1><a href=\"https://documentation.sas.com/doc/en/pgmsascdc/9.4_3.5/proc/p02bhn81rn4u64n1b6l00ftdnxge.htm\" style=\"color:red;\" target=\"_blank\">4. proc sort</a></h1><h2 style=\"color:black;\">Ordenando conjuntos de datos</h2>\n"
      ]
    },
    {
      "cell_type": "markdown",
      "metadata": {
        "id": "8JINdGGJqCfj"
      },
      "source": [
        "\n",
        "<h3 style=\"color:red;\">Ejemplo 1</h3><p align=\"justify\"> Se ordena el conjunto de datos <i>CursoSAS.Municipios</i> por <i>Region</i> (alfabéticamente), <i>Dep</i> (alfanuméricamente), <i>Zona</i> (alfabéticamente) y <i>Poblacion</i> (de mayor a menor).</p>\n"
      ]
    },
    {
      "cell_type": "code",
      "execution_count": null,
      "metadata": {
        "id": "owiTCqmhqCfj"
      },
      "outputs": [],
      "source": [
        "\n",
        "\n",
        "proc sort data=CursoSAS.Municipios;\n",
        "    by Region Dep Zona descending Poblacion;\n",
        "run;\n",
        "\n",
        "\n"
      ]
    },
    {
      "cell_type": "markdown",
      "metadata": {
        "id": "FmvtRyZHqCfj"
      },
      "source": [
        "\n",
        "<h3 style=\"color:red;\">Ejemplo 2</h3><p align=\"justify\"> Cuales son los 5 municipios rurales con mayor superficie en la region Centro Oriente?</p>\n"
      ]
    },
    {
      "cell_type": "code",
      "execution_count": null,
      "metadata": {
        "id": "U8nSVW_pqCfj"
      },
      "outputs": [],
      "source": [
        "\n",
        "\n",
        "proc sort data=CursoSAS.Municipios;\n",
        "    by descending Superficie;\n",
        "run;\n",
        "\n",
        "title \"Municipios rurales con mayor superficie en la Región Centro Oriente\";\n",
        "proc print data=CursoSAS.Municipios (obs=5) noobs;\n",
        "    var Departamento Dep Municipio Superficie;\n",
        "    where Region=\"Región Centro Oriente\" and Zona=\"Rural\";\n",
        "run;\n",
        "\n",
        "\n"
      ]
    },
    {
      "cell_type": "markdown",
      "metadata": {
        "id": "99rD_9xoqCfj"
      },
      "source": [
        "\n",
        "<h3 style=\"color:red;\">Ejemplo 3</h3><p align=\"justify\"> Cuales son las 3 ciudades capitales con menor población en Colombia?</p>\n"
      ]
    },
    {
      "cell_type": "code",
      "execution_count": null,
      "metadata": {
        "id": "H16rhKwWqCfj"
      },
      "outputs": [],
      "source": [
        "\n",
        "\n",
        "proc sort data=CursoSAS.Municipios;\n",
        "    by Poblacion;\n",
        "run;\n",
        "\n",
        "title \"Ciudades capitales con menor población en Colombia\";\n",
        "proc print data=CursoSAS.Municipios (obs=3) noobs;\n",
        "    var Departamento Dep Municipio Poblacion;\n",
        "    where Tipo=\"Capital\";\n",
        "run;\n",
        "\n",
        "\n"
      ]
    },
    {
      "cell_type": "markdown",
      "metadata": {
        "id": "5XxyOkzUqCfk"
      },
      "source": [
        "\n",
        "<h1><a href=\"https://documentation.sas.com/doc/en/statug/15.2/statug_freq_toc.htm\" style=\"color:red;\" target=\"_blank\">5. proc freq</a></h1><h2 style=\"color:black;\">Creación de tablas de frecuencia</h2>\n"
      ]
    },
    {
      "cell_type": "markdown",
      "metadata": {
        "id": "8nsZH-NOqCfk"
      },
      "source": [
        "\n",
        "<h3 style=\"color:red;\">Ejemplo 1</h3><p align=\"justify\"> Qué porcentaje del total representan los municipios del departamento de Norte de Santander? Cuantos municipios tiene el departamento del Valle del Cauca? Cuales son los cinco departamentos con mayor número de municipios? Qué porcentaje del total representan los municipios de estos cinco departamentos? Qué porcentaje de los municipios son rurales?</p>\n"
      ]
    },
    {
      "cell_type": "code",
      "execution_count": null,
      "metadata": {
        "id": "ycHWDKqDqCfk"
      },
      "outputs": [],
      "source": [
        "\n",
        "\n",
        "proc freq data=CursoSAS.Municipios order=freq;\n",
        "    table Departamento Zona;\n",
        "run;\n",
        "\n",
        "\n"
      ]
    },
    {
      "cell_type": "markdown",
      "metadata": {
        "id": "31MoLFLIqCfk"
      },
      "source": [
        "\n",
        "<h3 style=\"color:red;\">Ejemplo 2</h3><p align=\"justify\"> Qué porcentaje de la población habita en el departamento del Meta? Cuantos habitantes tiene el departamento del Putumayo? Cuales son los cuatro departamentos con mayor número de habitantes? Qué porcentaje de la población habita en estos cuatro departamentos?</p>\n"
      ]
    },
    {
      "cell_type": "code",
      "execution_count": null,
      "metadata": {
        "id": "CUyaWKkQqCfk"
      },
      "outputs": [],
      "source": [
        "\n",
        "\n",
        "proc freq data=CursoSAS.Municipios order=freq;\n",
        "    table Departamento;\n",
        "    weight Poblacion;\n",
        "    ods output OneWayFreqs=TF2;\n",
        "run;\n",
        "\n",
        "proc contents data=TF2 varnum;\n",
        "run;\n",
        "\n",
        "proc print data=TF2 (obs=10) noobs;\n",
        "run;\n",
        "\n",
        "\n"
      ]
    },
    {
      "cell_type": "markdown",
      "metadata": {
        "id": "KjupnkxAqCfk"
      },
      "source": [
        "\n",
        "<h3 style=\"color:red;\">Ejemplo 3</h3><p align=\"justify\"> Cuales son los cinco municipios más/menos poblados del departamento de Bolívar? Qué porcentaje representan estos municipios del total de la población en el departamento? Qué porcentaje de la población del departamento habita en municipios rurales?</p>\n"
      ]
    },
    {
      "cell_type": "code",
      "execution_count": null,
      "metadata": {
        "id": "zfuov0IhqCfk"
      },
      "outputs": [],
      "source": [
        "\n",
        "\n",
        "proc freq data=CursoSAS.Municipios order=freq;\n",
        "    where Dep=\"13\";\n",
        "    table Municipio Zona;\n",
        "    weight Poblacion;\n",
        "run;\n",
        "\n",
        "\n"
      ]
    },
    {
      "cell_type": "markdown",
      "metadata": {
        "id": "Pi_gr6AyqCfl"
      },
      "source": [
        "\n",
        "<h3 style=\"color:red;\">Ejemplo 4</h3><p align=\"justify\"> Qué porcentaje de la superficie total de Colombia representa el departamento del Chocó? Cual es la superficie del departamento de Córdoba? Cuales son los cinco departamentos con mayor/menor superficie? Qué porcentaje representan estos cinco departamentos de la superficie total de Colombia? Qué porcentaje de la superficie del país ocupan los municipios rurales?</p>\n"
      ]
    },
    {
      "cell_type": "code",
      "execution_count": null,
      "metadata": {
        "id": "Hl4cgPn_qCfl"
      },
      "outputs": [],
      "source": [
        "\n",
        "\n",
        "proc freq data=CursoSAS.Municipios order=freq;\n",
        "    table Departamento Zona;\n",
        "    weight Superficie;\n",
        "run;\n",
        "\n",
        "\n"
      ]
    },
    {
      "cell_type": "markdown",
      "metadata": {
        "id": "6Vn8O4qjqCfl"
      },
      "source": [
        "\n",
        "<h3 style=\"color:red;\">Ejemplo 5</h3><p align=\"justify\"> Qué porcentaje de los municipios del departamento de La Guajira son rurales? Qué porcentaje de los municipios rurales están en el departamento de Vaupés?</p>\n"
      ]
    },
    {
      "cell_type": "code",
      "execution_count": null,
      "metadata": {
        "id": "YFU0NyyKqCfl"
      },
      "outputs": [],
      "source": [
        "\n",
        "\n",
        "proc freq data=CursoSAS.Municipios order=freq;\n",
        "    table Departamento*Zona;\n",
        "    ods output CrossTabFreqs=TF5;\n",
        "run;\n",
        "\n",
        "proc contents data=TF5 varnum;\n",
        "run;\n",
        "\n",
        "proc print data=TF5 (obs=10) noobs;\n",
        "run;\n",
        "\n",
        "\n"
      ]
    },
    {
      "cell_type": "markdown",
      "metadata": {
        "id": "pdSAq9EbqCfl"
      },
      "source": [
        "\n",
        "<h3 style=\"color:red;\">Ejemplo 6</h3><p align=\"justify\"> Qué porcentaje de la población del departamento de Boyacá está en municipios rurales? Qué porcentaje de la población total en municipios rurales está en el departamento de Antioquia?</p>\n"
      ]
    },
    {
      "cell_type": "code",
      "execution_count": null,
      "metadata": {
        "id": "0X1lPLGmqCfl"
      },
      "outputs": [],
      "source": [
        "\n",
        "\n",
        "proc freq data=CursoSAS.Municipios order=freq;\n",
        "    table Departamento*Zona;\n",
        "    weight Poblacion;\n",
        "    ods output CrossTabFreqs=TF6;\n",
        "run;\n",
        "\n",
        "proc contents data=TF6 varnum;\n",
        "run;\n",
        "\n",
        "proc print data=TF6 (obs=10) noobs;\n",
        "run;\n",
        "\n",
        "\n"
      ]
    },
    {
      "cell_type": "markdown",
      "metadata": {
        "id": "zvY0yAuCqCfm"
      },
      "source": [
        "\n",
        "<h3 style=\"color:red;\">Ejemplo 7</h3><p align=\"justify\"> Qué porcentaje de la superficie del departamento de Nariño corresponde a municipios rurales? Qué porcentaje de la superficie total en municipios rurales está en el departamento de Atlántico?</p>\n"
      ]
    },
    {
      "cell_type": "code",
      "execution_count": null,
      "metadata": {
        "id": "629vHQC6qCfm"
      },
      "outputs": [],
      "source": [
        "\n",
        "\n",
        "proc freq data=CursoSAS.Municipios order=freq;\n",
        "    table Departamento*Zona;\n",
        "    weight Superficie;\n",
        "    ods output CrossTabFreqs=TF7;\n",
        "run;\n",
        "\n",
        "proc contents data=TF7 varnum;\n",
        "run;\n",
        "\n",
        "proc print data=TF7 (obs=10) noobs;\n",
        "run;\n",
        "\n",
        "\n"
      ]
    },
    {
      "cell_type": "markdown",
      "metadata": {
        "id": "9XcLLWtuqCfm"
      },
      "source": [
        "\n",
        "<h1><a href=\"https://documentation.sas.com/doc/en/pgmsascdc/9.4_3.5/proc/p0f0fjpjeuco4gn1ri963f683mi4.htm\" style=\"color:red;\" target=\"_blank\">6. proc means</a></h1><h2 style=\"color:black;\">Cálculo de estadísticas descriptivas</h2>\n"
      ]
    },
    {
      "cell_type": "markdown",
      "metadata": {
        "id": "gWGoD-2WqCfm"
      },
      "source": [
        "\n",
        "<h3 style=\"color:red;\">Ejemplo 1</h3><p align=\"justify\"> Cálculo de algunas estadísticas descriptivas (N, mean, min, max) de las variables <i>Poblacion</i>, <i>Superficie</i> e <i>Irural</i>.</p>\n"
      ]
    },
    {
      "cell_type": "code",
      "execution_count": null,
      "metadata": {
        "id": "5cZHgIvpqCfm"
      },
      "outputs": [],
      "source": [
        "\n",
        "\n",
        "proc means data=CursoSAS.Municipios n nmiss mean min max stackodsoutput;\n",
        "    var Poblacion Superficie Irural;\n",
        "    ods output Summary=ED1;\n",
        "run;\n",
        "\n",
        "proc contents data=ED1 varnum;\n",
        "run;\n",
        "\n",
        "proc print data=ED1 (obs=10) noobs;\n",
        "run;\n",
        "\n",
        "\n"
      ]
    },
    {
      "cell_type": "markdown",
      "metadata": {
        "id": "-SeaLK6uqCfm"
      },
      "source": [
        "\n",
        "<h3 style=\"color:red;\">Ejemplo 2</h3><p align=\"justify\"> Cálculo de algunas estadísticas descriptivas (min, p25, p50, p75, max) de las variables <i>Poblacion</i>, <i>Superficie</i> e <i>Irural</i>.</p>\n"
      ]
    },
    {
      "cell_type": "code",
      "execution_count": null,
      "metadata": {
        "id": "1Fq_6n3vqCfm"
      },
      "outputs": [],
      "source": [
        "\n",
        "\n",
        "proc means data=CursoSAS.Municipios min p25 p50 p75 max stackodsoutput;\n",
        "    var Poblacion Superficie Irural;\n",
        "    ods output Summary=ED2;\n",
        "run;\n",
        "\n",
        "proc contents data=ED2 varnum;\n",
        "run;\n",
        "\n",
        "proc print data=ED2 (obs=10) noobs;\n",
        "run;\n",
        "\n",
        "\n"
      ]
    },
    {
      "cell_type": "markdown",
      "metadata": {
        "id": "EPIMqeb6qCfn"
      },
      "source": [
        "\n",
        "<h3 style=\"color:red;\">Ejemplo 3</h3><p align=\"justify\"> Cálculo de algunas estadísticas descriptivas (min, p25, p50, p75, max) de las variables <i>Poblacion</i>, <i>Superficie</i> e <i>Irural</i> para cada <i>Departamento</i>.</p>\n"
      ]
    },
    {
      "cell_type": "code",
      "execution_count": null,
      "metadata": {
        "id": "8J-y4RQzqCfn"
      },
      "outputs": [],
      "source": [
        "\n",
        "\n",
        "proc means data=CursoSAS.Municipios min p25 p50 p75 max stackodsoutput;\n",
        "    var Poblacion Superficie Irural;\n",
        "    class Departamento;\n",
        "    ods output Summary=ED3;\n",
        "run;\n",
        "\n",
        "proc contents data=ED3 varnum;\n",
        "run;\n",
        "\n",
        "proc print data=ED3 (obs=10) noobs;\n",
        "run;\n",
        "\n",
        "\n"
      ]
    },
    {
      "cell_type": "markdown",
      "metadata": {
        "id": "N-v_oz1dqCfn"
      },
      "source": [
        "\n",
        "<h3 style=\"color:red;\">Ejemplo 4</h3><p align=\"justify\"> Cálculo de algunas estadísticas descriptivas (ponderadas por la población) del índice de ruralidad en cada <i>Departamento</i>.</p>\n"
      ]
    },
    {
      "cell_type": "code",
      "execution_count": null,
      "metadata": {
        "id": "zXrlmuigqCfn"
      },
      "outputs": [],
      "source": [
        "\n",
        "\n",
        "proc means data=CursoSAS.Municipios min p25 mean p50 p75 max stackodsoutput;\n",
        "    var Irural;\n",
        "    class Departamento / ascend;\n",
        "    weight Poblacion;\n",
        "run;\n",
        "\n",
        "\n"
      ]
    },
    {
      "cell_type": "markdown",
      "metadata": {
        "id": "-IRGOjj1qCfn"
      },
      "source": [
        "\n",
        "<h1><a href=\"https://documentation.sas.com/doc/en/pgmsascdc/9.4_3.5/proc/p1xidhqypi0fnwn1if8opjpqpbmn.htm\" style=\"color:red;\" target=\"_blank\">7. proc format</a></h1>\n"
      ]
    },
    {
      "cell_type": "code",
      "execution_count": null,
      "metadata": {
        "id": "X4Sw-BXnqCfn"
      },
      "outputs": [],
      "source": [
        "\n",
        "\n",
        "proc format;\n",
        "value  cylind   3-5=\"Cinco o menos cilindros\" \n",
        "                  6=\"Seis cilindros\" \n",
        "               8-12=\"Siete o más cilindros\";\n",
        "             \n",
        "value $origen \"USA\"=\"Estados Unidos\"\n",
        "              other=\"Europa y Asia\";\n",
        "run;\n",
        "\n",
        "proc print data=sashelp.cars (obs=10) noobs;\n",
        "    format cylinders cylind. origin $origen.;\n",
        "    where type = \"Sedan\";\n",
        "run;\n",
        "\n",
        "proc freq data=sashelp.cars;\n",
        "    table cylinders origin;\n",
        "    format cylinders cylind. origin $origen.;\n",
        "    where type = \"Sedan\";\n",
        "run;\n",
        "\n",
        "proc means data=sashelp.cars min p25 p50 p75 max nolabel noobs;\n",
        "    var horsepower weight;\n",
        "    class cylinders;\n",
        "    format cylinders cylind.;\n",
        "run;\n",
        "\n",
        "\n"
      ]
    },
    {
      "cell_type": "markdown",
      "metadata": {
        "id": "cuA1shAuqCfo"
      },
      "source": [
        "\n",
        "<h1><a style=\"color:red;\">Ejercicio</a></h1>\n",
        "<h1><a style=\"color:red;\">sashelp.baseball</a></h1><ul>\n",
        "<li><p align=\"justify\"> Construya un conjunto de datos con los jugadores que no pertenecen ni al equipo de New York ni al equipo de Los Angeles. Cree una variable para el apellido y otra para el nombre de los jugadores.</p></li>\n",
        "<li><p align=\"justify\"> Existen beisbolistas cuyos nombres y apellidos inician con vocales?</p></li>\n",
        "<li><p align=\"justify\"> Existen beisbolistas cuyos nombres y apellidos inician con la misma vocal?</p></li>\n",
        "<li><p align=\"justify\"> Existen beisbolistas cuyos nombres y apellidos inician con la misma consonante?</p></li>\n",
        "<li><p align=\"justify\"> Cuales son los 5 jardineros izquieros (<i>LF</i>) con los salarios más altos en la liga nacional?</p></li>\n",
        "<li><p align=\"justify\"> Cuales son los 5 beisbolistas con los apellidos más cortos en la liga americana?</p></li>\n",
        "<li><p align=\"justify\"> Cuales son los 5 paracortos (<i>SS</i>) con el mayor número de <i>nOuts</i> en la división oeste?</p></li>\n",
        "<li><p align=\"justify\"> Cuales son los 5 beisbolistas con el menor número de <i>nError</i> en Chicago?</p></li>\n",
        "<li><p align=\"justify\"> Existen variables con más de 5% de valores perdidos (<i>missings</i>)? En caso afirmativo, elimínelas.</p></li>\n",
        "</ul>\n",
        "<h1><a style=\"color:red;\">sashelp.heart</a></h1><ul>\n",
        "<li><p align=\"justify\"> Qué porcentaje de las personas con sobrepeso (<i>Weight_Status</i>) falleció?</p></li>\n",
        "<li><p align=\"justify\"> A medida que aumenta la presión arterial (<i>BP_Status</i>) el porcentaje de pacientes que fallece también aumenta?</p></li>\n",
        "<li><p align=\"justify\"> La media y la mediana del colesterol (<i>Cholesterol</i>) es mayor entre los fallecidos que entre los que sobrevivieron?</p></li>\n",
        "<li><p align=\"justify\"> A medida que aumenta la frecuencia del hábito de fumar (<i>Smoking_Status</i>) el porcentaje de personas que fallece también aumenta?</p></li>\n",
        "<li><p align=\"justify\"> La media y la mediana del número de cigarrilos consumidos (<i>Smoking</i>) es mayor entre los fallecidos que entre los que sobrevivieron?</p></li>\n",
        "<li><p align=\"justify\"> El porcentaje de pacientes que fallece es mayor entre hombres que entre mujeres (<i>Sex</i>)?</p></li>\n",
        "<li><p align=\"justify\"> Hay valores perdidos (<i>missing</i>) en las variables que se usaron para responder las preguntas en los ítems anteriores? Cuantos?</p></li>\n",
        "</ul>\n"
      ]
    },
    {
      "cell_type": "markdown",
      "metadata": {
        "id": "bBbEcX7SqCfo"
      },
      "source": [
        "\n",
        "<h1><a href=\"https://documentation.sas.com/doc/en/pgmsascdc/9.4_3.5/sqlproc/n1oihmdy7om5rmn1aorxui3kxizl.htm\" style=\"color:red;\" target=\"_blank\">8. proc sql</a></h1><p></p><h2 style=\"color:black;\">Consulta, transformación, y creación de conjuntos de datos</h2>\n",
        "<img height=\"350\" src=\"https://sas2022.netlify.app/sql.png\" width=\"600\"/>\n"
      ]
    },
    {
      "cell_type": "markdown",
      "metadata": {
        "id": "MjtprXhyqCfo"
      },
      "source": [
        "\n",
        "<p><strong>Ejemplo 1</strong></p>\n",
        "<p align=\"justify\"> Conjunto de datos con las variables <i>Departamento</i>, <i>Dep</i>, <i>Depmun</i>, <i>Municipio</i>, <i>Superficie</i> y <i>Poblacion</i> que incluye todos los municipios de los departamentos de Antioquia y Caldas con más de 20 mil habitantes y donde los mismos están ordenados con respecto a <i>Dep</i> y de mayor a menor con respecto a <i>Poblacion</i>.</p>\n"
      ]
    },
    {
      "cell_type": "code",
      "execution_count": null,
      "metadata": {
        "id": "9mScigooqCfo"
      },
      "outputs": [],
      "source": [
        "\n",
        "\n",
        "proc sql;\n",
        "create table E1 as\n",
        "    select Departamento, Dep, Depmun, Municipio, Superficie, Poblacion\n",
        "    from CursoSAS.Municipios\n",
        "    where Dep in (\"05\",\"17\") and Poblacion > 20000\n",
        "    order by Dep asc, Poblacion desc;\n",
        "quit;\n",
        "\n",
        "\n"
      ]
    },
    {
      "cell_type": "markdown",
      "metadata": {
        "id": "Bs9YyAoGqCfo"
      },
      "source": [
        "\n",
        "<p><strong>Ejemplo 2</strong></p>\n",
        "<p align=\"justify\"> Conjunto de datos con las variables <i>Departamento</i>, <i>Dep</i>, <i>Depmun</i>, <i>Municipio</i>, <i>Superficie</i> y <i>Poblacion</i> que incluye todos los municipios con superficies menores a 300 $km^2$ excepto los de Boyacá y Santander, y que están ordenados por <i>Dep</i> y de mayor a menor por <i>Poblacion</i>. Incluye una variable definida como \"Baja\" para los municipios con denspobl menor a 30, \"Alta\" para los municipios con <i>denspobl</i> mayor a 85, y \"Media\" para los demás.</p>\n"
      ]
    },
    {
      "cell_type": "code",
      "execution_count": null,
      "metadata": {
        "id": "JMZj8kImqCfo"
      },
      "outputs": [],
      "source": [
        "\n",
        "\n",
        "proc sql;\n",
        "    create table E2 as\n",
        "    select    Departamento, Dep, Depmun, Municipio, Superficie, \n",
        "              Poblacion, case when denspobl < 30 then \"Baja\"\n",
        "                              when denspobl > 85 then \"Alta\"\n",
        "                              else \"Mediana\"\n",
        "                         end as denspoblC\n",
        "    from      CursoSAS.Municipios\n",
        "    where     Dep not in (\"15\",\"68\") and Superficie < 300\n",
        "    order by  Dep asc, Poblacion desc;\n",
        "quit;\n",
        "\n",
        "\n"
      ]
    },
    {
      "cell_type": "markdown",
      "metadata": {
        "id": "t1RMuiYnqCfp"
      },
      "source": [
        "\n",
        "<p><strong>Ejemplo 3</strong></p>\n",
        "<p align=\"justify\"> Existen dos o más municipios con el mismo <i>Depmun</i>?</p>\n"
      ]
    },
    {
      "cell_type": "code",
      "execution_count": null,
      "metadata": {
        "id": "gbhb-ZgKqCfp"
      },
      "outputs": [],
      "source": [
        "\n",
        "\n",
        "proc sql;\n",
        "    select   Depmun, count(*) as repeticiones\n",
        "    from     CursoSAS.Municipios\n",
        "    group by Depmun\n",
        "    having   repeticiones > 1;\n",
        "\n",
        "    select count(*) as total_filas, count(distinct Depmun) as total_depmuns\n",
        "    from   CursoSAS.Municipios;\n",
        "quit;\n",
        "\n",
        "\n"
      ]
    },
    {
      "cell_type": "markdown",
      "metadata": {
        "id": "mEPs2VZOqCfp"
      },
      "source": [
        "\n",
        "<p><strong>Ejemplo 4</strong></p>\n",
        "<p align=\"justify\"> De los departamentos con dos o más municipios cual es el menos homogeneo (de acuerdo al coeficiente de variación) con respecto a la superficie de los municipios que lo componen?</p>\n"
      ]
    },
    {
      "cell_type": "code",
      "execution_count": null,
      "metadata": {
        "id": "wuoyWqcuqCfp"
      },
      "outputs": [],
      "source": [
        "\n",
        "\n",
        "proc sql outobs=1;\n",
        "    select   Departamento, Dep, cv(Superficie) as cvar\n",
        "    from     CursoSAS.Municipios\n",
        "    group by Departamento, Dep\n",
        "    having   count(*) > 1\n",
        "    order by cvar desc;\n",
        "quit;    \n",
        "\n",
        "\n"
      ]
    },
    {
      "cell_type": "markdown",
      "metadata": {
        "id": "vIWORuDOqCfp"
      },
      "source": [
        "\n",
        "<p><strong>Ejemplo 5</strong></p>\n",
        "<p align=\"justify\"> De los departamentos con dos o más municipios cual es el más homogeneo (de acuerdo al coeficiente de variación) con respecto a la superficie de los municipios que lo componen?</p>\n"
      ]
    },
    {
      "cell_type": "code",
      "execution_count": null,
      "metadata": {
        "id": "KzmM9LGmqCfp"
      },
      "outputs": [],
      "source": [
        "\n",
        "\n",
        "proc sql outobs=1;\n",
        "    select   Departamento, Dep, cv(Superficie) as cvar\n",
        "    from     CursoSAS.Municipios\n",
        "    group by Departamento, Dep\n",
        "    having   count(*) > 1\n",
        "    order by cvar asc;\n",
        "quit;    \n",
        "\n",
        "\n"
      ]
    },
    {
      "cell_type": "markdown",
      "metadata": {
        "id": "V29fl98wqCfp"
      },
      "source": [
        "\n",
        "<p><strong>Ejemplo 6</strong></p>\n",
        "<p align=\"justify\"> Conjunto de datos con todos los departamentos, ordenados de mayor a menor con respecto a su población, que incluye la siguiente información: número de municipios, superficie, población, densidad poblacional, índice de ruralidad promedio ponderado por población, y una variable igual a \"Grande\" para los departamentos con población mayor a 1.5 millones de habitantes, \"Pequeño\" para departamentos con población menor a \n",
        "300 mil habitantes, y \"Mediano\" para el resto.</p>\n"
      ]
    },
    {
      "cell_type": "code",
      "execution_count": null,
      "metadata": {
        "id": "sm8t261dqCfq"
      },
      "outputs": [],
      "source": [
        "\n",
        "\n",
        "proc sql;\n",
        "    create table E6 as\n",
        "    select   Dep, Departamento, count(*) as nmunicipios, sum(Poblacion) as totpobl, \n",
        "             sum(Superficie) as totsuper, sum(Poblacion)/sum(Superficie) as denspobl,\n",
        "             sum(Irural*Poblacion)/sum(Poblacion) as Irural,\n",
        "             case when sum(Poblacion) > 1500000 then \"Grande\"\n",
        "                  when sum(Poblacion) < 300000 then \"Pequeño\"\n",
        "                  else \"Mediano\"\n",
        "             end as totpoblC\n",
        "    from     CursoSAS.Municipios\n",
        "    group by Dep, Departamento\n",
        "    order by totpobl desc;\n",
        "quit;\n",
        "\n",
        "\n"
      ]
    },
    {
      "cell_type": "markdown",
      "metadata": {
        "id": "A5e1GI47qCfq"
      },
      "source": [
        "\n",
        "<p><strong>Ejemplo 7</strong></p>\n",
        "<p align=\"justify\"> Cual es la región con la mayor superficie?</p>\n"
      ]
    },
    {
      "cell_type": "code",
      "execution_count": null,
      "metadata": {
        "id": "Zf2NvMAEqCfq"
      },
      "outputs": [],
      "source": [
        "\n",
        "\n",
        "proc sql outobs=1;\n",
        "    select   Region,  sum(Superficie) as sup\n",
        "    from     CursoSAS.Municipios\n",
        "    group by Region\n",
        "    order by sup desc;\n",
        "quit;\n",
        "\n",
        "\n"
      ]
    },
    {
      "cell_type": "markdown",
      "metadata": {
        "id": "zMP-YYNJqCfq"
      },
      "source": [
        "\n",
        "<p><strong>Ejemplo 8</strong></p>\n",
        "<p align=\"justify\"> Conjunto de datos con todos los departamentos, ordenados de mayor a menor con respecto a su población, que incluye la siguiente información: número de municipios, superficie, población, densidad poblacional, todo referente a los municipios con índice de ruralidad mayor a 60.</p>\n"
      ]
    },
    {
      "cell_type": "code",
      "execution_count": null,
      "metadata": {
        "id": "PqoaGE6yqCfq"
      },
      "outputs": [],
      "source": [
        "\n",
        "\n",
        "proc sql;\n",
        "    create table E8 as\n",
        "    select   Dep, Departamento, count(*) as nmunicipios, sum(Poblacion) as totpobl,\n",
        "             sum(Superficie) as totsuper, sum(Poblacion)/sum(Superficie) as denspobl\n",
        "    from     CursoSAS.Municipios\n",
        "    where    Irural > 60\n",
        "    group by Dep, Departamento\n",
        "    order by totpobl desc;\n",
        "quit;    \n",
        "\n",
        "\n"
      ]
    },
    {
      "cell_type": "markdown",
      "metadata": {
        "id": "qARksqdyqCfq"
      },
      "source": [
        "\n",
        "<p><strong>Ejemplo 9</strong></p>\n",
        "<p align=\"justify\"> Cual es la región con el mayor número de departamentos?</p>\n"
      ]
    },
    {
      "cell_type": "code",
      "execution_count": null,
      "metadata": {
        "id": "RD6O7TPuqCfq"
      },
      "outputs": [],
      "source": [
        "\n",
        "\n",
        "proc sql outobs=1;\n",
        "    select   Region, count(distinct Dep) as Deps\n",
        "    from     CursoSAS.Municipios\n",
        "    group by Region\n",
        "    order by Dep desc;\n",
        "quit;\n",
        "\n",
        "\n"
      ]
    },
    {
      "cell_type": "markdown",
      "metadata": {
        "id": "YL0l0FaBqCfr"
      },
      "source": [
        "\n",
        "<p><strong>Ejemplo 10</strong></p>\n",
        "<p align=\"justify\"> Conjunto de datos con todos los departamentos con al menos 650 mil habitantes y al menos 10 mil $km^2$ de superficie, ordenados de mayor a menor con relación a su densidad poblacional, y que incluye la siguiente información: número de municipios, superficie, población y densidad poblacional.</p>\n"
      ]
    },
    {
      "cell_type": "code",
      "execution_count": null,
      "metadata": {
        "id": "y5j8cOMhqCfr"
      },
      "outputs": [],
      "source": [
        "\n",
        "\n",
        "proc sql;\n",
        "    create table E10 as\n",
        "    select   Dep, Departamento, count(*) as nmunicipios, sum(Poblacion) as totpobl,\n",
        "             sum(Superficie) as totsuper, sum(Poblacion)/sum(Superficie) as denspobl\n",
        "    from     CursoSAS.Municipios\n",
        "    group by Dep, Departamento\n",
        "    having   totpobl >= 650000 and totsuper >= 10000\n",
        "    order by denspobl desc;\n",
        "quit;    \n",
        "\n",
        "\n"
      ]
    },
    {
      "cell_type": "markdown",
      "metadata": {
        "id": "4mlmwfoRqCfr"
      },
      "source": [
        "\n",
        "<p><strong>Ejemplo 11</strong></p>\n",
        "<p align=\"justify\"> Conjunto de datos con todos los departamentos con al menos 650 mil habitantes y al menos 10 mil de superficie, ordenados de mayor a menor con relación a su densidad poblacional, y que incluye la siguiente información: número de municipios, superficie, población, y densidad poblacional, todo referente a municipios con índice de ruralidad mayor a 40.</p>\n"
      ]
    },
    {
      "cell_type": "code",
      "execution_count": null,
      "metadata": {
        "id": "jHsfhQ8wqCfr"
      },
      "outputs": [],
      "source": [
        "\n",
        "\n",
        "proc sql;\n",
        "    create table E11 as\n",
        "    select   Dep, Departamento, count(*) as nmunicipios, sum(Poblacion) as totpobl,\n",
        "             sum(Superficie) as totsuper, sum(Poblacion)/sum(Superficie) as denspobl\n",
        "    from     CursoSAS.Municipios\n",
        "    where    Irural > 40\n",
        "    group by Dep, Departamento\n",
        "    having   totpobl >= 650000 and totsuper >= 10000\n",
        "    order by denspobl desc;\n",
        "quit;\n",
        "\n",
        "\n"
      ]
    },
    {
      "cell_type": "markdown",
      "metadata": {
        "id": "BnlSsKbWqCfr"
      },
      "source": [
        "\n",
        "<p><strong>Ejemplo 12</strong></p>\n",
        "<p align=\"justify\"> Existen dos o más municipios con el mismo nombre? Cuantos? Cuales? En qué departamentos están ubicados?</p>\n"
      ]
    },
    {
      "cell_type": "code",
      "execution_count": null,
      "metadata": {
        "id": "lj4uFeCZqCfr"
      },
      "outputs": [],
      "source": [
        "\n",
        "\n",
        "proc sql;\n",
        "    create table Repetidos as\n",
        "    select   Municipio, count(*) as veces\n",
        "    from     CursoSAS.Municipios\n",
        "    group by Municipio\n",
        "    having   count(*) > 1\n",
        "    order by veces desc;\n",
        "\n",
        "    create table E12 as\n",
        "    select   Municipio, Departamento, Dep, Depmun\n",
        "    from     CursoSAS.Municipios\n",
        "    where    Municipio in (select Municipio\n",
        "                           from   Repetidos)\n",
        "    order by Municipio asc, Departamento asc;\n",
        "quit;\n",
        "\n",
        "\n"
      ]
    },
    {
      "cell_type": "code",
      "execution_count": null,
      "metadata": {
        "id": "eop5EcQNqCfs"
      },
      "outputs": [],
      "source": [
        "\n",
        "\n",
        "proc sql;\n",
        "    create table E12a as\n",
        "    select   Municipio, Region, Departamento, Dep, Depmun\n",
        "    from     CursoSAS.Municipios\n",
        "    where    Municipio in (select   Municipio\n",
        "                           from     CursoSAS.Municipios\n",
        "                           group by Municipio\n",
        "                           having   count(*) > 1)\n",
        "    order by Municipio asc, Region asc;\n",
        "quit;\n",
        "\n",
        "proc compare base=E12 compare=E12a;\n",
        "run;\n",
        "\n",
        "\n"
      ]
    },
    {
      "cell_type": "markdown",
      "metadata": {
        "id": "xOngu2otqCfs"
      },
      "source": [
        "\n",
        "<p><strong>Ejemplo 13</strong></p>\n",
        "<p align=\"justify\"> Existen dos o más municipios con el mismo nombre que hacen parte de la misma región? Cuantos? Cuales?</p>\n"
      ]
    },
    {
      "cell_type": "code",
      "execution_count": null,
      "metadata": {
        "id": "p0em7iLqqCfv"
      },
      "outputs": [],
      "source": [
        "\n",
        "\n",
        "proc sql;\n",
        "    create table Repetidos as\n",
        "    select   Region, Municipio, count(*) as veces\n",
        "    from     CursoSAS.Municipios\n",
        "    group by Region, Municipio\n",
        "    having   veces > 1\n",
        "    order by veces desc;\n",
        "\n",
        "    create table E13 as\n",
        "    select   Municipio, Region, Departamento, Dep, Depmun\n",
        "    from     CursoSAS.Municipios\n",
        "    where    cats(Region,Municipio) in (select cats(Region,Municipio)\n",
        "                                        from   Repetidos)\n",
        "    order by Municipio asc, Region asc;\n",
        "quit;\n",
        "\n",
        "\n"
      ]
    },
    {
      "cell_type": "code",
      "execution_count": null,
      "metadata": {
        "id": "5JQgHV7jqCfv"
      },
      "outputs": [],
      "source": [
        "\n",
        "\n",
        "proc sql;\n",
        "    create table E13a as\n",
        "    select   Municipio, Region, Departamento, Dep, Depmun\n",
        "    from     CursoSAS.Municipios\n",
        "    where    cats(Region,Municipio) in (select   cats(Region,Municipio)\n",
        "                                        from     CursoSAS.Municipios\n",
        "                                        group by Region, Municipio\n",
        "                                        having   count(*) > 1)\n",
        "    order by Municipio asc, Region asc;\n",
        "quit;\n",
        "\n",
        "proc compare base=E13 compare=E13a;\n",
        "run;\n",
        "\n",
        "\n"
      ]
    },
    {
      "cell_type": "markdown",
      "metadata": {
        "id": "owSlkZ_LqCfv"
      },
      "source": [
        "\n",
        "<h3><strong><a href=\"https://documentation.sas.com/doc/en/pgmsascdc/9.4_3.2/lefunctionsref/p0s9ilagexmjl8n1u7e1t1jfnzlk.htm\" style=\"color:red;\" target=\"_blank\">Expresiones regulares</a></strong></h3>\n",
        "<h3><strong><a href=\"https://documentation.sas.com/doc/en/pgmsascdc/9.4_3.2/lefunctionsref/n0bj9p4401w3n9n1gmv6tfshit9m.htm\" style=\"color:red;\" target=\"_blank\">prxmatch</a></strong></h3>\n"
      ]
    },
    {
      "cell_type": "markdown",
      "metadata": {
        "id": "bOKBCwUOqCfv"
      },
      "source": [
        "\n",
        "<p><strong>Ejemplo 14</strong></p>\n",
        "<p align=\"justify\"> Conjunto de datos con los municipios cuyos nombres inician con \"A\" o terminan con \"o\", no importa si llevan tilde o no.</p>\n"
      ]
    },
    {
      "cell_type": "code",
      "execution_count": null,
      "metadata": {
        "id": "dnseeDjjqCfv"
      },
      "outputs": [],
      "source": [
        "\n",
        "\n",
        "proc sql;\n",
        "    create table E14 as\n",
        "    select Municipios.*\n",
        "    from   CursoSAS.Municipios\n",
        "    where  prxmatch('/(^(A|Á)|(o|ó)$)/',strip(Municipio));\n",
        "quit;    \n",
        "\n",
        "\n"
      ]
    },
    {
      "cell_type": "markdown",
      "metadata": {
        "id": "YQ7Pmev9qCfv"
      },
      "source": [
        "\n",
        "<p><strong>Ejemplo 15</strong></p>\n",
        "<p align=\"justify\"> Conjunto de datos con los municipios cuyos nombres inician con \"A\" y terminan con \"o\", no importa si llevan tilde o no.</p>\n"
      ]
    },
    {
      "cell_type": "code",
      "execution_count": null,
      "metadata": {
        "id": "y3rIpTf4qCfv"
      },
      "outputs": [],
      "source": [
        "\n",
        "\n",
        "proc sql;\n",
        "    create table E15 as\n",
        "    select Dep, Departamento, Municipio, Depmun\n",
        "    from   CursoSAS.Municipios\n",
        "    where  prxmatch('/(^(A|Á).*(o|ó)$)/',strip(Municipio));\n",
        "quit;\n",
        "\n",
        "\n"
      ]
    },
    {
      "cell_type": "markdown",
      "metadata": {
        "id": "_VpXENkWqCfv"
      },
      "source": [
        "\n",
        "<p><strong>Ejemplo 16</strong></p>\n",
        "<p align=\"justify\"> Conjunto de datos con los municipios cuyo nombre tiene a la letra \"e\" en las posiciones 2 y 4, no importa si llevan tilde o no.</p>\n"
      ]
    },
    {
      "cell_type": "code",
      "execution_count": null,
      "metadata": {
        "id": "EyZtHDYBqCfw"
      },
      "outputs": [],
      "source": [
        "\n",
        "\n",
        "proc sql;\n",
        "    create table E16 as\n",
        "    select Dep, Departamento, Municipio, Depmun\n",
        "    from   CursoSAS.Municipios\n",
        "    where  prxmatch('/^.{1}(e|é).{1}(e|é)/',strip(Municipio));\n",
        "quit;\n",
        "\n",
        "\n"
      ]
    },
    {
      "cell_type": "markdown",
      "metadata": {
        "id": "-aiHURZ6qCfw"
      },
      "source": [
        "\n",
        "<p><strong>Ejemplo 17</strong></p>\n",
        "<p align=\"justify\"> Conjunto de datos con los municipios cuyos nombres constan de más de una palabra.</p>\n"
      ]
    },
    {
      "cell_type": "code",
      "execution_count": null,
      "metadata": {
        "id": "29iCZi53qCfw"
      },
      "outputs": [],
      "source": [
        "\n",
        "\n",
        "proc sql;\n",
        "    create table E17 as\n",
        "    select Dep, Departamento, Municipio, Depmun\n",
        "    from   CursoSAS.Municipios\n",
        "    where  prxmatch('/ /',strip(Municipio));\n",
        "quit;    \n",
        "\n",
        "\n"
      ]
    },
    {
      "cell_type": "markdown",
      "metadata": {
        "id": "3-RoJ4VCqCfw"
      },
      "source": [
        "\n",
        "<p><img height=\"350\" src=\"https://sas2022.netlify.app/sql3.png\" width=\"600\"/>\n",
        "<img height=\"350\" src=\"https://sas2022.netlify.app/sql2.png\" width=\"600\"/></p>\n"
      ]
    },
    {
      "cell_type": "markdown",
      "metadata": {
        "id": "sf4y2BjBqCfw"
      },
      "source": [
        "\n",
        "<p><strong>Ejemplo 18</strong></p>\n",
        "<p align=\"justify\"> Cuantos y cuales municipios tienen al menos una estación de monitoreo climático?</p>\n"
      ]
    },
    {
      "cell_type": "code",
      "execution_count": null,
      "metadata": {
        "id": "F4UtH6qnqCfw"
      },
      "outputs": [],
      "source": [
        "\n",
        "\n",
        "proc import datafile=\"/home/hvanegasp0/Curso/Estaciones.xlsx\" dbms=xlsx out=Estaciones replace; \n",
        "    getnames=yes;\n",
        "run;\n",
        "\n",
        "proc contents data=Estaciones;\n",
        "run;\n",
        "\n",
        "proc print data=Estaciones (obs=10) noobs;\n",
        "run;\n",
        "\n",
        "%include \"/home/hvanegasp0/Curso/mismacros.sas\";\n",
        "%missings(Estaciones);\n",
        "\n",
        "\n"
      ]
    },
    {
      "cell_type": "code",
      "execution_count": null,
      "metadata": {
        "id": "Pv-1LUS0qCfw"
      },
      "outputs": [],
      "source": [
        "\n",
        "\n",
        "proc sql;\n",
        "    select count(distinct Depmun) as nmunicipios\n",
        "    from   Estaciones;\n",
        "quit;\n",
        "\n",
        "\n"
      ]
    },
    {
      "cell_type": "markdown",
      "metadata": {
        "id": "gMIzj63SqCfw"
      },
      "source": [
        "\n",
        "<p><strong>Ejemplo 19</strong></p>\n",
        "<p align=\"justify\"> Conjunto de datos con todos los municipios del país, que incluye una variable que informa el número de estaciones de monitoreo climático con que cuenta cada municipio.</p>\n"
      ]
    },
    {
      "cell_type": "code",
      "execution_count": null,
      "metadata": {
        "id": "5oYABHyYqCfw"
      },
      "outputs": [],
      "source": [
        "\n",
        "\n",
        "proc sql;\n",
        "    create table Emon as\n",
        "    select   Depmun, count(*) as nem\n",
        "    from     Estaciones\n",
        "    group by Depmun;\n",
        "\n",
        "    create table E19 as\n",
        "    select Municipios.*, case when nem is null then 0\n",
        "                             else nem \n",
        "                         end as nest\n",
        "    from   CursoSAS.Municipios as Municipios left join Emon on (Municipios.Depmun = Emon.Depmun);\n",
        "quit;\n",
        "\n",
        "\n"
      ]
    },
    {
      "cell_type": "markdown",
      "metadata": {
        "id": "0xNEvwRVqCfw"
      },
      "source": [
        "\n",
        "<p><strong>Ejemplo 20</strong></p>\n",
        "<p align=\"justify\"> Existen municipios que no tienen ninguna estación de monitoreo climático? Cuantos? Cuales?</p>\n"
      ]
    },
    {
      "cell_type": "code",
      "execution_count": null,
      "metadata": {
        "id": "4FMlQPgRqCfw"
      },
      "outputs": [],
      "source": [
        "\n",
        "\n",
        "proc sql;\n",
        "    create table E20 as\n",
        "    select   Municipios.*\n",
        "    from     CursoSAS.Municipios as Municipios left join Emon on (Municipios.Depmun = Emon.Depmun)\n",
        "    where    nem is NULL\n",
        "    order by Depmun;\n",
        "\n",
        "    create table E20a as\n",
        "    select   Municipios.*\n",
        "    from     CursoSAS.Municipios as Municipios\n",
        "    where    Depmun not in (select distinct Depmun\n",
        "                            from   Estaciones)\n",
        "    order by Depmun;\n",
        "quit;\n",
        "\n",
        "proc compare base=E20 compare=E20a;\n",
        "run;\n",
        "\n",
        "\n"
      ]
    },
    {
      "cell_type": "markdown",
      "metadata": {
        "id": "p-WhpqPNqCfx"
      },
      "source": [
        "\n",
        "<p><strong>Ejemplo 21</strong></p>\n",
        "<p align=\"justify\"> Copia de Estaciones que solo considera estaciones de monitoreo localizadas como máximo a 2000 metros de altura sobre el nivel del mar, y que incluye los nombres del municipio y del departamento donde están ubicadas las estaciones.</p>\n"
      ]
    },
    {
      "cell_type": "code",
      "execution_count": null,
      "metadata": {
        "id": "OTzSJSpQqCfx"
      },
      "outputs": [],
      "source": [
        "\n",
        "\n",
        "proc sql;\n",
        "    create table E21 as\n",
        "    select   Estaciones.*, Municipio, Departamento, Dep\n",
        "    from     CursoSAS.Municipios as Municipios inner join Estaciones on (Municipios.Depmun=Estaciones.Depmun)\n",
        "    where    elev <= 2000 \n",
        "    order by depmun, codigo;\n",
        "\n",
        "    create table E21a as\n",
        "    select   Estaciones.*, Municipio, Departamento, Dep\n",
        "    from     CursoSAS.Municipios as Municipios right join Estaciones on (Municipios.Depmun=Estaciones.Depmun)\n",
        "    where    elev <= 2000 \n",
        "    order by depmun, codigo;\n",
        "quit;\n",
        "\n",
        "proc compare base=E21 compare=E21a;\n",
        "run;\n",
        "\n",
        "\n"
      ]
    },
    {
      "cell_type": "markdown",
      "metadata": {
        "id": "g-xofdfxqCfx"
      },
      "source": [
        "\n",
        "<h2 style=\"color:red;\">Elecciones presidenciales en Estados Unidos</h2><p align=\"justify\"> El conjunto de datos <strong>elections.xlsx</strong> consta de 15563 filas y registra el total de votos obtenidos por el candidato del partido demócrata (<i>democrat</i>), por el candidato del partido republicano (<i>republic</i>) y por los demás partidos (<i>other</i>) en las elecciones presidenciales de 2000, 2004, 2008, 2012 y 2016 (<i>year</i>) para todos los condados (<i>codecounty</i>) de los que hay información disponible. El conjunto de datos <strong>counties.xlsx</strong> consta de la siguiente información para los 3234 condados que conforman los EU: identificador (<i>codecounty</i>); nombre (<i>county</i>); identificador del estado al que pertenece (<i>codestate</i>); número de habitantes (<i>population</i>); y superficie, en millas al cuadrado (<i>area</i>). Finalmente, el conjunto de datos <strong>states.xlsx</strong> consta identificador (<i>codestate</i>); nombre (<i>state</i>); y region a la que pertenece (<i>region</i>) cada uno de los 56 estados de EU.</p><ul>\n",
        "<li><p align=\"justify\"> Importe los conjuntos de datos.</p></li>\n",
        "<li><p align=\"justify\"> Cuantos registros y cuantas variables tienen estos conjuntos de datos? De qué tipo son estas variables?</p></li>\n",
        "<li><p align=\"justify\"> Existen valores perdidos en los conjuntos de datos? Cuantos? En qué variables?</p></li>\n",
        "<li><p align=\"justify\"> Verifique que <i>codecounty</i> y <i>codestate</i> son en realidad identificadores de los condados y los estados en los conjuntos de datos <strong>counties</strong> y <strong>states</strong>, respectivamente.</p></li>\n",
        "<li><p align=\"justify\"> Haga lo siguiente en las variables <i>county</i>, <i>state</i> y <i>region</i>: $(i)$ elimine caracteres especiales; $(ii)$ elimine espacios al inicio y al final; $(iii)$ reemplace espacios múltiples por espacios sencillos; $(iv)$ use letras mayúsculas en la inicial de cada palabra. Tenga en cuenta que los nombres de los condados del estado de Puerto Rico están escritos en español.</p></li>\n",
        "<li><p align=\"justify\"> Cree la variable <i>populationC</i> en el conjunto de datos <strong>counties</strong> de tal forma que: $(i)$ <i>populationC = \"low\"</i> para el $25\\%$ de los condados con menor número de habitantes en cada estado; $(ii$) <i>populationC = \"high\"</i> para el $25%$ de los condados con mayor número de habitantes en cada estado; y $(iii)$ <i>populationC = \"mid\"</i> para el resto de los condados de cada estado. Para los estados con menos de 3 condados defina <i>populationC</i> como missing.</p></li>\n",
        "<li><p align=\"justify\"> Existen dos o más condados con el mismo nombre? Cuantos? Cuales? En qué estados están localizados? Cuales son los tres estados con la mayor densidad poblacional? Cuales son las dos regiones con mayor densidad poblacional?</p></li>\n",
        "<li><p align=\"justify\"> En cuales condados el candidato del partido republicano obtuvo mayor votación que el del partido demócrata en las elecciones presidenciales de 2000, 2004, 2008, 2012 y 2016?</p></li>\n",
        "<li><p align=\"justify\"> En cuales estados el candidato del partido republicano obtuvo mayor votación que el del partido demócrata en las elecciones presidenciales de 2000 en más del 75% del total de condados que los componen?</p></li>\n",
        "<li><p align=\"justify\"> En cuales condados no se tiene niguna información sobre los resultados de las votaciones presidenciales realizadas en el periodo comprendido entre los años 2000 y 2016?</p></li>\n",
        "<li><p align=\"justify\"> En cuales condados solo se tiene información sobre algunas, no todas, las votaciones presidenciales realizadas en el periodo comprendido entre los años 2000 y 2016?</p></li>\n",
        "<li><p align=\"justify\"> En qué años el candidato demócrata ganó las elecciones en la parte del país formada por los estados con más de 10 millones de habitantes?</p></li>\n",
        "</ul>\n"
      ]
    },
    {
      "cell_type": "markdown",
      "metadata": {
        "id": "59P7oILXqCfx"
      },
      "source": [
        "\n",
        "<h2 style=\"color:red;\">English Premier League</h2><p align=\"justify\"> Los archivos <strong>season-1415.xlsx</strong>, <strong>season-1516.xlsx</strong>, <strong>season-1617.xlsx</strong>, <strong>season-1718.xlsx</strong> y <strong>season-1819.xlsx</strong> contienen información sobre los resultados de las temporadas $14/15$, $15/16$, $16/17$, $17/18$ y $18/19$, respectivamente, de la primera división del futbol inglés. La posición final de los equipos en la clasificación de cada temporada obedece al número de puntos obtenidos por cada uno de ellos, donde ${\\rm Puntos}=3\\times{\\rm PG}+{\\rm PE}$, en que ${\\rm PG}$ y ${\\rm PE}$ representan, respectivamente, el número de partidos ganados y empatados. Si hay dos o más equipos empatados en puntos el desempate se logra ordenando estos equipos de mayor a menor con respecto al gol diferencia, dado por ${\\rm GA}-{\\rm GC}$, en que ${\\rm GA}$ y ${\\rm GC}$ representan, respectivamente, el número total de goles a favor y en contra. Responda las siguientes preguntas: </p><h3 style=\"color:black;\">En la temporada 16/17</h3><ul>\n",
        "<li><p align=\"justify\"> Cual fue el equipo en el primer lugar de la clasificación?.</p></li>\n",
        "<li><p align=\"justify\"> Cuantos puntos obtuvo este equipo?</p></li>\n",
        "<li><p align=\"justify\"> Cual fue la diferencia entre el número de goles a favor y en contra de este equipo (gol diferencia)?</p></li>\n",
        "<li><p align=\"justify\"> En qué porcentaje de sus partidos ganó este equipo?</p></li>\n",
        "<li><p align=\"justify\"> Qué porcentaje de sus disparos iban a la porteria rival?</p></li>\n",
        "<li><p align=\"justify\"> Qué porcentaje de sus partidos terminaron sin que ninguno de sus jugadores fuera expulsado?</p></li>\n",
        "</ul>\n",
        "<h3 style=\"color:black;\">En la temporada 17/18</h3><ul>\n",
        "<li><p align=\"justify\"> Cual fue el equipo en el tercer lugar de la clasificación?.</p></li>\n",
        "<li><p align=\"justify\"> Cuantos puntos obtuvo este equipo?</p></li>\n",
        "<li><p align=\"justify\"> Cual fue la diferencia entre el número de goles a favor y en contra de este equipo (gol diferencia)?</p></li>\n",
        "<li><p align=\"justify\"> En qué porcentaje de sus partidos ganó este equipo?</p></li>\n",
        "<li><p align=\"justify\"> Qué porcentaje de sus disparos iban a la porteria rival?</p></li>\n",
        "<li><p align=\"justify\"> Qué porcentaje de sus partidos terminaron sin que ninguno de sus jugadores fuera expulsado?</p></li>\n",
        "</ul>\n",
        "<h3 style=\"color:black;\">Parte de la temporada 18/19 que se jugó durante 2018 </h3><ul>\n",
        "<li><p align=\"justify\"> Cual fue el equipo en el primer lugar de la clasificación?.</p></li>\n",
        "<li><p align=\"justify\"> Cuantos puntos obtuvo este equipo?</p></li>\n",
        "<li><p align=\"justify\"> Cual fue la diferencia entre el número de goles a favor y en contra de este equipo (gol diferencia)?</p></li>\n",
        "<li><p align=\"justify\"> En qué porcentaje de sus partidos ganó este equipo?</p></li>\n",
        "<li><p align=\"justify\"> Qué porcentaje de sus disparos iban a la porteria rival?</p></li>\n",
        "<li><p align=\"justify\"> Qué porcentaje de sus partidos terminaron sin que ninguno de sus jugadores fuera expulsado?</p></li>\n",
        "</ul>\n",
        "<h3 style=\"color:black;\">Desde la temporada 14/15 hasta la 18/19</h3><ul>\n",
        "<li><p align=\"justify\"> Cuales equipos se mantuvieron en las primeras 4 posiciones de la clasificación final?.</p></li>\n",
        "<li><p align=\"justify\"> Cuales equipos se mantuvieron en las primeras 5 posiciones de la clasificación final?</p></li>\n",
        "<li><p align=\"justify\"> Cual fue la diferencia entre el número de goles a favor y en contra de este equipo (gol diferencia)?</p></li>\n",
        "<li><p align=\"justify\"> Cuales equipos se mantuvieron en las primeras 6 posiciones de la clasificación final?</p></li>\n",
        "<li><p align=\"justify\"> Cuales equipos descendieron a la segunda división al menos una vez? Tenga en cuenta que los últimos tres equipos en la clasificación de cada temporada descienden a la segunda división.</p></li>\n",
        "</ul>\n"
      ]
    },
    {
      "cell_type": "markdown",
      "metadata": {
        "id": "ZWfpH40pqCfx"
      },
      "source": [
        "\n",
        "<h1><a href=\"https://documentation.sas.com/doc/en/pgmsascdc/9.4_3.5/grstatproc/n0yjdd910dh59zn1toodgupaj4v9.htm\" style=\"color:red;\" target=\"_blank\">9.1 proc sgplot</a></h1>\n",
        "<h1><a href=\"https://documentation.sas.com/doc/en/pgmsascdc/9.4_3.5/grstatproc/n0zgx9a7en0g5vn1tjpja6sxdiwr.htm\" style=\"color:red;\" target=\"_blank\">9.2 proc sgpanel</a></h1>\n",
        "<h1><a href=\"https://documentation.sas.com/doc/en/pgmsascdc/9.4_3.5/grstatproc/n1je1qlb5bvtypn1rhbeyqw5h9rc.htm\" style=\"color:red;\" target=\"_blank\">9.3 proc sgscatter</a></h1>\n",
        "<h1><a href=\"https://documentation.sas.com/doc/en/pgmsascdc/9.4_3.5/grstatproc/n11xqf2g2rxnmbn1pgk4rbl5vz80.htm\" style=\"color:red;\" target=\"_blank\">9.4 proc sgpie</a></h1><h2 style=\"color:black;\">Visualización de datos</h2>\n"
      ]
    },
    {
      "cell_type": "code",
      "execution_count": null,
      "metadata": {
        "id": "HKteE6G8qCfx"
      },
      "outputs": [],
      "source": [
        "\n",
        "\n",
        "proc import datafile=\"/home/hvanegasp0/Curso/Advertising.xlsx\" dbms=xlsx out=Advertising replace;\n",
        "    getnames=yes;\n",
        "run;\n",
        "\n",
        "proc contents data=Advertising varnum;\n",
        "run;\n",
        "\n",
        "proc print data=Advertising (obs=10) noobs;\n",
        "run;\n",
        "\n",
        "\n"
      ]
    },
    {
      "cell_type": "markdown",
      "metadata": {
        "id": "WBws1c0yqCfx"
      },
      "source": [
        "\n",
        "<p><strong>Ejemplo 1</strong></p>\n",
        "<p align=\"justify\"> Estos datos, sacados de <i>Witten, Hastie, Tibshirani y James (2013). An Introduction to Statistical Learning: With Applications in R. Springer</i>, consisten en las ventas (sales), en miles de unidades, de un producto en 200 mercados diferentes junto con las inversiones en publicidad, en miles de dólares, para el producto en cada uno de esos mercados para diferentes medios: televisión (<i>TV</i>), radio (<i>radio</i>) y periódico (<i>newspaper</i>). Vea www.StatLearning.com.</p>\n"
      ]
    },
    {
      "cell_type": "code",
      "execution_count": null,
      "metadata": {
        "id": "UKb1YRTZqCfx"
      },
      "outputs": [],
      "source": [
        "\n",
        "\n",
        "proc sgplot data=Advertising;\n",
        "    scatter x=tv y=sales;\n",
        "    xaxis   label=\"Publicidad en TV\";\n",
        "    yaxis   label=\"Ventas\";\n",
        "    title   \"Ventas versus inversión en publicidad en TV\";\n",
        "run;\n",
        "\n",
        "\n"
      ]
    },
    {
      "cell_type": "markdown",
      "metadata": {
        "id": "NPy121B8qCfx"
      },
      "source": [
        "\n",
        "<p><strong>Ejemplo 2</strong></p>\n",
        "<p align=\"justify\"> Gráfico de dispersión <strong>personalizado</strong> de las ventas del producto (<i>sales</i>) versus la inversión en publicidad en televisión para el mismo (<i>TV</i>).</p>\n"
      ]
    },
    {
      "cell_type": "code",
      "execution_count": null,
      "metadata": {
        "id": "6xpzFEpWqCfx"
      },
      "outputs": [],
      "source": [
        "\n",
        "\n",
        "proc sgplot data=Advertising noautolegend;\n",
        "    scatter x=tv y=sales / markerattrs=(size=8 symbol=circlefilled color=red);\n",
        "    title   color=black justify=center \"Ventas versus inversión en publicidad en TV\";\n",
        "    xaxis   label=\"Inversión en publicidad en TV\" labelpos=center grid values=(0 to 300 by 50)\n",
        "            labelattrs=(color=blue size=9 weight=normal);\n",
        "    yaxis   label=\"Ventas\" labelpos=center grid values=(0 to 30 by 5)\n",
        "            labelattrs=(color=blue size=9 weight=normal);\n",
        "run;\n",
        "\n",
        "\n"
      ]
    },
    {
      "cell_type": "markdown",
      "metadata": {
        "id": "Z0hL-EqFqCfy"
      },
      "source": [
        "\n",
        "<p align=\"justify\"> Modifique el gráfico variando los siguientes parámetros </p><ul>\n",
        "<li><p align=\"justify\"> <strong><i>justify</i></strong>, <strong><i>labelpos</i></strong>: center, left, right.</p></li>\n",
        "<li><p align=\"justify\"> <strong><i>size</i></strong>: valor positivo.</p></li>\n",
        "<li><p align=\"justify\"> <strong><i>symbol</i></strong>: circle, circlefilled, diamond, diamondfilled, square, squarefilled, star, starfilled, triangle, trianglefilled, triangledown, triangledownfilled, asterisk, plus.</p></li>\n",
        "<li><p align=\"justify\"> <strong><i>weight</i></strong>: bold, normal.</p></li>\n",
        "<li><p align=\"justify\"> Elimine <strong><i>grid</i></strong> de <strong><i>xaxis</i></strong> y/o <strong><i>yaxis</i></strong>.</p></li>\n",
        "</ul>\n"
      ]
    },
    {
      "cell_type": "markdown",
      "metadata": {
        "id": "DZLpbwiIqCfy"
      },
      "source": [
        "\n",
        "<p><strong>Ejemplo 3</strong></p>\n",
        "<p align=\"justify\"> Gráfico de dispersión de las ventas del producto (<i>sales</i>) versus la inversión en publicidad en televisión para el mismo (<i>TV</i>), el cual incluye una curva de tendencia obtenida usando regresión polinómica.</p>\n"
      ]
    },
    {
      "cell_type": "code",
      "execution_count": null,
      "metadata": {
        "tags": [],
        "id": "93B3PmTLqCfy"
      },
      "outputs": [],
      "source": [
        "\n",
        "\n",
        "proc sgplot data=Advertising noautolegend;\n",
        "    reg     x=tv y=sales / degree=3 markerattrs=(size=8 symbol=circlefilled color=red)\n",
        "                         lineattrs=(pattern=solid thickness=2 color=black);\n",
        "    title   color=black justify=center \"Ventas versus inversión en publicidad en TV\";\n",
        "    xaxis   label=\"Inversión en publicidad en TV\" labelpos=center grid values=(0 to 300 by 50)\n",
        "            labelattrs=(color=blue size=8 weight=normal);\n",
        "    yaxis   label=\"Ventas\" labelpos=center grid values=(0 to 30 by 5)\n",
        "            labelattrs=(color=blue size=8 weight=normal);\n",
        "run;\n",
        "\n",
        "\n"
      ]
    },
    {
      "cell_type": "markdown",
      "metadata": {
        "id": "o_G9Q1IPqCfy"
      },
      "source": [
        "\n",
        "<p align=\"justify\"> Modifique el gráfico variando los siguientes parámetros </p><ul>\n",
        "<li><p align=\"justify\"> <strong><i>justify</i></strong>, <strong><i>labelpos</i></strong>: center, left, right.</p></li>\n",
        "<li><p align=\"justify\"> <strong><i>size</i></strong>, <strong><i>thickness</i></strong>: valor positivo.</p></li>\n",
        "<li><p align=\"justify\"> <strong><i>symbol</i></strong>: circle, circlefilled, diamond, diamondfilled, square, squarefilled, star, starfilled, triangle, trianglefilled, triangledown, triangledownfilled, asterisk, plus.</p></li>\n",
        "<li><p align=\"justify\"> <strong><i>pattern</i></strong>: solid, shortdash, mediumdash, longdash, dash, dashdashdot, dashdotdot, mediumdashshortdash, longdashshortdash, shortdashdot.</p></li>\n",
        "<li><p align=\"justify\"> <strong><i>weight</i></strong>: bold, normal.</p></li>\n",
        "<li><p align=\"justify\"> <strong><i>degree</i></strong>: entero positivo.</p></li>\n",
        "<li><p align=\"justify\"> Incluya <strong><i>clm</i></strong> despues de <strong><i>degree</i></strong>=value.</p></li>\n",
        "</ul>\n"
      ]
    },
    {
      "cell_type": "markdown",
      "metadata": {
        "id": "ERTVxdGlqCfy"
      },
      "source": [
        "\n",
        "<p><strong>Ejemplo 4</strong></p>\n",
        "<p align=\"justify\"> Gráfico de dispersión de las ventas del producto (<i>sales</i>) versus la inversión en publicidad en televisión para el mismo (<i>TV</i>), el cual incluye una curva de tendencia obtenida usando regresión no paramétrica.</p>\n"
      ]
    },
    {
      "cell_type": "code",
      "execution_count": null,
      "metadata": {
        "id": "p3oGm3DSqCfy"
      },
      "outputs": [],
      "source": [
        "\n",
        "\n",
        "proc sgplot data=Advertising noautolegend;\n",
        "    pbspline x=tv y=sales / smooth=3E5 markerattrs=(size=8 symbol=circlefilled color=red)\n",
        "                            lineattrs=(pattern=solid thickness=2 color=black);\n",
        "    title    color=black justify=center \"Ventas versus inversión en publicidad en TV\";\n",
        "    xaxis    label=\"Inversión en publicidad en TV\" labelpos=center grid values=(0 to 300 by 50)\n",
        "             labelattrs=(color=blue size=8 weight=normal);\n",
        "    yaxis    label=\"Ventas\" labelpos=center grid values=(0 to 30 by 5)\n",
        "             labelattrs=(color=blue size=8 weight=normal);\n",
        "run;\n",
        "\n",
        "\n"
      ]
    },
    {
      "cell_type": "markdown",
      "metadata": {
        "id": "Hx8vY8YWqCfy"
      },
      "source": [
        "\n",
        "<p align=\"justify\"> Modifique el gráfico variando los siguientes parámetros </p><ul>\n",
        "<li><p align=\"justify\"> <strong><i>justify</i></strong>, <strong><i>labelpos</i></strong>: center, left, right.</p></li>\n",
        "<li><p align=\"justify\"> <strong><i>size</i></strong>, <strong><i>thickness</i></strong>, <strong><i>smooth</i></strong>: valor positivo.</p></li>\n",
        "<li><p align=\"justify\"> <strong><i>symbol</i></strong>: circle, circlefilled, diamond, diamondfilled, square, squarefilled, star, starfilled, triangle, trianglefilled, triangledown, triangledownfilled, asterisk, plus.</p></li>\n",
        "<li><p align=\"justify\"> <strong><i>pattern</i></strong>: solid, shortdash, mediumdash, longdash, dash, dashdashdot, dashdotdot, mediumdashshortdash, longdashshortdash, shortdashdot.</p></li>\n",
        "<li><p align=\"justify\"> <strong><i>weight</i></strong>: bold, normal.</p></li>\n",
        "<li><p align=\"justify\"> <strong><i>degree</i></strong>: entero positivo.</p></li>\n",
        "<li><p align=\"justify\"> Incluya <strong><i>clm</i></strong> despues de <strong><i>smooth</i></strong>=value.</p></li>\n",
        "</ul>\n"
      ]
    },
    {
      "cell_type": "markdown",
      "metadata": {
        "id": "OjOojwXXqCfy"
      },
      "source": [
        "\n",
        "<p><strong>Ejemplo 5</strong></p>\n",
        "<p align=\"justify\"> Gráfico de dispersión de las ventas del producto (<i>sales</i>) versus la inversión en publicidad en televisión para el mismo (<i>TV</i>). Se usan colores y tamaños diferentes dependiendo de la inversión en publicidad en radio.</p>\n"
      ]
    },
    {
      "cell_type": "code",
      "execution_count": null,
      "metadata": {
        "id": "vclbDck3qCfy"
      },
      "outputs": [],
      "source": [
        "\n",
        "\n",
        "proc sgplot data=Advertising;\n",
        "    bubble     x=tv y=sales size=radio / colorresponse=radio colormodel=(white red) dataskin=pressed;\n",
        "    title      color=black justify=center \"Ventas versus inversión en publicidad en TV\";\n",
        "    xaxis      label=\"Inversión en publicidad en TV\" labelpos=center grid values=(0 to 300 by 50)\n",
        "               labelattrs=(color=blue size=8 weight=normal);\n",
        "    yaxis      label=\"Ventas\" labelpos=center grid values=(0 to 30 by 5)\n",
        "               labelattrs=(color=blue size=8 weight=normal);      \n",
        "    gradlegend / title=\"Publicidad en Radio\" position=right \n",
        "                 titleattrs=(color=blue size=8 style=normal weight=normal);          \n",
        "run;\n",
        "\n",
        "\n"
      ]
    },
    {
      "cell_type": "markdown",
      "metadata": {
        "id": "6rQm17peqCfy"
      },
      "source": [
        "\n",
        "<p align=\"justify\"> Modifique el gráfico variando los siguientes parámetros </p><ul>\n",
        "<li><p align=\"justify\"> <strong><i>position</i></strong>: top, bottom, left, right.</p></li>\n",
        "<li><p align=\"justify\"> <strong><i>labelpos</i></strong>: center, left, right.</p></li>\n",
        "<li><p align=\"justify\"> <strong><i>size</i></strong>, <strong><i>thickness</i></strong>: valor positivo.</p></li>\n",
        "<li><p align=\"justify\"> <strong><i>weight</i></strong>: bold, normal.</p></li>\n",
        "<li><p align=\"justify\"> <strong><i>style</i></strong>: italic, normal.</p></li>\n",
        "<li><p align=\"justify\"> <strong><i>dataskin</i></strong>: none, crisp, gloss, matte, pressed, sheen.</p></li>\n",
        "</ul>\n"
      ]
    },
    {
      "cell_type": "markdown",
      "metadata": {
        "id": "4-KCp4gXqCfz"
      },
      "source": [
        "\n",
        "<p><strong>Ejemplo 6</strong></p>\n",
        "<p align=\"justify\"> Gráfico de dispersión de las ventas del producto (<i>sales</i>) versus la inversión en publicidad en televisión para el mismo (<i>TV</i>). Se usan colores y marcadores diferentes dependiendo de la inversión en publicidad en radio.</p>\n"
      ]
    },
    {
      "cell_type": "code",
      "execution_count": null,
      "metadata": {
        "id": "vnRYPGyoqCfz"
      },
      "outputs": [],
      "source": [
        "\n",
        "\n",
        "%include \"/home/hvanegasp0/Curso/mismacros.sas\";\n",
        "%categories(Advertising,radio,3,radioC);\n",
        "\n",
        "proc format;\n",
        "    value bma 1=\"Baja\" 2=\"Media\" 3=\"Alta\";\n",
        "run;\n",
        "\n",
        "proc freq data=Advertising;\n",
        "    table radioC;\n",
        "    format radioC bma.;\n",
        "run;\n",
        "\n",
        "\n"
      ]
    },
    {
      "cell_type": "code",
      "execution_count": null,
      "metadata": {
        "id": "BlSsRwqCqCfz"
      },
      "outputs": [],
      "source": [
        "\n",
        "\n",
        "ods graphics on / attrpriority=none;\n",
        "proc sgplot data=Advertising noautolegend;\n",
        "    styleattrs datacontrastcolors=(red black blue)\n",
        "               datasymbols=(circlefilled squarefilled trianglefilled);\n",
        "    scatter    x=tv y=sales / group=radioC markerattrs=(size=8);\n",
        "    title      color=black justify=center \"Ventas versus inversión en publicidad en TV\";\n",
        "    xaxis      label=\"Inversión en publicidad en TV\" labelpos=center grid values=(0 to 300 by 50)\n",
        "               labelattrs=(color=blue size=8 weight=normal);\n",
        "    yaxis      label=\"Ventas\" labelpos=center grid values=(0 to 30 by 5)\n",
        "               labelattrs=(color=blue size=8 weight=normal);\n",
        "    keylegend  / title=\"Publicidad en Radio\" down=1 location=outside position=bottom;\n",
        "    format     radioC bma.;\n",
        "run;\n",
        "ods graphics on / attrpriority=color;           \n",
        "run;\n",
        "\n",
        "\n"
      ]
    },
    {
      "cell_type": "markdown",
      "metadata": {
        "id": "Ab5q2s9vqCfz"
      },
      "source": [
        "\n",
        "<p align=\"justify\"> Modifique el gráfico variando los siguientes parámetros </p><ul>\n",
        "<li><p align=\"justify\"> <strong><i>location</i></strong>: inside, outside.</p></li>\n",
        "<li><p align=\"justify\"> <strong><i>position</i></strong>: bottom, bottomleft, bottomright, left, right, top, topleft, topright.</p></li>\n",
        "<li><p align=\"justify\"> <strong><i>size</i></strong>: valor positivo.</p></li>\n",
        "<li><p align=\"justify\"> <strong><i>symbol</i></strong>: circle, circlefilled, diamond, diamondfilled, square, squarefilled, star, starfilled, triangle, trianglefilled, triangledown, triangledownfilled, asterisk, plus.</p></li>\n",
        "<li><p align=\"justify\"> <strong><i>down</i></strong>: 1, 2, 3.</p></li>\n",
        "</ul>\n"
      ]
    },
    {
      "cell_type": "markdown",
      "metadata": {
        "id": "6-QjUBh5qCfz"
      },
      "source": [
        "\n",
        "<p><strong>Ejemplo 7</strong></p>\n",
        "<p align=\"justify\"> Gráfico de dispersión de las ventas del producto (<i>sales</i>) versus la inversión en publicidad en televisión para el mismo (<i>TV</i>), el cual incluye una curva de tendencia obtenida usando regresión polinómica. Se usan colores y marcadores diferentes dependiendo de la inversión en publicidad en radio.</p>\n"
      ]
    },
    {
      "cell_type": "code",
      "execution_count": null,
      "metadata": {
        "id": "6OXcC58eqCfz"
      },
      "outputs": [],
      "source": [
        "\n",
        "\n",
        "ods graphics on / attrpriority=none;\n",
        "proc sgplot data=Advertising noautolegend;\n",
        "      styleattrs datacontrastcolors=(red black blue) datasymbols=(circlefilled squarefilled trianglefilled);\n",
        "      reg        x=tv y=sales / group=radioC degree=3 markerattrs=(size=8) \n",
        "                                lineattrs=(pattern=solid thickness=2);\n",
        "      title      color=black justify=center \"Ventas versus inversión en publicidad en TV\";\n",
        "      xaxis      label=\"Inversión en publicidad en TV\" labelpos=center grid values=(0 to 300 by 50)\n",
        "                 labelattrs=(color=blue size=8 weight=normal);\n",
        "      yaxis      label=\"Ventas\" labelpos=center grid values=(0 to 30 by 5)\n",
        "                 labelattrs=(color=blue size=8 weight=normal);\n",
        "      keylegend  / title=\"Publicidad en Radio\" down=1 location=outside position=bottom;\n",
        "      format     radioC bma.;\n",
        "run;\n",
        "ods graphics on / attrpriority=color;           \n",
        "run;\n",
        "\n",
        "\n"
      ]
    },
    {
      "cell_type": "markdown",
      "metadata": {
        "id": "BjyoRt_lqCfz"
      },
      "source": [
        "\n",
        "<p align=\"justify\"> Modifique el gráfico variando los siguientes parámetros </p><ul>\n",
        "<li><p align=\"justify\"> <strong><i>location</i></strong>: inside, outside.</p></li>\n",
        "<li><p align=\"justify\"> <strong><i>position</i></strong>: bottom, bottomleft, bottomright, left, right, top, topleft, topright.</p></li>\n",
        "<li><p align=\"justify\"> <strong><i>size</i></strong>, <strong><i>thickness</i></strong>: valor positivo.</p></li>\n",
        "<li><p align=\"justify\"> <strong><i>symbol</i></strong>: circle, circlefilled, diamond, diamondfilled, square, squarefilled, star, starfilled, triangle, trianglefilled, triangledown, triangledownfilled, asterisk, plus.</p></li>\n",
        "<li><p align=\"justify\"> <strong><i>pattern</i></strong>: solid, shortdash, mediumdash, longdash, dash, dashdashdot, dashdotdot, mediumdashshortdash, longdashshortdash, shortdashdot.</p></li>\n",
        "<li><p align=\"justify\"> <strong><i>down</i></strong>: 1, 2, 3.</p></li>\n",
        "<li><p align=\"justify\"> <strong><i>degree</i></strong>: entero positivo.</p></li>\n",
        "<li><p align=\"justify\"> Incluya <strong><i>clm</i></strong> despues de <strong><i>degree</i></strong>=value.</p></li>\n",
        "</ul>\n"
      ]
    },
    {
      "cell_type": "markdown",
      "metadata": {
        "id": "27gUph2vqCfz"
      },
      "source": [
        "\n",
        "<p><strong>Ejemplo 8</strong></p>\n",
        "<p align=\"justify\"> Gráfico de dispersión de las ventas del producto (<i>sales</i>) versus la inversión en publicidad en televisión para el mismo (<i>TV</i>), el cual incluye una curva de tendencia obtenida usando regresión no paramétrica. Se usan colores y marcadores diferentes dependiendo de la inversión en publicidad en radio.</p>\n"
      ]
    },
    {
      "cell_type": "code",
      "execution_count": null,
      "metadata": {
        "id": "QOUpChJOqCfz"
      },
      "outputs": [],
      "source": [
        "\n",
        "\n",
        "ods graphics on / attrpriority=none;\n",
        "proc sgplot data=Advertising noautolegend;\n",
        "      styleattrs datacontrastcolors=(red black blue)\n",
        "                 datasymbols=(circlefilled squarefilled trianglefilled);\n",
        "      pbspline   x=tv y=sales / group=radioC smooth=5E5 markerattrs=(size=8) \n",
        "                                lineattrs=(pattern=solid thickness=2);\n",
        "      title      color=black justify=center \"Ventas versus inversión en publicidad en TV\";\n",
        "      xaxis      label=\"Inversión en publicidad en TV\" labelpos=center grid values=(0 to 300 by 50)\n",
        "                 labelattrs=(color=blue size=8 weight=normal);\n",
        "      yaxis      label=\"Ventas\" labelpos=center grid values=(0 to 30 by 5)\n",
        "                 labelattrs=(color=blue size=8 weight=normal);\n",
        "      keylegend  / title=\"Publicidad en Radio\" down=1 location=outside position=bottom;\n",
        "      format     radioC bma.;\n",
        "run;\n",
        "ods graphics on / attrpriority=color;\n",
        "\n",
        "\n"
      ]
    },
    {
      "cell_type": "markdown",
      "metadata": {
        "id": "5UBsfgZrqCfz"
      },
      "source": [
        "\n",
        "<p align=\"justify\"> Modifique el gráfico variando los siguientes parámetros </p><ul>\n",
        "<li><p align=\"justify\"> <strong><i>location</i></strong>: inside, outside.</p></li>\n",
        "<li><p align=\"justify\"> <strong><i>position</i></strong>: bottom, bottomleft, bottomright, left, right, top, topleft, topright.</p></li>\n",
        "<li><p align=\"justify\"> <strong><i>size</i></strong>, <strong><i>thickness</i></strong>, <strong><i>smooth</i></strong>: valor positivo.</p></li>\n",
        "<li><p align=\"justify\"> <strong><i>symbol</i></strong>: circle, circlefilled, diamond, diamondfilled, square, squarefilled, star, starfilled, triangle, trianglefilled, triangledown, triangledownfilled, asterisk, plus.</p></li>\n",
        "<li><p align=\"justify\"> <strong><i>pattern</i></strong>: solid, shortdash, mediumdash, longdash, dash, dashdashdot, dashdotdot, mediumdashshortdash, longdashshortdash, shortdashdot.</p></li>\n",
        "<li><p align=\"justify\"> <strong><i>down</i></strong>: 1, 2, 3.</p></li>\n",
        "<li><p align=\"justify\"> Incluya <strong><i>clm</i></strong> despues de <strong><i>smooth</i></strong>=value.</p></li>\n",
        "</ul>\n"
      ]
    },
    {
      "cell_type": "markdown",
      "metadata": {
        "id": "hqA-I32UqCfz"
      },
      "source": [
        "\n",
        "<p><strong>Ejemplo 9</strong></p>\n",
        "<p align=\"justify\"> Gráfico de dispersión de las ventas del producto (<i>sales</i>) versus la inversión en publicidad en televisión para el mismo (<i>TV</i>), el cual incluye una curva de tendencia obtenida usando regresión polinómica. Se usan colores, marcadores y paneles diferentes dependiendo de la inversión en publicidad en radio.</p>\n"
      ]
    },
    {
      "cell_type": "code",
      "execution_count": null,
      "metadata": {
        "id": "8kAjCEQyqCfz"
      },
      "outputs": [],
      "source": [
        "\n",
        "\n",
        "%include \"/home/hvanegasp0/Curso/mismacros.sas\";\n",
        "%categories(Advertising,newspaper,4,newspaperC);\n",
        "\n",
        "proc format;\n",
        "    value bmma 1=\"Baja\" 2=\"Media baja\" 3=\"Media alta\" 4=\"Alta\";\n",
        "run;\n",
        "\n",
        "proc freq data=Advertising;\n",
        "    table newspaperC;\n",
        "    format newspaperC bmma.;\n",
        "run;\n",
        "\n",
        "\n"
      ]
    },
    {
      "cell_type": "code",
      "execution_count": null,
      "metadata": {
        "id": "uq6Ocy3PqCf0"
      },
      "outputs": [],
      "source": [
        "\n",
        "\n",
        "ods graphics on / attrpriority=none;\n",
        "proc sgpanel data=Advertising;\n",
        "      styleattrs datacontrastcolors=(red black blue) \n",
        "                 datasymbols=(circlefilled squarefilled trianglefilled);\n",
        "      panelby    newspaperC / layout=panel rows=2 columns=2 uniscale=row novarname \n",
        "                              headerattrs=(color=blue size=8 weight=normal);           \n",
        "      reg        x=tv y=sales / group=radioC degree=3 markerattrs=(size=8)\n",
        "                                lineattrs=(pattern=solid thickness=2);\n",
        "      title      color=black justify=center \"Inversión en publicidad en periódico\";\n",
        "      colaxis    label=\"Inversión en publicidad en TV\" labelpos=center grid\n",
        "                 labelattrs=(color=blue size=8 weight=normal);\n",
        "      rowaxis    label=\"Ventas\" labelpos=center grid\n",
        "                 labelattrs=(color=blue size=8 weight=normal);\n",
        "      keylegend  / title=\"Publicidad en radio\" position=bottom down=1 noborder;           \n",
        "      format     radioC bma. newspaperC bmma.;\n",
        "run;\n",
        "ods graphics on / attrpriority=color;\n",
        "\n",
        "\n"
      ]
    },
    {
      "cell_type": "markdown",
      "metadata": {
        "id": "InGNyP_GqCf0"
      },
      "source": [
        "\n",
        "<p align=\"justify\"> Modifique el gráfico variando los siguientes parámetros </p><ul>\n",
        "<li><p align=\"justify\"> <strong><i>location</i></strong>: inside, outside.</p></li>\n",
        "<li><p align=\"justify\"> <strong><i>position</i></strong>: bottom, bottomleft, bottomright, left, right, top, topleft, topright.</p></li>\n",
        "<li><p align=\"justify\"> <strong><i>size</i></strong>, <strong><i>thickness</i></strong>: valor positivo.</p></li>\n",
        "<li><p align=\"justify\"> <strong><i>symbol</i></strong>: circle, circlefilled, diamond, diamondfilled, square, squarefilled, star, starfilled, triangle, trianglefilled, triangledown, triangledownfilled, asterisk, plus.</p></li>\n",
        "<li><p align=\"justify\"> <strong><i>pattern</i></strong>: solid, shortdash, mediumdash, longdash, dash, dashdashdot, dashdotdot, mediumdashshortdash, longdashshortdash, shortdashdot.</p></li>\n",
        "<li><p align=\"justify\"> <strong><i>down</i></strong>: 1, 2, 3.</p></li>\n",
        "<li><p align=\"justify\"> <strong><i>degree</i></strong>: entero positivo.</p></li>\n",
        "<li><p align=\"justify\"> Incluya <strong><i>clm</i></strong> despues de <strong><i>degree</i></strong>=value.</p></li>\n",
        "</ul>\n"
      ]
    },
    {
      "cell_type": "markdown",
      "metadata": {
        "id": "jnxEXCqGqCf0"
      },
      "source": [
        "\n",
        "<p><strong>Ejemplo 10</strong></p>\n",
        "<p align=\"justify\"> Se ilustra la evolución en el tiempo (<i>date</i>) de las cotizaciones (<i>open</i>) de todos los stocks (<i>stock</i>) usando los datos en <i>sashelp.stocks</i>.</p>\n"
      ]
    },
    {
      "cell_type": "code",
      "execution_count": null,
      "metadata": {
        "id": "Bn6zaQR6qCf0"
      },
      "outputs": [],
      "source": [
        "\n",
        "\n",
        "proc sgplot data=sashelp.stocks;\n",
        "    styleattrs datacontrastcolors=(red blue gray);\n",
        "    series     x=date y=open / markers group=stock markerattrs=(size=4 symbol=squarefilled)\n",
        "               lineattrs=(pattern=solid thickness=1) ;\n",
        "    title      color=black justify=center \"Evolución de la cotización\";\n",
        "    xaxis      label=\" \" grid valueattrs=(color=black size=10);\n",
        "    yaxis      label=\" \" grid valueattrs=(color=black size=10);\n",
        "    keylegend  / title=\" \" noborder down=1 location=inside position=bottomleft;\n",
        "run;\n",
        "\n",
        "\n"
      ]
    },
    {
      "cell_type": "markdown",
      "metadata": {
        "id": "7Wt-FKroqCf0"
      },
      "source": [
        "\n",
        "<p align=\"justify\"> Modifique el gráfico variando los siguientes parámetros </p><ul>\n",
        "<li><p align=\"justify\"> <strong><i>location</i></strong>: inside, outside.</p></li>\n",
        "<li><p align=\"justify\"> <strong><i>position</i></strong>: bottom, bottomleft, bottomright, left, right, top, topleft, topright.</p></li>\n",
        "<li><p align=\"justify\"> <strong><i>size</i></strong>, <strong><i>thickness</i></strong>: valor positivo.</p></li>\n",
        "<li><p align=\"justify\"> <strong><i>symbol</i></strong>: circle, circlefilled, diamond, diamondfilled, square, squarefilled, star, starfilled, triangle, trianglefilled, triangledown, triangledownfilled, asterisk, plus.</p></li>\n",
        "<li><p align=\"justify\"> <strong><i>pattern</i></strong>: solid, shortdash, mediumdash, longdash, dash, dashdashdot, dashdotdot, mediumdashshortdash, longdashshortdash, shortdashdot.</p></li>\n",
        "<li><p align=\"justify\"> Elimine <strong><i>markers</i></strong>.</p></li>\n",
        "</ul>\n"
      ]
    },
    {
      "cell_type": "markdown",
      "metadata": {
        "id": "h131ubOXqCf0"
      },
      "source": [
        "\n",
        "<p><strong>Ejemplo 11</strong></p>\n",
        "<p align=\"justify\"> Gráfico de la evolución en el tiempo (<i>date</i>) de las cotizaciones (<i>open</i>) y los volumenes (<i>volume</i>) de Microsoft usando los datos en <i>sashelp.stocks</i>.</p>\n"
      ]
    },
    {
      "cell_type": "code",
      "execution_count": null,
      "metadata": {
        "id": "B0TSwA06qCf0"
      },
      "outputs": [],
      "source": [
        "\n",
        "\n",
        "proc sgplot data=sashelp.stocks;\n",
        "    series    x=date y=volume / name=\"a\" legendlabel=\"Volumen\"\n",
        "                                lineattrs=(color=gray pattern=solid thickness=1);\n",
        "    series    x=date y=open   / name=\"b\" y2axis legendlabel=\"Cotización\"\n",
        "                                lineattrs=(color=red pattern=solid thickness=1);\n",
        "    xaxis     label=\" \" grid valueattrs=(color=black size=10);\n",
        "    yaxis     label=\"Cantidad\" labelattrs=(color=blue) grid;\n",
        "    y2axis    label=\"Valor, en dólares\" labelattrs=(color=blue) grid;\n",
        "    keylegend \"a\" \"b\" / noborder down=1 location=outside;\n",
        "    where     stock=\"Microsoft\";\n",
        "run;\n",
        "\n",
        "\n"
      ]
    },
    {
      "cell_type": "markdown",
      "metadata": {
        "id": "jpdf6Y6QqCf0"
      },
      "source": [
        "\n",
        "<p align=\"justify\"> Modifique el gráfico variando los siguientes parámetros </p><ul>\n",
        "<li><p align=\"justify\"> <strong><i>location</i></strong>: inside, outside.</p></li>\n",
        "<li><p align=\"justify\"> <strong><i>position</i></strong>: bottom, bottomleft, bottomright, left, right, top, topleft, topright.</p></li>\n",
        "<li><p align=\"justify\"> <strong><i>size</i></strong>, <strong><i>thickness</i></strong>: valor positivo.</p></li>\n",
        "<li><p align=\"justify\"> <strong><i>symbol</i></strong>: circle, circlefilled, diamond, diamondfilled, square, squarefilled, star, starfilled, triangle, trianglefilled, triangledown, triangledownfilled, asterisk, plus.</p></li>\n",
        "<li><p align=\"justify\"> <strong><i>pattern</i></strong>: solid, shortdash, mediumdash, longdash, dash, dashdashdot, dashdotdot, mediumdashshortdash, longdashshortdash, shortdashdot.</p></li>\n",
        "<li><p align=\"justify\"> Agregue <strong><i>markers</i></strong> entre / y <strong><i>name</i></strong>.</p></li>\n",
        "</ul>\n"
      ]
    },
    {
      "cell_type": "markdown",
      "metadata": {
        "id": "X1qJqaFdqCf0"
      },
      "source": [
        "\n",
        "<p><strong>Ejemplo 12</strong></p>\n",
        "<p align=\"justify\"> Matriz de dispersión con las variables <i>mpg_highway</i>, <i>horsepower</i> y <i>EngineSize</i> del conjunto de datos <i>sashelp.cars</i>.</p>\n"
      ]
    },
    {
      "cell_type": "code",
      "execution_count": null,
      "metadata": {
        "id": "MIHvJn8BqCf0"
      },
      "outputs": [],
      "source": [
        "\n",
        "\n",
        "data cars;\n",
        "set sashelp.cars;\n",
        "run;\n",
        "\n",
        "%include \"/home/hvanegasp0/Curso/mismacros.sas\";\n",
        "%categories(cars,weight,2,weightC);\n",
        "\n",
        "proc format;\n",
        "    value ba 1=\"Bajo\" 2=\"Alto\";\n",
        "run;\n",
        "\n",
        "proc freq data=cars;\n",
        "    table weightC;\n",
        "    format weightC ba.;\n",
        "run;\n",
        "\n",
        "\n"
      ]
    },
    {
      "cell_type": "code",
      "execution_count": null,
      "metadata": {
        "id": "jRpZowxwqCf0"
      },
      "outputs": [],
      "source": [
        "\n",
        "\n",
        "proc sgscatter data=cars datacontrastcolors=(red blue);\n",
        "   matrix     mpg_highway horsepower enginesize / group=weightC markerattrs=(size=7 symbol=circlefilled)\n",
        "                                                  legend=(down=2 noborder position=right title=\"Peso\");\n",
        "   label      mpg_highway=\"Millas por galón\" horsepower=\"Caballos de fuerza\" enginesize=\"Tamaño del motor\";         \n",
        "   title      color=black justify=left \"Matriz de dispersión\";\n",
        "   format     weightC ba.;\n",
        "run;\n",
        "\n",
        "\n"
      ]
    },
    {
      "cell_type": "markdown",
      "metadata": {
        "id": "BTOA054GqCf1"
      },
      "source": [
        "\n",
        "<p align=\"justify\"> Modifique el gráfico variando los siguientes parámetros </p><ul>\n",
        "<li><p align=\"justify\"> <strong><i>justify</i></strong>: center, left, right.</p></li>\n",
        "<li><p align=\"justify\"> <strong><i>size</i></strong>: valor positivo.</p></li>\n",
        "<li><p align=\"justify\"> <strong><i>symbol</i></strong>: circle, circlefilled, diamond, diamondfilled, square, squarefilled, star, starfilled, triangle, trianglefilled, triangledown, triangledownfilled, asterisk, plus.</p></li>\n",
        "<li><p align=\"justify\"> Agregue <strong><i>diagonal=(histogram kernel)</i></strong> despues de <strong><i>markerattrs=(...)</i></strong>.</p></li>\n",
        "</ul>\n"
      ]
    },
    {
      "cell_type": "markdown",
      "metadata": {
        "id": "neRqMFWxqCf1"
      },
      "source": [
        "\n",
        "<p><strong>Ejemplo 13</strong></p>\n",
        "<p align=\"justify\"> Gráficos de dispersión de <i>mpg_highway</i> versus las variables <i>horsepower</i>, <i>weight</i>, <i>wheelbase</i> y <i>engine_size</i> del conjunto de datos <i>sashelp.cars</i>. Cada gráfico incluye una curva de tendencia obtenida usando regresión polinómica.</p>\n"
      ]
    },
    {
      "cell_type": "code",
      "execution_count": null,
      "metadata": {
        "id": "zHJuAE_iqCf1"
      },
      "outputs": [],
      "source": [
        "\n",
        "\n",
        "proc sgscatter data=sashelp.cars;\n",
        "    plot  mpg_highway*(horsepower weight wheelbase enginesize) / rows=2 columns=2\n",
        "          grid reg=(lineattrs=(thickness=2 color=blue) degree=3) \n",
        "          markerattrs=(size=5 symbol=circlefilled color=red);\n",
        "    label mpg_highway=\"Millas por galón\" horsepower=\"Caballos de fuerza\" weight=\"Peso\"\n",
        "          wheelbase=\"Distancia entre ejes\" enginesize=\"Tamaño del motor\"; \n",
        "    title color=black justify=right \"Gráficos de dispersión\";\n",
        "run;\n",
        "\n",
        "\n"
      ]
    },
    {
      "cell_type": "markdown",
      "metadata": {
        "id": "Ou-QrdFCqCf1"
      },
      "source": [
        "\n",
        "<p align=\"justify\"> Modifique el gráfico variando los siguientes parámetros </p><ul>\n",
        "<li><p align=\"justify\"> <strong><i>justify</i></strong>: center, left, right.</p></li>\n",
        "<li><p align=\"justify\"> <strong><i>size</i></strong>, <strong><i>thickness</i></strong>: valor positivo.</p></li>\n",
        "<li><p align=\"justify\"> <strong><i>symbol</i></strong>: circle, circlefilled, diamond, diamondfilled, square, squarefilled, star, starfilled, triangle, trianglefilled, triangledown, triangledownfilled, asterisk, plus.</p></li>\n",
        "<li><p align=\"justify\"> <strong><i>degree</i></strong>: entero positivo.</p></li>\n",
        "<li><p align=\"justify\"> Agregue <strong><i>clm</i></strong> despues de <strong><i>degreee</i></strong>=value.</p></li>\n",
        "</ul>\n"
      ]
    },
    {
      "cell_type": "markdown",
      "metadata": {
        "id": "DxCa1OwxqCf1"
      },
      "source": [
        "\n",
        "<p><strong>Ejemplo 14</strong></p>\n",
        "<p align=\"justify\"> Gráfico tipo <i>dona</i> que muestra el porcentaje de municipios en cada categoria de la variable <i>Zona</i>.</p>\n"
      ]
    },
    {
      "cell_type": "code",
      "execution_count": null,
      "metadata": {
        "id": "nh3S9ZBpqCf1"
      },
      "outputs": [],
      "source": [
        "\n",
        "\n",
        "proc sgpie data=CursoSAS.Municipios;\n",
        "    styleattrs backcolor=white datacolors=(orange blue);      \n",
        "    donut zona / datalabelattrs=(color=black size=11 style=normal weight=bold) \n",
        "                 datalabeldisplay=(category percent) ringsize=0.4\n",
        "                 datalabelloc=outside holelabel=\"Colombia\"\n",
        "                 holelabelattrs=(color=red style=normal weight=bold);\n",
        "    title \"Distribución del número de municipios por zona\";             \n",
        "run;\n",
        "\n",
        "\n"
      ]
    },
    {
      "cell_type": "markdown",
      "metadata": {
        "id": "uatp59kTqCf1"
      },
      "source": [
        "\n",
        "<p align=\"justify\"> Modifique el gráfico variando los siguientes parámetros </p><ul>\n",
        "<li><p align=\"justify\"> <strong><i>style</i></strong>: italic, normal.</p></li>\n",
        "<li><p align=\"justify\"> <strong><i>weight</i></strong>: bold, normal.</p></li>\n",
        "<li><p align=\"justify\"> <strong><i>size</i></strong>: valor positivo.</p></li>\n",
        "<li><p align=\"justify\"> <strong><i>datalabeldisplay</i></strong>: category, response, percent.</p></li>\n",
        "<li><p align=\"justify\"> <strong><i>datalabelloc</i></strong>: inside, outside, callout.</p></li>\n",
        "<li><p align=\"justify\"> <strong><i>direction</i></strong>: clockwise, counterclockwise.</p></li>\n",
        "<li><p align=\"justify\"> <strong><i>ringsize</i></strong>: Valor en el intervalo $(0,1]$.</p></li>\n",
        "</ul>\n"
      ]
    },
    {
      "cell_type": "markdown",
      "metadata": {
        "id": "dUvwSEvaqCf1"
      },
      "source": [
        "\n",
        "<p><strong>Ejemplo 15</strong></p>\n",
        "<p align=\"justify\"> Gráfico tipo <i>dona</i> que muestra el porcentaje de la superficie de Colombia que representan los municipios de cada categoria de la variable <i>Zona</i>.</p>\n"
      ]
    },
    {
      "cell_type": "code",
      "execution_count": null,
      "metadata": {
        "id": "g--Ib-b0qCf1"
      },
      "outputs": [],
      "source": [
        "\n",
        "\n",
        "proc sgpie data=CursoSAS.Municipios;\n",
        "    styleattrs backcolor=white datacolors=(orange blue);      \n",
        "    donut zona / datalabelattrs=(color=black size=11 style=normal weight=bold) \n",
        "                 datalabeldisplay=(category percent) ringsize=0.4\n",
        "                 datalabelloc=outside response=Superficie holelabel=\"Colombia\"\n",
        "                 holelabelattrs=(color=red style=normal weight=bold);\n",
        "    title \"Distribución de la superficie por zona\";             \n",
        "run;\n",
        "\n",
        "\n"
      ]
    },
    {
      "cell_type": "markdown",
      "metadata": {
        "id": "78bqr5SgqCf1"
      },
      "source": [
        "\n",
        "<p align=\"justify\"> Modifique el gráfico variando los siguientes parámetros </p><ul>\n",
        "<li><p align=\"justify\"> <strong><i>style</i></strong>: italic, normal.</p></li>\n",
        "<li><p align=\"justify\"> <strong><i>weight</i></strong>: bold, normal.</p></li>\n",
        "<li><p align=\"justify\"> <strong><i>size</i></strong>: valor positivo.</p></li>\n",
        "<li><p align=\"justify\"> <strong><i>datalabeldisplay</i></strong>: category, response, percent.</p></li>\n",
        "<li><p align=\"justify\"> <strong><i>datalabelloc</i></strong>: inside, outside, callout.</p></li>\n",
        "<li><p align=\"justify\"> <strong><i>direction</i></strong>: clockwise, counterclockwise.</p></li>\n",
        "<li><p align=\"justify\"> <strong><i>ringsize</i></strong>: Valor en el intervalo $(0,1]$.</p></li>\n",
        "</ul>\n"
      ]
    },
    {
      "cell_type": "markdown",
      "metadata": {
        "id": "Ul8dTGsKqCf1"
      },
      "source": [
        "\n",
        "<p><strong>Ejemplo 16</strong></p>\n",
        "<p align=\"justify\"> Gráfico tipo <i>torta</i> que muestra el porcentaje de la población de Colombia que representan los municipios de cada categoria de la variable <i>Zona</i>.</p>\n"
      ]
    },
    {
      "cell_type": "code",
      "execution_count": null,
      "metadata": {
        "id": "q8XH3ncmqCf1"
      },
      "outputs": [],
      "source": [
        "\n",
        "\n",
        "proc sgpie data=CursoSAS.Municipios;\n",
        "    styleattrs backcolor=white datacolors=(orange blue);      \n",
        "    pie zona / datalabelattrs=(color=black size=11 style=normal weight=bold) \n",
        "               datalabeldisplay=(category percent) \n",
        "               datalabelloc=outside response=poblacion;\n",
        "    title \"Distribución de la población por zona\";             \n",
        "run;\n",
        "\n",
        "\n"
      ]
    },
    {
      "cell_type": "markdown",
      "metadata": {
        "id": "LHHonRp4qCf1"
      },
      "source": [
        "\n",
        "<p align=\"justify\"> Modifique el gráfico variando los siguientes parámetros </p><ul>\n",
        "<li><p align=\"justify\"> <strong><i>style</i></strong>: italic, normal.</p></li>\n",
        "<li><p align=\"justify\"> <strong><i>weight</i></strong>: bold, normal.</p></li>\n",
        "<li><p align=\"justify\"> <strong><i>size</i></strong>: valor positivo.</p></li>\n",
        "<li><p align=\"justify\"> <strong><i>datalabeldisplay</i></strong>: category, response, percent.</p></li>\n",
        "<li><p align=\"justify\"> <strong><i>datalabelloc</i></strong>: inside, outside, callout.</p></li>\n",
        "<li><p align=\"justify\"> <strong><i>direction</i></strong>: clockwise, counterclockwise.</p></li>\n",
        "</ul>\n"
      ]
    },
    {
      "cell_type": "markdown",
      "metadata": {
        "id": "h_XOn_K2qCf2"
      },
      "source": [
        "\n",
        "<p><strong>Ejemplo 17</strong></p>\n",
        "<p align=\"justify\"> Gráfico tipo <i>torta</i> que muestra el porcentaje de la superficie de Colombia que representan los municipios de cada categoria de la variable <i>Zona</i>.</p>\n"
      ]
    },
    {
      "cell_type": "code",
      "execution_count": null,
      "metadata": {
        "id": "MLReh9b3qCf2"
      },
      "outputs": [],
      "source": [
        "\n",
        "\n",
        "proc sgpie data=CursoSAS.Municipios;\n",
        "    styleattrs backcolor=white datacolors=(orange blue);      \n",
        "    pie zona / datalabelattrs=(color=black size=11 style=normal weight=bold) \n",
        "               datalabeldisplay=(category percent) \n",
        "               datalabelloc=outside response=superficie;\n",
        "    title \"Distribución de la población por zona\";             \n",
        "run;\n",
        "\n",
        "\n"
      ]
    },
    {
      "cell_type": "markdown",
      "metadata": {
        "id": "HeOPz6D0qCf2"
      },
      "source": [
        "\n",
        "<p align=\"justify\"> Modifique el gráfico variando los siguientes parámetros </p><ul>\n",
        "<li><p align=\"justify\"> <strong><i>style</i></strong>: italic, normal.</p></li>\n",
        "<li><p align=\"justify\"> <strong><i>weight</i></strong>: bold, normal.</p></li>\n",
        "<li><p align=\"justify\"> <strong><i>size</i></strong>: valor positivo.</p></li>\n",
        "<li><p align=\"justify\"> <strong><i>datalabeldisplay</i></strong>: category, response, percent.</p></li>\n",
        "<li><p align=\"justify\"> <strong><i>datalabelloc</i></strong>: inside, outside, callout.</p></li>\n",
        "<li><p align=\"justify\"> <strong><i>direction</i></strong>: clockwise, counterclockwise.</p></li>\n",
        "</ul>\n"
      ]
    },
    {
      "cell_type": "markdown",
      "metadata": {
        "id": "zBdbK3kNqCf2"
      },
      "source": [
        "\n",
        "<p><strong>Ejemplo 18</strong></p>\n",
        "<p align=\"justify\"> Gráfico de barras que muestra el total de <i>Poblacion</i> por <i>Region</i> y <i>Zona</i> en Colombia.</p>\n"
      ]
    },
    {
      "cell_type": "code",
      "execution_count": null,
      "metadata": {
        "id": "nT2WtIHvqCf2"
      },
      "outputs": [],
      "source": [
        "\n",
        "\n",
        "proc sgplot data=CursoSAS.Municipios;\n",
        "    styleattrs datacolors=(orange blue) datacontrastcolors=(orange blue);      \n",
        "    hbar       Region / group=zona response=poblacion groupdisplay=cluster\n",
        "                        outlineattrs=(thickness=1) clusterwidth=0.85 stat=sum; \n",
        "    title      \"Distribución de la Población por Zona\" color=black bcolor=white;    \n",
        "    xaxis      label=\"Población\" grid valueattrs=(color=black size=10 style=normal weight=normal);\n",
        "    yaxis      label=\" \" valueattrs=(color=black size=10 style=normal weight=normal);\n",
        "    keylegend  / noborder down=2 location=outside position=right title=\"Zona\"\n",
        "                 valueattrs=(color=black size=9  style=normal weight=normal)\n",
        "                 titleattrs=(color=black size=10 style=normal weight=normal);\n",
        "run;\n",
        "\n",
        "\n"
      ]
    },
    {
      "cell_type": "markdown",
      "metadata": {
        "id": "j7RLc_8ZqCf2"
      },
      "source": [
        "\n",
        "<p align=\"justify\"> Modifique el gráfico variando los siguientes parámetros </p><ul>\n",
        "<li><p align=\"justify\"> <strong><i>stat</i></strong>: sum, mean.</p></li>\n",
        "<li><p align=\"justify\"> <strong><i>style</i></strong>: italic, normal.</p></li>\n",
        "<li><p align=\"justify\"> <strong><i>weight</i></strong>: bold, normal.</p></li>\n",
        "<li><p align=\"justify\"> <strong><i>size</i></strong>, <strong><i>thickness</i></strong>: valor positivo.</p></li>\n",
        "<li><p align=\"justify\"> <strong><i>location</i></strong>: inside, outside.</p></li>\n",
        "<li><p align=\"justify\"> <strong><i>position</i></strong>: bottom, bottomleft, bottomright, left, right, top, topleft, topright.</p></li>\n",
        "<li><p align=\"justify\"> <strong><i>down</i></strong>: 1, 2.</p></li>\n",
        "<li><p align=\"justify\"> <strong><i>clusterwidth</i></strong>: valor en el intervalo $(0,1)$.</p></li>\n",
        "<li><p align=\"justify\"> Reemplace <strong><i>hbar</i></strong> por <strong><i>vbar</i></strong>, <strong><i>xaxis</i></strong> por <strong><i>yaxis</i></strong>, y <strong><i>yaxis</i></strong> por <strong><i>xaxis</i></strong>.</p></li>\n",
        "</ul>\n"
      ]
    },
    {
      "cell_type": "markdown",
      "metadata": {
        "id": "96-1tuCoqCf2"
      },
      "source": [
        "\n",
        "<p><strong>Ejemplo 19</strong></p>\n",
        "<p align=\"justify\"> Gráfico de barras que muestra el total de <i>Superficie</i> por <i>Region</i> y <i>Zona</i> en Colombia.</p>\n"
      ]
    },
    {
      "cell_type": "code",
      "execution_count": null,
      "metadata": {
        "id": "DFMquEYHqCf2"
      },
      "outputs": [],
      "source": [
        "\n",
        "\n",
        "proc sgplot data=CursoSAS.Municipios;\n",
        "    styleattrs datacolors=(orange blue) datacontrastcolors=(orange blue);      \n",
        "    hbar       Region / group=zona response=superficie groupdisplay=cluster\n",
        "                        outlineattrs=(thickness=1) clusterwidth=0.85 stat=sum; \n",
        "    title      \"Distribución de la Superficie por Zona\" color=black bcolor=white;    \n",
        "    xaxis      label=\"Superficie\" grid valueattrs=(color=black size=10 style=normal weight=normal);\n",
        "    yaxis      label=\" \" valueattrs=(color=black size=10 style=normal weight=normal);\n",
        "    keylegend  / noborder down=2 location=outside position=right title=\"Zona\"\n",
        "                 valueattrs=(color=black size=9  style=normal weight=normal)\n",
        "                 titleattrs=(color=black size=10 style=normal weight=normal);\n",
        "run;\n",
        "\n",
        "\n"
      ]
    },
    {
      "cell_type": "markdown",
      "metadata": {
        "id": "uEAUAjnPqCf2"
      },
      "source": [
        "\n",
        "<p align=\"justify\"> Modifique el gráfico variando los siguientes parámetros </p><ul>\n",
        "<li><p align=\"justify\"> <strong><i>stat</i></strong>: sum, mean.</p></li>\n",
        "<li><p align=\"justify\"> <strong><i>style</i></strong>: italic, normal.</p></li>\n",
        "<li><p align=\"justify\"> <strong><i>weight</i></strong>: bold, normal.</p></li>\n",
        "<li><p align=\"justify\"> <strong><i>size</i></strong>, <strong><i>thickness</i></strong>: valor positivo.</p></li>\n",
        "<li><p align=\"justify\"> <strong><i>location</i></strong>: inside, outside.</p></li>\n",
        "<li><p align=\"justify\"> <strong><i>position</i></strong>: bottom, bottomleft, bottomright, left, right, top, topleft, topright.</p></li>\n",
        "<li><p align=\"justify\"> <strong><i>down</i></strong>: 1, 2.</p></li>\n",
        "<li><p align=\"justify\"> <strong><i>clusterwidth</i></strong>: valor en el intervalo $(0,1)$.</p></li>\n",
        "<li><p align=\"justify\"> Reemplace <strong><i>hbar</i></strong> por <strong><i>vbar</i></strong>, <strong><i>xaxis</i></strong> por <strong><i>yaxis</i></strong>, y <strong><i>yaxis</i></strong> por <strong><i>xaxis</i></strong>.</p></li>\n",
        "</ul>\n"
      ]
    },
    {
      "cell_type": "markdown",
      "metadata": {
        "id": "ZriK9CrIqCf2"
      },
      "source": [
        "\n",
        "<p><strong>Ejemplo 20</strong></p>\n",
        "<p align=\"justify\"> Gráfico de barras que muestra el total de <i>Poblacion</i> por <i>Zona</i>, con un panel por cada categoria de <i>Region</i>.</p>\n"
      ]
    },
    {
      "cell_type": "code",
      "execution_count": null,
      "metadata": {
        "id": "zHIDAt2GqCf2"
      },
      "outputs": [],
      "source": [
        "\n",
        "\n",
        "proc sgpanel data=CursoSAS.Municipios noautolegend;\n",
        "    styleattrs datacolors=(orange blue) datacontrastcolors=(orange blue);      \n",
        "    vbar       zona / group=zona response=poblacion groupdisplay=cluster \n",
        "                      outlineattrs=(thickness=1) clusterwidth=0.85 stat=sum; \n",
        "    panelby    Region / layout=panel rows=2 columns=3 uniscale=row novarname \n",
        "                        headerattrs=(color=blue size=10 weight=normal);           \n",
        "    title      \"Distribución de la Población por Zona\" color=black bcolor=white;  \n",
        "    rowaxis    label=\"Población\" grid valueattrs=(color=black size=10 style=normal weight=normal);\n",
        "    colaxis    label=\" \" valueattrs=(color=black size=10 style=normal weight=normal);\n",
        "run;\n",
        "\n",
        "\n"
      ]
    },
    {
      "cell_type": "markdown",
      "metadata": {
        "id": "WvEiojyuqCf3"
      },
      "source": [
        "\n",
        "<p align=\"justify\"> Modifique el gráfico variando los siguientes parámetros </p><ul>\n",
        "<li><p align=\"justify\"> <strong><i>layout</i></strong>: lattice, columnlattice, rowlattice, panel.</p></li>\n",
        "<li><p align=\"justify\"> <strong><i>rows</i></strong>: 1, 2 y 3.</p></li>\n",
        "<li><p align=\"justify\"> <strong><i>uniscale</i></strong>: column, row, all.</p></li>\n",
        "</ul>\n",
        "<ul>\n",
        "<li><p align=\"justify\"> <strong><i>size</i></strong>, <strong><i>thickness</i></strong>: valor positivo.</p></li>\n",
        "<li><p align=\"justify\"> <strong><i>style</i></strong>: italic, normal.</p></li>\n",
        "<li><p align=\"justify\"> <strong><i>stat</i></strong>: sum, mean.</p></li>\n",
        "<li><p align=\"justify\"> <strong><i>weight</i></strong>: bold, normal.</p></li>\n",
        "<li><p align=\"justify\"> <strong><i>clusterwidth</i></strong>: valor en el intervalo $(0,1)$.</p></li>\n",
        "<li><p align=\"justify\"> Reemplace <strong><i>hbar</i></strong> por <strong><i>vbar</i></strong>, <strong><i>xaxis</i></strong> por <strong><i>yaxis</i></strong>, y <strong><i>yaxis</i></strong> por <strong><i>xaxis</i></strong>.</p></li>\n",
        "</ul>\n"
      ]
    },
    {
      "cell_type": "markdown",
      "metadata": {
        "id": "6ttXX2mKqCf3"
      },
      "source": [
        "\n",
        "<p><strong>Ejemplo 21</strong></p>\n",
        "<p align=\"justify\"> En estos datos, sacados de <i>Diggle P.J., Heagarty P., Liang K.-Y. y Zeger S.L. (2002) Analysis of Longitudinal Data. Oxford University Press, Oxford</i>, el principal objetivo del análisis es evaluar el efecto de la contaminación por ozono en el crecimiento de los árboles. En un primer grupo (<i>treat=1</i>), se cultivaron un total de 54 árboles en una atmósfera enriquecida con ozono, mientras que en un segundo grupo (<i>treat=0</i>), 25 árboles se cultivaron en una atmósfera normal. El tamaño de cada árbol (<i>size</i>) se observó 13 veces a lo largo del tiempo (<i>days</i>), es decir, 152, 174, 201, 227, 258, 469, 496, 528, 556, 579, 613, 639 y 674 días desde el inicio del experimento.</p>\n"
      ]
    },
    {
      "cell_type": "code",
      "execution_count": null,
      "metadata": {
        "id": "gu0663ieqCf3"
      },
      "outputs": [],
      "source": [
        "\n",
        "\n",
        "data spruce;\n",
        "    infile \"/home/hvanegasp0/Curso/spruce.txt\" dsd delimiter=\"09\"x firstobs=2;\n",
        "    informat tree $8. size comma6.3 days treat best.;\n",
        "    input tree days size treat;\n",
        "run;\n",
        "\n",
        "proc contents data=spruce varnum;\n",
        "run;\n",
        "\n",
        "proc print data=spruce (obs=10) noobs;\n",
        "run;\n",
        "\n",
        "\n"
      ]
    },
    {
      "cell_type": "code",
      "execution_count": null,
      "metadata": {
        "id": "bEcJZO9sqCf3"
      },
      "outputs": [],
      "source": [
        "\n",
        "\n",
        "proc format;\n",
        "    value atmosphere 0=\"normal\" 1=\"ozone-enriched\";\n",
        "run;\n",
        "\n",
        "proc sgplot data=spruce;\n",
        "    styleattrs datacontrastcolors=(orange blue) datacolors=(orange blue);      \n",
        "    vbox       size / category=days group=treat boxwidth=0.8 nooutliers \n",
        "                      lineattrs=(color=black pattern=solid thickness=1)\n",
        "                      medianattrs=(color=black pattern=solid thickness=1); \n",
        "    title      \"Tree size across the time\" color=black bcolor=white;    \n",
        "    xaxis      label=\"Days\" valueattrs=(color=black size=10 style=normal weight=normal);\n",
        "    yaxis      label=\"Size\" grid values=(0 to 160 by 20) \n",
        "               valueattrs=(color=black size=10 style=normal weight=normal);\n",
        "    keylegend  / noborder down=1 location=outside position=bottom title=\"Atmosphere\"\n",
        "                 valueattrs=(color=black size=9  style=normal weight=normal)\n",
        "                 titleattrs=(color=black size=10 style=normal weight=normal);\n",
        "    format treat atmosphere.;             \n",
        "run;\n",
        "\n",
        "\n"
      ]
    },
    {
      "cell_type": "markdown",
      "metadata": {
        "id": "vmvPY9m9qCf3"
      },
      "source": [
        "\n",
        "<p align=\"justify\"> Modifique el gráfico variando los siguientes parámetros </p><ul>\n",
        "<li><p align=\"justify\"> <strong><i>style</i></strong>: italic, normal.</p></li>\n",
        "<li><p align=\"justify\"> <strong><i>weight</i></strong>: bold, normal.</p></li>\n",
        "<li><p align=\"justify\"> <strong><i>size</i></strong>, <strong><i>thickness</i></strong>: valor positivo.</p></li>\n",
        "<li><p align=\"justify\"> <strong><i>location</i></strong>: inside, outside.</p></li>\n",
        "<li><p align=\"justify\"> <strong><i>position</i></strong>: bottom, bottomleft, bottomright, left, right, top, topleft, topright.</p></li>\n",
        "<li><p align=\"justify\"> <strong><i>down</i></strong>: 1 y 2.</p></li>\n",
        "<li><p align=\"justify\"> <strong><i>boxwidth</i></strong>: valor en el intervalo $(0,1)$.</p></li>\n",
        "<li><p align=\"justify\"> <strong><i>pattern</i></strong>: solid, shortdash, mediumdash, longdash, dash, dashdashdot, dashdotdot, mediumdashshortdash, longdashshortdash, shortdashdot.</p></li>\n",
        "<li><p align=\"justify\"> Reemplace <strong><i>vbox</i></strong> por <strong><i>hbox</i></strong>, <strong><i>xaxis</i></strong> por <strong><i>yaxis</i></strong>, y <strong><i>yaxis</i></strong> por <strong><i>xaxis</i></strong>.</p></li>\n",
        "</ul>\n"
      ]
    },
    {
      "cell_type": "markdown",
      "metadata": {
        "id": "4ht43YwHqCf3"
      },
      "source": [
        "\n",
        "<h2 style=\"color:red;\">Ejercicios</h2><ul>\n",
        "<li><p align=\"justify\"> Importe el conjunto de datos en el archivo <strong>species.xlsx</strong> y cree con él un gráfico de dispersión del número de especies de plantas (<i>Species</i>) versus el nivel de biomasa (<i>Biomass</i>) de las parcelas, en el que el nivel de pH del suelo (<i>pH</i>), que pertenece a una de tres categorias posibles (\"Bajo\", \"Medio\" y \"Alto\"), se identifica mediante el tipo y el color de los símbolos que identifican cada parcela. En cada nivel del pH del suelo incluya una recta que describa la relación entre <i>Species</i> y <i>Biomass</i>. Haga un segundo gráfico usando tres paneles alineados horizontalmente, uno para cada nivel de pH del suelo.</p></li>\n",
        "<li><p align=\"justify\"> Importe el conjunto de datos en el archivo <strong>mcycle.xlsx</strong> sobre un accidente de motocicleta simulado que se usa para probar cascos de protección. Cree un gráfico de dispersión de la acceleración dela cabeza del piloto (<i>accel</i>) versus el tiempo (<i>times</i>), en milisegundos, desde el impacto que se produjo como resultado del accidente. Incluya una curva suave (regresión polinómica o regresión no paramétrica) que describa la relación entre <i>accel</i> y <i>times</i>.</p></li>\n",
        "<li><p align=\"justify\"> Haga un gráfico de las series mensuales de índices de precios (<i>fspcap</i>, <i>fspcom</i> y <i>fspcon</i>) que se encuentran en el conjunto de datos <strong>sashelp.citimon</strong>, en el cual se pueda observar facilmente la asociación entre ellas, si es que existe. Incluya en el mismo gráfico la serie mensual de la tasa de desempleo para mayores de 16 años (<i>lhur</i>).</p></li>\n",
        "<li><p align=\"justify\"> Haga gráficos de caja (verticales u horizontales) con la información del conjunto de datos <strong>sashelp.bmt</strong> en el que se observen las diferencias entre las distribuciones del tiempo de sobrevivencia despues del transplante (<i>t</i>) para los tres grupos de riesgo (<i>group</i>). Considere solamente los pacientes para los que se conoce su desenlace antes del final del estudio (<i>status=1</i>). Haga un segundo gráfico en el que los gráficos de caja se reemplazan por histogramas.</p></li>\n",
        "</ul>\n"
      ]
    },
    {
      "cell_type": "markdown",
      "metadata": {
        "id": "whhREz7DqCf3"
      },
      "source": [
        "\n",
        "<h1><a href=\"https://documentation.sas.com/doc/en/pgmsascdc/9.4_3.5/odsug/p06w67748n6ms6n1nfhcbg9emn7z.htm\" style=\"color:red;\" target=\"_blank\">10. Output Delivery System (ODS)</a></h1>\n"
      ]
    },
    {
      "cell_type": "markdown",
      "metadata": {
        "id": "NAMf5CNtqCf3"
      },
      "source": [
        "\n",
        "<p><strong>Ejemplo 1</strong></p>\n",
        "<p align=\"justify\"> Se crea el libro de Excel <strong>ods.xlsx</strong> que contiene un listado de municipios ordenados de mayor a menor con respecto al número de habitantes y con las variables <i>Depmun</i>, <i>Municipio</i>, <i>Poblacion</i> y <i>Superficie</i> así como los totales de estas dos últimas variables. Se usa una hoja del libro de Excel para cada departamento.</p>\n"
      ]
    },
    {
      "cell_type": "code",
      "execution_count": null,
      "metadata": {
        "id": "kfofd7deqCf3"
      },
      "outputs": [],
      "source": [
        "\n",
        "\n",
        "proc sort data=CursoSAS.Municipios;\n",
        "    by Departamento descending Poblacion;\n",
        "run;\n",
        "\n",
        "ods excel file='/home/hvanegasp0/Curso/ods1.xlsx' options(sheet_name='#byval1');\n",
        "\n",
        "options nodate nonumber nobyline;\n",
        "proc print data=CursoSAS.Municipios noobs nosumlabel;\n",
        "    var Depmun Municipio Poblacion Superficie;\n",
        "    by Departamento;\n",
        "    sum Poblacion Superficie;\n",
        "run;\n",
        "\n",
        "ods excel close;\n",
        "\n",
        "\n"
      ]
    },
    {
      "cell_type": "markdown",
      "metadata": {
        "id": "JdgN50u8qCf3"
      },
      "source": [
        "\n",
        "<p><strong>Ejemplo 2</strong></p>\n",
        "<p align=\"justify\"> Se crea el archivo <strong>ods.pdf</strong> que contiene un gráfico de barras de la variable <i>Zona</i> poderado por <i>Poblacion</i> para cada departamento del país, excepto Bogotá.</p>\n"
      ]
    },
    {
      "cell_type": "code",
      "execution_count": null,
      "metadata": {
        "id": "qrn2l1c-qCf4"
      },
      "outputs": [],
      "source": [
        "\n",
        "\n",
        "ods pdf file='/home/hvanegasp0/Curso/ods.pdf';\n",
        "ods noproctitle;\n",
        "options nodate nonumber nobyline;\n",
        "\n",
        "proc sgplot data=CursoSAS.Municipios noautolegend;\n",
        "    styleattrs datacontrastcolors=(orange blue) datacolors=(orange blue);    \n",
        "    vbar       Zona / group=zona response=poblacion groupdisplay=cluster\n",
        "                      clusterwidth=0.55 stat=sum; \n",
        "    yaxis      label=\"Número de habitantes\";\n",
        "    title      '#byval1';             \n",
        "    by         Departamento;\n",
        "    where      Dep ne \"11\";\n",
        "run;\n",
        "\n",
        "ods pdf close;\n",
        "\n",
        "\n"
      ]
    },
    {
      "cell_type": "markdown",
      "metadata": {
        "id": "FPoWuoBEqCf4"
      },
      "source": [
        "\n",
        "<p><strong>Ejemplo 3</strong></p>\n",
        "<p align=\"justify\"> Se crea el archivo <strong>ods.pptx</strong> que contiene un gráfico de barras de la variable <i>Zona</i> poderado por <i>Superficie</i> para cada departamento del país, excepto Bogotá.</p>\n"
      ]
    },
    {
      "cell_type": "code",
      "execution_count": null,
      "metadata": {
        "id": "wpIMpPt0qCf4"
      },
      "outputs": [],
      "source": [
        "\n",
        "\n",
        "ods powerpoint file='/home/hvanegasp0/Curso/ods.pptx';\n",
        "ods noproctitle;\n",
        "options nodate nonumber nobyline;\n",
        "\n",
        "proc sgplot data=CursoSAS.Municipios noautolegend;\n",
        "    styleattrs datacontrastcolors=(orange blue) datacolors=(orange blue);    \n",
        "    vbar       Zona / group=zona response=superficie groupdisplay=cluster\n",
        "                      clusterwidth=0.55 stat=sum; \n",
        "    yaxis      label=\"Kilómetros cuadrados\";\n",
        "    title      '#byval1';             \n",
        "    by         Departamento;\n",
        "    where      Dep ne \"11\";\n",
        "run;\n",
        "\n",
        "ods powerpoint close;\n",
        "\n",
        "\n"
      ]
    },
    {
      "cell_type": "markdown",
      "metadata": {
        "id": "BYfDOwrDqCf4"
      },
      "source": [
        "\n",
        "<p><strong>Ejemplo 4</strong></p>\n",
        "<p align=\"justify\"> Se crea el archivo <strong>ods.docx</strong> que contiene una tabla con algunas estadísticas descriptivas de las variables <i>Poblacion</i>, <i>Superficie</i> e <i>Irural</i> para cada departamento del país, excepto Bogotá.</p>\n"
      ]
    },
    {
      "cell_type": "code",
      "execution_count": null,
      "metadata": {
        "id": "egxQytWqqCf4"
      },
      "outputs": [],
      "source": [
        "\n",
        "\n",
        "ods word file='/home/hvanegasp0/Curso/ods.docx';\n",
        "ods noproctitle;\n",
        "options nodate nonumber nobyline;\n",
        "\n",
        "proc means data=CursoSAS.Municipios n min p25 p50 p75 max nolabels;\n",
        "    var Poblacion Superficie Irural;\n",
        "    by Departamento;\n",
        "    where Dep ne \"11\";\n",
        "    title '#byval1';\n",
        "run;\n",
        "\n",
        "ods word close;\n",
        "\n",
        "\n"
      ]
    },
    {
      "cell_type": "markdown",
      "metadata": {
        "id": "7aeUr1CnqCf4"
      },
      "source": [
        "\n",
        "<h1 style=\"color:red;\">11. Probabilidad</h1>\n"
      ]
    },
    {
      "cell_type": "markdown",
      "metadata": {
        "id": "x-m7mhg-qCf4"
      },
      "source": [
        "\n",
        "<p><img height=\"350\" src=\"https://sas2022.netlify.app/prob1.png\" width=\"600\"/>\n",
        "<img height=\"350\" src=\"https://sas2022.netlify.app/prob2.png\" width=\"600\"/>\n",
        "<img height=\"350\" src=\"https://sas2022.netlify.app/prob3.png\" width=\"600\"/></p>\n"
      ]
    },
    {
      "cell_type": "markdown",
      "metadata": {
        "id": "dL7JjIeJqCf4"
      },
      "source": [
        "\n",
        "<p><strong>Ejemplo 1</strong></p>\n",
        "<p align=\"justify\"> Gráfico de la función de probabilidad de una variable aleatoria con distribución Binomial de parámetros $n=10$ y $\\pi = 0.45$.</p>\n"
      ]
    },
    {
      "cell_type": "code",
      "execution_count": null,
      "metadata": {
        "id": "qs97m2LUqCf4"
      },
      "outputs": [],
      "source": [
        "\n",
        "\n",
        "data binom;\n",
        "    do i=0 to 10 by 1;\n",
        "       pdf = pdf(\"binomial\",i,0.45,10);\n",
        "       output;\n",
        "    end;\n",
        "run;\n",
        "\n",
        "proc sgplot data=binom noautolegend;\n",
        "    needle  x=i y=pdf / baseline=-1\n",
        "            lineattrs=(pattern=solid color=red thickness=1);\n",
        "    scatter x=i y=pdf / markerattrs=(symbol=circlefilled color=red);      \n",
        "    text    x=i y=pdf text=pdf/textattrs=(weight=bold) position=topleft;\n",
        "    title   justify=center color=blue \"Distribución Binomial(10,0.45)\";\n",
        "    xaxis   label=\"x\" labelattrs=(color=blue) values=(0 to 10 by 1);\n",
        "    yaxis   label=\"P(X=x)\" labelattrs=(color=blue) grid min=0;\n",
        "run;\n",
        "\n",
        "\n"
      ]
    },
    {
      "cell_type": "markdown",
      "metadata": {
        "id": "LQEMtLRCqCf4"
      },
      "source": [
        "\n",
        "<p align=\"justify\"> Modifique el gráfico variando los siguientes parámetros </p><ul>\n",
        "<li><p align=\"justify\"> <strong><i>thickness</i></strong>: valores positivos.</p></li>\n",
        "<li><p align=\"justify\"> <strong><i>justify</i></strong>: left, center, right.</p></li>\n",
        "<li><p align=\"justify\"> <strong><i>position</i></strong>: topleft, topright, bottomleft, bottomright.</p></li>\n",
        "<li><p align=\"justify\"> <strong><i>weight</i></strong>: bold, normal.</p></li>\n",
        "<li><p align=\"justify\"> <strong><i>pattern</i></strong>: solid, shortdash, mediumdash, longdash, dash, dashdashdot, dashdotdot, mediumdashshortdash, longdashshortdash, shortdashdot.</p></li>\n",
        "</ul>\n"
      ]
    },
    {
      "cell_type": "markdown",
      "metadata": {
        "id": "7MoXhJK0qCf4"
      },
      "source": [
        "\n",
        "<p><strong>Ejemplo 2</strong></p>\n",
        "<p align=\"justify\"> Gráfico de la función de distribución acumulada de una variable aleatoria con distribución Binomial de parámetros $n=10$ y $\\pi = 0.45$.</p>\n"
      ]
    },
    {
      "cell_type": "code",
      "execution_count": null,
      "metadata": {
        "id": "ds8WWxNuqCf4"
      },
      "outputs": [],
      "source": [
        "\n",
        "\n",
        "data binom;\n",
        "set binom;\n",
        "    cdf = cdf(\"binomial\",i,0.4,10);\n",
        "    j = i + 1;\n",
        "run;\n",
        "\n",
        "proc sgplot data=binom noautolegend;\n",
        "    vector  x=i y=cdf / xorigin=j yorigin=cdf noarrowheads\n",
        "                        lineattrs=(color=red thickness=1);\n",
        "    scatter x=i y=cdf / markerattrs=(symbol=circlefilled color=red);\n",
        "    text    x=i y=cdf text=cdf/textattrs=(weight=bold) position=topleft;\n",
        "    title   justify=center color=blue \"Distribución Binomial(10,0.4)\";\n",
        "    xaxis   label=\"x\" labelattrs=(color=blue) values=(0 to 10 by 1);\n",
        "    yaxis   label=\"P(X<=x)\" labelattrs=(color=blue) grid;\n",
        "run;\n",
        "\n",
        "\n"
      ]
    },
    {
      "cell_type": "markdown",
      "metadata": {
        "id": "EcR7W3JMqCf4"
      },
      "source": [
        "\n",
        "<p align=\"justify\"> Modifique el gráfico variando los siguientes parámetros </p><ul>\n",
        "<li><p align=\"justify\"> <strong><i>thickness</i></strong>: valores positivos.</p></li>\n",
        "<li><p align=\"justify\"> <strong><i>justify</i></strong>: left, center, right.</p></li>\n",
        "<li><p align=\"justify\"> <strong><i>position</i></strong>: topleft, topright, bottomleft, bottomright.</p></li>\n",
        "<li><p align=\"justify\"> <strong><i>weight</i></strong>: bold, normal.</p></li>\n",
        "<li><p align=\"justify\"> <strong><i>pattern</i></strong>: solid, shortdash, mediumdash, longdash, dash, dashdashdot, dashdotdot, mediumdashshortdash, longdashshortdash, shortdashdot.</p></li>\n",
        "</ul>\n"
      ]
    },
    {
      "cell_type": "markdown",
      "metadata": {
        "id": "eIXL4S4XqCf5"
      },
      "source": [
        "\n",
        "<p><img height=\"350\" src=\"https://sas2022.netlify.app/prob4.png\" width=\"600\"/>\n",
        "<img height=\"350\" src=\"https://sas2022.netlify.app/prob5.png\" width=\"600\"/>\n",
        "<img height=\"350\" src=\"https://sas2022.netlify.app/prob6.png\" width=\"600\"/>\n",
        "<img height=\"350\" src=\"https://sas2022.netlify.app/prob7.png\" width=\"600\"/></p>\n"
      ]
    },
    {
      "cell_type": "markdown",
      "metadata": {
        "id": "aO91zFWGqCf5"
      },
      "source": [
        "\n",
        "<p><strong>Ejemplo 3</strong></p>\n",
        "<p align=\"justify\"> Gráfico de $f_{X}(x)$ y $F_{X}(x)$ para una variable aleatoria con distribución Beta de parámetros $\\alpha=1.5$ and $\\beta=9$.</p>\n"
      ]
    },
    {
      "cell_type": "code",
      "execution_count": null,
      "metadata": {
        "id": "ZAKP-Fl0qCf5"
      },
      "outputs": [],
      "source": [
        "\n",
        "\n",
        "data beta;\n",
        "    do i=0 to 1 by 0.01;\n",
        "       pdf = pdf(\"beta\",i,1.5,9.0);\n",
        "       cdf = cdf(\"beta\",i,1.5,9.0);\n",
        "       output;\n",
        "    end;\n",
        "run;\n",
        "\n",
        "proc sgplot data=beta;\n",
        "    series    x=i y=pdf / lineattrs=(pattern=solid color=black thickness=2)\n",
        "                       name=\"a\" legendlabel=\"Probability density function\";\n",
        "    series    x=i y=cdf / lineattrs=(pattern=solid color=blue thickness=2) y2axis\n",
        "                       name=\"b\" legendlabel=\"Cumulative distribution function\";\n",
        "    title     justify=center color=red \"Distribution Beta(1.5,9.0)\";\n",
        "    xaxis     label=\"x\" labelattrs=(color=red size=12) grid;\n",
        "    yaxis     label=\"f(x)\" labelattrs=(color=black size=12) grid;\n",
        "    y2axis    label=\"F(x)\" labelattrs=(color=blue size=12) grid;\n",
        "    keylegend \"a\" \"b\" / noborder position=bottomleft down=2;\n",
        "run;\n",
        "\n",
        "\n"
      ]
    },
    {
      "cell_type": "markdown",
      "metadata": {
        "id": "Q3I9nw7xqCf5"
      },
      "source": [
        "\n",
        "<p align=\"justify\"> Modifique el gráfico variando los siguientes parámetros </p><ul>\n",
        "<li><p align=\"justify\"> <strong><i>size</i></strong>, <strong><i>thickness</i></strong>: valores positivos.</p></li>\n",
        "<li><p align=\"justify\"> <strong><i>justify</i></strong>: left, center, right.</p></li>\n",
        "<li><p align=\"justify\"> <strong><i>position</i></strong>: topleft, topright, bottomleft, bottomright.</p></li>\n",
        "<li><p align=\"justify\"> <strong><i>down</i></strong>: 1 y 2.</p></li>\n",
        "<li><p align=\"justify\"> <strong><i>pattern</i></strong>: solid, shortdash, mediumdash, longdash, dash, dashdashdot, dashdotdot, mediumdashshortdash, longdashshortdash, shortdashdot.</p></li>\n",
        "</ul>\n"
      ]
    },
    {
      "cell_type": "markdown",
      "metadata": {
        "id": "hg_61aafqCf5"
      },
      "source": [
        "\n",
        "<p><strong>Ejemplo 4</strong></p>\n",
        "<p align=\"justify\"> Gráfico de $f_{X}(x)$ y $F_{X}(x)$ para una variable aleatoria con distribución normal estándar.</p>\n"
      ]
    },
    {
      "cell_type": "code",
      "execution_count": null,
      "metadata": {
        "id": "X9bG6jbuqCf5"
      },
      "outputs": [],
      "source": [
        "\n",
        "\n",
        "data normal;\n",
        "    do i=-4 to 4 by 0.01;\n",
        "       pdf = pdf(\"normal\",i,0,1);\n",
        "       cdf = cdf(\"normal\",i,0,1);\n",
        "       output;\n",
        "    end;\n",
        "run;\n",
        "\n",
        "proc sgplot data=normal;\n",
        "    series     x=i y=pdf / lineattrs=(pattern=solid color=black thickness=2)\n",
        "                           name=\"a\" legendlabel=\"Probability density function\";\n",
        "    series     x=i y=cdf / lineattrs=(pattern=solid color=blue thickness=2) y2axis\n",
        "                       name=\"b\" legendlabel=\"Cumulative distribution function\";\n",
        "    title      justify=center color=red \"Standard Normal Distribution\";\n",
        "    xaxis      label=\"x\" labelattrs=(color=red size=12) grid;\n",
        "    yaxis      label=\"f(x)\" labelattrs=(color=black size=12) grid;\n",
        "    y2axis     label=\"F(x)\" labelattrs=(color=blue size=12) grid;\n",
        "    keylegend \"a\" \"b\" / noborder position=bottomleft down=2;\n",
        "run;\n",
        "\n",
        "\n"
      ]
    },
    {
      "cell_type": "markdown",
      "metadata": {
        "id": "btxcOV7rqCf5"
      },
      "source": [
        "\n",
        "<p align=\"justify\"> Modifique el gráfico variando los siguientes parámetros </p><ul>\n",
        "<li><p align=\"justify\"> <strong><i>size</i></strong>, <strong><i>thickness</i></strong>: valores positivos.</p></li>\n",
        "<li><p align=\"justify\"> <strong><i>justify</i></strong>: left, center, right.</p></li>\n",
        "<li><p align=\"justify\"> <strong><i>position</i></strong>: topleft, topright, bottomleft, bottomright.</p></li>\n",
        "<li><p align=\"justify\"> <strong><i>down</i></strong>: 1 y 2.</p></li>\n",
        "<li><p align=\"justify\"> <strong><i>pattern</i></strong>: solid, shortdash, mediumdash, longdash, dash, dashdashdot, dashdotdot, mediumdashshortdash, longdashshortdash, shortdashdot.</p></li>\n",
        "</ul>\n"
      ]
    },
    {
      "cell_type": "markdown",
      "metadata": {
        "id": "Ytvf3yCkqCf5"
      },
      "source": [
        "\n",
        "<h1><a href=\"https://documentation.sas.com/doc/en/pgmsascdc/9.4_3.4/imlug/imlug_imlstart_sect012.htm\" style=\"color:red;\" target=\"_blank\">12. proc iml</a></h1><h2 style=\"color:black;\">Creación y manipulación de vectores y matrices</h2>\n"
      ]
    },
    {
      "cell_type": "markdown",
      "metadata": {
        "id": "k1JvAHt-qCf5"
      },
      "source": [
        "\n",
        "<p><img height=\"350\" src=\"https://sas2022.netlify.app/iml1.png\" width=\"700\"/>\n",
        "<img height=\"350\" src=\"https://sas2022.netlify.app/iml2.png\" width=\"700\"/>\n",
        "<img height=\"350\" src=\"https://sas2022.netlify.app/iml3.png\" width=\"700\"/>\n",
        "<img height=\"350\" src=\"https://sas2022.netlify.app/iml4.png\" width=\"700\"/></p>\n"
      ]
    },
    {
      "cell_type": "markdown",
      "metadata": {
        "id": "XMxWHOheqCf5"
      },
      "source": [
        "\n",
        "<h1><a href=\"https://documentation.sas.com/doc/en/pgmsascdc/9.4_3.4/imlug/imlug_langref_sect002.htm\" style=\"color:red;\" target=\"_blank\">Otras funciones en iml</a></h1>\n"
      ]
    },
    {
      "cell_type": "markdown",
      "metadata": {
        "id": "l-1eBE4XqCf5"
      },
      "source": [
        "\n",
        "<p><strong>Ejemplo 1</strong></p>\n",
        "<p align=\"justify\"> La matriz <i>M</i> es definida positiva?</p>\n"
      ]
    },
    {
      "cell_type": "code",
      "execution_count": null,
      "metadata": {
        "id": "mYMVbxPtqCf5"
      },
      "outputs": [],
      "source": [
        "\n",
        "\n",
        "proc iml;\n",
        "    M = {5 1, 1 3};\n",
        "    a = min(eigval(M));\n",
        "    if(a > 0) then\n",
        "      print \"La matriz M es definida positiva pues su mínimo valor propio es\" a[label=\"\"];  \n",
        "    else print \"La matriz M no es definida positiva\";\n",
        "quit;\n",
        "\n",
        "\n"
      ]
    },
    {
      "cell_type": "markdown",
      "metadata": {
        "id": "fqyg43CaqCf5"
      },
      "source": [
        "\n",
        "<p><strong>Ejemplo 2</strong></p>\n",
        "<p align=\"justify\"> La matriz <i>M</i> es singular?</p>\n"
      ]
    },
    {
      "cell_type": "code",
      "execution_count": null,
      "metadata": {
        "id": "RsglITuAqCf5"
      },
      "outputs": [],
      "source": [
        "\n",
        "\n",
        "proc iml;\n",
        "    M = {5 1, 1 -3};\n",
        "    a = det(M);\n",
        "    if(a ^= 0) then print \"La matriz M no es singular pues su determinante es\" a[label=\"\"];\n",
        "    else print \"La matriz M es singular\";\n",
        "quit;\n",
        "\n",
        "\n"
      ]
    },
    {
      "cell_type": "markdown",
      "metadata": {
        "id": "5sfS_V7UqCf6"
      },
      "source": [
        "\n",
        "<p><strong>Ejemplo 3</strong></p>\n",
        "<p align=\"justify\"> Se calcula el vector de medias, la matriz de varianzas-covarianzas, así como la matriz de correlaciones de las variables <i>sepallength</i>, <i>sepalwidth</i>, <i>petallength</i>, y <i>petalwidth</i> del conjunto de datos <strong>sashelp.iris</strong>.</p>\n"
      ]
    },
    {
      "cell_type": "code",
      "execution_count": null,
      "metadata": {
        "id": "9C0SPqNxqCf6"
      },
      "outputs": [],
      "source": [
        "\n",
        "\n",
        "proc iml;\n",
        "    use sashelp.iris (keep=sepallength sepalwidth petallength petalwidth);\n",
        "    m = contents();\n",
        "    read all into X;\n",
        "    mu = mean(X);\n",
        "    Y = X - mu;\n",
        "    S = t(Y)*Y/(nrow(Y)-1);\n",
        "    Z = (X - mu)/std(X);\n",
        "    R = t(Z)*Z/(nrow(Z)-1);\n",
        "    print mu[colname=m label=\"Vector de medias\" format=d10.4];\n",
        "    print  S[rowname=m colname=m label=\"Matriz de varianzas-covarianzas\" format=d10.4];\n",
        "    print  R[rowname=m colname=m label=\"Matriz de correlaciones\" format=d10.4];\n",
        "quit;\n",
        "\n",
        "\n"
      ]
    },
    {
      "cell_type": "markdown",
      "metadata": {
        "id": "v6443Mb-qCf6"
      },
      "source": [
        "\n",
        "<p><strong>Ejemplo 4</strong></p>\n",
        "<p align=\"justify\"> Se estandarizan (es decir, se resta la media y luego se divide por la desviación estándar) las variables <i>sepallength</i> y <i>sepalwidth</i> del conjunto de datos <strong>sashelp.iris</strong> para luego crear una copia de este conjunto de datos (<strong>iris2</strong>) en el que <i>sepallength</i> y <i>sepalwidth</i> se reemplazan por sus versiones estandarizadas.</p>\n"
      ]
    },
    {
      "cell_type": "code",
      "execution_count": null,
      "metadata": {
        "id": "mv4UQt6YqCf6"
      },
      "outputs": [],
      "source": [
        "\n",
        "\n",
        "proc iml;\n",
        "    use sashelp.iris(keep=sepallength sepalwidth);\n",
        "    m = contents();\n",
        "    read all into X;\n",
        "\n",
        "    Z = (X - mean(X))/std(X);\n",
        "\n",
        "    create iris2 from Z[colname=m];\n",
        "    append from Z;\n",
        "    close iris2;\n",
        "quit;\n",
        "\n",
        "data iris2;\n",
        "set sashelp.iris;\n",
        "set iris2;\n",
        "run;\n",
        "\n",
        "proc print data=iris2 (obs=10) noobs;\n",
        "run;\n",
        "\n",
        "\n"
      ]
    },
    {
      "cell_type": "markdown",
      "metadata": {
        "id": "FytvZAApqCf6"
      },
      "source": [
        "\n",
        "<p><strong>Ejemplo 5</strong></p>\n",
        "<p align=\"justify\"> Se hace ACP (Análisis de Componentes Principales) con las variables numéricas del conjunto de datos <strong>sashelp.iris</strong>.</p>\n"
      ]
    },
    {
      "cell_type": "code",
      "execution_count": null,
      "metadata": {
        "id": "wv_QK8FLqCf6"
      },
      "outputs": [],
      "source": [
        "\n",
        "\n",
        "proc iml;\n",
        "    use sashelp.iris (keep=_numeric_);\n",
        "    m = contents();\n",
        "    read all into X;\n",
        "    Z = (X - mean(X))/std(X);\n",
        "    S = t(Z)*Z/(nrow(Z)-1);\n",
        "    vec = eigvec(S);\n",
        "    val = eigval(S);\n",
        "    b = cusum(val);\n",
        "    val = val||100*val/sum(val)||100*b/sum(val);\n",
        "    s = do(1,ncol(X),1);\n",
        "    print val[colname={\"Eigenvalue\" \"Percentage\" \"Cumulative\"}\n",
        "    label=\"Eigenvalues of the Correlation Matrix\" rowname=s format=d10.4];\n",
        "    print vec[rowname=m colname=s label=\"Principal Components\" format=d10.4];\n",
        "quit;\n",
        "\n",
        "proc princomp data=sashelp.iris;\n",
        "    var _numeric_;\n",
        "run;\n",
        "\n",
        "\n"
      ]
    },
    {
      "cell_type": "markdown",
      "metadata": {
        "id": "KvfP36K2qCf6"
      },
      "source": [
        "\n",
        "<h1><a href=\"https://documentation.sas.com/doc/en/pgmsascdc/9.4_3.5/mcrolref/p1nypovnwon4uyn159rst8pgzqrl.htm\" style=\"color:red;\" target=\"_blank\">13. Funciones personalizadas</a></h1>\n"
      ]
    },
    {
      "cell_type": "markdown",
      "metadata": {
        "id": "PKtAxdxbqCf6"
      },
      "source": [
        "\n",
        "<h1><a style=\"color:red;\"> Muestreo de Bernoulli (BER) </a></h1>\n"
      ]
    },
    {
      "cell_type": "markdown",
      "metadata": {
        "id": "GRmR3156qCf6"
      },
      "source": [
        "\n",
        "<p><img height=\"350\" src=\"https://sas2022.netlify.app/macros1.png\" width=\"600\"/></p>\n"
      ]
    },
    {
      "cell_type": "markdown",
      "metadata": {
        "id": "Z5DH43VKqCf6"
      },
      "source": [
        "\n",
        "<p><strong>Ejemplo 1</strong></p>\n",
        "<p align=\"justify\"> Macro <strong>%ber()</strong> que selecciona una muestra aleatoria del conjunto de datos <i>data</i> usando BER con tamaño relativo esperado igual a <i>tre</i> y la guarda en el conjunto de datos <i>out</i>.</p>\n"
      ]
    },
    {
      "cell_type": "code",
      "execution_count": null,
      "metadata": {
        "id": "AmKoKwP9qCf6"
      },
      "outputs": [],
      "source": [
        "\n",
        "\n",
        "%macro ber(data,tre,out=mysample);\n",
        "    %if &tre <= 0 or &tre >= 1 %then %do;\n",
        "      %put ERROR: TRE debe estar en el intervalo (0,1);\n",
        "      %return;\n",
        "    %end;\n",
        "    data &out;\n",
        "      set &data;\n",
        "      u = rand(\"Uniform\",0,1);\n",
        "      if u > &tre then delete;\n",
        "      drop u;\n",
        "    run;\n",
        "    proc sql noprint;\n",
        "      select count(*) into:p \n",
        "      from &data;\n",
        "      select count(*) into:s \n",
        "      from &out;\n",
        "    quit;\n",
        "    %put NOTE: Muestreo de Bernoulli aplicado a &data;\n",
        "    %put NOTE: Tamaño de la Población = &p;\n",
        "    %put NOTE: Tamaño Relativo Esperado = &tre;\n",
        "    %put NOTE: Tamaño de la Muestra = &s;\n",
        "%mend;\n",
        "\n",
        "%ber(sashelp.baseball,0.2,out=bersample);\n",
        "\n",
        "proc contents data=bersample varnum;\n",
        "run;\n",
        "\n",
        "\n"
      ]
    },
    {
      "cell_type": "markdown",
      "metadata": {
        "id": "CeTvvtAMqCf6"
      },
      "source": [
        "\n",
        "<h1><a style=\"color:red;\"> Muestreo Aleatorio Simple (MAS) </a></h1>\n"
      ]
    },
    {
      "cell_type": "markdown",
      "metadata": {
        "id": "3-8WREtvqCf6"
      },
      "source": [
        "\n",
        "<p><img height=\"350\" src=\"https://sas2022.netlify.app/macros2.png\" width=\"600\"/></p>\n"
      ]
    },
    {
      "cell_type": "markdown",
      "metadata": {
        "id": "saFvFCWiqCf7"
      },
      "source": [
        "\n",
        "<p><strong>Ejemplo 2</strong></p>\n",
        "<p align=\"justify\"> Macro <strong>%mas()</strong> que selecciona una muestra aleatoria del conjunto de datos <i>data</i> usando MAS de tamaño igual a <i>size</i> y la guarda en el conjunto de datos <i>out</i>.</p>\n"
      ]
    },
    {
      "cell_type": "code",
      "execution_count": null,
      "metadata": {
        "id": "sKL1e5DlqCf7"
      },
      "outputs": [],
      "source": [
        "\n",
        "\n",
        "%macro mas(data,size,out=mysample);\n",
        "    proc sql noprint;\n",
        "      select count(*) into: p \n",
        "      from &data;\n",
        "    quit;  \n",
        "    %if &size < 1 or &size > &p or %sysfunc(floor(&size)) ^= &size %then %do;\n",
        "      %put ERROR: SIZE debe ser un entero en el intervalo [1,N];\n",
        "      %return;\n",
        "    %end;\n",
        "    data &out;\n",
        "      set &data;\n",
        "      u = rand(\"Uniform\",0,1);\n",
        "    run;\n",
        "    proc sort data=&out;\n",
        "      by u;\n",
        "    run;\n",
        "    data &out;\n",
        "      set &out;\n",
        "      if _n_ > &size then delete;\n",
        "      drop u;\n",
        "    run;\n",
        "    %put NOTE: MAS aplicado a &data;\n",
        "    %put NOTE: Tamaño de la Población = &p;\n",
        "    %put NOTE: Tamaño de la Muestra = &size;\n",
        "%mend;\n",
        "\n",
        "%mas(sashelp.baseball,35,out=massample);\n",
        "\n",
        "proc contents data=massample varnum;\n",
        "run;\n",
        "\n",
        "\n"
      ]
    },
    {
      "cell_type": "markdown",
      "metadata": {
        "id": "LqAeRCbgqCf7"
      },
      "source": [
        "\n",
        "<h1><a style=\"color:red;\"> Análisis de Componentes Principales (ACP) </a></h1>\n"
      ]
    },
    {
      "cell_type": "markdown",
      "metadata": {
        "id": "nnwAhTPjqCf7"
      },
      "source": [
        "\n",
        "<p><img height=\"350\" src=\"https://sas2022.netlify.app/macros3.png\" width=\"600\"/></p>\n"
      ]
    },
    {
      "cell_type": "markdown",
      "metadata": {
        "id": "yLVHzsGNqCf7"
      },
      "source": [
        "\n",
        "<p><strong>Ejemplo 3</strong></p>\n",
        "<p align=\"justify\"> Macro <strong>%acp()</strong> que hace ACP a las variables <i>vars</i> del conjunto de datos <i>data</i>.</p>\n"
      ]
    },
    {
      "cell_type": "code",
      "execution_count": null,
      "metadata": {
        "id": "bAGpuC72qCf7"
      },
      "outputs": [],
      "source": [
        "\n",
        "\n",
        "%macro acp(vars,data);\n",
        "    proc iml;\n",
        "      use &data (keep=&vars);\n",
        "      m = contents();\n",
        "      read all into X;\n",
        "      Z = (X - mean(X))/std(X);\n",
        "      S = t(Z)*Z/(nrow(Z) - 1);\n",
        "      vec = eigvec(S);\n",
        "      val = eigval(S);\n",
        "      b = cusum(val);\n",
        "      val = val||100*val/sum(val)||100*b/sum(val);\n",
        "      s = do(1,ncol(X),1);\n",
        "      print val[colname={\"Eigenvalue\" \"Percentage\" \"Cumulative\"}\n",
        "      label=\"Eigenvalues of the Correlation Matrix\" rowname=s];\n",
        "      print vec[rowname=m colname=s label=\"Principal Components\"];\n",
        "    quit;\n",
        "%mend;\n",
        "\n",
        "%acp(sepallength sepalwidth petallength petalwidth,sashelp.iris);\n",
        "\n",
        "proc princomp data=sashelp.iris;\n",
        "var _numeric_;\n",
        "run;\n",
        "\n",
        "\n"
      ]
    },
    {
      "cell_type": "markdown",
      "metadata": {
        "id": "LUlIDXU5qCf7"
      },
      "source": [
        "\n",
        "<h1><a style=\"color:red;\"> Regresión Normal Lineal </a></h1>\n"
      ]
    },
    {
      "cell_type": "markdown",
      "metadata": {
        "id": "tY-Rf-IeqCf7"
      },
      "source": [
        "\n",
        "<p><img height=\"350\" src=\"https://sas2022.netlify.app/macros4.png\" width=\"600\"/></p>\n"
      ]
    },
    {
      "cell_type": "markdown",
      "metadata": {
        "id": "aRM0j9iFqCf7"
      },
      "source": [
        "\n",
        "<p><strong>Ejemplo 4</strong></p>\n",
        "<p align=\"justify\"> Macro <strong>%regression()</strong> que hace regresión normal lineal de las variables <i>vars</i> sobre la respuesta <i>resp</i>, todas las cuales hacen parte del conjunto de datos <i>data</i>.</p>\n"
      ]
    },
    {
      "cell_type": "code",
      "execution_count": null,
      "metadata": {
        "id": "aGxGbjORqCf7"
      },
      "outputs": [],
      "source": [
        "\n",
        "\n",
        "%macro regression(resp,vars,data);\n",
        "    data temporal;\n",
        "    set &data;\n",
        "    keep &vars;\n",
        "    run;\n",
        "    proc iml;\n",
        "      use temporal;\n",
        "      m = contents();\n",
        "      read all into X;\n",
        "      use &data var{&resp};\n",
        "      read all into y;\n",
        "      n = nrow(X);\n",
        "      X = j(n,1,1)||X;\n",
        "      p = ncol(X);  \n",
        "      r = \"Intercept\"//m;\n",
        "      b = inv(t(X)*X)*t(X)*y;\n",
        "      sigma2 = sum((y-X*b)#(y-X*b))/(n-p);\n",
        "      se = sqrt(vecdiag(sigma2#inv(t(X)*X)));\n",
        "      pval = 1 - probf((b/se)##2,1,n-p);\n",
        "      out = b||se||b/se||pval;\n",
        "      c = {\"Parameter Estimate\" \"Standard Error\" \"t Value\" \"Pr > |t|\"};\n",
        "      print out[colname=c rowname=r label=\"Parameter Estimates\"];\n",
        "      r2 = 1 - sum((y-X*b)#(y-X*b))/sum((y-mean(y))##2);\n",
        "      F = (r2/(1-r2))*(n-p)/(p-1);\n",
        "      pval = 1 - probf(F,p,n-p);\n",
        "      r2adj = 1 - sigma2/var(y);\n",
        "      r2 = r2||r2adj;\n",
        "      F = F||p||(n-ncol(X))||pval;\n",
        "      print r2[colname={\"R-squared\" \"Adj. R-squared\"} label=\"\"];\n",
        "      print F[colname={\"F Value\" \"df1\" \"df2\" \"Pr > F\"} label=\"\"];\n",
        "    quit;\n",
        "    proc datasets library=work nolist;\n",
        "       delete temporal;\n",
        "    run;\n",
        "%mend;\n",
        "\n",
        "%regression(mpg_city,horsepower weight,sashelp.cars);\n",
        "\n",
        "proc reg data=sashelp.cars plots=none;\n",
        "model mpg_city = horsepower weight;\n",
        "run;\n",
        "\n",
        "\n"
      ]
    },
    {
      "cell_type": "markdown",
      "metadata": {
        "id": "Ytu4xcPxqCf7"
      },
      "source": [
        "\n",
        "<h1><a style=\"color:red;\"> Regresión Logística </a></h1>\n"
      ]
    },
    {
      "cell_type": "markdown",
      "metadata": {
        "id": "2UI7_in_qCf7"
      },
      "source": [
        "\n",
        "<p><img height=\"350\" src=\"https://sas2022.netlify.app/macros5.png\" width=\"600\"/></p>\n"
      ]
    },
    {
      "cell_type": "markdown",
      "metadata": {
        "id": "TJA20OurqCf7"
      },
      "source": [
        "\n",
        "<p><strong>Ejemplo 5</strong></p>\n",
        "<p align=\"justify\"> Macro <strong>%logistic()</strong> que hace regresión logística de las variables <i>vars</i> sobre la respuesta <i>resp</i>, todas las cuales hacen parte del conjunto de datos <i>data</i>.</p>\n"
      ]
    },
    {
      "cell_type": "code",
      "execution_count": null,
      "metadata": {
        "id": "iKIkgze5qCf8"
      },
      "outputs": [],
      "source": [
        "\n",
        "\n",
        "%macro logistic(resp,vars,data);\n",
        "    data temporal;\n",
        "    set &data;\n",
        "    keep &vars;\n",
        "    run;\n",
        "    proc iml;\n",
        "      use temporal var{&vars};\n",
        "      m = contents();\n",
        "      read all into X;\n",
        "      use &data var{&resp};\n",
        "      read all into y;\n",
        "      X = j(nrow(X),1,1)||X;\n",
        "      b_old = inv(t(X)*X)*t(X)*abs(y-0.1);tol = 1;\n",
        "      do while(tol > 0.0001);\n",
        "         mu = exp(X*b_old)/(1 + exp(X*b_old));\n",
        "         Xw = sqrt(mu#(1-mu))#X;\n",
        "         b_new = b_old + inv(t(Xw)*Xw)*t(X)*(y-mu);\n",
        "         tol = max(abs((b_new-b_old)/b_old));\n",
        "         b_old = b_new;\n",
        "      end;\n",
        "      se = sqrt(vecdiag(inv(t(Xw)*Xw)));\n",
        "      pval = 1-probchi((b_old/se)##2,1);\n",
        "      out = b_old||se||(b_old/se)##2||pval;\n",
        "      c = {\"Parameter Estimate\" \"Standard Error\" \"Chi-squared\" \"Pr > ChiSq\"};\n",
        "      r = \"Intercept\"//m;\n",
        "      print out[colname=c rowname=r label=\"Parameter Estimates\"];\n",
        "      logl = sum(y#log(mu) + (1-y)#log(1-mu));\n",
        "      logl0 = sum(y#log(mean(y)) + (1-y)#log(1-mean(y)));\n",
        "      iyc = -2*logl + 2*nrow(b_old) // -2*logl + log(nrow(y))*nrow(b_old) // -2*logl;\n",
        "      si = -2*logl0 + 2 // -2*logl0 + log(nrow(y)) // -2*logl0;\n",
        "      out2 = si || iyc;\n",
        "      c ={\"Intercept Only\" \"Intercept and covariates\"};\n",
        "      r ={\"AIC\" \"SC\" \"-2 Log L\"};\n",
        "      print out2[colname=c rowname=r label=\"Model Fit Statistics\"];\n",
        "      quit;\n",
        "    proc datasets library=work nolist;\n",
        "    delete temporal;\n",
        "    run;\n",
        "%mend;\n",
        "\n",
        "%logistic(choice,logprice loginc,sashelp.margarin);\n",
        "\n",
        "proc logistic data=sashelp.margarin desc;\n",
        "model choice = logprice loginc;\n",
        "run;\n",
        "\n",
        "\n"
      ]
    },
    {
      "cell_type": "markdown",
      "metadata": {
        "id": "1ztYMKv5qCf8"
      },
      "source": [
        "\n",
        "<h1><a style=\"color:red;\"> Ejercicio </a></h1>\n",
        "<h1><a style=\"color:red;\"> Muestra Aleatoria de la Normal Multivariada </a></h1>\n"
      ]
    },
    {
      "cell_type": "markdown",
      "metadata": {
        "id": "bGHToawLqCf8"
      },
      "source": [
        "\n",
        "<p><img height=\"350\" src=\"https://sas2022.netlify.app/nmv.png\" width=\"600\"/></p>\n"
      ]
    },
    {
      "cell_type": "markdown",
      "metadata": {
        "id": "16KIc4cZqCf8"
      },
      "source": [
        "\n",
        "<p>Cree una función con cuatro parámetros (<strong>mu</strong>, <strong>Sigma</strong>, <strong>n</strong> y <strong>data</strong>) que genera una muestra aleatoria de tamaño <strong>n</strong> de la distribución normal multivariada con vector de medias <strong>mu</strong> y matriz de varianzas-covarianzas <strong>Sigma</strong>, para luego guardarla en el conjunto de datos <strong>data</strong>.</p>\n"
      ]
    },
    {
      "cell_type": "markdown",
      "metadata": {
        "id": "H9k2O81fqCf8"
      },
      "source": [
        "\n",
        "<p><img height=\"350\" src=\"https://sas2022.netlify.app/bibli1.jpg\" width=\"550\"/>\n",
        "<img height=\"350\" src=\"https://sas2022.netlify.app/bibli2.jpg\" width=\"550\"/>\n",
        "<img height=\"350\" src=\"https://sas2022.netlify.app/bibli3.jpg\" width=\"550\"/></p>\n"
      ]
    },
    {
      "cell_type": "code",
      "execution_count": null,
      "metadata": {
        "id": "OP2RPNOyqCf8"
      },
      "outputs": [],
      "source": [
        "pip install saspy"
      ]
    },
    {
      "cell_type": "code",
      "execution_count": null,
      "metadata": {
        "id": "SCG0uqc1qCf8"
      },
      "outputs": [],
      "source": [
        "import saspy\n",
        "saspy"
      ]
    },
    {
      "cell_type": "code",
      "execution_count": null,
      "metadata": {
        "id": "fHAJOnHpqCf8"
      },
      "outputs": [],
      "source": [
        "sas = saspy.SASsession()"
      ]
    }
  ],
  "metadata": {
    "kernelspec": {
      "display_name": "Python 3 (ipykernel)",
      "language": "python",
      "name": "python3"
    },
    "language_info": {
      "codemirror_mode": {
        "name": "ipython",
        "version": 3
      },
      "file_extension": ".py",
      "mimetype": "text/x-python",
      "name": "python",
      "nbconvert_exporter": "python",
      "pygments_lexer": "ipython3",
      "version": "3.8.13"
    },
    "colab": {
      "provenance": [],
      "include_colab_link": true
    }
  },
  "nbformat": 4,
  "nbformat_minor": 0
}