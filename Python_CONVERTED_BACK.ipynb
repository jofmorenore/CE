{
  "cells": [
    {
      "cell_type": "markdown",
      "metadata": {
        "id": "view-in-github",
        "colab_type": "text"
      },
      "source": [
        "<a href=\"https://colab.research.google.com/github/jofmorenore/CE/blob/main/Python_CONVERTED_BACK.ipynb\" target=\"_parent\"><img src=\"https://colab.research.google.com/assets/colab-badge.svg\" alt=\"Open In Colab\"/></a>"
      ]
    },
    {
      "cell_type": "markdown",
      "metadata": {
        "id": "LmYk0tv-V0Cs"
      },
      "source": [
        "\n",
        "<p></p><h1 style=\"color:red;\"> <strong> <center>Introducción a Python</center></strong> </h1>\n",
        "<p></p><h3><center><strong>Luis Hernando Vanegas (lhvanegasp@unal.edu.co)</strong></center></h3>\n",
        "<p></p><h3><center><strong>Luz Marina Rondón (lmrondonp@unal.edu.co)</strong></center></h3>\n",
        "<h4 style=\"color:blue;\"><center><strong>Universidad Nacional de Colombia</strong></center></h4>\n",
        "<h4 style=\"color:blue;\"><center><strong>Facultad de Ciencias</strong></center></h4>\n",
        "<h4 style=\"color:blue;\"><center><strong>Departamento de Estadística</strong></center></h4>\n"
      ]
    },
    {
      "cell_type": "markdown",
      "metadata": {
        "id": "WcdZQqWBV0Cu"
      },
      "source": [
        "\n",
        "<p style=\"text-align: justify;\"> <a href=\"https://docs.python.org/3/library/index.html\" style=\"color:red;\"><strong> Documentación de python</strong></a></p>\n"
      ]
    },
    {
      "cell_type": "markdown",
      "metadata": {
        "id": "pVr05YlMV0Cu"
      },
      "source": [
        "\n",
        "<h1 style=\"color:red;\"> <strong><center> Personalizando el directorio de trabajo </center> </strong> </h1>\n"
      ]
    },
    {
      "cell_type": "code",
      "execution_count": null,
      "metadata": {
        "id": "er5pYynaV0Cu"
      },
      "outputs": [],
      "source": [
        "import os\n",
        "os.getcwd()"
      ]
    },
    {
      "cell_type": "code",
      "execution_count": null,
      "metadata": {
        "id": "MaJKH6pSV0Cv"
      },
      "outputs": [],
      "source": [
        "os.chdir(\"C:\\\\Nano\\\\Docencia\\\\Curso\")\n",
        "os.getcwd()"
      ]
    },
    {
      "cell_type": "markdown",
      "metadata": {
        "id": "VHN4IlaPV0Cv"
      },
      "source": [
        "\n",
        "# <p></p><h1 style=\"color:red;\"> <strong> <center>Importación de datos </center></strong> </h1>\n",
        "<h4> Archivos con extensiones xls y xlsx  </h4>\n"
      ]
    },
    {
      "cell_type": "code",
      "execution_count": null,
      "metadata": {
        "id": "HE6ikpQ4V0Cv"
      },
      "outputs": [],
      "source": [
        "import pandas as pd\n",
        "import numpy as np\n",
        "pd.options.display.float_format = '{:,.2f}'.format\n",
        "\n",
        "help(pd.read_excel)"
      ]
    },
    {
      "cell_type": "markdown",
      "metadata": {
        "id": "cxd9W5vJV0Cv"
      },
      "source": [
        "\n",
        "<p style=\"text-align: justify;\"> <a href=\"https://pandas.pydata.org/docs/user_guide/index.html\" style=\"color:red;\"><strong> Documentación de pandas</strong></a></p>\n"
      ]
    },
    {
      "cell_type": "markdown",
      "metadata": {
        "id": "wKvfoCT3V0Cv"
      },
      "source": [
        "\n",
        "<p></p><h4> <strong> Ejemplo 1 </strong> </h4>\n",
        "<p style=\"text-align: justify;\"> Se leen los datos disponibles en la hoja número 12 del libro de Excel\n",
        "<em>sample.xlsx</em>, localizado en la libreria de trabajo y cuya primera fila contiene los nombres de las variables.</p>\n"
      ]
    },
    {
      "cell_type": "code",
      "execution_count": null,
      "metadata": {
        "id": "i1uxLnLJV0Cw"
      },
      "outputs": [],
      "source": [
        "plantulas1 = pd.read_excel(\"sample.xlsx\",sheet_name=12,header=0)\n",
        "plantulas1.info()\n",
        "plantulas1.head(10)"
      ]
    },
    {
      "cell_type": "markdown",
      "metadata": {
        "id": "ZU85UjzYV0Cw"
      },
      "source": [
        "\n",
        "<p></p><h4> <strong> Ejemplo 2 </strong> </h4>\n",
        "<p></p><p style=\"text-align: justify;\"> Se leen los datos disponibles en la hoja <em>Plantulas</em> del libro de Excel <em>sample.xlsx</em>, la cual corresponde a la hoja número 13 del libro.</p>\n"
      ]
    },
    {
      "cell_type": "code",
      "execution_count": null,
      "metadata": {
        "id": "xt1GLjwFV0Cw"
      },
      "outputs": [],
      "source": [
        "plantulas2 = pd.read_excel(\"sample.xlsx\",sheet_name=\"Plantulas\",header=0)\n",
        "plantulas2.info()\n",
        "plantulas2.tail(10)"
      ]
    },
    {
      "cell_type": "markdown",
      "metadata": {
        "id": "SXKxOy7UV0Cw"
      },
      "source": [
        "\n",
        "<p></p><h4> <strong> Ejemplo 3 </strong> </h4>\n",
        "<p></p><p style=\"text-align: justify;\"> Se leen los datos en las columnas \"A\", \"B\", \"C\" y \"E\" de la hoja <em>Plantulas</em> del libro de Excel <em>sample.xlsx</em>.</p>\n"
      ]
    },
    {
      "cell_type": "code",
      "execution_count": null,
      "metadata": {
        "id": "O-iNsVaHV0Cw"
      },
      "outputs": [],
      "source": [
        "plantulas3 = pd.read_excel(\"sample.xlsx\",sheet_name=\"Plantulas\",usecols=\"A:C,E\",header=0)\n",
        "plantulas3.info()\n",
        "plantulas3.head(10)"
      ]
    },
    {
      "cell_type": "markdown",
      "metadata": {
        "id": "K7YFYHEmV0Cw"
      },
      "source": [
        "\n",
        "<p></p><h4> <strong> Ejemplo 4 </strong> </h4>\n",
        "<p></p><p style=\"text-align: justify;\"> Se leen solo las primeras 35 filas de datos en la hoja <em>Plantulas</em> del libro de Excel <em>sample.xlsx</em>.</p>\n"
      ]
    },
    {
      "cell_type": "code",
      "execution_count": null,
      "metadata": {
        "id": "l1gpDPXJV0Cx"
      },
      "outputs": [],
      "source": [
        "plantulas4 = pd.read_excel(\"sample.xlsx\",sheet_name=\"Plantulas\",nrows=35,header=0)\n",
        "plantulas4.info()\n",
        "plantulas4.head(10)"
      ]
    },
    {
      "cell_type": "markdown",
      "metadata": {
        "id": "LmRo4S_sV0Cx"
      },
      "source": [
        "\n",
        "<p></p><h4> <strong> Ejemplo 5 </strong> </h4>\n",
        "<p></p><p style=\"text-align: justify;\"> Se leen los datos en la hoja <em>Plantulas</em> del libro de Excel <em>sample.xlsx</em> dándole nombres personalizados a las variables.</p>\n"
      ]
    },
    {
      "cell_type": "code",
      "execution_count": null,
      "metadata": {
        "id": "Zh9w8PJrV0Cx"
      },
      "outputs": [],
      "source": [
        "plantulas5 = pd.read_excel(\"sample.xlsx\",sheet_name=\"Plantulas\",header=0,\n",
        "                           names=[\"IdParcela\",\"N_I\",\"IdPlantula\",\"N_i\",\"Altura\"])\n",
        "plantulas5.info()\n",
        "plantulas5.head(10)"
      ]
    },
    {
      "cell_type": "markdown",
      "metadata": {
        "id": "cXomxC_IV0Cx"
      },
      "source": [
        "\n",
        "<p></p><h4> <strong> Ejemplo 6 </strong> </h4>\n",
        "<p></p><p style=\"text-align: justify;\"> Se leen los datos en la hoja <em>Plantulas</em> del libro de Excel <em>sample.xlsx</em>, dándole nombres personalizados a las variables y leyendo estas últimas con formato <em>text</em>, <em>numeric</em>, <em>text</em>, <em>numeric</em> y <em>numeric</em>, respectivamente.</p>\n"
      ]
    },
    {
      "cell_type": "code",
      "execution_count": null,
      "metadata": {
        "id": "bLi4rVwrV0Cx"
      },
      "outputs": [],
      "source": [
        "plantulas6 = pd.read_excel(\"sample.xlsx\",sheet_name=\"Plantulas\",header=0,\n",
        "                          names=[\"IdParcela\",\"N_I\",\"IdPlantula\",\"N_i\",\"Altura\"],\n",
        "                          dtype={\"IdParcela\":str,\"N_I\":np.int64,\"IdPlantula\":str,\n",
        "                                 \"N_i\":np.float64,\"Altura\":np.float64})\n",
        "plantulas6.info()\n",
        "plantulas6.head(10)"
      ]
    },
    {
      "cell_type": "markdown",
      "metadata": {
        "id": "3SByHWy5V0Cx"
      },
      "source": [
        "\n",
        "<p></p><h4> <strong> Ejemplo 7 </strong> </h4>\n",
        "<p></p><p style=\"text-align: justify;\"> Se leen los datos en la hoja <em>Plantulas</em> del libro de Excel <em>sample.xlsx</em>, dándole nombres personalizados a las variables y leyendo estas últimas con formato <em>text</em>, <em>skip</em>, <em>text</em>, <em>guess</em> y <em>numeric</em>, respectivamente. Por lo tanto, la segunda variable se excluye y el tipo de la cuarta variable se especifica a partir de una inspección de los datos.</p>\n"
      ]
    },
    {
      "cell_type": "code",
      "execution_count": null,
      "metadata": {
        "id": "GM24CvjAV0Cx"
      },
      "outputs": [],
      "source": [
        "plantulas7 = pd.read_excel(\"sample.xlsx\",sheet_name=\"Plantulas\",header=0,usecols=[0,2,3,4],\n",
        "                           names=[\"IdParcela\",\"IdPlantula\",\"N_i\",\"Altura\"],\n",
        "                           dtype={\"IdParcela\":str,\"IdPlantula\":str,\"Altura\":np.float64})\n",
        "plantulas7.info()\n",
        "plantulas7.head(10)"
      ]
    },
    {
      "cell_type": "markdown",
      "metadata": {
        "id": "2pSw2InoV0Cy"
      },
      "source": [
        "\n",
        "<h4> Archivos con extensiones txt, csv, tsv, dlm y dat </h4>\n"
      ]
    },
    {
      "cell_type": "code",
      "execution_count": null,
      "metadata": {
        "id": "uqO8GZBVV0Cy"
      },
      "outputs": [],
      "source": [
        "help(pd.read_table)"
      ]
    },
    {
      "cell_type": "markdown",
      "metadata": {
        "id": "oOhFGEJeV0Cy"
      },
      "source": [
        "\n",
        "<p></p><h4> <strong> Ejemplo 8 </strong> </h4>\n",
        "<p style=\"text-align: justify;\"> Se leen los datos en el archivo <em> stocks.dlm </em>, localizado en la libreria de trabajo y en el que los datos están separados por \" \" y la primera fila contiene los nombres de las variables.</p>\n"
      ]
    },
    {
      "cell_type": "code",
      "execution_count": null,
      "metadata": {
        "id": "LKxRpHGdV0Cy"
      },
      "outputs": [],
      "source": [
        "stocks1 = pd.read_table(\"stocks.dlm\",delimiter=\" \",header=0)\n",
        "stocks1.info()\n",
        "stocks1.head(10)"
      ]
    },
    {
      "cell_type": "markdown",
      "metadata": {
        "id": "CVHf-2w_V0Cy"
      },
      "source": [
        "\n",
        "<p></p><h4> <strong> Ejemplo 9 </strong> </h4>\n",
        "<p style=\"text-align: justify;\"> Se leen los datos en el archivo <em> stocks.dlm </em> especificando que el separador decimal es \",\" y el separador de agrupamiento es \".\". </p>\n"
      ]
    },
    {
      "cell_type": "code",
      "execution_count": null,
      "metadata": {
        "id": "NfmohxmDV0Cy"
      },
      "outputs": [],
      "source": [
        "stocks2 = pd.read_table(\"stocks.dlm\",delimiter=\" \",decimal=\",\",thousands=\".\",header=0)\n",
        "stocks2.info()\n",
        "stocks2.head(10)"
      ]
    },
    {
      "cell_type": "markdown",
      "metadata": {
        "id": "4_2nW64uV0Cy"
      },
      "source": [
        "\n",
        "<p></p><h4> <strong> Ejemplo 10 </strong> </h4>\n",
        "<p style=\"text-align: justify;\"> Se leen los datos en el archivo <em> stocks.dlm </em> especificando el formato en el que se deben leer las variables.</p>\n"
      ]
    },
    {
      "cell_type": "code",
      "execution_count": null,
      "metadata": {
        "id": "4Oz0RULTV0Cy"
      },
      "outputs": [],
      "source": [
        "from datetime import datetime\n",
        "dateparse = lambda x: datetime.strptime(x,\"%d%b%y\")\n",
        "\n",
        "stocks3 = pd.read_table(\"stocks.dlm\",delimiter=\" \",decimal=\",\",thousands=\".\",header=0,\n",
        "                        dtype={\"A\":str,\"B\":str,\"C\":np.float64,\"D\":np.float64,\"E\":np.float64,\n",
        "                              \"F\":np.float64,\"G\":np.float64,\"H\":np.float64},\n",
        "                        parse_dates=[\"Date\"], date_parser=dateparse)\n",
        "\n",
        "stocks3.info()\n",
        "stocks3.head(10)"
      ]
    },
    {
      "cell_type": "markdown",
      "metadata": {
        "id": "heU63yjxV0Cy"
      },
      "source": [
        "\n",
        "<p style=\"text-align: justify;\"> <a href=\"https://docs.python.org/2/library/datetime.html#strftime-and-strptime-behavior\" style=\"color:red;\"><strong> Formatos para Fechas y Horas</strong></a></p>\n"
      ]
    },
    {
      "cell_type": "markdown",
      "metadata": {
        "id": "uPi4uqyeV0Cy"
      },
      "source": [
        "\n",
        "<p></p><h4> <strong> Ejemplo 11 </strong> </h4>\n",
        "<p style=\"text-align: justify;\"> Se leen los datos en el archivo <em> stocks.dlm </em> personalizando los nombres de las variables.</p>\n"
      ]
    },
    {
      "cell_type": "code",
      "execution_count": null,
      "metadata": {
        "id": "mbIbgAycV0Cz"
      },
      "outputs": [],
      "source": [
        "stocks4 = pd.read_table(\"stocks.dlm\",delimiter=\" \",header=0,decimal=\",\",thousands=\".\",\n",
        "                        names=[\"Stock\",\"Date\",\"Open\",\"High\",\"Low\",\"Close\",\"Volume\",\"AdjClose\"],\n",
        "                        dtype={\"Stock\":str,\"Date\":str,\"Open\":np.float64,\"High\":np.float64,\n",
        "                               \"Low\":np.float64,\"Close\":np.float64,\"Volume\":np.float64,\n",
        "                               \"AdjClose\":np.float64},\n",
        "                        parse_dates=[\"Date\"], date_parser=dateparse)\n",
        "stocks4.info()\n",
        "stocks4.head(10)"
      ]
    },
    {
      "cell_type": "markdown",
      "metadata": {
        "id": "gMH54l2kV0Cz"
      },
      "source": [
        "\n",
        "<p></p><h4> <strong> Ejemplo 12 </strong> </h4>\n",
        "<p style=\"text-align: justify;\"> Se leen solo las primeras 500 filas de datos en el archivo <em> stocks.dlm </em>.</p>\n"
      ]
    },
    {
      "cell_type": "code",
      "execution_count": null,
      "metadata": {
        "id": "GgWIdM1nV0Cz"
      },
      "outputs": [],
      "source": [
        "stocks5 = pd.read_table(\"stocks.dlm\",delimiter=\" \",header=0,decimal=\",\",thousands=\".\",\n",
        "                        names=[\"Stock\",\"Date\",\"Open\",\"High\",\"Low\",\"Close\",\"Volume\",\"AdjClose\"],\n",
        "                        dtype={\"Stock\":str,\"Open\":np.float64,\"High\":np.float64,\n",
        "                               \"Low\":np.float64,\"Close\":np.float64,\"Volume\":np.float64,\n",
        "                               \"AdjClose\":np.float64},\n",
        "                        parse_dates=[\"Date\"], date_parser=dateparse)\n",
        "stocks5.info()"
      ]
    },
    {
      "cell_type": "markdown",
      "metadata": {
        "id": "-zVGAZFWV0Cz"
      },
      "source": [
        "\n",
        "<p></p><h4> <strong> Ejemplo 13 </strong> </h4>\n",
        "<p style=\"text-align: justify;\"> Se leen los datos en el archivo <em> stocks.dlm </em> especificando el formato en el que se deben leer las variables. Las variables septima y octava se excluyen.</p>\n"
      ]
    },
    {
      "cell_type": "code",
      "execution_count": null,
      "metadata": {
        "id": "pLrpaqEPV0Cz"
      },
      "outputs": [],
      "source": [
        "stocks6 = pd.read_table(\"stocks.dlm\",delimiter=\" \",header=0,decimal=\",\",thousands=\".\",\n",
        "                        usecols=[0,1,2,3,4,5],names=[\"Stock\",\"Date\",\"Open\",\"High\",\"Low\",\"Close\"],\n",
        "                        dtype={\"Stock\":str,\"Open\":np.float64,\"High\":np.float64,\n",
        "                               \"Low\":np.float64,\"Close\":np.float64},\n",
        "                        parse_dates=[\"Date\"], date_parser=dateparse)\n",
        "stocks6.info()\n",
        "stocks6.head(10)"
      ]
    },
    {
      "cell_type": "markdown",
      "metadata": {
        "id": "CZt1ScdCV0Cz"
      },
      "source": [
        "\n",
        "<p></p><h4> <strong> Ejemplo 14 </strong> </h4>\n",
        "<p style=\"text-align: justify;\"> Solo se leen las variables que (originalmente) se llaman \"A\", \"B\", \"C\" y \"F\".</p>\n"
      ]
    },
    {
      "cell_type": "code",
      "execution_count": null,
      "metadata": {
        "id": "F1oVcIMEV0Cz"
      },
      "outputs": [],
      "source": [
        "stocks7 = pd.read_table(\"stocks.dlm\",delimiter=\" \",header=0,decimal=\",\",thousands=\".\",\n",
        "                        names=[\"Stock\",\"Date\",\"Open\",\"High\",\"Low\",\"Close\",\"Volume\",\"AdjClose\"],\n",
        "                        usecols=[\"Stock\",\"Date\",\"Open\",\"Close\"],\n",
        "                        dtype={\"Stock\":str,\"Open\":np.float64,\"Close\":np.float64},\n",
        "                        parse_dates=[\"Date\"], date_parser=dateparse)\n",
        "stocks7.info()\n",
        "stocks7.head(10)"
      ]
    },
    {
      "cell_type": "markdown",
      "metadata": {
        "id": "7iwvsqFPV0C2"
      },
      "source": [
        "\n",
        "<p></p><h4> <strong> Ejemplo 15 </strong> </h4>\n",
        "<p style=\"text-align: justify;\"> Se leen los datos en el archivo <em> airrpm.txt</em>, localizado en la libreria de trabajo y en el que las cuatro variables disponibles tienen anchos fijos e iguales a 6, 15, 10 y 9, respectivamente.</p>\n"
      ]
    },
    {
      "cell_type": "code",
      "execution_count": null,
      "metadata": {
        "id": "3Sul5vpcV0C3"
      },
      "outputs": [],
      "source": [
        "help(pd.read_fwf)"
      ]
    },
    {
      "cell_type": "code",
      "execution_count": null,
      "metadata": {
        "id": "l0ngNfPYV0C3"
      },
      "outputs": [],
      "source": [
        "airrpm1 = pd.read_fwf(\"airrpm.txt\",widths=[6,15,10,9],names=[\"Month\",\"Available\",\"Revenue\",\"Unused\"],header=0)\n",
        "airrpm1.info()\n",
        "airrpm1.head(10)"
      ]
    },
    {
      "cell_type": "markdown",
      "metadata": {
        "id": "yY58be2TV0C3"
      },
      "source": [
        "\n",
        "<p></p><h4> <strong> Ejemplo 16 </strong> </h4>\n",
        "<p style=\"text-align: justify;\"> Se leen los datos en el archivo <em> airrpm.txt</em> especificando que el separador decimal es \",\".</p>\n"
      ]
    },
    {
      "cell_type": "code",
      "execution_count": null,
      "metadata": {
        "id": "ukqa2DkoV0C3"
      },
      "outputs": [],
      "source": [
        "airrpm2 = pd.read_fwf(\"airrpm.txt\",widths=[6,15,10,9],decimal=\",\",\n",
        "                      names=[\"Month\",\"Available\",\"Revenue\",\"Unused\"])\n",
        "airrpm2.info()\n",
        "airrpm2.head(10)"
      ]
    },
    {
      "cell_type": "markdown",
      "metadata": {
        "id": "Ptp2g-f2V0C3"
      },
      "source": [
        "\n",
        "<p></p><h4> <strong> Ejemplo 17 </strong> </h4>\n",
        "<p style=\"text-align: justify;\"> Se leen los datos en el archivo <em> airrpm.txt</em> especificando el formato de las variables.</p>\n"
      ]
    },
    {
      "cell_type": "code",
      "execution_count": null,
      "metadata": {
        "id": "DCIuHyQqV0C3"
      },
      "outputs": [],
      "source": [
        "dateparse = lambda x: datetime.strptime(x,\"%b-%y\")\n",
        "\n",
        "airrpm3 = pd.read_fwf(\"airrpm.txt\",widths=[6,15,10,9],decimal=\",\",header=0,\n",
        "                      names=[\"Month\",\"Available\",\"Revenue\",\"Unused\"],\n",
        "                      dtype={\"Available\":np.float64,\"Revenue\":np.float64,\"Unused\":np.float64},\n",
        "                      parse_dates=[\"Month\"], date_parser=dateparse)\n",
        "airrpm3.info()\n",
        "airrpm3.head(10)"
      ]
    },
    {
      "cell_type": "markdown",
      "metadata": {
        "id": "H7waLDU3V0C3"
      },
      "source": [
        "\n",
        "<p></p><h4> <strong> Ejemplo 18 </strong> </h4>\n",
        "<p style=\"text-align: justify;\"> Se leen solo las primeras 200 filas de las variables <em>Month</em> y <em>Revenue</em> en el archivo <em> airrpm.txt</em>.</p>\n"
      ]
    },
    {
      "cell_type": "code",
      "execution_count": null,
      "metadata": {
        "id": "pGPammntV0C4"
      },
      "outputs": [],
      "source": [
        "airrpm4 = pd.read_fwf(\"airrpm.txt\",widths=[6,15,10,9],decimal=\",\",\n",
        "                      names=[\"Month\",\"Available\",\"Revenue\",\"Unused\"],nrows=200,\n",
        "                      usecols=[\"Available\",\"Unused\"])\n",
        "airrpm4.info()\n",
        "airrpm4.head(10)"
      ]
    },
    {
      "cell_type": "markdown",
      "metadata": {
        "id": "sh0ZLMhKV0C4"
      },
      "source": [
        "\n",
        "## <p></p><h2 style=\"color:red;\"> Ejercicios</h2><p></p><h3 style=\"color:red;\"> English Premier League</h3><ul>\n",
        "<li><p style=\"text-align: justify;\"> Los archivos <strong>season-1415.xlsx</strong>, <strong>season-1516.xlsx</strong>, <strong>season-1617.xlsx</strong>, <strong>season-1718.xlsx</strong> y <strong>season-1819.xlsx</strong>\n",
        "contienen información sobre los resultados de las temporadas 14/15, 15/16, 16/17, 17/18 y 18/19, respectivamente, de la primera división del futbol inglés. Importe estos conjuntos de datos omitiendo las variables <em>FTR</em>, <em>HTHG</em>, <em>HTAG</em> y <em>HTR</em>.</p></li>\n",
        "<li><p style=\"text-align: justify;\"> Asigne nombres y tipos personalizados a las variables. Cuantos registros tiene cada conjunto de datos? </p></li>\n",
        "</ul>\n",
        "<p></p><h3 style=\"color:red;\"> IMDb (Internet Movie Database)</h3><ul>\n",
        "<li><p style=\"text-align: justify;\"> Importe los primeros 5000 registros de los conjunto de datos <strong>title.basics</strong>, <strong>title.principals</strong> y <strong>name.basics</strong>, los cuales están descritos <a href=\"https://www.imdb.com/interfaces/\" style=\"color:red;\"><strong> aquí </strong></a> y disponibles <a href=\"https://datasets.imdbws.com\" style=\"color:red;\"><strong> aquí</strong></a>. Hágalo sin descargar ni descomprimir los archivos, y omitiendo las variables <em>knownForTitles</em> and <em>ordering</em>.</p></li>\n",
        "<li><p style=\"text-align: justify;\"> Cuantas variables tienen los conjuntos de datos? De qué tipo son estas variables?</p></li>\n",
        "</ul>\n",
        "<p></p><h3 style=\"color:red;\"> Shows en Netflix</h3><ul>\n",
        "<li><p style=\"text-align: justify;\"> Importe todos los registros del conjunto de datos <strong>netflix_titles.csv</strong> disponible <a href=\"https://www.kaggle.com/shivamb/netflix-shows/version/5\" style=\"color:red;\"><strong> aquí</strong></a>. Tenga en cuenta que el conjunto de datos está delimitado por \",\".</p></li>\n",
        "<li><p style=\"text-align: justify;\"> Asigne nombres y tipos personalizados a las variables. Cuantos registros tiene el conjunto de datos? </p></li>\n",
        "</ul>\n"
      ]
    },
    {
      "cell_type": "markdown",
      "metadata": {
        "id": "MTsHEX0NV0C4"
      },
      "source": [
        "\n",
        "# <h1 style=\"color:red;\"> <strong> <center>Creación y modificación de variables </center></strong> </h1>\n"
      ]
    },
    {
      "cell_type": "markdown",
      "metadata": {
        "id": "e_ATKSMAV0C4"
      },
      "source": [
        "\n",
        "<p><a href=\"https://www.w3schools.com/python/python_operators.asp\" style=\"color:red;\"><strong> Operadores aritméticos, lógicos, y de comparación </strong></a></p>\n"
      ]
    },
    {
      "cell_type": "code",
      "execution_count": null,
      "metadata": {
        "id": "T3uk-yseV0C4"
      },
      "outputs": [],
      "source": [
        "Municipios = pd.read_excel(\"Municipios.xlsx\",dtype={\"Irural\":np.float64,\"Dep\":str,\n",
        "                                                    \"Poblacion\":np.float64,\"Depmun\":str})\n",
        "Municipios.info()\n",
        "Municipios.head(10)"
      ]
    },
    {
      "cell_type": "markdown",
      "metadata": {
        "id": "TuWQxo3iV0C4"
      },
      "source": [
        "\n",
        "<p></p><h4> <strong> Ejemplo 1 </strong> </h4>\n",
        "<p style=\"text-align: justify;\"> Cuales variables del conjunto de datos <em>Municipios</em> tienen\n",
        "valores perdidos o missings?</p>\n"
      ]
    },
    {
      "cell_type": "code",
      "execution_count": null,
      "metadata": {
        "id": "gOBLDOGqV0C4"
      },
      "outputs": [],
      "source": [
        "help(pd.DataFrame.apply)"
      ]
    },
    {
      "cell_type": "code",
      "execution_count": null,
      "metadata": {
        "id": "e8NMCP_2V0C4"
      },
      "outputs": [],
      "source": [
        "def missings(x):\n",
        "            a = sum(x.isna())\n",
        "            b = 100*np.mean(x.isna())\n",
        "            c = pd.Series({\"Missings\": a,\"%Missings\": b})\n",
        "            return(c)"
      ]
    },
    {
      "cell_type": "code",
      "execution_count": null,
      "metadata": {
        "id": "OqR1QnS9V0C5"
      },
      "outputs": [],
      "source": [
        "Municipios.apply(missings,axis=0)"
      ]
    },
    {
      "cell_type": "code",
      "execution_count": null,
      "metadata": {
        "id": "XbvXQkOCV0C5"
      },
      "outputs": [],
      "source": [
        "Municipios.apply(missings,axis=1)"
      ]
    },
    {
      "cell_type": "code",
      "execution_count": null,
      "metadata": {
        "id": "QkoRajHCV0C5"
      },
      "outputs": [],
      "source": [
        "Municipios.apply(missings,axis=1).query(\"Missings > 0\")"
      ]
    },
    {
      "cell_type": "markdown",
      "metadata": {
        "id": "fnHNWN1MV0C5"
      },
      "source": [
        "\n",
        "<p></p><h4> <strong> Ejemplo 2 </strong> </h4>\n",
        "<p style=\"text-align: justify;\"> Se hace \"limpieza\" en los nombres de los municipios, es\n",
        "decir, </p><ul>\n",
        "<li>Se eliminan caracteres especiales</li>\n",
        "<li>Se eliminan espacios al inicio y al final</li>\n",
        "<li>Se reemplazan espacios múltiples por sencillos</li>\n",
        "<li>Se escriben en letras minúsculas excepto en la inicial de cada palabra</li>\n",
        "</ul>\n"
      ]
    },
    {
      "cell_type": "code",
      "execution_count": null,
      "metadata": {
        "id": "yenwEEhrV0C5"
      },
      "outputs": [],
      "source": [
        "help(str.lower)\n",
        "help(str.replace)\n",
        "help(str.strip)\n",
        "help(str.title)"
      ]
    },
    {
      "cell_type": "code",
      "execution_count": null,
      "metadata": {
        "id": "JuyxBkU9V0C5"
      },
      "outputs": [],
      "source": [
        "Municipios[\"Municipio2\"] = (Municipios[\"Municipio\"]\n",
        "                            .str.lower()\n",
        "                            .str.replace(\"[^a-záéíóúüñ ]\",\"\", regex=True)\n",
        "                            .str.replace(\" +\",\" \", regex=True)\n",
        "                            .str.strip()\n",
        "                            .str.title()\n",
        "                           ) \n",
        "Municipios[[\"Municipio\",\"Municipio2\"]].tail(10)"
      ]
    },
    {
      "cell_type": "code",
      "execution_count": null,
      "metadata": {
        "id": "mef2wUw2V0C5"
      },
      "outputs": [],
      "source": [
        "Municipios[\"Municipio\"] = Municipios[\"Municipio2\"]\n",
        "Municipios = Municipios.drop(columns=\"Municipio2\")\n",
        "Municipios.tail(10)"
      ]
    },
    {
      "cell_type": "markdown",
      "metadata": {
        "id": "ckANPAvoV0C5"
      },
      "source": [
        "\n",
        "<p></p><h4> <strong> Ejemplo 3 </strong> </h4>\n",
        "<p style=\"text-align: justify;\"> Se hace \"limpieza\" en los nombres de los departamentos, es\n",
        "decir, </p><ul>\n",
        "<li>Se eliminan caracteres especiales</li>\n",
        "<li>Se eliminan espacios al inicio y al final</li>\n",
        "<li>Se reemplazan espacios múltiples por sencillos</li>\n",
        "<li>Se escriben en letras minúsculas excepto en la inicial de cada palabra</li>\n",
        "</ul>\n"
      ]
    },
    {
      "cell_type": "code",
      "execution_count": null,
      "metadata": {
        "id": "yYiv6BRvV0C6"
      },
      "outputs": [],
      "source": [
        "Municipios[\"Departamento2\"] = (Municipios[\"Departamento\"]\n",
        "                               .str.lower()\n",
        "                               .str.replace(\"[^a-záéíóúüñ ]\",\"\", regex=True)\n",
        "                               .str.replace(\" +\",\" \", regex=True)\n",
        "                               .str.strip()\n",
        "                               .str.title()\n",
        "                              ) \n",
        "Municipios[[\"Departamento\",\"Departamento2\"]].head(10)"
      ]
    },
    {
      "cell_type": "code",
      "execution_count": null,
      "metadata": {
        "id": "3bYLLB68V0C6"
      },
      "outputs": [],
      "source": [
        "Municipios[\"Departamento\"] = Municipios[\"Departamento2\"]\n",
        "Municipios = Municipios.drop(columns=\"Departamento2\")\n",
        "Municipios.head(10)"
      ]
    },
    {
      "cell_type": "markdown",
      "metadata": {
        "id": "nSBP15SwV0C6"
      },
      "source": [
        "\n",
        "<p></p><h4> <strong> Ejemplo 4 </strong> </h4>\n",
        "<p style=\"text-align: justify;\"> Se hace \"limpieza\" en los nombres de las regiones, es\n",
        "decir, </p><ul>\n",
        "<li>Se eliminan caracteres especiales</li>\n",
        "<li>Se eliminan espacios al inicio y al final</li>\n",
        "<li>Se reemplazan espacios múltiples por sencillos</li>\n",
        "<li>Se escriben en letras minúsculas excepto en la inicial de cada palabra</li>\n",
        "</ul>\n"
      ]
    },
    {
      "cell_type": "code",
      "execution_count": null,
      "metadata": {
        "id": "nDxx_E1xV0C6"
      },
      "outputs": [],
      "source": [
        "Municipios[\"Region2\"] = (Municipios[\"Region\"]\n",
        "                               .str.lower()\n",
        "                               .str.replace(\"[^a-záéíóúüñ ]\",\"\", regex=True)\n",
        "                               .str.replace(\" +\",\" \", regex=True)\n",
        "                               .str.strip()\n",
        "                               .str.title()\n",
        "                              ) \n",
        "Municipios[[\"Region\",\"Region2\"]].tail(10)"
      ]
    },
    {
      "cell_type": "code",
      "execution_count": null,
      "metadata": {
        "id": "bEiwGibTV0C6"
      },
      "outputs": [],
      "source": [
        "Municipios[\"Region\"] = Municipios[\"Region2\"]\n",
        "Municipios = Municipios.drop(columns=\"Region2\")\n",
        "Municipios.tail(10)"
      ]
    },
    {
      "cell_type": "markdown",
      "metadata": {
        "id": "cn2KRd8rV0C6"
      },
      "source": [
        "\n",
        "<p></p><h4> <strong> Ejemplo 5 </strong> </h4>\n",
        "<p style=\"text-align: justify;\"> Se crea la variable <em>Tipo</em> igual a \"Capital\" para la capital de\n",
        "cada departamento y \"Otro\" para el resto de los municipios.</p>\n"
      ]
    },
    {
      "cell_type": "code",
      "execution_count": null,
      "metadata": {
        "id": "pQoXmcA_V0C6"
      },
      "outputs": [],
      "source": [
        "def tipo(x): \n",
        "    if x[2:5]==\"001\" and x!=\"25001\": return(\"Capital\")\n",
        "    else: return(\"Otros\")\n",
        "Municipios[\"Tipo\"] = Municipios[\"Depmun\"].apply(tipo)\n",
        "\n",
        "Municipios.info()\n",
        "Municipios.head(10)"
      ]
    },
    {
      "cell_type": "markdown",
      "metadata": {
        "id": "hD_kOwhMV0C7"
      },
      "source": [
        "\n",
        "<p></p><h4> <strong> Ejemplo 6 </strong> </h4>\n",
        "<p style=\"text-align: justify;\"> Se crea la variable <em>denspobl</em> definida como el cociente\n",
        "    entre <em> Poblacion </em> y <em> Superficie</em>. Se crea también la variable <em> Zona </em> igual\n",
        "    a \"Urbano\" cuando <em>Irural</em> $ &lt;= 40$ y \"Rural\" cuando <em>Irural</em> $ &gt; 40$. </p>\n"
      ]
    },
    {
      "cell_type": "code",
      "execution_count": null,
      "metadata": {
        "id": "J3T8AmuAV0C7"
      },
      "outputs": [],
      "source": [
        "Municipios[\"denspobl\"] = Municipios[\"Poblacion\"]/Municipios[\"Superficie\"]"
      ]
    },
    {
      "cell_type": "code",
      "execution_count": null,
      "metadata": {
        "id": "UyYCgh1oV0C7"
      },
      "outputs": [],
      "source": [
        "def zona(x): \n",
        "    if x  > 40: return(\"Rural\")\n",
        "    if x <= 40: return(\"Urbano\")\n",
        "    \n",
        "Municipios[\"Zona\"] = Municipios[\"Irural\"].apply(zona)"
      ]
    },
    {
      "cell_type": "code",
      "execution_count": null,
      "metadata": {
        "id": "WfUH_t1oV0C7"
      },
      "outputs": [],
      "source": [
        "Municipios.loc[Municipios[\"Irural\"] >  40,\"Zona2\"] = \"Rural\" \n",
        "Municipios.loc[Municipios[\"Irural\"] <= 40,\"Zona2\"] = \"Urbano\""
      ]
    },
    {
      "cell_type": "code",
      "execution_count": null,
      "metadata": {
        "id": "0NSn61RqV0C7"
      },
      "outputs": [],
      "source": [
        "Municipios[\"Zona\"].equals(Municipios[\"Zona2\"])"
      ]
    },
    {
      "cell_type": "code",
      "execution_count": null,
      "metadata": {
        "id": "9cxh7uXTV0C7"
      },
      "outputs": [],
      "source": [
        "Municipios = Municipios.drop(columns=\"Zona2\")"
      ]
    },
    {
      "cell_type": "markdown",
      "metadata": {
        "id": "L183_mvSV0C7"
      },
      "source": [
        "\n",
        "<p style=\"text-align: justify;\"> <a href=\"https://stringr.tidyverse.org/articles/regular-expressions.html\" style=\"color:red;\"><strong> Expresiones Regulares</strong></a></p>\n"
      ]
    },
    {
      "cell_type": "markdown",
      "metadata": {
        "id": "duICOar9V0C7"
      },
      "source": [
        "\n",
        "<p></p><h4> <strong> Ejemplo 7 </strong> </h4>\n",
        "<p style=\"text-align: justify;\"> Conjunto de datos con las variables <em>Departamento</em>, <em>Depmun</em>\n",
        "y <em>Municipio</em>, y con todos los municipios cuyo nombre incluye el nombre de un santo, por ejemplo, Santa Marta, \n",
        "Santo Tomás, San José, Valle de San Jacinto. </p>\n"
      ]
    },
    {
      "cell_type": "code",
      "execution_count": null,
      "metadata": {
        "id": "VLD439wvV0C8"
      },
      "outputs": [],
      "source": [
        "import warnings\n",
        "warnings.filterwarnings(\"ignore\", 'This pattern has match groups')\n",
        "\n",
        "santos = (Municipios\n",
        "          .query(\"Municipio.str.contains('(^| )San( |ta |to )').values\")\n",
        "          .loc[:,[\"Departamento\",\"Depmun\",\"Municipio\"]]\n",
        "          .reset_index(drop=True)\n",
        "         )\n",
        "santos.info()\n",
        "santos.head(10)"
      ]
    },
    {
      "cell_type": "markdown",
      "metadata": {
        "id": "w9s1fRZLV0C8"
      },
      "source": [
        "\n",
        "<p></p><h4> <strong> Ejemplo 8 </strong> </h4>\n",
        "<p style=\"text-align: justify;\"> Conjunto de datos con las variables <em>Dep</em>, <em>Departamento</em>, <em>Depmun</em> y <em>Municipio</em>, y con todos los municipios cuyos nombres inician y terminan con la misma vocal. </p>\n"
      ]
    },
    {
      "cell_type": "code",
      "execution_count": null,
      "metadata": {
        "id": "8QN77aGUV0C8"
      },
      "outputs": [],
      "source": [
        "vocales = (Municipios\n",
        "           .query(\"Municipio.str.contains('(^A.*a$)|(^E.*e$)|(^I.*i$)|(^O.*o$)|(^U.*u$)').values\")\n",
        "           .loc[:,[\"Dep\",\"Departamento\",\"Depmun\",\"Municipio\"]]\n",
        "           .reset_index(drop=True)\n",
        "          )\n",
        "vocales.info()\n",
        "vocales.head(15)"
      ]
    },
    {
      "cell_type": "markdown",
      "metadata": {
        "id": "7qJi95uIV0C8"
      },
      "source": [
        "\n",
        "<p></p><h4> <strong> Ejemplo 9 </strong> </h4>\n",
        "<p style=\"text-align: justify;\"> Conjunto de datos con todos los municipios cuyos\n",
        "nombres inician y terminan con la misma consonante. </p>\n"
      ]
    },
    {
      "cell_type": "code",
      "execution_count": null,
      "metadata": {
        "id": "izoB67dEV0C8"
      },
      "outputs": [],
      "source": [
        "iguales = Municipios[\"Municipio\"].str.lower().str.get(0) == Municipios[\"Municipio\"].str.get(-1)\n",
        "consonantes = (Municipios\n",
        "               .query(\"@iguales & Municipio.str.contains('^[^A|^E|^I|^O|^U]').values\")\n",
        "               .reset_index(drop=True)\n",
        "              )\n",
        "consonantes.info()\n",
        "consonantes.head(15)"
      ]
    },
    {
      "cell_type": "markdown",
      "metadata": {
        "id": "tHwnnRktV0C8"
      },
      "source": [
        "\n",
        "<p></p><h4> <strong> Ejemplo 10 </strong> </h4>\n",
        "<p style=\"text-align: justify;\"> Conjunto de datos con todas las variables excepto <em>Poblacion</em>, <em>Superficie</em> y <em>Irural</em>, y con todos los municipios cuyos nombres tienen \"A\" como primera letra y \"e\" como cuarta letra.</p>\n"
      ]
    },
    {
      "cell_type": "code",
      "execution_count": null,
      "metadata": {
        "id": "vJu5vnCOV0C8"
      },
      "outputs": [],
      "source": [
        "Aes = (Municipios\n",
        "       .query(\"Municipio.str.contains('^A.{2}e.*').values\")\n",
        "       .drop(columns=[\"Poblacion\",\"Superficie\",\"Irural\"])\n",
        "       .reset_index(drop=True)\n",
        "      )\n",
        "Aes.info()\n",
        "Aes.head(15) "
      ]
    },
    {
      "cell_type": "markdown",
      "metadata": {
        "id": "pX4mWxQBV0C8"
      },
      "source": [
        "\n",
        "<p></p><h4> <strong> Ejemplo 11 </strong> </h4>\n",
        "<p style=\"text-align: justify;\"> Cuales municipios tienen nombres que constan de más de 4 palabras? </p>\n"
      ]
    },
    {
      "cell_type": "code",
      "execution_count": null,
      "metadata": {
        "id": "emd8aIlaV0C9"
      },
      "outputs": [],
      "source": [
        "Mas4 = (Municipios\n",
        "        .query(\"Municipio.str.count(' ').values > 3\")\n",
        "        .reset_index(drop=True)\n",
        "       )\n",
        "Mas4.info()\n",
        "Mas4"
      ]
    },
    {
      "cell_type": "markdown",
      "metadata": {
        "id": "u0iEKYDVV0C9"
      },
      "source": [
        "\n",
        "<p></p><h4> <strong> Ejemplo 12 </strong> </h4>\n",
        "<p style=\"text-align: justify;\"> Conjunto de datos con las variables <em>Departamento</em>, <em>Depmun</em>\n",
        "y <em>Municipio</em>, y con el 1% de municipios con los nombres más largos. </p>\n"
      ]
    },
    {
      "cell_type": "code",
      "execution_count": null,
      "metadata": {
        "id": "6CCVc7BgV0C9"
      },
      "outputs": [],
      "source": [
        "long = Municipios[\"Municipio\"].str.len()\n",
        "largos = (Municipios\n",
        "          .query(\"@long > @long.quantile(0.99)\")\n",
        "          .loc[:,[\"Departamento\",\"Depmun\",\"Municipio\"]]\n",
        "          .reset_index(drop=True)\n",
        "         )\n",
        "largos"
      ]
    },
    {
      "cell_type": "markdown",
      "metadata": {
        "id": "F7cGWpgOV0C9"
      },
      "source": [
        "\n",
        "<p></p><h4> <strong> Ejemplo 13 </strong> </h4>\n",
        "<p style=\"text-align: justify;\"> Conjunto de datos con las variables <em>Departamento</em>, <em>Depmun</em>\n",
        "y <em>Municipio</em>, y con el 1% de municipios con los nombres más cortos. </p>\n"
      ]
    },
    {
      "cell_type": "code",
      "execution_count": null,
      "metadata": {
        "id": "jEsR-VVIV0C9"
      },
      "outputs": [],
      "source": [
        "cortos = (Municipios\n",
        "          .query(\"@long <= @long.quantile(0.01)\")\n",
        "          .loc[:,[\"Departamento\",\"Depmun\",\"Municipio\"]]\n",
        "          .reset_index(drop=True)\n",
        "         )\n",
        "cortos"
      ]
    },
    {
      "cell_type": "markdown",
      "metadata": {
        "id": "vFlKWyOhV0C9"
      },
      "source": [
        "\n",
        "<p></p><h4> <strong> Ejemplo 14 </strong> </h4>\n",
        "<p style=\"text-align: justify;\"> Cálculo de algunas estadísticas descriptivas para las variables numéricas en el conjunto de datos <em>Municipios</em>. </p>\n"
      ]
    },
    {
      "cell_type": "code",
      "execution_count": null,
      "metadata": {
        "id": "cQEwu8uIV0C9"
      },
      "outputs": [],
      "source": [
        "help(pd.DataFrame.describe)"
      ]
    },
    {
      "cell_type": "code",
      "execution_count": null,
      "metadata": {
        "id": "Uv44GT8RV0C9"
      },
      "outputs": [],
      "source": [
        "Municipios.describe()"
      ]
    },
    {
      "cell_type": "code",
      "execution_count": null,
      "metadata": {
        "id": "5ogd4lATV0C-"
      },
      "outputs": [],
      "source": [
        "Municipios.describe(percentiles=[0.1,0.25,0.5,0.75,0.9])"
      ]
    },
    {
      "cell_type": "code",
      "execution_count": null,
      "metadata": {
        "id": "xeZ0Bu3YV0C-"
      },
      "outputs": [],
      "source": [
        "Municipios.describe(include=\"object\")"
      ]
    },
    {
      "cell_type": "markdown",
      "metadata": {
        "id": "xOZ6CWAFV0C-"
      },
      "source": [
        "\n",
        "<p></p><h4> <strong> Ejemplo 15 </strong> </h4>\n",
        "<p style=\"text-align: justify;\"> Cálculo de algunas estadísticas descriptivas (personalizadas) para las variables numéricas en el conjunto de datos <em>Municipios</em>. </p>\n"
      ]
    },
    {
      "cell_type": "code",
      "execution_count": null,
      "metadata": {
        "id": "A1WltzM_V0C-"
      },
      "outputs": [],
      "source": [
        "def summary(y,include='numeric'):\n",
        "    def numer(x):\n",
        "        x2 = x.dropna()\n",
        "        a = x.isna().sum()\n",
        "        b = x2.mean()\n",
        "        c = x2.std()\n",
        "        d = c/b\n",
        "        e = x2.skew()\n",
        "        f = x2.kurt()\n",
        "        g = x2.min()\n",
        "        h = np.quantile(x2,0.25)\n",
        "        i = x2.median()\n",
        "        j = np.quantile(x2,0.75)\n",
        "        k = x2.max()\n",
        "        l = pd.Series({\"Missings\":a,\"Mean\":b,\"St.dev\":c,\"Coef.var\":d,\"Skewness\":e,\n",
        "                       \"Kurtosis\":f,\"Min\":g,\"%25\":h,\"Median\":i,\"%75\":j,\"Max\":k})\n",
        "        return(l)\n",
        "    if include == 'numeric': \n",
        "        numerics = y.select_dtypes(include='number')\n",
        "        if len(numerics.columns) > 0: return(numerics.apply(numer)) \n",
        "        else: print('Error. There are not numeric-type columns!!')\n",
        "    if include == 'object':    \n",
        "        objects = y.select_dtypes(include='object')\n",
        "        if len(objects.columns) > 0: return(objects.describe(include=\"object\"))\n",
        "        else: print('Error. There are not object-type columns!!')"
      ]
    },
    {
      "cell_type": "code",
      "execution_count": null,
      "metadata": {
        "id": "PNo3b1IMV0C-"
      },
      "outputs": [],
      "source": [
        "summary(Municipios,include=\"numeric\")"
      ]
    },
    {
      "cell_type": "code",
      "execution_count": null,
      "metadata": {
        "id": "jGZCLv54V0C-"
      },
      "outputs": [],
      "source": [
        "summary(Municipios,include=\"object\")"
      ]
    },
    {
      "cell_type": "markdown",
      "metadata": {
        "id": "d8jowZRdV0C-"
      },
      "source": [
        "\n",
        "<p></p><h4> <strong> Ejemplo 16 </strong> </h4>\n",
        "<p style=\"text-align: justify;\"> Guardando el conjunto de datos <em>Municipios</em> en el directorio de trabajo para su uso posterior.</p>\n"
      ]
    },
    {
      "cell_type": "code",
      "execution_count": null,
      "metadata": {
        "id": "m2_MVFchV0C-"
      },
      "outputs": [],
      "source": [
        "Municipios.to_pickle(\"Municipios.pkl\")\n",
        "del Municipios"
      ]
    },
    {
      "cell_type": "code",
      "execution_count": null,
      "metadata": {
        "id": "nh5itLPSV0C-"
      },
      "outputs": [],
      "source": [
        "Municipios = pd.read_pickle(\"Municipios.pkl\")\n",
        "Municipios.info()\n",
        "Municipios.head(15)"
      ]
    },
    {
      "cell_type": "markdown",
      "metadata": {
        "id": "juV4P1AhV0C_"
      },
      "source": [
        "\n",
        "# <h1 style=\"color:red;\"> <strong> <center>Tablas de frecuencia </center></strong> </h1>\n"
      ]
    },
    {
      "cell_type": "code",
      "execution_count": null,
      "metadata": {
        "id": "5OtmubqxV0C_"
      },
      "outputs": [],
      "source": [
        "from mismacrospython import onewayfreq, twowayfreq\n",
        "help(pd.crosstab)"
      ]
    },
    {
      "cell_type": "markdown",
      "metadata": {
        "id": "MnUUadaJV0C_"
      },
      "source": [
        "\n",
        "<p></p><h4> <strong> Ejemplo 1 </strong> </h4>\n",
        "<p style=\"text-align: justify;\"> Qué porcentaje del total representan los municipios de la\n",
        "región Caribe? Cuantos municipios tiene la región Centro Sur? Cuales son las dos regiones\n",
        "con mayor número de municipios? Qué porcentaje del total representan\n",
        "los municipios de estas dos regiones? Qué porcentaje de\n",
        "los municipios son rurales? </p>\n"
      ]
    },
    {
      "cell_type": "code",
      "execution_count": null,
      "metadata": {
        "id": "Tfl6sFfaV0C_"
      },
      "outputs": [],
      "source": [
        "onewayfreq(rows=\"Region\",data=Municipios,ord=\"freq\")  "
      ]
    },
    {
      "cell_type": "code",
      "execution_count": null,
      "metadata": {
        "id": "kQr2xYnTV0C_"
      },
      "outputs": [],
      "source": [
        "pd.crosstab(Municipios.Region,\"Result\",colnames=\" \").sort_values(\"Result\",ascending=False)"
      ]
    },
    {
      "cell_type": "code",
      "execution_count": null,
      "metadata": {
        "id": "b5Ji_knxV0C_"
      },
      "outputs": [],
      "source": [
        "onewayfreq(rows=\"Zona\",data=Municipios,ord=\"level\",cum=False)"
      ]
    },
    {
      "cell_type": "code",
      "execution_count": null,
      "metadata": {
        "id": "68S5aeAOV0C_"
      },
      "outputs": [],
      "source": [
        "pd.crosstab(Municipios.Zona,\"Result\",colnames=\" \").sort_values(\"Zona\")"
      ]
    },
    {
      "cell_type": "markdown",
      "metadata": {
        "id": "Is1lb0y7V0C_"
      },
      "source": [
        "\n",
        "<p></p><h4> <strong> Ejemplo 2 </strong> </h4>\n",
        "<p style=\"text-align: justify;\"> Qué porcentaje de la población habita en la región Pacífico? Cuantos habitantes tiene la región Llano?\n",
        "Cuales son las dos regiones con menor número de habitantes?\n",
        "Qué porcentaje de la población habita en estas dos regiones?\n",
        "Qué porcentaje de la población habita en municipios rurales? </p>\n"
      ]
    },
    {
      "cell_type": "code",
      "execution_count": null,
      "metadata": {
        "id": "VDAZ-_LvV0DA"
      },
      "outputs": [],
      "source": [
        "onewayfreq(rows=\"Region\",weight=\"Poblacion\",data=Municipios,ord=\"-freq\")"
      ]
    },
    {
      "cell_type": "code",
      "execution_count": null,
      "metadata": {
        "id": "mm4jcpEvV0DA"
      },
      "outputs": [],
      "source": [
        "pd.crosstab(Municipios.Region,\"Result\",values=Municipios.Poblacion,aggfunc=sum,colnames=\" \").sort_values(\"Result\")"
      ]
    },
    {
      "cell_type": "code",
      "execution_count": null,
      "metadata": {
        "id": "lcgs7N17V0DA"
      },
      "outputs": [],
      "source": [
        "onewayfreq(rows=\"Zona\",weight=\"Poblacion\",data=Municipios,cum=False)   "
      ]
    },
    {
      "cell_type": "code",
      "execution_count": null,
      "metadata": {
        "id": "SmQAlFOiV0DA"
      },
      "outputs": [],
      "source": [
        "pd.crosstab(Municipios.Zona,\"Result\",values=Municipios.Poblacion,aggfunc=sum,colnames=\" \").sort_values(\"Zona\")"
      ]
    },
    {
      "cell_type": "markdown",
      "metadata": {
        "id": "Gs5aoo6MV0DA"
      },
      "source": [
        "\n",
        "<p></p><h4> <strong> Ejemplo 3 </strong> </h4>\n",
        "<p style=\"text-align: justify;\"> Cuales son los departamentos menos poblados de la\n",
        "región Pacífico? Qué porcentaje representan estos departamentos\n",
        "del total de la población en la región Pacífico? Qué porcentaje de\n",
        "la población de la región Caribe habita en ciudades capitales? </p>\n"
      ]
    },
    {
      "cell_type": "code",
      "execution_count": null,
      "metadata": {
        "id": "f0seUK13V0DA"
      },
      "outputs": [],
      "source": [
        "onewayfreq(rows=\"Departamento\",weight=\"Poblacion\",data=Municipios,subset=\"Region=='Región Pacífico'\",ord=\"freq\")"
      ]
    },
    {
      "cell_type": "code",
      "execution_count": null,
      "metadata": {
        "id": "u15GWkfmV0DA"
      },
      "outputs": [],
      "source": [
        "Pacifico = Municipios.loc[Municipios.Region=='Región Pacífico']\n",
        "pd.crosstab(Pacifico.Departamento,\"Result\",values=Pacifico.Poblacion,aggfunc=sum,colnames=\" \").sort_values(\"Result\",ascending=False)"
      ]
    },
    {
      "cell_type": "code",
      "execution_count": null,
      "metadata": {
        "id": "125xco-aV0DA"
      },
      "outputs": [],
      "source": [
        "onewayfreq(rows=\"Tipo\",weight=\"Poblacion\",data=Municipios,subset=\"Region=='Región Caribe'\",cum=False)"
      ]
    },
    {
      "cell_type": "code",
      "execution_count": null,
      "metadata": {
        "id": "0etBbI24V0DA"
      },
      "outputs": [],
      "source": [
        "Caribe = Municipios.loc[Municipios.Region=='Región Caribe']\n",
        "pd.crosstab(Caribe.Tipo,\"Result\",values=Caribe.Poblacion,aggfunc=sum,colnames=\" \").sort_values(\"Tipo\")"
      ]
    },
    {
      "cell_type": "markdown",
      "metadata": {
        "id": "YfwGp0J7V0DB"
      },
      "source": [
        "\n",
        "<p></p><h4> <strong> Ejemplo 4 </strong> </h4>\n",
        "<p style=\"text-align: justify;\"> Qué porcentaje de la superficie total de Colombia representa\n",
        "la región Eje Cafetero? Cual es la superficie de la región Centro Oriente? Cuales son las dos regiones con\n",
        "mayor superficie? Qué porcentaje representan estas dos regiones de la superficie total de Colombia? Cuales son las dos regiones con menor superficie? Qué porcentaje representan estas dos regiones de la superficie total de Colombia? </p>\n"
      ]
    },
    {
      "cell_type": "code",
      "execution_count": null,
      "metadata": {
        "id": "oQxQ6z_xV0DB"
      },
      "outputs": [],
      "source": [
        "onewayfreq(rows=\"Region\",weight=\"Superficie\",data=Municipios,ord=\"freq\")   "
      ]
    },
    {
      "cell_type": "code",
      "execution_count": null,
      "metadata": {
        "id": "18G6NYjMV0DB"
      },
      "outputs": [],
      "source": [
        "pd.crosstab(Municipios.Region,\"Result\",values=Municipios.Superficie,aggfunc=sum,colnames=\" \").sort_values(\"Result\",ascending=False)"
      ]
    },
    {
      "cell_type": "code",
      "execution_count": null,
      "metadata": {
        "id": "dXpHu3VqV0DB"
      },
      "outputs": [],
      "source": [
        "onewayfreq(rows=\"Region\",weight=\"Superficie\",data=Municipios,ord=\"-freq\")"
      ]
    },
    {
      "cell_type": "code",
      "execution_count": null,
      "metadata": {
        "id": "CzdM4yl1V0DB"
      },
      "outputs": [],
      "source": [
        "pd.crosstab(Municipios.Region,\"Result\",values=Municipios.Superficie,aggfunc=sum,colnames=\" \").sort_values(\"Result\")"
      ]
    },
    {
      "cell_type": "markdown",
      "metadata": {
        "id": "l97pa794V0DB"
      },
      "source": [
        "\n",
        "<p></p><h4> <strong> Ejemplo 5 </strong> </h4>\n",
        "<p style=\"text-align: justify;\"> Cuantos municipios conforman la región Caribe? Qué porcentaje de los municipios de la región Caribe son rurales? Cuantos municipios son rurales? Qué porcentaje de los municipios rurales están en la región Centro Sur? </p>\n"
      ]
    },
    {
      "cell_type": "code",
      "execution_count": null,
      "metadata": {
        "id": "pVwI83tCV0DB"
      },
      "outputs": [],
      "source": [
        "twowayfreq(rows=\"Region\",columns=\"Zona\",data=Municipios,ord=\"freq\",rowpercent=True,colpercent=True)"
      ]
    },
    {
      "cell_type": "code",
      "execution_count": null,
      "metadata": {
        "id": "vqo3XXztV0DB"
      },
      "outputs": [],
      "source": [
        "pd.crosstab(Municipios.Region,Municipios.Zona)"
      ]
    },
    {
      "cell_type": "markdown",
      "metadata": {
        "id": "4kwtcTHQV0DB"
      },
      "source": [
        "\n",
        "<p></p><h4> <strong> Ejemplo 6 </strong> </h4>\n",
        "<p style=\"text-align: justify;\"> Cuantos habitantes tiene la región Llano? Qué porcentaje de la población de la región Llano está en municipios rurales? Cuantas personas habitan en municipios urbanos? Qué porcentaje de la población total en municipios urbanos está en la región Eje Cafetero? </p>\n"
      ]
    },
    {
      "cell_type": "code",
      "execution_count": null,
      "metadata": {
        "id": "Oor7bA5gV0DC"
      },
      "outputs": [],
      "source": [
        "twowayfreq(rows=\"Region\",columns=\"Zona\",weight=\"Poblacion\",data=Municipios,ord=\"freq\",rowpercent=True,colpercent=True)"
      ]
    },
    {
      "cell_type": "code",
      "execution_count": null,
      "metadata": {
        "id": "8HfH1edIV0DC"
      },
      "outputs": [],
      "source": [
        "pd.crosstab(Municipios.Region,Municipios.Zona,values=Municipios.Poblacion,aggfunc=sum)"
      ]
    },
    {
      "cell_type": "markdown",
      "metadata": {
        "id": "j5kMouOKV0DC"
      },
      "source": [
        "\n",
        "<p></p><h4> <strong> Ejemplo 7 </strong> </h4>\n",
        "<p style=\"text-align: justify;\"> Cual es la superficie de la región Pacífico? Qué porcentaje de la superficie de la región pacífico corresponde a municipios urbanos? Cual es la superficie de los municipios rurales? Qué porcentaje de la superficie total en municipios rurales está en la región Centro Sur? </p>\n"
      ]
    },
    {
      "cell_type": "code",
      "execution_count": null,
      "metadata": {
        "id": "AtjTmAs8V0DC"
      },
      "outputs": [],
      "source": [
        "twowayfreq(rows=\"Region\",columns=\"Zona\",weight=\"Superficie\",data=Municipios,ord=\"freq\",rowpercent=True,colpercent=True)"
      ]
    },
    {
      "cell_type": "code",
      "execution_count": null,
      "metadata": {
        "id": "G4D6OqWHV0DC"
      },
      "outputs": [],
      "source": [
        "pd.crosstab(Municipios.Region,Municipios.Zona,values=Municipios.Superficie,aggfunc=sum)"
      ]
    },
    {
      "cell_type": "markdown",
      "metadata": {
        "id": "rQDj7GElV0DC"
      },
      "source": [
        "\n",
        "## <p></p><h2 style=\"color:red;\"> Ejercicios: Exportaciones agrícolas tradicionales </h2><p style=\"text-align: justify;\"> El archivo <strong>exportaciones.xlsx</strong> contiene información sobre el volumen (en toneladas) y el valor (en dólares) de las exportaciones agrícolas tradicionales (Banano, Café y Flores) en Colombia de 2018 hasta 2021.</p><ul>\n",
        "<li><p style=\"text-align: justify;\"> Qué porcentaje del volumen de las exportaciones de café en 2018 se hicieron durante el mes de agosto?</p></li>\n",
        "<li><p style=\"text-align: justify;\"> Qué porcentaje del volumen de las exportaciones de café en 2018 se hicieron durante el primer trimestre del año?\n",
        "</p></li>\n",
        "<li><p style=\"text-align: justify;\"> Qué porcentaje del valor de las exportaciones de café en 2018 se hicieron durante el mes de septiembre?\n",
        "</p></li>\n",
        "<li><p style=\"text-align: justify;\"> Qué porcentaje del valor de las exportaciones de café en 2018 se hicieron durante el cuarto trimestre del año?\n",
        "</p></li>\n",
        "<li><p style=\"text-align: justify;\"> Qué porcentaje del volumen de las exportaciones de flores en Antioquia en 2019 se hicieron durante el primer trimestre del año?\n",
        "</p></li>\n",
        "<li><p style=\"text-align: justify;\"> Qué porcentaje del volumen de las exportaciones de flores durante el primer trimestre del 2019 se hicieron desde Antioquia?\n",
        "</p></li>\n",
        "<li><p style=\"text-align: justify;\"> Qué porcentaje del valor de las exportaciones de flores en Antioquia en 2019 se hicieron durante el tercer trimestre del año?\n",
        "</p></li>\n",
        "<li><p style=\"text-align: justify;\"> Qué porcentaje del valor de las exportaciones de flores durante el tercer trimestre del 2019 se hicieron desde Antioquia?\n",
        "</p></li>\n",
        "</ul>\n"
      ]
    },
    {
      "cell_type": "markdown",
      "metadata": {
        "id": "PJHBvUogV0DC"
      },
      "source": [
        "\n",
        "# <p></p><h1 style=\"color:red;\"> <strong> <center>Consulta, transformación y creación de conjuntos de datos</center></strong> </h1>\n",
        "<p></p><h2 style=\"color:blue;\"> <strong> <center>Libreria duckdb</center></strong> </h2>\n",
        "<img height=\"900\" src=\"https://python2022.netlify.app/sqldf.png\" width=\"850\"/>\n"
      ]
    },
    {
      "cell_type": "markdown",
      "metadata": {
        "id": "C3M_Ar5HV0DC"
      },
      "source": [
        "\n",
        "<p style=\"text-align: justify;\"> <a href=\"https://duckdb.org/docs/sql/functions/numeric\" style=\"color:red;\"><strong> Operadores Matemáticos</strong></a></p>\n"
      ]
    },
    {
      "cell_type": "markdown",
      "metadata": {
        "id": "He7Z-eA7V0DC"
      },
      "source": [
        "\n",
        "<p style=\"text-align: justify;\"> <a href=\"https://duckdb.org/docs/sql/functions/char\" style=\"color:red;\"><strong> Operadores de Texto</strong></a></p>\n"
      ]
    },
    {
      "cell_type": "markdown",
      "metadata": {
        "id": "7GwCQ_CzV0DD"
      },
      "source": [
        "\n",
        "<p style=\"text-align: justify;\"> <a href=\"https://duckdb.org/docs/sql/functions/date\" style=\"color:red;\"><strong> Operadores de Fechas</strong></a></p>\n"
      ]
    },
    {
      "cell_type": "markdown",
      "metadata": {
        "id": "JKsv7z1GV0DD"
      },
      "source": [
        "\n",
        "<p style=\"text-align: justify;\"> <a href=\"https://duckdb.org/docs/sql/aggregates\" style=\"color:red;\"><strong> Funciones de agregación</strong></a></p>\n"
      ]
    },
    {
      "cell_type": "code",
      "execution_count": null,
      "metadata": {
        "id": "3OMNgyatV0DD"
      },
      "outputs": [],
      "source": [
        "!pip install duckdb\n",
        "import duckdb\n",
        "con = duckdb.connect(database=':memory:')"
      ]
    },
    {
      "cell_type": "markdown",
      "metadata": {
        "id": "27DezHKjV0DD"
      },
      "source": [
        "\n",
        "<p></p><h4> <strong> Ejemplo 1 </strong> </h4>\n",
        "<p style=\"text-align: justify;\"> Conjunto de datos con las variables <em>Departamento</em>, <em>Dep</em>, <em>Depmun</em>,\n",
        "<em>Municipio</em>, <em>Superficie</em> y <em>Poblacion</em> que incluye todos los municipios de los departamentos de Antioquia y Caldas con más de 20 mil habitantes\n",
        "y donde los mismos están ordenados con respecto a <em>Dep</em> y de\n",
        "mayor a menor con respecto a <em>Poblacion</em>.</p>\n"
      ]
    },
    {
      "cell_type": "code",
      "execution_count": null,
      "metadata": {
        "id": "sntcVeToV0DD"
      },
      "outputs": [],
      "source": [
        "E1 = con.execute(\"\"\"select   Departamento, Dep, Depmun, Municipio, Superficie, Poblacion\n",
        "                    from     Municipios\n",
        "                    where    Dep in ('05','17') and Poblacion > 20000\n",
        "                    order by Dep asc, Poblacion desc\"\"\").df()\n",
        "\n",
        "E1.info()"
      ]
    },
    {
      "cell_type": "markdown",
      "metadata": {
        "id": "q-ySdZ8kV0DD"
      },
      "source": [
        "\n",
        "<p></p><h4> <strong> Ejemplo 2 </strong> </h4>\n",
        "<p style=\"text-align: justify;\"> Conjunto de datos con las variables <em>Departamento</em>, <em>Dep</em>, <em>Depmun</em>, <em>Municipio</em>, <em>Superficie</em> y <em>Poblacion</em> que incluye todos los municipios con superficies menores a 300 $km^2$ excepto los de Boyacá y Santander, y que están ordenados por <em>Dep</em> y de mayor a menor por <em>Poblacion</em>.\n",
        "Incluye una variable definida como \"Baja\" para los municipios con\n",
        "<em>denspobl</em> menor o igual a 30, \"Alta\" para los municipios con <em>denspobl</em> mayor\n",
        "a 85, y \"Media\" para los demás.</p>\n"
      ]
    },
    {
      "cell_type": "code",
      "execution_count": null,
      "metadata": {
        "id": "b3PR1W2MV0DD"
      },
      "outputs": [],
      "source": [
        "E2 = con.execute(\"\"\"select   Departamento, Dep, Depmun, Municipio, Superficie,\n",
        "                             Poblacion, case when denspobl <= 30 then 'Baja'\n",
        "                                             when denspobl > 85 then 'Alta'\n",
        "                                             else 'Media'\n",
        "                                        end as denspoblC\n",
        "                    from     Municipios\n",
        "                    where    Dep not in ('15','68') and Superficie < 300\n",
        "                    order by Dep asc, Poblacion desc\"\"\").df()\n",
        "\n",
        "E2.info()"
      ]
    },
    {
      "cell_type": "markdown",
      "metadata": {
        "id": "AsiZqykHV0DD"
      },
      "source": [
        "\n",
        "<p></p><h4> <strong> Ejemplo 3 </strong> </h4>\n",
        "<p style=\"text-align: justify;\"> Existen dos o más municipios con el mismo <em>Depmun</em>?</p>\n"
      ]
    },
    {
      "cell_type": "code",
      "execution_count": null,
      "metadata": {
        "id": "b1oSWqEcV0DE"
      },
      "outputs": [],
      "source": [
        "con.execute(\"\"\"select   Depmun, count(*) as count\n",
        "               from     Municipios\n",
        "               group by Depmun \n",
        "               having   count > 1\"\"\").df()"
      ]
    },
    {
      "cell_type": "markdown",
      "metadata": {
        "id": "Gj4gmCsMV0DE"
      },
      "source": [
        "\n",
        "<p></p><h4> <strong> Ejemplo 4 </strong> </h4>\n",
        "<p style=\"text-align: justify;\"> De los departamentos con dos o más municipios cual\n",
        "es el menos homogeneo (de acuerdo al rango) con\n",
        "respecto a la superficie de los municipios que lo componen?</p>\n"
      ]
    },
    {
      "cell_type": "code",
      "execution_count": null,
      "metadata": {
        "id": "8Qz1p6_hV0DE"
      },
      "outputs": [],
      "source": [
        "con.execute(\"\"\"select   Dep, Departamento, (max(Superficie)-min(Superficie)) as rango\n",
        "               from     Municipios \n",
        "               group by Dep, Departamento\n",
        "               having   count(*) > 1 \n",
        "               order by rango desc \n",
        "               limit    1\"\"\").df()"
      ]
    },
    {
      "cell_type": "markdown",
      "metadata": {
        "id": "fyQb08rvV0DE"
      },
      "source": [
        "\n",
        "<p></p><h4> <strong> Ejemplo 5 </strong> </h4>\n",
        "<p style=\"text-align: justify;\"> De los departamentos con dos o más municipios cual\n",
        "es el más homogeneo (de acuerdo al rango) con\n",
        "respecto a la superficie de los municipios que lo componen?</p>\n"
      ]
    },
    {
      "cell_type": "code",
      "execution_count": null,
      "metadata": {
        "id": "FT_pNTHgV0DE"
      },
      "outputs": [],
      "source": [
        "con.execute(\"\"\"select   Dep, Departamento, (max(Superficie)-min(Superficie)) as rango\n",
        "               from     Municipios \n",
        "               group by Dep, Departamento\n",
        "               having   count(*) > 1 \n",
        "               order by rango asc  \n",
        "               limit    1\"\"\").df()"
      ]
    },
    {
      "cell_type": "markdown",
      "metadata": {
        "id": "eXE6rAYrV0DE"
      },
      "source": [
        "\n",
        "<p></p><h4> <strong> Ejemplo 6 </strong> </h4>\n",
        "<p style=\"text-align: justify;\"> Conjunto de datos con todos los departamentos, ordenados de mayor\n",
        "a menor con respecto a su población, que incluye la siguiente información: número de municipios, superficie,\n",
        "población, índice de ruralidad promedio ponderado por población, densidad poblacional, y una variable igual a \"Grande\" para los\n",
        "departamentos con población mayor a $1.5$ millones de habitantes, \"Pequeño\" para departamentos\n",
        "con población menor a $300$ mil habitantes, y \"Mediano\" para el resto.</p>\n"
      ]
    },
    {
      "cell_type": "code",
      "execution_count": null,
      "metadata": {
        "id": "1b185XlVV0DE"
      },
      "outputs": [],
      "source": [
        "E6 = con.execute(\"\"\"select   Dep, Departamento, count(*) as nmunicipios, sum(Poblacion) as totpob,\n",
        "                             sum(Superficie) as totsup, sum(Irural*Poblacion)/sum(Poblacion) as Irural, \n",
        "                             sum(Poblacion)/sum(Superficie) as denspob,\n",
        "                             case when sum(Poblacion) > 1500000 then 'Grande'\n",
        "                                  when sum(Poblacion) <= 300000 then 'Pequeño'\n",
        "                                  else 'Mediano'\n",
        "                             end as totpobC\n",
        "                    from     Municipios\n",
        "                    group by Dep, Departamento\n",
        "                    order by totpob desc\"\"\").df()\n",
        "\n",
        "E6.info()"
      ]
    },
    {
      "cell_type": "markdown",
      "metadata": {
        "id": "Kksdy5vjV0DE"
      },
      "source": [
        "\n",
        "<p></p><h4> <strong> Ejemplo 7 </strong> </h4>\n",
        "<p style=\"text-align: justify;\"> Cual es la región con la mayor superficie?</p>\n"
      ]
    },
    {
      "cell_type": "code",
      "execution_count": null,
      "metadata": {
        "id": "UYz3MHnhV0DE"
      },
      "outputs": [],
      "source": [
        "con.execute(\"\"\"select   Region\n",
        "               from     Municipios\n",
        "               group by Region\n",
        "               order by sum(Superficie) desc\n",
        "               limit    1\"\"\").df()"
      ]
    },
    {
      "cell_type": "markdown",
      "metadata": {
        "id": "Kcz1wQcPV0DF"
      },
      "source": [
        "\n",
        "<p></p><h4> <strong> Ejemplo 8 </strong> </h4>\n",
        "<p style=\"text-align: justify;\"> Conjunto de datos con todos los departamentos, ordenados de mayor\n",
        "a menor con respecto a su población, que incluye la siguiente información: número de municipios, superficie,\n",
        "población, densidad poblacional, todo referente a los municipios con índice de ruralidad mayor a 60.</p>\n"
      ]
    },
    {
      "cell_type": "code",
      "execution_count": null,
      "metadata": {
        "id": "ZqDSziyOV0DF"
      },
      "outputs": [],
      "source": [
        "E8 = con.execute(\"\"\"select   Dep, Departamento, count(*) as nmunicipios, sum(Poblacion) as totpob,\n",
        "                             sum(Superficie) as totsup, sum(Poblacion)/sum(Superficie) as denspob\n",
        "                    from     Municipios\n",
        "                    where    Irural > 60\n",
        "                    group by Dep, Departamento\n",
        "                    order by totpob desc\"\"\").df()\n",
        "E8.info()"
      ]
    },
    {
      "cell_type": "markdown",
      "metadata": {
        "id": "B8QgNtRyV0DF"
      },
      "source": [
        "\n",
        "<p></p><h4> <strong> Ejemplo 9 </strong> </h4>\n",
        "<p style=\"text-align: justify;\"> Cual es la región con el mayor número de departamentos?</p>\n"
      ]
    },
    {
      "cell_type": "code",
      "execution_count": null,
      "metadata": {
        "id": "lrXKB_V_V0DF"
      },
      "outputs": [],
      "source": [
        "con.execute(\"\"\"select   Region\n",
        "               from     Municipios\n",
        "               group by Region\n",
        "               order by count(distinct Dep) desc\n",
        "               limit    1\"\"\").df()"
      ]
    },
    {
      "cell_type": "markdown",
      "metadata": {
        "id": "kVyk7EMWV0DF"
      },
      "source": [
        "\n",
        "<p></p><h4> <strong> Ejemplo 10 </strong> </h4>\n",
        "<p style=\"text-align: justify;\"> Conjunto de datos con todos los departamentos con al menos 650 mil habitantes\n",
        "y al menos 10 mil $km^2$ de superficie, ordenados de mayor a menor con relación a su densidad poblacional, y que incluye la siguiente información:\n",
        "número de municipios, superficie, población y densidad poblacional.</p>\n"
      ]
    },
    {
      "cell_type": "code",
      "execution_count": null,
      "metadata": {
        "id": "qFC0mp7mV0DF"
      },
      "outputs": [],
      "source": [
        "E10 = con.execute(\"\"\"select   Dep, Departamento, count(*) as nmunicipios, sum(Poblacion) as totpob, \n",
        "                              sum(Superficie) as totsup, sum(Poblacion)/sum(Superficie) as denspob\n",
        "                     from     Municipios\n",
        "                     group by Dep, Departamento\n",
        "                     having   totpob >= 650000 and totsup >= 10000\n",
        "                     order by denspob desc\"\"\").df()\n",
        "E10.info()"
      ]
    },
    {
      "cell_type": "markdown",
      "metadata": {
        "id": "3GRw41k0V0DF"
      },
      "source": [
        "\n",
        "<p></p><h4> <strong> Ejemplo 11 </strong> </h4>\n",
        "<p style=\"text-align: justify;\"> Conjunto de datos con todos los departamentos con al menos 650 mil\n",
        "habitantes y al menos 10 mil $km^2$ de superficie, ordenados de mayor\n",
        "a menor con relación a su densidad poblacional, y que incluye la siguiente información:\n",
        "número de municipios, superficie, población, y densidad\n",
        "poblacional, todo referente a municipios con índice de ruralidad mayor a 40.</p>\n"
      ]
    },
    {
      "cell_type": "code",
      "execution_count": null,
      "metadata": {
        "id": "VYr4SSBPV0DF"
      },
      "outputs": [],
      "source": [
        "E11 = con.execute(\"\"\"select   Dep, Departamento, count(*) as nmunicipios, sum(Poblacion) as totpob, \n",
        "                              sum(Superficie) as totsup, sum(Poblacion)/sum(Superficie) as denspob\n",
        "                     from     Municipios\n",
        "                     where    Irural > 40\n",
        "                     group by Dep, Departamento\n",
        "                     having   totpob >= 650000 and totsup >= 10000\n",
        "                     order by denspob desc\"\"\").df()\n",
        "E11.info()"
      ]
    },
    {
      "cell_type": "markdown",
      "metadata": {
        "id": "dfE4PjfmV0DG"
      },
      "source": [
        "\n",
        "<p></p><h4> <strong> Ejemplo 12 </strong> </h4>\n",
        "<p style=\"text-align: justify;\"> Existen dos o más municipios con el mismo nombre?\n",
        "Cuantos? Cuales? En qué departamentos están ubicados?</p>\n"
      ]
    },
    {
      "cell_type": "code",
      "execution_count": null,
      "metadata": {
        "id": "OXDwDinwV0DG"
      },
      "outputs": [],
      "source": [
        "Repetidos = con.execute(\"\"\"select   Municipio, count(*) as veces\n",
        "                           from     Municipios\n",
        "                           group by Municipio\n",
        "                           having   veces > 1\n",
        "                           order by veces desc\"\"\").df()\n",
        "\n",
        "E12 = con.execute(\"\"\"select   Municipio, Departamento, Dep, Depmun\n",
        "                     from     Municipios\n",
        "                     where    Municipio in (select Municipio \n",
        "                                            from   Repetidos)\n",
        "                     order by Municipio, Departamento\"\"\").df()\n",
        "\n",
        "E12.info()\n",
        "E12.head(10)"
      ]
    },
    {
      "cell_type": "markdown",
      "metadata": {
        "id": "ilNx2U9YV0DG"
      },
      "source": [
        "\n",
        "<p></p><h4> <strong> Ejemplo 13 </strong> </h4>\n",
        "<p style=\"text-align: justify;\"> Existen dos o más municipios con el mismo nombre que\n",
        "hacen parte de la misma región? Cuantos? Cuales?</p>\n"
      ]
    },
    {
      "cell_type": "code",
      "execution_count": null,
      "metadata": {
        "id": "leEeig2LV0DG"
      },
      "outputs": [],
      "source": [
        "Municipios[\"regmun\"] = Municipios[\"Region\"] + \" \" + Municipios[\"Municipio\"]\n",
        "Municipios.head(20)"
      ]
    },
    {
      "cell_type": "code",
      "execution_count": null,
      "metadata": {
        "id": "qQoo-zcWV0DG"
      },
      "outputs": [],
      "source": [
        "Repetidos = con.execute(\"\"\"select   regmun, count(*) as veces\n",
        "                           from     Municipios\n",
        "                           group by regmun\n",
        "                           having   veces > 1\n",
        "                           order by veces desc\"\"\").df()\n",
        "\n",
        "E13 = con.execute(\"\"\"select   Municipio, Region, Departamento, Dep, Depmun\n",
        "                     from     Municipios\n",
        "                     where    regmun in (select regmun\n",
        "                                         from   Repetidos)\n",
        "                     order by Municipio asc, Region asc\"\"\").df()\n",
        "\n",
        "Municipios = Municipios.drop(columns=\"regmun\")\n",
        "E13.info()\n",
        "E13.head(10)"
      ]
    },
    {
      "cell_type": "markdown",
      "metadata": {
        "id": "Bi9WNxhvV0DG"
      },
      "source": [
        "\n",
        "<p></p><h4> <strong> Ejemplo 14 </strong> </h4>\n",
        "<p style=\"text-align: justify;\"> Conjunto de datos con los municipios cuyos nombres inician\n",
        "con \"A\" o terminan con \"o\".</p>\n"
      ]
    },
    {
      "cell_type": "code",
      "execution_count": null,
      "metadata": {
        "id": "qMXJwq5EV0DG"
      },
      "outputs": [],
      "source": [
        "E14 = con.execute(\"\"\"select   Dep, Departamento, Municipio, Depmun\n",
        "                      from     Municipios\n",
        "                      where    Municipio similar to '(A.*|.*o)'\n",
        "                      order by Depmun\"\"\").df()\n",
        "E14.info()\n",
        "E14.head(10)"
      ]
    },
    {
      "cell_type": "code",
      "execution_count": null,
      "metadata": {
        "id": "Bzvk27WGV0DG"
      },
      "outputs": [],
      "source": [
        "E14a = con.execute(\"\"\"select   Dep, Departamento, Municipio, Depmun\n",
        "                      from     Municipios\n",
        "                      where    Municipio like 'A%' or Municipio like '%o'\n",
        "                      order by Depmun\"\"\").df()\n",
        "E14a.equals(E14)"
      ]
    },
    {
      "cell_type": "markdown",
      "metadata": {
        "id": "o0cH6JE3V0DG"
      },
      "source": [
        "\n",
        "<p></p><h4> <strong> Ejemplo 15 </strong> </h4>\n",
        "<p style=\"text-align: justify;\"> Conjunto de datos con los municipios cuyos nombres inician\n",
        "con \"A\" y terminan con \"o\".</p>\n"
      ]
    },
    {
      "cell_type": "code",
      "execution_count": null,
      "metadata": {
        "id": "18F8Q_5nV0DH"
      },
      "outputs": [],
      "source": [
        "E15 = con.execute(\"\"\"select   Dep, Departamento, Municipio, Depmun\n",
        "                     from     Municipios\n",
        "                     where    Municipio similar to 'A.*o'\n",
        "                     order by Depmun\"\"\").df()\n",
        "E15.info()\n",
        "E15.head(10)"
      ]
    },
    {
      "cell_type": "code",
      "execution_count": null,
      "metadata": {
        "id": "Tr9WAdgOV0DH"
      },
      "outputs": [],
      "source": [
        "E15a = con.execute(\"\"\"select   Dep, Departamento, Municipio, Depmun\n",
        "                      from     Municipios\n",
        "                      where    Municipio like 'A%o'\n",
        "                      order by Depmun\"\"\").df()\n",
        "E15a.equals(E15)"
      ]
    },
    {
      "cell_type": "markdown",
      "metadata": {
        "id": "tXH1IdYpV0DH"
      },
      "source": [
        "\n",
        "<p></p><h4> <strong> Ejemplo 16 </strong> </h4>\n",
        "<p style=\"text-align: justify;\"> Conjunto de datos con los municipios cuyo nombre tiene a la\n",
        "letra \"e\" en las posiciones 2 y 4.</p>\n"
      ]
    },
    {
      "cell_type": "code",
      "execution_count": null,
      "metadata": {
        "id": "s1s-smC5V0DH"
      },
      "outputs": [],
      "source": [
        "E16 = con.execute(\"\"\"select   Dep, Departamento, Municipio, Depmun\n",
        "                     from     Municipios\n",
        "                     where    Municipio similar to '.{1}e.{1}e.*'\n",
        "                     order by Depmun\"\"\").df()\n",
        "E16.info()\n",
        "E16.head(10)"
      ]
    },
    {
      "cell_type": "code",
      "execution_count": null,
      "metadata": {
        "id": "p8733LTcV0DH"
      },
      "outputs": [],
      "source": [
        "E16a = con.execute(\"\"\"select   Dep, Departamento, Municipio, Depmun\n",
        "                      from     Municipios\n",
        "                      where    Municipio like '_e_e%'\n",
        "                      order by Depmun\"\"\").df()\n",
        "E16a.equals(E16)"
      ]
    },
    {
      "cell_type": "markdown",
      "metadata": {
        "id": "RlpwBFHHV0DH"
      },
      "source": [
        "\n",
        "<p></p><h4> <strong> Ejemplo 17 </strong> </h4>\n",
        "<p style=\"text-align: justify;\"> Conjunto de datos con los municipios cuyos nombres constan\n",
        "de más de una palabra.</p>\n"
      ]
    },
    {
      "cell_type": "code",
      "execution_count": null,
      "metadata": {
        "id": "YcktfnnFV0DH"
      },
      "outputs": [],
      "source": [
        "E17 = con.execute(\"\"\"select   Dep, Departamento, Municipio, Depmun\n",
        "                     from     Municipios\n",
        "                     where    Municipio similar to '.* .*'\n",
        "                     order by Depmun\"\"\").df()\n",
        "E17.info()\n",
        "E17.head(10)"
      ]
    },
    {
      "cell_type": "markdown",
      "metadata": {
        "id": "w-jA-lqOV0DH"
      },
      "source": [
        "\n",
        "<p><img height=\"900\" src=\"\thttps://python2022.netlify.app/sqldf2.png\" width=\"850\"/>\n",
        "<img height=\"900\" src=\"\thttps://python2022.netlify.app/sqldf3.png\" width=\"850\"/></p>\n"
      ]
    },
    {
      "cell_type": "code",
      "execution_count": null,
      "metadata": {
        "id": "8lRoxNh2V0DH"
      },
      "outputs": [],
      "source": [
        "A = pd.DataFrame({\"id\":[1,2,2,3],\"cod\":[23,65,60,87],\"name\":[\"Leia\",\"Luke\",\"Yoda\",\"Hank\"]})\n",
        "A.head(len(A))"
      ]
    },
    {
      "cell_type": "code",
      "execution_count": null,
      "metadata": {
        "id": "ECTuDwYkV0DI"
      },
      "outputs": [],
      "source": [
        "B = pd.DataFrame({\"id\":[2,3,4],\"cod\":[65,87,29],\"age\":[23,20,25]})\n",
        "B.head(len(B))"
      ]
    },
    {
      "cell_type": "code",
      "execution_count": null,
      "metadata": {
        "id": "6H1eF2TQV0DI"
      },
      "outputs": [],
      "source": [
        "con.execute(\"\"\"select * \n",
        "               from   A inner join B on (A.id=B.id and A.cod=B.cod)\"\"\").df()"
      ]
    },
    {
      "cell_type": "code",
      "execution_count": null,
      "metadata": {
        "id": "lFA4ks8rV0DI"
      },
      "outputs": [],
      "source": [
        "con.execute(\"\"\"select * \n",
        "               from   B inner join A on (B.id=A.id and B.cod=A.cod)\"\"\").df()"
      ]
    },
    {
      "cell_type": "code",
      "execution_count": null,
      "metadata": {
        "id": "p1s3jbcrV0DI"
      },
      "outputs": [],
      "source": [
        "con.execute(\"\"\"select * \n",
        "               from   A left join B on (A.id=B.id and A.cod=B.cod)\"\"\").df()"
      ]
    },
    {
      "cell_type": "code",
      "execution_count": null,
      "metadata": {
        "id": "6FTWnjzMV0DI"
      },
      "outputs": [],
      "source": [
        "con.execute(\"\"\"select * \n",
        "               from   A right join B on (A.id=B.id and A.cod=B.cod)\"\"\").df()"
      ]
    },
    {
      "cell_type": "code",
      "execution_count": null,
      "metadata": {
        "id": "chblBqBzV0DI"
      },
      "outputs": [],
      "source": [
        "con.execute(\"\"\"select * \n",
        "               from   A full join B on (A.id=B.id and A.cod=B.cod)\"\"\").df()"
      ]
    },
    {
      "cell_type": "markdown",
      "metadata": {
        "id": "AjKtYr6PV0DI"
      },
      "source": [
        "\n",
        "<hr/>\n",
        "<p></p><h4> <strong> Ejemplo 18 </strong> </h4>\n",
        "<p style=\"text-align: justify;\"> Cuantos y cuales municipios tienen al menos una estación\n",
        "de monitoreo climático?</p>\n"
      ]
    },
    {
      "cell_type": "code",
      "execution_count": null,
      "metadata": {
        "id": "9qqUq7KdV0DI"
      },
      "outputs": [],
      "source": [
        "Estaciones = pd.read_excel(\"Estaciones.xlsx\",dtype={'CODIGO': str, 'Depmun': str})\n",
        "Estaciones.info()\n",
        "Estaciones.head(20)"
      ]
    },
    {
      "cell_type": "code",
      "execution_count": null,
      "metadata": {
        "id": "SefE5SetV0DI"
      },
      "outputs": [],
      "source": [
        "E18 = con.execute(\"\"\"select   distinct Depmun\n",
        "                     from     Estaciones\n",
        "                     order by Depmun\"\"\").df()\n",
        "E18.info()\n",
        "E18.head(10)"
      ]
    },
    {
      "cell_type": "markdown",
      "metadata": {
        "id": "yLPaHsTnV0DJ"
      },
      "source": [
        "\n",
        "<p></p><h4> <strong> Ejemplo 19 </strong> </h4>\n",
        "<p style=\"text-align: justify;\"> Conjunto de datos con todos los municipios del país, que incluye una variable que informa el número de \n",
        "estaciones de monitoreo climático con que cuenta cada municipio.</p>\n"
      ]
    },
    {
      "cell_type": "code",
      "execution_count": null,
      "metadata": {
        "id": "Ne5YlDB4V0DJ"
      },
      "outputs": [],
      "source": [
        "Emon = con.execute(\"\"\"select   Depmun, count(*) as nem \n",
        "                      from     Estaciones\n",
        "                      group by Depmun\"\"\").df()\n",
        "\n",
        "E19 = con.execute(\"\"\"select   Municipios.*, case when nem is null then 0 \n",
        "                                                else nem \n",
        "                                          end as nest\n",
        "                     from     Municipios left join Emon on (Municipios.Depmun = Emon.Depmun)\n",
        "                     order by Dep, Poblacion desc\"\"\").df()\n",
        "E19.info()\n",
        "E19.head(20)"
      ]
    },
    {
      "cell_type": "markdown",
      "metadata": {
        "id": "QP2nvpf_V0DJ"
      },
      "source": [
        "\n",
        "<p></p><h4> <strong> Ejemplo 20 </strong> </h4>\n",
        "<p style=\"text-align: justify;\"> Existen municipios que no tienen ninguna estación de\n",
        "monitoreo climático? Cuantos? Cuales?</p>\n"
      ]
    },
    {
      "cell_type": "code",
      "execution_count": null,
      "metadata": {
        "id": "7ZR1oQzfV0DJ"
      },
      "outputs": [],
      "source": [
        "E20 = con.execute(\"\"\"select   Municipios.*\n",
        "                     from     Municipios\n",
        "                     where    Depmun not in (select Depmun\n",
        "                                             from   Estaciones)\n",
        "                     order by Depmun\"\"\").df()\n",
        "\n",
        "E20.info()"
      ]
    },
    {
      "cell_type": "markdown",
      "metadata": {
        "id": "omd8tOjZV0DJ"
      },
      "source": [
        "\n",
        "<p></p><h4> <strong> Ejemplo 21 </strong> </h4>\n",
        "<p style=\"text-align: justify;\"> Copia de Estaciones que solo considera estaciones de monitoreo localizadas \n",
        "como máximo a 2000 metros de altura sobre el nivel del mar, y que incluye los nombres del municipio y del\n",
        "departamento donde están ubicadas las estaciones.</p>\n"
      ]
    },
    {
      "cell_type": "code",
      "execution_count": null,
      "metadata": {
        "id": "aC_pk_-TV0DJ"
      },
      "outputs": [],
      "source": [
        "E21 = con.execute(\"\"\"select   Estaciones.*, Municipio, Departamento, Dep\n",
        "                     from     Estaciones inner join Municipios on (Estaciones.Depmun = Municipios.Depmun)\n",
        "                     where    elev <= 2000\n",
        "                     order by Estaciones.Depmun, codigo\"\"\").df()\n",
        "\n",
        "E21.info()\n",
        "E21.head(10)"
      ]
    },
    {
      "cell_type": "markdown",
      "metadata": {
        "id": "XhLuJAUfV0DJ"
      },
      "source": [
        "\n",
        "# <h2 style=\"color:blue;\"> <strong> <center>Libreria pandas</center></strong> </h2>\n"
      ]
    },
    {
      "cell_type": "markdown",
      "metadata": {
        "id": "ge8X2CUVV0DJ"
      },
      "source": [
        "\n",
        "<p></p><h4> <strong> Ejemplo 1 </strong> </h4>\n",
        "<p style=\"text-align: justify;\"> Conjunto de datos con las variables <em>Departamento</em>, <em>Dep</em>, <em>Depmun</em>,\n",
        "<em>Municipio</em>, <em>Superficie</em> y <em>Poblacion</em> que incluye todos los municipios de los departamentos de Antioquia y Caldas con más de 20 mil habitantes\n",
        "y donde los mismos están ordenados con respecto a <em>Dep</em> y de\n",
        "mayor a menor con respecto a <em>Poblacion</em>.</p>\n"
      ]
    },
    {
      "cell_type": "code",
      "execution_count": null,
      "metadata": {
        "id": "o39dbNXjV0DK"
      },
      "outputs": [],
      "source": [
        "e1 = (Municipios\n",
        "      .loc[:,[\"Departamento\",\"Dep\",\"Depmun\",\"Municipio\",\"Superficie\",\"Poblacion\"]] \n",
        "      .query(\"Poblacion > 20000 & Dep in ('05','17')\")\n",
        "      .sort_values(by=[\"Dep\",\"Poblacion\"],ascending=[True,False]).reset_index(drop=True)\n",
        "     )\n",
        "\n",
        "e1.info()\n",
        "e1.head(10)\n",
        "E1.equals(e1)"
      ]
    },
    {
      "cell_type": "markdown",
      "metadata": {
        "id": "5BZzzcmtV0DK"
      },
      "source": [
        "\n",
        "<p></p><h4> <strong> Ejemplo 2 </strong> </h4>\n",
        "<p style=\"text-align: justify;\"> Conjunto de datos con las variables <em>Departamento</em>, <em>Dep</em>, <em>Depmun</em>, <em>Municipio</em>, <em>Superficie</em> y <em>Poblacion</em> que incluye todos los municipios con superficies menores a 300 $km^2$ excepto los de Boyacá y Santander, y que están ordenados por <em>Dep</em> y de mayor a menor por <em>Poblacion</em>.\n",
        "Incluye una variable definida como \"Baja\" para los municipios con\n",
        "<em>denspobl</em> menor o igual a 30, \"Alta\" para los municipios con <em>denspobl</em> mayor\n",
        "a 85, y \"Media\" para los demás.</p>\n"
      ]
    },
    {
      "cell_type": "code",
      "execution_count": null,
      "metadata": {
        "id": "1Z-59sz4V0DK"
      },
      "outputs": [],
      "source": [
        "e2 = Municipios.copy()\n",
        "e2[\"denspoblC\"] = pd.cut(e2[\"denspobl\"],[np.NINF,30,85,np.inf],labels=[\"Baja\",\"Media\",\"Alta\"]).astype(\"object\")\n",
        "\n",
        "e2 = (e2\n",
        "      .loc[:,[\"Departamento\",\"Dep\",\"Depmun\",\"Municipio\",\"Superficie\",\"Poblacion\", \"denspoblC\"]] \n",
        "      .query(\"Dep not in ('15','68') & Superficie < 300\")\n",
        "      .sort_values(by=[\"Dep\",\"Poblacion\"],ascending=[True,False]).reset_index(drop=True)\n",
        "     )\n",
        "\n",
        "e2.info()\n",
        "e2.head(10)\n",
        "E2.equals(e2)"
      ]
    },
    {
      "cell_type": "markdown",
      "metadata": {
        "id": "NhxnqnOTV0DK"
      },
      "source": [
        "\n",
        "<p></p><h4> <strong> Ejemplo 3 </strong> </h4>\n",
        "<p style=\"text-align: justify;\"> Existen dos o más municipios con el mismo <em>Depmun</em>?</p>\n"
      ]
    },
    {
      "cell_type": "code",
      "execution_count": null,
      "metadata": {
        "id": "41ux_4lUV0DK"
      },
      "outputs": [],
      "source": [
        "(Municipios\n",
        " .groupby(\"Depmun\")\n",
        " .agg(conteo=(\"Depmun\",\"count\")).reset_index()\n",
        " .query(\"conteo > 1\")\n",
        ")"
      ]
    },
    {
      "cell_type": "markdown",
      "metadata": {
        "id": "44MzoQlWV0DK"
      },
      "source": [
        "\n",
        "<p></p><h4> <strong> Ejemplo 4 </strong> </h4>\n",
        "<p style=\"text-align: justify;\"> De los departamentos con dos o más municipios cual\n",
        "es el menos homogeneo (de acuerdo al rango) con\n",
        "respecto a la superficie de los municipios que lo componen?</p>\n"
      ]
    },
    {
      "cell_type": "code",
      "execution_count": null,
      "metadata": {
        "id": "YIlVDJjoV0DK"
      },
      "outputs": [],
      "source": [
        "def rango(x): \n",
        "    return(x.max()- x.min())\n",
        "\n",
        "(Municipios\n",
        " .groupby([\"Dep\",\"Departamento\"])\n",
        " .agg(conteo=(\"Depmun\",\"count\"),\n",
        "      rango=(\"Superficie\",rango)).reset_index()\n",
        " .query(\"conteo > 1\")\n",
        " .drop(columns=\"conteo\") \n",
        " .sort_values(by=[\"rango\"],ascending=False).reset_index(drop=True)\n",
        " .head(n=1)\n",
        ")"
      ]
    },
    {
      "cell_type": "markdown",
      "metadata": {
        "id": "KbZ9y6gvV0DK"
      },
      "source": [
        "\n",
        "<p></p><h4> <strong> Ejemplo 5 </strong> </h4>\n",
        "<p style=\"text-align: justify;\"> De los departamentos con dos o más municipios cual\n",
        "es el más homogeneo (de acuerdo al rango) con\n",
        "respecto a la superficie de los municipios que lo componen?</p>\n"
      ]
    },
    {
      "cell_type": "code",
      "execution_count": null,
      "metadata": {
        "id": "BWGSvE0lV0DK"
      },
      "outputs": [],
      "source": [
        "(Municipios.groupby([\"Dep\",\"Departamento\"])\n",
        "  .agg(conteo=(\"Depmun\",\"count\"),\n",
        "       rango=(\"Superficie\",rango)).reset_index()\n",
        "  .query(\"conteo > 1\").drop(columns=\"conteo\") \n",
        "  .sort_values(by=[\"rango\"],ascending=True).reset_index(drop=True)\n",
        "  .head(n=1)\n",
        " )"
      ]
    },
    {
      "cell_type": "markdown",
      "metadata": {
        "id": "G24lOvvoV0DL"
      },
      "source": [
        "\n",
        "<p></p><h4> <strong> Ejemplo 6 </strong> </h4>\n",
        "<p style=\"text-align: justify;\"> Conjunto de datos con todos los departamentos, ordenados de mayor\n",
        "a menor con respecto a su población, que incluye la siguiente información: número de municipios, superficie,\n",
        "población, índice de ruralidad promedio ponderado por población, densidad poblacional, y una variable igual a \"Grande\" para los\n",
        "departamentos con población mayor a $1.5$ millones de habitantes, \"Pequeño\" para departamentos\n",
        "con población menor a $300$ mil habitantes, y \"Mediano\" para el resto.</p>\n"
      ]
    },
    {
      "cell_type": "code",
      "execution_count": null,
      "metadata": {
        "id": "czAaQUuQV0DL"
      },
      "outputs": [],
      "source": [
        "def wtmean(x):\n",
        "    w = Municipios.loc[x.index,\"Poblacion\"]\n",
        "    return(sum(x*w)/sum(w))\n",
        "\n",
        "def cases(x):\n",
        "    out = \"Mediano\"\n",
        "    if sum(x) < 300000:  out= \"Pequeño\"\n",
        "    if sum(x) > 1500000: out= \"Grande\"\n",
        "    return(out)    \n",
        "\n",
        "e6 = (Municipios\n",
        "      .groupby([\"Dep\",\"Departamento\"])\n",
        "      .agg(nmunicipios=(\"Depmun\",\"count\"),\n",
        "           totpob=(\"Poblacion\",\"sum\"),\n",
        "           totsup=(\"Superficie\",\"sum\"),\n",
        "           Irural=(\"Irural\",wtmean),\n",
        "           totpobC=(\"Poblacion\",cases)).reset_index()\n",
        "      .eval('''denspob = totpob/totsup''')\n",
        "      .sort_values(by=[\"totpob\"],ascending=False).reset_index(drop=True)\n",
        "     )\n",
        "\n",
        "e6 = e6[[\"Dep\",\"Departamento\",\"nmunicipios\",\"totpob\",\"totsup\",\"Irural\",\"denspob\",\"totpobC\"]]\n",
        "e6.info()\n",
        "e6.head(10)\n",
        "E6.equals(e6)"
      ]
    },
    {
      "cell_type": "markdown",
      "metadata": {
        "id": "j2Q8H0NAV0DL"
      },
      "source": [
        "\n",
        "<p></p><h4> <strong> Ejemplo 7 </strong> </h4>\n",
        "<p style=\"text-align: justify;\"> Cual es la región con la mayor superficie?</p>\n"
      ]
    },
    {
      "cell_type": "code",
      "execution_count": null,
      "metadata": {
        "id": "k9I5tXC2V0DL"
      },
      "outputs": [],
      "source": [
        "(Municipios\n",
        " .groupby([\"Region\"])\n",
        " .agg(Superficie=(\"Superficie\",\"sum\")).reset_index()\n",
        " .sort_values(by=[\"Superficie\"],ascending=False).reset_index(drop=True)\n",
        " .head(n=1)\n",
        ")"
      ]
    },
    {
      "cell_type": "markdown",
      "metadata": {
        "id": "3zGkBV1yV0DL"
      },
      "source": [
        "\n",
        "<p></p><h4> <strong> Ejemplo 8 </strong> </h4>\n",
        "<p style=\"text-align: justify;\"> Conjunto de datos con todos los departamentos, ordenados de mayor\n",
        "a menor con respecto a su población, que incluye la siguiente información: número de municipios, superficie,\n",
        "población, densidad poblacional, todo referente a los municipios con índice de ruralidad mayor a 60.</p>\n"
      ]
    },
    {
      "cell_type": "code",
      "execution_count": null,
      "metadata": {
        "id": "ZuvwdnGAV0DL"
      },
      "outputs": [],
      "source": [
        "e8 = (Municipios\n",
        "      .query(\"Irural > 60\")\n",
        "      .groupby([\"Dep\",\"Departamento\"])\n",
        "      .agg(nmunicipios=(\"Depmun\",\"count\"),\n",
        "           totpob=(\"Poblacion\",\"sum\"),\n",
        "           totsup=(\"Superficie\",\"sum\")).reset_index()\n",
        "      .sort_values(by=[\"totpob\"],ascending=False).reset_index(drop=True)\n",
        "      .eval('''denspob=totpob/totsup''')\n",
        "     )\n",
        "\n",
        "e8.info()\n",
        "e8.head(10)\n",
        "E8.equals(e8)"
      ]
    },
    {
      "cell_type": "markdown",
      "metadata": {
        "id": "QGK_f8tFV0DL"
      },
      "source": [
        "\n",
        "<p></p><h4> <strong> Ejemplo 9 </strong> </h4>\n",
        "<p style=\"text-align: justify;\"> Cual es la región con el mayor número de departamentos?</p>\n"
      ]
    },
    {
      "cell_type": "code",
      "execution_count": null,
      "metadata": {
        "id": "t6yaJsAQV0DL"
      },
      "outputs": [],
      "source": [
        "         (Municipios\n",
        "          .groupby([\"Region\"])\n",
        "          .agg(Departamentos=(\"Dep\",\"nunique\")).reset_index()\n",
        "          .sort_values(by=[\"Departamentos\"],ascending=False)\n",
        "          .head(n=1)\n",
        "         )"
      ]
    },
    {
      "cell_type": "markdown",
      "metadata": {
        "id": "3tHBR4iTV0DL"
      },
      "source": [
        "\n",
        "<p></p><h4> <strong> Ejemplo 10 </strong> </h4>\n",
        "<p style=\"text-align: justify;\"> Conjunto de datos con todos los departamentos con al menos 650 mil habitantes\n",
        "y al menos 10 mil $km^2$ de superficie, ordenados de mayor a menor con relación a su densidad poblacional, y que incluye la siguiente información:\n",
        "número de municipios, superficie, población y densidad poblacional.</p>\n"
      ]
    },
    {
      "cell_type": "code",
      "execution_count": null,
      "metadata": {
        "id": "ylr-Og5xV0DM"
      },
      "outputs": [],
      "source": [
        "e10 = (Municipios\n",
        "       .groupby([\"Dep\",\"Departamento\"])\n",
        "       .agg(nmunicipios=(\"Depmun\",\"count\"),\n",
        "            totpob=(\"Poblacion\",\"sum\"),\n",
        "            totsup=(\"Superficie\",\"sum\")).reset_index()\n",
        "       .eval('''denspob = totpob/totsup''')\n",
        "       .query(\"totpob >= 650000 & totsup >= 10000\")\n",
        "       .sort_values(by=[\"denspob\"],ascending=False).reset_index(drop=True)\n",
        "      ) \n",
        "\n",
        "e10.info()\n",
        "e10.head(10)\n",
        "E10.equals(e10)"
      ]
    },
    {
      "cell_type": "markdown",
      "metadata": {
        "id": "NRcrt-hJV0DM"
      },
      "source": [
        "\n",
        "<p></p><h4> <strong> Ejemplo 11 </strong> </h4>\n",
        "<p style=\"text-align: justify;\"> Conjunto de datos con todos los departamentos con al menos 650 mil\n",
        "habitantes y al menos 10 mil $km^2$ de superficie, ordenados de mayor\n",
        "a menor con relación a su densidad poblacional, y que incluye la siguiente información:\n",
        "número de municipios, superficie, población, y densidad\n",
        "poblacional, todo referente a municipios con índice de ruralidad mayor a 40.</p>\n"
      ]
    },
    {
      "cell_type": "code",
      "execution_count": null,
      "metadata": {
        "id": "M3ztIY0oV0DM"
      },
      "outputs": [],
      "source": [
        "e11 = (Municipios\n",
        "       .query(\"Irural > 40\")\n",
        "       .groupby([\"Dep\",\"Departamento\"])\n",
        "       .agg(nmunicipios=(\"Depmun\",\"count\"),\n",
        "            totpob=(\"Poblacion\",\"sum\"),\n",
        "            totsup=(\"Superficie\",\"sum\")).reset_index()\n",
        "       .eval('''denspob = totpob/totsup''')\n",
        "       .query(\"totpob >= 650000 & totsup >= 10000\")\n",
        "       .sort_values(by=[\"denspob\"],ascending=False).reset_index(drop=True)\n",
        "      ) \n",
        "\n",
        "e11.info()\n",
        "e11.head(10)\n",
        "E11.equals(e11)"
      ]
    },
    {
      "cell_type": "markdown",
      "metadata": {
        "id": "gSULCx6lV0DM"
      },
      "source": [
        "\n",
        "<p></p><h4> <strong> Ejemplo 12 </strong> </h4>\n",
        "<p style=\"text-align: justify;\"> Existen dos o más municipios con el mismo nombre?\n",
        "Cuantos? Cuales? En qué departamentos están ubicados?</p>\n"
      ]
    },
    {
      "cell_type": "code",
      "execution_count": null,
      "metadata": {
        "id": "Q6-2DMbZV0DM"
      },
      "outputs": [],
      "source": [
        "Repetidos = (Municipios\n",
        "             .groupby(\"Municipio\")\n",
        "             .agg(reps=(\"Municipio\",\"count\")).reset_index()\n",
        "             .query(\"reps > 1\")\n",
        "             .sort_values(by=[\"reps\"],ascending=False).reset_index(drop=True) \n",
        "            )\n",
        "reps = Repetidos[\"Municipio\"]\n",
        "Repetidos.info()\n",
        "Repetidos.head(10)"
      ]
    },
    {
      "cell_type": "code",
      "execution_count": null,
      "metadata": {
        "id": "UifDy-GkV0DM"
      },
      "outputs": [],
      "source": [
        "e12 = (Municipios\n",
        "       .loc[:,[\"Municipio\",\"Departamento\",\"Dep\",\"Depmun\"]] \n",
        "       .query(\"Municipio in @reps\")\n",
        "       .sort_values(by=[\"Municipio\",\"Departamento\"],ascending=[True,True]).reset_index(drop=True)\n",
        "      )\n",
        "\n",
        "e12.info()\n",
        "e12.head(10)\n",
        "E12.equals(e12)"
      ]
    },
    {
      "cell_type": "markdown",
      "metadata": {
        "id": "4a8zlMItV0DM"
      },
      "source": [
        "\n",
        "<p></p><h4> <strong> Ejemplo 13 </strong> </h4>\n",
        "<p style=\"text-align: justify;\"> Existen dos o más municipios con el mismo nombre que\n",
        "hacen parte de la misma región? Cuantos? Cuales?</p>\n"
      ]
    },
    {
      "cell_type": "code",
      "execution_count": null,
      "metadata": {
        "id": "vrrBwvvTV0DM"
      },
      "outputs": [],
      "source": [
        "Municipios[\"regmun\"] = Municipios[\"Region\"] + \" \" + Municipios[\"Municipio\"]\n",
        "Municipios.head(10)"
      ]
    },
    {
      "cell_type": "code",
      "execution_count": null,
      "metadata": {
        "id": "IyKr0wkIV0DM"
      },
      "outputs": [],
      "source": [
        "Repetidos = (Municipios\n",
        "             .groupby(\"regmun\")\n",
        "             .agg(reps=(\"regmun\",\"count\")).reset_index()\n",
        "             .query(\"reps > 1\")\n",
        "             .sort_values(by=[\"reps\"],ascending=False) \n",
        "            )\n",
        "reps = Repetidos[\"regmun\"]\n",
        "\n",
        "e13 = (Municipios\n",
        "       .query(\"regmun in @reps\")\n",
        "       .loc[:,[\"Municipio\",\"Region\",\"Departamento\",\"Dep\",\"Depmun\"]] \n",
        "       .sort_values(by=[\"Municipio\", \"Region\"],ascending=[True,True]).reset_index(drop=True)\n",
        "      )\n",
        "\n",
        "Municipios = Municipios.drop(columns=\"regmun\")\n",
        "e13.info()\n",
        "e13.head(10)\n",
        "E13.equals(e13)"
      ]
    },
    {
      "cell_type": "markdown",
      "metadata": {
        "id": "kEGEPWsaV0DM"
      },
      "source": [
        "\n",
        "<p></p><h4> <strong> Ejemplo 14 </strong> </h4>\n",
        "<p style=\"text-align: justify;\"> Conjunto de datos con los municipios cuyos nombres inician\n",
        "con \"A\" o terminan con \"o\".</p>\n"
      ]
    },
    {
      "cell_type": "code",
      "execution_count": null,
      "metadata": {
        "id": "z5KX7w6-V0DN"
      },
      "outputs": [],
      "source": [
        "e14 = (Municipios\n",
        "       .query(\"Municipio.str.contains('^A|o$').values\")\n",
        "       .loc[:,[\"Dep\",\"Departamento\",\"Municipio\",\"Depmun\"]] \n",
        "       .sort_values(by=[\"Depmun\"],ascending=True).reset_index(drop=True)\n",
        "      )\n",
        "\n",
        "e14.info()\n",
        "e14.head(10)\n",
        "E14.equals(e14)"
      ]
    },
    {
      "cell_type": "markdown",
      "metadata": {
        "id": "nQhtQqyvV0DN"
      },
      "source": [
        "\n",
        "<p></p><h4> <strong> Ejemplo 15 </strong> </h4>\n",
        "<p style=\"text-align: justify;\"> Conjunto de datos con los municipios cuyos nombres inician\n",
        "con \"A\" y terminan con \"o\".</p>\n"
      ]
    },
    {
      "cell_type": "code",
      "execution_count": null,
      "metadata": {
        "id": "-8vfWEluV0DN"
      },
      "outputs": [],
      "source": [
        "e15 = (Municipios\n",
        "       .query(\"Municipio.str.contains('^A.*o$').values\")\n",
        "       .loc[:,[\"Dep\",\"Departamento\",\"Municipio\",\"Depmun\"]] \n",
        "       .sort_values(by=[\"Depmun\"],ascending=True).reset_index(drop=True)\n",
        "      )\n",
        "\n",
        "e15.info()\n",
        "e15.head(14)\n",
        "E15.equals(e15)"
      ]
    },
    {
      "cell_type": "markdown",
      "metadata": {
        "id": "b0gp41JkV0DN"
      },
      "source": [
        "\n",
        "<p></p><h4> <strong> Ejemplo 16 </strong> </h4>\n",
        "<p style=\"text-align: justify;\"> Conjunto de datos con los municipios cuyo nombre tiene a la\n",
        "letra \"e\" en las posiciones 2 y 4.</p>\n"
      ]
    },
    {
      "cell_type": "code",
      "execution_count": null,
      "metadata": {
        "id": "9qvSRmM1V0DN"
      },
      "outputs": [],
      "source": [
        "e16 = (Municipios\n",
        "       .query(\"Municipio.str.contains('^.{1}e.{1}e.*').values\")\n",
        "       .loc[:,[\"Dep\",\"Departamento\",\"Municipio\",\"Depmun\"]] \n",
        "       .sort_values(by=[\"Depmun\"],ascending=True).reset_index(drop=True)\n",
        "      )\n",
        "\n",
        "e16.info()\n",
        "e16.head(10)\n",
        "E16.equals(e16)"
      ]
    },
    {
      "cell_type": "markdown",
      "metadata": {
        "id": "M9s5k4J-V0DN"
      },
      "source": [
        "\n",
        "<p></p><h4> <strong> Ejemplo 17 </strong> </h4>\n",
        "<p style=\"text-align: justify;\"> Conjunto de datos con los municipios cuyos nombres constan\n",
        "de más de una palabra.</p>\n"
      ]
    },
    {
      "cell_type": "code",
      "execution_count": null,
      "metadata": {
        "id": "DxkH5yt1V0DN"
      },
      "outputs": [],
      "source": [
        "e17 = (Municipios\n",
        "       .query(\"Municipio.str.contains('.* .*').values\")\n",
        "       .loc[:,[\"Dep\",\"Departamento\",\"Municipio\",\"Depmun\"]] \n",
        "       .sort_values(by=[\"Depmun\"],ascending=True).reset_index(drop=True)\n",
        "      )\n",
        "\n",
        "e17.info()\n",
        "e17.head(10)\n",
        "E17.equals(e17)"
      ]
    },
    {
      "cell_type": "markdown",
      "metadata": {
        "id": "DGXOru_0V0DN"
      },
      "source": [
        "\n",
        "<p><img height=\"900\" src=\"\thttps://python2022.netlify.app/sqldf2.png\" width=\"850\"/>\n",
        "<img height=\"900\" src=\"\thttps://python2022.netlify.app/sqldf3.png\" width=\"850\"/></p>\n"
      ]
    },
    {
      "cell_type": "markdown",
      "metadata": {
        "id": "TUvQ-48XV0DN"
      },
      "source": [
        "\n",
        "<hr/>\n",
        "<p></p><h4> <strong> Ejemplo 18 </strong> </h4>\n",
        "<p style=\"text-align: justify;\"> Cuantos y cuales municipios tienen al menos una estación\n",
        "de monitoreo climático?</p>\n"
      ]
    },
    {
      "cell_type": "code",
      "execution_count": null,
      "metadata": {
        "id": "BJynqc3OV0DO"
      },
      "outputs": [],
      "source": [
        "Estaciones = pd.read_excel(\"Estaciones.xlsx\",dtype={'CODIGO': str, 'Depmun': str, 'ELEV':np.float64})\n",
        "Estaciones.info()\n",
        "Estaciones.head(20)"
      ]
    },
    {
      "cell_type": "code",
      "execution_count": null,
      "metadata": {
        "id": "-Afhk6HPV0DO"
      },
      "outputs": [],
      "source": [
        "conest = pd.DataFrame(Estaciones[\"Depmun\"].unique(),columns=[\"Depmun\"])\n",
        "conest.info()"
      ]
    },
    {
      "cell_type": "markdown",
      "metadata": {
        "id": "lf1dgGAnV0DO"
      },
      "source": [
        "\n",
        "<p></p><h4> <strong> Ejemplo 19 </strong> </h4>\n",
        "<p style=\"text-align: justify;\"> Conjunto de datos con todos los municipios del país, que incluye una variable que informa el número de estaciones de monitoreo climático con que cuenta cada municipio.</p>\n"
      ]
    },
    {
      "cell_type": "code",
      "execution_count": null,
      "metadata": {
        "id": "7FMOvR99V0DO"
      },
      "outputs": [],
      "source": [
        "Emon = (Estaciones\n",
        "        .groupby(\"Depmun\")\n",
        "        .agg(nem=(\"CODIGO\",\"count\")).reset_index()\n",
        "       )\n",
        "\n",
        "e19 = (Municipios\n",
        "      .merge(Emon,left_on=\"Depmun\",right_on=\"Depmun\",how=\"left\")\n",
        "      .eval('''nest = nem.fillna(0).astype('int64').values''')\n",
        "      .drop(columns=\"nem\")\n",
        "      .sort_values(by=[\"Dep\",\"Poblacion\"],ascending=[True,False]).reset_index(drop=True)\n",
        "      )\n",
        "\n",
        "\n",
        "e19.info()\n",
        "e19.head(20)\n",
        "E19.equals(e19)"
      ]
    },
    {
      "cell_type": "markdown",
      "metadata": {
        "id": "X5zROHCcV0DO"
      },
      "source": [
        "\n",
        "<p></p><h4> <strong> Ejemplo 20 </strong> </h4>\n",
        "<p style=\"text-align: justify;\"> Existen municipios que no tienen ninguna estación de\n",
        "monitoreo climático? Cuantos? Cuales?</p>\n"
      ]
    },
    {
      "cell_type": "code",
      "execution_count": null,
      "metadata": {
        "id": "lHOTcxGwV0DO"
      },
      "outputs": [],
      "source": [
        "e20 = (Municipios\n",
        "       .merge(Emon,left_on=\"Depmun\",right_on=\"Depmun\",how=\"left\")\n",
        "       .query(\"nem.isnull().values\")\n",
        "       .sort_values(by=[\"Depmun\"],ascending=True).reset_index(drop=True)\n",
        "       .drop(columns=\"nem\")\n",
        "      )\n",
        "\n",
        "emons = Emon[\"Depmun\"]\n",
        "e20a = (Municipios\n",
        "        .query(\"Depmun not in @emons\")\n",
        "        .sort_values(by=[\"Depmun\"],ascending=True).reset_index(drop=True)\n",
        "       ) \n",
        "\n",
        "e20b = (e19\n",
        "        .query(\"nest==0\").drop(columns=[\"nest\"])\n",
        "        .sort_values(by=[\"Depmun\"],ascending=True).reset_index(drop=True)\n",
        "       ) "
      ]
    },
    {
      "cell_type": "code",
      "execution_count": null,
      "metadata": {
        "id": "rPSXS3H4V0DO"
      },
      "outputs": [],
      "source": [
        "e20.equals(e20a)"
      ]
    },
    {
      "cell_type": "code",
      "execution_count": null,
      "metadata": {
        "id": "yqshQm_pV0DO"
      },
      "outputs": [],
      "source": [
        "e20a.equals(e20b)"
      ]
    },
    {
      "cell_type": "code",
      "execution_count": null,
      "metadata": {
        "id": "8ExtAAiWV0DP"
      },
      "outputs": [],
      "source": [
        "E20.equals(e20)"
      ]
    },
    {
      "cell_type": "markdown",
      "metadata": {
        "id": "k8jpg30aV0DP"
      },
      "source": [
        "\n",
        "<p></p><h4> <strong> Ejemplo 21 </strong> </h4>\n",
        "<p style=\"text-align: justify;\"> Copia de Estaciones que solo considera estaciones de monitoreo localizadas \n",
        "como máximo a 2000 metros de altura sobre el nivel del mar, y que incluye los nombres del municipio y del\n",
        "departamento donde están ubicadas las estaciones.</p>\n"
      ]
    },
    {
      "cell_type": "code",
      "execution_count": null,
      "metadata": {
        "id": "gcFOzsnPV0DP"
      },
      "outputs": [],
      "source": [
        "e21 = (Estaciones\n",
        "       .merge(Municipios[[\"Municipio\",\"Departamento\",\"Dep\",\"Depmun\"]],left_on=\"Depmun\",right_on=\"Depmun\",how=\"left\")\n",
        "       .query(\"ELEV <= 2000\")\n",
        "       .sort_values(by=[\"Depmun\",\"CODIGO\"],ascending=[True,True]).reset_index(drop=True)\n",
        "      )\n",
        "\n",
        "e21.info()\n",
        "e21.head(10)\n",
        "E21.equals(e21)"
      ]
    },
    {
      "cell_type": "markdown",
      "metadata": {
        "id": "9WjU10qyV0DP"
      },
      "source": [
        "\n",
        "## <p></p><h2 style=\"color:red;\"> Ejercicios </h2><p></p><h3 style=\"color:red;\"> Elecciones presidenciales en Estados Unidos</h3><p style=\"text-align: justify;\"> El conjunto de datos <strong>elections.xlsx</strong> consta de 15563 filas y registra el total de votos obtenidos por el candidato del partido demócrata (<em>democrat</em>), por el candidato del partido republicano \n",
        "(<em>republic</em>) y por los demás partidos (<em>other</em>) en las elecciones presidenciales de 2000, 2004, 2008, 2012 y 2016 (<em>year</em>) para todos los condados (<em>codecounty</em>) de los que hay información disponible. El conjunto de datos <strong>counties.xlsx</strong> consta de la siguiente información para los 3234 condados que conforman los EU: identificador (<em>codecounty</em>); nombre (<em>county</em>); identificador del estado al que pertenece (<em>codestate</em>); número de habitantes (<em>population</em>); y superficie, en millas al cuadrado (<em>area</em>). Finalmente, el conjunto de datos <strong>states.xlsx</strong> consta identificador (<em>codestate</em>); nombre (<em>state</em>); y region a la que pertenece (<em>region</em>) cada uno de los 56 estados de EU.</p><ul>\n",
        "<li><p style=\"text-align: justify;\"> Importe los conjuntos de datos.</p></li>\n",
        "<li><p style=\"text-align: justify;\"> Cuantos registros y cuantas variables tienen estos conjuntos de datos? De qué tipo son estas variables?</p></li>\n",
        "<li><p style=\"text-align: justify;\"> Existen valores perdidos en los conjuntos de datos? Cuantos? En qué variables?</p></li>\n",
        "<li><p style=\"text-align: justify;\"> Verifique que <em>codecounty</em> y <em>codestate</em> son en realidad identificadores de los condados y los estados en los conjuntos de datos <strong>counties</strong> y <strong>states</strong>, respectivamente.</p></li>\n",
        "<li><p style=\"text-align: justify;\"> Haga lo siguiente en las variables <em>county</em>, <em>state</em> y <em>region</em>: $(i)$ elimine caracteres especiales; $(ii)$ elimine espacios al inicio y al final; $(iii)$ reemplace espacios múltiples por espacios sencillos; $(iv)$ use letras mayúsculas en la inicial de cada palabra. Tenga en cuenta que los nombres de los condados del estado de Puerto Rico están escritos en español.</p></li>\n",
        "<li><p style=\"text-align: justify;\"> Cree la variable <em>populationC</em> en el conjunto de datos <em>counties</em> de tal forma que: $(i)$ <em>populationC</em> = \"low\" para el $25\\%$ de los condados con menor número de habitantes en cada estado; $(ii)$ <em>populationC</em> = \"high\" para el $25\\%$ de los condados con mayor número de habitantes en cada estado; y $(iii)$ <em>populationC</em> = \"mid\" para el resto de los condados de cada estado. Para los estados con menos de 3 condados defina <em>populationC</em> como <em>missing</em>.</p></li>\n",
        "<li><p style=\"text-align: justify;\"> Existen dos o más condados con el mismo nombre? Cuantos? Cuales? En qué estados están localizados?\n",
        "Cuales son los tres estados con la mayor densidad poblacional? Cuales son las dos regiones con mayor densidad poblacional?</p></li>\n",
        "<li><p style=\"text-align: justify;\"> En cuales condados el candidato del partido republicano obtuvo mayor votación que el del partido demócrata en las elecciones presidenciales de 2000, 2004, 2008, 2012 y 2016?</p></li>\n",
        "<li><p style=\"text-align: justify;\"> En cuales estados el candidato del partido republicano obtuvo mayor votación que el del partido demócrata en las elecciones presidenciales de 2000 en más del $75\\%$ del total de condados que los componen?</p></li>\n",
        "<li><p style=\"text-align: justify;\"> En cuales condados no se tiene niguna información sobre los\n",
        "resultados de las votaciones presidenciales realizadas en el periodo comprendido entre los años 2000 y 2016?</p></li>\n",
        "<li><p style=\"text-align: justify;\"> En cuales condados solo se tiene información sobre algunas, no todas, las votaciones presidenciales realizadas en el periodo comprendido entre los años 2000 y 2016?</p></li>\n",
        "<li><p style=\"text-align: justify;\"> En qué años el candidato demócrata ganó las elecciones en la parte del país formada por los estados con más de 10 millones de habitantes?</p></li>\n",
        "</ul>\n",
        "<p></p><h3 style=\"color:red;\"> IMDb (Internet Movie Database)</h3><p style=\"text-align: justify;\"> Importe los conjuntos de datos separados por tabulaciones en los archivos\n",
        "<strong>namebasics.rar</strong>, <strong>titlebasics.rar</strong>, <strong>titleprincipals.rar</strong> y <strong>titleratings.rar</strong>. Note que estos conjuntos de datos son subconjuntos de aquellos que se \n",
        "describen en https://www.imdb.com/interfaces/.</p><ul>\n",
        "<li><p style=\"text-align: justify;\"> Cuantas películas realizadas en la década de los 80 tienen títulos que\n",
        "inician y/o terminan con la palabra \"Aliens\"? Cual de ellas tiene la mayor duración? Quien\n",
        "dirigió esta película? Cual es la película mejor calificada de este(a) director(a)? </p></li>\n",
        "<li><p style=\"text-align: justify;\"> Cuantas películas han sido dirigidas por \"Werner Herzog\"? Cual de ellas tiene\n",
        "la mayor calificación? En cuales de ellas participa \"Klaus Kinski\" como actor? Cuales actores/actrices,\n",
        "además de \"Klaus Kinski\", participaron en la película titulada \"Nosferatu the Vampyre\"? </p></li>\n",
        "<li><p style=\"text-align: justify;\"> Cuantas películas han sido dirigidas por \"Martin Scorsese\"? Cual de ellas tiene\n",
        "la mayor duración? En cuales de ellas participan \"Joe Pesci\" y \"Robert De Niro\" como actores? Cuales actores/actrices, \n",
        "además de \"Joe Pesci\" y \"Robert De Niro\", participaron en la película titulada \"Raging Bull\"? </p></li>\n",
        "<li><p style=\"text-align: justify;\"> Cual de las películas realizadas en la década de los 70 tiene la mayor\n",
        "calificación? Quien dirigió esta película? Cual de las películas realizadas en la década de los 90 tiene la mayor\n",
        "calificación? Quienes actuaron en esta película? </p></li>\n",
        "<li><p style=\"text-align: justify;\"> Qué porcentaje de las películas realizadas en la década de los 80 tuvieron\n",
        "calificaciones superiores a 8? Qué porcentaje de las películas realizadas en la década de los 90 tuvieron\n",
        "calificaciones superiores a 8? Qué porcentaje de las películas con calificaciones superiores a 8 fueron\n",
        "realizadas en la década de los 70? Qué porcentaje de las películas con calificaciones superiores a 8 fueron\n",
        "realizadas en la década de los 80? </p></li>\n",
        "</ul>\n",
        "<p></p><h3 style=\"color:red;\"> English Premier League</h3><p style=\"text-align: justify;\"> Los archivos <strong>season-1415.xlsx</strong>, <strong>season-1516.xlsx</strong>, <strong>season-1617.xlsx</strong>, <strong>season-1718.xlsx</strong> y <strong>season-1819.xlsx</strong>\n",
        "contienen información sobre los resultados de las temporadas 14/15, 15/16, 16/17, 17/18 y 18/19, respectivamente, de la primera división del futbol inglés. La posición final de los equipos en la clasificación de cada temporada obedece al número de puntos obtenidos por cada uno de ellos, donde ${\\rm Puntos}=3\\times{\\rm PG}+{\\rm PE}$, en que ${\\rm PG}$ y ${\\rm PE}$ representan, respectivamente, el número de partidos ganados y empatados. Si hay dos o más equipos empatados en puntos el desempate se logra ordenando estos equipos de mayor a menor con respecto al <em>Gol diferencia</em>, dado por ${\\rm GA} - {\\rm GC}$, en que ${\\rm GA}$ y ${\\rm GC}$ representan, respectivamente, el número total de goles a favor y en contra. Responda las siguientes preguntas.</p><p></p><h5> En la temporada 16/17 </h5><ul>\n",
        "<li><p style=\"text-align: justify;\"> Cual fue el equipo en el primer lugar de la clasificación?</p></li>\n",
        "<li><p style=\"text-align: justify;\"> Cuantos puntos obtuvo este equipo?</p></li>\n",
        "<li><p style=\"text-align: justify;\"> Cual fue la diferencia entre el número de goles a favor y en contra de este equipo (<em>Gol diferencia</em>)?</p></li>\n",
        "<li><p style=\"text-align: justify;\"> En qué porcentaje de sus partidos ganó este equipo?</p></li>\n",
        "<li><p style=\"text-align: justify;\"> Qué porcentaje de sus disparos iban a la porteria rival? </p></li>\n",
        "<li><p style=\"text-align: justify;\"> Qué porcentaje de sus partidos terminaron sin que ninguno de sus jugadores fuera expulsado? </p></li>\n",
        "</ul>\n",
        "<p></p><h5> En la temporada 17/18 </h5><ul>\n",
        "<li><p style=\"text-align: justify;\"> Cual fue el equipo en el tercer lugar de la clasificación?</p></li>\n",
        "<li><p style=\"text-align: justify;\"> Cuantos puntos obtuvo este equipo?</p></li>\n",
        "<li><p style=\"text-align: justify;\"> Cual fue la diferencia entre el número de goles a favor y en contra de este equipo (<em>Gol diferencia</em>)?</p></li>\n",
        "<li><p style=\"text-align: justify;\"> En qué porcentaje de sus partidos ganó este equipo?</p></li>\n",
        "<li><p style=\"text-align: justify;\"> Qué porcentaje de sus disparos iban a la porteria rival? </p></li>\n",
        "<li><p style=\"text-align: justify;\"> Qué porcentaje de sus partidos terminaron sin que ninguno de sus jugadores fuera expulsado? </p></li>\n",
        "</ul>\n",
        "<p></p><h5> Parte de la temporada 18/19 que se jugó durante 2018 </h5><ul>\n",
        "<li><p style=\"text-align: justify;\"> Cual fue el equipo en el primer lugar de la clasificación?</p></li>\n",
        "<li><p style=\"text-align: justify;\"> Cuantos puntos obtuvo este equipo?</p></li>\n",
        "<li><p style=\"text-align: justify;\"> Cual fue la diferencia entre el número de goles a favor y en contra de este equipo (<em>Gol diferencia</em>)?</p></li>\n",
        "<li><p style=\"text-align: justify;\"> En qué porcentaje de sus partidos ganó este equipo?</p></li>\n",
        "<li><p style=\"text-align: justify;\"> Qué porcentaje de sus disparos iban a la porteria rival? </p></li>\n",
        "<li><p style=\"text-align: justify;\"> Qué porcentaje de sus partidos terminaron sin que ninguno de sus jugadores fuera expulsado? </p></li>\n",
        "</ul>\n",
        "<p></p><h5> Desde la temporada 14/15 hasta la 18/19 </h5><ul>\n",
        "<li><p style=\"text-align: justify;\"> Cuales equipos se mantuvieron en las primeras 4 posiciones de la clasificación final?</p></li>\n",
        "<li><p style=\"text-align: justify;\"> Cuales equipos se mantuvieron en las primeras 5 posiciones de la clasificación final?</p></li>\n",
        "<li><p style=\"text-align: justify;\"> Cuales equipos se mantuvieron en las primeras 6 posiciones de la clasificación final?</p></li>\n",
        "<li><p style=\"text-align: justify;\"> Cuales equipos descendieron a la segunda división? Tenga en cuenta que los últimos tres equipos en la clasificación de cada temporada descienden a la segunda división.</p></li>\n",
        "</ul>\n"
      ]
    },
    {
      "cell_type": "markdown",
      "metadata": {
        "id": "z8Tn_BkMV0DP"
      },
      "source": [
        "\n",
        "# <h1 style=\"color:red;\"> <strong> <center>Visualización de datos </center></strong> </h1>\n"
      ]
    },
    {
      "cell_type": "code",
      "execution_count": null,
      "metadata": {
        "id": "50AXuj3gV0DP"
      },
      "outputs": [],
      "source": [
        "import seaborn as sns\n",
        "import matplotlib.pyplot as plt"
      ]
    },
    {
      "cell_type": "markdown",
      "metadata": {
        "id": "ux_75_asV0DP"
      },
      "source": [
        "\n",
        "<p></p><h4> <strong> Ejemplo 1 </strong> </h4>\n",
        "<p style=\"text-align: justify;\"> Gráfico de barras con el número total de municipios por <em>Region</em> y <em>Zona</em> en Colombia.</p>\n"
      ]
    },
    {
      "cell_type": "code",
      "execution_count": null,
      "metadata": {
        "id": "T-piQiJpV0DP"
      },
      "outputs": [],
      "source": [
        "plt.rcParams['figure.figsize'] = [13, 8]\n",
        "\n",
        "fig = sns.barplot(y=\"Region\",x=\"Superficie\",hue=\"Zona\",data=Municipios,estimator=len,\n",
        "                  palette=dict(Rural=\"blue\",Urbano=\"yellow\"),\n",
        "                  order=[\"Región Caribe\",\"Región Centro Oriente\",\"Región Centro Sur\",\n",
        "                         \"Región Eje Cafetero\",\"Región Llano\",\"Región Pacífico\"])\n",
        "\n",
        "plt.xlabel(\"Número de Municipios\",fontdict={\"family\":\"serif\",\"color\":\"red\",\"size\":15,\"style\":\"normal\"})\n",
        "plt.ylabel(\" \")\n",
        "plt.yticks(color=\"black\",family=\"serif\",size=15,style=\"normal\")\n",
        "plt.xticks(color=\"black\",family=\"serif\",size=12,style=\"normal\")\n",
        "plt.legend(fontsize=12,loc=\"lower right\",title=\"Zona\",title_fontsize=12,frameon=False,ncol=1)\n",
        "plt.grid(axis=\"y\",color=\"white\",ls=\"-\",lw=1)\n",
        "plt.show(fig)"
      ]
    },
    {
      "cell_type": "markdown",
      "metadata": {
        "id": "uamIHroIV0DP"
      },
      "source": [
        "\n",
        "<h5 id=\"Modifique-el-gráfico-variando-colores-y-los-siguientes-parámetros\">Modifique el gráfico variando colores y los siguientes parámetros<a class=\"anchor-link\" href=\"#Modifique-el-gráfico-variando-colores-y-los-siguientes-parámetros\">¶</a></h5><ul>\n",
        "<li><strong><em>frameon</em></strong>: True, False</li>\n",
        "<li><strong><em>family</em></strong>: \"serif\", \"sans-serif\", \"cursive\", \"fantasy\", \"monospace\"</li>\n",
        "<li><strong><em>style</em></strong>: \"normal\", \"italic\", \"oblique\"</li>\n",
        "<li><strong><em>loc</em></strong>: \"upper left\", \"upper right\", \"lower left\", \"lower right\", \"upper center\", \"lower center\", \"center left\", \"center right\"</li>\n",
        "<li><strong><em>lw</em></strong>, <strong><em>size</em></strong>, <strong><em>fontsize</em></strong>, <strong>_title<em>fontsize</em></strong>: valores positivos</li>\n",
        "<li><strong><em>ls</em></strong>: \"-\", \"--\", \"-.\", \":\"</li>\n",
        "<li><strong><em>ncol</em></strong>: entero positivo</li>\n",
        "<li>Intercambie <em>x</em> por <em>y</em> en <strong><em>sns.barplot()</em></strong></li>\n",
        "</ul>\n"
      ]
    },
    {
      "cell_type": "markdown",
      "metadata": {
        "id": "37rtUORrV0DQ"
      },
      "source": [
        "\n",
        "<p></p><h4> <strong> Ejemplo 2 </strong> </h4>\n",
        "<p style=\"text-align: justify;\"> Gráfico de barras con el total de la <em>Superficie</em> por <em>Region</em> y <em>Zona</em> en Colombia.</p>\n"
      ]
    },
    {
      "cell_type": "code",
      "execution_count": null,
      "metadata": {
        "id": "Nx6IhgzwV0DQ"
      },
      "outputs": [],
      "source": [
        "plt.rcParams['figure.figsize'] = [13, 8]\n",
        "\n",
        "fig = sns.barplot(y=\"Region\",x=\"Superficie\",hue=\"Zona\",data=Municipios,estimator=sum,\n",
        "                  palette=dict(Rural=\"blue\",Urbano=\"yellow\"),ci=None,\n",
        "                  order=[\"Región Caribe\",\"Región Centro Oriente\",\"Región Centro Sur\",\n",
        "                         \"Región Eje Cafetero\",\"Región Llano\",\"Región Pacífico\"])\n",
        "\n",
        "plt.xlabel(\"Superficie, en kilómetros cuadrados\",fontdict={\"family\":\"serif\",\"color\":\"red\",\"size\":15,\"style\":\"normal\"})\n",
        "plt.ylabel(\" \")\n",
        "plt.yticks(color=\"black\",family=\"serif\",size=15,style=\"normal\")\n",
        "plt.xticks(color=\"black\",family=\"serif\",size=12,style=\"normal\")\n",
        "plt.legend(fontsize=12,loc=\"lower right\",title=\"Zona\",title_fontsize=12,frameon=False,ncol=1)\n",
        "plt.grid(axis=\"y\",color=\"white\",ls=\"-\",lw=1)\n",
        "plt.show(fig)"
      ]
    },
    {
      "cell_type": "markdown",
      "metadata": {
        "id": "48hOiOhNV0DQ"
      },
      "source": [
        "\n",
        "<h5 id=\"Modifique-el-gráfico-variando-colores-y-los-siguientes-parámetros\">Modifique el gráfico variando colores y los siguientes parámetros<a class=\"anchor-link\" href=\"#Modifique-el-gráfico-variando-colores-y-los-siguientes-parámetros\">¶</a></h5><ul>\n",
        "<li><strong><em>frameon</em></strong>: True, False</li>\n",
        "<li><strong><em>family</em></strong>: \"serif\", \"sans-serif\", \"cursive\", \"fantasy\", \"monospace\"</li>\n",
        "<li><strong><em>style</em></strong>: \"normal\", \"italic\", \"oblique\"</li>\n",
        "<li><strong><em>loc</em></strong>: \"upper left\", \"upper right\", \"lower left\", \"lower right\", \"upper center\", \"lower center\", \"center left\", \"center right\"</li>\n",
        "<li><strong><em>lw</em></strong>, <strong><em>size</em></strong>, <strong><em>fontsize</em></strong>, <strong>_title<em>fontsize</em></strong>: valores positivos</li>\n",
        "<li><strong><em>ls</em></strong>: \"-\", \"--\", \"-.\", \":\"</li>\n",
        "<li><strong><em>ncol</em></strong>: entero positivo</li>\n",
        "<li>Intercambie <em>x</em> por <em>y</em> en <strong><em>sns.barplot()</em></strong></li>\n",
        "</ul>\n"
      ]
    },
    {
      "cell_type": "markdown",
      "metadata": {
        "id": "yyWqfdp2V0DQ"
      },
      "source": [
        "\n",
        "<p></p><h4> <strong> Ejemplo 3 </strong> </h4>\n",
        "<p style=\"text-align: justify;\"> Gráfico de barras con el total de la <em>Poblacion</em> por <em>Region</em> y <em>Zona</em> en Colombia.</p>\n"
      ]
    },
    {
      "cell_type": "code",
      "execution_count": null,
      "metadata": {
        "id": "s3LHAt3qV0DQ"
      },
      "outputs": [],
      "source": [
        "plt.rcParams['figure.figsize'] = [13, 8]\n",
        "\n",
        "fig = sns.barplot(y=\"Region\",x=\"Poblacion\",hue=\"Zona\",data=Municipios,estimator=sum,\n",
        "                  palette=dict(Rural=\"blue\",Urbano=\"yellow\"),ci=None,\n",
        "                  order=[\"Región Caribe\",\"Región Centro Oriente\",\"Región Centro Sur\",\n",
        "                         \"Región Eje Cafetero\",\"Región Llano\",\"Región Pacífico\"])\n",
        "\n",
        "plt.xlabel(\"Población, en kilómetros cuadrados\",fontdict={\"family\":\"serif\",\"color\":\"red\",\"size\":15,\"style\":\"normal\"})\n",
        "plt.ylabel(\" \")\n",
        "plt.yticks(color=\"black\",family=\"serif\",size=15,style=\"normal\")\n",
        "plt.xticks(color=\"black\",family=\"serif\",size=12,style=\"normal\")\n",
        "plt.legend(fontsize=12,loc=\"lower right\",title=\"Zona\",title_fontsize=12,frameon=False,ncol=1)\n",
        "plt.grid(axis=\"y\",color=\"white\",ls=\"-\",lw=1)\n",
        "plt.show(fig)"
      ]
    },
    {
      "cell_type": "markdown",
      "metadata": {
        "id": "P1M5ZTweV0DQ"
      },
      "source": [
        "\n",
        "<h5 id=\"Modifique-el-gráfico-variando-colores-y-los-siguientes-parámetros\">Modifique el gráfico variando colores y los siguientes parámetros<a class=\"anchor-link\" href=\"#Modifique-el-gráfico-variando-colores-y-los-siguientes-parámetros\">¶</a></h5><ul>\n",
        "<li><strong><em>frameon</em></strong>: True, False</li>\n",
        "<li><strong><em>family</em></strong>: \"serif\", \"sans-serif\", \"cursive\", \"fantasy\", \"monospace\"</li>\n",
        "<li><strong><em>style</em></strong>: \"normal\", \"italic\", \"oblique\"</li>\n",
        "<li><strong><em>loc</em></strong>: \"upper left\", \"upper right\", \"lower left\", \"lower right\", \"upper center\", \"lower center\", \"center left\", \"center right\"</li>\n",
        "<li><strong><em>lw</em></strong>, <strong><em>size</em></strong>, <strong><em>fontsize</em></strong>, <strong>_title<em>fontsize</em></strong>: valores positivos</li>\n",
        "<li><strong><em>ls</em></strong>: \"-\", \"--\", \"-.\", \":\"</li>\n",
        "<li><strong><em>ncol</em></strong>: entero positivo</li>\n",
        "<li>Intercambie <em>x</em> por <em>y</em> en <strong><em>sns.barplot()</em></strong></li>\n",
        "</ul>\n"
      ]
    },
    {
      "cell_type": "markdown",
      "metadata": {
        "id": "fwiMyJANV0DQ"
      },
      "source": [
        "\n",
        "<p></p><h4> <strong> Ejemplo 4 </strong> </h4>\n",
        "<p style=\"text-align: justify;\"> Gráfico de <em>pie</em> con el porcentaje de municipios en cada categoria de la variable <em>Zona</em>.</p>\n"
      ]
    },
    {
      "cell_type": "code",
      "execution_count": null,
      "metadata": {
        "id": "ZxZkh2j_V0DQ"
      },
      "outputs": [],
      "source": [
        "torta = (Municipios\n",
        "        .groupby([\"Zona\"])\n",
        "        .agg(x=(\"Depmun\",\"count\")).reset_index()\n",
        "        )\n",
        "plt.rcParams['figure.figsize'] = [13, 6]\n",
        "\n",
        "plt.pie(x=torta[\"x\"],labels=torta[\"Zona\"],autopct='%1.1f%%',radius=1.2,\n",
        "        shadow=True,explode=[0,0.1],pctdistance=0.5,colors=[\"orange\",\"blue\"],\n",
        "        textprops={\"family\":\"serif\",\"color\":\"black\",\"size\":17,\"style\":\"oblique\"})\n",
        "plt.title(\"Municipios por Zona en Colombia\",loc=\"center\",\n",
        "          fontdict={\"family\":\"serif\",\"color\":\"black\",\"size\":20,\"style\":\"normal\"})\n",
        "plt.show()"
      ]
    },
    {
      "cell_type": "markdown",
      "metadata": {
        "id": "ztJnbXGfV0DR"
      },
      "source": [
        "\n",
        "<h5 id=\"Modifique-el-gráfico-variando-colores-y-los-siguientes-parámetros\">Modifique el gráfico variando colores y los siguientes parámetros<a class=\"anchor-link\" href=\"#Modifique-el-gráfico-variando-colores-y-los-siguientes-parámetros\">¶</a></h5><ul>\n",
        "<li><strong><em>shadow</em></strong>: True, False</li>\n",
        "<li><strong><em>loc</em></strong>: \"center\", \"left\", \"right\", None</li>\n",
        "<li><strong><em>family</em></strong>: \"serif\", \"sans-serif\", \"cursive\", \"fantasy\", \"monospace\"</li>\n",
        "<li><strong><em>style</em></strong>: \"normal\", \"italic\", \"oblique\"</li>\n",
        "<li><strong><em>size</em></strong>, <strong><em>pctdistance</em></strong>, <strong><em>radius</em></strong>: valores positivos</li>\n",
        "<li>Haga <strong><em>explode</em></strong> igual a <em>None</em> y agregue lo siguiente despues de <strong><em>plt.pie()</em></strong>:</li>\n",
        "</ul>\n",
        "<p>centre_circle = plt.Circle((0,0),0.70,fc='white');\n",
        "fig = plt.gcf();\n",
        "fig.gca().add_artist(centre_circle)</p>\n"
      ]
    },
    {
      "cell_type": "markdown",
      "metadata": {
        "id": "TZDE7KdSV0DR"
      },
      "source": [
        "\n",
        "<p></p><h4> <strong> Ejemplo 5 </strong> </h4>\n",
        "<p style=\"text-align: justify;\"> Gráfico de <em>pie</em> con el porcentaje de la superficie en cada categoria de la variable <em>Zona</em>.</p>\n"
      ]
    },
    {
      "cell_type": "code",
      "execution_count": null,
      "metadata": {
        "id": "jUuglfdiV0DT"
      },
      "outputs": [],
      "source": [
        "torta = (Municipios\n",
        "        .groupby([\"Zona\"])\n",
        "        .agg(x=(\"Superficie\",\"sum\")).reset_index()\n",
        "        )\n",
        "plt.rcParams['figure.figsize'] = [13, 6]\n",
        "\n",
        "plt.pie(x=torta[\"x\"],labels=torta[\"Zona\"],autopct='%1.1f%%',radius=1.2,\n",
        "        shadow=True,explode=[0,0.2],pctdistance=0.6,colors=[\"orange\",\"blue\"],\n",
        "        textprops={\"family\":\"serif\",\"color\":\"black\",\"size\":17,\"style\":\"oblique\"})\n",
        "plt.title(\"Superficie por Zona en Colombia\",loc=\"center\",\n",
        "          fontdict={\"family\":\"serif\",\"color\":\"black\",\"size\":20,\"style\":\"normal\"})\n",
        "plt.show()"
      ]
    },
    {
      "cell_type": "markdown",
      "metadata": {
        "id": "zL1Gs0kqV0DU"
      },
      "source": [
        "\n",
        "<h5 id=\"Modifique-el-gráfico-variando-colores-y-los-siguientes-parámetros\">Modifique el gráfico variando colores y los siguientes parámetros<a class=\"anchor-link\" href=\"#Modifique-el-gráfico-variando-colores-y-los-siguientes-parámetros\">¶</a></h5><ul>\n",
        "<li><strong><em>shadow</em></strong>: True, False</li>\n",
        "<li><strong><em>loc</em></strong>: \"center\", \"left\", \"right\", None</li>\n",
        "<li><strong><em>family</em></strong>: \"serif\", \"sans-serif\", \"cursive\", \"fantasy\", \"monospace\"</li>\n",
        "<li><strong><em>style</em></strong>: \"normal\", \"italic\", \"oblique\"</li>\n",
        "<li><strong><em>size</em></strong>, <strong><em>pctdistance</em></strong>, <strong><em>radius</em></strong>: valores positivos</li>\n",
        "<li>Haga <strong><em>explode</em></strong> igual a <em>None</em> y agregue lo siguiente despues de <strong><em>plt.pie()</em></strong>:</li>\n",
        "</ul>\n",
        "<p>centre_circle = plt.Circle((0,0),0.70,fc='white');\n",
        "fig = plt.gcf();\n",
        "fig.gca().add_artist(centre_circle)</p>\n"
      ]
    },
    {
      "cell_type": "markdown",
      "metadata": {
        "id": "D9HNEZ55V0DU"
      },
      "source": [
        "\n",
        "<p></p><h4> <strong> Ejemplo 6 </strong> </h4>\n",
        "<p style=\"text-align: justify;\"> Gráfico de <em>pie</em> con el porcentaje de la población en cada categoria de la variable <em>Zona</em>.</p>\n"
      ]
    },
    {
      "cell_type": "code",
      "execution_count": null,
      "metadata": {
        "id": "v07EMNBDV0DU"
      },
      "outputs": [],
      "source": [
        "torta = (Municipios\n",
        "        .groupby([\"Zona\"])\n",
        "        .agg(x=(\"Poblacion\",\"sum\")).reset_index()\n",
        "        )\n",
        "plt.rcParams['figure.figsize'] = [13, 6]\n",
        "\n",
        "plt.pie(x=torta[\"x\"],labels=torta[\"Zona\"],autopct='%1.1f%%',radius=1.2,\n",
        "        shadow=True,explode=[0,0.1],pctdistance=0.6,colors=[\"orange\",\"blue\"],\n",
        "        textprops={\"family\":\"serif\",\"color\":\"black\",\"size\":17,\"style\":\"oblique\"})\n",
        "\n",
        "plt.title(\"Población por Zona en Colombia\",loc=\"center\",\n",
        "          fontdict={\"family\":\"serif\",\"color\":\"black\",\"size\":20,\"style\":\"normal\"})\n",
        "plt.show()"
      ]
    },
    {
      "cell_type": "markdown",
      "metadata": {
        "id": "UmEwCWKcV0DU"
      },
      "source": [
        "\n",
        "<h5 id=\"Modifique-el-gráfico-variando-colores-y-los-siguientes-parámetros\">Modifique el gráfico variando colores y los siguientes parámetros<a class=\"anchor-link\" href=\"#Modifique-el-gráfico-variando-colores-y-los-siguientes-parámetros\">¶</a></h5><ul>\n",
        "<li><strong><em>shadow</em></strong>: True, False</li>\n",
        "<li><strong><em>loc</em></strong>: \"center\", \"left\", \"right\", None</li>\n",
        "<li><strong><em>family</em></strong>: \"serif\", \"sans-serif\", \"cursive\", \"fantasy\", \"monospace\"</li>\n",
        "<li><strong><em>style</em></strong>: \"normal\", \"italic\", \"oblique\"</li>\n",
        "<li><strong><em>size</em></strong>, <strong><em>pctdistance</em></strong>, <strong><em>radius</em></strong>: valores positivos</li>\n",
        "<li>Haga <strong><em>explode</em></strong> igual a <em>None</em> y agregue lo siguiente despues de <strong><em>plt.pie()</em></strong>:</li>\n",
        "</ul>\n",
        "<p>centre_circle = plt.Circle((0,0),0.70,fc='white');\n",
        "fig = plt.gcf();\n",
        "fig.gca().add_artist(centre_circle)</p>\n"
      ]
    },
    {
      "cell_type": "markdown",
      "metadata": {
        "id": "kuAyaw_BV0DU"
      },
      "source": [
        "\n",
        "<p></p><h4> <strong> Ejemplo 7 </strong> </h4>\n",
        "<p style=\"text-align: justify;\"> Gráfico de caja con la densidad de la población en cada categoria de la variable <em>Region</em>.</p>\n"
      ]
    },
    {
      "cell_type": "code",
      "execution_count": null,
      "metadata": {
        "id": "JcssW4ZlV0DU"
      },
      "outputs": [],
      "source": [
        "plt.rcParams['figure.figsize'] = [13, 8]\n",
        "fig = sns.boxplot(x=\"denspobl\",y=\"Region\",data=Municipios, width=0.7, color=\"red\", fliersize=0)\n",
        "\n",
        "plt.xlim([-2,270])\n",
        "plt.xticks(color=\"black\",family=\"serif\",size=12,style=\"normal\")\n",
        "plt.yticks(color=\"black\",family=\"serif\",size=17,style=\"normal\")\n",
        "plt.ylabel(\" \")\n",
        "plt.xlabel(\"Densidad poblacional\",fontdict={\"family\":\"serif\",\"color\":\"blue\",\"size\":15,\"style\":\"normal\"})\n",
        "plt.grid(axis=\"y\",color=\"white\",ls=\"-\",lw=1)\n",
        "plt.show(fig)"
      ]
    },
    {
      "cell_type": "markdown",
      "metadata": {
        "id": "2f1ceyFVV0DU"
      },
      "source": [
        "\n",
        "<h5 id=\"Modifique-el-gráfico-variando-colores-y-los-siguientes-parámetros\">Modifique el gráfico variando colores y los siguientes parámetros<a class=\"anchor-link\" href=\"#Modifique-el-gráfico-variando-colores-y-los-siguientes-parámetros\">¶</a></h5><ul>\n",
        "<li><strong><em>size</em></strong>, <strong><em>lw</em></strong>, <strong><em>fliersize</em></strong>: valores positivos</li>\n",
        "<li><strong><em>width</em></strong>: valores en el intervalo $[0,1]$</li>\n",
        "<li><strong><em>family</em></strong>: \"serif\", \"sans-serif\", \"cursive\", \"fantasy\", \"monospace\"</li>\n",
        "<li><strong><em>style</em></strong>: \"normal\", \"italic\", \"oblique\"</li>\n",
        "<li><strong><em>axis</em></strong>: \"x\", \"y\", \"both\"</li>\n",
        "<li><strong><em>ls</em></strong>: \"-\", \"--\", \"-.\", \":\"</li>\n",
        "<li>Intercambie <em>x</em> por <em>y</em> en <strong><em>sns.boxplot()</em></strong></li>\n",
        "</ul>\n"
      ]
    },
    {
      "cell_type": "markdown",
      "metadata": {
        "id": "h5-Rv1WbV0DV"
      },
      "source": [
        "\n",
        "<p></p><h4> <strong> Ejemplo 8 </strong> </h4>\n",
        "<p style=\"text-align: justify;\"> \n",
        "En estos datos, sacados de Diggle P.J., Heagarty P., Liang K.-Y. y Zeger S.L. (2002) Analysis of Longitudinal Data. Oxford University Press, Oxford, el principal objetivo del análisis es evaluar el efecto de la contaminación por ozono en el crecimiento de los árboles. En un primer grupo (treat=1), se cultivaron un total de 54 árboles en una atmósfera enriquecida con ozono, mientras que en un segundo grupo (treat=0), 25 árboles se cultivaron en una atmósfera normal. El tamaño de cada árbol (size) se observó 13 veces a lo largo del tiempo (days), es decir, 152, 174, 201, 227, 258, 469, 496, 528, 556, 579, 613, 639 y 674 días desde el inicio del experimento.</p>\n"
      ]
    },
    {
      "cell_type": "code",
      "execution_count": null,
      "metadata": {
        "id": "5yuoGXOaV0DV"
      },
      "outputs": [],
      "source": [
        "spruce = pd.read_table(\"spruce.txt\",delimiter=\"\\t\",header=0,decimal=\",\")\n",
        "spruce[\"treat\"] = spruce[\"treat\"].map({0:\"normal\",1:\"ozone-enriched\"})\n",
        "spruce.info()\n",
        "spruce.head(10)"
      ]
    },
    {
      "cell_type": "code",
      "execution_count": null,
      "metadata": {
        "id": "ySToVbdwV0DV"
      },
      "outputs": [],
      "source": [
        "plt.rcParams['figure.figsize'] = [15, 8]\n",
        "\n",
        "fig = sns.boxplot(x=\"days\",y=\"size\",hue=\"treat\", data=spruce, width=0.75,\n",
        "      palette={\"normal\":\"blue\",\"ozone-enriched\":\"yellow\"},\n",
        "      flierprops={\"marker\":\"o\",\"markerfacecolor\":\"red\",\"markeredgecolor\":\"red\",\"markersize\":4})\n",
        "\n",
        "plt.xticks(color=\"black\",family=\"serif\",size=12,style=\"normal\")\n",
        "plt.yticks(color=\"black\",family=\"serif\",size=12,style=\"normal\")\n",
        "plt.xlabel(\"Days\",fontdict={\"family\":\"serif\",\"color\":\"blue\",\"size\":15,\"style\":\"normal\"})\n",
        "plt.ylabel(\"Size\",fontdict={\"family\":\"serif\",\"color\":\"blue\",\"size\":15,\"style\":\"normal\"})\n",
        "plt.grid(axis=\"x\",color=\"white\",ls=\"-\",lw=1)\n",
        "plt.legend(loc=\"upper left\",fontsize=13,title=\"Atmosphere\",title_fontsize=13,frameon=False,ncol=1)\n",
        "plt.show(fig)"
      ]
    },
    {
      "cell_type": "markdown",
      "metadata": {
        "id": "-EuKfZmDV0DV"
      },
      "source": [
        "\n",
        "<h5 id=\"Modifique-el-gráfico-variando-colores-y-los-siguientes-parámetros\">Modifique el gráfico variando colores y los siguientes parámetros<a class=\"anchor-link\" href=\"#Modifique-el-gráfico-variando-colores-y-los-siguientes-parámetros\">¶</a></h5><ul>\n",
        "<li><strong><em>markers</em></strong>: \".\", \"o\", \"v\", \"^\", \"&lt;\", \"&gt;\", \"8\", \"s\", \"p\", \"P\", \"*\", \"h\", \"H\", \"+\", \"d\", \"D\", \"|\", \"_\"</li>\n",
        "<li><strong><em>size</em></strong>, <strong><em>markersize</em></strong>, <strong><em>fontsize</em></strong>, <strong>_title<em>fontsize</em></strong>, <strong><em>lw</em></strong>: valores positivos</li>\n",
        "<li><strong><em>width</em></strong>: valores en el intervalo $[0,1]$</li>\n",
        "<li><strong><em>family</em></strong>: \"serif\", \"sans-serif\", \"cursive\", \"fantasy\", \"monospace\"</li>\n",
        "<li><strong><em>style</em></strong>: \"normal\", \"italic\", \"oblique\"</li>\n",
        "<li><strong><em>axis</em></strong>: \"x\", \"y\", \"both\"</li>\n",
        "<li><strong><em>ncol</em></strong>: entero positivo</li>\n",
        "<li><strong><em>ls</em></strong>: \"-\", \"--\", \"-.\", \":\"</li>\n",
        "<li><strong><em>loc</em></strong>: \"upper left\", \"upper right\", \"lower left\", \"lower right\", \"upper center\", \"lower center\", \"center left\", \"center right\"</li>\n",
        "<li>Intercambie <em>x</em> por <em>y</em> en <strong><em>sns.boxplot()</em></strong></li>\n",
        "</ul>\n"
      ]
    },
    {
      "cell_type": "markdown",
      "metadata": {
        "id": "JyX8oWwiV0DV"
      },
      "source": [
        "\n",
        "<p></p><h4> <strong> Ejemplo 9 </strong> </h4>\n",
        "<p style=\"text-align: justify;\"> Se ilustra la evolución en el tiempo (<em>date</em>) de las cotizaciones (<em>open</em>) de todos los stocks (<em>stock</em>) usando los datos en <em>stocks.dlm</em>.</p>\n"
      ]
    },
    {
      "cell_type": "code",
      "execution_count": null,
      "metadata": {
        "id": "IxocvuDEV0DV"
      },
      "outputs": [],
      "source": [
        "stocks = pd.read_table(\"stocks.dlm\",delimiter=\" \",header=0,decimal=\",\",thousands=\".\",\n",
        "                       names=[\"Stock\",\"Date\",\"Open\",\"High\",\"Low\",\"Close\",\"Volume\",\"AdjClose\"],\n",
        "                       dtype={\"Stock\":str,\"Date\":str,\"Open\":np.float64,\"High\":np.float64,\n",
        "                              \"Low\":np.float64,\"Close\":np.float64,\"Volume\":np.float64,\n",
        "                               \"AdjClose\":np.float64},parse_dates=[1],infer_datetime_format=True)\n",
        "stocks.info()\n",
        "stocks.head(10)"
      ]
    },
    {
      "cell_type": "code",
      "execution_count": null,
      "metadata": {
        "id": "qNryqCGcV0DV"
      },
      "outputs": [],
      "source": [
        "plt.rcParams['figure.figsize'] = [15, 8]\n",
        "\n",
        "fig = sns.lineplot(x=\"Date\",y=\"Open\",hue=\"Stock\",style=\"Stock\",dashes=False,\n",
        "                   markers={\"IBM\":\"o\",\"Intel\":\"o\",\"Microsoft\":\"o\"},data=stocks,\n",
        "                   palette={\"IBM\":\"red\",\"Intel\":\"blue\",\"Microsoft\":\"gray\"})\n",
        "\n",
        "plt.xlabel(\" \")\n",
        "plt.yticks(color=\"black\",family=\"serif\",size=12,style=\"normal\")\n",
        "plt.xticks(color=\"black\",family=\"serif\",size=12,style=\"normal\")\n",
        "plt.ylabel(\"Valor, en dólares\",fontdict={\"family\":\"serif\",\"color\":\"blue\",\"size\":13,\"style\":\"normal\"})\n",
        "plt.legend(loc=\"upper right\",fontsize=14,title=\"Stock\",title_fontsize=14,frameon=False,ncol=1)\n",
        "plt.grid(axis=\"x\",color=\"white\",ls=\"-\",lw=1)\n",
        "plt.show(fig)"
      ]
    },
    {
      "cell_type": "markdown",
      "metadata": {
        "id": "Fkk3R2IkV0DV"
      },
      "source": [
        "\n",
        "<h5 id=\"Modifique-el-gráfico-variando-colores-y-los-siguientes-parámetros\">Modifique el gráfico variando colores y los siguientes parámetros<a class=\"anchor-link\" href=\"#Modifique-el-gráfico-variando-colores-y-los-siguientes-parámetros\">¶</a></h5><ul>\n",
        "<li><strong><em>markers</em></strong>: \".\", \"o\", \"v\", \"^\", \"&lt;\", \"&gt;\", \"8\", \"s\", \"p\", \"P\", \"*\", \"h\", \"H\", \"+\", \"d\", \"D\", \"|\", \"_\" o False</li>\n",
        "<li><strong><em>frameon</em></strong>: True, False</li>\n",
        "<li><strong><em>family</em></strong>: \"serif\", \"sans-serif\", \"cursive\", \"fantasy\", \"monospace\"</li>\n",
        "<li><strong><em>style</em></strong>: \"normal\", \"italic\", \"oblique\"</li>\n",
        "<li><strong><em>loc</em></strong>: \"upper left\", \"upper right\", \"lower left\", \"lower right\", \"upper center\", \"lower center\", \"center left\", \"center right\"</li>\n",
        "<li><strong><em>lw</em></strong>, <strong><em>size</em></strong>, <strong><em>fontsize</em></strong>, <strong>_title<em>fontsize</em></strong>: valores positivos</li>\n",
        "<li><strong><em>ls</em></strong>: \"-\", \"--\", \"-.\", \":\"</li>\n",
        "<li><strong><em>ncol</em></strong>: entero positivo</li>\n",
        "<li><strong><em>axis</em></strong>: \"x\", \"y\", \"both\"</li>\n",
        "</ul>\n"
      ]
    },
    {
      "cell_type": "markdown",
      "metadata": {
        "id": "vEOjJoS7V0DV"
      },
      "source": [
        "\n",
        "<p></p><h4> <strong> Ejemplo 10 </strong> </h4>\n",
        "<p style=\"text-align: justify;\"> Gráfico de la evolución en el tiempo (<em>date</em>) de las cotizaciones (<em>open</em>) y los volumenes (<em>volume</em>) de Microsoft usando los datos en <em>sashelp.stocks</em>.</p>\n"
      ]
    },
    {
      "cell_type": "code",
      "execution_count": null,
      "metadata": {
        "id": "YWuEWmn7V0DV"
      },
      "outputs": [],
      "source": [
        "plt.rcParams['figure.figsize'] = [15, 8]\n",
        "\n",
        "fig = sns.lineplot(x=\"Date\",y=\"Volume\",color=\"gray\",legend=False,label=\"Cantidad\",marker=\"o\",\n",
        "                   data=stocks.query(\"Stock=='Microsoft'\").eval(\"Volume=Volume/1e6\"))\n",
        "plt.xlabel(\" \")\n",
        "plt.ylabel(\"Cantidad, en millones\",fontdict={\"family\":\"serif\",\"color\":\"blue\",\"size\":15,\"style\":\"normal\"})\n",
        "plt.grid(axis=\"both\",color=\"lightgray\",ls=\"-\",lw=0.5)\n",
        "ax2 = fig.twinx()\n",
        "\n",
        "sns.lineplot(x=\"Date\",y=\"Open\",data=stocks.query(\"Stock=='Microsoft'\"),marker=\"o\",\n",
        "             color=\"red\",legend=False,label=\"Valor\",ax=ax2)\n",
        "plt.xlabel(\" \")\n",
        "plt.ylabel(\"Valor, en dólares\",fontdict={\"family\":\"serif\",\"color\":\"blue\",\"size\":15,\"style\":\"normal\"})\n",
        "plt.grid(axis=\"x\",color=\"white\",ls=\"-\",lw=1)\n",
        "fig.figure.legend(loc=\"lower center\",fontsize=14,frameon=False,ncol=2)\n",
        "plt.show(fig)"
      ]
    },
    {
      "cell_type": "markdown",
      "metadata": {
        "id": "ILgbuVWjV0DW"
      },
      "source": [
        "\n",
        "<h5 id=\"Modifique-el-gráfico-variando-colores-y-los-siguientes-parámetros\">Modifique el gráfico variando colores y los siguientes parámetros<a class=\"anchor-link\" href=\"#Modifique-el-gráfico-variando-colores-y-los-siguientes-parámetros\">¶</a></h5><ul>\n",
        "<li><strong><em>marker</em></strong>: \".\", \"o\", \"v\", \"^\", \"&lt;\", \"&gt;\", \"8\", \"s\", \"p\", \"P\", \"*\", \"h\", \"H\", \"+\", \"d\", \"D\", \"|\", \"_\" o False</li>\n",
        "<li><strong><em>frameon</em></strong>, <strong><em>dashes</em></strong>: True, False</li>\n",
        "<li><strong><em>family</em></strong>: \"serif\", \"sans-serif\", \"cursive\", \"fantasy\", \"monospace\"</li>\n",
        "<li><strong><em>style</em></strong>: \"normal\", \"italic\", \"oblique\"</li>\n",
        "<li><strong><em>loc</em></strong>: \"upper left\", \"upper right\", \"lower left\", \"lower right\", \"upper center\", \"lower center\", \"center left\", \"center right\"</li>\n",
        "<li><strong><em>lw</em></strong>, <strong><em>size</em></strong>, <strong><em>fontsize</em></strong>: valores positivos</li>\n",
        "<li><strong><em>ls</em></strong>: \"-\", \"--\", \"-.\", \":\"</li>\n",
        "<li><strong><em>ncol</em></strong>: entero positivo</li>\n",
        "<li><strong><em>axis</em></strong>: \"x\", \"y\", \"both\"</li>\n",
        "</ul>\n"
      ]
    },
    {
      "cell_type": "code",
      "execution_count": null,
      "metadata": {
        "id": "Nz22FQnmV0DW"
      },
      "outputs": [],
      "source": [
        "Advertising = pd.read_excel(\"Advertising.xlsx\")\n",
        "Advertising.info()\n",
        "Advertising.head(10)"
      ]
    },
    {
      "cell_type": "markdown",
      "metadata": {
        "id": "HadkFqRIV0DW"
      },
      "source": [
        "\n",
        "<p></p><h4> <strong> Ejemplo 11 </strong> </h4>\n",
        "<p style=\"text-align: justify;\"> Gráfico de dispersión de las ventas del producto (<em>sales</em>) versus la inversión en publicidad en televisión para el mismo (<em>TV</em>). Estos datos se obtuvieron de <em> Witten, Hastie, Tibshirani y James (2013). An Introduction to Statistical Learning: With Applications in R. Springer.</em></p>\n"
      ]
    },
    {
      "cell_type": "code",
      "execution_count": null,
      "metadata": {
        "id": "86KLalDkV0DW"
      },
      "outputs": [],
      "source": [
        "fig = sns.lmplot(x=\"TV\",y=\"sales\",data=Advertising,markers=\"o\",scatter_kws={\"color\":\"red\",\"s\":20},\n",
        "                ci=None,legend=False,fit_reg=False,height=6.5,aspect=1.1)\n",
        "\n",
        "plt.xticks(color=\"black\",family=\"serif\",size=10,style=\"normal\")\n",
        "plt.yticks(color=\"black\",family=\"serif\",size=10,style=\"normal\")\n",
        "plt.xlabel(\"Inversión en publicidad\",fontdict={\"family\":\"serif\",\"color\":\"blue\",\"size\":15,\"style\":\"normal\"})\n",
        "plt.ylabel(\"Ventas\",fontdict={\"family\":\"serif\",\"color\":\"blue\",\"size\":15,\"style\":\"normal\"})\n",
        "plt.title(\"Ventas versus inversión en publicidad en TV\",loc=\"center\",\n",
        "          fontdict={\"family\":\"serif\",\"color\":\"black\",\"size\":17,\"style\":\"normal\"})\n",
        "plt.grid(axis=\"x\",color=\"white\",ls=\"-\",lw=1)\n",
        "plt.show(fig)"
      ]
    },
    {
      "cell_type": "markdown",
      "metadata": {
        "id": "RgQ8meENV0DW"
      },
      "source": [
        "\n",
        "<h5 id=\"Modifique-el-gráfico-variando-colores-y-los-siguientes-parámetros\">Modifique el gráfico variando colores y los siguientes parámetros<a class=\"anchor-link\" href=\"#Modifique-el-gráfico-variando-colores-y-los-siguientes-parámetros\">¶</a></h5><ul>\n",
        "<li><strong><em>markers</em></strong>: \".\", \"o\", \"v\", \"^\", \"&lt;\", \"&gt;\", \"8\", \"s\", \"p\", \"P\", \"*\", \"h\", \"H\", \"+\", \"d\", \"D\", \"|\", \"_\"</li>\n",
        "<li><strong><em>ci</em></strong>: entero en el intervalo $[0, 100]$ o None.</li>\n",
        "<li><strong>_fit<em>reg</em></strong>, <strong><em>legend</em></strong>: True, False</li>\n",
        "<li><strong><em>s</em></strong>, <strong><em>size</em></strong>, <strong><em>height</em></strong>, <strong><em>aspect</em></strong>: valores positivos</li>\n",
        "<li><strong><em>loc</em></strong>: \"center\", \"left\", \"right\", None</li>\n",
        "<li><strong><em>family</em></strong>: \"serif\", \"sans-serif\", \"cursive\", \"fantasy\", \"monospace\"</li>\n",
        "<li><strong><em>style</em></strong>: \"normal\", \"italic\", \"oblique\"</li>\n",
        "<li><strong><em>ls</em></strong>: \"-\", \"--\", \"-.\", \":\"</li>\n",
        "<li><strong><em>axis</em></strong>: \"x\", \"y\", \"both\"</li>\n",
        "</ul>\n"
      ]
    },
    {
      "cell_type": "markdown",
      "metadata": {
        "id": "wbOvdBASV0DW"
      },
      "source": [
        "\n",
        "<p></p><h4> <strong> Ejemplo 12 </strong> </h4>\n",
        "<p style=\"text-align: justify;\"> Gráfico de dispersión de las ventas del producto (<em>sales</em>) versus la inversión en publicidad en televisión para el mismo (<em>TV</em>), el cual incluye una curva de tendencia obtenida usando regresión polinómica.</p>\n"
      ]
    },
    {
      "cell_type": "code",
      "execution_count": null,
      "metadata": {
        "id": "MgGx1rKaV0DW"
      },
      "outputs": [],
      "source": [
        "fig = sns.lmplot(x=\"TV\",y=\"sales\",data=Advertising,markers=\"o\",scatter_kws={\"color\":\"red\",\"s\":20},order=3,\n",
        "       ci=None,line_kws={\"color\":\"black\",\"ls\":\"-\",\"lw\":3},legend=False,truncate=False,height=6.5,aspect=1.1)\n",
        "\n",
        "plt.xticks(color=\"black\",family=\"serif\",size=10,style=\"normal\")\n",
        "plt.yticks(color=\"black\",family=\"serif\",size=10,style=\"normal\")\n",
        "plt.xlabel(\"Inversión en publicidad\",fontdict={\"family\":\"serif\",\"color\":\"blue\",\"size\":15,\"style\":\"normal\"})\n",
        "plt.ylabel(\"Ventas\",fontdict={\"family\":\"serif\",\"color\":\"blue\",\"size\":15,\"style\":\"normal\"})\n",
        "plt.title(\"Ventas versus inversión en publicidad en TV\",loc=\"center\",\n",
        "          fontdict={\"family\":\"serif\",\"color\":\"black\",\"size\":17,\"style\":\"normal\"})\n",
        "plt.grid(axis=\"x\",color=\"white\",ls=\"-\",lw=1)\n",
        "plt.show(fig)"
      ]
    },
    {
      "cell_type": "markdown",
      "metadata": {
        "id": "3NxOSlwEV0DW"
      },
      "source": [
        "\n",
        "<h5 id=\"Modifique-el-gráfico-variando-colores-y-los-siguientes-parámetros\">Modifique el gráfico variando colores y los siguientes parámetros<a class=\"anchor-link\" href=\"#Modifique-el-gráfico-variando-colores-y-los-siguientes-parámetros\">¶</a></h5><ul>\n",
        "<li><strong><em>markers</em></strong>: \".\", \"o\", \"v\", \"^\", \"&lt;\", \"&gt;\", \"8\", \"s\", \"p\", \"P\", \"*\", \"h\", \"H\", \"+\", \"d\", \"D\", \"|\", \"_\"</li>\n",
        "<li><strong><em>ci</em></strong>: entero en el intervalo $[0, 100]$ o None.</li>\n",
        "<li><strong>_fit<em>reg</em></strong>, <strong><em>legend</em></strong>: True, False</li>\n",
        "<li><strong><em>s</em></strong>, <strong><em>lw</em></strong>, <strong><em>size</em></strong>, <strong><em>height</em></strong>, <strong><em>aspect</em></strong>: valores positivos</li>\n",
        "<li><strong><em>ls</em></strong>: \"-\", \"--\", \"-.\", \":\"</li>\n",
        "<li><strong><em>loc</em></strong>: \"center\", \"left\", \"right\", None</li>\n",
        "<li><strong><em>family</em></strong>: \"serif\", \"sans-serif\", \"cursive\", \"fantasy\", \"monospace\"</li>\n",
        "<li><strong><em>style</em></strong>: \"normal\", \"italic\", \"oblique\"</li>\n",
        "<li><strong><em>axis</em></strong>: \"x\", \"y\", \"both\"</li>\n",
        "<li><strong><em>order</em></strong>: entero positivo</li>\n",
        "</ul>\n"
      ]
    },
    {
      "cell_type": "markdown",
      "metadata": {
        "id": "kA1iFJW0V0DW"
      },
      "source": [
        "\n",
        "<p></p><h4> <strong> Ejemplo 13 </strong> </h4>\n",
        "<p style=\"text-align: justify;\"> Gráfico de dispersión de las ventas del producto (<em>sales</em>) versus la inversión en publicidad en televisión para el mismo (<em>TV</em>). Se usan colores y marcadores diferentes dependiendo de la inversión en publicidad en radio. </p>\n"
      ]
    },
    {
      "cell_type": "code",
      "execution_count": null,
      "metadata": {
        "id": "MdEKjOStV0DX"
      },
      "outputs": [],
      "source": [
        "cats = 3\n",
        "bins = Advertising[\"radio\"].quantile(np.arange(0,cats+1)/cats) \n",
        "Advertising[\"radioC\"] = pd.cut(Advertising[\"radio\"],bins,labels=[\"Baja\",\"Media\",\"Alta\"])"
      ]
    },
    {
      "cell_type": "code",
      "execution_count": null,
      "metadata": {
        "id": "UuvtDlbzV0DX"
      },
      "outputs": [],
      "source": [
        "fig = sns.lmplot(x=\"TV\",y=\"sales\",data=Advertising,hue=\"radioC\",markers=[\"o\",\"s\",\"^\"],\n",
        "        palette={\"Baja\":\"red\",\"Media\":\"black\",\"Alta\":\"blue\"},legend=False,fit_reg=False,\n",
        "        scatter_kws={\"s\":25},ci=None,height=6.5,aspect=1.1)\n",
        "\n",
        "plt.xticks(color=\"black\",family=\"serif\",size=10,style=\"normal\")\n",
        "plt.yticks(color=\"black\",family=\"serif\",size=10,style=\"normal\")\n",
        "plt.xlabel(\"Inversión en publicidad\",fontdict={\"family\":\"serif\",\"color\":\"blue\",\"size\":15,\"style\":\"normal\"})\n",
        "plt.ylabel(\"Ventas\",fontdict={\"family\":\"serif\",\"color\":\"blue\",\"size\":15,\"style\":\"normal\"})\n",
        "plt.title(\"Ventas versus inversión en publicidad en TV\",loc=\"center\",\n",
        "          fontdict={\"family\":\"serif\",\"color\":\"black\",\"size\":17,\"style\":\"normal\"})\n",
        "plt.grid(axis=\"x\",color=\"white\",ls=\"-\",lw=1)\n",
        "plt.legend(loc=\"lower right\",fontsize=13,title=\"Inversión\\n en radio\",title_fontsize=13,frameon=False,ncol=1)\n",
        "plt.show(fig)"
      ]
    },
    {
      "cell_type": "markdown",
      "metadata": {
        "id": "pNN8CQcaV0DX"
      },
      "source": [
        "\n",
        "<h5 id=\"Modifique-el-gráfico-variando-colores-y-los-siguientes-parámetros\">Modifique el gráfico variando colores y los siguientes parámetros<a class=\"anchor-link\" href=\"#Modifique-el-gráfico-variando-colores-y-los-siguientes-parámetros\">¶</a></h5><ul>\n",
        "<li><strong><em>markers</em></strong>: \".\", \"o\", \"v\", \"^\", \"&lt;\", \"&gt;\", \"8\", \"s\", \"p\", \"P\", \"*\", \"h\", \"H\", \"+\", \"d\", \"D\", \"|\", \"_\"</li>\n",
        "<li><strong><em>ci</em></strong>: entero en el intervalo $[0, 100]$ o None.</li>\n",
        "<li><strong>_fit<em>reg</em></strong>, <strong><em>frameon</em></strong>: True, False</li>\n",
        "<li><strong><em>s</em></strong>, <strong><em>size</em></strong>, <strong><em>height</em></strong>, <strong><em>aspect</em></strong>, <strong><em>fontsize</em></strong>, <strong>_title<em>fontsize</em></strong>: valores positivos</li>\n",
        "<li><strong><em>family</em></strong>: \"serif\", \"sans-serif\", \"cursive\", \"fantasy\", \"monospace\"</li>\n",
        "<li><strong><em>style</em></strong>: \"normal\", \"italic\", \"oblique\"</li>\n",
        "<li><strong><em>axis</em></strong>: \"x\", \"y\", \"both\"</li>\n",
        "<li><strong><em>order</em></strong>, <strong><em>ncol</em></strong>: entero positivo</li>\n",
        "<li><strong><em>loc</em></strong>: \"upper left\", \"upper right\", \"lower left\", \"lower right\", \"upper center\", \"lower center\", \"center left\", \"center right\"</li>\n",
        "</ul>\n"
      ]
    },
    {
      "cell_type": "markdown",
      "metadata": {
        "id": "tLi2frHGV0DX"
      },
      "source": [
        "\n",
        "<p></p><h4> <strong> Ejemplo 14</strong> </h4>\n",
        "<p style=\"text-align: justify;\"> Gráfico de dispersión de las ventas del producto (<em>sales</em>) versus la inversión en publicidad en televisión para el mismo (<em>TV</em>), el cual incluye una curva de tendencia obtenida usando regresión polinómica. Se usan colores y marcadores diferentes dependiendo de la inversión en publicidad en radio. </p>\n"
      ]
    },
    {
      "cell_type": "code",
      "execution_count": null,
      "metadata": {
        "id": "bKI73PkQV0DX"
      },
      "outputs": [],
      "source": [
        "fig = sns.lmplot(x=\"TV\",y=\"sales\",data=Advertising,hue=\"radioC\",markers=[\"o\",\"s\",\"^\"],\n",
        "        palette={\"Baja\":\"red\",\"Media\":\"black\",\"Alta\":\"blue\"},legend=False,fit_reg=True,\n",
        "        scatter_kws={\"s\":25},ci=None,height=6.5,aspect=1.1,order=3)\n",
        "\n",
        "plt.xticks(color=\"black\",family=\"serif\",size=10,style=\"normal\")\n",
        "plt.yticks(color=\"black\",family=\"serif\",size=10,style=\"normal\")\n",
        "plt.xlabel(\"Inversión en publicidad\",fontdict={\"family\":\"serif\",\"color\":\"blue\",\"size\":15,\"style\":\"normal\"})\n",
        "plt.ylabel(\"Ventas\",fontdict={\"family\":\"serif\",\"color\":\"blue\",\"size\":15,\"style\":\"normal\"})\n",
        "plt.title(\"Ventas versus inversión en publicidad en TV\",loc=\"center\",\n",
        "          fontdict={\"family\":\"serif\",\"color\":\"black\",\"size\":17,\"style\":\"normal\"})\n",
        "plt.grid(axis=\"x\",color=\"white\",ls=\"-\",lw=1)\n",
        "plt.legend(loc=\"lower right\",fontsize=13,title=\"Inversión\\n en radio\",title_fontsize=13,frameon=False,ncol=1)\n",
        "plt.show(fig)"
      ]
    },
    {
      "cell_type": "markdown",
      "metadata": {
        "id": "g7s0YwqlV0DX"
      },
      "source": [
        "\n",
        "<h5 id=\"Modifique-el-gráfico-variando-colores-y-los-siguientes-parámetros\">Modifique el gráfico variando colores y los siguientes parámetros<a class=\"anchor-link\" href=\"#Modifique-el-gráfico-variando-colores-y-los-siguientes-parámetros\">¶</a></h5><ul>\n",
        "<li><strong><em>markers</em></strong>: \".\", \"o\", \"v\", \"^\", \"&lt;\", \"&gt;\", \"8\", \"s\", \"p\", \"P\", \"*\", \"h\", \"H\", \"+\", \"d\", \"D\", \"|\", \"_\"</li>\n",
        "<li><strong><em>ci</em></strong>: entero en el intervalo $[0, 100]$ o None.</li>\n",
        "<li><strong>_fit<em>reg</em></strong>, <strong><em>frameon</em></strong>: True, False</li>\n",
        "<li><strong><em>s</em></strong>, <strong><em>size</em></strong>, <strong><em>height</em></strong>, <strong><em>aspect</em></strong>, <strong><em>fontsize</em></strong>, <strong>_title<em>fontsize</em></strong>: valores positivos</li>\n",
        "<li><strong><em>family</em></strong>: \"serif\", \"sans-serif\", \"cursive\", \"fantasy\", \"monospace\"</li>\n",
        "<li><strong><em>style</em></strong>: \"normal\", \"italic\", \"oblique\"</li>\n",
        "<li><strong><em>axis</em></strong>: \"x\", \"y\", \"both\"</li>\n",
        "<li><strong><em>order</em></strong>, <strong><em>ncol</em></strong>: entero positivo</li>\n",
        "<li><strong><em>loc</em></strong>: \"upper left\", \"upper right\", \"lower left\", \"lower right\", \"upper center\", \"lower center\", \"center left\", \"center right\"</li>\n",
        "</ul>\n"
      ]
    },
    {
      "cell_type": "markdown",
      "metadata": {
        "id": "4FFxjFMiV0DX"
      },
      "source": [
        "\n",
        "<p></p><h4> <strong> Ejemplo 15 </strong> </h4>\n",
        "<p style=\"text-align: justify;\"> Gráfico de dispersión de las ventas del producto (<em>sales</em>) versus la inversión en publicidad en televisión para el mismo (<em>TV</em>). Se usan colores, marcadores y paneles diferentes dependiendo de la inversión en publicidad en radio. </p>\n"
      ]
    },
    {
      "cell_type": "code",
      "execution_count": null,
      "metadata": {
        "id": "VmpNdFbjV0DX"
      },
      "outputs": [],
      "source": [
        "cats = 4\n",
        "bins = Advertising[\"newspaper\"].quantile(np.arange(0,cats+1)/cats) \n",
        "Advertising[\"newspaperC\"] = pd.cut(Advertising[\"newspaper\"],bins,labels=[\"Baja\",\"Media baja\",\"Media alta\",\"Alta\"])\n",
        "\n",
        "g = sns.FacetGrid(data=Advertising,col=\"newspaperC\",hue=\"radioC\",sharey=True,height=7,col_wrap=2,\n",
        "                  hue_kws={\"marker\":[\"o\",\"^\",\"s\"],\"color\":[\"red\",\"black\",\"blue\"]})\n",
        "g.map(sns.regplot,\"TV\",\"sales\",scatter_kws={\"s\":90},ci=None,order=3)\n",
        "g.fig.subplots_adjust(top=0.85,hspace=0.25,wspace=0.1)\n",
        "g.fig.suptitle(\"Inversión en publicidad en periódico\",size=25,family=\"serif\",color=\"black\")\n",
        "g.add_legend(loc=\"center right\",title=\"Inversión\\n en radio\",title_fontsize=\"xx-large\",\n",
        "             frameon=False,ncol=1,fontsize=\"x-large\")\n",
        "\n",
        "axes = g.axes.flatten()\n",
        "titles = [\"Baja\",\"Media baja\",\"Media alta\",\"Alta\"]\n",
        "xlabel = \"Inversión en publicidad en TV\"\n",
        "ylabel = \"Ventas\"\n",
        "for ax in np.arange(0,len(titles)):\n",
        "    axes[ax].set_ylabel(ylabel,fontdict={\"family\":\"serif\",\"color\":\"darkgrey\",\"size\":20})\n",
        "    axes[ax].set_xlabel(xlabel,fontdict={\"family\":\"serif\",\"color\":\"darkgrey\",\"size\":20})\n",
        "    axes[ax].set_title(titles[ax],fontdict={\"family\":\"serif\",\"color\":\"green\",\"size\":25},loc=\"center\")\n",
        "    axes[ax].grid(axis=\"x\",color=\"white\",ls=\"-\",lw=1)\n",
        "    axes[ax].tick_params(labelsize=15,labelcolor=\"black\",labelrotation=0)\n",
        "    if ax == 0: axes[ax].set_ylabel(ylabel,fontdict={\"family\":\"serif\",\"color\":\"darkgrey\",\"size\":20})  "
      ]
    },
    {
      "cell_type": "markdown",
      "metadata": {
        "id": "p7Q09wcuV0DX"
      },
      "source": [
        "\n",
        "<p></p><h4> <strong> Ejemplo 12 </strong> </h4>\n",
        "<p style=\"text-align: justify;\"> Gráfico de dispersión de las ventas del producto (<em>sales</em>) versus la inversión en publicidad en televisión para el mismo (<em>TV</em>), el cual incluye una curva de tendencia obtenida usando regresión polinómica. Se usan colores, marcadores y paneles diferentes dependiendo de la inversión en publicidad en radio. </p>\n"
      ]
    },
    {
      "cell_type": "code",
      "execution_count": null,
      "metadata": {
        "id": "-vZVFknDV0DY"
      },
      "outputs": [],
      "source": [
        "g = sns.FacetGrid(data=Advertising,col=\"radioC\",hue=\"radioC\",sharey=True,height=8,\n",
        "                  hue_kws={\"marker\":[\"o\",\"^\",\"s\"],\"color\":[\"red\",\"black\",\"blue\"]})\n",
        "g.map(sns.regplot,\"TV\",\"sales\",scatter_kws={\"s\":120},order=3,\n",
        "      line_kws={\"ls\":\"solid\",\"lw\":2},truncate=False,ci=None)\n",
        "g.fig.subplots_adjust(top=0.85)\n",
        "g.fig.suptitle(\"Inversión en publicidad en radio\",size=30,family=\"serif\",color=\"black\")\n",
        "\n",
        "axes = g.axes.flatten()\n",
        "titles = [\"Baja\",\"Media\",\"Alta\"]\n",
        "xlabel = \"Inversión en publicidad en TV\"\n",
        "ylabel = \"Ventas\"\n",
        "for ax in np.arange(0,len(titles)):\n",
        "    axes[ax].set_xlabel(xlabel,fontdict={\"family\":\"serif\",\"color\":\"darkgrey\",\"size\":30})\n",
        "    axes[ax].set_title(titles[ax],fontdict={\"family\":\"serif\",\"color\":\"green\",\"size\":30},loc=\"center\")\n",
        "    axes[ax].grid(axis=\"x\",color=\"white\",ls=\"-\",lw=1)\n",
        "    axes[ax].tick_params(labelsize=18,labelcolor=\"black\",labelrotation=0)\n",
        "    if ax == 0: axes[ax].set_ylabel(ylabel,fontdict={\"family\":\"serif\",\"color\":\"darkgrey\",\"size\":30}) "
      ]
    },
    {
      "cell_type": "code",
      "execution_count": null,
      "metadata": {
        "id": "IMfWfUftV0DY"
      },
      "outputs": [],
      "source": [
        "cats = 3\n",
        "bins = Advertising[\"TV\"].quantile(np.arange(0,cats+1)/cats) \n",
        "Advertising[\"TVC\"] = pd.cut(Advertising[\"TV\"],bins,labels=[\"Baja\",\"Media\",\"Alta\"])"
      ]
    },
    {
      "cell_type": "code",
      "execution_count": null,
      "metadata": {
        "id": "AOGjaMlLV0DY"
      },
      "outputs": [],
      "source": [
        "titles = [\"Alta\",\"Media\",\"Baja\"]\n",
        "g = sns.FacetGrid(data=Advertising,col=\"radioC\",sharey=True,height=8)\n",
        "g.map(sns.boxplot,\"TVC\",\"sales\",palette={\"Alta\":\"blue\",\"Media\":\"orange\",\"Baja\":\"red\"},\n",
        "      linewidth=1.5,order=titles)\n",
        "g.fig.subplots_adjust(top=0.85)\n",
        "g.fig.suptitle(\"Inversión en publicidad en radio\",size=30,family=\"serif\",color=\"black\")\n",
        "\n",
        "axes = g.axes.flatten()\n",
        "xlabel = \"Inversión en publicidad en TV\"\n",
        "ylabel = \"Ventas\"\n",
        "for ax in np.arange(0,len(titles)):\n",
        "    axes[ax].set_xlabel(xlabel,fontdict={\"family\":\"serif\",\"color\":\"darkgrey\",\"size\":30})\n",
        "    axes[ax].set_title(titles[ax],fontdict={\"family\":\"serif\",\"color\":\"green\",\"size\":30},loc=\"center\")\n",
        "    axes[ax].grid(axis=\"x\",color=\"white\",ls=\"-\",lw=1)\n",
        "    axes[ax].tick_params(labelsize=18,labelcolor=\"black\",labelrotation=0)\n",
        "    if ax == 0: axes[ax].set_ylabel(ylabel,fontdict={\"family\":\"serif\",\"color\":\"darkgrey\",\"size\":30})  "
      ]
    },
    {
      "cell_type": "code",
      "execution_count": null,
      "metadata": {
        "id": "H6kVr5ouV0DY"
      },
      "outputs": [],
      "source": [
        "cars = sns.load_dataset(\"mpg\")\n",
        "cars.loc[cars[\"origin\"]==\"usa\",\"Origen\"] = \"Estados Unidos\"\n",
        "cars.loc[cars[\"origin\"]!=\"usa\",\"Origen\"] = \"Japón y Europa\""
      ]
    },
    {
      "cell_type": "code",
      "execution_count": null,
      "metadata": {
        "id": "yT1kENWgV0DY"
      },
      "outputs": [],
      "source": [
        "fig = sns.pairplot(cars,vars=[\"mpg\",\"horsepower\",\"weight\"],hue=\"Origen\",kind=\"scatter\",\n",
        "                   diag_kind=\"hist\",palette=[\"blue\",\"orange\"],\n",
        "                   markers=[\"o\",\"s\"],plot_kws={\"s\":30},diag_kws={\"alpha\":0.7})\n",
        "axes = fig.axes.flatten()\n",
        "titulos = [\"Millas por galón\",\"Caballos de fuerza\",\"Peso\"]\n",
        "c = np.sqrt(len(axes))\n",
        "for ax1 in np.arange(0,c):\n",
        "    for ax2 in np.arange(0,c):\n",
        "        ax = int(ax1*c + ax2)\n",
        "        if ax2 == 0: axes[ax].set_ylabel(titulos[int(ax1)],fontdict={\"family\":\"serif\",\"color\":\"darkgrey\",\"size\":15})\n",
        "        if ax1 == c-1: axes[ax].set_xlabel(titulos[int(ax2)],fontdict={\"family\":\"serif\",\"color\":\"darkgrey\",\"size\":15})\n",
        "plt.show(fig)"
      ]
    },
    {
      "cell_type": "markdown",
      "metadata": {
        "id": "IR70XzmCV0DY"
      },
      "source": [
        "\n",
        "# <h1 style=\"color:red;\"> <strong> <center>Funciones personalizadas </center></strong> </h1>\n"
      ]
    },
    {
      "cell_type": "code",
      "execution_count": null,
      "metadata": {
        "id": "6ooTIMl4V0DY"
      },
      "outputs": [],
      "source": [
        "def primos(n):\n",
        "      n = np.floor(abs(float(n))).astype(int)\n",
        "      nmax = max(2,np.floor(np.sqrt(n)).astype(int))\n",
        "      out = np.zeros([nmax,1])  \n",
        "      m = n\n",
        "      id = 0\n",
        "      for i in range(2, nmax):\n",
        "            while m % i == 0:\n",
        "                  out[id] = i\n",
        "                  m = m / i\n",
        "                  id = id + 1\n",
        "      out = np.append(out,m).astype(int)              \n",
        "      out = out[out > 1]\n",
        "      prim = out[0] == n\n",
        "      if prim:\n",
        "              print(n,\"es un número primo\")\n",
        "      else:  \n",
        "            out2 = '*'.join(list(map(str,out)))\n",
        "            print(n,\"no es un número primo. \\nDe hecho,\",n,\"=\",out2)\n",
        "            return(out)\n",
        "            \n",
        "primos(79381)"
      ]
    },
    {
      "cell_type": "code",
      "execution_count": null,
      "metadata": {
        "id": "_xQcq_mpV0DY"
      },
      "outputs": [],
      "source": [
        "def summary(y,include='numeric'):\n",
        "    def numer(x):\n",
        "        x2 = x.dropna()\n",
        "        a = x.isna().sum()\n",
        "        b = x2.mean()\n",
        "        c = x2.std()\n",
        "        d = c/b\n",
        "        e = x2.skew()\n",
        "        f = x2.kurt()\n",
        "        g = x2.min()\n",
        "        h = np.quantile(x2,0.25)\n",
        "        i = x2.median()\n",
        "        j = np.quantile(x2,0.75)\n",
        "        k = x2.max()\n",
        "        l = pd.Series({\"Missings\":a,\"Mean\":b,\"St.dev\":c,\"Coef.var\":d,\"Skewness\":e,\n",
        "                       \"Kurtosis\":f,\"Min\":g,\"%25\":h,\"Median\":i,\"%75\":j,\"Max\":k})\n",
        "        return(l)\n",
        "    if include == 'numeric': \n",
        "        numerics = y.select_dtypes(include='number')\n",
        "        if len(numerics.columns) > 0: return(numerics.apply(numer)) \n",
        "        else: print('Error. There are not numeric-type columns!!')\n",
        "    if include == 'object':    \n",
        "        objects = y.select_dtypes(include='object')\n",
        "        if len(objects.columns) > 0: return(objects.describe(include=\"object\"))\n",
        "        else: print('Error. There are not object-type columns!!')\n",
        " \n",
        "summary(cars)"
      ]
    },
    {
      "cell_type": "markdown",
      "metadata": {
        "id": "ns7RzC5qV0DY"
      },
      "source": [
        "\n",
        "# <p></p><h1 style=\"color:red;\"> <strong> <center>Bibliografia</center></strong> </h1>\n",
        "<img height=\"600\" src=\"\thttps://python2022.netlify.app/pdsh.jpg\" width=\"600\"/>\n",
        "<img height=\"600\" src=\"\thttps://python2022.netlify.app/dscpyr.jpg\" width=\"600\"/>\n",
        "<img height=\"600\" src=\"\thttps://python2022.netlify.app/pfru.jpg\" width=\"600\"/>\n"
      ]
    }
  ],
  "metadata": {
    "kernelspec": {
      "display_name": "Python 3 (ipykernel)",
      "language": "python",
      "name": "python3"
    },
    "language_info": {
      "codemirror_mode": {
        "name": "ipython",
        "version": 3
      },
      "file_extension": ".py",
      "mimetype": "text/x-python",
      "name": "python",
      "nbconvert_exporter": "python",
      "pygments_lexer": "ipython3",
      "version": "3.8.13"
    },
    "colab": {
      "provenance": [],
      "collapsed_sections": [
        "VHN4IlaPV0Cv",
        "MTsHEX0NV0C4",
        "juV4P1AhV0C_",
        "PJHBvUogV0DC",
        "XhLuJAUfV0DJ",
        "z8Tn_BkMV0DP",
        "IR70XzmCV0DY"
      ],
      "toc_visible": true,
      "include_colab_link": true
    }
  },
  "nbformat": 4,
  "nbformat_minor": 0
}