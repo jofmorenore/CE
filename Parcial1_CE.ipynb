{
  "nbformat": 4,
  "nbformat_minor": 0,
  "metadata": {
    "colab": {
      "provenance": [],
      "toc_visible": true,
      "collapsed_sections": [
        "MftJxd8_dQs-",
        "5hdHJbiidSxV",
        "46-9KTfveSXL",
        "ZqI11_yRiVvL"
      ],
      "authorship_tag": "ABX9TyO0y/hm9JW2cfAAsT70MqHY",
      "include_colab_link": true
    },
    "kernelspec": {
      "name": "python3",
      "display_name": "Python 3"
    },
    "language_info": {
      "name": "python"
    }
  },
  "cells": [
    {
      "cell_type": "markdown",
      "metadata": {
        "id": "view-in-github",
        "colab_type": "text"
      },
      "source": [
        "<a href=\"https://colab.research.google.com/github/jofmorenore/CE/blob/main/Parcial1_CE.ipynb\" target=\"_parent\"><img src=\"https://colab.research.google.com/assets/colab-badge.svg\" alt=\"Open In Colab\"/></a>"
      ]
    },
    {
      "cell_type": "code",
      "source": [
        "from google.colab import drive\n",
        "drive.mount('/content/drive')"
      ],
      "metadata": {
        "colab": {
          "base_uri": "https://localhost:8080/"
        },
        "id": "_mVGWfH5bCok",
        "outputId": "31bc561d-ba86-49d3-ecba-ebd45b83a45c"
      },
      "execution_count": null,
      "outputs": [
        {
          "output_type": "stream",
          "name": "stdout",
          "text": [
            "Mounted at /content/drive\n"
          ]
        }
      ]
    },
    {
      "cell_type": "code",
      "execution_count": null,
      "metadata": {
        "colab": {
          "base_uri": "https://localhost:8080/"
        },
        "id": "SKfrDG1oa_PD",
        "outputId": "4e95aaa0-a064-4817-b1c4-9ebf8210e8af"
      },
      "outputs": [
        {
          "output_type": "stream",
          "name": "stdout",
          "text": [
            "Looking in indexes: https://pypi.org/simple, https://us-python.pkg.dev/colab-wheels/public/simple/\n",
            "Collecting rpy2==3.5.1\n",
            "  Downloading rpy2-3.5.1.tar.gz (201 kB)\n",
            "\u001b[2K     \u001b[90m━━━━━━━━━━━━━━━━━━━━━━━━━━━━━━━━━━━━━━━\u001b[0m \u001b[32m201.7/201.7 KB\u001b[0m \u001b[31m5.1 MB/s\u001b[0m eta \u001b[36m0:00:00\u001b[0m\n",
            "\u001b[?25h  Preparing metadata (setup.py) ... \u001b[?25l\u001b[?25hdone\n",
            "Requirement already satisfied: cffi>=1.10.0 in /usr/local/lib/python3.9/dist-packages (from rpy2==3.5.1) (1.15.1)\n",
            "Requirement already satisfied: jinja2 in /usr/local/lib/python3.9/dist-packages (from rpy2==3.5.1) (3.1.2)\n",
            "Requirement already satisfied: pytz in /usr/local/lib/python3.9/dist-packages (from rpy2==3.5.1) (2022.7.1)\n",
            "Requirement already satisfied: tzlocal in /usr/local/lib/python3.9/dist-packages (from rpy2==3.5.1) (4.2)\n",
            "Requirement already satisfied: pycparser in /usr/local/lib/python3.9/dist-packages (from cffi>=1.10.0->rpy2==3.5.1) (2.21)\n",
            "Requirement already satisfied: MarkupSafe>=2.0 in /usr/local/lib/python3.9/dist-packages (from jinja2->rpy2==3.5.1) (2.1.2)\n",
            "Requirement already satisfied: pytz-deprecation-shim in /usr/local/lib/python3.9/dist-packages (from tzlocal->rpy2==3.5.1) (0.1.0.post0)\n",
            "Requirement already satisfied: tzdata in /usr/local/lib/python3.9/dist-packages (from pytz-deprecation-shim->tzlocal->rpy2==3.5.1) (2022.7)\n",
            "Building wheels for collected packages: rpy2\n",
            "  Building wheel for rpy2 (setup.py) ... \u001b[?25l\u001b[?25hdone\n",
            "  Created wheel for rpy2: filename=rpy2-3.5.1-cp39-cp39-linux_x86_64.whl size=317901 sha256=be61034edb74bc00bcc4d2643330a4df45609d71a819714c1f7346d4a5e751f0\n",
            "  Stored in directory: /root/.cache/pip/wheels/09/e7/bc/33685b60ab54dba969596dd87244ee9f4c2e83dff9a53d4f20\n",
            "Successfully built rpy2\n",
            "Installing collected packages: rpy2\n",
            "  Attempting uninstall: rpy2\n",
            "    Found existing installation: rpy2 3.5.5\n",
            "    Uninstalling rpy2-3.5.5:\n",
            "      Successfully uninstalled rpy2-3.5.5\n",
            "Successfully installed rpy2-3.5.1\n"
          ]
        }
      ],
      "source": [
        "!pip install rpy2==3.5.1"
      ]
    },
    {
      "cell_type": "code",
      "source": [
        "%load_ext rpy2.ipython"
      ],
      "metadata": {
        "id": "slk0c_ZMbBAs"
      },
      "execution_count": null,
      "outputs": []
    },
    {
      "cell_type": "code",
      "source": [
        "%%R\n",
        "getwd()\n",
        "#setwd(\"C:/Nano/Docencia/Curso\")\n",
        "setwd('/content/drive/MyDrive/Curso')\n",
        "getwd()"
      ],
      "metadata": {
        "colab": {
          "base_uri": "https://localhost:8080/"
        },
        "id": "ztrrJAiNbRFr",
        "outputId": "fcfaf761-6a6e-4177-aa4d-5764a72f5689"
      },
      "execution_count": null,
      "outputs": [
        {
          "output_type": "stream",
          "name": "stdout",
          "text": [
            "[1] \"/content/drive/.shortcut-targets-by-id/1SmBErdxXLyp_NCHsJPGVjQdlO7wg9I8T/Curso\"\n"
          ]
        }
      ]
    },
    {
      "cell_type": "code",
      "source": [
        "%%R\n",
        "list.files()"
      ],
      "metadata": {
        "colab": {
          "base_uri": "https://localhost:8080/"
        },
        "id": "k_r-FEAIbVKS",
        "outputId": "c31f66e1-3b07-44a6-c71f-0ec231882044"
      },
      "execution_count": null,
      "outputs": [
        {
          "output_type": "stream",
          "name": "stdout",
          "text": [
            " [1] \"admin00.dbf\"               \"admin00.prj\"              \n",
            " [3] \"admin00.shp\"               \"admin00.shx\"              \n",
            " [5] \"Advertising.xlsx\"          \"airrpm.txt\"               \n",
            " [7] \"anime00s.csv\"              \"anime00s.pkl\"             \n",
            " [9] \"anime10s.csv\"              \"anime10s.pkl\"             \n",
            "[11] \"anime80s.csv\"              \"anime80s.pkl\"             \n",
            "[13] \"anime90s.csv\"              \"anime90s.pkl\"             \n",
            "[15] \"animeratings.csv\"          \"counties.xlsx\"            \n",
            "[17] \"cursos.txt\"                \"docentes.csv\"             \n",
            "[19] \"elections.xlsx\"            \"Estaciones.xlsx\"          \n",
            "[21] \"exportaciones.xlsx\"        \"mcycle.xlsx\"              \n",
            "[23] \"MGN_DPTO_POLITICO.CPG\"     \"MGN_DPTO_POLITICO.dbf\"    \n",
            "[25] \"MGN_DPTO_POLITICO.prj\"     \"MGN_DPTO_POLITICO.sbn\"    \n",
            "[27] \"MGN_DPTO_POLITICO.sbx\"     \"MGN_DPTO_POLITICO.shp\"    \n",
            "[29] \"MGN_DPTO_POLITICO.shp.xml\" \"MGN_DPTO_POLITICO.shx\"    \n",
            "[31] \"MGN_MPIO_POLITICO.CPG\"     \"MGN_MPIO_POLITICO.dbf\"    \n",
            "[33] \"MGN_MPIO_POLITICO.prj\"     \"MGN_MPIO_POLITICO.sbn\"    \n",
            "[35] \"MGN_MPIO_POLITICO.sbx\"     \"MGN_MPIO_POLITICO.shp\"    \n",
            "[37] \"MGN_MPIO_POLITICO.shp.xml\" \"MGN_MPIO_POLITICO.shx\"    \n",
            "[39] \"mismacros.sas\"             \"mismacros.txt\"            \n",
            "[41] \"mismacrospython.py\"        \"mismacrospython.txt\"      \n",
            "[43] \"Municipios.xlsx\"           \"namebasics.rar\"           \n",
            "[45] \"ofrecidos.xlsx\"            \"ratings.pkl\"              \n",
            "[47] \"sample.xlsx\"               \"season-1415.xlsx\"         \n",
            "[49] \"season-1516.xlsx\"          \"season-1617.xlsx\"         \n",
            "[51] \"season-1718.xlsx\"          \"season-1819.xlsx\"         \n",
            "[53] \"species.xlsx\"              \"spruce.txt\"               \n",
            "[55] \"states.xlsx\"               \"stocks.dlm\"               \n",
            "[57] \"titlebasics.rar\"           \"titleprincipals.rar\"      \n",
            "[59] \"titleratings.rar\"         \n"
          ]
        }
      ]
    },
    {
      "cell_type": "code",
      "source": [
        "%%R\n",
        "library(readr)\n",
        "library(dplyr)\n",
        "library(stringr)"
      ],
      "metadata": {
        "id": "yV9rXnPKcH0Y",
        "colab": {
          "base_uri": "https://localhost:8080/"
        },
        "outputId": "6ad74f34-22f6-448b-a33c-f91e44523b7a"
      },
      "execution_count": null,
      "outputs": [
        {
          "output_type": "stream",
          "name": "stderr",
          "text": [
            "WARNING:rpy2.rinterface_lib.callbacks:R[write to console]: \n",
            "Attaching package: ‘dplyr’\n",
            "\n",
            "\n",
            "WARNING:rpy2.rinterface_lib.callbacks:R[write to console]: The following objects are masked from ‘package:stats’:\n",
            "\n",
            "    filter, lag\n",
            "\n",
            "\n",
            "WARNING:rpy2.rinterface_lib.callbacks:R[write to console]: The following objects are masked from ‘package:base’:\n",
            "\n",
            "    intersect, setdiff, setequal, union\n",
            "\n",
            "\n"
          ]
        }
      ]
    },
    {
      "cell_type": "code",
      "source": [
        "%%R\n",
        "install.packages(\"sqldf\")\n",
        "library(sqldf)"
      ],
      "metadata": {
        "id": "Z5bZ0aLjHj0m"
      },
      "execution_count": null,
      "outputs": []
    },
    {
      "cell_type": "code",
      "source": [
        "%%R\n",
        "amenhorrea = read_delim(\"/content/drive/MyDrive/amenhorrea.dat\", delim = \"\\t\")\n",
        "str(amenhorrea)"
      ],
      "metadata": {
        "colab": {
          "base_uri": "https://localhost:8080/"
        },
        "id": "GCLhYWvhbZrq",
        "outputId": "03c01d64-9fe2-4574-a3e5-a8107c8b4b3a"
      },
      "execution_count": null,
      "outputs": [
        {
          "output_type": "stream",
          "name": "stdout",
          "text": [
            "Rows: 4604 Columns: 4\n",
            "── Column specification ────────────────────────────────────────────────────────\n",
            "Delimiter: \"\\t\"\n",
            "dbl (4): ID, Dose, Time, amenhorrea\n",
            "\n",
            "ℹ Use `spec()` to retrieve the full column specification for this data.\n",
            "ℹ Specify the column types or set `show_col_types = FALSE` to quiet this message.\n",
            "spc_tbl_ [4,604 × 4] (S3: spec_tbl_df/tbl_df/tbl/data.frame)\n",
            " $ ID        : num [1:4604] 1 1 1 1 2 2 2 2 3 3 ...\n",
            " $ Dose      : num [1:4604] 0 0 0 0 0 0 0 0 0 0 ...\n",
            " $ Time      : num [1:4604] 0 1 2 3 0 1 2 3 0 1 ...\n",
            " $ amenhorrea: num [1:4604] 0 NA NA NA 0 NA NA NA 0 NA ...\n",
            " - attr(*, \"spec\")=\n",
            "  .. cols(\n",
            "  ..   ID = col_double(),\n",
            "  ..   Dose = col_double(),\n",
            "  ..   Time = col_double(),\n",
            "  ..   amenhorrea = col_double()\n",
            "  .. )\n",
            " - attr(*, \"problems\")=<externalptr> \n"
          ]
        }
      ]
    },
    {
      "cell_type": "code",
      "source": [
        "%%R\n",
        "summary(amenhorrea)"
      ],
      "metadata": {
        "colab": {
          "base_uri": "https://localhost:8080/"
        },
        "id": "LuDEuFT1cV9v",
        "outputId": "c56ab13f-6dc4-4558-cfe0-a66fe428beec"
      },
      "execution_count": null,
      "outputs": [
        {
          "output_type": "stream",
          "name": "stdout",
          "text": [
            "       ID            Dose             Time        amenhorrea    \n",
            " Min.   :   1   Min.   :0.0000   Min.   :0.00   Min.   :0.0000  \n",
            " 1st Qu.: 288   1st Qu.:0.0000   1st Qu.:0.75   1st Qu.:0.0000  \n",
            " Median : 576   Median :0.0000   Median :1.50   Median :0.0000  \n",
            " Mean   : 576   Mean   :0.4996   Mean   :1.50   Mean   :0.3404  \n",
            " 3rd Qu.: 864   3rd Qu.:1.0000   3rd Qu.:2.25   3rd Qu.:1.0000  \n",
            " Max.   :1151   Max.   :1.0000   Max.   :3.00   Max.   :1.0000  \n",
            "                                                NA's   :988     \n"
          ]
        }
      ]
    },
    {
      "cell_type": "markdown",
      "source": [
        "# 1. Cuantas mujeres hicieron parte del experimento?"
      ],
      "metadata": {
        "id": "MftJxd8_dQs-"
      }
    },
    {
      "cell_type": "code",
      "source": [
        "%%R\n",
        "dplyr::n_distinct(amenhorrea$ID) # 1151 mujeres\n",
        "#distinct(amenhorrea, ID, Time) %>% dim()"
      ],
      "metadata": {
        "colab": {
          "base_uri": "https://localhost:8080/"
        },
        "id": "SQqzBbMMcmjX",
        "outputId": "cd56b03d-8c00-43a6-d9b6-655b2ba092c8"
      },
      "execution_count": null,
      "outputs": [
        {
          "output_type": "stream",
          "name": "stdout",
          "text": [
            "[1] 1151\n"
          ]
        }
      ]
    },
    {
      "cell_type": "code",
      "source": [
        "%%R\n",
        "##### Solución 1\n",
        "print(sqldf(\"select count(distinct ID) as mujeres\n",
        "       from amenhorrea\"))\n",
        "##### Solución 2\n",
        "print(amenhorrea %>% summarise(mujeres=n_distinct(ID)))\n",
        "##### Solución 3\n",
        "print(with(amenhorrea,length(unique(ID))))"
      ],
      "metadata": {
        "colab": {
          "base_uri": "https://localhost:8080/"
        },
        "id": "4a4MyQ_zHdpL",
        "outputId": "05efb3e5-aaf2-4b2e-a129-bf98cbbe1c06"
      },
      "execution_count": null,
      "outputs": [
        {
          "output_type": "stream",
          "name": "stdout",
          "text": [
            "  mujeres\n",
            "1    1151\n",
            "# A tibble: 1 × 1\n",
            "  mujeres\n",
            "    <int>\n",
            "1    1151\n",
            "[1] 1151\n"
          ]
        }
      ]
    },
    {
      "cell_type": "markdown",
      "source": [
        "# 2. Cuantas mujeres recibieron 150 mg de acetato de medroxiprogesterona?"
      ],
      "metadata": {
        "id": "5hdHJbiidSxV"
      }
    },
    {
      "cell_type": "code",
      "source": [
        "%%R\n",
        "amenhorrea %>% group_by(Dose) %>% summarise(n_150mg = n_distinct(ID)) %>% filter(Dose ==1)\n",
        "#amenhorrea %>% filter(Dose ==1) %>% distinct(ID) %>% dim()"
      ],
      "metadata": {
        "colab": {
          "base_uri": "https://localhost:8080/"
        },
        "id": "hEIg-LgtdXZ9",
        "outputId": "3fb678d2-ef2c-4864-c097-7e3ccf94bdc4"
      },
      "execution_count": null,
      "outputs": [
        {
          "output_type": "stream",
          "name": "stdout",
          "text": [
            "[1] 575   1\n"
          ]
        }
      ]
    },
    {
      "cell_type": "code",
      "source": [
        "%%R\n",
        "##### Solución 1\n",
        "print(sqldf(\"select count(distinct ID) as mujeres\n",
        "       from amenhorrea\n",
        "\t   where Dose=1\"))\n",
        "##### Solución 2\n",
        "print(amenhorrea %>% filter(Dose==1) %>% summarise(mujeres=n_distinct(ID)))\n",
        "##### Solución 3\n",
        "print(with(subset(amenhorrea,Dose==1),length(unique(ID))))"
      ],
      "metadata": {
        "colab": {
          "base_uri": "https://localhost:8080/"
        },
        "id": "cBcx6DwiIb5j",
        "outputId": "2afd8ae4-2817-4672-bf02-9bf4d7e5cbb4"
      },
      "execution_count": null,
      "outputs": [
        {
          "output_type": "stream",
          "name": "stdout",
          "text": [
            "  mujeres\n",
            "1     575\n",
            "# A tibble: 1 × 1\n",
            "  mujeres\n",
            "    <int>\n",
            "1     575\n",
            "[1] 575\n"
          ]
        }
      ]
    },
    {
      "cell_type": "markdown",
      "source": [
        "# 3. En el grupo tratado con 100 mg de acetato de medroxiprogesterona."
      ],
      "metadata": {
        "id": "46-9KTfveSXL"
      }
    },
    {
      "cell_type": "code",
      "source": [
        "%%R\n",
        "# 3.1 Cuantas mujeres tienen información completa (es decir, 0 valores perdidos) sobre la presencia o ausencia de amenorrea?\n",
        "grupo_100mg = amenhorrea %>% filter(Dose == 0 & !is.na(amenhorrea)) %>% \n",
        "              group_by(ID) %>% summarise(n = n_distinct(Time)) \n",
        "\n",
        "grupo_100mg %>% group_by(n) %>% summarise(n = n())"
      ],
      "metadata": {
        "colab": {
          "base_uri": "https://localhost:8080/"
        },
        "id": "K40sWaPOd6q8",
        "outputId": "61e52cf7-5974-4025-c63f-a171eeef454a"
      },
      "execution_count": null,
      "outputs": [
        {
          "output_type": "stream",
          "name": "stdout",
          "text": [
            "# A tibble: 4 × 1\n",
            "      n\n",
            "  <int>\n",
            "1    99\n",
            "2    68\n",
            "3    48\n",
            "4   361\n"
          ]
        }
      ]
    },
    {
      "cell_type": "code",
      "source": [
        "%%R\n",
        "amenhorrea <- within(amenhorrea,perdido <- ifelse(is.na(amenhorrea),1,0))\n",
        "\n",
        "##### Solución 1\n",
        "A3 <- sqldf(\"select ID, sum(perdido) as perdidos\n",
        "             from amenhorrea\n",
        "\t         where Dose=0\n",
        "\t         group by ID\")\n",
        "print(with(A3,table(perdidos)))\n",
        "\n",
        "##### Solución 2\n",
        "a3 <- amenhorrea %>%\n",
        "      filter(Dose==0) %>%\n",
        "\t  group_by(ID) %>%\n",
        "\t  summarise(perdidos=sum(perdido)) %>% as.data.frame()\n",
        "print(with(a3,table(perdidos)))\n",
        "\n",
        "##### Solución 3\n",
        "#Aa3 <- mytable(perdido ~ ID,data=amenhorrea,subset={Dose==0},cum=FALSE,percent = FALSE)\n",
        "#print(with(Aa3,table(Frequency)))\n",
        "\n",
        "##### Solución 4\n",
        "aA3 <- aggregate(perdido ~ ID,sum,data=subset(amenhorrea,Dose==0))\n",
        "print(with(aA3,table(perdido)))"
      ],
      "metadata": {
        "colab": {
          "base_uri": "https://localhost:8080/"
        },
        "id": "UYCctwQ2In2U",
        "outputId": "51744871-cbfb-487d-f42c-bea6613aad26"
      },
      "execution_count": null,
      "outputs": [
        {
          "output_type": "stream",
          "name": "stdout",
          "text": [
            "perdidos\n",
            "  0   1   2   3 \n",
            "361  48  68  99 \n",
            "perdidos\n",
            "  0   1   2   3 \n",
            "361  48  68  99 \n",
            "perdido\n",
            "  0   1   2   3 \n",
            "361  48  68  99 \n"
          ]
        }
      ]
    },
    {
      "cell_type": "markdown",
      "source": [
        "# 4. En el grupo de mujeres tratadas con 150 mg de acetato de medroxipro-gesterona y que no tienen valores faltantes sobre la presencia o ausencia de amenorrea."
      ],
      "metadata": {
        "id": "Ix6Lvub2hwxm"
      }
    },
    {
      "cell_type": "code",
      "source": [
        "%%R\n",
        "# Cuantas mujeres siempre presentaron amenorrea?\n",
        "grupo_150mg = amenhorrea %>% filter(Dose == 1, !is.na(amenhorrea)) %>% \n",
        "              group_by(ID) %>% summarise(prop = sum(amenhorrea)/n_distinct(Time)) %>%\n",
        "              group_by(prop) %>% summarise(n = n())\n",
        "\n",
        "filter(grupo_150mg, prop %in% c(0,1))"
      ],
      "metadata": {
        "colab": {
          "base_uri": "https://localhost:8080/"
        },
        "id": "x827zHX7huob",
        "outputId": "67560dc1-1fe5-43c9-81c3-709b973c65ed"
      },
      "execution_count": null,
      "outputs": [
        {
          "output_type": "stream",
          "name": "stdout",
          "text": [
            "# A tibble: 2 × 2\n",
            "   prop     n\n",
            "  <dbl> <int>\n",
            "1     0   237\n",
            "2     1    80\n"
          ]
        }
      ]
    },
    {
      "cell_type": "code",
      "source": [
        "%%R\n",
        "amenhorrea %>% filter(Dose == 1) %>% \n",
        "              group_by(ID) %>% summarise(prop = sum(amenhorrea)/n_distinct(Time)) %>%\n",
        "              group_by(prop) %>% summarise(n = n())%>% \n",
        "              filter(prop %in% c(0,1))              "
      ],
      "metadata": {
        "colab": {
          "base_uri": "https://localhost:8080/"
        },
        "id": "Xci9PRKmrpzH",
        "outputId": "ebff072f-024b-45f5-df1e-05aa6c248f2c"
      },
      "execution_count": null,
      "outputs": [
        {
          "output_type": "stream",
          "name": "stdout",
          "text": [
            "# A tibble: 2 × 2\n",
            "   prop     n\n",
            "  <dbl> <int>\n",
            "1     0   119\n",
            "2     1    28\n"
          ]
        }
      ]
    },
    {
      "cell_type": "code",
      "source": [
        "%%R\n",
        "##### Solución 2\n",
        "a4a <- amenhorrea %>%\n",
        "       filter(Dose==1) %>%\n",
        "\t   group_by(ID) %>%\n",
        "\t   summarise(perdidos=sum(perdido),mina=min(amenhorrea),maxa=max(amenhorrea)) %>%\n",
        "\t   filter(perdidos==0 & mina==1 & maxa==1) #%>% as.data.frame()\n",
        "print(nrow(a4a))\n",
        "a4b <- amenhorrea %>%\n",
        "       filter(Dose==1) %>%\n",
        "\t   group_by(ID) %>%\n",
        "\t   summarise(perdidos=sum(perdido),mina=min(amenhorrea),maxa=max(amenhorrea)) %>%\n",
        "\t   filter(perdidos==0 & mina==0 & maxa==0) %>% as.data.frame()\n",
        "print(nrow(a4b))"
      ],
      "metadata": {
        "colab": {
          "base_uri": "https://localhost:8080/"
        },
        "id": "nmWKzUKBJUyj",
        "outputId": "eb2f5fe5-b2e7-403c-d456-7c98c50ae0e8"
      },
      "execution_count": null,
      "outputs": [
        {
          "output_type": "stream",
          "name": "stdout",
          "text": [
            "[1] 28\n",
            "[1] 119\n"
          ]
        }
      ]
    },
    {
      "cell_type": "code",
      "source": [
        "%%R\n",
        "##### Solución 1\n",
        "A4a <- sqldf(\"select ID\n",
        "              from amenhorrea\n",
        "\t          where Dose=1\n",
        "\t          group by ID\n",
        "\t\t\t  having sum(perdido)=0 and min(amenhorrea)=1 and max(amenhorrea)=1\")\n",
        "print(nrow(A4a))\n",
        "A4b <- sqldf(\"select ID\n",
        "              from amenhorrea\n",
        "\t          where Dose=1\n",
        "\t          group by ID\n",
        "\t\t\t  having sum(perdido)=0 and min(amenhorrea)=0 and max(amenhorrea)=0\")\n",
        "print(nrow(A4b))"
      ],
      "metadata": {
        "colab": {
          "base_uri": "https://localhost:8080/"
        },
        "id": "nugirhyJI47w",
        "outputId": "7672975f-9e63-4922-9619-7498354192a8"
      },
      "execution_count": null,
      "outputs": [
        {
          "output_type": "stream",
          "name": "stdout",
          "text": [
            "[1] 28\n",
            "[1] 119\n"
          ]
        }
      ]
    },
    {
      "cell_type": "markdown",
      "source": [
        "# 5. La proporción de mujeres que presentaron amenorrea en el grupo tratado con 150 mg de acetato de medroxiprogesterona fue, a en cada punto del tiempo, menor que en el grupo tratado con 100 mg de este mismo medicamento?"
      ],
      "metadata": {
        "id": "ZqI11_yRiVvL"
      }
    },
    {
      "cell_type": "code",
      "source": [
        "%%R\n",
        "amenhorrea %>% group_by(Dose, Time) %>% summarise(prop = sum(amenhorrea, na.rm =T)/n())\n",
        "#amenhorrea %>% group_by(Dose, Time) %>% summarise(prop = cumsum(amenhorrea, na.rm =T)/n())"
      ],
      "metadata": {
        "colab": {
          "base_uri": "https://localhost:8080/"
        },
        "id": "p-O2e15hiaqk",
        "outputId": "acb6c14a-a352-430e-ca00-1eb4cbeb2ec1"
      },
      "execution_count": null,
      "outputs": [
        {
          "output_type": "stream",
          "name": "stdout",
          "text": [
            "`summarise()` has grouped output by 'Dose'. You can override using the\n",
            "`.groups` argument.\n",
            "# A tibble: 8 × 3\n",
            "# Groups:   Dose [2]\n",
            "   Dose  Time  prop\n",
            "  <dbl> <dbl> <dbl>\n",
            "1     0     0 0.186\n",
            "2     0     1 0.217\n",
            "3     0     2 0.276\n",
            "4     0     3 0.314\n",
            "5     1     0 0.205\n",
            "6     1     1 0.278\n",
            "7     1     2 0.334\n",
            "8     1     3 0.329\n"
          ]
        }
      ]
    },
    {
      "cell_type": "code",
      "source": [
        "%%R\n",
        "amenhorrea %>% filter(!is.na(amenhorrea)) %>% group_by(Dose, Time) %>% summarise(prop = sum(amenhorrea)/n())"
      ],
      "metadata": {
        "colab": {
          "base_uri": "https://localhost:8080/"
        },
        "id": "ZcstKn1qNPHI",
        "outputId": "6ada812d-1739-4ab2-8be8-015f9fdd7e9a"
      },
      "execution_count": null,
      "outputs": [
        {
          "output_type": "stream",
          "name": "stdout",
          "text": [
            "`summarise()` has grouped output by 'Dose'. You can override using the\n",
            "`.groups` argument.\n",
            "# A tibble: 8 × 3\n",
            "# Groups:   Dose [2]\n",
            "   Dose  Time  prop\n",
            "  <dbl> <dbl> <dbl>\n",
            "1     0     1 0.186\n",
            "2     0     2 0.262\n",
            "3     0     3 0.389\n",
            "4     0     4 0.501\n",
            "5     1     1 0.205\n",
            "6     1     2 0.336\n",
            "7     1     3 0.494\n",
            "8     1     4 0.535\n"
          ]
        }
      ]
    },
    {
      "cell_type": "code",
      "source": [
        "%%R\n",
        "##### Solución 1\n",
        "print(sqldf(\"select Dose, Time, avg(amenhorrea) as prop\n",
        "       from amenhorrea\n",
        "\t   group by Dose, Time\"))\n",
        "\n",
        "##### Solución 2\n",
        "print(amenhorrea %>%\n",
        "      group_by(Dose,Time) %>%\n",
        "      summarise(prop=mean(amenhorrea,na.rm=TRUE)) %>% as.data.frame())\n",
        "\n",
        "##### Solución 3\n",
        "print(aggregate(amenhorrea ~ Time+Dose,mean,data=amenhorrea,na.rm=TRUE))"
      ],
      "metadata": {
        "colab": {
          "base_uri": "https://localhost:8080/"
        },
        "id": "R3X3Onn9KB3D",
        "outputId": "a3813d9f-6ad1-43da-fbfe-0334936f371b"
      },
      "execution_count": null,
      "outputs": [
        {
          "output_type": "stream",
          "name": "stdout",
          "text": [
            "  Dose Time      prop\n",
            "1    0    0 0.1857639\n",
            "2    0    1 0.2620545\n",
            "3    0    2 0.3887531\n",
            "4    0    3 0.5013850\n",
            "5    1    0 0.2052174\n",
            "6    1    1 0.3361345\n",
            "7    1    2 0.4935733\n",
            "8    1    3 0.5354108\n",
            "`summarise()` has grouped output by 'Dose'. You can override using the\n",
            "`.groups` argument.\n",
            "  Dose Time      prop\n",
            "1    0    0 0.1857639\n",
            "2    0    1 0.2620545\n",
            "3    0    2 0.3887531\n",
            "4    0    3 0.5013850\n",
            "5    1    0 0.2052174\n",
            "6    1    1 0.3361345\n",
            "7    1    2 0.4935733\n",
            "8    1    3 0.5354108\n",
            "  Time Dose amenhorrea\n",
            "1    0    0  0.1857639\n",
            "2    1    0  0.2620545\n",
            "3    2    0  0.3887531\n",
            "4    3    0  0.5013850\n",
            "5    0    1  0.2052174\n",
            "6    1    1  0.3361345\n",
            "7    2    1  0.4935733\n",
            "8    3    1  0.5354108\n"
          ]
        }
      ]
    },
    {
      "cell_type": "markdown",
      "source": [
        "# 6. Los valores faltantes en las mediciones realizadas en cada mujer pueden darse en dos modalidades: Abandono o Intermitente. En la primera, la mujer tiene todos los datos faltantes a partir de la segunda, tercera o cuarta ocasión, inclusive, en la que se midió la presencia o ausencia de amenorrea. En la segunda modalidad, los valores faltantes se entremezclan con valores no faltantes."
      ],
      "metadata": {
        "id": "1iXE1OVDibN6"
      }
    },
    {
      "cell_type": "code",
      "source": [
        "%%R\n",
        "# Cuantas mujeres tienen datos faltantes en la modalidad de Abandono?\n",
        "mlgl = amenhorrea %>% filter(Time >0) %>% group_by(ID) %>% \n",
        "summarise(lgl = paste(is.na(amenhorrea), collapse = \",\")) \n",
        "mlgl %>% group_by(lgl) %>% summarise(n = n())"
      ],
      "metadata": {
        "colab": {
          "base_uri": "https://localhost:8080/"
        },
        "id": "MeKAfeqpigeq",
        "outputId": "be95e591-af89-4ad2-e53c-25dfbb010501"
      },
      "execution_count": null,
      "outputs": [
        {
          "output_type": "stream",
          "name": "stdout",
          "text": [
            "# A tibble: 4 × 2\n",
            "  lgl                   n\n",
            "  <chr>             <int>\n",
            "1 FALSE,FALSE,FALSE   714\n",
            "2 FALSE,FALSE,TRUE     84\n",
            "3 FALSE,TRUE,TRUE     155\n",
            "4 TRUE,TRUE,TRUE      198\n"
          ]
        }
      ]
    },
    {
      "cell_type": "code",
      "source": [
        "%%R\n",
        "# Cuantas mujeres tienen datos faltantes en la modalidad de Abandono?\n",
        "mlgl = amenhorrea %>% filter(Time >1) %>% group_by(ID) %>% \n",
        "summarise(lgl = paste(is.na(amenhorrea), collapse = \",\")) \n",
        "\n",
        "mlgl %>% group_by(lgl) %>% summarise(n = n())"
      ],
      "metadata": {
        "colab": {
          "base_uri": "https://localhost:8080/"
        },
        "id": "5jqZFXeINi36",
        "outputId": "86f50b47-4334-4589-cc08-fe4c81cc8565"
      },
      "execution_count": null,
      "outputs": [
        {
          "output_type": "stream",
          "name": "stdout",
          "text": [
            "# A tibble: 1 × 2\n",
            "  lgl       n\n",
            "  <chr> <int>\n",
            "1 2,3,4  1151\n"
          ]
        }
      ]
    },
    {
      "cell_type": "code",
      "source": [
        "%%R\n",
        "# Cuantas mujeres tienen datos faltantes en la modalidad Intermitente?\n",
        "#mlgl %>% filter(lgl == \"FALSE,FALSE,TRUE\") %>% head()\n",
        "#amenhorrea %>% filter(ID == 354)\n",
        "amenhorrea %>% filter(ID == 359)"
      ],
      "metadata": {
        "colab": {
          "base_uri": "https://localhost:8080/"
        },
        "id": "myxU0OEQlJf_",
        "outputId": "6715bcce-830b-4da3-8859-c54a44e42cf5"
      },
      "execution_count": null,
      "outputs": [
        {
          "output_type": "stream",
          "name": "stdout",
          "text": [
            "# A tibble: 4 × 4\n",
            "     ID  Dose  Time amenhorrea\n",
            "  <dbl> <dbl> <dbl>      <dbl>\n",
            "1   359     0     0          0\n",
            "2   359     0     1          0\n",
            "3   359     0     2          0\n",
            "4   359     0     3         NA\n"
          ]
        }
      ]
    },
    {
      "cell_type": "code",
      "source": [
        "%%R\n",
        "amenhorrea <- within(amenhorrea,Time <- Time + 1)\n",
        "\n",
        "##### Solución 1\n",
        "A6 <- sqldf(\"select ID\n",
        "             from amenhorrea\n",
        "\t\t\t where amenhorrea is NULL\n",
        "\t         group by ID\n",
        "\t         having sum(perdido)*(sum(perdido)+1)/2 = sum(perdido*Time)\")\n",
        "print(nrow(A6))\n",
        "print(1151 - 361 - nrow(A6))\n",
        "##### Solución 2\n",
        "a6 <- amenhorrea %>%\n",
        "      filter(is.na(amenhorrea)) %>%\n",
        "      group_by(ID) %>%\n",
        "\t  summarise(a=sum(perdido),b=sum(perdido*Time)) %>%\n",
        "\t  filter(a*(a+1)/2 == b) %>% as.data.frame()\n",
        "print(nrow(a6))\n",
        "print(1151 - 361 - nrow(a6))"
      ],
      "metadata": {
        "colab": {
          "base_uri": "https://localhost:8080/"
        },
        "id": "7Oy8M8vcKh6k",
        "outputId": "0573ce14-00b9-405a-99cc-7fdd31d8100f"
      },
      "execution_count": null,
      "outputs": [
        {
          "output_type": "stream",
          "name": "stdout",
          "text": [
            "[1] 0\n",
            "[1] 790\n",
            "[1] 0\n",
            "[1] 790\n"
          ]
        }
      ]
    },
    {
      "cell_type": "code",
      "source": [
        "%%R\n",
        "amenhorrea %>%\n",
        "      filter(is.na(amenhorrea)) %>%\n",
        "      group_by(ID) %>% \n",
        "\t  summarise(a=sum(perdido),b=sum(perdido*Time)) %>% nrow()"
      ],
      "metadata": {
        "colab": {
          "base_uri": "https://localhost:8080/"
        },
        "id": "tplD4sTAT8CF",
        "outputId": "5f649107-5e07-422e-996f-d1757e431871"
      },
      "execution_count": null,
      "outputs": [
        {
          "output_type": "stream",
          "name": "stdout",
          "text": [
            "[1] 437\n"
          ]
        }
      ]
    }
  ]
}