{
 "cells": [
  {
   "cell_type": "code",
   "execution_count": null,
   "metadata": {},
   "outputs": [],
   "source": [
    "\n",
    "\n",
    "options(repr.plot.width=12, repr.plot.height=8)\n",
    "options(jupyter.plot_mimetypes = c(\"text/plain\", \"image/png\" ))\n",
    "options(warn=-1)\n",
    "\n",
    "\n"
   ]
  },
  {
   "cell_type": "markdown",
   "metadata": {},
   "source": [
    "\n",
    "<p></p><h1 style=\"color:red;\"> <strong> <center>Introducción a R</center></strong> </h1>\n",
    "<p></p><h3><center><strong>Luis Hernando Vanegas (lhvanegasp@unal.edu.co)</strong></center></h3>\n",
    "<p></p><h3><center><strong>Luz Marina Rondón (lmrondonp@unal.edu.co)</strong></center></h3>\n",
    "<h4 style=\"color:blue;\"><center><strong>Universidad Nacional de Colombia</strong></center></h4>\n",
    "<h4 style=\"color:blue;\"><center><strong>Facultad de Ciencias</strong></center></h4>\n",
    "<h4 style=\"color:blue;\"><center><strong>Departamento de Estadística</strong></center></h4>\n"
   ]
  },
  {
   "cell_type": "markdown",
   "metadata": {},
   "source": [
    "\n",
    "<h1 style=\"color:red;\"> <strong><center> Personalizando el directorio de trabajo </center> </strong> </h1>\n"
   ]
  },
  {
   "cell_type": "code",
   "execution_count": null,
   "metadata": {},
   "outputs": [],
   "source": [
    "\n",
    "\n",
    "getwd()\n",
    "setwd(\"C:/Nano/Docencia/Curso\")\n",
    "getwd()\n",
    "\n",
    "\n"
   ]
  },
  {
   "cell_type": "markdown",
   "metadata": {},
   "source": [
    "\n",
    "<p></p><h1 style=\"color:red;\"> <strong> <center>Importación de datos </center></strong> </h1>\n",
    "<p></p><h2 style=\"color:blue;\"> <strong> <center>Libreria    readxl </center></strong> </h2>\n",
    "<h4> Archivos con extensiones xls y xlsx  </h4>\n"
   ]
  },
  {
   "cell_type": "code",
   "execution_count": null,
   "metadata": {},
   "outputs": [],
   "source": [
    "\n",
    "\n",
    "install.packages(\"readxl\")\n",
    "library(readxl)\n",
    "help(read_excel)\n",
    "\n",
    "\n"
   ]
  },
  {
   "cell_type": "markdown",
   "metadata": {},
   "source": [
    "\n",
    "<p></p><h4> <strong> Ejemplo 1 </strong> </h4>\n",
    "<p></p><p style=\"text-align: justify;\"> Se leen los datos disponibles en la hoja número 13 del libro de Excel\n",
    "<em>sample.xlsx</em>, localizado en la libreria de trabajo y cuya primera fila contiene los nombres de las variables.</p>\n"
   ]
  },
  {
   "cell_type": "code",
   "execution_count": null,
   "metadata": {},
   "outputs": [],
   "source": [
    "\n",
    "\n",
    "plantulas1 <- read_excel(\"sample.xlsx\",sheet=13,col_names=TRUE)\n",
    "str(plantulas1)\n",
    "\n",
    "\n"
   ]
  },
  {
   "cell_type": "markdown",
   "metadata": {},
   "source": [
    "\n",
    "<p></p><h4> <strong> Ejemplo 2 </strong> </h4>\n",
    "<p></p><p style=\"text-align: justify;\"> Se leen los datos disponibles en la hoja <em>Plantulas</em> del libro de Excel <em>sample.xlsx</em>, la cual corresponde a la hoja número 13 del libro.</p>\n"
   ]
  },
  {
   "cell_type": "code",
   "execution_count": null,
   "metadata": {},
   "outputs": [],
   "source": [
    "\n",
    "\n",
    "plantulas2 <- read_excel(\"sample.xlsx\",sheet=\"Plantulas\",col_names=TRUE)\n",
    "str(plantulas2)\n",
    "\n",
    "\n"
   ]
  },
  {
   "cell_type": "markdown",
   "metadata": {},
   "source": [
    "\n",
    "<p></p><h4> <strong> Ejemplo 3 </strong> </h4>\n",
    "<p></p><p style=\"text-align: justify;\"> Se leen los datos en las columnas \"A\" a la \"E\" de la hoja <em>Plantulas</em> del libro de Excel <em>sample.xlsx</em>.</p>\n"
   ]
  },
  {
   "cell_type": "code",
   "execution_count": null,
   "metadata": {},
   "outputs": [],
   "source": [
    "\n",
    "\n",
    "plantulas3 <- read_excel(\"sample.xlsx\",sheet=\"Plantulas\",col_names=TRUE,range=cell_cols(\"A:E\"))\n",
    "str(plantulas3)\n",
    "\n",
    "\n"
   ]
  },
  {
   "cell_type": "markdown",
   "metadata": {},
   "source": [
    "\n",
    "<p></p><h4> <strong> Ejemplo 4 </strong> </h4>\n",
    "<p></p><p style=\"text-align: justify;\"> Se leen los datos en las columnas \"A\" a la \"E\" de la hoja <em>Plantulas</em> del libro de Excel <em>sample.xlsx</em>.</p>\n"
   ]
  },
  {
   "cell_type": "code",
   "execution_count": null,
   "metadata": {},
   "outputs": [],
   "source": [
    "\n",
    "\n",
    "plantulas4 <- read_excel(\"sample.xlsx\",sheet=\"Plantulas\",col_names=TRUE,range=cell_cols(1:5))\n",
    "str(plantulas4)\n",
    "\n",
    "\n"
   ]
  },
  {
   "cell_type": "markdown",
   "metadata": {},
   "source": [
    "\n",
    "<p></p><h4> <strong> Ejemplo 5 </strong> </h4>\n",
    "<p></p><p style=\"text-align: justify;\"> Se leen los datos en las filas 2 a la 50 de la hoja <em>Plantulas</em> del libro de Excel <em>sample.xlsx</em>.</p>\n"
   ]
  },
  {
   "cell_type": "code",
   "execution_count": null,
   "metadata": {},
   "outputs": [],
   "source": [
    "\n",
    "\n",
    "plantulas5 <- read_excel(\"sample.xlsx\",sheet=\"Plantulas\",col_names=TRUE,range=cell_rows(1:50))\n",
    "str(plantulas5)\n",
    "\n",
    "\n"
   ]
  },
  {
   "cell_type": "markdown",
   "metadata": {},
   "source": [
    "\n",
    "<p></p><h4> <strong> Ejemplo 6 </strong> </h4>\n",
    "<p></p><p style=\"text-align: justify;\"> Se leen los datos en el rango \"A1:E50\" de la hoja <em>Plantulas</em> del libro de Excel <em>sample.xlsx</em>.</p>\n"
   ]
  },
  {
   "cell_type": "code",
   "execution_count": null,
   "metadata": {},
   "outputs": [],
   "source": [
    "\n",
    "\n",
    "plantulas6 <- read_excel(\"sample.xlsx\",sheet=\"Plantulas\",col_names=TRUE,range=\"A1:E50\")\n",
    "str(plantulas6)\n",
    "\n",
    "\n"
   ]
  },
  {
   "cell_type": "markdown",
   "metadata": {},
   "source": [
    "\n",
    "<p></p><h4> <strong> Ejemplo 7 </strong> </h4>\n",
    "<p></p><p style=\"text-align: justify;\"> Se leen solo las primeras 35 filas de datos en la hoja <em>Plantulas</em> del libro de Excel <em>sample.xlsx</em>.</p>\n"
   ]
  },
  {
   "cell_type": "code",
   "execution_count": null,
   "metadata": {},
   "outputs": [],
   "source": [
    "\n",
    "\n",
    "plantulas7 <- read_excel(\"sample.xlsx\",sheet=\"Plantulas\",col_names=TRUE,n_max=35)\n",
    "str(plantulas7)\n",
    "\n",
    "\n"
   ]
  },
  {
   "cell_type": "markdown",
   "metadata": {},
   "source": [
    "\n",
    "<p></p><h4> <strong> Ejemplo 8 </strong> </h4>\n",
    "<p></p><p style=\"text-align: justify;\"> Se leen los datos en la hoja <em>Plantulas</em> del libro de Excel <em>sample.xlsx</em> dándole nombres personalizados a las variables.</p>\n"
   ]
  },
  {
   "cell_type": "code",
   "execution_count": null,
   "metadata": {},
   "outputs": [],
   "source": [
    "\n",
    "\n",
    "plantulas8 <- read_excel(\"sample.xlsx\",sheet=\"Plantulas\",skip=1,\n",
    "                         col_names=c(\"IdParcela\",\"N_I\",\"IdPlantula\",\"N_i\",\"Altura\"))\n",
    "str(plantulas8)\n",
    "\n",
    "\n"
   ]
  },
  {
   "cell_type": "markdown",
   "metadata": {},
   "source": [
    "\n",
    "<p></p><h4> <strong> Ejemplo 9 </strong> </h4>\n",
    "<p></p><p style=\"text-align: justify;\"> Se leen los datos en la hoja <em>Plantulas</em> del libro de Excel <em>sample.xlsx</em>, dándole nombres personalizados a las variables y leyendo estas últimas con formato <em>text</em>, <em>numeric</em>, <em>text</em>, <em>numeric</em> y <em>numeric</em>, respectivamente.</p>\n"
   ]
  },
  {
   "cell_type": "code",
   "execution_count": null,
   "metadata": {},
   "outputs": [],
   "source": [
    "\n",
    "\n",
    "help(read_excel)\n",
    "plantulas9 <- read_excel(\"sample.xlsx\",sheet=\"Plantulas\",skip=1,\n",
    "                         col_names=c(\"IdParcela\",\"N_I\",\"IdPlantula\",\"N_i\",\"Altura\"),\n",
    "                         col_types=c(\"text\",\"numeric\",\"text\",\"numeric\",\"numeric\"))\n",
    "str(plantulas9)\n",
    "\n",
    "\n"
   ]
  },
  {
   "cell_type": "markdown",
   "metadata": {},
   "source": [
    "\n",
    "<p></p><h4> <strong> Ejemplo 10 </strong> </h4>\n",
    "<p></p><p style=\"text-align: justify;\"> Se leen los datos en la hoja <em>Plantulas</em> del libro de Excel <em>sample.xlsx</em>, dándole nombres personalizados a las variables y leyendo estas últimas con formato <em>text</em>, <em>skip</em>, <em>text</em>, <em>guess</em> y <em>numeric</em>, respectivamente. Por lo tanto, la segunda variable se excluye y el tipo de la cuarta variable se especifica a partir de una inspección de los datos.</p>\n"
   ]
  },
  {
   "cell_type": "code",
   "execution_count": null,
   "metadata": {},
   "outputs": [],
   "source": [
    "\n",
    "\n",
    "plantulas10 <- read_excel(\"sample.xlsx\",sheet=\"Plantulas\",skip=1,\n",
    "                          col_names=c(\"IdParcela\",\"IdPlantula\",\"N_i\",\"Altura\"),\n",
    "                          col_types=c(\"text\",\"skip\",\"text\",\"guess\",\"numeric\"))\n",
    "str(plantulas10)\n",
    "\n",
    "\n"
   ]
  },
  {
   "cell_type": "markdown",
   "metadata": {},
   "source": [
    "\n",
    "<p></p><h2 style=\"color:red;\"> <strong> <center>Libreria readr </center></strong> </h2>\n",
    "<h4> Archivos con extensiones txt, csv, tsv, dlm y dat </h4>\n"
   ]
  },
  {
   "cell_type": "code",
   "execution_count": null,
   "metadata": {},
   "outputs": [],
   "source": [
    "\n",
    "\n",
    "install.packages(\"readr\")\n",
    "library(readr)\n",
    "help(read_delim)\n",
    "\n",
    "\n"
   ]
  },
  {
   "cell_type": "markdown",
   "metadata": {},
   "source": [
    "\n",
    "<p></p><h4> <strong> Ejemplo 10 </strong> </h4>\n",
    "<p style=\"text-align: justify;\"> Se leen los datos en el archivo <em> stocks.dlm </em>, localizado en la libreria de trabajo y en el que los datos están separados por \" \" y la primera fila contiene los nombres de las variables.</p>\n"
   ]
  },
  {
   "cell_type": "code",
   "execution_count": null,
   "metadata": {},
   "outputs": [],
   "source": [
    "\n",
    "\n",
    "stocks1 <- read_delim(\"stocks.dlm\",delim=\" \",col_names=TRUE)\n",
    "str(stocks1)\n",
    "\n",
    "\n"
   ]
  },
  {
   "cell_type": "markdown",
   "metadata": {},
   "source": [
    "\n",
    "<p></p><h4> <strong> Ejemplo 11 </strong> </h4>\n",
    "<p style=\"text-align: justify;\"> Se leen los datos en el archivo <em> stocks.dlm </em> especificando que el separador decimal es \",\" y el separador de agrupamiento es \".\". </p>\n"
   ]
  },
  {
   "cell_type": "code",
   "execution_count": null,
   "metadata": {},
   "outputs": [],
   "source": [
    "\n",
    "\n",
    "stocks2 <- read_delim(\"stocks.dlm\",delim=\" \",col_names=TRUE,\n",
    "                     locale=locale(decimal_mark=\",\",grouping_mark=\".\"))\n",
    "str(stocks2)\n",
    "\n",
    "\n"
   ]
  },
  {
   "cell_type": "markdown",
   "metadata": {},
   "source": [
    "\n",
    "<p></p><h4> <strong> Ejemplo 12 </strong> </h4>\n",
    "<p style=\"text-align: justify;\"> Se leen los datos en el archivo <em> stocks.dlm </em> especificando el formato en el que se deben leer las variables.</p>\n"
   ]
  },
  {
   "cell_type": "code",
   "execution_count": null,
   "metadata": {},
   "outputs": [],
   "source": [
    "\n",
    "\n",
    "help(cols)\n",
    "stocks3 <- read_delim(\"stocks.dlm\",delim=\" \",col_names=TRUE,\n",
    "                     locale=locale(decimal_mark=\",\",grouping_mark=\".\"),\n",
    "                     col_types=cols(\"f\",\"D\",\"d\",\"d\",\"d\",\"d\",\"n\",\"d\"))\n",
    "str(stocks3)\n",
    "\n",
    "\n"
   ]
  },
  {
   "cell_type": "markdown",
   "metadata": {},
   "source": [
    "\n",
    "<p></p><h4> <strong> Ejemplo 13 </strong> </h4>\n",
    "<p style=\"text-align: justify;\"> Se leen los datos en el archivo <em> stocks.dlm </em> especificando el formato en el que se deben leer las variables. En particular, se especifica el formato como se debe leer la fecha de la que consta la variable número 2.</p>\n"
   ]
  },
  {
   "cell_type": "code",
   "execution_count": null,
   "metadata": {},
   "outputs": [],
   "source": [
    "\n",
    "\n",
    "help(strptime)\n",
    "stocks4 <- read_delim(\"stocks.dlm\",delim=\" \",col_names=TRUE,\n",
    "                     locale=locale(decimal_mark=\",\",grouping_mark=\".\"),\n",
    "                     col_types=cols(\"f\",col_date(\"%d%b%y\"),\"d\",\"d\",\"d\",\"d\",\"n\",\"d\"))\n",
    "str(stocks4)\n",
    "\n",
    "\n"
   ]
  },
  {
   "cell_type": "markdown",
   "metadata": {},
   "source": [
    "\n",
    "<p></p><h4> <strong> Ejemplo 14 </strong> </h4>\n",
    "<p style=\"text-align: justify;\"> Se leen los datos en el archivo <em> stocks.dlm </em> personalizando los nombres de las variables.</p>\n"
   ]
  },
  {
   "cell_type": "code",
   "execution_count": null,
   "metadata": {},
   "outputs": [],
   "source": [
    "\n",
    "\n",
    "stocks5 <- read_delim(\"stocks.dlm\",delim=\" \",\n",
    "                     locale=locale(decimal_mark=\",\",grouping_mark=\".\"),\n",
    "                     col_types=cols(\"f\",col_date(\"%d%b%y\"),\"d\",\"d\",\"d\",\"d\",\"n\",\"d\"),skip=1,\n",
    "                     col_names=c(\"Stock\",\"Date\",\"Open\",\"High\",\"Low\",\"Close\",\"Volume\",\"AdjClose\"))\n",
    "str(stocks5)\n",
    "\n",
    "\n"
   ]
  },
  {
   "cell_type": "markdown",
   "metadata": {},
   "source": [
    "\n",
    "<p></p><h4> <strong> Ejemplo 15 </strong> </h4>\n",
    "<p style=\"text-align: justify;\"> Se leen solo las primeras 500 filas de datos en el archivo <em> stocks.dlm </em>.</p>\n"
   ]
  },
  {
   "cell_type": "code",
   "execution_count": null,
   "metadata": {},
   "outputs": [],
   "source": [
    "\n",
    "\n",
    "stocks6 <- read_delim(\"stocks.dlm\",delim=\" \",n_max=500,\n",
    "                     locale=locale(decimal_mark=\",\",grouping_mark=\".\"),\n",
    "                     col_types=cols(\"f\",col_date(\"%d%b%y\"),\"d\",\"d\",\"d\",\"d\",\"n\",\"d\"),skip=1,\n",
    "                     col_names=c(\"Stock\",\"Date\",\"Open\",\"High\",\"Low\",\"Close\",\"Volume\",\"AdjClose\"))\n",
    "str(stocks6)\n",
    "\n",
    "\n"
   ]
  },
  {
   "cell_type": "markdown",
   "metadata": {},
   "source": [
    "\n",
    "<p></p><h4> <strong> Ejemplo 16 </strong> </h4>\n",
    "<p style=\"text-align: justify;\"> Se leen los datos en el archivo <em> stocks.dlm </em> especificando el formato en el que se deben leer las variables. El formato de la tercera variable se especifica a partir de la\n",
    "inspección de los datos, y las variables septima y octava se excluyen.</p>\n"
   ]
  },
  {
   "cell_type": "code",
   "execution_count": null,
   "metadata": {},
   "outputs": [],
   "source": [
    "\n",
    "\n",
    "stocks7 <- read_delim(\"stocks.dlm\",delim=\" \",\n",
    "                     locale=locale(decimal_mark=\",\",grouping_mark=\".\"),\n",
    "                     col_types=cols(\"f\",col_date(\"%d%b%y\"),\"?\",\"d\",\"d\",\"d\",\"-\",\"-\"),\n",
    "                     skip=1,col_names=c(\"Stock\",\"Date\",\"Open\",\"High\",\"Low\",\"Close\"))\n",
    "str(stocks7)\n",
    "\n",
    "\n"
   ]
  },
  {
   "cell_type": "markdown",
   "metadata": {},
   "source": [
    "\n",
    "<p></p><h4> <strong> Ejemplo 17 </strong> </h4>\n",
    "<p style=\"text-align: justify;\"> Solo se leen las variables que (originalmente) se llaman \"A\", \"B\", \"C\" y \"F\".</p>\n"
   ]
  },
  {
   "cell_type": "code",
   "execution_count": null,
   "metadata": {},
   "outputs": [],
   "source": [
    "\n",
    "\n",
    "stocks8 <- read_delim(\"stocks.dlm\",delim=\" \",col_names=TRUE,\n",
    "                     locale=locale(decimal_mark=\",\",grouping_mark = \".\"),\n",
    "                     col_types=cols_only(\"A\"=\"f\",\"B\"=col_date(\"%d%b%y\"),\"C\"=\"d\",\"F\"=\"d\"))\n",
    "str(stocks8)\n",
    "\n",
    "\n"
   ]
  },
  {
   "cell_type": "markdown",
   "metadata": {},
   "source": [
    "\n",
    "<p></p><h4> <strong> Ejemplo 18 </strong> </h4>\n",
    "<p style=\"text-align: justify;\"> Se leen los datos en el archivo <em> airrpm.txt</em>, localizado en la libreria de trabajo y en el que las cuatro variables disponibles (<em>Month</em>, <em>Available</em>, <em>Revenue</em> y <em>Unused</em>) tienen anchos fijos e iguales a 6, 15, 10 y 9, respectivamente.</p>\n"
   ]
  },
  {
   "cell_type": "code",
   "execution_count": null,
   "metadata": {},
   "outputs": [],
   "source": [
    "\n",
    "\n",
    "help(read_fwf)\n",
    "\n",
    "\n"
   ]
  },
  {
   "cell_type": "code",
   "execution_count": null,
   "metadata": {},
   "outputs": [],
   "source": [
    "\n",
    "\n",
    "airrpm1 <- read_fwf(\"airrpm.txt\",fwf_cols(Month=6,Available=15,Revenue=10,Unused=9))\n",
    "str(airrpm1)\n",
    "\n",
    "\n"
   ]
  },
  {
   "cell_type": "markdown",
   "metadata": {},
   "source": [
    "\n",
    "<p></p><h4> <strong> Ejemplo 19 </strong> </h4>\n",
    "<p style=\"text-align: justify;\"> Se leen los datos en el archivo <em> airrpm.txt</em> especificando que el separador decimal es \",\".</p>\n"
   ]
  },
  {
   "cell_type": "code",
   "execution_count": null,
   "metadata": {},
   "outputs": [],
   "source": [
    "\n",
    "\n",
    "airrpm2 <- read_fwf(\"airrpm.txt\",locale=locale(decimal_mark=\",\"),\n",
    "                   fwf_cols(Month=6,Available=15,Revenue=10,Unused=9))\n",
    "str(airrpm2)\n",
    "\n",
    "\n"
   ]
  },
  {
   "cell_type": "markdown",
   "metadata": {},
   "source": [
    "\n",
    "<p></p><h4> <strong> Ejemplo 20 </strong> </h4>\n",
    "<p style=\"text-align: justify;\"> Se leen los datos en el archivo <em> airrpm.txt</em> especificando el formato de las variables.</p>\n"
   ]
  },
  {
   "cell_type": "code",
   "execution_count": null,
   "metadata": {},
   "outputs": [],
   "source": [
    "\n",
    "\n",
    "help(cols)\n",
    "help(strptime)\n",
    "airrpm3 <- read_fwf(\"airrpm.txt\",locale=locale(decimal_mark=\",\"),\n",
    "                   fwf_cols(Month=6,Available=15,Revenue=10,Unused=9),\n",
    "                   col_types=cols(col_date(\"%b-%y\"),\"d\",\"d\",\"d\"))\n",
    "str(airrpm3)\n",
    "\n",
    "\n"
   ]
  },
  {
   "cell_type": "markdown",
   "metadata": {},
   "source": [
    "\n",
    "<p></p><h4> <strong> Ejemplo 21 </strong> </h4>\n",
    "<p style=\"text-align: justify;\"> Se leen solo las primeras 200 filas de las variables <em>Month</em> y <em>Revenue</em> en el archivo <em> airrpm.txt</em>.</p>\n"
   ]
  },
  {
   "cell_type": "code",
   "execution_count": null,
   "metadata": {},
   "outputs": [],
   "source": [
    "\n",
    "\n",
    "airrpm4 <- read_fwf(\"airrpm.txt\",locale=locale(decimal_mark=\",\"),\n",
    "                   n_max=200,fwf_cols(Month=6,Available=15,Revenue=10,Unused=9),\n",
    "                   col_types=cols_only(Month=col_date(\"%b-%y\"),Revenue=\"d\"))\n",
    "str(airrpm4)\n",
    "\n",
    "\n"
   ]
  },
  {
   "cell_type": "markdown",
   "metadata": {},
   "source": [
    "\n",
    "<p></p><h2 style=\"color:red;\"> Ejercicios</h2><p></p><h3 style=\"color:red;\"> English Premier League</h3><ul>\n",
    "<li><p style=\"text-align: justify;\"> Los archivos <strong>season-1415.xlsx</strong>, <strong>season-1516.xlsx</strong>, <strong>season-1617.xlsx</strong>, <strong>season-1718.xlsx</strong> y <strong>season-1819.xlsx</strong>\n",
    "contienen información sobre los resultados de las temporadas 14/15, 15/16, 16/17, 17/18 y 18/19, respectivamente, de la primera división del futbol inglés. Importe estos conjuntos de datos omitiendo las variables <em>FTR</em>, <em>HTHG</em>, <em>HTAG</em> y <em>HTR</em>.</p></li>\n",
    "<li><p style=\"text-align: justify;\"> Asigne nombres y tipos personalizados a las variables. Cuantos registros tiene cada conjunto de datos? </p></li>\n",
    "</ul>\n",
    "<p></p><h3 style=\"color:red;\"> IMDb (Internet Movie Database)</h3><ul>\n",
    "<li><p style=\"text-align: justify;\"> Importe los primeros 5000 registros de los conjunto de datos <strong>title.basics</strong>, <strong>title.principals</strong> y <strong>name.basics</strong>, los cuales están descritos <a href=\"https://www.imdb.com/interfaces/\" style=\"color:red;\"><strong> aquí </strong></a> y disponibles <a href=\"https://datasets.imdbws.com\" style=\"color:red;\"><strong> aquí</strong></a>. Hágalo sin descargar ni descomprimir los archivos, y omitiendo las variables <em>knownForTitles</em> and <em>ordering</em>.</p></li>\n",
    "<li><p style=\"text-align: justify;\"> Cuantas variables tienen los conjuntos de datos? De qué tipo son estas variables?</p></li>\n",
    "</ul>\n",
    "<p></p><h3 style=\"color:red;\"> Shows en Netflix</h3><ul>\n",
    "<li><p style=\"text-align: justify;\"> Importe todos los registros del conjunto de datos <strong>netflix_titles.csv</strong> disponible <a href=\"https://www.kaggle.com/shivamb/netflix-shows/version/5\" style=\"color:red;\"><strong> aquí</strong></a>. Tenga en cuenta que el conjunto de datos está delimitado por \",\".</p></li>\n",
    "<li><p style=\"text-align: justify;\"> Asigne nombres y tipos personalizados a las variables. Cuantos registros tiene el conjunto de datos? </p></li>\n",
    "</ul>\n"
   ]
  },
  {
   "cell_type": "markdown",
   "metadata": {},
   "source": [
    "\n",
    "<p></p><h1 style=\"color:red;\"> <strong> <center>Creación y modificación de variables </center></strong> </h1>\n",
    "<h2 style=\"color:blue;\"> <strong> <center>Libreria stringr </center></strong> </h2>\n"
   ]
  },
  {
   "cell_type": "code",
   "execution_count": null,
   "metadata": {},
   "outputs": [],
   "source": [
    "\n",
    "\n",
    "install.packages(\"stringr\")\n",
    "library(stringr)\n",
    "help(stringr)\n",
    "\n",
    "\n"
   ]
  },
  {
   "cell_type": "code",
   "execution_count": null,
   "metadata": {},
   "outputs": [],
   "source": [
    "\n",
    "\n",
    "Municipios <- read_excel(\"Municipios.xlsx\")\n",
    "str(Municipios)\n",
    "head(Municipios,n=10)\n",
    "tail(Municipios,n=10)\n",
    "\n",
    "\n"
   ]
  },
  {
   "cell_type": "markdown",
   "metadata": {},
   "source": [
    "\n",
    "<p style=\"text-align: justify;\"> <a href=\"https://stringr.tidyverse.org/articles/regular-expressions.html\" style=\"color:red;\"><strong> Expresiones Regulares</strong></a></p>\n"
   ]
  },
  {
   "cell_type": "markdown",
   "metadata": {},
   "source": [
    "\n",
    "<p></p><h4> <strong> Ejemplo 1 </strong> </h4>\n",
    "<p style=\"text-align: justify;\"> Se hace \"limpieza\" en los nombres de los municipios, es\n",
    "decir, </p><ul>\n",
    "<li>Se eliminan caracteres especiales</li>\n",
    "<li>Se eliminan espacios al inicio y al final</li>\n",
    "<li>Se reemplazan espacios múltiples por sencillos</li>\n",
    "<li>Se escriben en letras minúsculas excepto en la inicial de cada palabra</li>\n",
    "</ul>\n"
   ]
  },
  {
   "cell_type": "code",
   "execution_count": null,
   "metadata": {},
   "outputs": [],
   "source": [
    "\n",
    "\n",
    "Municipios <- within(Municipios,{\n",
    "                    Municipio2 <- str_to_lower(Municipio)\n",
    "                    Municipio2 <- str_replace_all(Municipio2,\"[^a-záéíóúüñ ]\",\"\")\n",
    "                    Municipio2 <- str_squish(Municipio2)\n",
    "                    Municipio2 <- str_to_title(Municipio2)\n",
    "                    })\n",
    "head(Municipios[,c(\"Municipio\",\"Municipio2\")],n=10)\n",
    "\n",
    "Municipios <- within(Municipios,{\n",
    "                    Municipio <- Municipio2\n",
    "                    rm(Municipio2)\n",
    "                    })\n",
    "\n",
    "\n"
   ]
  },
  {
   "cell_type": "markdown",
   "metadata": {},
   "source": [
    "\n",
    "<p></p><h4> <strong> Ejemplo 2 </strong> </h4>\n",
    "<p style=\"text-align: justify;\"> Se hace \"limpieza\" en los nombres de los departamentos, es\n",
    "decir, </p><ul>\n",
    "<li>Se eliminan caracteres especiales</li>\n",
    "<li>Se eliminan espacios al inicio y al final</li>\n",
    "<li>Se reemplazan espacios múltiples por sencillos</li>\n",
    "<li>Se escriben en letras minúsculas excepto en la inicial de cada palabra</li>\n",
    "</ul>\n"
   ]
  },
  {
   "cell_type": "code",
   "execution_count": null,
   "metadata": {},
   "outputs": [],
   "source": [
    "\n",
    "\n",
    "Municipios <- within(Municipios,{\n",
    "                    Departamento2 <- str_to_lower(Departamento)\n",
    "                    Departamento2 <- str_replace_all(Departamento2,\"[^a-záéíóúüñ ]\",\"\")\n",
    "                    Departamento2 <- str_squish(Departamento2)\n",
    "                    Departamento2 <- str_to_title(Departamento2)\n",
    "                    })\n",
    "head(Municipios[,c(\"Departamento\",\"Departamento2\")],n=10)\n",
    "\n",
    "Municipios <- within(Municipios,{\n",
    "                    Departamento <- Departamento2\n",
    "                    rm(Departamento2)\n",
    "                    })\n",
    "\n",
    "\n"
   ]
  },
  {
   "cell_type": "markdown",
   "metadata": {},
   "source": [
    "\n",
    "<p></p><h4> <strong> Ejemplo 3 </strong> </h4>\n",
    "<p style=\"text-align: justify;\"> Se hace \"limpieza\" en los nombres de las regiones, es\n",
    "decir, </p><ul>\n",
    "<li>Se eliminan caracteres especiales</li>\n",
    "<li>Se eliminan espacios al inicio y al final</li>\n",
    "<li>Se reemplazan espacios múltiples por sencillos</li>\n",
    "<li>Se escriben en letras minúsculas excepto en la inicial de cada palabra</li>\n",
    "</ul>\n"
   ]
  },
  {
   "cell_type": "code",
   "execution_count": null,
   "metadata": {},
   "outputs": [],
   "source": [
    "\n",
    "\n",
    "Municipios <- within(Municipios,{\n",
    "                    Region2 <- str_to_lower(Region)\n",
    "                    Region2 <- str_replace_all(Region2,\"[^a-záéíóúüñ ]\",\"\")\n",
    "                    Region2 <- str_squish(Region2)\n",
    "                    Region2 <- str_to_title(Region2)\n",
    "                    })\n",
    "head(Municipios[,c(\"Region\",\"Region2\")],n=10)\n",
    "\n",
    "Municipios <- within(Municipios,{\n",
    "                    Region <- Region2\n",
    "                    rm(Region2)\n",
    "                    })\n",
    "\n",
    "\n"
   ]
  },
  {
   "cell_type": "markdown",
   "metadata": {},
   "source": [
    "\n",
    "<p></p><h4> <strong> Ejemplo 4 </strong> </h4>\n",
    "<p style=\"text-align: justify;\"> Se crea la variable <em>Tipo</em> igual a \"Capital\" para la capital de\n",
    "cada departamento y \"Otro\" para el resto de los municipios.</p>\n"
   ]
  },
  {
   "cell_type": "code",
   "execution_count": null,
   "metadata": {},
   "outputs": [],
   "source": [
    "\n",
    "\n",
    "Municipios <- within(Municipios,{\n",
    "                    Tipo <- ifelse(str_sub(Depmun,3,5)==\"001\",\"Capital\",\"Otro\")\n",
    "                    Tipo2 <- ifelse(str_c(Dep,\"001\")==Depmun,\"Capital\",\"Otro\")\n",
    "                    if(all(Tipo==Tipo2)) rm(Tipo2)\n",
    "                    Tipo <- ifelse(Depmun==\"25001\",\"Otro\",Tipo)\n",
    "                    })\n",
    "\n",
    "head(Municipios[,c(\"Depmun\",\"Tipo\")],n=10)\n",
    "tail(Municipios[,c(\"Depmun\",\"Tipo\")],n=10)\n",
    "\n",
    "\n"
   ]
  },
  {
   "cell_type": "markdown",
   "metadata": {},
   "source": [
    "\n",
    "<p></p><h4> <strong> Ejemplo 5 </strong> </h4>\n",
    "<p style=\"text-align: justify;\"> Se crea la variable <em>denspobl</em> definida como el cociente\n",
    "    entre <em> Poblacion </em> y <em> Superficie</em>. Se crea también la variable <em> Zona </em> igual\n",
    "    a \"Urbano\" cuando <em>Irural</em> $ &lt;= 40$ y \"Rural\" cuando <em>Irural</em> $ &gt; 40$. </p>\n"
   ]
  },
  {
   "cell_type": "code",
   "execution_count": null,
   "metadata": {},
   "outputs": [],
   "source": [
    "\n",
    "\n",
    "Municipios <- within(Municipios,{\n",
    "              denspobl <- Poblacion/Superficie\n",
    "              Zona <- ifelse(Irural <= 40,\"Urbano\",\"Rural\")\n",
    "              })\n",
    "\n",
    "with(Municipios,summary(denspobl))\n",
    "with(Municipios,table(Zona))\n",
    "\n",
    "\n"
   ]
  },
  {
   "cell_type": "markdown",
   "metadata": {},
   "source": [
    "\n",
    "<p></p><h4> <strong> Ejemplo 6 </strong> </h4>\n",
    "<p style=\"text-align: justify;\"> Conjunto de datos con las variables <em>Departamento</em>, <em>Depmun</em>\n",
    "y <em>Municipio</em> y con todos los municipios cuyo nombre incluye el nombre de un santo, por ejemplo, Santa Marta, \n",
    "Santo Tomás, San José, Valle de San Jacinto. </p>\n"
   ]
  },
  {
   "cell_type": "code",
   "execution_count": null,
   "metadata": {},
   "outputs": [],
   "source": [
    "\n",
    "\n",
    "help(subset)\n",
    "Santos <- subset(Municipios,str_detect(Municipio,\"(^| )San( |ta |to )\"),\n",
    "                 select=c(Departamento,Depmun,Municipio))\n",
    "\n",
    "str(Santos)\n",
    "head(Santos,n=10)\n",
    "tail(Santos,n=10)\n",
    "\n",
    "\n"
   ]
  },
  {
   "cell_type": "markdown",
   "metadata": {},
   "source": [
    "\n",
    "<p></p><h4> <strong> Ejemplo 7 </strong> </h4>\n",
    "<p style=\"text-align: justify;\"> Conjunto de datos con todas las variables excepto <em>Region</em>, <em>Irural</em>, <em>Poblacion</em> y <em>Superficie</em>, y con todos los municipios cuyo nombre incluye el nombre de un santo o una santa. </p>\n"
   ]
  },
  {
   "cell_type": "code",
   "execution_count": null,
   "metadata": {},
   "outputs": [],
   "source": [
    "\n",
    "\n",
    "Santos2 <- subset(Municipios,str_detect(Municipio,\"(^| )San( |ta |to )\"),\n",
    "                  select=-c(Region,Irural,Poblacion,Superficie))\n",
    "\n",
    "str(Santos2)\n",
    "head(Santos2,n=10)\n",
    "tail(Santos2,n=10)\n",
    "\n",
    "\n"
   ]
  },
  {
   "cell_type": "markdown",
   "metadata": {},
   "source": [
    "\n",
    "<p></p><h4> <strong> Ejemplo 8 </strong> </h4>\n",
    "<p style=\"text-align: justify;\"> Conjunto de datos con las variables <em>Dep</em>, <em>Departamento</em>, <em>Depmun</em> y <em>Municipio</em>, y con todos los municipios cuyos nombres inician y terminan con la misma vocal. </p>\n"
   ]
  },
  {
   "cell_type": "code",
   "execution_count": null,
   "metadata": {},
   "outputs": [],
   "source": [
    "\n",
    "\n",
    "vocales <- subset(Municipios,\n",
    "           str_detect(chartr(\"áéíóú\",\"aeiou\",str_to_lower(Municipio)),\"^a.*a$|^e.*e$|^i.*i$|^o.*o$|^u.*u$\"),\n",
    "           select=c(Dep,Departamento,Depmun,Municipio))\n",
    "str(vocales)\n",
    "head(vocales,n=10)\n",
    "tail(vocales,n=10)\n",
    "\n",
    "\n"
   ]
  },
  {
   "cell_type": "markdown",
   "metadata": {},
   "source": [
    "\n",
    "<p></p><h4> <strong> Ejemplo 9 </strong> </h4>\n",
    "<p style=\"text-align: justify;\"> Conjunto de datos con las variables <em>Dep</em>, <em>Departamento</em>, <em>Depmun</em> y <em>Municipio</em>, y con todos los municipios cuyos\n",
    "nombres inician y terminan con la misma consonante. </p>\n"
   ]
  },
  {
   "cell_type": "code",
   "execution_count": null,
   "metadata": {},
   "outputs": [],
   "source": [
    "\n",
    "\n",
    "consonantes <- subset(Municipios,str_sub(str_to_lower(Municipio),1,1)==str_sub(Municipio,-1,-1) & \n",
    "                                 str_detect(Municipio,\"a$|e$|i$|o$|u$\",negate=TRUE),\n",
    "                                 select=c(Dep,Departamento,Depmun,Municipio))\n",
    "str(consonantes)\n",
    "head(consonantes,n=10)\n",
    "tail(consonantes,n=10)\n",
    "\n",
    "\n"
   ]
  },
  {
   "cell_type": "markdown",
   "metadata": {},
   "source": [
    "\n",
    "<p></p><h4> <strong> Ejemplo 10 </strong> </h4>\n",
    "<p style=\"text-align: justify;\"> Conjunto de datos con todas las variables excepto <em>Poblacion</em>, <em>Superficie</em> y <em>Irural</em>, y con todos los municipios cuyos nombres tienen \"A\" como primera letra y \"e\" como cuarta letra.</p>\n"
   ]
  },
  {
   "cell_type": "code",
   "execution_count": null,
   "metadata": {},
   "outputs": [],
   "source": [
    "\n",
    "\n",
    "Aes <- subset(Municipios,str_detect(Municipio,\"^A..e.*\"),\n",
    "                         select=-c(Poblacion,Superficie,Irural))\n",
    "\n",
    "str(Aes)\n",
    "head(Aes,n=10)\n",
    "tail(Aes,n=10)\n",
    "\n",
    "\n"
   ]
  },
  {
   "cell_type": "markdown",
   "metadata": {},
   "source": [
    "\n",
    "<p></p><h4> <strong> Ejemplo 11 </strong> </h4>\n",
    "<p style=\"text-align: justify;\"> Conjunto de datos con las variables <em>Departamento</em>, <em>Depmun</em>\n",
    "y <em>Municipio</em>, y con el 1% de municipios con los nombres más largos. </p>\n"
   ]
  },
  {
   "cell_type": "code",
   "execution_count": null,
   "metadata": {},
   "outputs": [],
   "source": [
    "\n",
    "\n",
    "Largos <- subset(Municipios,str_length(Municipio) >= quantile(str_length(Municipio),0.99),\n",
    "                            select=c(Departamento,Depmun,Municipio))\n",
    "\n",
    "str(Largos)\n",
    "head(Largos)\n",
    "tail(Largos)\n",
    "\n",
    "\n"
   ]
  },
  {
   "cell_type": "markdown",
   "metadata": {},
   "source": [
    "\n",
    "<p></p><h4> <strong> Ejemplo 12 </strong> </h4>\n",
    "<p style=\"text-align: justify;\"> Conjunto de datos con las variables <em>Departamento</em>, <em>Depmun</em> y <em>Municipio</em>, y con el 1% de municipios con los nombres más cortos. </p>\n"
   ]
  },
  {
   "cell_type": "code",
   "execution_count": null,
   "metadata": {},
   "outputs": [],
   "source": [
    "\n",
    "\n",
    "Cortos <- subset(Municipios,str_length(Municipio) <= quantile(str_length(Municipio),0.01),\n",
    "                            select=c(Departamento,Depmun,Municipio))\n",
    "\n",
    "str(Cortos)\n",
    "head(Cortos)\n",
    "tail(Cortos)\n",
    "\n",
    "\n"
   ]
  },
  {
   "cell_type": "markdown",
   "metadata": {},
   "source": [
    "\n",
    "<p></p><h4> <strong> Ejemplo 13 </strong> </h4>\n",
    "<p style=\"text-align: justify;\"> Cuantos municipios tienen nombres que constan de 1, 2, 3,\n",
    "4, 5, ... vocales? </p>\n"
   ]
  },
  {
   "cell_type": "code",
   "execution_count": null,
   "metadata": {},
   "outputs": [],
   "source": [
    "\n",
    "\n",
    "vocales <- with(Municipios,str_count(str_to_lower(Municipio),\"[aeiouáéíóúü]\"))\n",
    "table(vocales)\n",
    "\n",
    "\n"
   ]
  },
  {
   "cell_type": "markdown",
   "metadata": {},
   "source": [
    "\n",
    "<p></p><h4> <strong> Ejemplo 14 </strong> </h4>\n",
    "<p style=\"text-align: justify;\"> Cuantos municipios tienen nombres que constan de 0, 1, 2,\n",
    "3, 4, 5,... palabras?. </p>\n"
   ]
  },
  {
   "cell_type": "code",
   "execution_count": null,
   "metadata": {},
   "outputs": [],
   "source": [
    "\n",
    "\n",
    "palabras <- with(Municipios,str_count(Municipio,\" \") + 1)\n",
    "table(palabras)\n",
    "\n",
    "\n"
   ]
  },
  {
   "cell_type": "markdown",
   "metadata": {},
   "source": [
    "\n",
    "<p></p><h4> <strong> Ejemplo 15 </strong> </h4>\n",
    "<p style=\"text-align: justify;\"> Cuales municipios tienen nombres que constan de más de 4 palabras? </p>\n"
   ]
  },
  {
   "cell_type": "code",
   "execution_count": null,
   "metadata": {},
   "outputs": [],
   "source": [
    "\n",
    "\n",
    "Mas4 <- subset(Municipios,str_count(Municipio,\" \") > 5)\n",
    "Mas4\n",
    "\n",
    "\n"
   ]
  },
  {
   "cell_type": "markdown",
   "metadata": {},
   "source": [
    "\n",
    "<h1 style=\"color:red;\"> <strong> <center> Estadísticas descriptivas </center></strong> </h1>\n"
   ]
  },
  {
   "cell_type": "markdown",
   "metadata": {},
   "source": [
    "\n",
    "<p></p><h4> <strong> Ejemplo 1 </strong> </h4>\n",
    "<p style=\"text-align: justify;\"> Cuales variables del conjunto de datos <em>Municipios</em> tienen\n",
    "valores perdidos o missings? Y del conjunto de datos <em>airquality</em>? </p>\n"
   ]
  },
  {
   "cell_type": "code",
   "execution_count": null,
   "metadata": {},
   "outputs": [],
   "source": [
    "\n",
    "\n",
    "missings <- function(x) return(sum(is.na(x)))\n",
    "apply(Municipios,2,missings)\n",
    "apply(airquality,2,missings)\n",
    "\n",
    "\n"
   ]
  },
  {
   "cell_type": "markdown",
   "metadata": {},
   "source": [
    "\n",
    "<p></p><h4> <strong> Ejemplo 2 </strong> </h4>\n",
    "<p style=\"text-align: justify;\"> Cuantas filas del conjunto de datos Municipios tienen 0,\n",
    "1, 2, 3, 4, 5,... valores perdidos o missings? Y en el conjunto de datos\n",
    "airquality ? </p>\n"
   ]
  },
  {
   "cell_type": "code",
   "execution_count": null,
   "metadata": {},
   "outputs": [],
   "source": [
    "\n",
    "\n",
    "table(apply(Municipios,1,missings))\n",
    "table(apply(airquality,1,missings))\n",
    "\n",
    "\n"
   ]
  },
  {
   "cell_type": "markdown",
   "metadata": {},
   "source": [
    "\n",
    "<p></p><h4> <strong> Ejemplo 3 </strong> </h4>\n",
    "<p style=\"text-align: justify;\"> Conjunto de datos con las filas de <em>airquality</em> con valores perdidos en la variable <em>Ozone</em> </p>\n"
   ]
  },
  {
   "cell_type": "code",
   "execution_count": null,
   "metadata": {},
   "outputs": [],
   "source": [
    "\n",
    "\n",
    "perdidos <- subset(airquality, is.na(Ozone))\n",
    "\n",
    "str(perdidos)\n",
    "head(perdidos,n=10)\n",
    "tail(perdidos,n=10)\n",
    "\n",
    "\n"
   ]
  },
  {
   "cell_type": "markdown",
   "metadata": {},
   "source": [
    "\n",
    "<p></p><h4> <strong> Ejemplo 4 </strong> </h4>\n",
    "<p style=\"text-align: justify;\"> Cálculo de algunas estadísticas descriptivas para las variables\n",
    "<em> Poblacion</em>, <em> Superficie</em>, <em> denspobl </em> y <em> Irural </em> del conjunto de datos <em> Municipios</em>.</p>\n"
   ]
  },
  {
   "cell_type": "code",
   "execution_count": null,
   "metadata": {},
   "outputs": [],
   "source": [
    "\n",
    "\n",
    "summ <- function(x){\n",
    " x2 <- na.omit(x)\n",
    " y <- c(mean(x2),median(x2),sd(x2),sd(x2)/mean(x2),length(boxplot.stats(x2)$out),sum(is.na(x)))\n",
    " names(y) <- c(\"Mean\",\"Median\",\"Std.Dev\",\"Coef.Var\",\"Outliers\",\"Missings\")\n",
    " return(round(y,digits=2))\n",
    "}\n",
    "\n",
    "apply(Municipios[,c(\"Poblacion\",\"Superficie\",\"denspobl\",\"Irural\")],2,summ)\n",
    "\n",
    "\n"
   ]
  },
  {
   "cell_type": "markdown",
   "metadata": {},
   "source": [
    "\n",
    "<p></p><h4> <strong> Ejemplo 5 </strong> </h4>\n",
    "<p style=\"text-align: justify;\"> Cálculo de algunas estadísticas descriptivas para las variables\n",
    "<em> Departamento</em>, <em> Depmun</em>, <em> Municipio </em> y <em> Region </em> del conjunto de datos <em> Municipios</em>.</p>\n"
   ]
  },
  {
   "cell_type": "code",
   "execution_count": null,
   "metadata": {},
   "outputs": [],
   "source": [
    "\n",
    "\n",
    "summ2 <- function(x){\n",
    " x2 <- na.omit(x)   \n",
    " y <- c(length(unique(x2)),sum(is.na(x)))\n",
    " names(y) <- c(\"Levels\",\"Missings\")\n",
    " return(round(y,digits=2))\n",
    "}\n",
    "\n",
    "apply(Municipios[,c(\"Departamento\",\"Depmun\",\"Municipio\",\"Region\")],2,summ2)\n",
    "\n",
    "\n"
   ]
  },
  {
   "cell_type": "markdown",
   "metadata": {},
   "source": [
    "\n",
    "<p></p><h4> <strong> Ejemplo 6 </strong> </h4>\n",
    "<p style=\"text-align: justify;\"> Conjunto de datos <em> Municipios2 </em> creado como una copia\n",
    "del conjunto de datos <em> Municipios </em> en la que las variables <em> Poblacion</em>,\n",
    "<em> Superficie </em> y <em> Irural </em> se reemplazan por sus versiones estandarizadas,\n",
    "es decir, se les resta su media y se les divide por su desviación estándar. </p>\n"
   ]
  },
  {
   "cell_type": "code",
   "execution_count": null,
   "metadata": {},
   "outputs": [],
   "source": [
    "\n",
    "\n",
    "stdize <- function(x) (x-mean(x,na.rm=TRUE))/sd(x,na.rm=TRUE)\n",
    "Municipios2 <- Municipios\n",
    "vars <- c(\"Poblacion\",\"Superficie\",\"Irural\")\n",
    "\n",
    "Municipios2[,vars] <- apply(Municipios[,vars],2,stdize)\n",
    "str(Municipios2)\n",
    "apply(Municipios2[,vars],2,summary)\n",
    "\n",
    "\n"
   ]
  },
  {
   "cell_type": "markdown",
   "metadata": {},
   "source": [
    "\n",
    "<p></p><h4> <strong> Ejemplo 7 </strong> </h4>\n",
    "<p style=\"text-align: justify;\"> Eliminando municipios con missings. </p>\n"
   ]
  },
  {
   "cell_type": "code",
   "execution_count": null,
   "metadata": {},
   "outputs": [],
   "source": [
    "\n",
    "\n",
    "Municipios <- as.data.frame(na.omit(Municipios))\n",
    "apply(Municipios,2,missings)\n",
    "\n",
    "\n"
   ]
  },
  {
   "cell_type": "markdown",
   "metadata": {},
   "source": [
    "\n",
    "<p></p><h4> <strong> Ejemplo 8 </strong> </h4>\n",
    "<p style=\"text-align: justify;\"> Guardando el conjunto de datos Municipios con todas las modificaciones que se le han realizado en el directorio de trabajo. </p>\n"
   ]
  },
  {
   "cell_type": "markdown",
   "metadata": {},
   "source": [
    "\n",
    "<h4> <strong> R Data File </strong> </h4>\n"
   ]
  },
  {
   "cell_type": "code",
   "execution_count": null,
   "metadata": {},
   "outputs": [],
   "source": [
    "\n",
    "\n",
    "saveRDS(Municipios, file=\"Municipios.RDS\")\n",
    "\n",
    "\n"
   ]
  },
  {
   "cell_type": "markdown",
   "metadata": {},
   "source": [
    "\n",
    "<h4> <strong> csv (Comma Separated Values) </strong> </h4>\n"
   ]
  },
  {
   "cell_type": "code",
   "execution_count": null,
   "metadata": {},
   "outputs": [],
   "source": [
    "\n",
    "\n",
    "write_csv(Municipios, \"Municipios.csv\")\n",
    "\n",
    "\n"
   ]
  },
  {
   "cell_type": "markdown",
   "metadata": {},
   "source": [
    "\n",
    "<h4> <strong> tsv (Tabular Separated Values) </strong> </h4>\n"
   ]
  },
  {
   "cell_type": "code",
   "execution_count": null,
   "metadata": {},
   "outputs": [],
   "source": [
    "\n",
    "\n",
    "write_tsv(Municipios, \"Municipios.tsv\")\n",
    "\n",
    "\n"
   ]
  },
  {
   "cell_type": "markdown",
   "metadata": {},
   "source": [
    "\n",
    "<h4> <strong> Text File </strong> </h4>\n"
   ]
  },
  {
   "cell_type": "code",
   "execution_count": null,
   "metadata": {},
   "outputs": [],
   "source": [
    "\n",
    "\n",
    "write_delim(Municipios, \"Municipios.txt\", delim=\"@\")\n",
    "\n",
    "\n"
   ]
  },
  {
   "cell_type": "markdown",
   "metadata": {},
   "source": [
    "\n",
    "<h1 style=\"color:red;\"> <strong> <center>Tablas de frecuencia </center></strong> </h1>\n"
   ]
  },
  {
   "cell_type": "code",
   "execution_count": null,
   "metadata": {},
   "outputs": [],
   "source": [
    "\n",
    "\n",
    "install.packages(\"dplyr\")\n",
    "library(dplyr)\n",
    "source(\"mismacros.txt\")\n",
    "\n",
    "\n"
   ]
  },
  {
   "cell_type": "markdown",
   "metadata": {},
   "source": [
    "\n",
    "<p></p><h4> <strong> Ejemplo 1 </strong> </h4>\n",
    "<p style=\"text-align: justify;\"> Qué porcentaje del total representan los municipios del\n",
    "departamento de Norte de Santander? Cuantos municipios tiene el departamento\n",
    "del Valle del Cauca? Cuales son los cinco departamentos\n",
    "con mayor número de municipios? Qué porcentaje del total representan\n",
    "los municipios de estos cinco departamentos? Qué porcentaje de\n",
    "los municipios son rurales? </p>\n"
   ]
  },
  {
   "cell_type": "code",
   "execution_count": null,
   "metadata": {},
   "outputs": [],
   "source": [
    "\n",
    "\n",
    "mytable(~ Departamento,data=Municipios,ord=\"freq\")\n",
    "\n",
    "mytable(~ Zona,data=Municipios,cum=FALSE)\n",
    "\n",
    "\n"
   ]
  },
  {
   "cell_type": "markdown",
   "metadata": {},
   "source": [
    "\n",
    "<p></p><h4> <strong> Ejemplo 2 </strong> </h4>\n",
    "<p style=\"text-align: justify;\"> Qué porcentaje de la población habita en el departamento\n",
    "del Meta? Cuantos habitantes tiene el departamento del Putumayo?\n",
    "Cuales son los cuatro departamentos con mayor número de habitantes?\n",
    "Qué porcentaje de la población habita en estos cuatro departamentos?\n",
    "Qué porcentaje de la población habita en municipios rurales? </p>\n"
   ]
  },
  {
   "cell_type": "code",
   "execution_count": null,
   "metadata": {},
   "outputs": [],
   "source": [
    "\n",
    "\n",
    "mytable(Poblacion ~ Departamento,data=Municipios,ord=\"freq\")\n",
    "\n",
    "mytable(Poblacion ~ Zona,data=Municipios,cum=FALSE)\n",
    "\n",
    "\n"
   ]
  },
  {
   "cell_type": "markdown",
   "metadata": {},
   "source": [
    "\n",
    "<p></p><h4> <strong> Ejemplo 3 </strong> </h4>\n",
    "<p style=\"text-align: justify;\"> Cuales son los cinco municipios más/menos poblados del\n",
    "departamento de Bolívar? Qué porcentaje representan estos municipios\n",
    "del total de la población en el departamento? Qué porcentaje de\n",
    "la población del departamento habita en municipios rurales? </p>\n"
   ]
  },
  {
   "cell_type": "code",
   "execution_count": null,
   "metadata": {},
   "outputs": [],
   "source": [
    "\n",
    "\n",
    "mytable(Poblacion ~ Municipio,data=Municipios,subset=c(Dep==\"13\"),ord=\"freq\")\n",
    "\n",
    "mytable(Poblacion ~ Municipio,data=Municipios,subset=c(Dep==\"13\"),ord=\"-freq\")\n",
    "\n",
    "mytable(Poblacion ~ Zona,data=Municipios,subset=c(Dep==\"13\"),cum=FALSE)\n",
    "\n",
    "\n"
   ]
  },
  {
   "cell_type": "markdown",
   "metadata": {},
   "source": [
    "\n",
    "<p></p><h4> <strong> Ejemplo 4 </strong> </h4>\n",
    "<p style=\"text-align: justify;\"> Qué porcentaje de la superficie total de Colombia representa\n",
    "el departamento del Chocó? Cual es la superficie del departamento\n",
    "de Córdoba? Cuales son los cinco departamentos con\n",
    "mayor/menor superficie? Qué porcentaje representan estos cinco departamentos\n",
    "de la superficie total de Colombia? </p>\n"
   ]
  },
  {
   "cell_type": "code",
   "execution_count": null,
   "metadata": {},
   "outputs": [],
   "source": [
    "\n",
    "\n",
    "mytable(Superficie ~ Departamento,data=Municipios,ord=\"freq\")\n",
    "\n",
    "mytable(Superficie ~ Departamento,data=Municipios,ord=\"-freq\")\n",
    "\n",
    "\n"
   ]
  },
  {
   "cell_type": "markdown",
   "metadata": {},
   "source": [
    "\n",
    "<p></p><h4> <strong> Ejemplo 5 </strong> </h4>\n",
    "<p style=\"text-align: justify;\"> Qué porcentaje de los municipios del departamento de\n",
    "La Guajira son rurales? Qué porcentaje de los municipios rurales están\n",
    "en el departamento de Vaupés? </p>\n"
   ]
  },
  {
   "cell_type": "code",
   "execution_count": null,
   "metadata": {},
   "outputs": [],
   "source": [
    "\n",
    "\n",
    "mytable(~ Departamento*Zona,data=Municipios,ord=\"freq\")\n",
    "\n",
    "\n"
   ]
  },
  {
   "cell_type": "markdown",
   "metadata": {},
   "source": [
    "\n",
    "<p></p><h4> <strong> Ejemplo 6 </strong> </h4>\n",
    "<p style=\"text-align: justify;\"> Qué porcentaje de la población del departamento de Boyacá\n",
    "está en municipios rurales? Qué porcentaje de la población total\n",
    "en municipios rurales está en el departamento de Antioquia? </p>\n"
   ]
  },
  {
   "cell_type": "code",
   "execution_count": null,
   "metadata": {},
   "outputs": [],
   "source": [
    "\n",
    "\n",
    "mytable(Poblacion ~ Departamento*Zona,data=Municipios,ord=\"freq\",digits=1)\n",
    "\n",
    "\n"
   ]
  },
  {
   "cell_type": "markdown",
   "metadata": {},
   "source": [
    "\n",
    "<p></p><h4> <strong> Ejemplo 7 </strong> </h4>\n",
    "<p style=\"text-align: justify;\"> Qué porcentaje de la superficie del departamento de Nariño\n",
    "corresponde a municipios rurales? Qué porcentaje de la superficie\n",
    "total en municipios rurales está en el departamento de Atlántico? </p>\n"
   ]
  },
  {
   "cell_type": "code",
   "execution_count": null,
   "metadata": {},
   "outputs": [],
   "source": [
    "\n",
    "\n",
    "mytable(Superficie ~ Departamento*Zona,data=Municipios,ord=\"freq\",digits=1)\n",
    "\n",
    "\n"
   ]
  },
  {
   "cell_type": "markdown",
   "metadata": {},
   "source": [
    "\n",
    "<p></p><h2 style=\"color:red;\"> Ejercicios</h2><p></p><h3 style=\"color:red;\"> Películas</h3><p style=\"text-align: justify;\"> Estos datos, que corresponden a la duración promedio de las tomas de 11001 películas, están descritos <a href=\"http://users.stat.ufl.edu/~winner/data/movie_avshotlength.txt\" style=\"color:red;\"><strong> aquí</strong></a> y se pueden obtener <a href=\"http://users.stat.ufl.edu/~winner/data/movie_avshotlength.csv\" style=\"color:red;\"><strong> aquí</strong></a>.</p><ul>\n",
    "<li><p style=\"text-align: justify;\"> Importe las variables <em>Title</em>, <em>Year</em>, <em>Director</em> y <em>Country</em>. Cuantas filas tiene el conjunto de datos resultante? Hay valores perdidos o missings? Cuantos? En qué variables?</p></li>\n",
    "<li><p style=\"text-align: justify;\"> Cuantas películas tienen solo 1 director(a)? Cuantas películas tienen 2 directores(as)? Cuantas películas tienen 3 o más directores(as)?</p></li>\n",
    "<li><p style=\"text-align: justify;\"> Cuantas y cuales películas tienen nombres que incluyen números?</p></li>\n",
    "<li><p style=\"text-align: justify;\"> Cuantas y cuales películas tienen nombres que incluyen signos de puntuación?</p></li>\n",
    "<li><p style=\"text-align: justify;\"> Cree un conjunto de datos con las películas que tienen solo 1 director(a). Use la variable <em>Director</em> para crear una variable llamada <em>Director2</em> teniendo en cuenta los siguientes parámetros: <em>(a)</em> Deben aparecer los nombre(s) y luego los apellido(s) del(de la) director(a) de la película separados por espacios sencillos y sin espacios al inicio ni al final; <em>(b)</em> Las iniciales de cada nombre y de cada apellido deben estar en letras mayúsculas.</p></li>\n",
    "<li><p style=\"text-align: justify;\"> Cuantas y cuales películas fueron dirigidas por Kathryn Bigelow?</p></li>\n",
    "<li><p style=\"text-align: justify;\"> Cuantas y cuales películas fueron dirigidas por Martin Scorsese?</p></li>\n",
    "<li><p style=\"text-align: justify;\"> Cuantas y cuales películas son Argentinas?</p></li>\n",
    "<li><p style=\"text-align: justify;\"> Cuantas y cuales películas son Mexicanas?</p></li>\n",
    "</ul>\n",
    "<p></p><h3 style=\"color:red;\"> Exportaciones agrícolas tradicionales en Colombia</h3>\n",
    "<p style=\"text-align: justify;\"> El archivo <strong>exportaciones.xlsx</strong> contiene información sobre el volumen (en toneladas) y el valor (en dólares) de las exportaciones agrícolas tradicionales (Banano, Café y Flores) en Colombia de 2018 hasta 2021.</p><ul>\n",
    "<li><p style=\"text-align: justify;\"> Qué porcentaje del volumen de las exportaciones de café en 2018 se hicieron durante el mes de agosto?</p></li>\n",
    "<li><p style=\"text-align: justify;\"> Qué porcentaje del volumen de las exportaciones de café en 2018 se hicieron durante el primer trimestre del año?\n",
    "</p></li>\n",
    "<li><p style=\"text-align: justify;\"> Qué porcentaje del valor de las exportaciones de café en 2018 se hicieron durante el mes de septiembre?\n",
    "</p></li>\n",
    "<li><p style=\"text-align: justify;\"> Qué porcentaje del valor de las exportaciones de café en 2018 se hicieron durante el cuarto trimestre del año?\n",
    "</p></li>\n",
    "<li><p style=\"text-align: justify;\"> Qué porcentaje del volumen de las exportaciones de flores en Antioquia en 2019 se hicieron durante el primer trimestre del año?\n",
    "</p></li>\n",
    "<li><p style=\"text-align: justify;\"> Qué porcentaje del volumen de las exportaciones de flores durante el primer trimestre del 2019 se hicieron desde Antioquia?\n",
    "</p></li>\n",
    "<li><p style=\"text-align: justify;\"> Qué porcentaje del valor de las exportaciones de flores en Antioquia en 2019 se hicieron durante el tercer trimestre del año?\n",
    "</p></li>\n",
    "<li><p style=\"text-align: justify;\"> Qué porcentaje del valor de las exportaciones de flores durante el tercer trimestre del 2019 se hicieron desde Antioquia?\n",
    "</p></li>\n",
    "</ul>\n",
    "<p></p><h3 style=\"color:red;\"> Créditos</h3>\n",
    "<p style=\"text-align: justify;\"> Estos datos, disponibles en el objeto <em>credit</em>\n",
    "del paquete <em>CASdatasets</em> de <em>R</em>, corresponden a la información de 1000 créditos bancarios,\n",
    "en que los créditos considerados \"buenos\" y \"malos\" se identifican como <em>class = 0</em> y <em>class = 1</em>,\n",
    "respectivamente.</p><ul>\n",
    "<li><p style=\"text-align: justify;\"> Qué porcentaje de la cartera (número de créditos) corresponde a créditos \"malos\"?</p></li>\n",
    "<li><p style=\"text-align: justify;\"> Qué porcentaje de la cartera (valor de los créditos) corresponde a créditos \"malos\"?</p></li>\n",
    "<li><p style=\"text-align: justify;\"> El porcentaje de la cartera (número de créditos) que corresponde a créditos \"malos\" es menor para los clientes con \"buen\" historial crediticio?</p></li>\n",
    "<li><p style=\"text-align: justify;\"> El porcentaje de la cartera (en valor) que corresponde a créditos \"malos\" es menor para los clientes con \"buen\" historial crediticio?</p></li>\n",
    "<li><p style=\"text-align: justify;\"> El porcentaje de la cartera (número de créditos) que corresponde a créditos \"malos\" es menor para los clientes con empleos más estables?</p></li>\n",
    "<li><p style=\"text-align: justify;\"> El porcentaje de la cartera (valor de los créditos) que corresponde a créditos \"malos\" es menor para los clientes con empleos más estables?</p></li>\n",
    "</ul>\n"
   ]
  },
  {
   "cell_type": "markdown",
   "metadata": {},
   "source": [
    "<p></p><h1 style=\"color:red;\"> <strong> <center>Consulta, transformación y creación de conjuntos de datos</center></strong> </h1>\n",
    "<p></p><h2 style=\"color:blue;\"> <strong> <center>Libreria sqldf</center></strong> </h2>"
   ]
  },
  {
   "cell_type": "markdown",
   "metadata": {},
   "source": [
    "<img height=\"900\" src=\"sqldf.png\" width=\"850\"/>"
   ]
  },
  {
   "cell_type": "markdown",
   "metadata": {},
   "source": [
    "\n",
    "<p></p><p style=\"text-align: justify;\"> <a href=\"https://www.sqlite.org/lang_mathfunc.html\" style=\"color:red;\"><strong> Operadores Matemáticos</strong></a></p> <strong>También incluye:</strong> acos, asin, atan, atn2, atan2, acosh, asinh, atanh, difference, degrees, radians, cos, sin, tan, cot, cosh, sinh, tanh, coth, exp, log, log10, power, sign, sqrt, square, ceil, floor, pi.\n",
    "\n"
   ]
  },
  {
   "cell_type": "markdown",
   "metadata": {},
   "source": [
    "\n",
    "<p></p><p style=\"text-align: justify;\"> <a href=\"https://www.sqlite.org/lang_corefunc.html\" style=\"color:red;\"><strong> Operadores de Texto</strong></a></p> <strong>También incluye:</strong> replicate, charindex, leftstr, rightstr, ltrim, rtrim, trim, replace, reverse, proper, padl, padr, padc, strfilter.\n",
    "\n"
   ]
  },
  {
   "cell_type": "markdown",
   "metadata": {},
   "source": [
    "\n",
    "<p style=\"text-align: justify;\"> <a href=\"https://www.sqlite.org/lang_datefunc.html\" style=\"color:red;\"><strong> Operadores de Fechas</strong></a></p>\n"
   ]
  },
  {
   "cell_type": "code",
   "execution_count": null,
   "metadata": {},
   "outputs": [],
   "source": [
    "\n",
    "\n",
    "install.packages(\"sqldf\")\n",
    "library(sqldf)\n",
    "help(sqldf)\n",
    "\n",
    "\n"
   ]
  },
  {
   "cell_type": "code",
   "execution_count": null,
   "metadata": {},
   "outputs": [],
   "source": [
    "\n",
    "\n",
    "Municipios <- readRDS(\"Municipios.RDS\")\n",
    "\n",
    "\n"
   ]
  },
  {
   "cell_type": "markdown",
   "metadata": {},
   "source": [
    "\n",
    "<p></p><h4> <strong> Ejemplo 1 </strong> </h4>\n",
    "<p style=\"text-align: justify;\"> Conjunto de datos con las variables <em>Departamento</em>, <em>Dep</em>, <em>Depmun</em>,\n",
    "<em>Municipio</em>, <em>Superficie</em> y <em>Poblacion</em> que incluye todos los municipios de los departamentos de Antioquia y Caldas con más de 20 mil habitantes\n",
    "y donde los mismos están ordenados con respecto a <em>Dep</em> y de\n",
    "mayor a menor con respecto a <em>Poblacion</em>.</p>\n"
   ]
  },
  {
   "cell_type": "code",
   "execution_count": null,
   "metadata": {},
   "outputs": [],
   "source": [
    "\n",
    "\n",
    "E1 <- sqldf(\"select   Departamento, Dep, Depmun, Municipio, Superficie, Poblacion\n",
    "             from     Municipios\n",
    "             where    Dep in ('05','17') and Poblacion > 20000\n",
    "             order by Dep asc, Poblacion desc\")\n",
    "\n",
    "str(E1)\n",
    "head(E1,n=10)\n",
    "tail(E1,n=10)\n",
    "\n",
    "\n"
   ]
  },
  {
   "cell_type": "markdown",
   "metadata": {},
   "source": [
    "\n",
    "<p></p><h4> <strong> Ejemplo 2 </strong> </h4>\n",
    "<p style=\"text-align: justify;\"> Conjunto de datos con las variables <em>Departamento</em>, <em>Dep</em>, <em>Depmun</em>, <em>Municipio</em>, <em>Superficie</em> y <em>Poblacion</em> que incluye todos los municipios con superficies menores a 300 $km^2$ excepto los de Boyacá y Santander, y que están ordenados por <em>Dep</em> y de mayor a menor por <em>Poblacion</em>.\n",
    "Incluye una variable definida como \"Baja\" para los municipios con\n",
    "<em>denspobl</em> menor a 30, \"Alta\" para los municipios con <em>denspobl</em> mayor\n",
    "a 85, y \"Media\" para los demás.</p>\n"
   ]
  },
  {
   "cell_type": "code",
   "execution_count": null,
   "metadata": {},
   "outputs": [],
   "source": [
    "\n",
    "\n",
    "E2 <- sqldf(\"select   Departamento, Dep, Depmun, Municipio, Superficie,\n",
    "                      Poblacion, case when denspobl < 30 then 'Baja'\n",
    "                                      when denspobl > 85 then 'Alta'\n",
    "                                      else 'Media'\n",
    "                                 end as denspoblC\n",
    "             from     Municipios\n",
    "             where    Dep not in ('15','68') and Superficie < 300\n",
    "             order by Dep asc, Poblacion desc\")\n",
    "\n",
    "str(E2)\n",
    "head(E2)\n",
    "tail(E2)\n",
    "\n",
    "\n"
   ]
  },
  {
   "cell_type": "markdown",
   "metadata": {},
   "source": [
    "\n",
    "<p></p><h4> <strong> Ejemplo 3 </strong> </h4>\n",
    "<p style=\"text-align: justify;\"> Existen dos o más municipios con el mismo <em>Depmun</em>?</p>\n"
   ]
  },
  {
   "cell_type": "code",
   "execution_count": null,
   "metadata": {},
   "outputs": [],
   "source": [
    "\n",
    "\n",
    "sqldf(\"select   Depmun, count(*) as reps\n",
    "       from     Municipios\n",
    "       group by Depmun \n",
    "       having   reps > 1\")\n",
    "\n",
    "sqldf(\"select count(*) as tot_filas, count(distinct depmun) as tot_depmuns\n",
    "       from   Municipios\")\n",
    "\n",
    "\n"
   ]
  },
  {
   "cell_type": "markdown",
   "metadata": {},
   "source": [
    "\n",
    "<p></p><h4> <strong> Ejemplo 4 </strong> </h4>\n",
    "<p style=\"text-align: justify;\"> De los departamentos con dos o más municipios cual\n",
    "es el menos homogeneo (de acuerdo al coeficiente de variación) con\n",
    "respecto a la superficie de los municipios que lo componen?</p>\n"
   ]
  },
  {
   "cell_type": "code",
   "execution_count": null,
   "metadata": {},
   "outputs": [],
   "source": [
    "\n",
    "\n",
    "sqldf(\"select   Dep, Departamento, stdev(Superficie)/avg(Superficie) as cv\n",
    "       from     Municipios \n",
    "       group by Dep, Departamento\n",
    "       having   count(*) > 1 \n",
    "       order by cv desc \n",
    "       limit    1\")\n",
    "\n",
    "\n"
   ]
  },
  {
   "cell_type": "markdown",
   "metadata": {},
   "source": [
    "\n",
    "<p></p><h4> <strong> Ejemplo 5 </strong> </h4>\n",
    "<p style=\"text-align: justify;\"> De los departamentos con dos o más municipios cual\n",
    "es el más homogeneo (de acuerdo al coeficiente de variación) con\n",
    "respecto a la superficie de los municipios que lo componen?</p>\n"
   ]
  },
  {
   "cell_type": "code",
   "execution_count": null,
   "metadata": {},
   "outputs": [],
   "source": [
    "\n",
    "\n",
    "sqldf(\"select   Dep, Departamento, stdev(Superficie)/avg(Superficie) as cv\n",
    "       from     Municipios \n",
    "       group by Dep, Departamento\n",
    "       having   count(*) > 1 \n",
    "       order by cv \n",
    "       limit    1\")\n",
    "\n",
    "\n"
   ]
  },
  {
   "cell_type": "markdown",
   "metadata": {},
   "source": [
    "\n",
    "<p></p><h4> <strong> Ejemplo 6 </strong> </h4>\n",
    "<p style=\"text-align: justify;\"> Conjunto de datos con todos los departamentos, ordenados de mayor\n",
    "a menor con respecto a su población, que incluye la siguiente información: número de municipios, superficie,\n",
    "población, densidad poblacional, índice de ruralidad promedio\n",
    "ponderado por población, y una variable igual a \"Grande\" para los\n",
    "departamentos con población mayor a $1.5$ millones de habitantes, \"Pequeño\" para departamentos\n",
    "con población menor a $300$ mil habitantes, y \"Mediano\" para el resto.</p>\n"
   ]
  },
  {
   "cell_type": "code",
   "execution_count": null,
   "metadata": {},
   "outputs": [],
   "source": [
    "\n",
    "\n",
    "E6 <- sqldf(\"select   Dep, Departamento, count(*) as nmunicipios, sum(Poblacion) as totpob,\n",
    "                      sum(Superficie) as totsup, sum(Poblacion)/sum(Superficie) as denspob,\n",
    "                      sum(Irural*Poblacion)/sum(Poblacion) as Irural,\n",
    "                      case when sum(Poblacion) > 1500000 then 'Grande'\n",
    "                           when sum(Poblacion) < 300000 then 'Pequeño'\n",
    "                           else 'Mediano'\n",
    "                      end as totpobC\n",
    "             from     Municipios\n",
    "             group by Dep, Departamento\n",
    "             order by totpob desc\")\n",
    "\n",
    "str(E6)\n",
    "head(E6)\n",
    "tail(E6)\n",
    "\n",
    "\n"
   ]
  },
  {
   "cell_type": "markdown",
   "metadata": {},
   "source": [
    "\n",
    "<p></p><h4> <strong> Ejemplo 7 </strong> </h4>\n",
    "<p style=\"text-align: justify;\"> Cual es la región con la mayor superficie?</p>\n"
   ]
  },
  {
   "cell_type": "code",
   "execution_count": null,
   "metadata": {},
   "outputs": [],
   "source": [
    "\n",
    "\n",
    "sqldf(\"select   Region\n",
    "       from     Municipios\n",
    "       group by Region\n",
    "       order by sum(Superficie) desc\n",
    "       limit    1\")\n",
    "\n",
    "\n"
   ]
  },
  {
   "cell_type": "markdown",
   "metadata": {},
   "source": [
    "\n",
    "<p></p><h4> <strong> Ejemplo 8 </strong> </h4>\n",
    "<p style=\"text-align: justify;\"> Conjunto de datos con todos los departamentos, ordenados de mayor\n",
    "a menor con respecto a su población, que incluye la siguiente información: número de municipios, superficie,\n",
    "población, densidad poblacional, todo referente a los municipios con índice de ruralidad mayor a 60.</p>\n"
   ]
  },
  {
   "cell_type": "code",
   "execution_count": null,
   "metadata": {},
   "outputs": [],
   "source": [
    "\n",
    "\n",
    "E8 <- sqldf(\"select   Dep, Departamento, count(*) as nmunicipios, sum(Poblacion) as totpob,\n",
    "                      sum(Superficie) as totsup, sum(Poblacion)/sum(Superficie) as denspob\n",
    "             from     Municipios\n",
    "             where    Irural > 60\n",
    "             group by Dep, Departamento\n",
    "             order by totpob desc\")\n",
    "\n",
    "str(E8)\n",
    "head(E8)\n",
    "tail(E8)\n",
    "\n",
    "\n"
   ]
  },
  {
   "cell_type": "markdown",
   "metadata": {},
   "source": [
    "\n",
    "<p></p><h4> <strong> Ejemplo 9 </strong> </h4>\n",
    "<p style=\"text-align: justify;\"> Cual es la región con el mayor número de departamentos?</p>\n"
   ]
  },
  {
   "cell_type": "code",
   "execution_count": null,
   "metadata": {},
   "outputs": [],
   "source": [
    "\n",
    "\n",
    "sqldf(\"select   Region\n",
    "       from     Municipios\n",
    "       group by Region\n",
    "       order by count(distinct Dep) desc\n",
    "       limit    1\")\n",
    "\n",
    "\n"
   ]
  },
  {
   "cell_type": "markdown",
   "metadata": {},
   "source": [
    "\n",
    "<p></p><h4> <strong> Ejemplo 10 </strong> </h4>\n",
    "<p style=\"text-align: justify;\"> Conjunto de datos con todos los departamentos con al menos 650 mil habitantes\n",
    "y al menos 10 mil $km^2$ de superficie, ordenados de mayor a menor con relación a su densidad poblacional, y que incluye la siguiente información:\n",
    "número de municipios, superficie, población y densidad poblacional.</p>\n"
   ]
  },
  {
   "cell_type": "code",
   "execution_count": null,
   "metadata": {},
   "outputs": [],
   "source": [
    "\n",
    "\n",
    "E10 <- sqldf(\"select  Dep, Departamento, count(*) as nmunicipios, sum(Poblacion) as totpob, \n",
    "                      sum(Superficie) as totsup, sum(Poblacion)/sum(Superficie) as denspob\n",
    "             from     Municipios\n",
    "             group by Dep, Departamento\n",
    "             having   totpob >= 650000 and totsup >= 10000\n",
    "             order by denspob desc\")\n",
    "\n",
    "str(E10)\n",
    "head(E10)\n",
    "tail(E10)\n",
    "\n",
    "\n"
   ]
  },
  {
   "cell_type": "markdown",
   "metadata": {},
   "source": [
    "\n",
    "<p></p><h4> <strong> Ejemplo 11 </strong> </h4>\n",
    "<p style=\"text-align: justify;\"> Conjunto de datos con todos los departamentos con al menos 650 mil\n",
    "habitantes y al menos 10 mil $km^2$ de superficie, ordenados de mayor\n",
    "a menor con relación a su densidad poblacional, y que incluye la siguiente información:\n",
    "número de municipios, superficie, población, y densidad\n",
    "poblacional, todo referente a municipios con índice de ruralidad mayor a 40.</p>\n"
   ]
  },
  {
   "cell_type": "code",
   "execution_count": null,
   "metadata": {},
   "outputs": [],
   "source": [
    "\n",
    "\n",
    "E11 <- sqldf(\"select   Dep, Departamento, count(*) as nmunicipios, sum(Poblacion) as totpob, \n",
    "                       sum(Superficie) as totsup, sum(Poblacion)/sum(Superficie) as denspob\n",
    "              from     Municipios\n",
    "              where    Irural > 40\n",
    "              group by Dep, Departamento\n",
    "              having   totpob >= 650000 and totsup >= 10000\n",
    "              order by denspob desc\")\n",
    "\n",
    "str(E11)\n",
    "head(E11)\n",
    "tail(E11)\n",
    "\n",
    "\n"
   ]
  },
  {
   "cell_type": "markdown",
   "metadata": {},
   "source": [
    "\n",
    "<p></p><h4> <strong> Ejemplo 12 </strong> </h4>\n",
    "<p style=\"text-align: justify;\"> Existen dos o más municipios con el mismo nombre?\n",
    "Cuantos? Cuales? En qué departamentos están ubicados?</p>\n"
   ]
  },
  {
   "cell_type": "code",
   "execution_count": null,
   "metadata": {},
   "outputs": [],
   "source": [
    "\n",
    "\n",
    "Repetidos <- sqldf(\"select   Municipio, count(*) as veces\n",
    "                    from     Municipios\n",
    "                    group by Municipio\n",
    "                    having   veces > 1\n",
    "                    order by veces desc\")\n",
    "\n",
    "str(Repetidos)\n",
    "head(Repetidos)\n",
    "tail(Repetidos)\n",
    "     \n",
    "E12 <- sqldf(\"select   Municipio, Departamento, Dep, Depmun\n",
    "              from     Municipios\n",
    "              where    Municipio in (select Municipio \n",
    "                                     from   Repetidos)\n",
    "              order by Municipio, Departamento\")\n",
    "\n",
    "str(E12)\n",
    "head(E12,n=10)\n",
    "tail(E12,n=10)\n",
    "\n",
    "\n"
   ]
  },
  {
   "cell_type": "code",
   "execution_count": null,
   "metadata": {},
   "outputs": [],
   "source": [
    "\n",
    "\n",
    "E12a <- sqldf(\"select   Municipio, Departamento, Dep, Depmun\n",
    "               from     Municipios\n",
    "               where    Municipio in (select   Municipio\n",
    "                                      from     Municipios\n",
    "                                      group by Municipio\n",
    "                                      having   count(*) > 1)\n",
    "               order by Municipio, Departamento\")\n",
    "\n",
    "all.equal(E12,E12a)\n",
    "\n",
    "\n"
   ]
  },
  {
   "cell_type": "markdown",
   "metadata": {},
   "source": [
    "\n",
    "<p></p><h4> <strong> Ejemplo 13 </strong> </h4>\n",
    "<p style=\"text-align: justify;\"> Existen dos o más municipios con el mismo nombre que\n",
    "hacen parte de la misma región? Cuantos? Cuales?</p>\n"
   ]
  },
  {
   "cell_type": "code",
   "execution_count": null,
   "metadata": {},
   "outputs": [],
   "source": [
    "\n",
    "\n",
    "Repetidos <- sqldf(\"select   Region, Municipio, count(*) as veces\n",
    "                    from     Municipios\n",
    "                    group by Region, Municipio\n",
    "                    having   veces > 1\n",
    "                    order by veces desc\")\n",
    "\n",
    "str(Repetidos)\n",
    "head(Repetidos)\n",
    "tail(Repetidos)\n",
    "\n",
    "E13 <- sqldf(\"select   Municipio, Region, Departamento, Dep, Depmun\n",
    "              from     Municipios\n",
    "              where    Region||''||Municipio in (select Region||''||Municipio\n",
    "                                                 from   Repetidos)\n",
    "              order by Municipio asc, Region asc\")\n",
    "\n",
    "str(E13)\n",
    "head(E13,n=10)\n",
    "tail(E13,n=10)\n",
    "\n",
    "\n"
   ]
  },
  {
   "cell_type": "code",
   "execution_count": null,
   "metadata": {},
   "outputs": [],
   "source": [
    "\n",
    "\n",
    "E13a <- sqldf(\"select   Municipio, Region, Departamento, Dep, Depmun\n",
    "               from     Municipios\n",
    "               where    Region||''||Municipio in (select   Region||''||Municipio\n",
    "                                                  from     Municipios\n",
    "                                                  group by Region, Municipio\n",
    "                                                  having   veces > 1)\n",
    "               order by Municipio asc, Region asc\")\n",
    "\n",
    "all.equal(E13,E13a)\n",
    "\n",
    "\n"
   ]
  },
  {
   "cell_type": "markdown",
   "metadata": {},
   "source": [
    "\n",
    "<p></p><h4> <strong> Ejemplo 14 </strong> </h4>\n",
    "<p style=\"text-align: justify;\"> Conjunto de datos con los municipios cuyos nombres inician\n",
    "con \"A\" o terminan con \"o\", no importa si llevan tilde o no.</p>\n"
   ]
  },
  {
   "cell_type": "code",
   "execution_count": null,
   "metadata": {},
   "outputs": [],
   "source": [
    "\n",
    "\n",
    "E14 <- sqldf(\"select   Dep, Departamento, Municipio, Depmun\n",
    "              from     Municipios\n",
    "              where    Municipio like 'A%' or\n",
    "                       Municipio like 'Á%' or \n",
    "                       Municipio like '%o' or\n",
    "                       Municipio like '%ó'\n",
    "              order by Depmun\")\n",
    "\n",
    "str(E14)\n",
    "head(E14)\n",
    "tail(E14)\n",
    "\n",
    "\n"
   ]
  },
  {
   "cell_type": "markdown",
   "metadata": {},
   "source": [
    "\n",
    "<p></p><h4> <strong> Ejemplo 15 </strong> </h4>\n",
    "<p style=\"text-align: justify;\"> Conjunto de datos con los municipios cuyos nombres inician\n",
    "con \"A\" y terminan con \"o\", no importa si llevan tilde o no.</p>\n"
   ]
  },
  {
   "cell_type": "code",
   "execution_count": null,
   "metadata": {},
   "outputs": [],
   "source": [
    "\n",
    "\n",
    "E15 <- sqldf(\"select   Dep, Departamento, Municipio, Depmun\n",
    "              from     Municipios\n",
    "              where    Municipio like 'A%o' or\n",
    "                       Municipio like 'A%ó' or\n",
    "                       Municipio like 'Á%o'\n",
    "              order by Depmun\")\n",
    "\n",
    "str(E15)\n",
    "head(E15)\n",
    "tail(E15)\n",
    "\n",
    "\n"
   ]
  },
  {
   "cell_type": "markdown",
   "metadata": {},
   "source": [
    "\n",
    "<p></p><h4> <strong> Ejemplo 16 </strong> </h4>\n",
    "<p style=\"text-align: justify;\"> Conjunto de datos con los municipios cuyo nombre tiene a la\n",
    "letra \"e\" en las posiciones 2 y 4, no importa si llevan tilde o no.</p>\n"
   ]
  },
  {
   "cell_type": "code",
   "execution_count": null,
   "metadata": {},
   "outputs": [],
   "source": [
    "\n",
    "\n",
    "E16 <- sqldf(\"select   Dep, Departamento, Municipio, Depmun\n",
    "              from     Municipios\n",
    "              where    Municipio like '_e_e%' or \n",
    "                       Municipio like '_é_e%' or\n",
    "                       Municipio like '_e_é%'\n",
    "              order by Depmun\")\n",
    "\n",
    "str(E16)\n",
    "head(E16)\n",
    "tail(E16)\n",
    "\n",
    "\n"
   ]
  },
  {
   "cell_type": "markdown",
   "metadata": {},
   "source": [
    "\n",
    "<p></p><h4> <strong> Ejemplo 17 </strong> </h4>\n",
    "<p style=\"text-align: justify;\"> Conjunto de datos con los municipios cuyos nombres constan\n",
    "de más de una palabra.</p>\n"
   ]
  },
  {
   "cell_type": "code",
   "execution_count": null,
   "metadata": {},
   "outputs": [],
   "source": [
    "\n",
    "\n",
    "E17 <- sqldf(\"select   Dep, Departamento, Municipio, Depmun\n",
    "              from     Municipios\n",
    "              where    Municipio like '% %'\n",
    "              order by Depmun\")\n",
    "\n",
    "str(E17)\n",
    "head(E17)\n",
    "tail(E17)\n",
    "\n",
    "\n"
   ]
  },
  {
   "cell_type": "markdown",
   "metadata": {},
   "source": [
    "<p><img height=\"900\" src=\"sqldf2.png\" width=\"850\"/>"
   ]
  },
  {
   "cell_type": "markdown",
   "metadata": {},
   "source": [
    "<img height=\"900\" src=\"sqldf3.png\" width=\"850\"/></p>"
   ]
  },
  {
   "cell_type": "code",
   "execution_count": null,
   "metadata": {},
   "outputs": [],
   "source": [
    "\n",
    "\n",
    "A <- data.frame(id=c(1,2,2,3),cod=c(23,65,60,87),name=c(\"Leia\",\"Luke\",\"Yoda\",\"Hank\"))\n",
    "B <- data.frame(id=c(2,3,4),cod=c(65,87,29),age=c(23,20,25))\n",
    "A\n",
    "B\n",
    "\n",
    "sqldf(\"select * \n",
    "       from     A inner join B on (A.id=B.id and A.cod=B.cod)\")\n",
    "\n",
    "sqldf(\"select * \n",
    "       from     B inner join A on (B.id=A.id and B.cod=A.cod)\")\n",
    "\n",
    "sqldf(\"select * \n",
    "       from     A left join B on (A.id=B.id and A.cod=B.cod)\")\n",
    "\n",
    "sqldf(\"select * \n",
    "       from     B left join A on (B.id=A.id and B.cod=A.cod)\")\n",
    "\n",
    "\n"
   ]
  },
  {
   "cell_type": "markdown",
   "metadata": {},
   "source": [
    "\n",
    "<hr/>\n",
    "<p></p><h4> <strong> Ejemplo 18 </strong> </h4>\n",
    "<p style=\"text-align: justify;\"> Cuantos y cuales municipios tienen al menos una estación\n",
    "de monitoreo climático?</p>\n"
   ]
  },
  {
   "cell_type": "code",
   "execution_count": null,
   "metadata": {},
   "outputs": [],
   "source": [
    "\n",
    "\n",
    "Estaciones <- read_excel(\"Estaciones.xlsx\")\n",
    "str(Estaciones)\n",
    "\n",
    "E18 <- sqldf(\"select distinct Depmun\n",
    "              from   Estaciones\")\n",
    "str(E18)\n",
    "head(E18)\n",
    "tail(E18)\n",
    "\n",
    "\n"
   ]
  },
  {
   "cell_type": "markdown",
   "metadata": {},
   "source": [
    "\n",
    "<p></p><h4> <strong> Ejemplo 19 </strong> </h4>\n",
    "<p style=\"text-align: justify;\"> Conjunto de datos con todos los municipios del país, que incluye una variable que informa el número de \n",
    "estaciones de monitoreo climático con que cuenta cada municipio.</p>\n"
   ]
  },
  {
   "cell_type": "code",
   "execution_count": null,
   "metadata": {},
   "outputs": [],
   "source": [
    "\n",
    "\n",
    "Emon <- sqldf(\"select   Depmun, count(*) as nem \n",
    "               from     Estaciones\n",
    "               group by Depmun\")\n",
    "\n",
    "E19 <- sqldf(\"select Municipios.*, case when nem is null then 0 \n",
    "                                        else nem \n",
    "                                   end as nest\n",
    "              from   Municipios left join Emon on (Municipios.Depmun = Emon.Depmun)\")\n",
    "\n",
    "str(E19) \n",
    "head(E19)\n",
    "tail(E19)\n",
    "\n",
    "\n"
   ]
  },
  {
   "cell_type": "markdown",
   "metadata": {},
   "source": [
    "\n",
    "<p></p><h4> <strong> Ejemplo 20 </strong> </h4>\n",
    "<p style=\"text-align: justify;\"> Existen municipios que no tienen ninguna estación de\n",
    "monitoreo climático? Cuantos? Cuales?</p>\n"
   ]
  },
  {
   "cell_type": "code",
   "execution_count": null,
   "metadata": {},
   "outputs": [],
   "source": [
    "\n",
    "\n",
    "E20 <- sqldf(\"select   Municipios.*\n",
    "              from     Municipios left join Emon on (Municipios.Depmun = Emon.Depmun)\n",
    "              where    nem is NULL\n",
    "              order by Depmun\")\n",
    "\n",
    "E20a <- sqldf(\"select   Municipios.*\n",
    "               from     Municipios\n",
    "               where    Depmun not in (select distinct Depmun\n",
    "                                       from   Estaciones)\n",
    "               order by Depmun\")\n",
    "\n",
    "all.equal(E20,E20a)\n",
    "\n",
    "str(E20) \n",
    "head(E20)\n",
    "tail(E20)\n",
    "\n",
    "\n"
   ]
  },
  {
   "cell_type": "markdown",
   "metadata": {},
   "source": [
    "\n",
    "<p></p><h4> <strong> Ejemplo 21 </strong> </h4>\n",
    "<p style=\"text-align: justify;\"> Copia de Estaciones que solo considera estaciones de monitoreo localizadas \n",
    "como máximo a 2000 metros de altura sobre el nivel del mar, y que incluye los nombres del municipio y del\n",
    "departamento donde están ubicadas las estaciones.</p>\n"
   ]
  },
  {
   "cell_type": "code",
   "execution_count": null,
   "metadata": {},
   "outputs": [],
   "source": [
    "\n",
    "\n",
    "E21 <- sqldf(\"select   Estaciones.*, Municipio, Departamento, Dep\n",
    "              from     Estaciones inner join Municipios on (Estaciones.Depmun = Municipios.Depmun)\n",
    "              where    elev <= 2000\n",
    "              order by Depmun, codigo\")\n",
    "\n",
    "E21a <- sqldf(\"select   Estaciones.*, Municipio, Departamento, Dep\n",
    "               from     Estaciones left join Municipios on (Estaciones.Depmun = Municipios.Depmun)\n",
    "               where    elev <= 2000\n",
    "               order by Depmun, codigo\")\n",
    "\n",
    "all.equal(E21,E21a)\n",
    "\n",
    "str(E21)\n",
    "\n",
    "\n"
   ]
  },
  {
   "cell_type": "markdown",
   "metadata": {},
   "source": [
    "<p></p><h2 style=\"color:blue;\"> <strong> <center>Libreria dplyr</center></strong> </h2>"
   ]
  },
  {
   "cell_type": "markdown",
   "metadata": {},
   "source": [
    "<img height=\"900\" src=\"dplyr0.png\" width=\"850\"/>"
   ]
  },
  {
   "cell_type": "code",
   "execution_count": null,
   "metadata": {},
   "outputs": [],
   "source": [
    "\n",
    "\n",
    "install.packages(\"dplyr\")\n",
    "library(dplyr)\n",
    "help(dplyr)\n",
    "\n",
    "\n"
   ]
  },
  {
   "cell_type": "markdown",
   "metadata": {},
   "source": [
    "\n",
    "<p></p><h4> <strong> Ejemplo 1 </strong> </h4>\n",
    "<p style=\"text-align: justify;\"> Conjunto de datos con las variables <em>Departamento</em>, <em>Dep</em>, <em>Depmun</em>,\n",
    "<em>Municipio</em>, <em>Superficie</em> y <em>Poblacion</em> que incluye todos los municipios de los departamentos de Antioquia y Caldas con más de 20 mil habitantes\n",
    "y donde los mismos están ordenados con respecto a <em>Dep</em> y de\n",
    "mayor a menor con respecto a <em>Poblacion</em>.</p>\n"
   ]
  },
  {
   "cell_type": "code",
   "execution_count": null,
   "metadata": {},
   "outputs": [],
   "source": [
    "\n",
    "\n",
    "e1 <- Municipios %>%\n",
    "      select(Departamento,Dep,Depmun,Municipio,Superficie, Poblacion) %>%\n",
    "      filter(Dep %in% c(\"05\",\"17\") & Poblacion > 20000) %>%\n",
    "      arrange(Dep,desc(Poblacion)) %>% \n",
    "      as.data.frame()\n",
    "\n",
    "all.equal(e1,E1,check.attributes=FALSE)\n",
    "\n",
    "str(e1) \n",
    "head(e1,n=10)\n",
    "tail(e1,n=10)\n",
    "\n",
    "\n"
   ]
  },
  {
   "cell_type": "markdown",
   "metadata": {},
   "source": [
    "\n",
    "<p></p><h4> <strong> Ejemplo 2 </strong> </h4>\n",
    "<p style=\"text-align: justify;\"> Conjunto de datos con las variables <em>Departamento</em>, <em>Dep</em>, <em>Depmun</em>, <em>Municipio</em>, <em>Superficie</em> y <em>Poblacion</em> que incluye todos los municipios con superficies menores a 300 $km^2$ excepto los de Boyacá y Santander, y que están ordenados por <em>Dep</em> y de mayor a menor por <em>Poblacion</em>.\n",
    "Incluye una variable definida como \"Baja\" para los municipios con\n",
    "<em>denspobl</em> menor a 30, \"Alta\" para los municipios con <em>denspobl</em> mayor\n",
    "a 85, y \"Media\" para los demás.</p>\n"
   ]
  },
  {
   "cell_type": "code",
   "execution_count": null,
   "metadata": {},
   "outputs": [],
   "source": [
    "\n",
    "\n",
    "e2 <- Municipios %>%\n",
    "      filter(Dep!=\"15\" & Dep!=\"68\" & Superficie < 300) %>%\n",
    "      mutate(denspoblC=case_when(denspobl > 85 ~ \"Alta\",\n",
    "                                 denspobl < 30 ~ \"Baja\",\n",
    "                                 TRUE ~ \"Media\")) %>%\n",
    "      arrange(Dep,desc(Poblacion)) %>%\n",
    "      select(Departamento,Dep,Depmun,Municipio,Superficie,Poblacion,denspoblC) %>%\n",
    "      as.data.frame()\n",
    "\n",
    "all.equal(e2,E2,check.attributes=FALSE)\n",
    "\n",
    "str(e2) \n",
    "str(E2) \n",
    "head(e2,n=10)\n",
    "tail(e2,n=10)\n",
    "\n",
    "\n"
   ]
  },
  {
   "cell_type": "markdown",
   "metadata": {},
   "source": [
    "\n",
    "<p></p><h4> <strong> Ejemplo 3 </strong> </h4>\n",
    "<p style=\"text-align: justify;\"> Existen dos o más municipios con el mismo <em>Depmun</em>?</p>\n"
   ]
  },
  {
   "cell_type": "code",
   "execution_count": null,
   "metadata": {},
   "outputs": [],
   "source": [
    "\n",
    "\n",
    "Municipios %>% \n",
    "group_by(Depmun) %>%\n",
    "summarise(repetidos=n()) %>% \n",
    "filter(repetidos > 1)\n",
    "\n",
    "Municipios %>%\n",
    "summarise(tot_filas=n(),tot_depmuns=n_distinct(Depmun))\n",
    "\n",
    "\n"
   ]
  },
  {
   "cell_type": "markdown",
   "metadata": {},
   "source": [
    "\n",
    "<p></p><h4> <strong> Ejemplo 4 </strong> </h4>\n",
    "<p style=\"text-align: justify;\"> De los departamentos con dos o más municipios cual\n",
    "es el menos homogeneo (de acuerdo al coeficiente de variación) con\n",
    "respecto a la superficie de los municipios que lo componen?</p>\n"
   ]
  },
  {
   "cell_type": "code",
   "execution_count": null,
   "metadata": {},
   "outputs": [],
   "source": [
    "\n",
    "\n",
    "Municipios %>% \n",
    "group_by(Dep,Departamento) %>%\n",
    "summarise(mun=n(),cv=sd(Superficie)/mean(Superficie))%>%\n",
    "filter(mun > 1) %>% \n",
    "arrange(desc(cv)) %>% \n",
    "filter(row_number()==1) %>% \n",
    "as.data.frame()\n",
    "\n",
    "\n"
   ]
  },
  {
   "cell_type": "markdown",
   "metadata": {},
   "source": [
    "\n",
    "<p></p><h4> <strong> Ejemplo 5 </strong> </h4>\n",
    "<p style=\"text-align: justify;\"> De los departamentos con dos o más municipios cual\n",
    "es el más homogeneo (de acuerdo al coeficiente de variación) con\n",
    "respecto a la superficie de los municipios que lo componen?</p>\n"
   ]
  },
  {
   "cell_type": "code",
   "execution_count": null,
   "metadata": {},
   "outputs": [],
   "source": [
    "\n",
    "\n",
    "Municipios %>% \n",
    "group_by(Dep,Departamento) %>%\n",
    "summarise(mun=n(),cv=sd(Superficie)/mean(Superficie)) %>%\n",
    "filter(mun > 1) %>% \n",
    "arrange(cv) %>% \n",
    "filter(row_number()==1) %>% \n",
    "as.data.frame()\n",
    "\n",
    "\n"
   ]
  },
  {
   "cell_type": "markdown",
   "metadata": {},
   "source": [
    "\n",
    "<p></p><h4> <strong> Ejemplo 6 </strong> </h4>\n",
    "<p style=\"text-align: justify;\"> Conjunto de datos con todos los departamentos, ordenados de mayor\n",
    "a menor con respecto a su población, que incluye la siguiente información: número de municipios, superficie,\n",
    "población, densidad poblacional, índice de ruralidad promedio\n",
    "ponderado por población, y una variable igual a \"Grande\" para los\n",
    "departamentos con población mayor a $1.5$ millones de habitantes, \"Pequeño\" para departamentos\n",
    "con población menor a $300$ mil habitantes, y \"Mediano\" para el resto.</p>\n"
   ]
  },
  {
   "cell_type": "code",
   "execution_count": null,
   "metadata": {},
   "outputs": [],
   "source": [
    "\n",
    "\n",
    "e6 <- Municipios %>%\n",
    "      group_by(Dep,Departamento) %>%\n",
    "      summarise(nmunicipios=n(),totpob=sum(Poblacion), \n",
    "                totsup=sum(Superficie),denspob=totpob/totsup,\n",
    "                Irural=sum(Irural*Poblacion)/totpob,\n",
    "                totpobC=case_when(totpob > 1.5e6 ~ \"Grande\",\n",
    "                                  totpob < 3e5 ~ \"Pequeño\",\n",
    "                                  TRUE ~ \"Mediano\")) %>%\n",
    "      arrange(desc(totpob)) %>% \n",
    "      as.data.frame()\n",
    "\n",
    "all.equal(e6,E6,check.attributes=FALSE)\n",
    "\n",
    "str(e6)\n",
    "\n",
    "\n"
   ]
  },
  {
   "cell_type": "markdown",
   "metadata": {},
   "source": [
    "\n",
    "<p></p><h4> <strong> Ejemplo 7 </strong> </h4>\n",
    "<p style=\"text-align: justify;\"> Cual es la región con la mayor superficie?</p>\n"
   ]
  },
  {
   "cell_type": "code",
   "execution_count": null,
   "metadata": {},
   "outputs": [],
   "source": [
    "\n",
    "\n",
    "Municipios %>% \n",
    "group_by(Region) %>%\n",
    "summarise(sup=sum(Superficie)) %>% \n",
    "arrange(desc(sup)) %>% \n",
    "filter(row_number()==1) %>% \n",
    "as.data.frame()\n",
    "\n",
    "\n"
   ]
  },
  {
   "cell_type": "markdown",
   "metadata": {},
   "source": [
    "\n",
    "<p></p><h4> <strong> Ejemplo 8 </strong> </h4>\n",
    "<p style=\"text-align: justify;\"> Conjunto de datos con todos los departamentos, ordenados de mayor\n",
    "a menor con respecto a su población, que incluye la siguiente información: número de municipios, superficie,\n",
    "población, densidad poblacional, todo referente a los municipios con índice de ruralidad mayor a 60.</p>\n"
   ]
  },
  {
   "cell_type": "code",
   "execution_count": null,
   "metadata": {},
   "outputs": [],
   "source": [
    "\n",
    "\n",
    "e8 <- Municipios %>%\n",
    "      filter(Irural > 60) %>%\n",
    "      group_by(Dep,Departamento) %>%\n",
    "      summarise(nmunicipios=n(),totpob=sum(Poblacion),totsup=sum(Superficie),\n",
    "                denspob=totpob/totsup) %>%\n",
    "      arrange(desc(totpob)) %>% \n",
    "      as.data.frame()\n",
    "\n",
    "all.equal(e8,E8,check.attributes=FALSE)\n",
    "str(e8)\n",
    "\n",
    "\n"
   ]
  },
  {
   "cell_type": "markdown",
   "metadata": {},
   "source": [
    "\n",
    "<p></p><h4> <strong> Ejemplo 9 </strong> </h4>\n",
    "<p style=\"text-align: justify;\"> Cual es la región con el mayor número de departamentos?</p>\n"
   ]
  },
  {
   "cell_type": "code",
   "execution_count": null,
   "metadata": {},
   "outputs": [],
   "source": [
    "\n",
    "\n",
    "Municipios %>% \n",
    "group_by(Region) %>%\n",
    "summarise(Deps=n_distinct(Dep)) %>%\n",
    "arrange(desc(Deps)) %>%\n",
    "filter(row_number()==1) %>% \n",
    "as.data.frame()\n",
    "\n",
    "\n"
   ]
  },
  {
   "cell_type": "markdown",
   "metadata": {},
   "source": [
    "\n",
    "<p></p><h4> <strong> Ejemplo 10 </strong> </h4>\n",
    "<p style=\"text-align: justify;\"> Conjunto de datos con todos los departamentos con al menos 650 mil habitantes\n",
    "y al menos 10 mil $km^2$ de superficie, ordenados de mayor a menor con relación a su densidad poblacional, y que incluye la siguiente información:\n",
    "número de municipios, superficie, población y densidad poblacional.</p>\n"
   ]
  },
  {
   "cell_type": "code",
   "execution_count": null,
   "metadata": {},
   "outputs": [],
   "source": [
    "\n",
    "\n",
    "e10 <- Municipios %>%\n",
    "       group_by(Dep,Departamento) %>%\n",
    "       summarise(nmunicipios=n(),totpob=sum(Poblacion),totsup=sum(Superficie),\n",
    "                 denspob=totpob/totsup) %>%\n",
    "       filter(totpob >= 650000 & totsup >= 10000) %>%\n",
    "       arrange(desc(denspob)) %>% \n",
    "       as.data.frame()\n",
    "\n",
    "all.equal(e10,E10,check.attributes=FALSE)\n",
    "str(e10)\n",
    "\n",
    "\n"
   ]
  },
  {
   "cell_type": "markdown",
   "metadata": {},
   "source": [
    "\n",
    "<p></p><h4> <strong> Ejemplo 11 </strong> </h4>\n",
    "<p style=\"text-align: justify;\"> Conjunto de datos con todos los departamentos con al menos 650 mil\n",
    "habitantes y al menos 10 mil $km^2$ de superficie, ordenados de mayor\n",
    "a menor con relación a su densidad poblacional, y que incluye la siguiente información:\n",
    "número de municipios, superficie, población, y densidad\n",
    "poblacional, todo referente a municipios con índice de ruralidad mayor a 40.</p>\n"
   ]
  },
  {
   "cell_type": "code",
   "execution_count": null,
   "metadata": {},
   "outputs": [],
   "source": [
    "\n",
    "\n",
    "e11 <- Municipios %>%\n",
    "        filter(Irural > 40) %>%\n",
    "        group_by(Dep,Departamento) %>%\n",
    "        summarise(nmunicipios=n(),totpob=sum(Poblacion),totsup=sum(Superficie),\n",
    "                  denspob=totpob/totsup) %>%\n",
    "        filter(totpob >= 650000 & totsup >= 10000) %>%\n",
    "        arrange(desc(denspob)) %>%\n",
    "        as.data.frame()\n",
    "\n",
    "all.equal(e11,E11,check.attributes=FALSE)\n",
    "str(e11)\n",
    "\n",
    "\n"
   ]
  },
  {
   "cell_type": "markdown",
   "metadata": {},
   "source": [
    "\n",
    "<p></p><h4> <strong> Ejemplo 12 </strong> </h4>\n",
    "<p style=\"text-align: justify;\"> Existen dos o más municipios con el mismo nombre?\n",
    "Cuantos? Cuales? En qué departamentos están ubicados?</p>\n"
   ]
  },
  {
   "cell_type": "code",
   "execution_count": null,
   "metadata": {},
   "outputs": [],
   "source": [
    "\n",
    "\n",
    "original <- Sys.getlocale(\"LC_COLLATE\")\n",
    "Sys.setlocale(\"LC_COLLATE\", \"C\")\n",
    "\n",
    "Repetidos <- Municipios %>%\n",
    "             group_by(Municipio) %>%\n",
    "             summarise(veces = n()) %>%\n",
    "             filter(veces > 1) %>%\n",
    "             arrange(desc(veces)) %>%\n",
    "             as.data.frame()\n",
    "\n",
    "str(Repetidos) \n",
    "head(Repetidos)\n",
    "\n",
    "e12 <- Municipios %>%\n",
    "       select(Municipio,Departamento,Dep,Depmun) %>%\n",
    "       filter(Municipio %in% with(Repetidos,Municipio)) %>%\n",
    "       arrange(Municipio,Departamento) %>%\n",
    "       as.data.frame()\n",
    "\n",
    "Sys.setlocale(\"LC_COLLATE\", original)\n",
    "\n",
    "all.equal(e12,E12,check.attributes=FALSE)\n",
    "str(e12)\n",
    "head(e12)\n",
    "tail(e12)\n",
    "\n",
    "\n"
   ]
  },
  {
   "cell_type": "markdown",
   "metadata": {},
   "source": [
    "\n",
    "<p></p><h4> <strong> Ejemplo 13 </strong> </h4>\n",
    "<p style=\"text-align: justify;\"> Existen dos o más municipios con el mismo nombre que\n",
    "hacen parte de la misma región? Cuantos? Cuales?</p>\n"
   ]
  },
  {
   "cell_type": "code",
   "execution_count": null,
   "metadata": {},
   "outputs": [],
   "source": [
    "\n",
    "\n",
    "original <- Sys.getlocale(\"LC_COLLATE\")\n",
    "Sys.setlocale(\"LC_COLLATE\", \"C\")\n",
    "\n",
    "Repetidos <- Municipios %>%\n",
    "             group_by(Region,Municipio) %>%\n",
    "             summarise(veces = n()) %>%\n",
    "             filter(veces > 1) %>%\n",
    "             arrange(desc(veces)) %>%\n",
    "             as.data.frame()\n",
    "\n",
    "str(Repetidos) \n",
    "\n",
    "e13 <- Municipios %>%\n",
    "       select(Municipio,Region,Departamento,Dep,Depmun) %>%\n",
    "       filter(str_c(Region,Municipio) %in% with(Repetidos,str_c(Region,Municipio))) %>%\n",
    "       arrange(Municipio,Region) %>%\n",
    "       as.data.frame()\n",
    "\n",
    "Sys.setlocale(\"LC_COLLATE\", original)\n",
    "\n",
    "all.equal(e13,E13,check.attributes=FALSE)\n",
    "str(e13)\n",
    "\n",
    "\n"
   ]
  },
  {
   "cell_type": "markdown",
   "metadata": {},
   "source": [
    "\n",
    "<p></p><h4> <strong> Ejemplo 14 </strong> </h4>\n",
    "<p style=\"text-align: justify;\"> Conjunto de datos con los municipios cuyos nombres inician\n",
    "con \"A\" o terminan con \"o\", no importa si llevan tilde o no.</p>\n"
   ]
  },
  {
   "cell_type": "code",
   "execution_count": null,
   "metadata": {},
   "outputs": [],
   "source": [
    "\n",
    "\n",
    "e14 <- Municipios %>% \n",
    "       select(Dep,Departamento,Municipio,Depmun) %>% \n",
    "       filter(str_detect(Municipio,\"^[AÁ]\") | str_detect(Municipio,\"[oó]$\")) %>%\n",
    "       as.data.frame()\n",
    "\n",
    "e14a <- Municipios %>% \n",
    "        select(Dep,Departamento,Municipio, Depmun) %>% \n",
    "        filter(str_detect(Municipio,\"^[AÁ]|[oó]$\")) %>%\n",
    "        as.data.frame()\n",
    "\n",
    "all.equal(e14,e14a,check.attributes=FALSE)\n",
    "all.equal(e14,E14,check.attributes=FALSE)\n",
    "str(e14) \n",
    "head(e14)\n",
    "\n",
    "\n"
   ]
  },
  {
   "cell_type": "markdown",
   "metadata": {},
   "source": [
    "\n",
    "<p></p><h4> <strong> Ejemplo 15 </strong> </h4>\n",
    "<p style=\"text-align: justify;\"> Conjunto de datos con los municipios cuyos nombres inician\n",
    "con \"A\" y terminan con \"o\", no importa si llevan tilde o no.</p>\n"
   ]
  },
  {
   "cell_type": "code",
   "execution_count": null,
   "metadata": {},
   "outputs": [],
   "source": [
    "\n",
    "\n",
    "e15 <- Municipios %>% \n",
    "       select(Dep,Departamento,Municipio,Depmun) %>% \n",
    "       filter(str_detect(Municipio,\"^[AÁ]\") & str_detect(Municipio,\"[oó]$\")) %>%\n",
    "       as.data.frame()\n",
    "\n",
    "e15a <- Municipios %>% \n",
    "        select(Dep,Departamento,Municipio,Depmun) %>% \n",
    "        filter(str_detect(Municipio,\"^[AÁ].*[oó]$\")) %>%\n",
    "        as.data.frame()\n",
    "\n",
    "all.equal(e15,e15a,check.attributes=FALSE)\n",
    "all.equal(e15,E15,check.attributes=FALSE)\n",
    "str(e15) \n",
    "head(e15)\n",
    "\n",
    "\n"
   ]
  },
  {
   "cell_type": "markdown",
   "metadata": {},
   "source": [
    "\n",
    "<p></p><h4> <strong> Ejemplo 16 </strong> </h4>\n",
    "<p style=\"text-align: justify;\"> Conjunto de datos con los municipios cuyo nombre tiene a la\n",
    "letra \"e\" en las posiciones 2 y 4, no importa si llevan tilde o no.</p>\n"
   ]
  },
  {
   "cell_type": "code",
   "execution_count": null,
   "metadata": {},
   "outputs": [],
   "source": [
    "\n",
    "\n",
    "e16 <- Municipios %>% \n",
    "       select(Dep,Departamento,Municipio,Depmun) %>% \n",
    "       filter(str_sub(Municipio,2,2) %in% c(\"e\",\"é\") & str_sub(Municipio,4,4) %in% c(\"e\",\"é\")) %>%\n",
    "       as.data.frame()\n",
    "\n",
    "e16a <- Municipios %>% \n",
    "        select(Dep,Departamento,Municipio,Depmun) %>% \n",
    "        filter(str_detect(Municipio,\"^.[eé].[eé].*\")) %>%\n",
    "        as.data.frame()\n",
    "\n",
    "all.equal(e16,e16a,check.attributes=FALSE)\n",
    "all.equal(e16,E16,check.attributes=FALSE)\n",
    "str(e16)\n",
    "\n",
    "\n"
   ]
  },
  {
   "cell_type": "markdown",
   "metadata": {},
   "source": [
    "\n",
    "<p></p><h4> <strong> Ejemplo 17 </strong> </h4>\n",
    "<p style=\"text-align: justify;\"> Conjunto de datos con los municipios cuyos nombres constan\n",
    "de más de una palabra.</p>\n"
   ]
  },
  {
   "cell_type": "code",
   "execution_count": null,
   "metadata": {},
   "outputs": [],
   "source": [
    "\n",
    "\n",
    "e17 <- Municipios %>% \n",
    "       select(Dep,Departamento,Municipio,Depmun) %>% \n",
    "       filter(str_count(Municipio,\" \")>=1) %>%\n",
    "       as.data.frame()\n",
    "\n",
    "e17a <- Municipios %>% \n",
    "        select(Dep,Departamento,Municipio,Depmun) %>% \n",
    "        filter(str_detect(Municipio,\".* .*\")) %>%\n",
    "        as.data.frame()\n",
    "\n",
    "all.equal(e17,e17a,check.attributes=FALSE)\n",
    "all.equal(e17,E17,check.attributes=FALSE)\n",
    "str(e17) \n",
    "head(e17)\n",
    "\n",
    "\n"
   ]
  },
  {
   "cell_type": "markdown",
   "metadata": {},
   "source": [
    "<p><img height=\"900\" src=\"dplyr1.png\" width=\"850\"/>"
   ]
  },
  {
   "cell_type": "markdown",
   "metadata": {},
   "source": [
    "<img height=\"900\" src=\"dplyr2.png\" width=\"850\"/></p>"
   ]
  },
  {
   "cell_type": "code",
   "execution_count": null,
   "metadata": {},
   "outputs": [],
   "source": [
    "\n",
    "\n",
    "A <- data.frame(id=c(1,2,2,3),cod=c(23,65,60,87),name=c(\"Leia\",\"Luke\",\"Yoda\",\"Hank\"))\n",
    "B <- data.frame(id=c(2,3,4),cod=c(65,87,29),age=c(23,20,25))\n",
    "A\n",
    "B\n",
    "\n",
    "A %>% inner_join(B,by=c(\"id\"=\"id\",\"cod\"=\"cod\"))\n",
    "\n",
    "B %>% inner_join(A,by=c(\"id\"=\"id\",\"cod\"=\"cod\"))\n",
    "\n",
    "A %>% left_join(B,by=c(\"id\"=\"id\",\"cod\"=\"cod\"))\n",
    "\n",
    "A %>% right_join(B,by=c(\"id\"=\"id\",\"cod\"=\"cod\"))\n",
    "\n",
    "A %>% full_join(B,by=c(\"id\"=\"id\",\"cod\"=\"cod\"))\n",
    "\n",
    "\n"
   ]
  },
  {
   "cell_type": "markdown",
   "metadata": {},
   "source": [
    "\n",
    "<p></p><h4> <strong> Ejemplo 18 </strong> </h4>\n",
    "<p style=\"text-align: justify;\"> Cuantos y cuales municipios tienen al menos una estación\n",
    "de monitoreo climático?</p>\n"
   ]
  },
  {
   "cell_type": "code",
   "execution_count": null,
   "metadata": {},
   "outputs": [],
   "source": [
    "\n",
    "\n",
    "e18 <- Estaciones %>% \n",
    "       distinct(Depmun) %>% as.data.frame()\n",
    "\n",
    "all.equal(e18,E18,check.attributes=FALSE)\n",
    "\n",
    "\n"
   ]
  },
  {
   "cell_type": "markdown",
   "metadata": {},
   "source": [
    "\n",
    "<p></p><h4> <strong> Ejemplo 19 </strong> </h4>\n",
    "<p style=\"text-align: justify;\"> Conjunto de datos con todos los municipios del país, que incluye una variable que informa el número de \n",
    "estaciones de monitoreo climático con que cuenta cada municipio.</p>\n"
   ]
  },
  {
   "cell_type": "code",
   "execution_count": null,
   "metadata": {},
   "outputs": [],
   "source": [
    "\n",
    "\n",
    "Emon <- Estaciones %>% \n",
    "        group_by(Depmun) %>%\n",
    "        summarise(nem=n())\n",
    "\n",
    "e19 <- Municipios %>%\n",
    "       left_join(Emon,by=c(\"Depmun\"=\"Depmun\")) %>%\n",
    "       mutate(nest=case_when(is.na(nem) ~ 0L,TRUE ~ nem)) %>%\n",
    "       select(everything(Municipios),nest) %>%\n",
    "       as.data.frame()\n",
    "\n",
    "all.equal(e19,E19,check.attributes=FALSE)\n",
    "str(e19)\n",
    "\n",
    "\n"
   ]
  },
  {
   "cell_type": "markdown",
   "metadata": {},
   "source": [
    "\n",
    "<p></p><h4> <strong> Ejemplo 20 </strong> </h4>\n",
    "<p style=\"text-align: justify;\"> Existen municipios que no tienen ninguna estación de\n",
    "monitoreo climático? Cuantos? Cuales?</p>\n"
   ]
  },
  {
   "cell_type": "code",
   "execution_count": null,
   "metadata": {},
   "outputs": [],
   "source": [
    "\n",
    "\n",
    "e20 <- Municipios %>%\n",
    "       left_join(Emon,by=c(\"Depmun\"=\"Depmun\")) %>%\n",
    "       filter(is.na(nem)) %>% select(everything(Municipios))%>%\n",
    "       arrange(Depmun) %>%\n",
    "       as.data.frame()\n",
    "\n",
    "e20a <- Municipios %>% arrange(Depmun) %>%\n",
    "        filter(!(Depmun %in% with(Estaciones,Depmun))) %>%\n",
    "        as.data.frame()\n",
    "\n",
    "all.equal(e20,e20a,check.attributes=FALSE)\n",
    "all.equal(e20,E20,check.attributes=FALSE)\n",
    "\n",
    "str(e20) \n",
    "head(e20)\n",
    "tail(e20)\n",
    "\n",
    "\n"
   ]
  },
  {
   "cell_type": "markdown",
   "metadata": {},
   "source": [
    "\n",
    "<p></p><h4> <strong> Ejemplo 21 </strong> </h4>\n",
    "<p style=\"text-align: justify;\"> Copia de Estaciones que solo considera estaciones de monitoreo localizadas \n",
    "como máximo a 2000 metros de altura sobre el nivel del mar, y que incluye los nombres del municipio y del\n",
    "departamento donde están ubicadas las estaciones.</p>\n"
   ]
  },
  {
   "cell_type": "code",
   "execution_count": null,
   "metadata": {},
   "outputs": [],
   "source": [
    "\n",
    "\n",
    "e21 <- Estaciones %>%\n",
    "       inner_join(Municipios,by=c(\"Depmun\"=\"Depmun\")) %>%\n",
    "       filter(ELEV <= 2000) %>%\n",
    "       select(everything(Estaciones),Municipio,Departamento,Dep)%>%\n",
    "       arrange(Depmun,CODIGO) %>%\n",
    "       as.data.frame()\n",
    "\n",
    "e21a <- Estaciones %>%\n",
    "        left_join(Municipios,by=c(\"Depmun\"=\"Depmun\")) %>%\n",
    "        filter(ELEV <= 2000) %>%\n",
    "        select(everything(Estaciones),Municipio,Departamento,Dep) %>%\n",
    "        arrange(Depmun,CODIGO) %>%\n",
    "        as.data.frame()\n",
    "\n",
    "all.equal(e21,e21a,check.attributes=FALSE)\n",
    "all.equal(e21,E21,check.attributes=FALSE)\n",
    "\n",
    "\n"
   ]
  },
  {
   "cell_type": "markdown",
   "metadata": {},
   "source": [
    "\n",
    "<p></p><h2 style=\"color:red;\"> Ejercicios </h2><p></p><h3 style=\"color:red;\"> Elecciones presidenciales en Estados Unidos</h3><p style=\"text-align: justify;\"> El conjunto de datos <strong>elections.xlsx</strong> consta de 15563 filas y registra el total de votos obtenidos por el candidato del partido demócrata (<em>democrat</em>), por el candidato del partido republicano \n",
    "(<em>republic</em>) y por los demás partidos (<em>other</em>) en las elecciones presidenciales de 2000, 2004, 2008, 2012 y 2016 (<em>year</em>) para todos los condados (<em>codecounty</em>) de los que hay información disponible. El conjunto de datos <strong>counties.xlsx</strong> consta de la siguiente información para los 3234 condados que conforman los EU: identificador (<em>codecounty</em>); nombre (<em>county</em>); identificador del estado al que pertenece (<em>codestate</em>); número de habitantes (<em>population</em>); y superficie, en millas al cuadrado (<em>area</em>). Finalmente, el conjunto de datos <strong>states.xlsx</strong> consta identificador (<em>codestate</em>); nombre (<em>state</em>); y region a la que pertenece (<em>region</em>) cada uno de los 56 estados de EU.</p><ul>\n",
    "<li><p style=\"text-align: justify;\"> Importe los conjuntos de datos.</p></li>\n",
    "<li><p style=\"text-align: justify;\"> Cuantos registros y cuantas variables tienen estos conjuntos de datos? De qué tipo son estas variables?</p></li>\n",
    "<li><p style=\"text-align: justify;\"> Existen valores perdidos en los conjuntos de datos? Cuantos? En qué variables?</p></li>\n",
    "<li><p style=\"text-align: justify;\"> Verifique que <em>codecounty</em> y <em>codestate</em> son en realidad identificadores de los condados y los estados en los conjuntos de datos <strong>counties</strong> y <strong>states</strong>, respectivamente.</p></li>\n",
    "<li><p style=\"text-align: justify;\"> Haga lo siguiente en las variables <em>county</em>, <em>state</em> y <em>region</em>: $(i)$ elimine caracteres especiales; $(ii)$ elimine espacios al inicio y al final; $(iii)$ reemplace espacios múltiples por espacios sencillos; $(iv)$ use letras mayúsculas en la inicial de cada palabra. Tenga en cuenta que los nombres de los condados del estado de Puerto Rico están escritos en español.</p></li>\n",
    "</ul>\n",
    "<p style=\"text-align: justify;\"> <strong> De ahora en adelante responda empleando dos metodologias: la primera basada en la libreria <em>sqldf</em>, y la segunda usando la libreria <em>dplyr</em>. En cada caso use <em>system.time()</em> para identificar cual de las dos formas resulta ser la más rápida.</strong> </p><ul>\n",
    "<li><p style=\"text-align: justify;\"> Cree la variable <em>populationC</em> en el conjunto de datos <em>counties</em> de tal forma que: $(i)$ <em>populationC</em> = \"low\" para el $25\\%$ de los condados con menor número de habitantes en cada estado; $(ii)$ <em>populationC</em> = \"high\" para el $25\\%$ de los condados con mayor número de habitantes en cada estado; y $(iii)$ <em>populationC</em> = \"mid\" para el resto de los condados de cada estado. Para los estados con menos de 3 condados defina <em>populationC</em> como <em>missing</em>.</p></li>\n",
    "<li><p style=\"text-align: justify;\"> Existen dos o más condados con el mismo nombre? Cuantos? Cuales? En qué estados están localizados?\n",
    "Cuales son los tres estados con la mayor densidad poblacional? Cuales son las dos regiones con mayor densidad poblacional?</p></li>\n",
    "<li><p style=\"text-align: justify;\"> En cuales condados el candidato del partido republicano obtuvo mayor votación que el del partido demócrata en las elecciones presidenciales de 2000, 2004, 2008, 2012 y 2016?</p></li>\n",
    "<li><p style=\"text-align: justify;\"> En cuales estados el candidato del partido republicano obtuvo mayor votación que el del partido demócrata en las elecciones presidenciales de 2000 en más del $75\\%$ del total de condados que los componen?</p></li>\n",
    "<li><p style=\"text-align: justify;\"> En cuales condados no se tiene niguna información sobre los\n",
    "resultados de las votaciones presidenciales realizadas en el periodo comprendido entre los años 2000 y 2016?</p></li>\n",
    "<li><p style=\"text-align: justify;\"> En cuales condados solo se tiene información sobre algunas, no todas, las votaciones presidenciales realizadas en el periodo comprendido entre los años 2000 y 2016?</p></li>\n",
    "<li><p style=\"text-align: justify;\"> En qué años el candidato demócrata ganó las elecciones en la parte del país formada por los estados con más de 10 millones de habitantes?</p></li>\n",
    "</ul>\n",
    "<p></p><h3 style=\"color:red;\"> IMDb (Internet Movie Database)</h3><p style=\"text-align: justify;\"> Importe los conjuntos de datos separados por tabulaciones en los archivos\n",
    "<strong>namebasics.rar</strong>, <strong>titlebasics.rar</strong>, <strong>titleprincipals.rar</strong> y <strong>titleratings.rar</strong>. Note que estos conjuntos de datos son subconjuntos de aquellos que se \n",
    "describen en https://www.imdb.com/interfaces/.</p><ul>\n",
    "<li><p style=\"text-align: justify;\"> Cuantas películas realizadas en la década de los 80 tienen títulos que\n",
    "inician y/o terminan con la palabra \"Aliens\"? Cual de ellas tiene la mayor duración? Quien\n",
    "dirigió esta película? Cual es la película mejor calificada de este(a) director(a)? </p></li>\n",
    "<li><p style=\"text-align: justify;\"> Cuantas películas han sido dirigidas por \"Werner Herzog\"? Cual de ellas tiene\n",
    "la mayor calificación? En cuales de ellas participa \"Klaus Kinski\" como actor? Cuales actores/actrices,\n",
    "además de \"Klaus Kinski\", participaron en la película titulada \"Nosferatu the Vampyre\"? </p></li>\n",
    "<li><p style=\"text-align: justify;\"> Cuantas películas han sido dirigidas por \"Martin Scorsese\"? Cual de ellas tiene\n",
    "la mayor duración? En cuales de ellas participan \"Joe Pesci\" y \"Robert De Niro\" como actores? Cuales actores/actrices, \n",
    "además de \"Joe Pesci\" y \"Robert De Niro\", participaron en la película titulada \"Raging Bull\"? </p></li>\n",
    "<li><p style=\"text-align: justify;\"> Cual de las películas realizadas en la década de los 70 tiene la mayor\n",
    "calificación? Quien dirigió esta película? Cual de las películas realizadas en la década de los 90 tiene la mayor\n",
    "calificación? Quienes actuaron en esta película? </p></li>\n",
    "<li><p style=\"text-align: justify;\"> Qué porcentaje de las películas realizadas en la década de los 80 tuvieron\n",
    "calificaciones superiores a 8? Qué porcentaje de las películas realizadas en la década de los 90 tuvieron\n",
    "calificaciones superiores a 8? Qué porcentaje de las películas con calificaciones superiores a 8 fueron\n",
    "realizadas en la década de los 70? Qué porcentaje de las películas con calificaciones superiores a 8 fueron\n",
    "realizadas en la década de los 80? </p></li>\n",
    "</ul>\n",
    "<p></p><h3 style=\"color:red;\"> English Premier League</h3><p style=\"text-align: justify;\"> Los archivos <strong>season-1415.xlsx</strong>, <strong>season-1516.xlsx</strong>, <strong>season-1617.xlsx</strong>, <strong>season-1718.xlsx</strong> y <strong>season-1819.xlsx</strong>\n",
    "contienen información sobre los resultados de las temporadas 14/15, 15/16, 16/17, 17/18 y 18/19, respectivamente, de la primera división del futbol inglés. La posición final de los equipos en la clasificación de cada temporada obedece al número de puntos obtenidos por cada uno de ellos, donde ${\\rm Puntos}=3\\times{\\rm PG}+{\\rm PE}$, en que ${\\rm PG}$ y ${\\rm PE}$ representan, respectivamente, el número de partidos ganados y empatados. Si hay dos o más equipos empatados en puntos el desempate se logra ordenando estos equipos de mayor a menor con respecto al <em>Gol diferencia</em>, dado por ${\\rm GA} - {\\rm GC}$, en que ${\\rm GA}$ y ${\\rm GC}$ representan, respectivamente, el número total de goles a favor y en contra. Responda las siguientes preguntas.</p><p></p><h5> En la temporada 16/17 </h5><ul>\n",
    "<li><p style=\"text-align: justify;\"> Cual fue el equipo en el primer lugar de la clasificación?</p></li>\n",
    "<li><p style=\"text-align: justify;\"> Cuantos puntos obtuvo este equipo?</p></li>\n",
    "<li><p style=\"text-align: justify;\"> Cual fue la diferencia entre el número de goles a favor y en contra de este equipo (<em>Gol diferencia</em>)?</p></li>\n",
    "<li><p style=\"text-align: justify;\"> En qué porcentaje de sus partidos ganó este equipo?</p></li>\n",
    "<li><p style=\"text-align: justify;\"> Qué porcentaje de sus disparos iban a la porteria rival? </p></li>\n",
    "<li><p style=\"text-align: justify;\"> Qué porcentaje de sus partidos terminaron sin que ninguno de sus jugadores fuera expulsado? </p></li>\n",
    "</ul>\n",
    "<p></p><h5> En la temporada 17/18 </h5><ul>\n",
    "<li><p style=\"text-align: justify;\"> Cual fue el equipo en el tercer lugar de la clasificación?</p></li>\n",
    "<li><p style=\"text-align: justify;\"> Cuantos puntos obtuvo este equipo?</p></li>\n",
    "<li><p style=\"text-align: justify;\"> Cual fue la diferencia entre el número de goles a favor y en contra de este equipo (<em>Gol diferencia</em>)?</p></li>\n",
    "<li><p style=\"text-align: justify;\"> En qué porcentaje de sus partidos ganó este equipo?</p></li>\n",
    "<li><p style=\"text-align: justify;\"> Qué porcentaje de sus disparos iban a la porteria rival? </p></li>\n",
    "<li><p style=\"text-align: justify;\"> Qué porcentaje de sus partidos terminaron sin que ninguno de sus jugadores fuera expulsado? </p></li>\n",
    "</ul>\n",
    "<p></p><h5> Parte de la temporada 18/19 que se jugó durante 2018 </h5><ul>\n",
    "<li><p style=\"text-align: justify;\"> Cual fue el equipo en el primer lugar de la clasificación?</p></li>\n",
    "<li><p style=\"text-align: justify;\"> Cuantos puntos obtuvo este equipo?</p></li>\n",
    "<li><p style=\"text-align: justify;\"> Cual fue la diferencia entre el número de goles a favor y en contra de este equipo (<em>Gol diferencia</em>)?</p></li>\n",
    "<li><p style=\"text-align: justify;\"> En qué porcentaje de sus partidos ganó este equipo?</p></li>\n",
    "<li><p style=\"text-align: justify;\"> Qué porcentaje de sus disparos iban a la porteria rival? </p></li>\n",
    "<li><p style=\"text-align: justify;\"> Qué porcentaje de sus partidos terminaron sin que ninguno de sus jugadores fuera expulsado? </p></li>\n",
    "</ul>\n",
    "<p></p><h5> Desde la temporada 14/15 hasta la 18/19 </h5><ul>\n",
    "<li><p style=\"text-align: justify;\"> Cuales equipos se mantuvieron en las primeras 4 posiciones de la clasificación final?</p></li>\n",
    "<li><p style=\"text-align: justify;\"> Cuales equipos se mantuvieron en las primeras 5 posiciones de la clasificación final?</p></li>\n",
    "<li><p style=\"text-align: justify;\"> Cuales equipos se mantuvieron en las primeras 6 posiciones de la clasificación final?</p></li>\n",
    "<li><p style=\"text-align: justify;\"> Cuales equipos descendieron a la segunda división? Tenga en cuenta que los últimos tres equipos en la clasificación de cada temporada descienden a la segunda división.</p></li>\n",
    "</ul>\n"
   ]
  },
  {
   "cell_type": "markdown",
   "metadata": {},
   "source": [
    "<p></p><h1 style=\"color:red;\"> <strong> <center>Probabilidad</center></strong> </h1>"
   ]
  },
  {
   "cell_type": "markdown",
   "metadata": {},
   "source": [
    "<img height=\"900\" src=\"discretas1.png\" width=\"850\"/>\n",
    "<img height=\"900\" src=\"discretas2.png\" width=\"850\"/>"
   ]
  },
  {
   "cell_type": "markdown",
   "metadata": {},
   "source": [
    "\n",
    "<p></p><h4> <strong> Ejemplo 1 </strong> </h4>\n",
    "<p style=\"text-align: justify;\"> Gráfico de la función de probabilidad de una variable aleatoria con distribución de Poisson de media $\\lambda = 2.5$ en el intervalo $[0,8]$.</p>\n"
   ]
  },
  {
   "cell_type": "code",
   "execution_count": null,
   "metadata": {},
   "outputs": [],
   "source": [
    "\n",
    "\n",
    "lambda <- 2.5\n",
    "rango <- c(0,8)\n",
    "color <- \"blue\"\n",
    "x <- seq(from=rango[1],to=rango[2],by=1)\n",
    "ps <- dpois(x,lambda=lambda)\n",
    "\n",
    "plot(x,ps,bty=\"o\",type=\"h\",lwd=1,lty=\"solid\",col=color,xlab=\"x\",ylab=bquote(~f[X](x)))\n",
    "points(x,ps,pch=20,cex=2,col=color)\n",
    "title(bquote(~X~\"~ Poisson(\"~lambda==.(lambda)~\")\"),cex=2)\n",
    "labels <- ifelse(ps > 0.02,round(ps,digits=2),\"\")\n",
    "text(x,ps,label=labels,pos=4,cex=1,col=\"black\")\n",
    "\n",
    "\n"
   ]
  },
  {
   "cell_type": "markdown",
   "metadata": {},
   "source": [
    "\n",
    "<h5 id=\"Modifique-el-gráfico-variando-colores-y-los-siguientes-parámetros\">Modifique el gráfico variando colores y los siguientes parámetros<a class=\"anchor-link\" href=\"#Modifique-el-gráfico-variando-colores-y-los-siguientes-parámetros\">¶</a></h5><ul>\n",
    "<li><strong><em>bty</em></strong>: \"n\", \"o\", \"l\", \"7\", \"c\", \"u\", \"]\"</li>\n",
    "<li><strong><em>lty</em></strong>: \"solid\", \"dashed\", \"dotted\", \"dotdash\", \"longdash\", \"twodash\"</li>\n",
    "<li><strong><em>lwd</em></strong>, <strong><em>cex</em></strong>: valores positivos</li>\n",
    "<li><strong><em>pos</em></strong>: 1,2,3,4</li>\n",
    "<li><strong><em>lambda</em></strong>: valores positivos</li>\n",
    "<li><strong><em>rango</em></strong>: $(l_{inf},l_{sup})$, en que $0\\leq l_{inf}&lt;l_{sup}$</li>\n",
    "</ul>\n"
   ]
  },
  {
   "cell_type": "markdown",
   "metadata": {},
   "source": [
    "\n",
    "<p></p><h4> <strong> Ejemplo 2 </strong> </h4>\n",
    "<p style=\"text-align: justify;\"> Gráfico de la función de distribución acumulada de una variable aleatoria con distribución de Poisson de media $\\lambda = 2.5$ en el intervalo $[0,8]$.</p>\n"
   ]
  },
  {
   "cell_type": "code",
   "execution_count": null,
   "metadata": {},
   "outputs": [],
   "source": [
    "\n",
    "\n",
    "lambda <- 2.5\n",
    "rango <- c(0,8)\n",
    "color <- \"blue\"\n",
    "x <- seq(from=rango[1]-1,to=rango[2],by=1)\n",
    "ps <- ppois(x,lambda=lambda)\n",
    "cols <- ifelse(ps==0,\"white\",color)\n",
    "\n",
    "plot(x,ps,pch=21,col=cols,bg=cols,lwd=1,bty=\"o\",xlab=\"x\",ylab=bquote(~F[X](x)),cex=1.2)\n",
    "segments(x,ps,x+1,ps,col=color,lty=1,lwd=1)\n",
    "points(x+1,ps,pch=21,col=color,bg=\"white\",cex=1.2)\n",
    "title(bquote(~X~\"~ Poisson(\"~ lambda==.(lambda)~\")\"),cex=2)\n",
    "labels <- ifelse(ps < 0.99 & ps > 0.01,round(ps,digits=2),\"\")\n",
    "text(x,ps,label=labels,pos=3,cex=0.9,col=\"black\")\n",
    "\n",
    "\n"
   ]
  },
  {
   "cell_type": "markdown",
   "metadata": {},
   "source": [
    "\n",
    "<h5 id=\"Modifique-el-gráfico-variando-colores-y-los-siguientes-parámetros\">Modifique el gráfico variando colores y los siguientes parámetros<a class=\"anchor-link\" href=\"#Modifique-el-gráfico-variando-colores-y-los-siguientes-parámetros\">¶</a></h5><ul>\n",
    "<li><strong><em>bty</em></strong>: \"n\", \"o\", \"l\", \"7\", \"c\", \"u\", \"]\"</li>\n",
    "<li><strong><em>lty</em></strong>: \"solid\", \"dashed\", \"dotted\", \"dotdash\", \"longdash\", \"twodash\"</li>\n",
    "<li><strong><em>lwd</em></strong>, <strong><em>cex</em></strong>: valores positivos</li>\n",
    "<li><strong><em>pos</em></strong>: 1,2,3,4</li>\n",
    "<li><strong><em>lambda</em></strong>: valores positivos</li>\n",
    "<li><strong><em>rango</em></strong>: $(l_{inf},l_{sup})$, en que $0\\leq l_{inf}&lt;l_{sup}$</li>\n",
    "</ul>\n"
   ]
  },
  {
   "cell_type": "markdown",
   "metadata": {},
   "source": [
    "<p><img height=\"900\" src=\"continuas1.png\" width=\"850\"/>"
   ]
  },
  {
   "cell_type": "markdown",
   "metadata": {},
   "source": [
    "<img height=\"900\" src=\"continuas2.png\" width=\"850\"/>\n",
    "<img height=\"900\" src=\"continuas3.png\" width=\"850\"/>\n",
    "<img height=\"900\" src=\"continuas4.png\" width=\"850\"/></p>"
   ]
  },
  {
   "cell_type": "markdown",
   "metadata": {},
   "source": [
    "\n",
    "<p></p><h4> <strong> Ejemplo 3 </strong> </h4>\n",
    "<p style=\"text-align: justify;\"> Gráfico que compara las funciones de densidad de la distribución Beta para los siguientes valores de sus parámetros: $(α=1.0,β=9.5)$, $(α=1.5,β=9.0)$, $(α=2.5,β=7.5)$, $(α=5.0,β=5.0)$, $(α=7.5,β=2.5)$, $(α=9.0,β=1.5)$ y $(α=9.5,β=1.0)$.</p>\n"
   ]
  },
  {
   "cell_type": "code",
   "execution_count": null,
   "metadata": {},
   "outputs": [],
   "source": [
    "\n",
    "\n",
    "a <- c(1.0, 1.5, 2.5, 5.0, 7.5, 9.0, 9.5)\n",
    "b <- c(9.5, 9.0, 7.5, 5.0, 2.5, 1.5, 1.0)\n",
    "color <- \"black\"\n",
    "rango <- c(0,1)\n",
    "\n",
    "for(i in 1:length(a)){\n",
    "   curve(dbeta(x,shape1=a[i],shape2=b[i]),from=rango[1],to=rango[2],add=i>1,\n",
    "         ylab=bquote(~f[X](x)),bty=\"o\",lty=\"solid\",col=color,lwd=1)\n",
    "   text(locator(1),label=bquote(~\"(\"~alpha==.(a[i])~\",\"~beta==.(b[i])~\")\"),col=\"blue\",cex=1.3)\n",
    "}\n",
    "title(bquote(~\"Densidad Beta para algunas combinaciones de (\"~alpha~\",\"~beta~\")\"),cex=2)\n",
    "\n",
    "\n"
   ]
  },
  {
   "cell_type": "markdown",
   "metadata": {},
   "source": [
    "\n",
    "<h5 id=\"Modifique-el-gráfico-variando-colores-y-los-siguientes-parámetros\">Modifique el gráfico variando colores y los siguientes parámetros<a class=\"anchor-link\" href=\"#Modifique-el-gráfico-variando-colores-y-los-siguientes-parámetros\">¶</a></h5><ul>\n",
    "<li><strong><em>bty</em></strong>: \"n\", \"o\", \"l\", \"7\", \"c\", \"u\", \"]\"</li>\n",
    "<li><strong><em>lty</em></strong>: \"solid\", \"dashed\", \"dotted\", \"dotdash\", \"longdash\", \"twodash\"</li>\n",
    "<li><strong><em>lwd</em></strong>, <strong><em>cex</em></strong>: valores positivos</li>\n",
    "<li><strong><em>rango</em></strong>: $(l_{inf},l_{sup})$, en que $0\\leq l_{inf}&lt;l_{sup}\\leq 1$</li>\n",
    "<li>Cambie <strong><em>lty</em></strong>=\"solid\" por <strong><em>lty</em></strong>=i </li>\n",
    "<li>Cambie <strong><em>col</em></strong>=color por <strong><em>col</em></strong>=i</li>\n",
    "<li>Cambie <strong><em>lwd</em></strong>=1 por <strong><em>lwd</em></strong>=i</li>\n",
    "<li>Cambie dbeta() por pbeta()</li>\n",
    "</ul>\n"
   ]
  },
  {
   "cell_type": "markdown",
   "metadata": {},
   "source": [
    "\n",
    "<p></p><h4> <strong> Ejemplo 4 </strong> </h4>\n",
    "<p style=\"text-align: justify;\"> Gráfico que compara las funciones de densidad de la distribución Gama para los siguientes valores de sus parámetros: $(α=1.0,β=0.8)$, $(α=1.25,β=0.6)$, $(α=3.0,β=1.0)$, $(α=10,β=2.5)$, $(α=25,β=5.5)$ y $(α=100,β=20)$.</p>\n"
   ]
  },
  {
   "cell_type": "code",
   "execution_count": null,
   "metadata": {},
   "outputs": [],
   "source": [
    "\n",
    "\n",
    "a <- c(1.0, 1.25, 3.0, 10, 25, 100)\n",
    "b <- c(0.8, 0.6 , 1.0, 2.5, 5.5, 20)\n",
    "color <- \"black\"\n",
    "rango <- c(0,8)\n",
    "\n",
    "for(i in 1:length(a)){\n",
    "   curve(dgamma(x,shape=a[i],rate=b[i]),from=rango[1],to=rango[2],add=i>1,\n",
    "         ylab=bquote(~f[X](x)),bty=\"o\",lty=\"solid\",col=color,lwd=1)\n",
    "   text(locator(1),label=bquote(~\"(\"~alpha==.(a[i])~\",\"~beta==.(b[i])~\")\"),col=\"blue\",cex=1)\n",
    "}\n",
    "title(bquote(~\"Densidad Gama para algunas combinaciones de (\"~alpha~\",\"~beta~\")\"),cex=2)\n",
    "\n",
    "\n"
   ]
  },
  {
   "cell_type": "markdown",
   "metadata": {},
   "source": [
    "\n",
    "<h5 id=\"Modifique-el-gráfico-variando-colores-y-los-siguientes-parámetros\">Modifique el gráfico variando colores y los siguientes parámetros<a class=\"anchor-link\" href=\"#Modifique-el-gráfico-variando-colores-y-los-siguientes-parámetros\">¶</a></h5><ul>\n",
    "<li><strong><em>bty</em></strong>: \"n\", \"o\", \"l\", \"7\", \"c\", \"u\", \"]\"</li>\n",
    "<li><strong><em>lty</em></strong>: \"solid\", \"dashed\", \"dotted\", \"dotdash\", \"longdash\", \"twodash\"</li>\n",
    "<li><strong><em>lwd</em></strong>, <strong><em>cex</em></strong>: valores positivos</li>\n",
    "<li><strong><em>rango</em></strong>: $(l_{inf},l_{sup})$, en que $0 \\leq l_{inf}&lt;l_{sup}\\leq 1$</li>\n",
    "<li>Cambie <strong><em>lty</em></strong>=\"solid\" por <strong><em>lty</em></strong>=i </li>\n",
    "<li>Cambie <strong><em>col</em></strong>=color por <strong><em>col</em></strong>=i</li>\n",
    "<li>Cambie <strong><em>lwd</em></strong>=1 por <strong><em>lwd</em></strong>=i</li>\n",
    "<li>Cambie dgamma() por pgamma()</li>\n",
    "</ul>\n"
   ]
  },
  {
   "cell_type": "markdown",
   "metadata": {},
   "source": [
    "\n",
    "<p></p><h4> <strong> Ejemplo 5 </strong> </h4>\n",
    "<p style=\"text-align: justify;\"> Gráfico de la función de densidad conjunta de las variables aleatorias independientes $X$ y $Y$ tales que $f_{X}(x)=\\phi\\!\\left(\\dfrac{2}{\\nu_1}\\,{\\rm sinh}(x)\\right)\\dfrac{2}{\\nu_1}\\,{\\rm cosh}(x)$ y $f_{Y}(y)=\\phi\\!\\left(\\dfrac{2}{\\nu_2}\\,{\\rm sinh}(y)\\right)\\dfrac{2}{\\nu_2}\\,{\\rm cosh}(y)$, en que $\\phi(\\cdot)$ representa la función de densidad de la distribución normal estándar, $\\nu_1&gt;0$ y $\\nu_2&gt;0$.</p>\n"
   ]
  },
  {
   "cell_type": "code",
   "execution_count": null,
   "metadata": {},
   "outputs": [],
   "source": [
    "\n",
    "\n",
    "sinhnx <- function(x) dnorm((2/v1)*sinh(x))*(2/v1)*cosh(x)\n",
    "sinhny <- function(y) dnorm((2/v2)*sinh(y))*(2/v2)*cosh(y)\n",
    "fxy <- function(x,y) sinhnx(x)*sinhny(y)\n",
    "x <- seq(from=-3,to=3,length=50)\n",
    "v1 <- 7\n",
    "v2 <- 7\n",
    "z <- outer(X=x,Y=x,FUN=fxy)\n",
    "\n",
    "persp(x,x,z,theta=-30,phi=30,expand=0.5,box=TRUE,col=\"lightblue\",xlab=\"x1\",ylab=\"x2\",\n",
    "      zlab=\" \",main=\"Densidad conjunta\",ticktype=\"detailed\")\n",
    "\n",
    "\n"
   ]
  },
  {
   "cell_type": "markdown",
   "metadata": {},
   "source": [
    "\n",
    "<h5 id=\"Modifique-el-gráfico-variando-colores-y-los-siguientes-parámetros\">Modifique el gráfico variando colores y los siguientes parámetros<a class=\"anchor-link\" href=\"#Modifique-el-gráfico-variando-colores-y-los-siguientes-parámetros\">¶</a></h5><ul>\n",
    "<li><strong><em>theta</em></strong>, <strong><em>phi</em></strong>: números reales</li>\n",
    "<li><strong><em>expand</em></strong>, <strong><em>v</em></strong>: valores positivos</li>\n",
    "<li><strong><em>box</em></strong>: TRUE, FALSE</li>\n",
    "<li><strong><em>ticktype</em></strong>: \"simple\", \"detailed\"</li>\n",
    "</ul>\n"
   ]
  },
  {
   "cell_type": "markdown",
   "metadata": {},
   "source": [
    "\n",
    "<p>La libreria <strong><em>gamlss.dist</em></strong> incluye gran variedad de distribuciones discretas, continuas y mixtas, entre las que se cuentan las siguientes:</p>\n",
    "<ul>\n",
    "<li>Beta-Binomial </li>\n",
    "<li>Poisson generalizada</li>\n",
    "<li>Binomial Negativa I</li>\n",
    "<li>Binomial Negativa II</li>\n",
    "<li>Poisson - Normal Inversa</li>\n",
    "<li>Sichel</li>\n",
    "<li>Generalized gamma</li>\n",
    "<li>Power exponential</li>\n",
    "<li>Box–Cox normal</li>\n",
    "<li>Box–Cox $t$</li>\n",
    "<li>Box–Cox power exponential</li>\n",
    "<li>Beta inflacionada de ceros y/o unos</li>\n",
    "</ul>\n"
   ]
  },
  {
   "cell_type": "code",
   "execution_count": null,
   "metadata": {},
   "outputs": [],
   "source": [
    "\n",
    "\n",
    "install.packages(\"gamlss\")\n",
    "library(gamlss)\n",
    "help(gamlss.family)\n",
    "\n",
    "\n"
   ]
  },
  {
   "cell_type": "code",
   "execution_count": null,
   "metadata": {},
   "outputs": [],
   "source": [
    "\n",
    "\n",
    "pdf.plot(family=NBI, min=0, max=10, mu=5, sigma=c(0.5,0.8,1.2,1.5), \n",
    "         col=\"blue\", col.lab=\"red\", col.axis=\"black\")\n",
    "\n",
    "\n"
   ]
  },
  {
   "cell_type": "code",
   "execution_count": null,
   "metadata": {},
   "outputs": [],
   "source": [
    "\n",
    "\n",
    "pdf.plot(family=GA, min=0.01, max=3.0, mu=1, sigma=c(0.3,0.5,0.7,0.9), \n",
    "         col=\"blue\", col.lab=\"red\", col.axis=\"black\")\n",
    "\n",
    "\n"
   ]
  },
  {
   "cell_type": "markdown",
   "metadata": {},
   "source": [
    "\n",
    "<p></p><h1 style=\"color:red;\"> <strong> <center>Visualización de datos </center></strong> </h1>\n",
    "<h2 style=\"color:blue;\"> <strong> <center>Libreria    ggplot2 </center></strong> </h2>\n"
   ]
  },
  {
   "cell_type": "code",
   "execution_count": null,
   "metadata": {},
   "outputs": [],
   "source": [
    "\n",
    "\n",
    "install.packages(\"ggplot2\")\n",
    "library(ggplot2)\n",
    "help(ggplot2)\n",
    "\n",
    "\n"
   ]
  },
  {
   "cell_type": "code",
   "execution_count": null,
   "metadata": {},
   "outputs": [],
   "source": [
    "\n",
    "\n",
    "advertising <- read_excel(\"Advertising.xlsx\")\n",
    "str(advertising)\n",
    "\n",
    "\n"
   ]
  },
  {
   "cell_type": "markdown",
   "metadata": {},
   "source": [
    "\n",
    "<p></p><h4> <strong> Ejemplo 1 </strong> </h4>\n",
    "<p style=\"text-align: justify;\"> Gráfico de dispersión de las ventas del producto (<em>sales</em>) versus la inversión en publicidad en televisión para el mismo (<em>TV</em>). Estos datos se obtuvieron de <em> Witten, Hastie, Tibshirani y James (2013). An Introduction to Statistical Learning: With Applications in R. Springer.</em></p>\n"
   ]
  },
  {
   "cell_type": "code",
   "execution_count": null,
   "metadata": {},
   "outputs": [],
   "source": [
    "\n",
    "\n",
    "ggplot(advertising,aes(x=TV,y=sales)) +\n",
    "geom_point() +\n",
    "labs(title=\"Ventas versus inversión en publicidad en TV\",x=\"Publicidad en TV\",y=\"Ventas\") +\n",
    "theme_gray()\n",
    "\n",
    "\n"
   ]
  },
  {
   "cell_type": "markdown",
   "metadata": {},
   "source": [
    "\n",
    "<h5 id=\"Modifique-el-gráfico-variando-los-siguientes-parámetros\">Modifique el gráfico variando los siguientes parámetros<a class=\"anchor-link\" href=\"#Modifique-el-gráfico-variando-los-siguientes-parámetros\">¶</a></h5><ul>\n",
    "<li><strong><em>theme</em></strong>: theme_gray(), theme_linedraw(), theme_light(), theme_minimal(),\n",
    "theme_classic(), theme_void()</li>\n",
    "</ul>\n"
   ]
  },
  {
   "cell_type": "markdown",
   "metadata": {},
   "source": [
    "\n",
    "<p></p><h4> <strong> Ejemplo 2 </strong> </h4>\n",
    "<p style=\"text-align: justify;\"> Gráfico de dispersión <strong> personalizado </strong> de las ventas del producto (<em>sales</em>) versus la inversión en publicidad en televisión para el mismo (<em>TV</em>).</p>\n"
   ]
  },
  {
   "cell_type": "code",
   "execution_count": null,
   "metadata": {},
   "outputs": [],
   "source": [
    "\n",
    "\n",
    "ggplot(advertising,aes(x=TV,y=sales)) +\n",
    "geom_point(color=\"red\",shape=16,size=3.5) +\n",
    "labs(title=\"Ventas versus inversión en publicidad en TV\",x=\"Publicidad en TV\",y=\"Ventas\") +\n",
    "scale_x_continuous(breaks=seq(from=0,to=300,by=50)) +\n",
    "scale_y_continuous(breaks=seq(from=0,to=30,by=5)) +\n",
    "theme(\n",
    "  plot.title=element_text(family=\"sans\",face=\"bold\",size=20,vjust=0.5,hjust=0.5,\n",
    "                          color=\"black\",angle=0),\n",
    "  axis.title.x=element_text(family=\"sans\",face=\"bold\",size=18,vjust=0.5,hjust=0.5,\n",
    "                            color=\"blue\",angle=0),\n",
    "  axis.title.y=element_text(family=\"sans\",face=\"bold\",size=18,vjust=0.5,hjust=0.5,\n",
    "                            color=\"blue\",angle=0),\n",
    "  axis.text.x=element_text(family=\"mono\",face=\"bold\",size=14,vjust=0.5,hjust=0.5,\n",
    "                           color=\"black\",angle=0),\n",
    "  axis.text.y=element_text(family=\"mono\",face=\"bold\",size=14,vjust=0.5,hjust=0.5,\n",
    "                           color=\"black\",angle=0),\n",
    "  panel.background=element_rect(fill=\"gray92\"),\n",
    "  panel.grid.major=element_line(color=\"white\",size=1),\n",
    "  panel.grid.minor=element_line(color=\"white\",size=0.5)\n",
    "     )\n",
    "\n",
    "\n"
   ]
  },
  {
   "cell_type": "markdown",
   "metadata": {},
   "source": [
    "\n",
    "<h5 id=\"Modifique-el-gráfico-variando-colores-y-los-siguientes-parámetros\">Modifique el gráfico variando colores y los siguientes parámetros<a class=\"anchor-link\" href=\"#Modifique-el-gráfico-variando-colores-y-los-siguientes-parámetros\">¶</a></h5><ul>\n",
    "<li><strong><em>shape</em></strong>: entero en el intervalo $[0,25]$</li>\n",
    "<li><strong><em>size</em></strong>: números no negativos</li>\n",
    "<li><strong><em>hjust</em></strong>, <strong><em>vjust</em></strong>: valores en el intervalo $[0,1]$</li>\n",
    "<li><strong><em>face</em></strong>: \"plain\", \"bold\", \"italic\", \"bold.italic\"</li>\n",
    "<li><strong><em>family</em></strong>: \"mono\", \"serif\", \"sans\"</li>\n",
    "<li><strong><em>angle</em></strong>: número en el intervalo $[0,360]$</li>\n",
    "</ul>\n"
   ]
  },
  {
   "cell_type": "markdown",
   "metadata": {},
   "source": [
    "\n",
    "<p></p><h4> <strong> Ejemplo 3 </strong> </h4>\n",
    "<p style=\"text-align: justify;\"> Creación de un tema <strong> personalizado </strong>.</p>\n"
   ]
  },
  {
   "cell_type": "code",
   "execution_count": null,
   "metadata": {},
   "outputs": [],
   "source": [
    "\n",
    "\n",
    "mitema <- \n",
    "theme(\n",
    "  plot.title=element_text(family=\"sans\",face=\"bold\",size=20,vjust=0.5,hjust=0.5,\n",
    "                          color=\"black\",angle=0),\n",
    "  axis.title.x=element_text(family=\"sans\",face=\"bold\",size=18,vjust=0.5,hjust=0.5,\n",
    "                            color=\"blue\",angle=0),\n",
    "  axis.title.y=element_text(family=\"sans\",face=\"bold\",size=18,vjust=0.5,hjust=0.5,\n",
    "                            color=\"blue\",angle=90),\n",
    "  axis.text.x=element_text(family=\"mono\",face=\"bold\",size=14,vjust=0.5,hjust=0.5,\n",
    "                           color=\"black\",angle=0),\n",
    "  axis.text.y=element_text(family=\"mono\",face=\"bold\",size=14,vjust=0.5,hjust=0.5,\n",
    "                           color=\"black\",angle=0),\n",
    "  panel.background=element_rect(fill=\"gray92\"),\n",
    "  panel.grid.major=element_line(color=\"white\",size=1),\n",
    "  panel.grid.minor=element_line(color=\"white\",size=0.5)\n",
    "     )\n",
    "\n",
    "\n"
   ]
  },
  {
   "cell_type": "markdown",
   "metadata": {},
   "source": [
    "\n",
    "<h5 id=\"Modifique-el-tema-variando-colores-y-los-siguientes-parámetros\">Modifique el tema variando colores y los siguientes parámetros<a class=\"anchor-link\" href=\"#Modifique-el-tema-variando-colores-y-los-siguientes-parámetros\">¶</a></h5><ul>\n",
    "<li><strong><em>shape</em></strong>: entero en el intervalo $[0,25]$</li>\n",
    "<li><strong><em>size</em></strong>: números no negativos</li>\n",
    "<li><strong><em>hjust</em></strong>, <strong><em>vjust</em></strong>: valores en el intervalo $[0,1]$</li>\n",
    "<li><strong><em>face</em></strong>: \"plain\", \"bold\", \"italic\", \"bold.italic\"</li>\n",
    "<li><strong><em>family</em></strong>: \"mono\", \"serif\", \"sans\"</li>\n",
    "<li><strong><em>angle</em></strong>: número en el intervalo $[0,360]$</li>\n",
    "</ul>\n"
   ]
  },
  {
   "cell_type": "markdown",
   "metadata": {},
   "source": [
    "\n",
    "<p></p><h4> <strong> Ejemplo 4 </strong> </h4>\n",
    "<p style=\"text-align: justify;\"> Gráfico de dispersión de las ventas del producto (<em>sales</em>) versus la inversión en publicidad en televisión para el mismo (<em>TV</em>), el cual incluye una curva de tendencia obtenida usando regresión polinómica.</p>\n"
   ]
  },
  {
   "cell_type": "code",
   "execution_count": null,
   "metadata": {},
   "outputs": [],
   "source": [
    "\n",
    "\n",
    "ggplot(advertising,aes(x=TV,y=sales)) +\n",
    "geom_point(color=\"red\",shape=16,size=3.5) +\n",
    "geom_smooth(method=\"lm\",formula=y ~ poly(x,degree=4),se=FALSE,size=1,\n",
    "            linetype=\"solid\",color=\"black\") + \n",
    "labs(title=\"Ventas versus inversión en publicidad en TV\",x=\"Publicidad en TV\",y=\"Ventas\") + \n",
    "scale_x_continuous(breaks=seq(from=0,to=300,by=50)) +\n",
    "scale_y_continuous(breaks=seq(from=0,to=30,by=5)) + mitema\n",
    "\n",
    "\n"
   ]
  },
  {
   "cell_type": "markdown",
   "metadata": {},
   "source": [
    "\n",
    "<h5 id=\"Modifique-el-gráfico-variando-colores-y-los-siguientes-parámetros\">Modifique el gráfico variando colores y los siguientes parámetros<a class=\"anchor-link\" href=\"#Modifique-el-gráfico-variando-colores-y-los-siguientes-parámetros\">¶</a></h5><ul>\n",
    "<li><strong><em>shape</em></strong>: entero en el intervalo $[0,25]$</li>\n",
    "<li><strong><em>size</em></strong>: números no negativos</li>\n",
    "<li><strong><em>linetype</em></strong>: \"solid\", \"dashed\", \"dotted\", \"dotdash\", \"longdash\", \"twodash\"</li>\n",
    "<li><strong><em>degree</em></strong>: entero positivo</li>\n",
    "<li><strong><em>se</em></strong>: TRUE, FALSE</li>\n",
    "</ul>\n"
   ]
  },
  {
   "cell_type": "markdown",
   "metadata": {},
   "source": [
    "\n",
    "<p></p><h4> <strong> Ejemplo 5 </strong> </h4>\n",
    "<p style=\"text-align: justify;\"> Gráfico de dispersión de las ventas del producto (<em>sales</em>) versus la inversión en publicidad en televisión para el mismo (<em>TV</em>), el cual incluye una curva de tendencia obtenida usando regresión no paramétrica.</p>\n"
   ]
  },
  {
   "cell_type": "code",
   "execution_count": null,
   "metadata": {},
   "outputs": [],
   "source": [
    "\n",
    "\n",
    "ggplot(advertising,aes(x=TV,y=sales)) +\n",
    "geom_point(color=\"red\",shape=16,size=3.5) +\n",
    "geom_smooth(method=\"gam\",formula=y ~ s(x,bs=\"cr\"),se=FALSE,size=1,\n",
    "            linetype=\"solid\",color=\"black\") + \n",
    "scale_x_continuous(breaks=seq(from=0,to=300,by=50)) +\n",
    "scale_y_continuous(breaks=seq(from=0,to=30,by=5)) +\n",
    "labs(title=\"Ventas versus inversión en publicidad en TV\",x=\"Publicidad en TV\",y=\"Ventas\") + mitema\n",
    "\n",
    "\n"
   ]
  },
  {
   "cell_type": "markdown",
   "metadata": {},
   "source": [
    "\n",
    "<h5 id=\"Modifique-el-gráfico-variando-colores-y-los-siguientes-parámetros\">Modifique el gráfico variando colores y los siguientes parámetros<a class=\"anchor-link\" href=\"#Modifique-el-gráfico-variando-colores-y-los-siguientes-parámetros\">¶</a></h5><ul>\n",
    "<li><strong><em>shape</em></strong>: entero en el intervalo $[0,25]$</li>\n",
    "<li><strong><em>size</em></strong>: números no negativos</li>\n",
    "<li><strong><em>linetype</em></strong>: \"solid\", \"dashed\", \"dotted\", \"dotdash\", \"longdash\", \"twodash\"</li>\n",
    "<li><strong><em>bs</em></strong>: \"cr\" (cubic regression splines), \"ps\" (P-splines), \"tp\" (thin plate regression splines)</li>\n",
    "<li><strong><em>se</em></strong>: TRUE, FALSE</li>\n",
    "</ul>\n"
   ]
  },
  {
   "cell_type": "markdown",
   "metadata": {},
   "source": [
    "\n",
    "<p></p><h4> <strong> Ejemplo 6 </strong> </h4>\n",
    "<p style=\"text-align: justify;\"> Gráfico de dispersión de las ventas del producto (<em>sales</em>) versus la inversión en publicidad en televisión para el mismo (<em>TV</em>). El tamaño del marcador depende de la inversión en publicidad en radio.</p>\n"
   ]
  },
  {
   "cell_type": "code",
   "execution_count": null,
   "metadata": {},
   "outputs": [],
   "source": [
    "\n",
    "\n",
    "ggplot(advertising,aes(x=TV,y=sales,size=radio)) +\n",
    "geom_point(color=\"red\",shape=16) +\n",
    "labs(title=\"Ventas versus inversión en publicidad para TV\",x=\"Publicidad para TV\",\n",
    "     y=\"Ventas\",size=\"Publicidad\\n en radio\") +\n",
    "scale_x_continuous(breaks=seq(from=0,to=300,by=50)) +\n",
    "scale_y_continuous(breaks=seq(from=0,to=30,by=5)) +\n",
    "scale_size(range=c(0,5)) + mitema +\n",
    "theme(legend.position=\"right\",\n",
    "      legend.title=element_text(face=\"bold\",size=15,hjust=0.5,vjust=0.5,\n",
    "                                color=\"black\",angle=0),\n",
    "      legend.text=element_text(face=\"plain\",size=13,hjust=0.0,vjust=0.5,\n",
    "                               color=\"black\",angle=0),\n",
    "      legend.direction=\"vertical\"\n",
    "     )\n",
    "\n",
    "\n"
   ]
  },
  {
   "cell_type": "markdown",
   "metadata": {},
   "source": [
    "\n",
    "<h5 id=\"Modifique-el-gráfico-variando-colores-y-los-siguientes-parámetros\">Modifique el gráfico variando colores y los siguientes parámetros<a class=\"anchor-link\" href=\"#Modifique-el-gráfico-variando-colores-y-los-siguientes-parámetros\">¶</a></h5><ul>\n",
    "<li><strong><em>shape</em></strong>: entero en el intervalo $[0,25]$</li>\n",
    "<li><strong><em>hjust</em></strong>, <strong><em>vjust</em></strong>: valores en el intervalo $[0,1]$</li>\n",
    "<li><strong><em>family</em></strong>: \"mono\", \"serif\", \"sans\"</li>\n",
    "<li><strong><em>face</em></strong>: \"plain\", \"bold\", \"italic\", \"bold.italic\"</li>\n",
    "<li><strong><em>angle</em></strong>: número en el intervalo $[0,360]$</li>\n",
    "<li><strong><em>legend.position</em></strong>: \"none\", \"left\", \"right\", \"bottom\", \"top\"</li>\n",
    "<li><strong><em>legend.direction</em></strong>: \"horizontal\", \"vertical\"</li>\n",
    "</ul>\n"
   ]
  },
  {
   "cell_type": "markdown",
   "metadata": {},
   "source": [
    "\n",
    "<p></p><h4> <strong> Ejemplo 7 </strong> </h4>\n",
    "<p style=\"text-align: justify;\"> Actualización del tema <strong> personalizado </strong>.</p>\n"
   ]
  },
  {
   "cell_type": "code",
   "execution_count": null,
   "metadata": {},
   "outputs": [],
   "source": [
    "\n",
    "\n",
    "mitema <- mitema + \n",
    "theme(legend.position=\"right\",\n",
    "      legend.title=element_text(family=\"sans\",face=\"bold\",size=15,hjust=0.5,vjust=0.5,\n",
    "                                color=\"black\",angle=0),\n",
    "      legend.text=element_text(family=\"sans\",face=\"plain\",size=13,hjust=0.0,vjust=0.5,\n",
    "                               color=\"black\",angle=0),\n",
    "      legend.direction=\"vertical\"\n",
    "     )\n",
    "\n",
    "\n"
   ]
  },
  {
   "cell_type": "markdown",
   "metadata": {},
   "source": [
    "\n",
    "<h5 id=\"Modifique-el-gráfico-variando-colores-y-los-siguientes-parámetros\">Modifique el gráfico variando colores y los siguientes parámetros<a class=\"anchor-link\" href=\"#Modifique-el-gráfico-variando-colores-y-los-siguientes-parámetros\">¶</a></h5><ul>\n",
    "<li><strong><em>hjust</em></strong>, <strong><em>vjust</em></strong>: valores en el intervalo $[0,1]$</li>\n",
    "<li><strong><em>family</em></strong>: \"mono\", \"serif\", \"sans\"</li>\n",
    "<li><strong><em>face</em></strong>: \"plain\", \"bold\", \"italic\", \"bold.italic\"</li>\n",
    "<li><strong><em>angle</em></strong>: número en el intervalo $[0,360]$</li>\n",
    "<li><strong><em>legend.position</em></strong>: \"none\", \"left\", \"right\", \"bottom\", \"top\"</li>\n",
    "<li><strong><em>legend.direction</em></strong>: \"horizontal\", \"vertical\"</li>\n",
    "</ul>\n"
   ]
  },
  {
   "cell_type": "markdown",
   "metadata": {},
   "source": [
    "\n",
    "<p></p><h4> <strong> Ejemplo 8 </strong> </h4>\n",
    "<p style=\"text-align: justify;\"> Gráfico de dispersión de las ventas del producto (<em>sales</em>) versus la inversión en publicidad en televisión para el mismo (<em>TV</em>). El color del marcador depende de la inversión en publicidad en radio.</p>\n"
   ]
  },
  {
   "cell_type": "code",
   "execution_count": null,
   "metadata": {},
   "outputs": [],
   "source": [
    "\n",
    "\n",
    "ggplot(advertising,aes(x=TV,y=sales,color=radio)) +\n",
    "geom_point(size=4,shape=16) +\n",
    "scale_x_continuous(breaks=seq(from=0,to=300,by=50)) +\n",
    "scale_y_continuous(breaks=seq(from=0,to=30,by=5)) +\n",
    "labs(title=\"Ventas versus inversión en publicidad para TV\",x=\"Publicidad para TV\",\n",
    "     y=\"Ventas\",color=\"Publicidad\\n en radio\") +\n",
    "scale_color_gradient(low=\"blue\",high=\"red\",breaks=seq(0,50,10)) + mitema\n",
    "\n",
    "\n"
   ]
  },
  {
   "cell_type": "markdown",
   "metadata": {},
   "source": [
    "\n",
    "<h5 id=\"Modifique-el-gráfico-variando-colores-y-los-siguientes-parámetros\">Modifique el gráfico variando colores y los siguientes parámetros<a class=\"anchor-link\" href=\"#Modifique-el-gráfico-variando-colores-y-los-siguientes-parámetros\">¶</a></h5><ul>\n",
    "<li><strong><em>shape</em></strong>: entero en el intervalo $[0,25]$</li>\n",
    "</ul>\n"
   ]
  },
  {
   "cell_type": "markdown",
   "metadata": {},
   "source": [
    "\n",
    "<p></p><h4> <strong> Ejemplo 9 </strong> </h4>\n",
    "<p style=\"text-align: justify;\"> Gráfico de dispersión de las ventas del producto (<em>sales</em>) versus la inversión en publicidad en televisión para el mismo (<em>TV</em>). Se usan colores y marcadores diferentes dependiendo de la inversión en publicidad en radio. </p>\n"
   ]
  },
  {
   "cell_type": "code",
   "execution_count": null,
   "metadata": {},
   "outputs": [],
   "source": [
    "\n",
    "\n",
    "help(cut_number)\n",
    "\n",
    "names <- c(\"Baja\",\"Media\",\"Alta\")\n",
    "advertising <- within(advertising,radioC <- cut_number(radio,n=3,labels=names))\n",
    "with(advertising,table(radioC))\n",
    "\n",
    "\n"
   ]
  },
  {
   "cell_type": "code",
   "execution_count": null,
   "metadata": {},
   "outputs": [],
   "source": [
    "\n",
    "\n",
    "ggplot(advertising,aes(x=TV,y=sales,color=radioC,shape=radioC)) +\n",
    "geom_point(size=3.5) +\n",
    "labs(title=\"Ventas versus inversión en publicidad para TV\",x=\"Publicidad para TV\",\n",
    "     y=\"Ventas\",color=\"Publicidad\\n en radio\",shape=\"Publicidad\\n en radio\") +\n",
    "scale_x_continuous(breaks=seq(from=0,to=300,by=50)) +\n",
    "scale_y_continuous(breaks=seq(from=0,to=30,by=5)) +\n",
    "scale_color_manual(values=c(\"blue\",\"black\",\"red\")) +\n",
    "scale_shape_manual(values=c(15,16,17)) + mitema\n",
    "\n",
    "\n"
   ]
  },
  {
   "cell_type": "markdown",
   "metadata": {},
   "source": [
    "\n",
    "<h5 id=\"Modifique-el-gráfico-variando-colores-y-los-siguientes-parámetros\">Modifique el gráfico variando colores y los siguientes parámetros<a class=\"anchor-link\" href=\"#Modifique-el-gráfico-variando-colores-y-los-siguientes-parámetros\">¶</a></h5><ul>\n",
    "<li><strong><em>shape</em></strong>: entero en el intervalo $[0,25]$</li>\n",
    "<li><strong><em>size</em></strong>: números no negativos</li>\n",
    "</ul>\n"
   ]
  },
  {
   "cell_type": "markdown",
   "metadata": {},
   "source": [
    "\n",
    "<p></p><h4> <strong> Ejemplo 10 </strong> </h4>\n",
    "<p style=\"text-align: justify;\"> Gráfico de dispersión de las ventas del producto (<em>sales</em>) versus la inversión en publicidad en televisión para el mismo (<em>TV</em>), el cual incluye una curva de tendencia obtenida usando regresión polinómica. Se usan colores y marcadores diferentes dependiendo de la inversión en publicidad en radio. </p>\n"
   ]
  },
  {
   "cell_type": "code",
   "execution_count": null,
   "metadata": {},
   "outputs": [],
   "source": [
    "\n",
    "\n",
    "ggplot(advertising,aes(x=TV,y=sales,color=radioC,shape=radioC)) +\n",
    "geom_point(size=3.5) +\n",
    "geom_smooth(method=\"lm\",formula=y ~ poly(x,degree=3),se=FALSE,size=1,linetype=\"solid\") +\n",
    "scale_x_continuous(breaks=seq(from=0,to=300,by=50)) +\n",
    "scale_y_continuous(breaks=seq(from=0,to=30,by=5)) +\n",
    "labs(title=\"Ventas versus inversión en publicidad para TV\",x=\"Publicidad para TV\",\n",
    "     y=\"Ventas\",color=\"Publicidad\\n en radio\",shape=\"Publicidad\\n en radio\") +\n",
    "scale_color_manual(values=c(\"blue\",\"black\",\"red\")) +\n",
    "scale_shape_manual(values=c(15,16,17)) + mitema\n",
    "\n",
    "\n"
   ]
  },
  {
   "cell_type": "markdown",
   "metadata": {},
   "source": [
    "\n",
    "<h5 id=\"Modifique-el-gráfico-variando-colores-y-los-siguientes-parámetros\">Modifique el gráfico variando colores y los siguientes parámetros<a class=\"anchor-link\" href=\"#Modifique-el-gráfico-variando-colores-y-los-siguientes-parámetros\">¶</a></h5><ul>\n",
    "<li><strong><em>shape</em></strong>: entero en el intervalo $[0,25]$</li>\n",
    "<li><strong><em>size</em></strong>: números no negativos</li>\n",
    "<li><strong><em>linetype</em></strong>: \"solid\", \"dashed\", \"dotted\", \"dotdash\", \"longdash\", \"twodash\"</li>\n",
    "<li><strong><em>degree</em></strong>: entero positivo</li>\n",
    "<li><strong><em>se</em></strong>: TRUE, FALSE</li>\n",
    "</ul>\n"
   ]
  },
  {
   "cell_type": "markdown",
   "metadata": {},
   "source": [
    "\n",
    "<p></p><h4> <strong> Ejemplo 11 </strong> </h4>\n",
    "<p style=\"text-align: justify;\"> Gráfico de dispersión de las ventas del producto (<em>sales</em>) versus la inversión en publicidad en televisión para el mismo (<em>TV</em>), el cual incluye una curva de tendencia obtenida usando regresión no paramétrica. Se usan colores y marcadores diferentes dependiendo de la inversión en publicidad en radio. </p>\n"
   ]
  },
  {
   "cell_type": "code",
   "execution_count": null,
   "metadata": {},
   "outputs": [],
   "source": [
    "\n",
    "\n",
    "ggplot(advertising,aes(x=TV,y=sales,color=radioC,shape=radioC)) +\n",
    "geom_point(size=3.5) +\n",
    "geom_smooth(method=\"gam\",formula=y ~ s(x,bs=\"cr\"),se=FALSE,size=1,linetype=\"solid\") + \n",
    "scale_x_continuous(breaks=seq(from=0,to=300,by=50)) +\n",
    "scale_y_continuous(breaks=seq(from=0,to=30,by=5)) +\n",
    "labs(title=\"Ventas versus inversión en publicidad para TV\",x=\"Publicidad para TV\",\n",
    "     y=\"Ventas\",color=\"Publicidad\\n en radio\",shape=\"Publicidad\\n en radio\") +\n",
    "scale_color_manual(values=c(\"blue\",\"black\",\"red\")) +\n",
    "scale_shape_manual(values=c(15,16,17)) + mitema\n",
    "\n",
    "\n"
   ]
  },
  {
   "cell_type": "markdown",
   "metadata": {},
   "source": [
    "\n",
    "<h5 id=\"Modifique-el-gráfico-variando-colores-y-los-siguientes-parámetros\">Modifique el gráfico variando colores y los siguientes parámetros<a class=\"anchor-link\" href=\"#Modifique-el-gráfico-variando-colores-y-los-siguientes-parámetros\">¶</a></h5><ul>\n",
    "<li><strong><em>shape</em></strong>: entero en el intervalo $[0,25]$</li>\n",
    "<li><strong><em>size</em></strong>: números no negativos</li>\n",
    "<li><strong><em>linetype</em></strong>: \"solid\", \"dashed\", \"dotted\", \"dotdash\", \"longdash\", \"twodash\"</li>\n",
    "<li><strong><em>bs</em></strong>: \"cr\" (cubic regression splines), \"ps\" (P-splines), \"tp\" (thin plate regression splines)</li>\n",
    "<li><strong><em>se</em></strong>: TRUE, FALSE</li>\n",
    "</ul>\n"
   ]
  },
  {
   "cell_type": "markdown",
   "metadata": {},
   "source": [
    "\n",
    "<p></p><h4> <strong> Ejemplo 12 </strong> </h4>\n",
    "<p style=\"text-align: justify;\"> Gráfico de dispersión de las ventas del producto (<em>sales</em>) versus la inversión en publicidad en televisión para el mismo (<em>TV</em>), el cual incluye una curva de tendencia obtenida usando regresión polinómica. Se usan colores, marcadores y paneles diferentes dependiendo de la inversión en publicidad en radio. </p>\n"
   ]
  },
  {
   "cell_type": "code",
   "execution_count": null,
   "metadata": {},
   "outputs": [],
   "source": [
    "\n",
    "\n",
    "names <- c(\"Baja\",\"Media baja\",\"Media alta\",\"Alta\")\n",
    "advertising <- within(advertising,newspaperC <- cut_number(newspaper,n=4,labels=names))\n",
    "with(advertising,table(newspaperC))\n",
    "\n",
    "\n"
   ]
  },
  {
   "cell_type": "code",
   "execution_count": null,
   "metadata": {},
   "outputs": [],
   "source": [
    "\n",
    "\n",
    "ggplot(advertising,aes(x=TV,y=sales,color=radioC)) +\n",
    "geom_point(size=3.5,shape=16) +\n",
    "geom_smooth(method=\"lm\",formula=y ~ poly(x,degree=3),se=FALSE,size=1,linetype=\"solid\") + \n",
    "labs(title=\"Ventas versus inversión en publicidad para TV\",x=\"Publicidad para TV\",\n",
    "     y=\"Ventas\",subtitle=\"Publicidad en periodico\",color=\"Publicidad\\n en radio\") +\n",
    "scale_color_manual(values=c(\"blue\",\"black\",\"red\")) +\n",
    "facet_wrap(vars(newspaperC),ncol=2,nrow=2,strip.position=\"top\",dir=\"h\",scales=\"free\") + mitema + \n",
    "theme(\n",
    "  plot.subtitle=element_text(face=\"bold\",size=16,vjust=0.5,hjust=0.5,color=\"salmon\"),\n",
    "  strip.background=element_rect(color=\"black\",fill=\"gray80\",size=1),\n",
    "  strip.text=element_text(face=\"bold\",size=13,vjust=0.5,hjust=0.5,color=\"black\",angle=0)\n",
    "     )\n",
    "\n",
    "\n"
   ]
  },
  {
   "cell_type": "markdown",
   "metadata": {},
   "source": [
    "\n",
    "<h5 id=\"Modifique-el-gráfico-variando-colores-y-los-siguientes-parámetros\">Modifique el gráfico variando colores y los siguientes parámetros<a class=\"anchor-link\" href=\"#Modifique-el-gráfico-variando-colores-y-los-siguientes-parámetros\">¶</a></h5><ul>\n",
    "<li><strong><em>shape</em></strong>: entero en el intervalo $[0,25]$</li>\n",
    "<li><strong><em>size</em></strong>: números no negativos</li>\n",
    "<li><strong><em>linetype</em></strong>: \"solid\", \"dashed\", \"dotted\", \"dotdash\", \"longdash\", \"twodash\"</li>\n",
    "<li><strong><em>degree</em></strong>: entero positivo</li>\n",
    "<li><strong><em>se</em></strong>: TRUE, FALSE</li>\n",
    "<li><strong><em>ncol</em></strong>, <strong><em>nrow</em></strong> : enteros positivos               </li>\n",
    "<li><strong><em>size</em></strong> : números no negativos            </li>\n",
    "<li><strong><em>strip.position</em></strong> : \"top\", \"bottom\", \"left\", \"right\"</li>\n",
    "<li><strong><em>dir</em></strong> : \"h\", \"v\"</li>\n",
    "<li><strong><em>scales</em></strong> : \"fixed\", \"free\", \"free_x\", \"free_y\"</li>\n",
    "</ul>\n"
   ]
  },
  {
   "cell_type": "markdown",
   "metadata": {},
   "source": [
    "\n",
    "<p></p><h4> <strong> Ejemplo 13 </strong> </h4>\n",
    "<p style=\"text-align: justify;\"> Gráfico de caja de las ventas por cada nivel de la inversión en publicidad en televisión con un panel por cada nivel de la inversión en publicidad en radio.</p>\n"
   ]
  },
  {
   "cell_type": "code",
   "execution_count": null,
   "metadata": {},
   "outputs": [],
   "source": [
    "\n",
    "\n",
    "names <- c(\"Baja\",\"Media baja\",\"Media alta\",\"Alta\")\n",
    "names2 <- c(\"Baja\",\"Media\",\"Alta\")\n",
    "advertising <- within(advertising,{\n",
    "                      radioC <- cut_number(radio,n=4,labels=names)\n",
    "                      TVC <- cut_number(TV,n=3,labels=names2)\n",
    "                      })\n",
    "with(advertising,table(radioC))\n",
    "with(advertising,table(TVC))\n",
    "\n",
    "\n"
   ]
  },
  {
   "cell_type": "code",
   "execution_count": null,
   "metadata": {},
   "outputs": [],
   "source": [
    "\n",
    "\n",
    "ggplot(advertising,aes(x=TVC,y=sales,fill=TVC)) +\n",
    "geom_boxplot(outlier.shape=NA,color=\"black\",linetype=\"solid\") +\n",
    "scale_y_continuous(breaks=seq(from=0,to=25,by=5),limits=c(5,25)) + \n",
    "scale_fill_manual(values=c(\"red\",\"yellow\",\"blue\")) + \n",
    "labs(subtitle=\"Inversión en publicidad en radio\",\n",
    "     x=\"Inversión en publicidad en TV\", y=\"Ventas\") +\n",
    "facet_wrap(vars(radioC),ncol=4,nrow=1,strip.position=\"top\",dir=\"h\",scales=\"fixed\") +\n",
    "mitema + \n",
    "theme(\n",
    "  legend.position=\"none\",\n",
    "  plot.subtitle=element_text(face=\"bold\",size=18,vjust=0.5,hjust=0.5,color=\"blue\"),\n",
    "  strip.background=element_rect(color=\"black\",fill=\"gray80\",size=1),\n",
    "  strip.text=element_text(face=\"bold\",size=15,vjust=0.5,hjust=0.5,color=\"black\",angle=0)\n",
    "     )\n",
    "\n",
    "\n"
   ]
  },
  {
   "cell_type": "markdown",
   "metadata": {},
   "source": [
    "\n",
    "<h5 id=\"Modifique-el-gráfico-variando-colores-y-los-siguientes-parámetros\">Modifique el gráfico variando colores y los siguientes parámetros<a class=\"anchor-link\" href=\"#Modifique-el-gráfico-variando-colores-y-los-siguientes-parámetros\">¶</a></h5><ul>\n",
    "<li><strong><em>linetype</em></strong>: \"solid\", \"dashed\", \"dotted\", \"dotdash\", \"longdash\", \"twodash\"</li>\n",
    "<li><strong><em>ncol</em></strong>, <strong><em>nrow</em></strong> : enteros positivos               </li>\n",
    "<li><strong><em>strip.position</em></strong> : \"top\", \"bottom\", \"left\", \"right\"</li>\n",
    "<li><strong><em>dir</em></strong> : \"h\", \"v\"</li>\n",
    "<li><strong><em>scales</em></strong> : \"fixed\", \"free\", \"free_x\", \"free_y\"</li>\n",
    "<li>Reemplace <strong>_geom<em>boxplot()</em></strong> por <strong>_geom<em>violin()</em></strong> </li>\n",
    "</ul>\n"
   ]
  },
  {
   "cell_type": "markdown",
   "metadata": {},
   "source": [
    "\n",
    "<p></p><h4> <strong> Ejemplo 14 </strong> </h4>\n",
    "<p style=\"text-align: justify;\"> En estos datos, sacados de <em>Diggle P.J., Heagarty P., Liang K.-Y. y Zeger S.L. (2002) Analysis of Longitudinal Data. Oxford University Press, Oxford</em>, el principal objetivo del análisis es evaluar el efecto de la contaminación por ozono en el crecimiento de los árboles. En un primer grupo (<em>treat=1</em>), se cultivaron un total de 54 árboles en una atmósfera enriquecida con ozono, mientras que en un segundo grupo (<em>treat=0</em>), 25 árboles se cultivaron en una atmósfera normal. El tamaño de cada árbol (<em>size</em>) se observó 13 veces a lo largo del tiempo (<em>days</em>), es decir, 152, 174, 201, 227, 258, 469, 496, 528, 556, 579, 613, 639 y 674 días desde el inicio del experimento.</p>\n"
   ]
  },
  {
   "cell_type": "code",
   "execution_count": null,
   "metadata": {},
   "outputs": [],
   "source": [
    "\n",
    "\n",
    "install.packages(\"readr\")\n",
    "library(readr)\n",
    "spruce <- read_delim(\"spruce.txt\",delim=\"\\t\",col_names=TRUE)\n",
    "spruce <- within(spruce,treat <- factor(treat,labels=c(\"normal\",\"enriquecida\\n con ozono\")))\n",
    "str(spruce)\n",
    "\n",
    "\n"
   ]
  },
  {
   "cell_type": "code",
   "execution_count": null,
   "metadata": {},
   "outputs": [],
   "source": [
    "\n",
    "\n",
    "ggplot(spruce,aes(x=factor(days),y=size/1000,fill=treat)) + \n",
    "geom_boxplot(outlier.shape=NA,color=\"black\",linetype=\"solid\") + \n",
    "scale_y_continuous(breaks=seq(from=0,to=150,by=25),limits=c(0,150)) + \n",
    "labs(x=\"Días desde el comienzo del experimento\", y=\"Tamaño\", fill=\"Atmósfera\") + \n",
    "scale_fill_manual(values=c(\"salmon2\",\"green2\")) + \n",
    "mitema + theme(legend.position=\"right\",\n",
    "               legend.text=element_text(size=14,hjust=0),\n",
    "               legend.title=element_text(face=\"bold\",size=15))\n",
    "\n",
    "\n"
   ]
  },
  {
   "cell_type": "markdown",
   "metadata": {},
   "source": [
    "\n",
    "<h5 id=\"Modifique-el-gráfico-variando-colores-y-los-siguientes-parámetros\">Modifique el gráfico variando colores y los siguientes parámetros<a class=\"anchor-link\" href=\"#Modifique-el-gráfico-variando-colores-y-los-siguientes-parámetros\">¶</a></h5><ul>\n",
    "<li><strong><em>linetype</em></strong>: \"solid\", \"dashed\", \"dotted\", \"dotdash\", \"longdash\", \"twodash\"</li>\n",
    "<li>Reemplace <strong>_geom<em>boxplot()</em></strong> por <strong>_geom<em>violin()</em></strong> </li>\n",
    "<li>Adicione <strong>+ _coord<em>flip()</em></strong></li>\n",
    "</ul>\n"
   ]
  },
  {
   "cell_type": "markdown",
   "metadata": {},
   "source": [
    "\n",
    "<p></p><h4> <strong> Ejemplo 15 </strong> </h4>\n",
    "<p style=\"text-align: justify;\"> Gráfico de <em>pie</em> que muestra el porcentaje de la población en cada categoria de la variable <em>Region</em>.</p>\n"
   ]
  },
  {
   "cell_type": "code",
   "execution_count": null,
   "metadata": {},
   "outputs": [],
   "source": [
    "\n",
    "\n",
    "Pobl <- Municipios %>% \n",
    "        group_by(Region) %>% \n",
    "        summarise(freq=sum(Poblacion)) %>% \n",
    "        mutate(percent=round(100*freq/sum(freq),digits=1),\n",
    "               labels=paste0(str_replace(Region,\"Región \",\"\"),\"\\n (\",percent,\"%)\"))\n",
    "\n",
    "\n"
   ]
  },
  {
   "cell_type": "code",
   "execution_count": null,
   "metadata": {},
   "outputs": [],
   "source": [
    "\n",
    "\n",
    "ggplot(Pobl,aes(x=\"\",y=freq,fill=Region)) +\n",
    "  geom_col(color=\"black\",linetype=\"solid\") +\n",
    "  geom_text(aes(label=labels),position=position_stack(vjust=0.5),size=5.2,fontface=\"bold\") +\n",
    "  coord_polar(theta=\"y\") +\n",
    "  labs(title=\"Distribución de la Población por Región\") + \n",
    "  scale_fill_brewer(palette=\"RdBu\") + \n",
    "  theme(axis.text = element_blank(),axis.ticks = element_blank(),\n",
    "        axis.title = element_blank(),panel.grid = element_blank(),\n",
    "        panel.background=element_rect(fill=\"gray92\"),legend.position=\"none\",\n",
    "        plot.title=element_text(family=\"sans\",face=\"bold\",size=22,\n",
    "        vjust=0.5,hjust=0.5,color=\"black\"))\n",
    "\n",
    "\n"
   ]
  },
  {
   "cell_type": "markdown",
   "metadata": {},
   "source": [
    "\n",
    "<h5 id=\"Modifique-el-gráfico-variando-colores-y-los-siguientes-parámetros\">Modifique el gráfico variando colores y los siguientes parámetros<a class=\"anchor-link\" href=\"#Modifique-el-gráfico-variando-colores-y-los-siguientes-parámetros\">¶</a></h5><ul>\n",
    "<li><strong><em>linetype</em></strong>: \"solid\", \"dashed\", \"dotted\", \"dotdash\", \"longdash\", \"twodash\"</li>\n",
    "<li><strong><em>size</em></strong>: números no negativos</li>\n",
    "<li><strong><em>fontface</em></strong>: \"plain\", \"bold\", \"italic\", \"bold.italic\"</li>\n",
    "<li><strong><em>palette</em></strong>: \"BrBG\", \"PiYG\", \"PRGn\", \"PuOr\", \"RdBu\", \"RdGy\", \"RdYlBu\", \"RdYlGn\",\n",
    "\"Spectral\", \"Accent\", \"Dark2\", \"Paired\", \"Pastel1\", \"Pastel2\", \"Set1\", \"Set2\", \"Set3\",\n",
    "\"Blues\", \"BuGn\", \"BuPu\", \"GnBu\", \"Greens\", \"Greys\", \"Oranges\", \"OrRd\", \"PuBu\", \"PuBuGn\", \n",
    "\"PuRd\", \"Purples\", \"RdPu\", \"Reds\", \"YlGn\", \"YlGnBu\", \"YlOrBr\", \"YlOrRd\"</li>\n",
    "</ul>\n"
   ]
  },
  {
   "cell_type": "markdown",
   "metadata": {},
   "source": [
    "\n",
    "<p></p><h4> <strong> Ejemplo 16 </strong> </h4>\n",
    "<p style=\"text-align: justify;\"> Gráfico de <em>pie</em> que muestra el porcentaje de la superficie en cada categoria de la variable <em>Region</em>.</p>\n"
   ]
  },
  {
   "cell_type": "code",
   "execution_count": null,
   "metadata": {},
   "outputs": [],
   "source": [
    "\n",
    "\n",
    "Supe <- Municipios %>% \n",
    "        group_by(Region) %>% \n",
    "        summarise(freq=sum(Superficie)) %>% \n",
    "        mutate(percent=round(100*freq/sum(freq),digits=1),\n",
    "               labels=paste0(str_replace(Region,\"Región \",\"\"),\"\\n (\",percent,\"%)\"))\n",
    "\n",
    "\n"
   ]
  },
  {
   "cell_type": "code",
   "execution_count": null,
   "metadata": {},
   "outputs": [],
   "source": [
    "\n",
    "\n",
    "ggplot(Pobl,aes(x=\"\",y=freq,fill=Region)) +\n",
    "  geom_col(color=\"black\",linetype=\"solid\") +\n",
    "  geom_text(aes(label=labels),position=position_stack(vjust=0.5),size=5.2,fontface=\"bold\") +\n",
    "  coord_polar(theta=\"y\") +\n",
    "  labs(title=\"Distribución de la Superficie por Región\") + \n",
    "  scale_fill_brewer(palette=\"RdBu\") + \n",
    "  theme(axis.text = element_blank(),axis.ticks = element_blank(),\n",
    "        axis.title = element_blank(),panel.grid = element_blank(),\n",
    "        panel.background=element_rect(fill=\"gray92\"),legend.position=\"none\",\n",
    "        plot.title=element_text(family=\"sans\",face=\"bold\",size=22,\n",
    "        vjust=0.5,hjust=0.5,color=\"black\"))\n",
    "\n",
    "\n"
   ]
  },
  {
   "cell_type": "markdown",
   "metadata": {},
   "source": [
    "\n",
    "<h5 id=\"Modifique-el-gráfico-variando-colores-y-los-siguientes-parámetros\">Modifique el gráfico variando colores y los siguientes parámetros<a class=\"anchor-link\" href=\"#Modifique-el-gráfico-variando-colores-y-los-siguientes-parámetros\">¶</a></h5><ul>\n",
    "<li><strong><em>linetype</em></strong>: \"solid\", \"dashed\", \"dotted\", \"dotdash\", \"longdash\", \"twodash\"</li>\n",
    "<li><strong><em>size</em></strong>: números no negativos</li>\n",
    "<li><strong><em>fontface</em></strong>: \"plain\", \"bold\", \"italic\", \"bold.italic\"</li>\n",
    "<li><strong><em>palette</em></strong>: \"BrBG\", \"PiYG\", \"PRGn\", \"PuOr\", \"RdBu\", \"RdGy\", \"RdYlBu\", \"RdYlGn\",\n",
    "\"Spectral\", \"Accent\", \"Dark2\", \"Paired\", \"Pastel1\", \"Pastel2\", \"Set1\", \"Set2\", \"Set3\",\n",
    "\"Blues\", \"BuGn\", \"BuPu\", \"GnBu\", \"Greens\", \"Greys\", \"Oranges\", \"OrRd\", \"PuBu\", \"PuBuGn\", \n",
    "\"PuRd\", \"Purples\", \"RdPu\", \"Reds\", \"YlGn\", \"YlGnBu\", \"YlOrBr\", \"YlOrRd\"</li>\n",
    "</ul>\n"
   ]
  },
  {
   "cell_type": "markdown",
   "metadata": {},
   "source": [
    "\n",
    "<p></p><h4> <strong> Ejemplo 17 </strong> </h4>\n",
    "<p style=\"text-align: justify;\"> Gráfico de <em>pie</em> que en cada región muestra el porcentaje de la población en cada categoria de la variable <em>Zona</em> .</p>\n"
   ]
  },
  {
   "cell_type": "code",
   "execution_count": null,
   "metadata": {},
   "outputs": [],
   "source": [
    "\n",
    "\n",
    "Pobl2 <- Municipios %>% \n",
    "         group_by(Region,Zona) %>% \n",
    "         summarise(freq2=sum(Poblacion)) %>%\n",
    "         inner_join(Pobl,by=c(\"Region\"=\"Region\")) %>%\n",
    "         mutate(percent=round(100*freq2/freq,digits=1),\n",
    "               labels=paste0(Zona,\"\\n (\",percent,\"%)\"))\n",
    "\n",
    "\n"
   ]
  },
  {
   "cell_type": "code",
   "execution_count": null,
   "metadata": {},
   "outputs": [],
   "source": [
    "\n",
    "\n",
    "ggplot(Pobl2,aes(x=\"\",y=percent,fill=Zona)) +\n",
    "  geom_col(color=\"black\",linetype=\"solid\") +\n",
    "  geom_text(aes(label=labels),position=position_stack(vjust=0.5),size=5.2,fontface=\"bold\") +\n",
    "  coord_polar(theta=\"y\") +\n",
    "  labs(title=\"Distribución de la Población por Zona\") + \n",
    "  scale_fill_brewer(palette=\"RdBu\") + \n",
    "  facet_wrap(vars(Region),ncol=3,nrow=2,strip.position=\"top\",dir=\"h\") + \n",
    "  theme(axis.text = element_blank(),axis.ticks = element_blank(),\n",
    "        axis.title = element_blank(),panel.grid = element_blank(),\n",
    "        plot.title=element_text(family=\"sans\",face=\"bold\",size=22,vjust=0.5,hjust=0.5,color=\"black\"),\n",
    "        strip.background=element_rect(color=\"black\",fill=\"gray80\",size=1),\n",
    "        strip.text=element_text(face=\"bold\",size=15,vjust=0.5,hjust=0.5,color=\"blue\",angle=0),\n",
    "        panel.background=element_rect(fill=\"gray92\"),legend.position=\"none\")\n",
    "\n",
    "\n"
   ]
  },
  {
   "cell_type": "markdown",
   "metadata": {},
   "source": [
    "\n",
    "<h5 id=\"Modifique-el-gráfico-variando-colores-y-los-siguientes-parámetros\">Modifique el gráfico variando colores y los siguientes parámetros<a class=\"anchor-link\" href=\"#Modifique-el-gráfico-variando-colores-y-los-siguientes-parámetros\">¶</a></h5><ul>\n",
    "<li><strong><em>linetype</em></strong>: \"solid\", \"dashed\", \"dotted\", \"dotdash\", \"longdash\", \"twodash\"</li>\n",
    "<li><strong><em>size</em></strong>: números no negativos</li>\n",
    "<li><strong><em>fontface</em></strong>: \"plain\", \"bold\", \"italic\", \"bold.italic\"</li>\n",
    "<li><strong><em>palette</em></strong>: \"BrBG\", \"PiYG\", \"PRGn\", \"PuOr\", \"RdBu\", \"RdGy\", \"RdYlBu\", \"RdYlGn\",\n",
    "\"Spectral\", \"Accent\", \"Dark2\", \"Paired\", \"Pastel1\", \"Pastel2\", \"Set1\", \"Set2\", \"Set3\",\n",
    "\"Blues\", \"BuGn\", \"BuPu\", \"GnBu\", \"Greens\", \"Greys\", \"Oranges\", \"OrRd\", \"PuBu\", \"PuBuGn\", \n",
    "\"PuRd\", \"Purples\", \"RdPu\", \"Reds\", \"YlGn\", \"YlGnBu\", \"YlOrBr\", \"YlOrRd\"</li>\n",
    "<li><strong><em>ncol</em></strong>, <strong><em>nrow</em></strong> : enteros positivos               </li>\n",
    "<li><strong><em>strip.position</em></strong> : \"top\", \"bottom\", \"left\", \"right\"</li>\n",
    "<li><strong><em>dir</em></strong> : \"h\", \"v\"</li>\n",
    "</ul>\n"
   ]
  },
  {
   "cell_type": "markdown",
   "metadata": {},
   "source": [
    "\n",
    "<p></p><h4> <strong> Ejemplo 18 </strong> </h4>\n",
    "<p style=\"text-align: justify;\"> Gráfico de barras que muestra el número total de municipios por <em>Region</em> y <em>Zona</em> en Colombia.</p>\n"
   ]
  },
  {
   "cell_type": "code",
   "execution_count": null,
   "metadata": {},
   "outputs": [],
   "source": [
    "\n",
    "\n",
    "ggplot(Municipios, aes(Region)) + \n",
    "geom_bar(aes(fill=Zona),position=position_dodge(),width=0.75) + \n",
    "scale_y_continuous(breaks=seq(from=0,to=300,by=50)) + \n",
    "scale_fill_manual(values=c(\"yellow\",\"blue\")) + \n",
    "labs(title=\"Número de municipios por región\", x=\" \", y=\"Número de Municipios\") + \n",
    "coord_flip() + \n",
    "mitema + theme(legend.position=\"right\",\n",
    "               axis.text.y=element_text(size=18,hjust=1),\n",
    "               axis.title.x=element_text(color=\"red\"))\n",
    "\n",
    "\n"
   ]
  },
  {
   "cell_type": "markdown",
   "metadata": {},
   "source": [
    "\n",
    "<h5 id=\"Modifique-el-gráfico-variando-colores-y-los-siguientes-parámetros\">Modifique el gráfico variando colores y los siguientes parámetros<a class=\"anchor-link\" href=\"#Modifique-el-gráfico-variando-colores-y-los-siguientes-parámetros\">¶</a></h5><ul>\n",
    "<li><strong><em>width</em></strong>: números en el intervalo $[0,1]$</li>\n",
    "<li><strong><em>size</em></strong>: números no negativos</li>\n",
    "<li><strong><em>legend.position</em></strong> : \"none\", \"left\", \"right\", \"bottom\", \"top\"</li>\n",
    "<li>elimine <strong>_+ coord<em>flip()</em></strong></li>\n",
    "</ul>\n"
   ]
  },
  {
   "cell_type": "markdown",
   "metadata": {},
   "source": [
    "\n",
    "<p></p><h4> <strong> Ejemplo 19 </strong> </h4>\n",
    "<p style=\"text-align: justify;\"> Gráfico de barras que muestra el total de la <em>Superficie</em> por <em>Region</em> y <em>Zona</em> en Colombia.</p>\n"
   ]
  },
  {
   "cell_type": "code",
   "execution_count": null,
   "metadata": {},
   "outputs": [],
   "source": [
    "\n",
    "\n",
    "ggplot(Municipios, aes(Region)) + \n",
    "geom_bar(aes(fill=Zona,weight=Superficie/1000),position=position_dodge(),width=0.75) + \n",
    "scale_y_continuous(breaks=seq(from=0,to=500,by=100)) + \n",
    "scale_fill_manual(values=c(\"yellow\",\"blue\")) + \n",
    "labs(title=\"Superficie por región\", x=\" \", y=\"Superficie, en miles de kilómetros cuadrados\") + \n",
    "coord_flip() + \n",
    "mitema + theme(legend.position=\"right\",\n",
    "               axis.text.y=element_text(size=18,hjust=1),\n",
    "               axis.title.x=element_text(color=\"red\"))\n",
    "\n",
    "\n"
   ]
  },
  {
   "cell_type": "markdown",
   "metadata": {},
   "source": [
    "\n",
    "<h5 id=\"Modifique-el-gráfico-variando-colores-y-los-siguientes-parámetros\">Modifique el gráfico variando colores y los siguientes parámetros<a class=\"anchor-link\" href=\"#Modifique-el-gráfico-variando-colores-y-los-siguientes-parámetros\">¶</a></h5><ul>\n",
    "<li><strong><em>width</em></strong>: números en el intervalo $[0,1]$</li>\n",
    "<li><strong><em>size</em></strong>: números no negativos</li>\n",
    "<li><strong><em>legend.position</em></strong> : \"none\", \"left\", \"right\", \"bottom\", \"top\"</li>\n",
    "<li>elimine <strong>_+ coord<em>flip()</em></strong></li>\n",
    "</ul>\n"
   ]
  },
  {
   "cell_type": "markdown",
   "metadata": {},
   "source": [
    "\n",
    "<p></p><h4> <strong> Ejemplo 20 </strong> </h4>\n",
    "<p style=\"text-align: justify;\"> Gráfico de barras que muestra el total de la <em>Poblacion</em> por <em>Region</em> y <em>Zona</em> en Colombia.</p>\n"
   ]
  },
  {
   "cell_type": "code",
   "execution_count": null,
   "metadata": {},
   "outputs": [],
   "source": [
    "\n",
    "\n",
    "ggplot(Municipios, aes(Region)) + \n",
    "geom_bar(aes(fill=Zona,weight=Poblacion/1000),position=position_dodge(),width=0.75) + \n",
    "scale_y_continuous(breaks=seq(from=0,to=12500,by=2500)) + \n",
    "scale_fill_manual(values=c(\"yellow\",\"blue\")) + \n",
    "labs(title=\"Población por región\", x=\" \", y=\"Población, en miles\") + \n",
    "coord_flip() + \n",
    "mitema + theme(legend.position=\"right\",\n",
    "               axis.text.y=element_text(size=18,hjust=1),\n",
    "               axis.title.x=element_text(color=\"red\"))\n",
    "\n",
    "\n"
   ]
  },
  {
   "cell_type": "markdown",
   "metadata": {},
   "source": [
    "\n",
    "<h5 id=\"Modifique-el-gráfico-variando-colores-y-los-siguientes-parámetros\">Modifique el gráfico variando colores y los siguientes parámetros<a class=\"anchor-link\" href=\"#Modifique-el-gráfico-variando-colores-y-los-siguientes-parámetros\">¶</a></h5><ul>\n",
    "<li><strong><em>width</em></strong>: números en el intervalo $[0,1]$</li>\n",
    "<li><strong><em>size</em></strong>: números no negativos</li>\n",
    "<li><strong><em>legend.position</em></strong> : \"none\", \"left\", \"right\", \"bottom\", \"top\"</li>\n",
    "<li>elimine <strong>_+ coord<em>flip()</em></strong></li>\n",
    "</ul>\n"
   ]
  },
  {
   "cell_type": "markdown",
   "metadata": {},
   "source": [
    "\n",
    "<p></p><h4> <strong> Ejemplo 21 </strong> </h4>\n",
    "<p style=\"text-align: justify;\"> Gráfico de barras que muestra el total de la <em>Poblacion</em> por <em>Region</em> y <em>Zona</em> en Colombia.</p>\n"
   ]
  },
  {
   "cell_type": "code",
   "execution_count": null,
   "metadata": {},
   "outputs": [],
   "source": [
    "\n",
    "\n",
    "ggplot(Municipios, aes(Zona)) + \n",
    "geom_bar(aes(fill=Zona,weight=Poblacion/1000),position=position_dodge(),width=0.95,color=\"black\") + \n",
    "scale_y_continuous(breaks=seq(from=0,to=12500,by=2500)) + \n",
    "scale_fill_manual(values=c(\"yellow\",\"blue\")) + \n",
    "labs(title=\"Población por región\", x=\" \", y=\"Población, en miles\") + \n",
    "facet_wrap(vars(Region),ncol=3,nrow=2,strip.position=\"top\",dir=\"h\",scales=\"fixed\") + mitema + \n",
    "theme(\n",
    "  plot.subtitle=element_text(face=\"bold\",size=16,vjust=0.5,hjust=0.5,color=\"salmon\"),\n",
    "  strip.background=element_rect(color=\"black\",fill=\"gray80\",size=1),\n",
    "  strip.text=element_text(face=\"bold\",size=15,vjust=0.5,hjust=0.5,color=\"black\",angle=0),\n",
    "  axis.title.y=element_text(color=\"red\")  \n",
    "     )\n",
    "\n",
    "\n"
   ]
  },
  {
   "cell_type": "markdown",
   "metadata": {},
   "source": [
    "\n",
    "<h5 id=\"Modifique-el-gráfico-variando-colores-y-los-siguientes-parámetros\">Modifique el gráfico variando colores y los siguientes parámetros<a class=\"anchor-link\" href=\"#Modifique-el-gráfico-variando-colores-y-los-siguientes-parámetros\">¶</a></h5><ul>\n",
    "<li><strong><em>width</em></strong>: números en el intervalo $[0,1]$</li>\n",
    "<li><strong><em>ncol</em></strong>, <strong><em>nrow</em></strong> : enteros positivos               </li>\n",
    "<li><strong><em>strip.position</em></strong> : \"top\", \"bottom\", \"left\", \"right\"</li>\n",
    "<li><strong><em>dir</em></strong> : \"h\", \"v\"</li>\n",
    "<li><strong><em>scales</em></strong> : \"fixed\", \"free\", \"free_x\", \"free_y\"</li>\n",
    "</ul>\n"
   ]
  },
  {
   "cell_type": "markdown",
   "metadata": {},
   "source": [
    "\n",
    "<p></p><h4> <strong> Ejemplo 22 </strong> </h4>\n",
    "<p style=\"text-align: justify;\"> Mapa de Colombia que muestra las diferencias entre los departamentos con respecto al índice de ruralidad promedio ponderado por población. Se destacan los departamentos con valores mayores a 70. Los archivos con extensión shp se descargaron de la página del <a href=\"https://geoportal.dane.gov.co/servicios/descarga-y-metadatos/descarga-mgn-marco-geoestadistico-nacional/\" style=\"color:black;\"> <strong> Dane. </strong> </a></p>\n"
   ]
  },
  {
   "cell_type": "code",
   "execution_count": null,
   "metadata": {},
   "outputs": [],
   "source": [
    "\n",
    "\n",
    "install.packages(\"sf\")\n",
    "\n",
    "deptos <- Municipios %>%\n",
    "          group_by(Departamento,Dep) %>%\n",
    "          summarise(Irural=sum(Poblacion*Irural)/sum(Poblacion)) %>%\n",
    "          as.data.frame()\n",
    "str(deptos)\n",
    " \n",
    "deptoshp <- sf::st_read(\"MGN_DPTO_POLITICO.shp\",quiet=TRUE)\n",
    "str(deptoshp)\n",
    "\n",
    "mapdeptos <- deptoshp %>% left_join(deptos,by=c(\"DPTO_CCDGO\"=\"Dep\"))\n",
    "str(mapdeptos)\n",
    "\n",
    "mundoshp <- sf::st_read(\"admin00.shp\",quiet=TRUE)\n",
    "mundocol <- mundoshp %>% \n",
    "            filter(CNTRY_NAME %in% c(\"Peru\",\"Brazil\",\"Venezuela\",\"Ecuador\",\"Panama\"))\n",
    "str(mundocol)\n",
    "\n",
    "\n"
   ]
  },
  {
   "cell_type": "code",
   "execution_count": null,
   "metadata": {},
   "outputs": [],
   "source": [
    "\n",
    "\n",
    "ggplot() +\n",
    "geom_sf(data=mundocol) +\n",
    "geom_sf(data=mapdeptos,aes(fill=Irural),col=\"darkgray\",linetype=\"solid\") +\n",
    "coord_sf(xlim=c(-79.5,-66.5),ylim=c(-4.5,13),expand=FALSE) +\n",
    "geom_sf_text(data=mapdeptos,aes(label=ifelse(Irural > 70,Departamento,\"\")),col=\"black\",\n",
    "             fontface=\"bold\",size=4,fun.geometry=function(x) sf::st_centroid(x)) +\n",
    "labs(x=\"Longitud\",y=\"Latitud\",title=\"Colombia\",fill=\"Índice de\\nRuralidad\") +\n",
    "scale_fill_gradient(low=\"white\",high=\"red\",n.breaks=5) +\n",
    "annotate(\"text\", x=c(-74.5,-68,-78,-69,-78.5), y=c(-2.5,0,-1,9,9), colour=\"blue\",\n",
    "         label=c(\"Perú\",\"Brasil\",\"Ecuador\",\"Venezuela\",\"Panamá\")) +\n",
    "theme(panel.background=element_rect(fill=\"lightblue\"))\n",
    "\n",
    "\n"
   ]
  },
  {
   "cell_type": "markdown",
   "metadata": {},
   "source": [
    "\n",
    "<h5 id=\"Modifique-el-gráfico-variando-colores-y-los-siguientes-parámetros\">Modifique el gráfico variando colores y los siguientes parámetros<a class=\"anchor-link\" href=\"#Modifique-el-gráfico-variando-colores-y-los-siguientes-parámetros\">¶</a></h5><ul>\n",
    "<li><strong><em>size</em></strong>: números no negativos</li>\n",
    "<li><strong><em>linetype</em></strong>: \"solid\", \"dashed\", \"dotted\", \"dotdash\", \"longdash\", \"twodash\"</li>\n",
    "<li><strong><em>fontface</em></strong>: \"plain\", \"bold\", \"italic\", \"bold.italic”</li>\n",
    "<li>Elimine las líneas 2 y 7 del código arriba</li>\n",
    "</ul>\n"
   ]
  },
  {
   "cell_type": "markdown",
   "metadata": {},
   "source": [
    "\n",
    "<p></p><h4> <strong> Ejemplo 23</strong> </h4>\n",
    "<p style=\"text-align: justify;\"> Mapa de Cundinamarca que muestra las diferencias entre los departamentos con respecto al índice de ruralidad. Se destacan los municipios con valores mayores a 50. </p>\n"
   ]
  },
  {
   "cell_type": "code",
   "execution_count": null,
   "metadata": {},
   "outputs": [],
   "source": [
    "\n",
    "\n",
    "mpioshp <- sf::st_read(\"MGN_MPIO_POLITICO.shp\",quiet=TRUE)\n",
    "str(mpioshp)\n",
    "\n",
    "cund <- mpioshp %>%\n",
    "        left_join(Municipios,by=c(\"MPIO_CCNCT\"=\"Depmun\")) %>%\n",
    "        filter(Dep==\"25\" | Dep==\"11\")\n",
    "str(cund)\n",
    "\n",
    "\n"
   ]
  },
  {
   "cell_type": "code",
   "execution_count": null,
   "metadata": {},
   "outputs": [],
   "source": [
    "\n",
    "\n",
    "ggplot() +\n",
    "geom_sf(data=deptoshp) +\n",
    "geom_sf(data=cund,aes(fill=Irural),col=\"darkgray\",linetype=\"solid\") +\n",
    "geom_sf_text(data=cund,aes(label=ifelse(Irural > 52,Municipio,\"\")),col=\"black\",\n",
    "             fontface=\"bold\",size=3.5,fun.geometry=function(x) sf::st_centroid(x)) +\n",
    "labs(x=\"Longitud\",y=\"Latitud\",title=\"Cundinamarca\",fill=\"Índice de\\nRuralidad\") +\n",
    "coord_sf(xlim=c(-74.9,-73.0),ylim=c(3.7,5.8)) + \n",
    "scale_fill_gradient(low=\"white\",high=\"red\",n.breaks=5)\n",
    "\n",
    "\n"
   ]
  },
  {
   "cell_type": "markdown",
   "metadata": {},
   "source": [
    "\n",
    "<h5 id=\"Modifique-el-gráfico-variando-colores-y-los-siguientes-parámetros\">Modifique el gráfico variando colores y los siguientes parámetros<a class=\"anchor-link\" href=\"#Modifique-el-gráfico-variando-colores-y-los-siguientes-parámetros\">¶</a></h5><ul>\n",
    "<li><strong><em>size</em></strong>: números no negativos</li>\n",
    "<li><strong><em>linetype</em></strong>: \"solid\", \"dashed\", \"dotted\", \"dotdash\", \"longdash\", \"twodash\"</li>\n",
    "<li><strong><em>fontface</em></strong>: \"plain\", \"bold\", \"italic\", \"bold.italic\"</li>\n",
    "<li>Elimine las líneas 2 y 7 del código arriba</li>\n",
    "</ul>\n"
   ]
  },
  {
   "cell_type": "markdown",
   "metadata": {},
   "source": [
    "\n",
    "<p></p><h2 style=\"color:red;\"> Ejercicios</h2><ul>\n",
    "<li><p style=\"text-align: justify;\"> Use el conjunto de datos en el objeto <em>richness</em> del paquete <em>glmtoolbox</em> de <em>R</em> para construir un gráfico de dispersión del número de especies de plantas (<em>Species</em>) versus el nivel de biomasa (<em>Biomass</em>) de las parcelas, en el que el nivel de pH del suelo (<em>pH</em>), que pertenece a una de tres categorias posibles (\"Bajo\", \"Medio\" y \"Alto\"), se identifica mediante el tipo y el color de los símbolos que identifican cada parcela. En cada nivel del pH del suelo incluya una recta que describa la relación entre <em>Species</em> y <em>Biomass</em>.</p></li>\n",
    "<li><p style=\"text-align: justify;\"> Use el conjunto de datos en el objeto <em>Ovocytes</em> del paquete <em>ssym</em> de <em>R</em> para construir un gráfico de dispersión que ilustre la evolución en el tiempo (<em>time</em>) de la fracción del volumen celular isotónico inicial (<em>fraction</em>) entre los ovocitos de cabra maduros (<em>type</em>=\"Mature\") e inmaduros (<em>type</em>=\"Immature\"). Incluya una curva suave (regresión polinómica o regresión no paramétrica) que describa la relación entre <em>fraction</em> y <em>time</em> para cada tipo de ovocito de cabra.</p></li>\n",
    "<li><p style=\"text-align: justify;\"> Use el conjunto de datos en el objeto <em>depression</em> del paquete <em>glmtoolbox</em> de <em>R</em> para construir gráficos de caja que ilustren la evolución en el tiempo (<em>visit</em>) de las diferencias en los valores en la Escala de Depresión Posnatal de Edimburgo (<em>dep</em>) entre las mujeres que fueron tratadas con estrógeno (<em>group</em>=\"estrogen\") y las que fueron tratadas con placebo (<em>group</em>=\"placebo\").</p></li>\n",
    "<li><p style=\"text-align: justify;\"> Use el conjunto de datos en el objeto <em>cellular</em> del paquete <em>glmtoolbox</em> de <em>R</em> para construir un gráfico de barras que ilustre las diferencias entre el porcentaje de células que exhibieron marcadores de diferenciación (100*<em>cells</em>/200) en todas las combinaciones de las dosis de los dos agentes de inmuno-activación, IFN (<em>ifn</em>) y TNF (<em>tnf</em>), a las que fueron expuestas.</p></li>\n",
    "<li><p style=\"text-align: justify;\"> Use el conjunto de datos de las elecciones presidenciales en EU para construir mapas que ilustren la evolución en el tiempo del porcentaje de votos para los candidatos de los partidos demócrata y republicano.</p></li>\n",
    "</ul>\n"
   ]
  },
  {
   "cell_type": "markdown",
   "metadata": {},
   "source": [
    "\n",
    "<p></p><h1 style=\"color:red;\"> <strong> <center>Optimización no lineal </center></strong> </h1>\n",
    "<h4 style=\"color:red;\"> <center>Algoritmo Broyden, Fletcher, Goldfarb y Shanno (BFGS) </center> </h4>\n"
   ]
  },
  {
   "cell_type": "markdown",
   "metadata": {},
   "source": [
    "<h3 id=\"Ejemplo-1:-Regresión-Logística\"><strong>Ejemplo 1: Regresión Logística</strong><a class=\"anchor-link\" href=\"#Ejemplo-1:-Regresión-Logística\">¶</a></h3><p style=\"text-align: justify;\"> Use el conjunto de datos <strong>ossification</strong> del paquete <em>glmtoolbox</em> de R para ajustar un modelo de regresión logística, en que la variable respuesta es el número de fetos con signos de osificación (<em>fetuses</em>) del total de ratones de la camada (<em>litter</em>), mientras que <em>pht</em> (dosis de PHT a la que se expusieron las madres de la camada) y <em>tcpo</em> (dosis de TCPO a la que se expusieron las madres de la camada) son las variables explicativas."
   ]
  },
  {
   "cell_type": "markdown",
   "metadata": {},
   "source": [
    "</p><p><img height=\"950\" src=\"mlgber.png\" width=\"1000\"/></p>"
   ]
  },
  {
   "cell_type": "code",
   "execution_count": null,
   "metadata": {},
   "outputs": [],
   "source": [
    "\n",
    "\n",
    "install.packages(\"glmtoolbox\")\n",
    "library(glmtoolbox)\n",
    "data(ossification,package=\"glmtoolbox\")\n",
    "\n",
    "help(ossification)\n",
    "\n",
    "\n"
   ]
  },
  {
   "cell_type": "code",
   "execution_count": null,
   "metadata": {},
   "outputs": [],
   "source": [
    "\n",
    "\n",
    "y <- ossification$fetuses\n",
    "m <- ossification$litter\n",
    "x1 <- ifelse(ossification$pht==\"60 mg/kg\",1,0)\n",
    "x2 <- ifelse(ossification$tcpo==\"100 mg/kg\",1,0)\n",
    "X <- cbind(1,x1,x2,x1*x2)\n",
    "\n",
    "loglik <- function(beta){\n",
    "          mu <- 1/(1 + exp(-X%*%beta))\n",
    "          return(sum(lchoose(m,y), y*log(mu) + (m-y)*log(1-mu)))\n",
    "}         \n",
    "gradient <- function(beta){\n",
    "            mu <- 1/(1 + exp(-X%*%beta))\n",
    "            return(t(X)%*%(y-m*mu))\n",
    "}\n",
    "y2 <- log(abs(y/m - 0.01)/(1 - abs(y/m - 0.01)))\n",
    "start <- chol2inv(chol(t(X)%*%X))%*%t(X)%*%y2\n",
    "\n",
    "out <- optim(par=start,fn=loglik,gr=gradient,method=\"BFGS\",control=list(reltol=1e-15,fnscale=-1),hessian=TRUE)\n",
    "\n",
    "resumen <- round(cbind(est <- out$par,\n",
    "                       se <- sqrt(diag(chol2inv(chol(-out$hessian)))),\n",
    "                       zval <- est/se,\n",
    "                       p_val <- 2*pnorm(-abs(zval))),digits=6)\n",
    "colnames(resumen) <- c(\"Estimate\", \"Std.Error\", \"z-value\", \"Pr(>|z|)\")\n",
    "rownames(resumen) <- c(\"(Intercept)\",\"pht\",\"tcpo\",\"pht*tcpo\")\n",
    "resumen\n",
    "\n",
    "cat(\"\\nAIC =\",-2*out$value + 2*length(out$par))\n",
    "cat(\"\\nBIC =\",-2*out$value + log(length(y))*length(out$par))\n",
    "\n",
    "\n"
   ]
  },
  {
   "cell_type": "code",
   "execution_count": null,
   "metadata": {},
   "outputs": [],
   "source": [
    "\n",
    "\n",
    "fit <- glm(cbind(fetuses,litter-fetuses) ~ pht + tcpo + pht*tcpo, family=binomial, data=ossification)\n",
    "summary(fit)\n",
    "\n",
    "\n"
   ]
  },
  {
   "cell_type": "markdown",
   "metadata": {},
   "source": [
    "<h3 id=\"Ejemplo-2:-Regresión-log-lineal-de-Poisson\"><strong>Ejemplo 2: Regresión log-lineal de Poisson</strong><a class=\"anchor-link\" href=\"#Ejemplo-2:-Regresión-log-lineal-de-Poisson\">¶</a></h3><p style=\"text-align: justify;\"> Use el conjunto de datos <strong>swimmers</strong> del paquete <em>glmtoolbox</em> de R para ajustar un modelo de regresión log-lineal de Poisson, en que <em>infections</em> (número de infecciones de oído reportadas por cada recluta) es la variable respuesta, mientras que <em>frequency</em> (frecuencia con que nada cada recluta), <em>location</em> (lugar donde acostumbra a nadar cada recluta) y <em>gender</em> (género de cada recluta) son las variables explicativas."
   ]
  },
  {
   "cell_type": "markdown",
   "metadata": {},
   "source": [
    "</p><p><img height=\"950\" src=\"mlgpoi.png\" width=\"1000\"/></p>"
   ]
  },
  {
   "cell_type": "code",
   "execution_count": null,
   "metadata": {},
   "outputs": [],
   "source": [
    "\n",
    "\n",
    "data(swimmers,package=\"glmtoolbox\")\n",
    "help(swimmers)\n",
    "\n",
    "\n"
   ]
  },
  {
   "cell_type": "code",
   "execution_count": null,
   "metadata": {},
   "outputs": [],
   "source": [
    "\n",
    "\n",
    "y <- swimmers$infections\n",
    "x1 <- ifelse(swimmers$frequency==\"occasional\",1,0)\n",
    "x2 <- ifelse(swimmers$location==\"non-beach\",1,0)\n",
    "x3 <- ifelse(swimmers$gender==\"male\",1,0)\n",
    "X <- cbind(1,x1,x2,x3)\n",
    "\n",
    "loglik <- function(beta){\n",
    "          mu <- exp(X%*%beta)\n",
    "          return(sum(-mu + y*log(mu) - lfactorial(y)))\n",
    "}         \n",
    "gradient <- function(beta){\n",
    "            mu <- exp(X%*%beta)\n",
    "            return(t(X)%*%(y-mu))\n",
    "}\n",
    "y2 <- log(y + 0.01)\n",
    "start <- chol2inv(chol(t(X)%*%X))%*%t(X)%*%y2\n",
    "\n",
    "out <- optim(par=start,fn=loglik,gr=gradient,method=\"BFGS\",control=list(reltol=1e-15,fnscale=-1),hessian=TRUE)\n",
    "\n",
    "resumen <- round(cbind(est <- out$par,\n",
    "                       se <- sqrt(diag(chol2inv(chol(-out$hessian)))),\n",
    "                       zval <- est/se,\n",
    "                       p_val <- 2*pnorm(-abs(zval))),digits=6)\n",
    "colnames(resumen) <- c(\"Estimate\", \"Std.Error\", \"z-value\", \"Pr(>|z|)\")\n",
    "rownames(resumen) <- c(\"(Intercept)\",\"frequency\",\"location\",\"gender\")\n",
    "resumen\n",
    "\n",
    "cat(\"\\nAIC =\",-2*out$value + 2*length(out$par))\n",
    "cat(\"\\nBIC =\",-2*out$value + log(length(y))*length(out$par))\n",
    "\n",
    "\n"
   ]
  },
  {
   "cell_type": "code",
   "execution_count": null,
   "metadata": {},
   "outputs": [],
   "source": [
    "\n",
    "\n",
    "fit <- glm(infections ~ frequency + location + gender, family=poisson, data=swimmers)\n",
    "summary(fit)\n",
    "\n",
    "\n"
   ]
  },
  {
   "cell_type": "markdown",
   "metadata": {},
   "source": [
    "<h3 id=\"Ejemplo-3:-Modelo-de-sobrevivencia-con-distribución-exponencial-para-datos-con-censura-a-la-derecha\"><strong>Ejemplo 3: Modelo de sobrevivencia con distribución exponencial para datos con censura a la derecha</strong><a class=\"anchor-link\" href=\"#Ejemplo-3:-Modelo-de-sobrevivencia-con-distribución-exponencial-para-datos-con-censura-a-la-derecha\">¶</a></h3><p style=\"text-align: justify;\"> Use el conjunto de datos <strong>ovarian</strong> del paquete <em>survival</em> de R para ajustar un modelo de regresión log-lineal con respuesta de distribución exponencial, en que <em>futime</em> (tiempo de sobrevivencia) es la variable respuesta, <em>fustat</em> es el indicador de censura, <em>age</em> (edad, en años) y <em>rx</em> (grupo de tratamiento) son las variables explicativas."
   ]
  },
  {
   "cell_type": "markdown",
   "metadata": {},
   "source": [
    "</p><p><img height=\"950\" src=\"mlgsurv.png\" width=\"1000\"/></p>"
   ]
  },
  {
   "cell_type": "code",
   "execution_count": null,
   "metadata": {},
   "outputs": [],
   "source": [
    "\n",
    "\n",
    "install.packages(\"survival\")\n",
    "library(survival)\n",
    "data(ovarian,package=\"survival\")\n",
    "help(ovarian)\n",
    "\n",
    "\n"
   ]
  },
  {
   "cell_type": "code",
   "execution_count": null,
   "metadata": {},
   "outputs": [],
   "source": [
    "\n",
    "\n",
    "z <- ovarian$futime\n",
    "x1 <- ovarian$age\n",
    "x2 <- ovarian$rx \n",
    "delta <- ovarian$fustat\n",
    "X <- cbind(1,x1,x2)\n",
    "\n",
    "loglik <- function(beta){\n",
    "          mu <- exp(X%*%beta)\n",
    "          return(-sum(z/mu + delta*log(mu)))\n",
    "}         \n",
    "gradient <- function(beta){\n",
    "            mu <- exp(X%*%beta)\n",
    "            return(t(X)%*%(z/mu - delta))\n",
    "}\n",
    "z2 <- log(z[delta==1])\n",
    "X2 <- X[delta==1,]\n",
    "start <- chol2inv(chol(t(X2)%*%X2))%*%t(X2)%*%z2\n",
    "\n",
    "out <- optim(par=start,fn=loglik,gr=gradient,method=\"BFGS\",control=list(reltol=1e-15,fnscale=-1),hessian=TRUE)\n",
    "\n",
    "resumen <- round(cbind(est <- out$par,\n",
    "                       se <- sqrt(diag(chol2inv(chol(-out$hessian)))),\n",
    "                       zval <- est/se,\n",
    "                       p_val <- 2*pnorm(-abs(zval))),digits=6)\n",
    "colnames(resumen) <- c(\"Estimate\", \"Std.Error\", \"z-value\", \"Pr(>|z|)\")\n",
    "rownames(resumen) <- c(\"(Intercept)\",\"age\",\"rx\")\n",
    "resumen\n",
    "\n",
    "cat(\"\\nAIC =\",-2*out$value + 2*length(out$par))\n",
    "cat(\"\\nBIC =\",-2*out$value + log(length(y))*length(out$par))\n",
    "\n",
    "\n"
   ]
  },
  {
   "cell_type": "code",
   "execution_count": null,
   "metadata": {},
   "outputs": [],
   "source": [
    "\n",
    "\n",
    "fit <- survreg(Surv(futime, fustat) ~ age + rx, ovarian, dist=\"exponential\")\n",
    "summary(fit)\n",
    "\n",
    "\n"
   ]
  },
  {
   "cell_type": "markdown",
   "metadata": {},
   "source": [
    "<h3 id=\"Ejemplo-4:-Modelo-de-regresión-normal-heteroscedástico\"><strong>Ejemplo 4: Modelo de regresión normal heteroscedástico</strong><a class=\"anchor-link\" href=\"#Ejemplo-4:-Modelo-de-regresión-normal-heteroscedástico\">¶</a></h3><p style=\"text-align: justify;\"> Use el conjunto de datos <strong>Auto</strong> del paquete <em>ISLR</em> de R para ajustar un modelo de regresión normal heteroscedástico, en que <em>mpg</em> (rendimiento de cada vehículo, en millas por galón) es la variable respuesta, mientras que <em>horsepower</em> (caballos de fuerza) y <em>weight</em> (peso) son las variables explicativas."
   ]
  },
  {
   "cell_type": "markdown",
   "metadata": {},
   "source": [
    "</p><p><img height=\"950\" src=\"mrnh.png\" width=\"1000\"/></p>"
   ]
  },
  {
   "cell_type": "code",
   "execution_count": null,
   "metadata": {},
   "outputs": [],
   "source": [
    "\n",
    "\n",
    "install.packages(\"ISLR\")\n",
    "data(Auto,package=\"ISLR\")\n",
    "help(Auto)\n",
    "\n",
    "\n"
   ]
  },
  {
   "cell_type": "code",
   "execution_count": null,
   "metadata": {},
   "outputs": [],
   "source": [
    "\n",
    "\n",
    "y  <- Auto$mpg\n",
    "x1 <- log(Auto$horsepower)\n",
    "x2 <- log(Auto$weight)\n",
    "\n",
    "loglik <- function(theta){\n",
    "          mu <- exp(theta[1] + theta[2]*x1 + theta[3]*x2)\n",
    "          sigma2 <- exp(theta[4] + theta[5]*x1 + theta[6]*x2)\n",
    "          return(-(1/2)*sum((y - mu)^2/sigma2 + log(2*pi*sigma2)))\n",
    "}\n",
    "start <- c(log(mean(y)),0,0,log(var(y)),0,0)\n",
    "out <- optim(par=start,fn=loglik,method=\"BFGS\",control=list(reltol=1e-15,fnscale=-1),hessian=TRUE)\n",
    "\n",
    "resumen <- round(cbind(est <- out$par,\n",
    "                       se <- sqrt(diag(chol2inv(chol(-out$hessian)))),\n",
    "                       zval <- est/se,\n",
    "                       p_val <- 2*pnorm(-abs(zval))),digits=6)\n",
    "colnames(resumen) <- c(\"Estimate\", \"Std.Error\", \"z-value\", \"Pr(>|z|)\")\n",
    "rownames(resumen) <- c(\"log(beta0)\",\"horsepower\",\"weight\",\"log(gamma0)\",\"horsepower\",\"weight\")\n",
    "resumen\n",
    "\n",
    "cat(\"\\nAIC =\",-2*out$value + 2*length(out$par))\n",
    "cat(\"\\nBIC =\",-2*out$value + log(length(y))*length(out$par))\n",
    "\n",
    "\n"
   ]
  },
  {
   "cell_type": "code",
   "execution_count": null,
   "metadata": {},
   "outputs": [],
   "source": [
    "\n",
    "\n",
    "install.packages(\"numDeriv\")\n",
    "library(numDeriv)\n",
    "gradient <- function(theta) grad(loglik,theta)\n",
    "out <- optim(par=start,fn=loglik,gr=gradient,method=\"BFGS\",control=list(reltol=1e-15,fnscale=-1),hessian=TRUE)\n",
    "\n",
    "resumen <- round(cbind(est <- out$par,\n",
    "                       se <- sqrt(diag(chol2inv(chol(-out$hessian)))),\n",
    "                       zval <- est/se,\n",
    "                       p_val <- 2*pnorm(-abs(zval))),digits=6)\n",
    "colnames(resumen) <- c(\"Estimate\", \"Std.Error\", \"z-value\", \"Pr(>|z|)\")\n",
    "rownames(resumen) <- c(\"log(beta0)\",\"horsepower\",\"weight\",\"log(gamma0)\",\"horsepower\",\"weight\")\n",
    "resumen\n",
    "\n",
    "cat(\"\\nAIC =\",-2*out$value + 2*length(out$par))\n",
    "cat(\"\\nBIC =\",-2*out$value + log(length(y))*length(out$par))\n",
    "\n",
    "\n"
   ]
  },
  {
   "cell_type": "markdown",
   "metadata": {},
   "source": [
    "\n",
    "<h1 style=\"color:red;\"> <strong> <center>Funciones personalizadas </center></strong> </h1>\n"
   ]
  },
  {
   "cell_type": "markdown",
   "metadata": {},
   "source": [
    "\n",
    "<h3 id=\"Ejemplo-1:-Números-primos\"><strong>Ejemplo 1: Números primos</strong><a class=\"anchor-link\" href=\"#Ejemplo-1:-Números-primos\">¶</a></h3>\n"
   ]
  },
  {
   "cell_type": "code",
   "execution_count": null,
   "metadata": {},
   "outputs": [],
   "source": [
    "\n",
    "\n",
    "primos <- function(n){\n",
    "   if(missingArg(n)) stop(\"Introduzca un número entero mayor a 1\",call.=FALSE)\n",
    "   if(!is.numeric(n)) stop(\"Introduzca un número entero mayor a 1\",call.=FALSE)\n",
    "   if(n<=1 | n!=floor(n)) stop(\"Introduzca un número entero mayor a 1\",call.=FALSE)\n",
    "   nmax <- max(2,floor(sqrt(n)))\n",
    "   out <- matrix(0,nrow=nmax,ncol=1)\n",
    "   m <- n\n",
    "   id <- 1\n",
    "   for(i in 2:nmax){\n",
    "      while(m%%i == 0){\n",
    "           out[id] <- i\n",
    "           m <- m/i\n",
    "           id <- id + 1\n",
    "      }\n",
    "   }\n",
    "   out <- c(out,m); out <- out[out > 1]\n",
    "   salida <- list(primo=c(out[1]==n),factores=out)\n",
    "   if(salida$primo) \n",
    "     cat(\"\\n\",n,\"es un número primo\")\n",
    "   else{\n",
    "       cat(\"\\n\",n,\"no es un número primo.\\n De hecho, \")\n",
    "       f <- table(salida$factores)\n",
    "       f2 <- ifelse(f > 1,paste0(rownames(f),\"^(\",f,\")\"),rownames(f))\n",
    "       cat(n,\"=\",paste0(f2,collapse=\" * \"),\"\\n\")\n",
    "   }\n",
    "   return(invisible(salida))\n",
    "}\n",
    "\n",
    "primos(67850)\n",
    "\n",
    "\n"
   ]
  },
  {
   "cell_type": "markdown",
   "metadata": {},
   "source": [
    "\n",
    "<h3 id=\"Ejemplo-2:-Análisis-Exploratorio-Básico\"><strong>Ejemplo 2: Análisis Exploratorio Básico</strong><a class=\"anchor-link\" href=\"#Ejemplo-2:-Análisis-Exploratorio-Básico\">¶</a></h3>\n"
   ]
  },
  {
   "cell_type": "code",
   "execution_count": null,
   "metadata": {},
   "outputs": [],
   "source": [
    "\n",
    "\n",
    "summ <- function(x){\n",
    " x2 <- na.omit(x)\n",
    " y <- c(quantile(x2,c(0,0.25,0.5,0.75,1)),length(boxplot.stats(x2)$out),sum(is.na(x)))\n",
    " y <- c(y[1:6],100*y[6]/length(x),y[7],100*y[7]/length(x))\n",
    " names(y) <- c(\"Min\",\"Q1\",\"Median\",\"Q3\",\"Max\",\"Outliers\",\"(%)Outliers\",\"Missings\",\"(%)Missings\")\n",
    " return(round(y,digits=2))\n",
    "}\n",
    "\n",
    "summ2 <- function(x){\n",
    " x2 <- na.omit(x)   \n",
    " y <- c(length(unique(x2)),sum(is.na(x)))\n",
    " y <- c(y,100*y[2]/length(x))\n",
    " names(y) <- c(\"Levels\",\"Missings\",\"(%)Missings\")\n",
    " return(round(y,digits=2))\n",
    "}\n",
    "\n",
    "eda <- function(datos){\n",
    "         clases <- sapply(datos,class)\n",
    "         num <- clases == \"numeric\" | clases == \"integer\"\n",
    "         text <- clases == \"character\" | clases == \"factor\"\n",
    "         out_ <- list()\n",
    "         if(any(num)){\n",
    "           cat(\"\\n***Resumen de las variables numéricas***\\n\\n\")\n",
    "           datos1 <- as.data.frame(datos[,num])\n",
    "           colnames(datos1) <- colnames(datos)[num]\n",
    "           out_$numeric <- apply(datos1,2,summ)\n",
    "           print(out_$numeric)\n",
    "         }\n",
    "         if(any(text)){\n",
    "           cat(\"\\n***Resumen de las variables de texto***\\n\\n\")\n",
    "           datos2 <- as.data.frame(datos[,text])\n",
    "           colnames(datos2) <- colnames(datos)[text]\n",
    "           out_$text <- apply(datos2,2,summ2)  \n",
    "           print(out_$text)\n",
    "         }\n",
    "         missings <- apply(datos,1,function(x) return(sum(is.na(x))))\n",
    "         if(any(missings > 0)){\n",
    "           cat(\"\\n***Número de missings por individuo***\\n\\n\")\n",
    "           miss <- as.matrix(table(missings))\n",
    "           miss <- cbind(miss,round(100*miss/sum(miss),digits=2))\n",
    "           colnames(miss) <- c(\"Frequency\",\"%\")\n",
    "           out_$missings <- miss  \n",
    "           print(miss)\n",
    "         }\n",
    "         return(invisible(out_))                  \n",
    "}\n",
    "\n",
    "eda(airquality)\n",
    "eda(USArrests)\n",
    "eda(Municipios)\n",
    "\n",
    "\n"
   ]
  },
  {
   "cell_type": "markdown",
   "metadata": {},
   "source": [
    "<h3 id=\"Ejemplo-3:-Análisis-de-Componentes-Principales\"><strong>Ejemplo 3: Análisis de Componentes Principales</strong><a class=\"anchor-link\" href=\"#Ejemplo-3:-Análisis-de-Componentes-Principales\">¶</a></h3>"
   ]
  },
  {
   "cell_type": "markdown",
   "metadata": {},
   "source": [
    "<p><img height=\"900\" src=\"acp.png\" width=\"850\"/></p>"
   ]
  },
  {
   "cell_type": "code",
   "execution_count": null,
   "metadata": {},
   "outputs": [],
   "source": [
    "\n",
    "\n",
    "acp <- function(model,data,matrix=c(\"corr\",\"cov\")){\n",
    "      matrix <- match.arg(matrix)\n",
    "      X <- model.frame(model,data=data)\n",
    "      stdize <- function(x,matrix){\n",
    "                if(matrix==\"corr\") return((x-mean(x))/sd(x))\n",
    "                if(matrix==\"cov\")  return((x-mean(x)))\n",
    "      }\n",
    "      X <- apply(X,2,stdize,matrix=matrix)\n",
    "      Z <- t(X)%*%X\n",
    "      vvp <- eigen(Z,symmetric=TRUE)\n",
    "      vals <- vvp$values\n",
    "      vals <- cbind(vals,vals/sum(vals),cumsum(vals)/sum(vals))\n",
    "      colnames(vals) <- c(\"Eigenvalue\",\"Proportion\",\"Cumulative proportion\")\n",
    "      rownames(vals) <- paste0(\"PC\",1:ncol(X),sep=\"\")\n",
    "      print(vals,digits=3)\n",
    "      colnames(vvp$vectors) <- rownames(vals)\n",
    "      rownames(vvp$vectors) <- colnames(X)\n",
    "      print(vvp$vectors,digits=5)\n",
    "      out_ <- list(values=vars, pcs=vvp$vectors)\n",
    "      return(invisible(out_))\n",
    "}\n",
    "\n",
    "acp(~ Murder + Assault + Rape, data = USArrests)\n",
    "\n",
    "\n"
   ]
  },
  {
   "cell_type": "markdown",
   "metadata": {},
   "source": [
    "<h3 id=\"Ejemplo-4:-Modelo-de-regresión-Normal-Lineal\"><strong>Ejemplo 4: Modelo de regresión Normal Lineal</strong><a class=\"anchor-link\" href=\"#Ejemplo-4:-Modelo-de-regresión-Normal-Lineal\">¶</a></h3>"
   ]
  },
  {
   "cell_type": "markdown",
   "metadata": {},
   "source": [
    "<p><img height=\"900\" src=\"reglin.png\" width=\"850\"/></p>"
   ]
  },
  {
   "cell_type": "code",
   "execution_count": null,
   "metadata": {},
   "outputs": [],
   "source": [
    "\n",
    "\n",
    "reglin <- function(model,data){\n",
    "      mf <- model.frame(model,data=data)\n",
    "      X <- model.matrix(mf,data=data)\n",
    "      n <- nrow(X)\n",
    "      p <- ncol(X)\n",
    "      y <- model.response(mf)\n",
    "      cov <- chol2inv(chol(t(X)%*%X))\n",
    "      b <- cov%*%t(X)%*%y\n",
    "      rownames(b) <- colnames(X)\n",
    "      mu <- X%*%b\n",
    "      sigma2 <- sum((y-mu)^2)/(n-p)\n",
    "      cov <- sigma2*cov\n",
    "      r2 <- 1-sum((y-mu)^2)/sum((y-mean(y))^2)\n",
    "      adj.r2 <- 1 - (1-r2)*((n-1)/(n-p))\n",
    "      out <- list(coef=b,sigma2=sigma2,cov=cov,r2=r2,adj.r2=adj.r2,fitted=mu)\n",
    "      class(out) <- \"mireglin\"\n",
    "      return(out)\n",
    "}\n",
    "coef.mireglin <- function(fit.model){\n",
    "                   return(fit.model$coef)\n",
    "}\n",
    "vcov.mireglin <- function(fit.model){\n",
    "                   return(fit.model$cov)\n",
    "}\n",
    "summary.mireglin <- function(fit){\n",
    "      p <- length(fit$coef)\n",
    "      n <- length(fit$fitted)\n",
    "      t <- fit$coef/sqrt(diag(fit$cov))\n",
    "      f <- (1/(1-fit$r2)-1)*(n-p)/(p-1)\n",
    "      a <- cbind(fit$coef,sqrt(diag(fit$cov)),t,1-pf(t^2,1,n-p))\n",
    "      colnames(a) <- c(\"Estimate\",\"Std. Error\",\"t value\",\"Pr(>|t|)\")\n",
    "      rownames(a) <- rownames(fit$coef)\n",
    "      cat(\"\\nCoefficients:\\n\")\n",
    "      printCoefmat(a,P.values=TRUE,signif.stars=TRUE,has.Pvalue=TRUE,digits=5,\n",
    "                   dig.tst=5,signif.legend=TRUE,tst.ind=c(1,2,3))\n",
    "      cat(\"\\nResidual standard error:\",round(sqrt(fit$sigma2),3),\"on\",n-p,\n",
    "          \"degrees of freedom\\n\")\n",
    "      cat(\"Multiple R-squared:\",round(fit$r2,4),\",Adjusted R-squared:\",\n",
    "          round(fit$adj.r2,4),\"\\n\")\n",
    "      cat(\"F-statistic:\",round(f,2),\" on\",p-1,\"and\",n-p,\"DF,p-value:\",\n",
    "          1-pf(f,p-1,n-p),\"\\n\\n\")\n",
    "}\n",
    "\n",
    "\n"
   ]
  },
  {
   "cell_type": "code",
   "execution_count": null,
   "metadata": {},
   "outputs": [],
   "source": [
    "\n",
    "\n",
    "data(Auto,package=\"ISLR\")\n",
    "fit1 <- lm(mpg ~ log(horsepower) + log(weight),data=Auto)\n",
    "summary(fit1)\n",
    "coef(fit1)\n",
    "vcov(fit1)\n",
    "\n",
    "fit2 <- reglin(mpg ~ log(horsepower) + log(weight),data=Auto)\n",
    "summary(fit2)\n",
    "coef(fit2)\n",
    "vcov(fit2)\n",
    "\n",
    "\n"
   ]
  },
  {
   "cell_type": "markdown",
   "metadata": {},
   "source": [
    "<h3 id=\"Ejemplo-5:-Modelo-de-regresión-logístico\"><strong>Ejemplo 5: Modelo de regresión logístico</strong><a class=\"anchor-link\" href=\"#Ejemplo-5:-Modelo-de-regresión-logístico\">¶</a></h3>"
   ]
  },
  {
   "cell_type": "markdown",
   "metadata": {},
   "source": [
    "<p><img height=\"900\" src=\"reglogis.png\" width=\"850\"/></p>"
   ]
  },
  {
   "cell_type": "code",
   "execution_count": null,
   "metadata": {},
   "outputs": [],
   "source": [
    "\n",
    "\n",
    "reglogis <- function(model,data){\n",
    "        mf <- model.frame(model,data=data)\n",
    "        X <- model.matrix(mf,data=data)\n",
    "        n <- nrow(X)\n",
    "        p <- ncol(X)\n",
    "        y <- model.response(mf)\n",
    "        bNew <- chol2inv(chol(t(X)%*%X))%*%t(X)%*%log(abs(y-0.01)/(1-abs(y-0.01)))\n",
    "        epsilon <- 0.0000001\n",
    "        tol <- 1\n",
    "        iter <- 0\n",
    "        while(tol > epsilon){\n",
    "             bOld <- bNew\n",
    "             mu <- exp(X%*%bOld)/(1+exp(X%*%bOld))\n",
    "             Xw <- X*matrix(sqrt(mu*(1-mu)),n,p)\n",
    "             bNew <- bOld + chol2inv(chol(t(Xw)%*%Xw))%*%t(X)%*%(y-mu)\n",
    "             tol <- max(abs((bNew-bOld)/bOld))\n",
    "             iter <- iter + 1\n",
    "        }\n",
    "        mu <- exp(X%*%bNew)/(1+exp(X%*%bNew))\n",
    "        Xw <- X*matrix(sqrt(mu*(1-mu)),n,p); cov <- chol2inv(chol(t(Xw)%*%Xw))\n",
    "        dev <- -2*sum(y*log(mu) + (1-y)*log(1-mu))\n",
    "        dev0 <- -2*sum(y*log(mean(y)) + (1-y)*log(1-mean(y)))\n",
    "        out <- list(coef=bNew,cov=cov,deviance=dev,deviance0=dev0,\n",
    "                    df=n-p,iter=iter,res=y-mu,fitted=mu)\n",
    "        class(out) <- \"mireglogis\"\n",
    "        return(out)\n",
    "}\n",
    "coef.mireglogis <- function(fit.model){\n",
    "                     return(fit.model$coef)\n",
    "}\n",
    "vcov.mireglogis <- function(fit.model){\n",
    "                     return(fit.model$cov)\n",
    "}\n",
    "summary.mireglogis <- function(fit){\n",
    "      p <- length(fit$coef)\n",
    "      n <- length(fit$fitted)\n",
    "      z <- fit$coef/sqrt(diag(fit$cov))\n",
    "      a <- cbind(fit$coef,sqrt(diag(fit$cov)),z,1-pchisq(z^2,1))\n",
    "      colnames(a) <- c(\"Estimate\",\"Std. Error\",\"z value\",\"Pr(>|z|)\")\n",
    "      rownames(a) <- rownames(fit$coef)\n",
    "      cat(\"\\nCoefficients:\\n\")\n",
    "      printCoefmat(a,P.values=TRUE,signif.stars=TRUE,has.Pvalue=TRUE,\n",
    "                   digits=5,dig.tst=5,signif.legend=TRUE,tst.ind=c(1,2,3))\n",
    "      cat(\"\\n Null deviance:\",round(fit$deviance0,3),\" on \",n-1,\n",
    "          \" degrees of freedom\\n\")\n",
    "      cat(\"Residual deviance:\",round(fit$deviance,3),\" on \",n-p,\n",
    "          \" degrees of freedom\\n\")\n",
    "      cat(\"AIC: \",round(fit$deviance + 2*p,3),\"\\n\\n\")\n",
    "      cat(\"Number of Fisher Scoring iterations:\",fit$iter,\"\\n\\n\")\n",
    "}\n",
    "\n",
    "\n"
   ]
  },
  {
   "cell_type": "code",
   "execution_count": null,
   "metadata": {},
   "outputs": [],
   "source": [
    "\n",
    "\n",
    "data(burn1000,package=\"aplore3\")\n",
    "burn1000 <- within(burn1000,resp <- ifelse(death==\"Alive\",1,0))\n",
    "\n",
    "fit1 <- glm(resp ~ age*tbsa*inh_inj,data=burn1000,family=binomial(link=\"logit\"))\n",
    "coef(fit1)\n",
    "vcov(fit1)\n",
    "summary(fit1)\n",
    "\n",
    "fit2 <- reglogis(resp ~ age*tbsa*inh_inj,data=burn1000)\n",
    "coef(fit2)\n",
    "vcov(fit2)\n",
    "summary(fit2)\n",
    "\n",
    "\n"
   ]
  },
  {
   "cell_type": "markdown",
   "metadata": {},
   "source": [
    "<h3 id=\"Ejemplo-6:-Muestra-aleatoria-de-la-normal-multivariada\"><strong>Ejemplo 6: Muestra aleatoria de la normal multivariada</strong><a class=\"anchor-link\" href=\"#Ejemplo-6:-Muestra-aleatoria-de-la-normal-multivariada\">¶</a></h3>"
   ]
  },
  {
   "cell_type": "markdown",
   "metadata": {},
   "source": [
    "<p><img height=\"900\" src=\"rmultnorm.png\" width=\"850\"/></p>"
   ]
  },
  {
   "cell_type": "code",
   "execution_count": null,
   "metadata": {},
   "outputs": [],
   "source": [
    "\n",
    "\n",
    "rmnormal <- function(n,mu,Sigma){\n",
    "      m <- nrow(Sigma)\n",
    "      R <- chol(Sigma)\n",
    "      salida <- matrix(rnorm(m*n),m,n)\n",
    "      salida <- matrix(mu,m,n) + t(R)%*%salida\n",
    "      salida <- t(salida)\n",
    "      colnames(salida) <- as.character(c(1:m))\n",
    "      rownames(salida) <- as.character(c(1:n))\n",
    "      return(salida)\n",
    "}\n",
    "\n",
    "mu <- rep(0, 2)\n",
    "Sigma <- matrix(c(10,3,3,2),2,2)\n",
    "mu\n",
    "Sigma\n",
    "\n",
    "muestra <- rmnormal(n=10000,mu=mu,Sigma=Sigma)\n",
    "\n",
    "\n"
   ]
  },
  {
   "cell_type": "markdown",
   "metadata": {},
   "source": [
    "<p></p><h1 style=\"color:red;\"> <strong> <center>Bibliografia</center></strong> </h1>"
   ]
  },
  {
   "cell_type": "markdown",
   "metadata": {},
   "source": [
    "<img height=\"600\" src=\"rfds.png\" width=\"600\"/>\n",
    "<img height=\"600\" src=\"dscpyr.jpg\" width=\"600\"/>\n",
    "<img height=\"600\" src=\"ar.jpg\" width=\"600\"/>"
   ]
  }
 ],
 "metadata": {
  "kernelspec": {
   "display_name": "Python 3 (ipykernel)",
   "language": "python",
   "name": "python3"
  },
  "language_info": {
   "codemirror_mode": {
    "name": "ipython",
    "version": 3
   },
   "file_extension": ".py",
   "mimetype": "text/x-python",
   "name": "python",
   "nbconvert_exporter": "python",
   "pygments_lexer": "ipython3",
   "version": "3.8.13"
  }
 },
 "nbformat": 4,
 "nbformat_minor": 4
}
