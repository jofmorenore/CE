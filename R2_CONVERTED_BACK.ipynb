{
  "cells": [
    {
      "cell_type": "markdown",
      "metadata": {
        "id": "view-in-github",
        "colab_type": "text"
      },
      "source": [
        "<a href=\"https://colab.research.google.com/github/jofmorenore/CE/blob/main/R2_CONVERTED_BACK.ipynb\" target=\"_parent\"><img src=\"https://colab.research.google.com/assets/colab-badge.svg\" alt=\"Open In Colab\"/></a>"
      ]
    },
    {
      "cell_type": "code",
      "execution_count": null,
      "metadata": {
        "id": "11X_xiVXgecZ"
      },
      "outputs": [],
      "source": [
        "\n",
        "\n",
        "options(repr.plot.width=12, repr.plot.height=8)\n",
        "options(jupyter.plot_mimetypes = c(\"text/plain\", \"image/png\" ))\n",
        "options(warn=-1)\n",
        "\n",
        "\n"
      ]
    },
    {
      "cell_type": "code",
      "source": [
        "from google.colab import drive\n",
        "drive.mount('/content/drive')"
      ],
      "metadata": {
        "colab": {
          "base_uri": "https://localhost:8080/"
        },
        "id": "IQHTNUJKgivA",
        "outputId": "e16e7f00-f432-4523-b4aa-dd12f8e4f3e0"
      },
      "execution_count": 1,
      "outputs": [
        {
          "output_type": "stream",
          "name": "stdout",
          "text": [
            "Mounted at /content/drive\n"
          ]
        }
      ]
    },
    {
      "cell_type": "code",
      "source": [
        "!pip install rpy2==3.5.1"
      ],
      "metadata": {
        "colab": {
          "base_uri": "https://localhost:8080/"
        },
        "id": "gnxWNSwnmCz3",
        "outputId": "5b0df127-7d82-4287-e2f5-a17e78662873"
      },
      "execution_count": 1,
      "outputs": [
        {
          "output_type": "stream",
          "name": "stdout",
          "text": [
            "Looking in indexes: https://pypi.org/simple, https://us-python.pkg.dev/colab-wheels/public/simple/\n",
            "Requirement already satisfied: rpy2==3.5.1 in /usr/local/lib/python3.8/dist-packages (3.5.1)\n",
            "Requirement already satisfied: cffi>=1.10.0 in /usr/local/lib/python3.8/dist-packages (from rpy2==3.5.1) (1.15.1)\n",
            "Requirement already satisfied: tzlocal in /usr/local/lib/python3.8/dist-packages (from rpy2==3.5.1) (1.5.1)\n",
            "Requirement already satisfied: jinja2 in /usr/local/lib/python3.8/dist-packages (from rpy2==3.5.1) (2.11.3)\n",
            "Requirement already satisfied: pytz in /usr/local/lib/python3.8/dist-packages (from rpy2==3.5.1) (2022.7.1)\n",
            "Requirement already satisfied: pycparser in /usr/local/lib/python3.8/dist-packages (from cffi>=1.10.0->rpy2==3.5.1) (2.21)\n",
            "Requirement already satisfied: MarkupSafe>=0.23 in /usr/local/lib/python3.8/dist-packages (from jinja2->rpy2==3.5.1) (2.0.1)\n"
          ]
        }
      ]
    },
    {
      "cell_type": "code",
      "source": [
        "%load_ext rpy2.ipython"
      ],
      "metadata": {
        "id": "-uu3ymI_mQ2U"
      },
      "execution_count": 2,
      "outputs": []
    },
    {
      "cell_type": "code",
      "source": [
        "%%R\n",
        "sessionInfo()"
      ],
      "metadata": {
        "colab": {
          "base_uri": "https://localhost:8080/"
        },
        "id": "opoLLWa0mTXu",
        "outputId": "a8986e68-dcd9-492e-ba91-4c2bdbdf9e72"
      },
      "execution_count": 3,
      "outputs": [
        {
          "output_type": "stream",
          "name": "stdout",
          "text": [
            "R version 4.2.2 Patched (2022-11-10 r83330)\n",
            "Platform: x86_64-pc-linux-gnu (64-bit)\n",
            "Running under: Ubuntu 20.04.5 LTS\n",
            "\n",
            "Matrix products: default\n",
            "BLAS:   /usr/lib/x86_64-linux-gnu/openblas-pthread/libblas.so.3\n",
            "LAPACK: /usr/lib/x86_64-linux-gnu/openblas-pthread/liblapack.so.3\n",
            "\n",
            "locale:\n",
            " [1] LC_CTYPE=en_US.UTF-8       LC_NUMERIC=C              \n",
            " [3] LC_TIME=en_US.UTF-8        LC_COLLATE=en_US.UTF-8    \n",
            " [5] LC_MONETARY=en_US.UTF-8    LC_MESSAGES=en_US.UTF-8   \n",
            " [7] LC_PAPER=en_US.UTF-8       LC_NAME=C                 \n",
            " [9] LC_ADDRESS=C               LC_TELEPHONE=C            \n",
            "[11] LC_MEASUREMENT=en_US.UTF-8 LC_IDENTIFICATION=C       \n",
            "\n",
            "attached base packages:\n",
            "[1] tools     stats     graphics  grDevices utils     datasets  methods  \n",
            "[8] base     \n",
            "\n",
            "loaded via a namespace (and not attached):\n",
            "[1] compiler_4.2.2\n"
          ]
        }
      ]
    },
    {
      "cell_type": "markdown",
      "metadata": {
        "id": "4Et9fvJHgecb"
      },
      "source": [
        "\n",
        "<p></p><h1 style=\"color:red;\"> <strong> <center>Introducción a R</center></strong> </h1>\n",
        "<p></p><h3><center><strong>Luis Hernando Vanegas (lhvanegasp@unal.edu.co)</strong></center></h3>\n",
        "<p></p><h3><center><strong>Luz Marina Rondón (lmrondonp@unal.edu.co)</strong></center></h3>\n",
        "<h4 style=\"color:blue;\"><center><strong>Universidad Nacional de Colombia</strong></center></h4>\n",
        "<h4 style=\"color:blue;\"><center><strong>Facultad de Ciencias</strong></center></h4>\n",
        "<h4 style=\"color:blue;\"><center><strong>Departamento de Estadística</strong></center></h4>\n"
      ]
    },
    {
      "cell_type": "markdown",
      "metadata": {
        "id": "gKWo1PcTgecd"
      },
      "source": [
        "\n",
        "<h1 style=\"color:red;\"> <strong><center> Personalizando el directorio de trabajo </center> </strong> </h1>\n"
      ]
    },
    {
      "cell_type": "code",
      "execution_count": 4,
      "metadata": {
        "colab": {
          "base_uri": "https://localhost:8080/"
        },
        "id": "B0fUfodrgecd",
        "outputId": "60eea591-08b9-4874-c234-5cd61cfd8666"
      },
      "outputs": [
        {
          "output_type": "stream",
          "name": "stdout",
          "text": [
            "[1] \"/content/drive/.shortcut-targets-by-id/1SmBErdxXLyp_NCHsJPGVjQdlO7wg9I8T/Curso\"\n"
          ]
        }
      ],
      "source": [
        "\n",
        "%%R\n",
        "getwd()\n",
        "#setwd(\"C:/Nano/Docencia/Curso\")\n",
        "setwd('/content/drive/MyDrive/Curso')\n",
        "getwd()\n",
        "\n",
        "\n"
      ]
    },
    {
      "cell_type": "code",
      "source": [
        "%%R\n",
        "list.files()"
      ],
      "metadata": {
        "colab": {
          "base_uri": "https://localhost:8080/"
        },
        "id": "ZeZ1-goXmtGj",
        "outputId": "0fb4e60b-312a-4d6b-b980-55ad44151d64"
      },
      "execution_count": 5,
      "outputs": [
        {
          "output_type": "stream",
          "name": "stdout",
          "text": [
            " [1] \"admin00.dbf\"               \"admin00.prj\"              \n",
            " [3] \"admin00.shp\"               \"admin00.shx\"              \n",
            " [5] \"Advertising.xlsx\"          \"airrpm.txt\"               \n",
            " [7] \"anime00s.csv\"              \"anime00s.pkl\"             \n",
            " [9] \"anime10s.csv\"              \"anime10s.pkl\"             \n",
            "[11] \"anime80s.csv\"              \"anime80s.pkl\"             \n",
            "[13] \"anime90s.csv\"              \"anime90s.pkl\"             \n",
            "[15] \"animeratings.csv\"          \"counties.xlsx\"            \n",
            "[17] \"cursos.txt\"                \"docentes.csv\"             \n",
            "[19] \"elections.xlsx\"            \"Estaciones.xlsx\"          \n",
            "[21] \"exportaciones.xlsx\"        \"mcycle.xlsx\"              \n",
            "[23] \"MGN_DPTO_POLITICO.CPG\"     \"MGN_DPTO_POLITICO.dbf\"    \n",
            "[25] \"MGN_DPTO_POLITICO.prj\"     \"MGN_DPTO_POLITICO.sbn\"    \n",
            "[27] \"MGN_DPTO_POLITICO.sbx\"     \"MGN_DPTO_POLITICO.shp\"    \n",
            "[29] \"MGN_DPTO_POLITICO.shp.xml\" \"MGN_DPTO_POLITICO.shx\"    \n",
            "[31] \"MGN_MPIO_POLITICO.CPG\"     \"MGN_MPIO_POLITICO.dbf\"    \n",
            "[33] \"MGN_MPIO_POLITICO.prj\"     \"MGN_MPIO_POLITICO.sbn\"    \n",
            "[35] \"MGN_MPIO_POLITICO.sbx\"     \"MGN_MPIO_POLITICO.shp\"    \n",
            "[37] \"MGN_MPIO_POLITICO.shp.xml\" \"MGN_MPIO_POLITICO.shx\"    \n",
            "[39] \"mismacros.sas\"             \"mismacros.txt\"            \n",
            "[41] \"mismacrospython.py\"        \"mismacrospython.txt\"      \n",
            "[43] \"Municipios.xlsx\"           \"namebasics.rar\"           \n",
            "[45] \"ofrecidos.xlsx\"            \"ratings.pkl\"              \n",
            "[47] \"sample.xlsx\"               \"season-1415.xlsx\"         \n",
            "[49] \"season-1516.xlsx\"          \"season-1617.xlsx\"         \n",
            "[51] \"season-1718.xlsx\"          \"season-1819.xlsx\"         \n",
            "[53] \"species.xlsx\"              \"spruce.txt\"               \n",
            "[55] \"states.xlsx\"               \"stocks.dlm\"               \n",
            "[57] \"titlebasics.rar\"           \"titleprincipals.rar\"      \n",
            "[59] \"titleratings.rar\"         \n"
          ]
        }
      ]
    },
    {
      "cell_type": "markdown",
      "source": [
        "# Importación de datos"
      ],
      "metadata": {
        "id": "HROmbXH_gshW"
      }
    },
    {
      "cell_type": "markdown",
      "source": [
        "## Libreria readxl"
      ],
      "metadata": {
        "id": "z1YrrS9ngyfT"
      }
    },
    {
      "cell_type": "markdown",
      "metadata": {
        "id": "dxH7WsFigecd"
      },
      "source": [
        "\n",
        "<p></p><h1 style=\"color:red;\"> <strong> <center>Importación de datos </center></strong> </h1>\n",
        "<p></p><h2 style=\"color:blue;\"> <strong> <center>Libreria    readxl </center></strong> </h2>\n",
        "<h4> Archivos con extensiones xls y xlsx  </h4>\n"
      ]
    },
    {
      "cell_type": "code",
      "execution_count": null,
      "metadata": {
        "id": "KJYw6XDDgece"
      },
      "outputs": [],
      "source": [
        "\n",
        "%%R\n",
        "install.packages(\"readxl\")\n",
        "library(readxl)\n",
        "help(read_excel)\n",
        "\n",
        "\n"
      ]
    },
    {
      "cell_type": "markdown",
      "metadata": {
        "id": "M9z6TMuPgece"
      },
      "source": [
        "\n",
        "<p></p><h4> <strong> Ejemplo 1 </strong> </h4>\n",
        "<p></p><p style=\"text-align: justify;\"> Se leen los datos disponibles en la hoja número 13 del libro de Excel\n",
        "<em>sample.xlsx</em>, localizado en la libreria de trabajo y cuya primera fila contiene los nombres de las variables.</p>\n"
      ]
    },
    {
      "cell_type": "code",
      "execution_count": null,
      "metadata": {
        "id": "rkv3_HKlgece"
      },
      "outputs": [],
      "source": [
        "\n",
        "\n",
        "plantulas1 <- read_excel(\"sample.xlsx\",sheet=13,col_names=TRUE)\n",
        "str(plantulas1)\n",
        "\n",
        "\n"
      ]
    },
    {
      "cell_type": "markdown",
      "metadata": {
        "id": "9KFjD91igecf"
      },
      "source": [
        "\n",
        "<p></p><h4> <strong> Ejemplo 2 </strong> </h4>\n",
        "<p></p><p style=\"text-align: justify;\"> Se leen los datos disponibles en la hoja <em>Plantulas</em> del libro de Excel <em>sample.xlsx</em>, la cual corresponde a la hoja número 13 del libro.</p>\n"
      ]
    },
    {
      "cell_type": "code",
      "execution_count": null,
      "metadata": {
        "id": "w0YYfPWsgecf"
      },
      "outputs": [],
      "source": [
        "\n",
        "\n",
        "plantulas2 <- read_excel(\"sample.xlsx\",sheet=\"Plantulas\",col_names=TRUE)\n",
        "str(plantulas2)\n",
        "\n",
        "\n"
      ]
    },
    {
      "cell_type": "markdown",
      "metadata": {
        "id": "MZ3iOZ9Egecf"
      },
      "source": [
        "\n",
        "<p></p><h4> <strong> Ejemplo 3 </strong> </h4>\n",
        "<p></p><p style=\"text-align: justify;\"> Se leen los datos en las columnas \"A\" a la \"E\" de la hoja <em>Plantulas</em> del libro de Excel <em>sample.xlsx</em>.</p>\n"
      ]
    },
    {
      "cell_type": "code",
      "execution_count": null,
      "metadata": {
        "id": "vsqe9OcVgecf"
      },
      "outputs": [],
      "source": [
        "\n",
        "\n",
        "plantulas3 <- read_excel(\"sample.xlsx\",sheet=\"Plantulas\",col_names=TRUE,range=cell_cols(\"A:E\"))\n",
        "str(plantulas3)\n",
        "\n",
        "\n"
      ]
    },
    {
      "cell_type": "markdown",
      "metadata": {
        "id": "ZxDP8mupgecg"
      },
      "source": [
        "\n",
        "<p></p><h4> <strong> Ejemplo 4 </strong> </h4>\n",
        "<p></p><p style=\"text-align: justify;\"> Se leen los datos en las columnas \"A\" a la \"E\" de la hoja <em>Plantulas</em> del libro de Excel <em>sample.xlsx</em>.</p>\n"
      ]
    },
    {
      "cell_type": "code",
      "execution_count": null,
      "metadata": {
        "id": "26Lzho8xgecg"
      },
      "outputs": [],
      "source": [
        "\n",
        "\n",
        "plantulas4 <- read_excel(\"sample.xlsx\",sheet=\"Plantulas\",col_names=TRUE,range=cell_cols(1:5))\n",
        "str(plantulas4)\n",
        "\n",
        "\n"
      ]
    },
    {
      "cell_type": "markdown",
      "metadata": {
        "id": "kcXbKaefgecg"
      },
      "source": [
        "\n",
        "<p></p><h4> <strong> Ejemplo 5 </strong> </h4>\n",
        "<p></p><p style=\"text-align: justify;\"> Se leen los datos en las filas 2 a la 50 de la hoja <em>Plantulas</em> del libro de Excel <em>sample.xlsx</em>.</p>\n"
      ]
    },
    {
      "cell_type": "code",
      "execution_count": null,
      "metadata": {
        "id": "elf9-wkBgecg"
      },
      "outputs": [],
      "source": [
        "\n",
        "\n",
        "plantulas5 <- read_excel(\"sample.xlsx\",sheet=\"Plantulas\",col_names=TRUE,range=cell_rows(1:50))\n",
        "str(plantulas5)\n",
        "\n",
        "\n"
      ]
    },
    {
      "cell_type": "markdown",
      "metadata": {
        "id": "9xprUvRfgech"
      },
      "source": [
        "\n",
        "<p></p><h4> <strong> Ejemplo 6 </strong> </h4>\n",
        "<p></p><p style=\"text-align: justify;\"> Se leen los datos en el rango \"A1:E50\" de la hoja <em>Plantulas</em> del libro de Excel <em>sample.xlsx</em>.</p>\n"
      ]
    },
    {
      "cell_type": "code",
      "execution_count": null,
      "metadata": {
        "id": "ixb8SX_Cgech"
      },
      "outputs": [],
      "source": [
        "\n",
        "\n",
        "plantulas6 <- read_excel(\"sample.xlsx\",sheet=\"Plantulas\",col_names=TRUE,range=\"A1:E50\")\n",
        "str(plantulas6)\n",
        "\n",
        "\n"
      ]
    },
    {
      "cell_type": "markdown",
      "metadata": {
        "id": "sWwEg6hzgech"
      },
      "source": [
        "\n",
        "<p></p><h4> <strong> Ejemplo 7 </strong> </h4>\n",
        "<p></p><p style=\"text-align: justify;\"> Se leen solo las primeras 35 filas de datos en la hoja <em>Plantulas</em> del libro de Excel <em>sample.xlsx</em>.</p>\n"
      ]
    },
    {
      "cell_type": "code",
      "execution_count": null,
      "metadata": {
        "id": "rdoK9Zgjgech"
      },
      "outputs": [],
      "source": [
        "\n",
        "\n",
        "plantulas7 <- read_excel(\"sample.xlsx\",sheet=\"Plantulas\",col_names=TRUE,n_max=35)\n",
        "str(plantulas7)\n",
        "\n",
        "\n"
      ]
    },
    {
      "cell_type": "markdown",
      "metadata": {
        "id": "9JYPEaGagech"
      },
      "source": [
        "\n",
        "<p></p><h4> <strong> Ejemplo 8 </strong> </h4>\n",
        "<p></p><p style=\"text-align: justify;\"> Se leen los datos en la hoja <em>Plantulas</em> del libro de Excel <em>sample.xlsx</em> dándole nombres personalizados a las variables.</p>\n"
      ]
    },
    {
      "cell_type": "code",
      "execution_count": null,
      "metadata": {
        "id": "uApBuZSjgech"
      },
      "outputs": [],
      "source": [
        "\n",
        "\n",
        "plantulas8 <- read_excel(\"sample.xlsx\",sheet=\"Plantulas\",skip=1,\n",
        "                         col_names=c(\"IdParcela\",\"N_I\",\"IdPlantula\",\"N_i\",\"Altura\"))\n",
        "str(plantulas8)\n",
        "\n",
        "\n"
      ]
    },
    {
      "cell_type": "markdown",
      "metadata": {
        "id": "OEy255abgeci"
      },
      "source": [
        "\n",
        "<p></p><h4> <strong> Ejemplo 9 </strong> </h4>\n",
        "<p></p><p style=\"text-align: justify;\"> Se leen los datos en la hoja <em>Plantulas</em> del libro de Excel <em>sample.xlsx</em>, dándole nombres personalizados a las variables y leyendo estas últimas con formato <em>text</em>, <em>numeric</em>, <em>text</em>, <em>numeric</em> y <em>numeric</em>, respectivamente.</p>\n"
      ]
    },
    {
      "cell_type": "code",
      "execution_count": null,
      "metadata": {
        "id": "Qf2wjTNDgeci"
      },
      "outputs": [],
      "source": [
        "\n",
        "\n",
        "help(read_excel)\n",
        "plantulas9 <- read_excel(\"sample.xlsx\",sheet=\"Plantulas\",skip=1,\n",
        "                         col_names=c(\"IdParcela\",\"N_I\",\"IdPlantula\",\"N_i\",\"Altura\"),\n",
        "                         col_types=c(\"text\",\"numeric\",\"text\",\"numeric\",\"numeric\"))\n",
        "str(plantulas9)\n",
        "\n",
        "\n"
      ]
    },
    {
      "cell_type": "markdown",
      "metadata": {
        "id": "8z5hptDvgeci"
      },
      "source": [
        "\n",
        "<p></p><h4> <strong> Ejemplo 10 </strong> </h4>\n",
        "<p></p><p style=\"text-align: justify;\"> Se leen los datos en la hoja <em>Plantulas</em> del libro de Excel <em>sample.xlsx</em>, dándole nombres personalizados a las variables y leyendo estas últimas con formato <em>text</em>, <em>skip</em>, <em>text</em>, <em>guess</em> y <em>numeric</em>, respectivamente. Por lo tanto, la segunda variable se excluye y el tipo de la cuarta variable se especifica a partir de una inspección de los datos.</p>\n"
      ]
    },
    {
      "cell_type": "code",
      "execution_count": null,
      "metadata": {
        "id": "CRPcdYY2geci"
      },
      "outputs": [],
      "source": [
        "\n",
        "\n",
        "plantulas10 <- read_excel(\"sample.xlsx\",sheet=\"Plantulas\",skip=1,\n",
        "                          col_names=c(\"IdParcela\",\"IdPlantula\",\"N_i\",\"Altura\"),\n",
        "                          col_types=c(\"text\",\"skip\",\"text\",\"guess\",\"numeric\"))\n",
        "str(plantulas10)\n",
        "\n",
        "\n"
      ]
    },
    {
      "cell_type": "markdown",
      "source": [
        "## Libreria readr"
      ],
      "metadata": {
        "id": "Y6wkcPfTg32w"
      }
    },
    {
      "cell_type": "markdown",
      "metadata": {
        "id": "gE3wd4q4geci"
      },
      "source": [
        "\n",
        "<p></p><h2 style=\"color:red;\"> <strong> <center>Libreria readr </center></strong> </h2>\n",
        "<h4> Archivos con extensiones txt, csv, tsv, dlm y dat </h4>\n"
      ]
    },
    {
      "cell_type": "code",
      "execution_count": null,
      "metadata": {
        "id": "4qgXvvgAgeci"
      },
      "outputs": [],
      "source": [
        "%%R\n",
        "\n",
        "install.packages(\"readr\")\n",
        "library(readr)\n",
        "help(read_delim)\n",
        "\n",
        "\n"
      ]
    },
    {
      "cell_type": "markdown",
      "metadata": {
        "id": "c_DbSq0Fgeci"
      },
      "source": [
        "\n",
        "<p></p><h4> <strong> Ejemplo 10 </strong> </h4>\n",
        "<p style=\"text-align: justify;\"> Se leen los datos en el archivo <em> stocks.dlm </em>, localizado en la libreria de trabajo y en el que los datos están separados por \" \" y la primera fila contiene los nombres de las variables.</p>\n"
      ]
    },
    {
      "cell_type": "code",
      "execution_count": null,
      "metadata": {
        "id": "BMYuYRaAgeci"
      },
      "outputs": [],
      "source": [
        "\n",
        "\n",
        "stocks1 <- read_delim(\"stocks.dlm\",delim=\" \",col_names=TRUE)\n",
        "str(stocks1)\n",
        "\n",
        "\n"
      ]
    },
    {
      "cell_type": "markdown",
      "metadata": {
        "id": "_nkPGbU4gecj"
      },
      "source": [
        "\n",
        "<p></p><h4> <strong> Ejemplo 11 </strong> </h4>\n",
        "<p style=\"text-align: justify;\"> Se leen los datos en el archivo <em> stocks.dlm </em> especificando que el separador decimal es \",\" y el separador de agrupamiento es \".\". </p>\n"
      ]
    },
    {
      "cell_type": "code",
      "execution_count": null,
      "metadata": {
        "id": "dG5Z_YQLgecj"
      },
      "outputs": [],
      "source": [
        "\n",
        "\n",
        "stocks2 <- read_delim(\"stocks.dlm\",delim=\" \",col_names=TRUE,\n",
        "                     locale=locale(decimal_mark=\",\",grouping_mark=\".\"))\n",
        "str(stocks2)\n",
        "\n",
        "\n"
      ]
    },
    {
      "cell_type": "markdown",
      "metadata": {
        "id": "iBCBARqpgecj"
      },
      "source": [
        "\n",
        "<p></p><h4> <strong> Ejemplo 12 </strong> </h4>\n",
        "<p style=\"text-align: justify;\"> Se leen los datos en el archivo <em> stocks.dlm </em> especificando el formato en el que se deben leer las variables.</p>\n"
      ]
    },
    {
      "cell_type": "code",
      "execution_count": null,
      "metadata": {
        "id": "__f7_A-Zgecj"
      },
      "outputs": [],
      "source": [
        "\n",
        "\n",
        "help(cols)\n",
        "stocks3 <- read_delim(\"stocks.dlm\",delim=\" \",col_names=TRUE,\n",
        "                     locale=locale(decimal_mark=\",\",grouping_mark=\".\"),\n",
        "                     col_types=cols(\"f\",\"D\",\"d\",\"d\",\"d\",\"d\",\"n\",\"d\"))\n",
        "str(stocks3)\n",
        "\n",
        "\n"
      ]
    },
    {
      "cell_type": "markdown",
      "metadata": {
        "id": "oFmCa_Sggecj"
      },
      "source": [
        "\n",
        "<p></p><h4> <strong> Ejemplo 13 </strong> </h4>\n",
        "<p style=\"text-align: justify;\"> Se leen los datos en el archivo <em> stocks.dlm </em> especificando el formato en el que se deben leer las variables. En particular, se especifica el formato como se debe leer la fecha de la que consta la variable número 2.</p>\n"
      ]
    },
    {
      "cell_type": "code",
      "execution_count": null,
      "metadata": {
        "id": "j44i3O6tgecj"
      },
      "outputs": [],
      "source": [
        "\n",
        "\n",
        "help(strptime)\n",
        "stocks4 <- read_delim(\"stocks.dlm\",delim=\" \",col_names=TRUE,\n",
        "                     locale=locale(decimal_mark=\",\",grouping_mark=\".\"),\n",
        "                     col_types=cols(\"f\",col_date(\"%d%b%y\"),\"d\",\"d\",\"d\",\"d\",\"n\",\"d\"))\n",
        "str(stocks4)\n",
        "\n",
        "\n"
      ]
    },
    {
      "cell_type": "markdown",
      "metadata": {
        "id": "8AaLDu_fgecj"
      },
      "source": [
        "\n",
        "<p></p><h4> <strong> Ejemplo 14 </strong> </h4>\n",
        "<p style=\"text-align: justify;\"> Se leen los datos en el archivo <em> stocks.dlm </em> personalizando los nombres de las variables.</p>\n"
      ]
    },
    {
      "cell_type": "code",
      "execution_count": null,
      "metadata": {
        "id": "v5lDM7G3gecj"
      },
      "outputs": [],
      "source": [
        "\n",
        "\n",
        "stocks5 <- read_delim(\"stocks.dlm\",delim=\" \",\n",
        "                     locale=locale(decimal_mark=\",\",grouping_mark=\".\"),\n",
        "                     col_types=cols(\"f\",col_date(\"%d%b%y\"),\"d\",\"d\",\"d\",\"d\",\"n\",\"d\"),skip=1,\n",
        "                     col_names=c(\"Stock\",\"Date\",\"Open\",\"High\",\"Low\",\"Close\",\"Volume\",\"AdjClose\"))\n",
        "str(stocks5)\n",
        "\n",
        "\n"
      ]
    },
    {
      "cell_type": "markdown",
      "metadata": {
        "id": "lM25pj6Hgeck"
      },
      "source": [
        "\n",
        "<p></p><h4> <strong> Ejemplo 15 </strong> </h4>\n",
        "<p style=\"text-align: justify;\"> Se leen solo las primeras 500 filas de datos en el archivo <em> stocks.dlm </em>.</p>\n"
      ]
    },
    {
      "cell_type": "code",
      "execution_count": null,
      "metadata": {
        "id": "oA-u1NTVgeck"
      },
      "outputs": [],
      "source": [
        "\n",
        "\n",
        "stocks6 <- read_delim(\"stocks.dlm\",delim=\" \",n_max=500,\n",
        "                     locale=locale(decimal_mark=\",\",grouping_mark=\".\"),\n",
        "                     col_types=cols(\"f\",col_date(\"%d%b%y\"),\"d\",\"d\",\"d\",\"d\",\"n\",\"d\"),skip=1,\n",
        "                     col_names=c(\"Stock\",\"Date\",\"Open\",\"High\",\"Low\",\"Close\",\"Volume\",\"AdjClose\"))\n",
        "str(stocks6)\n",
        "\n",
        "\n"
      ]
    },
    {
      "cell_type": "markdown",
      "metadata": {
        "id": "VirkhRcRgeck"
      },
      "source": [
        "\n",
        "<p></p><h4> <strong> Ejemplo 16 </strong> </h4>\n",
        "<p style=\"text-align: justify;\"> Se leen los datos en el archivo <em> stocks.dlm </em> especificando el formato en el que se deben leer las variables. El formato de la tercera variable se especifica a partir de la\n",
        "inspección de los datos, y las variables septima y octava se excluyen.</p>\n"
      ]
    },
    {
      "cell_type": "code",
      "execution_count": null,
      "metadata": {
        "id": "HQLWxracgeck"
      },
      "outputs": [],
      "source": [
        "\n",
        "\n",
        "stocks7 <- read_delim(\"stocks.dlm\",delim=\" \",\n",
        "                     locale=locale(decimal_mark=\",\",grouping_mark=\".\"),\n",
        "                     col_types=cols(\"f\",col_date(\"%d%b%y\"),\"?\",\"d\",\"d\",\"d\",\"-\",\"-\"),\n",
        "                     skip=1,col_names=c(\"Stock\",\"Date\",\"Open\",\"High\",\"Low\",\"Close\"))\n",
        "str(stocks7)\n",
        "\n",
        "\n"
      ]
    },
    {
      "cell_type": "markdown",
      "metadata": {
        "id": "MxXC9pWbgeck"
      },
      "source": [
        "\n",
        "<p></p><h4> <strong> Ejemplo 17 </strong> </h4>\n",
        "<p style=\"text-align: justify;\"> Solo se leen las variables que (originalmente) se llaman \"A\", \"B\", \"C\" y \"F\".</p>\n"
      ]
    },
    {
      "cell_type": "code",
      "execution_count": null,
      "metadata": {
        "id": "Fw6lN4mNgeck"
      },
      "outputs": [],
      "source": [
        "\n",
        "\n",
        "stocks8 <- read_delim(\"stocks.dlm\",delim=\" \",col_names=TRUE,\n",
        "                     locale=locale(decimal_mark=\",\",grouping_mark = \".\"),\n",
        "                     col_types=cols_only(\"A\"=\"f\",\"B\"=col_date(\"%d%b%y\"),\"C\"=\"d\",\"F\"=\"d\"))\n",
        "str(stocks8)\n",
        "\n",
        "\n"
      ]
    },
    {
      "cell_type": "markdown",
      "metadata": {
        "id": "O9izeSnHgeck"
      },
      "source": [
        "\n",
        "<p></p><h4> <strong> Ejemplo 18 </strong> </h4>\n",
        "<p style=\"text-align: justify;\"> Se leen los datos en el archivo <em> airrpm.txt</em>, localizado en la libreria de trabajo y en el que las cuatro variables disponibles (<em>Month</em>, <em>Available</em>, <em>Revenue</em> y <em>Unused</em>) tienen anchos fijos e iguales a 6, 15, 10 y 9, respectivamente.</p>\n"
      ]
    },
    {
      "cell_type": "code",
      "execution_count": null,
      "metadata": {
        "id": "kZVnY-sggecl"
      },
      "outputs": [],
      "source": [
        "\n",
        "\n",
        "help(read_fwf)\n",
        "\n",
        "\n"
      ]
    },
    {
      "cell_type": "code",
      "execution_count": null,
      "metadata": {
        "id": "nnsqTjt6gecl"
      },
      "outputs": [],
      "source": [
        "\n",
        "\n",
        "airrpm1 <- read_fwf(\"airrpm.txt\",fwf_cols(Month=6,Available=15,Revenue=10,Unused=9))\n",
        "str(airrpm1)\n",
        "\n",
        "\n"
      ]
    },
    {
      "cell_type": "markdown",
      "metadata": {
        "id": "B4ELx_T3gecl"
      },
      "source": [
        "\n",
        "<p></p><h4> <strong> Ejemplo 19 </strong> </h4>\n",
        "<p style=\"text-align: justify;\"> Se leen los datos en el archivo <em> airrpm.txt</em> especificando que el separador decimal es \",\".</p>\n"
      ]
    },
    {
      "cell_type": "code",
      "execution_count": null,
      "metadata": {
        "id": "B1ruROQQgecl"
      },
      "outputs": [],
      "source": [
        "\n",
        "\n",
        "airrpm2 <- read_fwf(\"airrpm.txt\",locale=locale(decimal_mark=\",\"),\n",
        "                   fwf_cols(Month=6,Available=15,Revenue=10,Unused=9))\n",
        "str(airrpm2)\n",
        "\n",
        "\n"
      ]
    },
    {
      "cell_type": "markdown",
      "metadata": {
        "id": "IK91QeEsgecl"
      },
      "source": [
        "\n",
        "<p></p><h4> <strong> Ejemplo 20 </strong> </h4>\n",
        "<p style=\"text-align: justify;\"> Se leen los datos en el archivo <em> airrpm.txt</em> especificando el formato de las variables.</p>\n"
      ]
    },
    {
      "cell_type": "code",
      "execution_count": null,
      "metadata": {
        "id": "5QyBxg1lgecl"
      },
      "outputs": [],
      "source": [
        "\n",
        "\n",
        "help(cols)\n",
        "help(strptime)\n",
        "airrpm3 <- read_fwf(\"airrpm.txt\",locale=locale(decimal_mark=\",\"),\n",
        "                   fwf_cols(Month=6,Available=15,Revenue=10,Unused=9),\n",
        "                   col_types=cols(col_date(\"%b-%y\"),\"d\",\"d\",\"d\"))\n",
        "str(airrpm3)\n",
        "\n",
        "\n"
      ]
    },
    {
      "cell_type": "markdown",
      "metadata": {
        "id": "MTo7kIosgecl"
      },
      "source": [
        "\n",
        "<p></p><h4> <strong> Ejemplo 21 </strong> </h4>\n",
        "<p style=\"text-align: justify;\"> Se leen solo las primeras 200 filas de las variables <em>Month</em> y <em>Revenue</em> en el archivo <em> airrpm.txt</em>.</p>\n"
      ]
    },
    {
      "cell_type": "code",
      "execution_count": null,
      "metadata": {
        "id": "zAWFnRnSgecl"
      },
      "outputs": [],
      "source": [
        "\n",
        "\n",
        "airrpm4 <- read_fwf(\"airrpm.txt\",locale=locale(decimal_mark=\",\"),\n",
        "                   n_max=200,fwf_cols(Month=6,Available=15,Revenue=10,Unused=9),\n",
        "                   col_types=cols_only(Month=col_date(\"%b-%y\"),Revenue=\"d\"))\n",
        "str(airrpm4)\n",
        "\n",
        "\n"
      ]
    },
    {
      "cell_type": "markdown",
      "source": [
        "## Ejercicios"
      ],
      "metadata": {
        "id": "9ygRihklg-gG"
      }
    },
    {
      "cell_type": "markdown",
      "metadata": {
        "id": "HZY4oogTgecl"
      },
      "source": [
        "\n",
        "<p></p><h2 style=\"color:red;\"> Ejercicios</h2><p></p><h3 style=\"color:red;\"> English Premier League</h3><ul>\n",
        "<li><p style=\"text-align: justify;\"> Los archivos <strong>season-1415.xlsx</strong>, <strong>season-1516.xlsx</strong>, <strong>season-1617.xlsx</strong>, <strong>season-1718.xlsx</strong> y <strong>season-1819.xlsx</strong>\n",
        "contienen información sobre los resultados de las temporadas 14/15, 15/16, 16/17, 17/18 y 18/19, respectivamente, de la primera división del futbol inglés. Importe estos conjuntos de datos omitiendo las variables <em>FTR</em>, <em>HTHG</em>, <em>HTAG</em> y <em>HTR</em>.</p></li>\n",
        "<li><p style=\"text-align: justify;\"> Asigne nombres y tipos personalizados a las variables. Cuantos registros tiene cada conjunto de datos? </p></li>\n",
        "</ul>\n",
        "<p></p><h3 style=\"color:red;\"> IMDb (Internet Movie Database)</h3><ul>\n",
        "<li><p style=\"text-align: justify;\"> Importe los primeros 5000 registros de los conjunto de datos <strong>title.basics</strong>, <strong>title.principals</strong> y <strong>name.basics</strong>, los cuales están descritos <a href=\"https://www.imdb.com/interfaces/\" style=\"color:red;\"><strong> aquí </strong></a> y disponibles <a href=\"https://datasets.imdbws.com\" style=\"color:red;\"><strong> aquí</strong></a>. Hágalo sin descargar ni descomprimir los archivos, y omitiendo las variables <em>knownForTitles</em> and <em>ordering</em>.</p></li>\n",
        "<li><p style=\"text-align: justify;\"> Cuantas variables tienen los conjuntos de datos? De qué tipo son estas variables?</p></li>\n",
        "</ul>\n",
        "<p></p><h3 style=\"color:red;\"> Shows en Netflix</h3><ul>\n",
        "<li><p style=\"text-align: justify;\"> Importe todos los registros del conjunto de datos <strong>netflix_titles.csv</strong> disponible <a href=\"https://www.kaggle.com/shivamb/netflix-shows/version/5\" style=\"color:red;\"><strong> aquí</strong></a>. Tenga en cuenta que el conjunto de datos está delimitado por \",\".</p></li>\n",
        "<li><p style=\"text-align: justify;\"> Asigne nombres y tipos personalizados a las variables. Cuantos registros tiene el conjunto de datos? </p></li>\n",
        "</ul>\n"
      ]
    },
    {
      "cell_type": "code",
      "source": [
        "%%R\n",
        "#install.packages(\"readr\")\n",
        "library(readxl)\n",
        "library(readr)\n",
        "library(stringr)\n",
        "#help(read_delim)"
      ],
      "metadata": {
        "id": "ckZd8RdJ4slz"
      },
      "execution_count": 54,
      "outputs": []
    },
    {
      "cell_type": "markdown",
      "source": [
        "### EPL"
      ],
      "metadata": {
        "id": "fRhPROwGw6mR"
      }
    },
    {
      "cell_type": "code",
      "source": [
        "%%R\n",
        "## EPL \n",
        "# Importe estos conjuntos de datos omitiendo las variables FTR, HTHG, HTAG y HTR\n",
        "# Asigne nombres y tipos personalizados a las variables. Cuantos registros tiene cada conjunto de datos?\n",
        "#season_1415 <- read_excel(\"season-1415.xlsx\")\n",
        "#dput(sapply(season_1415, class))\n",
        "season_1415 <- read_excel(\"season-1415.xlsx\", \n",
        "                          col_types=c(Season = \"text\", Date = \"date\", HomeTeam = \"text\", \n",
        "                                      AwayTeam = \"text\", FTHG = \"numeric\", FTAG = \"numeric\", \n",
        "                                      FTR = \"skip\", HTHG = \"skip\", HTAG = \"skip\", HTR = \"skip\", \n",
        "                                      Referee = \"text\", HS = \"numeric\", AS = \"numeric\", HST = \"numeric\", \n",
        "                                      AST = \"numeric\", HF = \"numeric\", AF = \"numeric\", HC = \"numeric\", \n",
        "                                      AC = \"numeric\", HY = \"numeric\", AY = \"numeric\", HR = \"numeric\", \n",
        "                                      AR = \"numeric\"))\n",
        "head(season_1415)"
      ],
      "metadata": {
        "colab": {
          "base_uri": "https://localhost:8080/"
        },
        "id": "eNjJal4eqIcY",
        "outputId": "391abeef-a2c2-49ef-abbd-16c35035b109"
      },
      "execution_count": 7,
      "outputs": [
        {
          "output_type": "stream",
          "name": "stdout",
          "text": [
            "# A tibble: 6 × 19\n",
            "  Season Date                HomeTeam   AwayTeam  FTHG  FTAG Referee    HS    AS\n",
            "  <chr>  <dttm>              <chr>      <chr>    <dbl> <dbl> <chr>   <dbl> <dbl>\n",
            "1 14-15  2014-08-16 00:00:00 Arsenal    Crystal…     2     1 J Moss     14     4\n",
            "2 14-15  2014-08-16 00:00:00 Leicester  Everton      2     2 M Jones    11    13\n",
            "3 14-15  2014-08-16 00:00:00 Man United Swansea      1     2 M Dean     14     5\n",
            "4 14-15  2014-08-16 00:00:00 QPR        Hull         0     1 C Paws…    19    11\n",
            "5 14-15  2014-08-16 00:00:00 Stoke      Aston V…     0     1 A Tayl…    12     7\n",
            "6 14-15  2014-08-16 00:00:00 West Brom  Sunderl…     2     2 N Swar…    10     7\n",
            "# … with 10 more variables: HST <dbl>, AST <dbl>, HF <dbl>, AF <dbl>, HC <dbl>,\n",
            "#   AC <dbl>, HY <dbl>, AY <dbl>, HR <dbl>, AR <dbl>\n",
            "# ℹ Use `colnames()` to see all variable names\n"
          ]
        }
      ]
    },
    {
      "cell_type": "code",
      "source": [
        "%%R\n",
        "season_1516 <- read_excel(\"season-1516.xlsx\", \n",
        "                          col_types=c(Season = \"text\", Date = \"date\", HomeTeam = \"text\", \n",
        "                                      AwayTeam = \"text\", FTHG = \"numeric\", FTAG = \"numeric\", \n",
        "                                      FTR = \"skip\", HTHG = \"skip\", HTAG = \"skip\", HTR = \"skip\", \n",
        "                                      Referee = \"text\", HS = \"numeric\", AS = \"numeric\", HST = \"numeric\", \n",
        "                                      AST = \"numeric\", HF = \"numeric\", AF = \"numeric\", HC = \"numeric\", \n",
        "                                      AC = \"numeric\", HY = \"numeric\", AY = \"numeric\", HR = \"numeric\", \n",
        "                                      AR = \"numeric\")) \n",
        "head(season_1516)"
      ],
      "metadata": {
        "colab": {
          "base_uri": "https://localhost:8080/"
        },
        "id": "1kUSmQkwuKtf",
        "outputId": "f7b570e2-eed0-4233-9df7-cc4a6370f6f0"
      },
      "execution_count": 8,
      "outputs": [
        {
          "output_type": "stream",
          "name": "stdout",
          "text": [
            "# A tibble: 6 × 19\n",
            "  Season Date                HomeTeam    AwayT…¹  FTHG  FTAG Referee    HS    AS\n",
            "  <chr>  <dttm>              <chr>       <chr>   <dbl> <dbl> <chr>   <dbl> <dbl>\n",
            "1 15-16  2015-08-08 00:00:00 Bournemouth Aston …     0     1 M Clat…    11     7\n",
            "2 15-16  2015-08-08 00:00:00 Chelsea     Swansea     2     2 M Oliv…    11    18\n",
            "3 15-16  2015-08-08 00:00:00 Everton     Watford     2     2 M Jones    10    11\n",
            "4 15-16  2015-08-08 00:00:00 Leicester   Sunder…     4     2 L Mason    19    10\n",
            "5 15-16  2015-08-08 00:00:00 Man United  Totten…     1     0 J Moss      9     9\n",
            "6 15-16  2015-08-08 00:00:00 Norwich     Crysta…     1     3 S Hoop…    17    11\n",
            "# … with 10 more variables: HST <dbl>, AST <dbl>, HF <dbl>, AF <dbl>, HC <dbl>,\n",
            "#   AC <dbl>, HY <dbl>, AY <dbl>, HR <dbl>, AR <dbl>, and abbreviated variable\n",
            "#   name ¹​AwayTeam\n",
            "# ℹ Use `colnames()` to see all variable names\n"
          ]
        }
      ]
    },
    {
      "cell_type": "code",
      "source": [
        "%%R\n",
        "season_1617 <- read_excel(\"season-1617.xlsx\", \n",
        "                          col_types=c(Season = \"text\", Date = \"date\", HomeTeam = \"text\", \n",
        "                                      AwayTeam = \"text\", FTHG = \"numeric\", FTAG = \"numeric\", \n",
        "                                      FTR = \"skip\", HTHG = \"skip\", HTAG = \"skip\", HTR = \"skip\", \n",
        "                                      Referee = \"text\", HS = \"numeric\", AS = \"numeric\", HST = \"numeric\", \n",
        "                                      AST = \"numeric\", HF = \"numeric\", AF = \"numeric\", HC = \"numeric\", \n",
        "                                      AC = \"numeric\", HY = \"numeric\", AY = \"numeric\", HR = \"numeric\", \n",
        "                                      AR = \"numeric\")) \n",
        "head(season_1617)"
      ],
      "metadata": {
        "colab": {
          "base_uri": "https://localhost:8080/"
        },
        "outputId": "832bac75-95b3-4c5c-a014-3ff7bceb2bf5",
        "id": "xn3Rw_zUuZgv"
      },
      "execution_count": 9,
      "outputs": [
        {
          "output_type": "stream",
          "name": "stdout",
          "text": [
            "# A tibble: 6 × 19\n",
            "  Season Date                HomeTeam    AwayT…¹  FTHG  FTAG Referee    HS    AS\n",
            "  <chr>  <dttm>              <chr>       <chr>   <dbl> <dbl> <chr>   <dbl> <dbl>\n",
            "1 16-17  2016-08-13 00:00:00 Burnley     Swansea     0     1 J Moss     10    17\n",
            "2 16-17  2016-08-13 00:00:00 Crystal Pa… West B…     0     1 C Paws…    14    13\n",
            "3 16-17  2016-08-13 00:00:00 Everton     Totten…     1     1 M Atki…    12    13\n",
            "4 16-17  2016-08-13 00:00:00 Hull        Leices…     2     1 M Dean     14    18\n",
            "5 16-17  2016-08-13 00:00:00 Man City    Sunder…     2     1 R Madl…    16     7\n",
            "6 16-17  2016-08-13 00:00:00 Middlesbro… Stoke       1     1 K Frie…    12    12\n",
            "# … with 10 more variables: HST <dbl>, AST <dbl>, HF <dbl>, AF <dbl>, HC <dbl>,\n",
            "#   AC <dbl>, HY <dbl>, AY <dbl>, HR <dbl>, AR <dbl>, and abbreviated variable\n",
            "#   name ¹​AwayTeam\n",
            "# ℹ Use `colnames()` to see all variable names\n"
          ]
        }
      ]
    },
    {
      "cell_type": "code",
      "source": [
        "%%R\n",
        "season_1718 <- read_excel(\"season-1718.xlsx\", \n",
        "                          col_types=c(Season = \"text\", Date = \"date\", HomeTeam = \"text\", \n",
        "                                      AwayTeam = \"text\", FTHG = \"numeric\", FTAG = \"numeric\", \n",
        "                                      FTR = \"skip\", HTHG = \"skip\", HTAG = \"skip\", HTR = \"skip\", \n",
        "                                      Referee = \"text\", HS = \"numeric\", AS = \"numeric\", HST = \"numeric\", \n",
        "                                      AST = \"numeric\", HF = \"numeric\", AF = \"numeric\", HC = \"numeric\", \n",
        "                                      AC = \"numeric\", HY = \"numeric\", AY = \"numeric\", HR = \"numeric\", \n",
        "                                      AR = \"numeric\"))\n",
        "head(season_1718)"
      ],
      "metadata": {
        "colab": {
          "base_uri": "https://localhost:8080/"
        },
        "outputId": "34200409-1e96-4988-fb49-06037ccedffa",
        "id": "b_7yc2SsuaC_"
      },
      "execution_count": 10,
      "outputs": [
        {
          "output_type": "stream",
          "name": "stdout",
          "text": [
            "# A tibble: 6 × 19\n",
            "  Season Date                HomeTeam    AwayT…¹  FTHG  FTAG Referee    HS    AS\n",
            "  <chr>  <dttm>              <chr>       <chr>   <dbl> <dbl> <chr>   <dbl> <dbl>\n",
            "1 17-18  2017-08-11 00:00:00 Arsenal     Leices…     4     3 M Dean     27     6\n",
            "2 17-18  2017-08-12 00:00:00 Brighton    Man Ci…     0     2 M Oliv…     6    14\n",
            "3 17-18  2017-08-12 00:00:00 Chelsea     Burnley     2     3 C Paws…    19    10\n",
            "4 17-18  2017-08-12 00:00:00 Crystal Pa… Hudder…     0     3 J Moss     14     8\n",
            "5 17-18  2017-08-12 00:00:00 Everton     Stoke       1     0 N Swar…     9     9\n",
            "6 17-18  2017-08-12 00:00:00 Southampton Swansea     0     0 M Jones    29     4\n",
            "# … with 10 more variables: HST <dbl>, AST <dbl>, HF <dbl>, AF <dbl>, HC <dbl>,\n",
            "#   AC <dbl>, HY <dbl>, AY <dbl>, HR <dbl>, AR <dbl>, and abbreviated variable\n",
            "#   name ¹​AwayTeam\n",
            "# ℹ Use `colnames()` to see all variable names\n"
          ]
        }
      ]
    },
    {
      "cell_type": "code",
      "source": [
        "%%R\n",
        "season_1819 <- read_excel(\"season-1819.xlsx\", \n",
        "                          col_types=c(Season = \"text\", Date = \"date\", HomeTeam = \"text\", \n",
        "                                      AwayTeam = \"text\", FTHG = \"numeric\", FTAG = \"numeric\", \n",
        "                                      FTR = \"skip\", HTHG = \"skip\", HTAG = \"skip\", HTR = \"skip\", \n",
        "                                      Referee = \"text\", HS = \"numeric\", AS = \"numeric\", HST = \"numeric\", \n",
        "                                      AST = \"numeric\", HF = \"numeric\", AF = \"numeric\", HC = \"numeric\", \n",
        "                                      AC = \"numeric\", HY = \"numeric\", AY = \"numeric\", HR = \"numeric\", \n",
        "                                      AR = \"numeric\"))\n",
        "head(season_1819)"
      ],
      "metadata": {
        "colab": {
          "base_uri": "https://localhost:8080/"
        },
        "outputId": "3401d557-728b-4280-9605-5a7eb40914b9",
        "id": "EI0u_-wquqHC"
      },
      "execution_count": 11,
      "outputs": [
        {
          "output_type": "stream",
          "name": "stdout",
          "text": [
            "# A tibble: 6 × 19\n",
            "  Season Date                HomeTeam    AwayT…¹  FTHG  FTAG Referee    HS    AS\n",
            "  <chr>  <dttm>              <chr>       <chr>   <dbl> <dbl> <chr>   <dbl> <dbl>\n",
            "1 18-19  2018-08-10 00:00:00 Man United  Leices…     2     1 A Marr…     8    13\n",
            "2 18-19  2018-08-11 00:00:00 Bournemouth Cardiff     2     0 K Frie…    12    10\n",
            "3 18-19  2018-08-11 00:00:00 Fulham      Crysta…     0     2 M Dean     15    10\n",
            "4 18-19  2018-08-11 00:00:00 Huddersfie… Chelsea     0     3 C Kava…     6    13\n",
            "5 18-19  2018-08-11 00:00:00 Newcastle   Totten…     1     2 M Atki…    15    15\n",
            "6 18-19  2018-08-11 00:00:00 Watford     Bright…     2     0 J Moss     19     6\n",
            "# … with 10 more variables: HST <dbl>, AST <dbl>, HF <dbl>, AF <dbl>, HC <dbl>,\n",
            "#   AC <dbl>, HY <dbl>, AY <dbl>, HR <dbl>, AR <dbl>, and abbreviated variable\n",
            "#   name ¹​AwayTeam\n",
            "# ℹ Use `colnames()` to see all variable names\n"
          ]
        }
      ]
    },
    {
      "cell_type": "code",
      "source": [
        "%%R\n",
        "sapply(ls()[str_detect(ls(), \"season\")], function(x) nrow(eval(parse(text=x))))"
      ],
      "metadata": {
        "colab": {
          "base_uri": "https://localhost:8080/"
        },
        "id": "Mo6MuXLGu4Yl",
        "outputId": "341f0d39-4669-46d1-aef7-a72bcb8140e2"
      },
      "execution_count": 12,
      "outputs": [
        {
          "output_type": "stream",
          "name": "stdout",
          "text": [
            "season_1415 season_1516 season_1617 season_1718 season_1819 \n",
            "        380         380         380         380         380 \n"
          ]
        }
      ]
    },
    {
      "cell_type": "markdown",
      "source": [
        "### IMDB"
      ],
      "metadata": {
        "id": "2cGU8tjYw9e6"
      }
    },
    {
      "cell_type": "code",
      "source": [
        "%%R\n",
        "title_basics = read_delim(\"https://datasets.imdbws.com/title.basics.tsv.gz\", delim = \"\\t\", n_max = 5000, na=c(\"\",\"NA\",\"\\\\N\"))\n",
        "title_principals = read_delim(\"https://datasets.imdbws.com/title.principals.tsv.gz\", delim = \"\\t\", n_max = 5000, \n",
        "                              na=c(\"\",\"NA\",\"\\\\N\"),col_types=cols(\"?\",\"-\",\"?\",\"?\",\"?\",\"?\"))\n",
        "name_basics = read_delim(\"https://datasets.imdbws.com/name.basics.tsv.gz\", delim = \"\\t\", n_max = 5000, \n",
        "                         na=c(\"\",\"NA\",\"\\\\N\"),col_types=cols(\"?\",\"?\",\"?\",\"?\",\"?\",\"-\")                              )"
      ],
      "metadata": {
        "colab": {
          "base_uri": "https://localhost:8080/"
        },
        "id": "Llb6KcujwJpr",
        "outputId": "655bc2a5-bdbf-424c-d05f-0191cd88908a"
      },
      "execution_count": 13,
      "outputs": [
        {
          "output_type": "stream",
          "name": "stdout",
          "text": [
            "Rows: 5000 Columns: 9\n",
            "── Column specification ────────────────────────────────────────────────────────\n",
            "Delimiter: \"\\t\"\n",
            "chr (5): tconst, titleType, primaryTitle, originalTitle, genres\n",
            "dbl (3): isAdult, startYear, runtimeMinutes\n",
            "lgl (1): endYear\n",
            "\n",
            "ℹ Use `spec()` to retrieve the full column specification for this data.\n",
            "ℹ Specify the column types or set `show_col_types = FALSE` to quiet this message.\n"
          ]
        }
      ]
    },
    {
      "cell_type": "code",
      "source": [
        "%%R\n",
        "sapply(ls()[str_detect(ls(), \"basics|title\")], function(x) ncol(eval(parse(text=x))))"
      ],
      "metadata": {
        "colab": {
          "base_uri": "https://localhost:8080/"
        },
        "id": "91yovzRuzed5",
        "outputId": "396242b8-fc94-4795-e083-314e00c99529"
      },
      "execution_count": 14,
      "outputs": [
        {
          "output_type": "stream",
          "name": "stdout",
          "text": [
            "     name_basics     title_basics title_principals \n",
            "               5                9                5 \n"
          ]
        }
      ]
    },
    {
      "cell_type": "code",
      "source": [
        "%%R\n",
        "sapply(ls()[str_detect(ls(), \"basics|title\")], function(x) sapply(eval(parse(text=x)), class))"
      ],
      "metadata": {
        "colab": {
          "base_uri": "https://localhost:8080/"
        },
        "id": "KwDv06oj0Vy8",
        "outputId": "36452381-9e01-4518-d5e5-748b78e8b507"
      },
      "execution_count": 15,
      "outputs": [
        {
          "output_type": "stream",
          "name": "stdout",
          "text": [
            "$name_basics\n",
            "           nconst       primaryName         birthYear         deathYear \n",
            "      \"character\"       \"character\"         \"numeric\"         \"numeric\" \n",
            "primaryProfession \n",
            "      \"character\" \n",
            "\n",
            "$title_basics\n",
            "        tconst      titleType   primaryTitle  originalTitle        isAdult \n",
            "   \"character\"    \"character\"    \"character\"    \"character\"      \"numeric\" \n",
            "     startYear        endYear runtimeMinutes         genres \n",
            "     \"numeric\"      \"logical\"      \"numeric\"    \"character\" \n",
            "\n",
            "$title_principals\n",
            "     tconst      nconst    category         job  characters \n",
            "\"character\" \"character\" \"character\" \"character\" \"character\" \n",
            "\n"
          ]
        }
      ]
    },
    {
      "cell_type": "markdown",
      "source": [
        "### Netflix\n"
      ],
      "metadata": {
        "id": "0STT7g5F0y6w"
      }
    },
    {
      "cell_type": "code",
      "source": [
        "%%R\n",
        "netflix_titles = read_delim('https://raw.githubusercontent.com/jofmorenore/CE/main/netflix_titles.csv', delim = ',',\n",
        "                            col_types = cols(show_id = \"c\", type = \"c\", title = \"c\", \n",
        "                                          director = \"c\", cast = \"c\", country = \"c\", \n",
        "                                          date_added = col_date(\"%B %d, %Y\"), release_year = \"n\", rating = \"c\", \n",
        "                                          duration = \"c\", listed_in = \"c\", description = \"c\"))\n",
        "#dput(sapply(netflix_titles, class))\n",
        "str(netflix_titles)"
      ],
      "metadata": {
        "colab": {
          "base_uri": "https://localhost:8080/"
        },
        "id": "5VFUNEfl07kN",
        "outputId": "0f0e554a-495b-4ef8-e8d6-79f2e9e74a4d"
      },
      "execution_count": 16,
      "outputs": [
        {
          "output_type": "stream",
          "name": "stdout",
          "text": [
            "spc_tbl_ [8,807 × 12] (S3: spec_tbl_df/tbl_df/tbl/data.frame)\n",
            " $ show_id     : chr [1:8807] \"s1\" \"s2\" \"s3\" \"s4\" ...\n",
            " $ type        : chr [1:8807] \"Movie\" \"TV Show\" \"TV Show\" \"TV Show\" ...\n",
            " $ title       : chr [1:8807] \"Dick Johnson Is Dead\" \"Blood & Water\" \"Ganglands\" \"Jailbirds New Orleans\" ...\n",
            " $ director    : chr [1:8807] \"Kirsten Johnson\" NA \"Julien Leclercq\" NA ...\n",
            " $ cast        : chr [1:8807] NA \"Ama Qamata, Khosi Ngema, Gail Mabalane, Thabang Molaba, Dillon Windvogel, Natasha Thahane, Arno Greeff, Xolile \"| __truncated__ \"Sami Bouajila, Tracy Gotoas, Samuel Jouy, Nabiha Akkari, Sofia Lesaffre, Salim Kechiouche, Noureddine Farihi, G\"| __truncated__ NA ...\n",
            " $ country     : chr [1:8807] \"United States\" \"South Africa\" NA NA ...\n",
            " $ date_added  : Date[1:8807], format: \"2021-09-25\" \"2021-09-24\" ...\n",
            " $ release_year: num [1:8807] 2020 2021 2021 2021 2021 ...\n",
            " $ rating      : chr [1:8807] \"PG-13\" \"TV-MA\" \"TV-MA\" \"TV-MA\" ...\n",
            " $ duration    : chr [1:8807] \"90 min\" \"2 Seasons\" \"1 Season\" \"1 Season\" ...\n",
            " $ listed_in   : chr [1:8807] \"Documentaries\" \"International TV Shows, TV Dramas, TV Mysteries\" \"Crime TV Shows, International TV Shows, TV Action & Adventure\" \"Docuseries, Reality TV\" ...\n",
            " $ description : chr [1:8807] \"As her father nears the end of his life, filmmaker Kirsten Johnson stages his death in inventive and comical wa\"| __truncated__ \"After crossing paths at a party, a Cape Town teen sets out to prove whether a private-school swimming star is h\"| __truncated__ \"To protect his family from a powerful drug lord, skilled thief Mehdi and his expert team of robbers are pulled \"| __truncated__ \"Feuds, flirtations and toilet talk go down among the incarcerated women at the Orleans Justice Center in New Or\"| __truncated__ ...\n",
            " - attr(*, \"spec\")=\n",
            "  .. cols(\n",
            "  ..   show_id = col_character(),\n",
            "  ..   type = col_character(),\n",
            "  ..   title = col_character(),\n",
            "  ..   director = col_character(),\n",
            "  ..   cast = col_character(),\n",
            "  ..   country = col_character(),\n",
            "  ..   date_added = col_date(format = \"%B %d, %Y\"),\n",
            "  ..   release_year = col_number(),\n",
            "  ..   rating = col_character(),\n",
            "  ..   duration = col_character(),\n",
            "  ..   listed_in = col_character(),\n",
            "  ..   description = col_character()\n",
            "  .. )\n",
            " - attr(*, \"problems\")=<externalptr> \n"
          ]
        }
      ]
    },
    {
      "cell_type": "markdown",
      "source": [
        "# Creación y modificación de variables"
      ],
      "metadata": {
        "id": "4HbzGNFzhELz"
      }
    },
    {
      "cell_type": "markdown",
      "source": [
        "## Libreria stringr"
      ],
      "metadata": {
        "id": "gBIRs3RjhIDd"
      }
    },
    {
      "cell_type": "markdown",
      "metadata": {
        "id": "NWpKo8J0gecm"
      },
      "source": [
        "\n",
        "<p></p><h1 style=\"color:red;\"> <strong> <center>Creación y modificación de variables </center></strong> </h1>\n",
        "<h2 style=\"color:blue;\"> <strong> <center>Libreria stringr </center></strong> </h2>\n"
      ]
    },
    {
      "cell_type": "code",
      "execution_count": null,
      "metadata": {
        "id": "oTjHqAylgecm"
      },
      "outputs": [],
      "source": [
        "\n",
        "%%R\n",
        "install.packages(\"stringr\")\n",
        "library(stringr)\n",
        "help(stringr)\n",
        "\n",
        "\n"
      ]
    },
    {
      "cell_type": "code",
      "execution_count": null,
      "metadata": {
        "colab": {
          "base_uri": "https://localhost:8080/"
        },
        "id": "vgcBZxKCgecm",
        "outputId": "1c5bb8d9-2a99-4b38-f8af-4c6fec035a3d"
      },
      "outputs": [
        {
          "output_type": "stream",
          "name": "stdout",
          "text": [
            "tibble [1,118 × 8] (S3: tbl_df/tbl/data.frame)\n",
            " $ Departamento: chr [1:1118] \"Ant%ioqUia\" \"Ant%ioquia\" \"Ant%ioquia\" \"Ant%io>qUia\" ...\n",
            " $ Dep         : chr [1:1118] \"05\" \"05\" \"05\" \"05\" ...\n",
            " $ Municipio   : chr [1:1118] \"Mede&l'lín\" \"Abej!&orr*al\" \"A?br'&iaquí\" \"Alej#andr&'ía\" ...\n",
            " $ Depmun      : chr [1:1118] \"05001\" \"05002\" \"05004\" \"05021\" ...\n",
            " $ Superficie  : num [1:1118] 374.8 507.1 297 128.9 84.1 ...\n",
            " $ Poblacion   : num [1:1118] 2483545 20258 2710 4669 30777 ...\n",
            " $ Irural      : num [1:1118] 5 45 58 48 28 54 38 37 47 58 ...\n",
            " $ Region      : chr [1:1118] \"Región Eje Cafetero\" \"Región Eje Cafetero\" \"Región Eje Cafetero\" \"Región Eje Cafetero\" ...\n",
            "# A tibble: 10 × 8\n",
            "   Departamento Dep   Municipio          Depmun  Superfi…¹ Pobla…² Irural Region\n",
            "   <chr>        <chr> <chr>              <chr>       <dbl>   <dbl>  <dbl> <chr> \n",
            " 1 Vaupés       97    M*it!ú             97001.0    16216.   31302     77 Regió…\n",
            " 2 Va%Up>és     97    C!a*#ruru          97161.0     6368.    3056     85 Regió…\n",
            " 3 Vaup>és      97    P*a!coa            97511.0    13993.    4229     91 Regió…\n",
            " 4 Vaupés       97    Tara#?ir&*a'       97666.0     6510.    2318     97 Regió…\n",
            " 5 Va%Upés      97    Papuna!ua          97777.0     5551.     749     95 Regió…\n",
            " 6 Vaup>és      97    Y#*ava'ra?t!é      97889.0     4660.    1067     92 Regió…\n",
            " 7 Vi%ch>ada    99    Puerto   Carr#eño' 99001.0    12205.   20474     81 Regió…\n",
            " 8 Vichada      99    La Prima&*'!ve#ra  99524.0    18569.    9799     85 Regió…\n",
            " 9 Vi%ch>ada    99    Santa   ?Rosalía   99624.0     3692.    4130     81 Regió…\n",
            "10 Vichada      99    C#u'?mar!ibo       99773.0    65597.   76196     87 Regió…\n",
            "# … with abbreviated variable names ¹​Superficie, ²​Poblacion\n"
          ]
        }
      ],
      "source": [
        "\n",
        "%%R\n",
        "library(readxl)\n",
        "Municipios <- read_excel(\"Municipios.xlsx\")\n",
        "str(Municipios)\n",
        "head(Municipios,n=10)\n",
        "tail(Municipios,n=10)\n",
        "\n",
        "\n"
      ]
    },
    {
      "cell_type": "markdown",
      "metadata": {
        "id": "aSYP5uEtgecm"
      },
      "source": [
        "\n",
        "<p style=\"text-align: justify;\"> <a href=\"https://stringr.tidyverse.org/articles/regular-expressions.html\" style=\"color:red;\"><strong> Expresiones Regulares</strong></a></p>\n"
      ]
    },
    {
      "cell_type": "markdown",
      "metadata": {
        "id": "U43JUAg7gecm"
      },
      "source": [
        "\n",
        "<p></p><h4> <strong> Ejemplo 1 </strong> </h4>\n",
        "<p style=\"text-align: justify;\"> Se hace \"limpieza\" en los nombres de los municipios, es\n",
        "decir, </p><ul>\n",
        "<li>Se eliminan caracteres especiales</li>\n",
        "<li>Se eliminan espacios al inicio y al final</li>\n",
        "<li>Se reemplazan espacios múltiples por sencillos</li>\n",
        "<li>Se escriben en letras minúsculas excepto en la inicial de cada palabra</li>\n",
        "</ul>\n"
      ]
    },
    {
      "cell_type": "code",
      "execution_count": null,
      "metadata": {
        "id": "9fRXFmmRgecm"
      },
      "outputs": [],
      "source": [
        "\n",
        "%%R\n",
        "Municipios <- within(Municipios,{\n",
        "                    Municipio2 <- str_to_lower(Municipio)\n",
        "                    Municipio2 <- str_replace_all(Municipio2,\"[^a-záéíóúüñ ]\",\"\")\n",
        "                    Municipio2 <- str_squish(Municipio2)\n",
        "                    Municipio2 <- str_to_title(Municipio2)\n",
        "                    })\n",
        "head(Municipios[,c(\"Municipio\",\"Municipio2\")],n=10)\n",
        "\n",
        "Municipios <- within(Municipios,{\n",
        "                    Municipio <- Municipio2\n",
        "                    rm(Municipio2)\n",
        "                    })\n",
        "\n",
        "\n"
      ]
    },
    {
      "cell_type": "markdown",
      "metadata": {
        "id": "aCfkEZtOgecm"
      },
      "source": [
        "\n",
        "<p></p><h4> <strong> Ejemplo 2 </strong> </h4>\n",
        "<p style=\"text-align: justify;\"> Se hace \"limpieza\" en los nombres de los departamentos, es\n",
        "decir, </p><ul>\n",
        "<li>Se eliminan caracteres especiales</li>\n",
        "<li>Se eliminan espacios al inicio y al final</li>\n",
        "<li>Se reemplazan espacios múltiples por sencillos</li>\n",
        "<li>Se escriben en letras minúsculas excepto en la inicial de cada palabra</li>\n",
        "</ul>\n"
      ]
    },
    {
      "cell_type": "code",
      "execution_count": null,
      "metadata": {
        "id": "pIArhh21gecm"
      },
      "outputs": [],
      "source": [
        "\n",
        "%%R\n",
        "Municipios <- within(Municipios,{\n",
        "                    Departamento2 <- str_to_lower(Departamento)\n",
        "                    Departamento2 <- str_replace_all(Departamento2,\"[^a-záéíóúüñ ]\",\"\")\n",
        "                    Departamento2 <- str_squish(Departamento2)\n",
        "                    Departamento2 <- str_to_title(Departamento2)\n",
        "                    })\n",
        "head(Municipios[,c(\"Departamento\",\"Departamento2\")],n=10)\n",
        "\n",
        "Municipios <- within(Municipios,{\n",
        "                    Departamento <- Departamento2\n",
        "                    rm(Departamento2)\n",
        "                    })\n",
        "\n",
        "\n"
      ]
    },
    {
      "cell_type": "markdown",
      "metadata": {
        "id": "8-Kn92hNgecm"
      },
      "source": [
        "\n",
        "<p></p><h4> <strong> Ejemplo 3 </strong> </h4>\n",
        "<p style=\"text-align: justify;\"> Se hace \"limpieza\" en los nombres de las regiones, es\n",
        "decir, </p><ul>\n",
        "<li>Se eliminan caracteres especiales</li>\n",
        "<li>Se eliminan espacios al inicio y al final</li>\n",
        "<li>Se reemplazan espacios múltiples por sencillos</li>\n",
        "<li>Se escriben en letras minúsculas excepto en la inicial de cada palabra</li>\n",
        "</ul>\n"
      ]
    },
    {
      "cell_type": "code",
      "execution_count": null,
      "metadata": {
        "colab": {
          "base_uri": "https://localhost:8080/"
        },
        "id": "9ST8TBIqgecn",
        "outputId": "5e3841f1-633c-420a-c792-b13e82a4f178"
      },
      "outputs": [
        {
          "output_type": "stream",
          "name": "stdout",
          "text": [
            "# A tibble: 6 × 8\n",
            "  Departamento Dep   Municipio  Depmun Superficie Poblacion Irural Region       \n",
            "  <chr>        <chr> <chr>      <chr>       <dbl>     <dbl>  <dbl> <chr>        \n",
            "1 Antioquia    05    Medellín   05001       375.    2483545      5 Región Eje C…\n",
            "2 Antioquia    05    Abejorral  05002       507.      20258     45 Región Eje C…\n",
            "3 Antioquia    05    Abriaquí   05004       297.       2710     58 Región Eje C…\n",
            "4 Antioquia    05    Alejandría 05021       129.       4669     48 Región Eje C…\n",
            "5 Antioquia    05    Amagá      05030        84.1     30777     28 Región Eje C…\n",
            "6 Antioquia    05    Amalfi     05031      1209.      26552     54 Región Eje C…\n"
          ]
        }
      ],
      "source": [
        "%%R\n",
        "\n",
        "Municipios <- within(Municipios,{\n",
        "                    Region2 <- str_to_lower(Region)\n",
        "                    Region2 <- str_replace_all(Region2,\"[^a-záéíóúüñ ]\",\"\")\n",
        "                    Region2 <- str_squish(Region2)\n",
        "                    Region2 <- str_to_title(Region2)\n",
        "                    })\n",
        "\n",
        "head(Municipios[,c(\"Region\",\"Region2\")],n=10)\n",
        "\n",
        "Municipios <- within(Municipios,{\n",
        "                    Region <- Region2\n",
        "                    rm(Region2)\n",
        "                    })\n",
        "\n",
        "head(Municipios)\n"
      ]
    },
    {
      "cell_type": "code",
      "source": [
        "%%R\n",
        "Municipios <- within(Municipios,{\n",
        "                    Region <- str_replace(string = Region, pattern = \"Región \", replacement = \"\") \n",
        "                    })\n",
        "\n",
        "head(Municipios)"
      ],
      "metadata": {
        "colab": {
          "base_uri": "https://localhost:8080/"
        },
        "id": "Jc7qmsTBotKp",
        "outputId": "e0dc563f-57b2-4bcc-ed8a-226364beb34d"
      },
      "execution_count": null,
      "outputs": [
        {
          "output_type": "stream",
          "name": "stdout",
          "text": [
            "# A tibble: 6 × 8\n",
            "  Departamento Dep   Municipio  Depmun Superficie Poblacion Irural Region      \n",
            "  <chr>        <chr> <chr>      <chr>       <dbl>     <dbl>  <dbl> <chr>       \n",
            "1 Antioquia    05    Medellín   05001       375.    2483545      5 Eje Cafetero\n",
            "2 Antioquia    05    Abejorral  05002       507.      20258     45 Eje Cafetero\n",
            "3 Antioquia    05    Abriaquí   05004       297.       2710     58 Eje Cafetero\n",
            "4 Antioquia    05    Alejandría 05021       129.       4669     48 Eje Cafetero\n",
            "5 Antioquia    05    Amagá      05030        84.1     30777     28 Eje Cafetero\n",
            "6 Antioquia    05    Amalfi     05031      1209.      26552     54 Eje Cafetero\n"
          ]
        }
      ]
    },
    {
      "cell_type": "code",
      "source": [
        "%%R\n",
        "unique(Municipios$Region)"
      ],
      "metadata": {
        "colab": {
          "base_uri": "https://localhost:8080/"
        },
        "id": "w73JEgkgpCjE",
        "outputId": "7cedcceb-b5a0-403c-a026-52117e798aa9"
      },
      "execution_count": null,
      "outputs": [
        {
          "output_type": "stream",
          "name": "stdout",
          "text": [
            "[1] \"Eje Cafetero\"   \"Caribe\"         \"Centro Oriente\" \"Centro Sur\"    \n",
            "[5] \"Pacífico\"       \"Llano\"         \n"
          ]
        }
      ]
    },
    {
      "cell_type": "markdown",
      "metadata": {
        "id": "az5jtbxwgecn"
      },
      "source": [
        "\n",
        "<p></p><h4> <strong> Ejemplo 4 </strong> </h4>\n",
        "<p style=\"text-align: justify;\"> Se crea la variable <em>Tipo</em> igual a \"Capital\" para la capital de\n",
        "cada departamento y \"Otro\" para el resto de los municipios.</p>\n"
      ]
    },
    {
      "cell_type": "code",
      "execution_count": null,
      "metadata": {
        "id": "YPnX4urggecn"
      },
      "outputs": [],
      "source": [
        "\n",
        "\n",
        "Municipios <- within(Municipios,{\n",
        "                    Tipo <- ifelse(str_sub(Depmun,3,5)==\"001\",\"Capital\",\"Otro\")\n",
        "                    Tipo2 <- ifelse(str_c(Dep,\"001\")==Depmun,\"Capital\",\"Otro\")\n",
        "                    if(all(Tipo==Tipo2)) rm(Tipo2)\n",
        "                    Tipo <- ifelse(Depmun==\"25001\",\"Otro\",Tipo)\n",
        "                    })\n",
        "\n",
        "head(Municipios[,c(\"Depmun\",\"Tipo\")],n=10)\n",
        "tail(Municipios[,c(\"Depmun\",\"Tipo\")],n=10)\n",
        "\n",
        "\n"
      ]
    },
    {
      "cell_type": "markdown",
      "metadata": {
        "id": "Dvv_XAfegecn"
      },
      "source": [
        "\n",
        "<p></p><h4> <strong> Ejemplo 5 </strong> </h4>\n",
        "<p style=\"text-align: justify;\"> Se crea la variable <em>denspobl</em> definida como el cociente\n",
        "    entre <em> Poblacion </em> y <em> Superficie</em>. Se crea también la variable <em> Zona </em> igual\n",
        "    a \"Urbano\" cuando <em>Irural</em> $ &lt;= 40$ y \"Rural\" cuando <em>Irural</em> $ &gt; 40$. </p>\n"
      ]
    },
    {
      "cell_type": "code",
      "execution_count": null,
      "metadata": {
        "id": "jZHx_zL9gecn"
      },
      "outputs": [],
      "source": [
        "\n",
        "\n",
        "Municipios <- within(Municipios,{\n",
        "              denspobl <- Poblacion/Superficie\n",
        "              Zona <- ifelse(Irural <= 40,\"Urbano\",\"Rural\")\n",
        "              })\n",
        "\n",
        "with(Municipios,summary(denspobl))\n",
        "with(Municipios,table(Zona))\n",
        "\n",
        "\n"
      ]
    },
    {
      "cell_type": "markdown",
      "metadata": {
        "id": "PVvYkg_Jgecn"
      },
      "source": [
        "\n",
        "<p></p><h4> <strong> Ejemplo 6 </strong> </h4>\n",
        "<p style=\"text-align: justify;\"> Conjunto de datos con las variables <em>Departamento</em>, <em>Depmun</em>\n",
        "y <em>Municipio</em> y con todos los municipios cuyo nombre incluye el nombre de un santo, por ejemplo, Santa Marta, \n",
        "Santo Tomás, San José, Valle de San Jacinto. </p>\n"
      ]
    },
    {
      "cell_type": "code",
      "execution_count": null,
      "metadata": {
        "id": "AQhUWYX4gecn"
      },
      "outputs": [],
      "source": [
        "\n",
        "\n",
        "help(subset)\n",
        "Santos <- subset(Municipios,str_detect(Municipio,\"(^| )San( |ta |to )\"),\n",
        "                 select=c(Departamento,Depmun,Municipio))\n",
        "\n",
        "str(Santos)\n",
        "head(Santos,n=10)\n",
        "tail(Santos,n=10)\n",
        "\n",
        "\n"
      ]
    },
    {
      "cell_type": "markdown",
      "metadata": {
        "id": "WyFlAB4zgecn"
      },
      "source": [
        "\n",
        "<p></p><h4> <strong> Ejemplo 7 </strong> </h4>\n",
        "<p style=\"text-align: justify;\"> Conjunto de datos con todas las variables excepto <em>Region</em>, <em>Irural</em>, <em>Poblacion</em> y <em>Superficie</em>, y con todos los municipios cuyo nombre incluye el nombre de un santo o una santa. </p>\n"
      ]
    },
    {
      "cell_type": "code",
      "execution_count": null,
      "metadata": {
        "id": "eo_DMJm6gecn"
      },
      "outputs": [],
      "source": [
        "\n",
        "\n",
        "Santos2 <- subset(Municipios,str_detect(Municipio,\"(^| )San( |ta |to )\"),\n",
        "                  select=-c(Region,Irural,Poblacion,Superficie))\n",
        "\n",
        "str(Santos2)\n",
        "head(Santos2,n=10)\n",
        "tail(Santos2,n=10)\n",
        "\n",
        "\n"
      ]
    },
    {
      "cell_type": "markdown",
      "metadata": {
        "id": "HKRKu24Vgeco"
      },
      "source": [
        "\n",
        "<p></p><h4> <strong> Ejemplo 8 </strong> </h4>\n",
        "<p style=\"text-align: justify;\"> Conjunto de datos con las variables <em>Dep</em>, <em>Departamento</em>, <em>Depmun</em> y <em>Municipio</em>, y con todos los municipios cuyos nombres inician y terminan con la misma vocal. </p>\n"
      ]
    },
    {
      "cell_type": "code",
      "execution_count": null,
      "metadata": {
        "id": "Jn2ooxQageco"
      },
      "outputs": [],
      "source": [
        "\n",
        "\n",
        "vocales <- subset(Municipios,\n",
        "           str_detect(chartr(\"áéíóú\",\"aeiou\",str_to_lower(Municipio)),\"^a.*a$|^e.*e$|^i.*i$|^o.*o$|^u.*u$\"),\n",
        "           select=c(Dep,Departamento,Depmun,Municipio))\n",
        "str(vocales)\n",
        "head(vocales,n=10)\n",
        "tail(vocales,n=10)\n",
        "\n",
        "\n"
      ]
    },
    {
      "cell_type": "markdown",
      "metadata": {
        "id": "y-BxsgFBgeco"
      },
      "source": [
        "\n",
        "<p></p><h4> <strong> Ejemplo 9 </strong> </h4>\n",
        "<p style=\"text-align: justify;\"> Conjunto de datos con las variables <em>Dep</em>, <em>Departamento</em>, <em>Depmun</em> y <em>Municipio</em>, y con todos los municipios cuyos\n",
        "nombres inician y terminan con la misma consonante. </p>\n"
      ]
    },
    {
      "cell_type": "code",
      "execution_count": null,
      "metadata": {
        "id": "xj8hl0kUgeco"
      },
      "outputs": [],
      "source": [
        "\n",
        "\n",
        "consonantes <- subset(Municipios,str_sub(str_to_lower(Municipio),1,1)==str_sub(Municipio,-1,-1) & \n",
        "                                 str_detect(Municipio,\"a$|e$|i$|o$|u$\",negate=TRUE),\n",
        "                                 select=c(Dep,Departamento,Depmun,Municipio))\n",
        "str(consonantes)\n",
        "head(consonantes,n=10)\n",
        "tail(consonantes,n=10)\n",
        "\n",
        "\n"
      ]
    },
    {
      "cell_type": "markdown",
      "metadata": {
        "id": "nQOKr0nggeco"
      },
      "source": [
        "\n",
        "<p></p><h4> <strong> Ejemplo 10 </strong> </h4>\n",
        "<p style=\"text-align: justify;\"> Conjunto de datos con todas las variables excepto <em>Poblacion</em>, <em>Superficie</em> y <em>Irural</em>, y con todos los municipios cuyos nombres tienen \"A\" como primera letra y \"e\" como cuarta letra.</p>\n"
      ]
    },
    {
      "cell_type": "code",
      "execution_count": null,
      "metadata": {
        "id": "JumhJRGAgeco"
      },
      "outputs": [],
      "source": [
        "\n",
        "\n",
        "Aes <- subset(Municipios,str_detect(Municipio,\"^A..e.*\"),\n",
        "                         select=-c(Poblacion,Superficie,Irural))\n",
        "\n",
        "str(Aes)\n",
        "head(Aes,n=10)\n",
        "tail(Aes,n=10)\n",
        "\n",
        "\n"
      ]
    },
    {
      "cell_type": "markdown",
      "metadata": {
        "id": "idFPOjW2geco"
      },
      "source": [
        "\n",
        "<p></p><h4> <strong> Ejemplo 11 </strong> </h4>\n",
        "<p style=\"text-align: justify;\"> Conjunto de datos con las variables <em>Departamento</em>, <em>Depmun</em>\n",
        "y <em>Municipio</em>, y con el 1% de municipios con los nombres más largos. </p>\n"
      ]
    },
    {
      "cell_type": "code",
      "execution_count": null,
      "metadata": {
        "id": "sUzIVkFBgecp"
      },
      "outputs": [],
      "source": [
        "\n",
        "\n",
        "Largos <- subset(Municipios,str_length(Municipio) >= quantile(str_length(Municipio),0.99),\n",
        "                            select=c(Departamento,Depmun,Municipio))\n",
        "\n",
        "str(Largos)\n",
        "head(Largos)\n",
        "tail(Largos)\n",
        "\n",
        "\n"
      ]
    },
    {
      "cell_type": "markdown",
      "metadata": {
        "id": "0fbw3M4_gecp"
      },
      "source": [
        "\n",
        "<p></p><h4> <strong> Ejemplo 12 </strong> </h4>\n",
        "<p style=\"text-align: justify;\"> Conjunto de datos con las variables <em>Departamento</em>, <em>Depmun</em> y <em>Municipio</em>, y con el 1% de municipios con los nombres más cortos. </p>\n"
      ]
    },
    {
      "cell_type": "code",
      "execution_count": null,
      "metadata": {
        "id": "ydTcMC4fgecp"
      },
      "outputs": [],
      "source": [
        "\n",
        "\n",
        "Cortos <- subset(Municipios,str_length(Municipio) <= quantile(str_length(Municipio),0.01),\n",
        "                            select=c(Departamento,Depmun,Municipio))\n",
        "\n",
        "str(Cortos)\n",
        "head(Cortos)\n",
        "tail(Cortos)\n",
        "\n",
        "\n"
      ]
    },
    {
      "cell_type": "markdown",
      "metadata": {
        "id": "t02qJizhgecp"
      },
      "source": [
        "\n",
        "<p></p><h4> <strong> Ejemplo 13 </strong> </h4>\n",
        "<p style=\"text-align: justify;\"> Cuantos municipios tienen nombres que constan de 1, 2, 3,\n",
        "4, 5, ... vocales? </p>\n"
      ]
    },
    {
      "cell_type": "code",
      "execution_count": null,
      "metadata": {
        "id": "pdKi0ZnLgecp"
      },
      "outputs": [],
      "source": [
        "\n",
        "\n",
        "vocales <- with(Municipios,str_count(str_to_lower(Municipio),\"[aeiouáéíóúü]\"))\n",
        "table(vocales)\n",
        "\n",
        "\n"
      ]
    },
    {
      "cell_type": "markdown",
      "metadata": {
        "id": "lUibOksvgecp"
      },
      "source": [
        "\n",
        "<p></p><h4> <strong> Ejemplo 14 </strong> </h4>\n",
        "<p style=\"text-align: justify;\"> Cuantos municipios tienen nombres que constan de 0, 1, 2,\n",
        "3, 4, 5,... palabras?. </p>\n"
      ]
    },
    {
      "cell_type": "code",
      "execution_count": null,
      "metadata": {
        "id": "XM0zBo3egecp"
      },
      "outputs": [],
      "source": [
        "\n",
        "\n",
        "palabras <- with(Municipios,str_count(Municipio,\" \") + 1)\n",
        "table(palabras)\n",
        "\n",
        "\n"
      ]
    },
    {
      "cell_type": "markdown",
      "metadata": {
        "id": "o04Qioohgecp"
      },
      "source": [
        "\n",
        "<p></p><h4> <strong> Ejemplo 15 </strong> </h4>\n",
        "<p style=\"text-align: justify;\"> Cuales municipios tienen nombres que constan de más de 4 palabras? </p>\n"
      ]
    },
    {
      "cell_type": "code",
      "execution_count": null,
      "metadata": {
        "id": "fcpWufNHgecq"
      },
      "outputs": [],
      "source": [
        "\n",
        "\n",
        "Mas4 <- subset(Municipios,str_count(Municipio,\" \") > 5)\n",
        "Mas4\n",
        "\n",
        "\n"
      ]
    },
    {
      "cell_type": "markdown",
      "source": [
        "# Estadísticas descriptivas"
      ],
      "metadata": {
        "id": "R8kAq4DFhQuH"
      }
    },
    {
      "cell_type": "markdown",
      "metadata": {
        "id": "3WtyhJ1tgecq"
      },
      "source": [
        "\n",
        "<h1 style=\"color:red;\"> <strong> <center> Estadísticas descriptivas </center></strong> </h1>\n"
      ]
    },
    {
      "cell_type": "markdown",
      "metadata": {
        "id": "i_JjmE4lgecq"
      },
      "source": [
        "\n",
        "<p></p><h4> <strong> Ejemplo 1 </strong> </h4>\n",
        "<p style=\"text-align: justify;\"> Cuales variables del conjunto de datos <em>Municipios</em> tienen\n",
        "valores perdidos o missings? Y del conjunto de datos <em>airquality</em>? </p>\n"
      ]
    },
    {
      "cell_type": "code",
      "execution_count": null,
      "metadata": {
        "id": "cbMbCYZKgecq"
      },
      "outputs": [],
      "source": [
        "\n",
        "\n",
        "missings <- function(x) return(sum(is.na(x)))\n",
        "apply(Municipios,2,missings)\n",
        "apply(airquality,2,missings)\n",
        "\n",
        "\n"
      ]
    },
    {
      "cell_type": "markdown",
      "metadata": {
        "id": "ghy0XzCcgecq"
      },
      "source": [
        "\n",
        "<p></p><h4> <strong> Ejemplo 2 </strong> </h4>\n",
        "<p style=\"text-align: justify;\"> Cuantas filas del conjunto de datos Municipios tienen 0,\n",
        "1, 2, 3, 4, 5,... valores perdidos o missings? Y en el conjunto de datos\n",
        "airquality ? </p>\n"
      ]
    },
    {
      "cell_type": "code",
      "execution_count": null,
      "metadata": {
        "id": "19jP8Fhggecq"
      },
      "outputs": [],
      "source": [
        "\n",
        "\n",
        "table(apply(Municipios,1,missings))\n",
        "table(apply(airquality,1,missings))\n",
        "\n",
        "\n"
      ]
    },
    {
      "cell_type": "markdown",
      "metadata": {
        "id": "JqgrXVv1gecq"
      },
      "source": [
        "\n",
        "<p></p><h4> <strong> Ejemplo 3 </strong> </h4>\n",
        "<p style=\"text-align: justify;\"> Conjunto de datos con las filas de <em>airquality</em> con valores perdidos en la variable <em>Ozone</em> </p>\n"
      ]
    },
    {
      "cell_type": "code",
      "execution_count": null,
      "metadata": {
        "id": "_KumLmzCgecq"
      },
      "outputs": [],
      "source": [
        "\n",
        "\n",
        "perdidos <- subset(airquality, is.na(Ozone))\n",
        "\n",
        "str(perdidos)\n",
        "head(perdidos,n=10)\n",
        "tail(perdidos,n=10)\n",
        "\n",
        "\n"
      ]
    },
    {
      "cell_type": "markdown",
      "metadata": {
        "id": "RBX_7YAygecq"
      },
      "source": [
        "\n",
        "<p></p><h4> <strong> Ejemplo 4 </strong> </h4>\n",
        "<p style=\"text-align: justify;\"> Cálculo de algunas estadísticas descriptivas para las variables\n",
        "<em> Poblacion</em>, <em> Superficie</em>, <em> denspobl </em> y <em> Irural </em> del conjunto de datos <em> Municipios</em>.</p>\n"
      ]
    },
    {
      "cell_type": "code",
      "execution_count": null,
      "metadata": {
        "id": "kQak-xiggecr"
      },
      "outputs": [],
      "source": [
        "\n",
        "\n",
        "summ <- function(x){\n",
        " x2 <- na.omit(x)\n",
        " y <- c(mean(x2),median(x2),sd(x2),sd(x2)/mean(x2),length(boxplot.stats(x2)$out),sum(is.na(x)))\n",
        " names(y) <- c(\"Mean\",\"Median\",\"Std.Dev\",\"Coef.Var\",\"Outliers\",\"Missings\")\n",
        " return(round(y,digits=2))\n",
        "}\n",
        "\n",
        "apply(Municipios[,c(\"Poblacion\",\"Superficie\",\"denspobl\",\"Irural\")],2,summ)\n",
        "\n",
        "\n"
      ]
    },
    {
      "cell_type": "markdown",
      "metadata": {
        "id": "k1KbKQeXgecr"
      },
      "source": [
        "\n",
        "<p></p><h4> <strong> Ejemplo 5 </strong> </h4>\n",
        "<p style=\"text-align: justify;\"> Cálculo de algunas estadísticas descriptivas para las variables\n",
        "<em> Departamento</em>, <em> Depmun</em>, <em> Municipio </em> y <em> Region </em> del conjunto de datos <em> Municipios</em>.</p>\n"
      ]
    },
    {
      "cell_type": "code",
      "execution_count": null,
      "metadata": {
        "id": "7jpx45MLgecr"
      },
      "outputs": [],
      "source": [
        "\n",
        "\n",
        "summ2 <- function(x){\n",
        " x2 <- na.omit(x)   \n",
        " y <- c(length(unique(x2)),sum(is.na(x)))\n",
        " names(y) <- c(\"Levels\",\"Missings\")\n",
        " return(round(y,digits=2))\n",
        "}\n",
        "\n",
        "apply(Municipios[,c(\"Departamento\",\"Depmun\",\"Municipio\",\"Region\")],2,summ2)\n",
        "\n",
        "\n"
      ]
    },
    {
      "cell_type": "markdown",
      "metadata": {
        "id": "EysFvOEBgecr"
      },
      "source": [
        "\n",
        "<p></p><h4> <strong> Ejemplo 6 </strong> </h4>\n",
        "<p style=\"text-align: justify;\"> Conjunto de datos <em> Municipios2 </em> creado como una copia\n",
        "del conjunto de datos <em> Municipios </em> en la que las variables <em> Poblacion</em>,\n",
        "<em> Superficie </em> y <em> Irural </em> se reemplazan por sus versiones estandarizadas,\n",
        "es decir, se les resta su media y se les divide por su desviación estándar. </p>\n"
      ]
    },
    {
      "cell_type": "code",
      "execution_count": null,
      "metadata": {
        "id": "UoeQydgjgecr"
      },
      "outputs": [],
      "source": [
        "\n",
        "\n",
        "stdize <- function(x) (x-mean(x,na.rm=TRUE))/sd(x,na.rm=TRUE)\n",
        "Municipios2 <- Municipios\n",
        "vars <- c(\"Poblacion\",\"Superficie\",\"Irural\")\n",
        "\n",
        "Municipios2[,vars] <- apply(Municipios[,vars],2,stdize)\n",
        "str(Municipios2)\n",
        "apply(Municipios2[,vars],2,summary)\n",
        "\n",
        "\n"
      ]
    },
    {
      "cell_type": "markdown",
      "metadata": {
        "id": "vzYmM4LRgecr"
      },
      "source": [
        "\n",
        "<p></p><h4> <strong> Ejemplo 7 </strong> </h4>\n",
        "<p style=\"text-align: justify;\"> Eliminando municipios con missings. </p>\n"
      ]
    },
    {
      "cell_type": "code",
      "execution_count": null,
      "metadata": {
        "id": "dsE_iVvWgecr"
      },
      "outputs": [],
      "source": [
        "\n",
        "\n",
        "Municipios <- as.data.frame(na.omit(Municipios))\n",
        "apply(Municipios,2,missings)\n",
        "\n",
        "\n"
      ]
    },
    {
      "cell_type": "markdown",
      "metadata": {
        "id": "oPtv2lI-gecs"
      },
      "source": [
        "\n",
        "<p></p><h4> <strong> Ejemplo 8 </strong> </h4>\n",
        "<p style=\"text-align: justify;\"> Guardando el conjunto de datos Municipios con todas las modificaciones que se le han realizado en el directorio de trabajo. </p>\n"
      ]
    },
    {
      "cell_type": "markdown",
      "metadata": {
        "id": "OSud06hKgecs"
      },
      "source": [
        "\n",
        "<h4> <strong> R Data File </strong> </h4>\n"
      ]
    },
    {
      "cell_type": "code",
      "execution_count": null,
      "metadata": {
        "id": "zzycmjjRgecs"
      },
      "outputs": [],
      "source": [
        "\n",
        "\n",
        "saveRDS(Municipios, file=\"Municipios.RDS\")\n",
        "\n",
        "\n"
      ]
    },
    {
      "cell_type": "markdown",
      "metadata": {
        "id": "YilALCcZgecs"
      },
      "source": [
        "\n",
        "<h4> <strong> csv (Comma Separated Values) </strong> </h4>\n"
      ]
    },
    {
      "cell_type": "code",
      "execution_count": null,
      "metadata": {
        "id": "X5DFC1JZgecs"
      },
      "outputs": [],
      "source": [
        "\n",
        "\n",
        "write_csv(Municipios, \"Municipios.csv\")\n",
        "\n",
        "\n"
      ]
    },
    {
      "cell_type": "markdown",
      "metadata": {
        "id": "2KxwDx97gecs"
      },
      "source": [
        "\n",
        "<h4> <strong> tsv (Tabular Separated Values) </strong> </h4>\n"
      ]
    },
    {
      "cell_type": "code",
      "execution_count": null,
      "metadata": {
        "id": "_t5X_u6zgecs"
      },
      "outputs": [],
      "source": [
        "\n",
        "\n",
        "write_tsv(Municipios, \"Municipios.tsv\")\n",
        "\n",
        "\n"
      ]
    },
    {
      "cell_type": "markdown",
      "metadata": {
        "id": "4DyLjxfDgecs"
      },
      "source": [
        "\n",
        "<h4> <strong> Text File </strong> </h4>\n"
      ]
    },
    {
      "cell_type": "code",
      "execution_count": null,
      "metadata": {
        "id": "Q_Nib8qigecs"
      },
      "outputs": [],
      "source": [
        "\n",
        "\n",
        "write_delim(Municipios, \"Municipios.txt\", delim=\"@\")\n",
        "\n",
        "\n"
      ]
    },
    {
      "cell_type": "markdown",
      "source": [
        "# Tablas de frecuencia"
      ],
      "metadata": {
        "id": "3rhgWKIhhajY"
      }
    },
    {
      "cell_type": "markdown",
      "metadata": {
        "id": "JXgMoMW8gect"
      },
      "source": [
        "\n",
        "<h1 style=\"color:red;\"> <strong> <center>Tablas de frecuencia </center></strong> </h1>\n"
      ]
    },
    {
      "cell_type": "code",
      "execution_count": null,
      "metadata": {
        "id": "O9xPoglggect"
      },
      "outputs": [],
      "source": [
        "\n",
        "\n",
        "install.packages(\"dplyr\")\n",
        "library(dplyr)\n",
        "source(\"mismacros.txt\")\n",
        "\n",
        "\n"
      ]
    },
    {
      "cell_type": "markdown",
      "metadata": {
        "id": "LPo0GMTYgect"
      },
      "source": [
        "\n",
        "<p></p><h4> <strong> Ejemplo 1 </strong> </h4>\n",
        "<p style=\"text-align: justify;\"> Qué porcentaje del total representan los municipios del\n",
        "departamento de Norte de Santander? Cuantos municipios tiene el departamento\n",
        "del Valle del Cauca? Cuales son los cinco departamentos\n",
        "con mayor número de municipios? Qué porcentaje del total representan\n",
        "los municipios de estos cinco departamentos? Qué porcentaje de\n",
        "los municipios son rurales? </p>\n"
      ]
    },
    {
      "cell_type": "code",
      "execution_count": null,
      "metadata": {
        "id": "auQVe5Wygect"
      },
      "outputs": [],
      "source": [
        "\n",
        "\n",
        "mytable(~ Departamento,data=Municipios,ord=\"freq\")\n",
        "\n",
        "mytable(~ Zona,data=Municipios,cum=FALSE)\n",
        "\n",
        "\n"
      ]
    },
    {
      "cell_type": "markdown",
      "metadata": {
        "id": "lgH3kr7egect"
      },
      "source": [
        "\n",
        "<p></p><h4> <strong> Ejemplo 2 </strong> </h4>\n",
        "<p style=\"text-align: justify;\"> Qué porcentaje de la población habita en el departamento\n",
        "del Meta? Cuantos habitantes tiene el departamento del Putumayo?\n",
        "Cuales son los cuatro departamentos con mayor número de habitantes?\n",
        "Qué porcentaje de la población habita en estos cuatro departamentos?\n",
        "Qué porcentaje de la población habita en municipios rurales? </p>\n"
      ]
    },
    {
      "cell_type": "code",
      "execution_count": null,
      "metadata": {
        "id": "43HT8-2_gect"
      },
      "outputs": [],
      "source": [
        "\n",
        "\n",
        "mytable(Poblacion ~ Departamento,data=Municipios,ord=\"freq\")\n",
        "\n",
        "mytable(Poblacion ~ Zona,data=Municipios,cum=FALSE)\n",
        "\n",
        "\n"
      ]
    },
    {
      "cell_type": "markdown",
      "metadata": {
        "id": "2_walyDbgect"
      },
      "source": [
        "\n",
        "<p></p><h4> <strong> Ejemplo 3 </strong> </h4>\n",
        "<p style=\"text-align: justify;\"> Cuales son los cinco municipios más/menos poblados del\n",
        "departamento de Bolívar? Qué porcentaje representan estos municipios\n",
        "del total de la población en el departamento? Qué porcentaje de\n",
        "la población del departamento habita en municipios rurales? </p>\n"
      ]
    },
    {
      "cell_type": "code",
      "execution_count": null,
      "metadata": {
        "id": "4SPpKzrEgect"
      },
      "outputs": [],
      "source": [
        "\n",
        "\n",
        "mytable(Poblacion ~ Municipio,data=Municipios,subset=c(Dep==\"13\"),ord=\"freq\")\n",
        "\n",
        "mytable(Poblacion ~ Municipio,data=Municipios,subset=c(Dep==\"13\"),ord=\"-freq\")\n",
        "\n",
        "mytable(Poblacion ~ Zona,data=Municipios,subset=c(Dep==\"13\"),cum=FALSE)\n",
        "\n",
        "\n"
      ]
    },
    {
      "cell_type": "markdown",
      "metadata": {
        "id": "zYkzlb-6gect"
      },
      "source": [
        "\n",
        "<p></p><h4> <strong> Ejemplo 4 </strong> </h4>\n",
        "<p style=\"text-align: justify;\"> Qué porcentaje de la superficie total de Colombia representa\n",
        "el departamento del Chocó? Cual es la superficie del departamento\n",
        "de Córdoba? Cuales son los cinco departamentos con\n",
        "mayor/menor superficie? Qué porcentaje representan estos cinco departamentos\n",
        "de la superficie total de Colombia? </p>\n"
      ]
    },
    {
      "cell_type": "code",
      "execution_count": null,
      "metadata": {
        "id": "_95IXSz6gect"
      },
      "outputs": [],
      "source": [
        "\n",
        "\n",
        "mytable(Superficie ~ Departamento,data=Municipios,ord=\"freq\")\n",
        "\n",
        "mytable(Superficie ~ Departamento,data=Municipios,ord=\"-freq\")\n",
        "\n",
        "\n"
      ]
    },
    {
      "cell_type": "markdown",
      "metadata": {
        "id": "FyElrCpSgecu"
      },
      "source": [
        "\n",
        "<p></p><h4> <strong> Ejemplo 5 </strong> </h4>\n",
        "<p style=\"text-align: justify;\"> Qué porcentaje de los municipios del departamento de\n",
        "La Guajira son rurales? Qué porcentaje de los municipios rurales están\n",
        "en el departamento de Vaupés? </p>\n"
      ]
    },
    {
      "cell_type": "code",
      "execution_count": null,
      "metadata": {
        "id": "SEYqNhtcgecu"
      },
      "outputs": [],
      "source": [
        "\n",
        "\n",
        "mytable(~ Departamento*Zona,data=Municipios,ord=\"freq\")\n",
        "\n",
        "\n"
      ]
    },
    {
      "cell_type": "markdown",
      "metadata": {
        "id": "nUIPcIksgecu"
      },
      "source": [
        "\n",
        "<p></p><h4> <strong> Ejemplo 6 </strong> </h4>\n",
        "<p style=\"text-align: justify;\"> Qué porcentaje de la población del departamento de Boyacá\n",
        "está en municipios rurales? Qué porcentaje de la población total\n",
        "en municipios rurales está en el departamento de Antioquia? </p>\n"
      ]
    },
    {
      "cell_type": "code",
      "execution_count": null,
      "metadata": {
        "id": "MzgxCaCHgecu"
      },
      "outputs": [],
      "source": [
        "\n",
        "\n",
        "mytable(Poblacion ~ Departamento*Zona,data=Municipios,ord=\"freq\",digits=1)\n",
        "\n",
        "\n"
      ]
    },
    {
      "cell_type": "markdown",
      "metadata": {
        "id": "0OGXQpjMgecu"
      },
      "source": [
        "\n",
        "<p></p><h4> <strong> Ejemplo 7 </strong> </h4>\n",
        "<p style=\"text-align: justify;\"> Qué porcentaje de la superficie del departamento de Nariño\n",
        "corresponde a municipios rurales? Qué porcentaje de la superficie\n",
        "total en municipios rurales está en el departamento de Atlántico? </p>\n"
      ]
    },
    {
      "cell_type": "code",
      "execution_count": null,
      "metadata": {
        "id": "Pq59cK2Agecu"
      },
      "outputs": [],
      "source": [
        "\n",
        "\n",
        "mytable(Superficie ~ Departamento*Zona,data=Municipios,ord=\"freq\",digits=1)\n",
        "\n",
        "\n"
      ]
    },
    {
      "cell_type": "markdown",
      "source": [
        "## Ejercicios"
      ],
      "metadata": {
        "id": "6p90TIXchhEu"
      }
    },
    {
      "cell_type": "markdown",
      "metadata": {
        "id": "0bUs2TQ9gecu"
      },
      "source": [
        "\n",
        "<p></p><h2 style=\"color:red;\"> Ejercicios</h2><p></p><h3 style=\"color:red;\"> Películas</h3><p style=\"text-align: justify;\"> Estos datos, que corresponden a la duración promedio de las tomas de 11001 películas, están descritos <a href=\"http://users.stat.ufl.edu/~winner/data/movie_avshotlength.txt\" style=\"color:red;\"><strong> aquí</strong></a> y se pueden obtener <a href=\"http://users.stat.ufl.edu/~winner/data/movie_avshotlength.csv\" style=\"color:red;\"><strong> aquí</strong></a>.</p><ul>\n",
        "<li><p style=\"text-align: justify;\"> Importe las variables <em>Title</em>, <em>Year</em>, <em>Director</em> y <em>Country</em>. Cuantas filas tiene el conjunto de datos resultante? Hay valores perdidos o missings? Cuantos? En qué variables?</p></li>\n",
        "<li><p style=\"text-align: justify;\"> Cuantas películas tienen solo 1 director(a)? Cuantas películas tienen 2 directores(as)? Cuantas películas tienen 3 o más directores(as)?</p></li>\n",
        "<li><p style=\"text-align: justify;\"> Cuantas y cuales películas tienen nombres que incluyen números?</p></li>\n",
        "<li><p style=\"text-align: justify;\"> Cuantas y cuales películas tienen nombres que incluyen signos de puntuación?</p></li>\n",
        "<li><p style=\"text-align: justify;\"> Cree un conjunto de datos con las películas que tienen solo 1 director(a). Use la variable <em>Director</em> para crear una variable llamada <em>Director2</em> teniendo en cuenta los siguientes parámetros: <em>(a)</em> Deben aparecer los nombre(s) y luego los apellido(s) del(de la) director(a) de la película separados por espacios sencillos y sin espacios al inicio ni al final; <em>(b)</em> Las iniciales de cada nombre y de cada apellido deben estar en letras mayúsculas.</p></li>\n",
        "<li><p style=\"text-align: justify;\"> Cuantas y cuales películas fueron dirigidas por Kathryn Bigelow?</p></li>\n",
        "<li><p style=\"text-align: justify;\"> Cuantas y cuales películas fueron dirigidas por Martin Scorsese?</p></li>\n",
        "<li><p style=\"text-align: justify;\"> Cuantas y cuales películas son Argentinas?</p></li>\n",
        "<li><p style=\"text-align: justify;\"> Cuantas y cuales películas son Mexicanas?</p></li>\n",
        "</ul>\n",
        "<p></p><h3 style=\"color:red;\"> Exportaciones agrícolas tradicionales en Colombia</h3>\n",
        "<p style=\"text-align: justify;\"> El archivo <strong>exportaciones.xlsx</strong> contiene información sobre el volumen (en toneladas) y el valor (en dólares) de las exportaciones agrícolas tradicionales (Banano, Café y Flores) en Colombia de 2018 hasta 2021.</p><ul>\n",
        "<li><p style=\"text-align: justify;\"> Qué porcentaje del volumen de las exportaciones de café en 2018 se hicieron durante el mes de agosto?</p></li>\n",
        "<li><p style=\"text-align: justify;\"> Qué porcentaje del volumen de las exportaciones de café en 2018 se hicieron durante el primer trimestre del año?\n",
        "</p></li>\n",
        "<li><p style=\"text-align: justify;\"> Qué porcentaje del valor de las exportaciones de café en 2018 se hicieron durante el mes de septiembre?\n",
        "</p></li>\n",
        "<li><p style=\"text-align: justify;\"> Qué porcentaje del valor de las exportaciones de café en 2018 se hicieron durante el cuarto trimestre del año?\n",
        "</p></li>\n",
        "<li><p style=\"text-align: justify;\"> Qué porcentaje del volumen de las exportaciones de flores en Antioquia en 2019 se hicieron durante el primer trimestre del año?\n",
        "</p></li>\n",
        "<li><p style=\"text-align: justify;\"> Qué porcentaje del volumen de las exportaciones de flores durante el primer trimestre del 2019 se hicieron desde Antioquia?\n",
        "</p></li>\n",
        "<li><p style=\"text-align: justify;\"> Qué porcentaje del valor de las exportaciones de flores en Antioquia en 2019 se hicieron durante el tercer trimestre del año?\n",
        "</p></li>\n",
        "<li><p style=\"text-align: justify;\"> Qué porcentaje del valor de las exportaciones de flores durante el tercer trimestre del 2019 se hicieron desde Antioquia?\n",
        "</p></li>\n",
        "</ul>\n",
        "<p></p><h3 style=\"color:red;\"> Créditos</h3>\n",
        "<p style=\"text-align: justify;\"> Estos datos, disponibles en el objeto <em>credit</em>\n",
        "del paquete <em>CASdatasets</em> de <em>R</em>, corresponden a la información de 1000 créditos bancarios,\n",
        "en que los créditos considerados \"buenos\" y \"malos\" se identifican como <em>class = 0</em> y <em>class = 1</em>,\n",
        "respectivamente.</p><ul>\n",
        "<li><p style=\"text-align: justify;\"> Qué porcentaje de la cartera (número de créditos) corresponde a créditos \"malos\"?</p></li>\n",
        "<li><p style=\"text-align: justify;\"> Qué porcentaje de la cartera (valor de los créditos) corresponde a créditos \"malos\"?</p></li>\n",
        "<li><p style=\"text-align: justify;\"> El porcentaje de la cartera (número de créditos) que corresponde a créditos \"malos\" es menor para los clientes con \"buen\" historial crediticio?</p></li>\n",
        "<li><p style=\"text-align: justify;\"> El porcentaje de la cartera (en valor) que corresponde a créditos \"malos\" es menor para los clientes con \"buen\" historial crediticio?</p></li>\n",
        "<li><p style=\"text-align: justify;\"> El porcentaje de la cartera (número de créditos) que corresponde a créditos \"malos\" es menor para los clientes con empleos más estables?</p></li>\n",
        "<li><p style=\"text-align: justify;\"> El porcentaje de la cartera (valor de los créditos) que corresponde a créditos \"malos\" es menor para los clientes con empleos más estables?</p></li>\n",
        "</ul>\n"
      ]
    },
    {
      "cell_type": "markdown",
      "source": [
        "### Películas"
      ],
      "metadata": {
        "id": "mk8Y33v2kwE2"
      }
    },
    {
      "cell_type": "code",
      "source": [
        "%%R\n",
        "peliculas = read_delim('https://raw.githubusercontent.com/jofmorenore/CE/main/movie_avshotlength.csv', delim = ',', skip = 1,\n",
        "                       col_names = c(\"Title\", \"Year\",\"Director\",\"Country\", \"ASL\"),\n",
        "                       col_types = cols(\"c\",\"n\",\"c\",\"c\",\"-\"))\n",
        "str(peliculas) # 11001 filas\n",
        "print(sum(is.na(peliculas))) # 1386 missings\n",
        "apply(peliculas, 2, function(x) sum(is.na(x))) # missings: 4 en Year, 15 en Director, 1367 en Country"
      ],
      "metadata": {
        "colab": {
          "base_uri": "https://localhost:8080/"
        },
        "id": "71IvQW_Akph2",
        "outputId": "a75422c6-02c5-444f-c8aa-234bd7457bfb"
      },
      "execution_count": 17,
      "outputs": [
        {
          "output_type": "stream",
          "name": "stdout",
          "text": [
            "spc_tbl_ [11,001 × 4] (S3: spec_tbl_df/tbl_df/tbl/data.frame)\n",
            " $ Title   : chr [1:11001] \"11:14\" \"21\" \"300\" \"2012\" ...\n",
            " $ Year    : num [1:11001] 2003 2008 2007 2009 1972 ...\n",
            " $ Director: chr [1:11001] \"Marcks, Greg \" \"Luketic, Robert \" \"Snyder, Zack \" \"Emmerich, Roland \" ...\n",
            " $ Country : chr [1:11001] \"USA \" NA \"USA \" \"USA \" ...\n",
            " - attr(*, \"spec\")=\n",
            "  .. cols(\n",
            "  ..   Title = col_character(),\n",
            "  ..   Year = col_number(),\n",
            "  ..   Director = col_character(),\n",
            "  ..   Country = col_character(),\n",
            "  ..   ASL = col_skip()\n",
            "  .. )\n",
            " - attr(*, \"problems\")=<externalptr> \n",
            "[1] 1386\n",
            "   Title     Year Director  Country \n",
            "       0        4       15     1367 \n"
          ]
        }
      ]
    },
    {
      "cell_type": "code",
      "source": [
        "%%R\n",
        "peliculas2 = peliculas[!is.na(peliculas$Director),]\n",
        "dim(peliculas2)\n",
        "list(`solo 1 director(a)` = sum(str_count(peliculas2$Director, \",\")<=1),\n",
        "     `2 directores(as)` = sum(str_count(peliculas2$Director, \",\")==2),\n",
        "     `3 o más directores(as)` = sum(str_count(peliculas2$Director, \",\")>2)) %>% cbind()"
      ],
      "metadata": {
        "colab": {
          "base_uri": "https://localhost:8080/"
        },
        "id": "SV5xM772nuPX",
        "outputId": "f0bb0c3c-a351-4687-a897-139457f3cd0b"
      },
      "execution_count": 18,
      "outputs": [
        {
          "output_type": "stream",
          "name": "stdout",
          "text": [
            "                       .    \n",
            "solo 1 director(a)     10777\n",
            "2 directores(as)       200  \n",
            "3 o más directores(as) 9    \n"
          ]
        }
      ]
    },
    {
      "cell_type": "code",
      "source": [
        "%%R\n",
        "print(paste(\"Número de películas que tienen nombres que incluyen números:\", sum(str_detect(peliculas$Title, pattern = \"[0-9]\"))))\n",
        "head(peliculas$Title[str_detect(peliculas$Title, pattern = \"[0-9]\")])"
      ],
      "metadata": {
        "colab": {
          "base_uri": "https://localhost:8080/"
        },
        "id": "T-v70OiH1_S1",
        "outputId": "8a61557e-3793-44fa-d218-96ba57250da8"
      },
      "execution_count": 19,
      "outputs": [
        {
          "output_type": "stream",
          "name": "stdout",
          "text": [
            "[1] \"Número de películas que tienen nombres que incluyen números: 351\"\n",
            "[1] \"11:14\"              \"21\"                 \"300\"               \n",
            "[4] \"2012\"               \"[Rec]3 G\\xe9nesis \" \"1 Day \"            \n"
          ]
        }
      ]
    },
    {
      "cell_type": "code",
      "source": [
        "%%R\n",
        "print(paste(\"Número de películas que tienen nombres que incluyen signos de puntuación:\", sum(str_detect(peliculas$Title, pattern = \"[:punct:]\"))))\n",
        "head(peliculas$Title[str_detect(peliculas$Title, pattern = \"[:punct:]\")])"
      ],
      "metadata": {
        "id": "6_Yp74ga3wAx",
        "colab": {
          "base_uri": "https://localhost:8080/"
        },
        "outputId": "a4dc95da-f334-49cd-b128-ff8b17622fe7"
      },
      "execution_count": 20,
      "outputs": [
        {
          "output_type": "stream",
          "name": "stdout",
          "text": [
            "[1] \"Número de películas que tienen nombres que incluyen signos de puntuación: 4141\"\n",
            "[1] \"11:14\"                    \"*Batteries Not Included \"\n",
            "[3] \"[Rec]3 G\\xe9nesis \"       \"10,000 BC \"              \n",
            "[5] \"10th. & Wolf \"            \"13th. Warrior, The \"     \n"
          ]
        }
      ]
    },
    {
      "cell_type": "code",
      "source": [
        "# Cree un conjunto de datos con las películas que tienen solo 1 director(a). \n",
        "# Use la variable Director para crear una variable llamada Director2 teniendo en cuenta los siguientes parámetros: \n",
        "# (a) Deben aparecer los nombre(s) y luego los apellido(s) del(de la) director(a) de la película separados por espacios sencillos y sin espacios al inicio ni al final; \n",
        "# (b) Las iniciales de cada nombre y de cada apellido deben estar en letras mayúsculas.\n",
        "%%R\n",
        "peliculas2 = peliculas2[str_count(peliculas2$Director, \",\")<=1,]\n",
        "peliculas2 = within(peliculas2, {\n",
        "    Director2 <- str_to_title(str_squish(Director))})\n",
        "tail(peliculas2$Director2, n = 10)"
      ],
      "metadata": {
        "colab": {
          "base_uri": "https://localhost:8080/"
        },
        "id": "cllzbzPm1vvP",
        "outputId": "91ed210e-61cb-469c-df58-0c74ba43d3e1"
      },
      "execution_count": 21,
      "outputs": [
        {
          "output_type": "stream",
          "name": "stdout",
          "text": [
            " [1] \"Coraci, Frank\"       \"Stiller, Ben\"        \"Hewitt, Peter\"      \n",
            " [4] \"Medak, Peter\"        \"Benegal, Shyam\"      \"Endfield, Cy\"       \n",
            " [7] \"Hickcox, Douglas\"    \"Gerlach, Arthur Von\" \"Verhoeven, Paul\"    \n",
            "[10] \"Mack. Max\"          \n"
          ]
        }
      ]
    },
    {
      "cell_type": "code",
      "source": [
        "%%R \n",
        "peliculas2[str_detect(peliculas2$Director, \"(^Bigelow).+(Kathryn)\"),]"
      ],
      "metadata": {
        "colab": {
          "base_uri": "https://localhost:8080/"
        },
        "id": "bZesi9eQ99bx",
        "outputId": "175b0284-f76a-4ef8-fc36-a4edf43108db"
      },
      "execution_count": 22,
      "outputs": [
        {
          "output_type": "stream",
          "name": "stdout",
          "text": [
            "# A tibble: 6 × 5\n",
            "  Title                    Year Director            Country Director2       \n",
            "  <chr>                   <dbl> <chr>               <chr>   <chr>           \n",
            "1 \"Hurt Locker, The \"      2008 \"Bigelow, Kathryn \" \"USA \"  Bigelow, Kathryn\n",
            "2 \"K-19: The Widowmaker \"  2002 \"Bigelow, Kathryn \" \"USA \"  Bigelow, Kathryn\n",
            "3 \"Near Dark \"             1987 \"Bigelow, Kathryn \" \"USA \"  Bigelow, Kathryn\n",
            "4 \"Point Break \"           1991 \"Bigelow, Kathryn \" \"USA \"  Bigelow, Kathryn\n",
            "5 \"Strange Days \"          1995 \"Bigelow, Kathryn \" \"USA \"  Bigelow, Kathryn\n",
            "6 \"Weight of Water, The \"  2000 \"Bigelow, Kathryn \"  <NA>   Bigelow, Kathryn\n"
          ]
        }
      ]
    },
    {
      "cell_type": "code",
      "source": [
        "# Cuantas y cuales películas fueron dirigidas por Martin Scorsese?\n",
        "%%R\n",
        "peliculas2[str_detect(peliculas2$Director, \"(^Scorsese).+(Martin)\"),]"
      ],
      "metadata": {
        "colab": {
          "base_uri": "https://localhost:8080/"
        },
        "id": "YB9TlQJk15rW",
        "outputId": "007cead4-c81a-47ce-cce4-389aad5764aa"
      },
      "execution_count": 23,
      "outputs": [
        {
          "output_type": "stream",
          "name": "stdout",
          "text": [
            "# A tibble: 19 × 5\n",
            "   Title                               Year Director            Country Direct…¹\n",
            "   <chr>                              <dbl> <chr>               <chr>   <chr>   \n",
            " 1 \"After Hours \"                      1985 \"Scorsese, Martin \" \"USA \"  Scorses…\n",
            " 2 \"Age of Innocence, The \"            1993 \"Scorsese, Martin \" \"USA \"  Scorses…\n",
            " 3 \"Aviator, The \"                     2004 \"Scorsese, Martin \"  <NA>   Scorses…\n",
            " 4 \"Bringing Out the Dead \"            1999 \"Scorsese, Martin \" \"USA \"  Scorses…\n",
            " 5 \"Cape Fear \"                        1991 \"Scorsese, Martin \" \"USA \"  Scorses…\n",
            " 6 \"Casino \"                           1995 \"Scorsese, Martin \" \"USA \"  Scorses…\n",
            " 7 \"Color of Money, The \"              1986 \"Scorsese, Martin \" \"USA \"  Scorses…\n",
            " 8 \"Departed, The \"                    2006 \"Scorsese, Martin \" \"USA \"  Scorses…\n",
            " 9 \"Gangs of New York \"                2002 \"Scorsese, Martin \" \"USA \"  Scorses…\n",
            "10 \"GoodFellas \"                       1990 \"Scorsese, Martin \" \"USA \"  Scorses…\n",
            "11 \"King of Comedy, The \"              1983 \"Scorsese, Martin \" \"USA \"  Scorses…\n",
            "12 \"Kundun \"                           1997 \"Scorsese, Martin \" \"USA \"  Scorses…\n",
            "13 \"Mean Streets \"                     1973 \"Scorsese, Martin \" \"USA \"  Scorses…\n",
            "14 \"Mean Streets \"                     1973 \"Scorsese, Martin \" \"USA \"  Scorses…\n",
            "15 \"New York Stories: Life Lessons \"   1989 \"Scorsese, Martin \" \"USA \"  Scorses…\n",
            "16 \"New York, New York \"               1978 \"Scorsese, Martin \" \"USA \"  Scorses…\n",
            "17 \"Raging Bull \"                      1980 \"Scorsese, Martin \" \"USA \"  Scorses…\n",
            "18 \"Taxi Driver \"                      1976 \"Scorsese, Martin \" \"USA \"  Scorses…\n",
            "19 \"Who's That Knocking At My Door? \"  1968 \"Scorsese, Martin \" \"USA \"  Scorses…\n",
            "# … with abbreviated variable name ¹​Director2\n"
          ]
        }
      ]
    },
    {
      "cell_type": "code",
      "source": [
        "%%R\n",
        "#sort(unique(peliculas$Country))\n",
        "peliculas[!is.na(peliculas$Country) & str_detect(peliculas$Country, \"ARG\"),] # 16 peliculas argentinas"
      ],
      "metadata": {
        "colab": {
          "base_uri": "https://localhost:8080/"
        },
        "id": "vdhUaqDk18D1",
        "outputId": "08f8f202-393c-471f-b2b8-0c563f24563f"
      },
      "execution_count": 24,
      "outputs": [
        {
          "output_type": "stream",
          "name": "stdout",
          "text": [
            "# A tibble: 16 × 4\n",
            "   Title                                  Year Director                  Country\n",
            "   <chr>                                 <dbl> <chr>                     <chr>  \n",
            " 1 \"Antena, la \"                          2007 \"Urdapilleta, Alejandro \" \"ARG \" \n",
            " 2 \"Aura, El \"                            2005 \"Bielinsky, Fabian \"      \"ARG \" \n",
            " 3 \"Bonaerense, el \"                      2002 \"Trapero, Pablo \"         \"ARG \" \n",
            " 4 \"Ci\\xe9naga, la \"                      2001 \"Martel, Lucrecia \"       \"ARG \" \n",
            " 5 \"Dia de suerte, un \"                   2002 \"Gugliotta, Sandra \"      \"ARG \" \n",
            " 6 \"Glue \"                                2006 \"Dos Santos, Alexis \"     \"ARG \" \n",
            " 7 \"Historias minimas \"                   2002 \"Sorin, Carlos \"          \"ARG \" \n",
            " 8 \"I, the Worst of All \"                 1990 \"Bemberg, Maria Luisa \"   \"ARG \" \n",
            " 9 \"Lady From the Shanghai Cinema, The \"  1987 \"Prado, Guilherme De Alm… \"ARG \" \n",
            "10 \"Lucky Day, A \"                        2002 \"Gugliotta, Sandra \"      \"ARG \" \n",
            "11 \"Nueve reinas \"                        2000 \"Bielinsky, Fabian \"      \"ARG \" \n",
            "12 \"Perro, el \"                           2004 \"Sorin, Carlos \"          \"ARG \" \n",
            "13 \"Prisioneros de la tierra \"            1939 \"Soffici, Mario \"         \"ARG \" \n",
            "14 \"Sangre de virgenes \"                  1967 \"Vieyra, Emilio \"         \"ARG \" \n",
            "15 \"Venganza del sexo, la \"               1967 \"Vieyra, Emilio \"         \"ARG \" \n",
            "16 \"Viaje, el \"                           1992 \"Solanas, Fernando \"      \"ARG \" \n"
          ]
        }
      ]
    },
    {
      "cell_type": "code",
      "source": [
        "%%R\n",
        "peliculas[!is.na(peliculas$Country) & str_detect(peliculas$Country, \"MEX\"),] # 20 peliculas mexicanas"
      ],
      "metadata": {
        "colab": {
          "base_uri": "https://localhost:8080/"
        },
        "id": "KIcwcSwA1-EU",
        "outputId": "867cfefc-611f-43d3-cd6b-089781f56b91"
      },
      "execution_count": 25,
      "outputs": [
        {
          "output_type": "stream",
          "name": "stdout",
          "text": [
            "# A tibble: 20 × 4\n",
            "   Title                      Year Director                  Country\n",
            "   <chr>                     <dbl> <chr>                     <chr>  \n",
            " 1 \"Alamar \"                  2009 \"Gonzalez-Rubio, Pedro \"  \"MEX \" \n",
            " 2 \"Alucarda \"                1975 \"Moctezuma, Juan Lopez \"  \"MEX \" \n",
            " 3 \"Amores Perros \"           2000 \"Inarittu, Alejandro G. \" \"MEX \" \n",
            " 4 \"Angel externinador, el \"  1962 \"Bu?uel, Luis \"           \"MEX \" \n",
            " 5 \"Come agua por chocolat \"  1993 \"Arau, Alfonso \"          \"MEX \" \n",
            " 6 \"Cronos \"                  1992 \"Del Toro, Guillermo \"    \"MEX \" \n",
            " 7 \"Danzon \"                  1991 \"Novaro, Maria \"          \"MEX \" \n",
            " 8 \"D\\xe9ficit \"              2007 \"Bernal, Gail Garcia \"    \"MEX \" \n",
            " 9 \"Duck Season \"             2004 \"Eimbcke, Fernando \"      \"MEX \" \n",
            "10 \"El \"                      1953 \"Bu?uel, Luis \"           \"MEX \" \n",
            "11 \"KM 31: Kilometro 31 \"     2005 \"Casta?eda, Rigoberto \"   \"MEX \" \n",
            "12 \"Latino Bar \"              1991 \"Leduc, Paul \"            \"MEX \" \n",
            "13 \"Littlest Outlaw, The \"    1955 \"Gavaldon, Roberto \"      \"MEX \" \n",
            "14 \"Perfume de violetas \"     2001 \"Sistach, Maryse \"        \"MEX \" \n",
            "15 \"Profundo carmesi \"        1996 \"Ripstein, Arturo \"       \"MEX \" \n",
            "16 \"Simon del desertio \"      1965 \"Bu?uel, Luis \"           \"MEX \" \n",
            "17 \"Somos lo que hay \"        2009 \"Grau, Jorge Michel \"     \"MEX \" \n",
            "18 \"Til Death, ' \"            1993 \"Sarinana, Fernando \"     \"MEX \" \n",
            "19 \"Topo, el \"                1971 \"Jodorowsky, Alexander \"  \"MEX \" \n",
            "20 \"Y tu mama tambien \"       2001 \"Cuaron, Alfonso \"        \"MEX \" \n"
          ]
        }
      ]
    },
    {
      "cell_type": "markdown",
      "source": [
        "### Exportaciones"
      ],
      "metadata": {
        "id": "bBREOvdeky2f"
      }
    },
    {
      "cell_type": "code",
      "source": [
        "%%R\n",
        "#install.packages(\"sqldf\")\n",
        "library(sqldf)\n",
        "library(dplyr)"
      ],
      "metadata": {
        "colab": {
          "base_uri": "https://localhost:8080/"
        },
        "id": "o6wh-V1hHrDK",
        "outputId": "92cafcb5-b707-4b62-c09e-0c3ea2963635"
      },
      "execution_count": 26,
      "outputs": [
        {
          "output_type": "stream",
          "name": "stderr",
          "text": [
            "WARNING:rpy2.rinterface_lib.callbacks:R[write to console]: Loading required package: gsubfn\n",
            "\n",
            "WARNING:rpy2.rinterface_lib.callbacks:R[write to console]: Loading required package: proto\n",
            "\n",
            "WARNING:rpy2.rinterface_lib.callbacks:R[write to console]: Loading required package: RSQLite\n",
            "\n",
            "WARNING:rpy2.rinterface_lib.callbacks:R[write to console]: \n",
            "Attaching package: ‘dplyr’\n",
            "\n",
            "\n",
            "WARNING:rpy2.rinterface_lib.callbacks:R[write to console]: The following objects are masked from ‘package:stats’:\n",
            "\n",
            "    filter, lag\n",
            "\n",
            "\n",
            "WARNING:rpy2.rinterface_lib.callbacks:R[write to console]: The following objects are masked from ‘package:base’:\n",
            "\n",
            "    intersect, setdiff, setequal, union\n",
            "\n",
            "\n"
          ]
        }
      ]
    },
    {
      "cell_type": "code",
      "source": [
        "%%R\n",
        "exportaciones = read_excel(\"exportaciones.xlsx\")\n",
        "str(exportaciones)"
      ],
      "metadata": {
        "id": "_b-mCO3-k5WP",
        "colab": {
          "base_uri": "https://localhost:8080/"
        },
        "outputId": "e942b398-2416-447a-a3ce-190f048d53ec"
      },
      "execution_count": 27,
      "outputs": [
        {
          "output_type": "stream",
          "name": "stdout",
          "text": [
            "tibble [5,704 × 8] (S3: tbl_df/tbl/data.frame)\n",
            " $ Ano         : num [1:5704] 2018 2018 2018 2018 2018 ...\n",
            " $ Mes         : num [1:5704] 1 1 1 1 1 1 1 1 1 1 ...\n",
            " $ Departamento: chr [1:5704] \"Antioquia\" \"Antioquia\" \"Antioquia\" \"Antioquia\" ...\n",
            " $ Dep         : num [1:5704] 5 5 5 5 5 5 5 5 5 5 ...\n",
            " $ Producto    : chr [1:5704] \"Flores\" \"Flores\" \"Flores\" \"Flores\" ...\n",
            " $ Partida     : num [1:5704] 6.03e+08 6.03e+08 6.03e+08 6.03e+08 6.03e+08 ...\n",
            " $ Valor       : num [1:5704] 54 3 2 2 10208 ...\n",
            " $ Volumen     : num [1:5704] 10 0 0 0 3046 ...\n"
          ]
        }
      ]
    },
    {
      "cell_type": "code",
      "source": [
        "%%R\n",
        "source(\"mismacros.txt\")"
      ],
      "metadata": {
        "id": "dMfU6pprLWOE"
      },
      "execution_count": 28,
      "outputs": []
    },
    {
      "cell_type": "code",
      "source": [
        "%%R\n",
        "mytable"
      ],
      "metadata": {
        "colab": {
          "base_uri": "https://localhost:8080/"
        },
        "id": "r2ayQJJQLYjN",
        "outputId": "da36d535-e7ee-4b47-f36c-fa03adf5948d"
      },
      "execution_count": 29,
      "outputs": [
        {
          "output_type": "stream",
          "name": "stdout",
          "text": [
            "function(formula,data,subset,cum=TRUE,ord=c(\"levels\",\"-levels\",\"freq\",\"-freq\"),na.action,\n",
            "                    percent=TRUE,rowperc=TRUE,colperc=TRUE,digits=2){\n",
            "\t\t\t ord <- match.arg(ord)\n",
            "\t\t\t if (missingArg(data)) data <- environment(formula)\n",
            "\t\t\t x <- match.call(expand.dots = FALSE)\n",
            "\t         m <- match(c(\"formula\",\"data\",\"subset\",\"na.action\"),names(x),0L)\n",
            "\t         x <- x[c(1L,m)]\n",
            "\t         x[[1L]] <- quote(stats::model.frame)\n",
            "\t         x <- eval(x,parent.frame())\n",
            "\t\t\t if(length(formula) < 3) x <- cbind(1,x)\n",
            "\t\t\t if(ncol(x)==2){\n",
            "\t\t\t\t x <- as.data.frame(x)\n",
            "\t\t\t\t salida <- colnames(x)\n",
            "\t\t\t\t colnames(x) <- c(\"weight\",\"cat\")\n",
            "\t\t\t\t options(dplyr.summarise.inform = FALSE)\n",
            "\t\t\t\t a <- x %>% filter(!is.na(weight)) %>% group_by(cat) %>% summarise(count=sum(weight)) %>%\n",
            "\t\t\t\t      as.data.frame()\n",
            "\t\t\t\t if(ord==\"levels\") ids <- order(a[,1]); if(ord==\"-levels\") ids <- order(a[,1],decreasing=TRUE)\n",
            "\t\t\t\t if(ord==\"freq\") ids <- order(a[,2],decreasing=TRUE); if(ord==\"-freq\") ids <- order(a[,2])\n",
            "\t\t\t\t b <- data.frame(a[ids,]);c <- b\n",
            "\t\t\t\t if(any(is.na(b[,1]))){ c[-nrow(b),] <- b[!is.na(b[,1]),]; c[ nrow(b),] <- b[ is.na(b[,1]),]}\n",
            "\t\t\t\t d <- cbind(c[,2],100*c[,2]/sum(c[,2]),cumsum(c[,2]),100*cumsum(c[,2])/sum(c[,2]))\n",
            "\t\t\t\t colnames(d) <- c(\"Frequency\",\"Percent(%)\",\"Cumulative Frequency\",\"Cumulative Percent(%)\")\n",
            "\t\t\t\t d <- rbind(d[1,],d,d[1,])\n",
            "\t \t\t\t rownames(d) <- c(\" \",as.character(c[,1]),\" \")\n",
            "\t\t\t\t d[c(1,nrow(d)),] <- NA\n",
            "\t\t\t\t rownames(d) <- ifelse(is.na(rownames(d)),\"NA\",rownames(d))\n",
            "\t\t\t\t rownames(d) <- paste(rownames(d),apply(as.matrix(max(nchar(rownames(d))) - nchar(rownames(d))),1,function(x) paste(rep(\" \",x),collapse=\"\")),\"|\")\n",
            "\t\t\t\t cat(\"\\ntable  : \",salida[2])\n",
            "\t\t\t\t cat(\"\\nweights:\",ifelse(salida[1]==\"rep(1, nrow(x))\",\" 1\",salida[1]))\n",
            "\t\t\t\t cat(\"\\n\")\n",
            "\t\t\t\t if(cum){\n",
            "\t\t\t\t   if(percent) printCoefmat(d,tst.ind=c(2,4),dig.tst=digits,cs.ind=c(1,3),na.print=\"----------------------\")\n",
            "\t\t\t\t   else printCoefmat(d[,-2],tst.ind=c(3),dig.tst=digits,cs.ind=c(1,2),na.print=\"----------------------\")\n",
            "\t\t\t\t }  \n",
            "\t\t\t\t else{\n",
            "\t\t\t\t   if(percent) printCoefmat(d[,c(1,2)],tst.ind=c(2),dig.tst=digits,cs.ind=c(1),na.print=\"----------------------\")\n",
            "\t\t\t\t   else{\n",
            "\t\t\t\t     dd <- as.matrix(d[,1])\n",
            "\t\t\t\t\t colnames(dd) <- \"Frequency\"\n",
            "\t\t\t\t     printCoefmat(dd,dig.tst=digits,na.print=\"----------------------\")\n",
            "\t\t\t\t   }\t \n",
            "\t\t\t\t }  \n",
            "\t\t\t\t d <- d[!is.na(d[,1]),]\n",
            "\t\t\t\t rownames(d) <- gsub(\"|\",\"\",rownames(d),fixed=TRUE)\n",
            "\t\t\t\t return(invisible(as.data.frame(d)))\n",
            "\t\t\t }else{\n",
            "\t\t\t\t x <- as.data.frame(x[,1:3])\n",
            "\t\t\t\t salida <- colnames(x)\n",
            "\t\t\t\t colnames(x) <- c(\"weight\",\"cat1\",\"cat2\")\n",
            "\t\t\t\t options(dplyr.summarise.inform = FALSE)\n",
            "\t\t\t\t pre1 <- x %>% group_by(cat1) %>% summarise(count=sum(weight)) %>% arrange(desc(count)) %>%\n",
            "\t\t\t\t           select(cat1) %>% as.data.frame()\n",
            "\t\t\t\t pre1$id1 <- 1:nrow(pre1);pre1$vc <- 1\t\t   \n",
            "\t\t\t\t pre2 <- x %>% group_by(cat2) %>% summarise(count=sum(weight)) %>% arrange(desc(count)) %>%\n",
            "\t\t\t\t           select(cat2) %>% as.data.frame()\n",
            "\t\t\t\t pre2$id2 <- 1:nrow(pre2);pre2$vc <- 1\t\t   \n",
            "\t\t\t\t nano <- x %>% group_by(cat1,cat2) %>% summarise(count=sum(weight)) %>% as.data.frame()\n",
            "\t\t\t\t todos <- inner_join(pre1,pre2,by=c(\"vc\"=\"vc\"),multiple=\"all\")\n",
            "\t\t\t\t nano <-  nano %>% right_join(todos,by=c(\"cat1\"=\"cat1\",\"cat2\"=\"cat2\")) %>%\n",
            "\t\t\t\t          mutate(count=ifelse(is.na(count),0,count)) %>% select(everything(nano)) %>% as.data.frame()\n",
            "\t\t\t\t if(ord==\"-levels\") nano <- nano %>% arrange(desc(cat2)) %>% as.data.frame()\n",
            "\t\t\t\t if(ord==\"freq\") nano <- nano %>% inner_join(pre2,by=c(\"cat2\"=\"cat2\"),multiple=\"all\") %>% arrange(id2) %>%\n",
            "\t\t\t\t                         select(everything(nano)) %>% as.data.frame()\n",
            "\t\t\t\t if(ord==\"-freq\") nano <- nano %>% inner_join(pre2,by=c(\"cat2\"=\"cat2\"),multiple=\"all\") %>% arrange(desc(id2)) %>%\n",
            "\t\t\t\t                         select(everything(nano)) %>% as.data.frame()\n",
            "\t\t\t\t nano2 <- reshape(nano, v.names = \"count\", idvar = \"cat1\",\n",
            "\t                      timevar = \"cat2\", direction = \"wide\")\n",
            "\t\t\t\t nano2[,1] <- as.character(nano2[,1])\n",
            "\t\t\t\t a <- cbind(nm=1,nm2=nano2[,1],nano2[,-1])\t\t\t\t \n",
            "\t\t\t\t b <- cbind(nm=2,nm2=nano2[,1],100*nano2[,-1]/sum(nano2[-1]))\n",
            "\t\t\t\t c <- cbind(nm=3,nm2=nano2[,1],100*nano2[,-1]/apply(nano2[-1],1,sum))\n",
            "\t\t\t\t d <- cbind(nm=4,nm2=nano2[,1],100*nano2[,-1]/matrix(apply(nano2[-1],2,sum),nrow(nano2[,-1]),ncol(nano2[,-1]),byrow=TRUE))\n",
            "\t\t\t\t e <- cbind(nm=5,nm2=nano2[,1],nano2[,-1])\n",
            "\t\t\t\t f <- rbind(a,b,c,d,e)\n",
            "\t\t\t\t h <- f %>% mutate(nm2=rep(\"_Total_\",nrow(f))) %>% group_by(nm2,nm) %>% summarise_all(list(sum)) %>%\n",
            "\t\t\t\t           filter(nm != 0) %>% as.data.frame()\n",
            "\t\t\t\t f <- f %>% arrange(nm2,nm) %>% as.data.frame()\n",
            "\t\t\t\t f <- rbind(f,h)\n",
            "\t\t\t\t if(ord==\"-levels\") f <- f %>% arrange(desc(nm2),nm) %>% as.data.frame()\n",
            "\t\t\t\t if(ord==\"freq\") f <- f %>% left_join(pre1,by=c(\"nm2\"=\"cat1\")) %>% arrange(id1) %>%\n",
            "\t\t\t\t                      select(everything(f)) %>% as.data.frame()\n",
            "\t\t\t\t if(ord==\"-freq\") f <- f %>% left_join(pre1,by=c(\"nm2\"=\"cat1\")) %>% arrange(desc(id1)) %>%\n",
            "\t\t\t\t                       select(everything(f)) %>%\tas.data.frame()\n",
            "\t\t\t\t f <- rbind(e2 <- cbind(nm=0,nm2=nano2[1,1],nano2[1,-1]),f)\n",
            "\t\t\t\t f <- cbind(f,apply(f[,-c(1,2)],1,sum))\n",
            "\t\t\t\t colnames(f)[ncol(f)] <- \"_Total_\"\n",
            "\t\t\t\t f[,\"_Total_\"] <- ifelse(f[,\"nm\"]==3 | f[,\"nm\"]==4,NA,f[,\"_Total_\"])\n",
            "\t\t\t\t g <- as.matrix(f[,-c(1,2)])\n",
            "\t\t\t\t g[f[,1]==5 | f[,1]==0,] <- NA\n",
            "\t\t\t\t g[(f[,1]==3 | f[,1]==4) & f[,2]==\"_Total_\",] <- NA\n",
            "\t\t\t\t rownames(g) <- ifelse(f[,1]==1,f[,2],\" \")\n",
            "\t\t\t\t if(!percent){ g <- g[f[,1]!=2,]; f <- f[f[,1]!=2,]}\n",
            "\t\t\t\t if(!rowperc){ g <- g[f[,1]!=3,]; f <- f[f[,1]!=3,]}\n",
            "\t\t\t\t if(!colperc){ g <- g[f[,1]!=4,]; f <- f[f[,1]!=4,]}\n",
            "\t\t\t\t g <- g[-nrow(g),]\n",
            "\t\t\t\t ajust <- apply(as.matrix(max(nchar(rownames(g))) - nchar(rownames(g))),1,function(x) paste(c(rep(\" \",x),\"|\"),collapse=\"\"))\n",
            "\t\t\t\t rownames(g) <- paste(rownames(g),ajust)\n",
            "\t\t\t\t colnames(g) <- gsub(\"count.\",\"\",colnames(g))\n",
            "\t\t\t\t cat(\"\\nrows   :\",salida[2])\n",
            "\t\t\t\t cat(\"\\ncolumns:\",salida[3])\n",
            "\t\t\t\t cat(\"\\nweights:\",ifelse(salida[1]==\"rep(1, nrow(x))\",\"1\",salida[1]))\n",
            "\t\t\t\t cat(\"\\n\\n ----------- \")\n",
            "\t\t\t\t cat(\"\\n|Frequency  |\")\n",
            "\t\t\t\t if(percent) cat(\"\\n|Percent    |\")\n",
            "\t\t\t\t if(rowperc) cat(\"\\n|Row Percent|\")\n",
            "\t\t\t\t if(colperc) cat(\"\\n|Col Percent|\")\n",
            "\t\t\t\t cat(\"\\n ----------- \")\n",
            "\t\t\t\t cat(\"\\n\\n\")\n",
            "\t\t\t\t printCoefmat(g,tst.ind=c(1:ncol(g)),dig.tst=digits,na.print=paste(rep(\"-\",max(nchar(colnames(g)))),collapse=\"\"))\n",
            "\t\t\t\t f <- f[f$nm != 0 & f$nm != 5 & f$nm2 != \"_Total_\",-c(1,ncol(f))]\n",
            "\t\t\t\t colnames(f) <- gsub(\"count.\",\"\",colnames(f))\n",
            "\t\t\t\t colnames(f)[1] <- salida[2]\n",
            "\t\t\t\t row.names(f) <- NULL\n",
            "\t\t\t\t return(invisible(as.data.frame(f)))\n",
            "\t\t\t }\n",
            "}\n"
          ]
        }
      ]
    },
    {
      "cell_type": "code",
      "source": [
        "%%R\n",
        "#sqldf(\"select sum(Volumen) as tot_vol\n",
        "#       from exportaciones\n",
        "#       where Ano = 2018 and Producto = 'Café'\n",
        "#       \") \n",
        "\n",
        "sqldf(\" select sum(Volumen)/722527*100 as tot_vol\n",
        "        from exportaciones\n",
        "        where Ano = 2018 and Producto = 'Café'\n",
        "        group by Mes\n",
        "        having Mes=8\n",
        "      \")                "
      ],
      "metadata": {
        "colab": {
          "base_uri": "https://localhost:8080/"
        },
        "id": "5SNffbRpMsVN",
        "outputId": "a2e137bf-9886-4403-aaa6-e8265fadd2dd"
      },
      "execution_count": 30,
      "outputs": [
        {
          "output_type": "stream",
          "name": "stdout",
          "text": [
            "   tot_vol\n",
            "1 9.251973\n"
          ]
        }
      ]
    },
    {
      "cell_type": "code",
      "source": [
        "# Qué porcentaje del volumen de las exportaciones de café en 2018 se hicieron durante el mes de agosto?\n",
        "## 9.25%\n",
        "%%R\n",
        "mytable(Volumen ~ Mes,data=exportaciones,subset=c(Producto==\"Café\" & Ano==2018),ord=\"levels\", cum=FALSE)[8,] "
      ],
      "metadata": {
        "colab": {
          "base_uri": "https://localhost:8080/"
        },
        "id": "-f2g-oRmF5v9",
        "outputId": "37c3a412-7c80-4d94-ca1c-72379dae8bc2"
      },
      "execution_count": 31,
      "outputs": [
        {
          "output_type": "stream",
          "name": "stdout",
          "text": [
            "\n",
            "table  :  Mes\n",
            "weights: Volumen\n",
            "                   Frequency             Percent(%)\n",
            "    | ---------------------- ----------------------\n",
            "1   |                  75227                  10.41\n",
            "2   |                  55774                   7.72\n",
            "3   |                  61216                   8.47\n",
            "4   |                  62383                   8.63\n",
            "5   |                  58331                   8.07\n",
            "6   |                  44890                   6.21\n",
            "7   |                  50838                   7.04\n",
            "8   |                  66848                   9.25\n",
            "9   |                  57193                   7.92\n",
            "10  |                  62058                   8.59\n",
            "11  |                  60223                   8.34\n",
            "12  |                  67546                   9.35\n",
            "    | ---------------------- ----------------------\n",
            "     Frequency Percent(%) Cumulative Frequency Cumulative Percent(%)\n",
            "8        66848   9.251973               475507              65.81166\n"
          ]
        }
      ]
    },
    {
      "cell_type": "code",
      "source": [
        "# Qué porcentaje del volumen de las exportaciones de café en 2018 se hicieron durante el primer trimestre del año?\n",
        "## 26.60%\n",
        "%%R\n",
        "sum(mytable(Volumen ~ Mes,data=exportaciones,subset=c(Producto==\"Café\" & Ano==2018),ord=\"levels\", cum=FALSE)[1:3,2])"
      ],
      "metadata": {
        "colab": {
          "base_uri": "https://localhost:8080/"
        },
        "id": "YVc3JU1FGAhY",
        "outputId": "d4f82853-d3a1-49e5-b928-2cfa50397ac3"
      },
      "execution_count": 32,
      "outputs": [
        {
          "output_type": "stream",
          "name": "stdout",
          "text": [
            "\n",
            "table  :  Mes\n",
            "weights: Volumen\n",
            "                   Frequency             Percent(%)\n",
            "    | ---------------------- ----------------------\n",
            "1   |                  75227                  10.41\n",
            "2   |                  55774                   7.72\n",
            "3   |                  61216                   8.47\n",
            "4   |                  62383                   8.63\n",
            "5   |                  58331                   8.07\n",
            "6   |                  44890                   6.21\n",
            "7   |                  50838                   7.04\n",
            "8   |                  66848                   9.25\n",
            "9   |                  57193                   7.92\n",
            "10  |                  62058                   8.59\n",
            "11  |                  60223                   8.34\n",
            "12  |                  67546                   9.35\n",
            "    | ---------------------- ----------------------\n",
            "[1] 26.60343\n"
          ]
        }
      ]
    },
    {
      "cell_type": "code",
      "source": [
        "%%R\n",
        "sqldf(\" select sum(Volumen)/722527*100 as tot_vol\n",
        "        from exportaciones\n",
        "        where Ano = 2018 and Producto = 'Café'\n",
        "        group by Mes\n",
        "        having Mes in (1,2,3)\n",
        "      \")   "
      ],
      "metadata": {
        "colab": {
          "base_uri": "https://localhost:8080/"
        },
        "id": "w4G9Pdb6UBye",
        "outputId": "522e936d-3d93-44f4-c73d-ed5924a887e8"
      },
      "execution_count": 33,
      "outputs": [
        {
          "output_type": "stream",
          "name": "stdout",
          "text": [
            "    tot_vol\n",
            "1 10.411652\n",
            "2  7.719296\n",
            "3  8.472486\n"
          ]
        }
      ]
    },
    {
      "cell_type": "code",
      "source": [
        "# Qué porcentaje del valor de las exportaciones de café en 2018 se hicieron durante el mes de septiembre?\n",
        "## 7.63%\n",
        "%%R\n",
        "mytable(Valor ~ Mes,data=exportaciones,subset=c(Producto==\"Café\" & Ano==2018),ord=\"levels\", cum=FALSE)[9,]"
      ],
      "metadata": {
        "colab": {
          "base_uri": "https://localhost:8080/"
        },
        "id": "bh_J42T3GCJg",
        "outputId": "bce934fb-dcbc-4b93-fb24-7ff14d31818f"
      },
      "execution_count": 34,
      "outputs": [
        {
          "output_type": "stream",
          "name": "stdout",
          "text": [
            "\n",
            "table  :  Mes\n",
            "weights: Valor\n",
            "                   Frequency             Percent(%)\n",
            "    | ---------------------- ----------------------\n",
            "1   |                 253385                  10.85\n",
            "2   |                 185827                   7.96\n",
            "3   |                 200611                   8.59\n",
            "4   |                 204571                   8.76\n",
            "5   |                 189574                   8.12\n",
            "6   |                 146480                   6.27\n",
            "7   |                 164939                   7.06\n",
            "8   |                 212719                   9.11\n",
            "9   |                 178285                   7.63\n",
            "10  |                 193985                   8.31\n",
            "11  |                 190020                   8.14\n",
            "12  |                 215021                   9.21\n",
            "    | ---------------------- ----------------------\n",
            "     Frequency Percent(%) Cumulative Frequency Cumulative Percent(%)\n",
            "9       178285   7.633969              1736391              74.35036\n"
          ]
        }
      ]
    },
    {
      "cell_type": "code",
      "source": [
        "# Qué porcentaje del valor de las exportaciones de café en 2018 se hicieron durante el cuarto trimestre del año?\n",
        "## 25.64%\n",
        "%%R\n",
        "sum(mytable(Valor ~ Mes,data=exportaciones,subset=c(Producto==\"Café\" & Ano==2018),ord=\"levels\", cum=FALSE)[10:12,2])"
      ],
      "metadata": {
        "colab": {
          "base_uri": "https://localhost:8080/"
        },
        "id": "7kxbVNqoGD55",
        "outputId": "6a16439f-ef33-493b-d7bb-6eb62b06c352"
      },
      "execution_count": 35,
      "outputs": [
        {
          "output_type": "stream",
          "name": "stdout",
          "text": [
            "\n",
            "table  :  Mes\n",
            "weights: Valor\n",
            "                   Frequency             Percent(%)\n",
            "    | ---------------------- ----------------------\n",
            "1   |                 253385                  10.85\n",
            "2   |                 185827                   7.96\n",
            "3   |                 200611                   8.59\n",
            "4   |                 204571                   8.76\n",
            "5   |                 189574                   8.12\n",
            "6   |                 146480                   6.27\n",
            "7   |                 164939                   7.06\n",
            "8   |                 212719                   9.11\n",
            "9   |                 178285                   7.63\n",
            "10  |                 193985                   8.31\n",
            "11  |                 190020                   8.14\n",
            "12  |                 215021                   9.21\n",
            "    | ---------------------- ----------------------\n",
            "[1] 25.64964\n"
          ]
        }
      ]
    },
    {
      "cell_type": "code",
      "source": [
        "# Qué porcentaje del volumen de las exportaciones de flores en Antioquia en 2019 se hicieron durante el primer trimestre del año?\n",
        "## 26.15%\n",
        "%%R\n",
        "sum(mytable(Volumen ~ Mes,data=exportaciones,subset=c(Producto==\"Flores\" & Ano==2019 & Departamento=='Antioquia'),ord=\"levels\", cum=FALSE)[1:3,2])"
      ],
      "metadata": {
        "colab": {
          "base_uri": "https://localhost:8080/"
        },
        "id": "ZShlVig-GFqT",
        "outputId": "21bb4b82-58e2-4449-c0d0-2b0b2aa8c193"
      },
      "execution_count": 36,
      "outputs": [
        {
          "output_type": "stream",
          "name": "stdout",
          "text": [
            "\n",
            "table  :  Mes\n",
            "weights: Volumen\n",
            "                   Frequency             Percent(%)\n",
            "    | ---------------------- ----------------------\n",
            "1   |                   6304                   9.31\n",
            "2   |                   6495                   9.59\n",
            "3   |                   4906                   7.25\n",
            "4   |                   4652                   6.87\n",
            "5   |                   7707                  11.39\n",
            "6   |                   5370                   7.93\n",
            "7   |                   5781                   8.54\n",
            "8   |                   5018                   7.41\n",
            "9   |                   5369                   7.93\n",
            "10  |                   5832                   8.62\n",
            "11  |                   5552                   8.20\n",
            "12  |                   4706                   6.95\n",
            "    | ---------------------- ----------------------\n",
            "[1] 26.15523\n"
          ]
        }
      ]
    },
    {
      "cell_type": "code",
      "source": [
        "# Qué porcentaje del volumen de las exportaciones de flores durante el primer trimestre del 2019 se hicieron desde Antioquia?\n",
        "## 27.32%\n",
        "%%R\n",
        "mytable(Volumen ~ Departamento,data=exportaciones,subset=c(Producto==\"Flores\" & Ano==2019 & Mes %in% 1:3),ord=\"levels\", cum=FALSE)[1,]"
      ],
      "metadata": {
        "colab": {
          "base_uri": "https://localhost:8080/"
        },
        "id": "7iVuUypfGIiw",
        "outputId": "08b51eb8-d60b-44c3-8421-2dcc9f62767f"
      },
      "execution_count": 37,
      "outputs": [
        {
          "output_type": "stream",
          "name": "stdout",
          "text": [
            "\n",
            "table  :  Departamento\n",
            "weights: Volumen\n",
            "                                Frequency             Percent(%)\n",
            "                 | ---------------------- ----------------------\n",
            "Antioquia        |                  17705                  27.32\n",
            "Atlántico        |                     90                   0.14\n",
            "Bogotá           |                  23737                  36.62\n",
            "Bolívar          |                    192                   0.30\n",
            "Boyacá           |                     10                   0.02\n",
            "Cundinamarca     |                  22918                  35.36\n",
            "Magdalena        |                     65                   0.10\n",
            "Risaralda        |                      2                   0.00\n",
            "Valle del Cauca  |                     93                   0.14\n",
            "                 | ---------------------- ----------------------\n",
            "                  Frequency Percent(%) Cumulative Frequency\n",
            "Antioquia             17705   27.31747                17705\n",
            "                  Cumulative Percent(%)\n",
            "Antioquia                      27.31747\n"
          ]
        }
      ]
    },
    {
      "cell_type": "code",
      "source": [
        "%%R\n",
        "sqldf(\" select Departamento, sum(Volumen) as tot_vol\n",
        "        from exportaciones\n",
        "        where Mes in (1,2,3) and Ano = 2019 and Producto = 'Flores'\n",
        "        group by Departamento\n",
        "      \")"
      ],
      "metadata": {
        "colab": {
          "base_uri": "https://localhost:8080/"
        },
        "id": "MLzZoCVIV6IZ",
        "outputId": "ab42291e-1356-4ee9-ac78-2ec6f5c688e5"
      },
      "execution_count": 38,
      "outputs": [
        {
          "output_type": "stream",
          "name": "stdout",
          "text": [
            "     Departamento tot_vol\n",
            "1       Antioquia   17705\n",
            "2       Atlántico      90\n",
            "3          Bogotá   23737\n",
            "4         Bolívar     192\n",
            "5          Boyacá      10\n",
            "6    Cundinamarca   22918\n",
            "7       Magdalena      65\n",
            "8       Risaralda       2\n",
            "9 Valle del Cauca      93\n"
          ]
        }
      ]
    },
    {
      "cell_type": "code",
      "source": [
        "# Qué porcentaje del valor de las exportaciones de flores en Antioquia en 2019 se hicieron durante el tercer trimestre del año?\n",
        "# 23.09%\n",
        "%%R\n",
        "sum(mytable(Valor ~ Mes,data=exportaciones,subset=c(Producto==\"Flores\" & Ano==2019 & Departamento=='Antioquia'),ord=\"levels\", cum=FALSE)[7:9,2])"
      ],
      "metadata": {
        "colab": {
          "base_uri": "https://localhost:8080/"
        },
        "id": "mWRER3tqGKQm",
        "outputId": "b3cb0505-d105-4485-9706-13ce39d1eb10"
      },
      "execution_count": 39,
      "outputs": [
        {
          "output_type": "stream",
          "name": "stdout",
          "text": [
            "\n",
            "table  :  Mes\n",
            "weights: Valor\n",
            "                   Frequency             Percent(%)\n",
            "    | ---------------------- ----------------------\n",
            "1   |                  24736                   9.16\n",
            "2   |                  26764                   9.91\n",
            "3   |                  19864                   7.36\n",
            "4   |                  19040                   7.05\n",
            "5   |                  32914                  12.19\n",
            "6   |                  22297                   8.26\n",
            "7   |                  22935                   8.49\n",
            "8   |                  19502                   7.22\n",
            "9   |                  19920                   7.38\n",
            "10  |                  22416                   8.30\n",
            "11  |                  21614                   8.00\n",
            "12  |                  18049                   6.68\n",
            "    | ---------------------- ----------------------\n",
            "[1] 23.09082\n"
          ]
        }
      ]
    },
    {
      "cell_type": "code",
      "source": [
        "# Qué porcentaje del valor de las exportaciones de flores durante el tercer trimestre del 2019 se hicieron desde Antioquia?\n",
        "## 19.12%\n",
        "%%R\n",
        "mytable(Valor ~ Departamento,data=exportaciones,subset=c(Producto==\"Flores\" & Ano==2019 & Mes %in% 7:9),ord=\"levels\", cum=FALSE)[1,]"
      ],
      "metadata": {
        "colab": {
          "base_uri": "https://localhost:8080/"
        },
        "id": "w6-f1j2sGLa1",
        "outputId": "0f8aaf1a-70c8-47dc-bd51-8985db4b985b"
      },
      "execution_count": 48,
      "outputs": [
        {
          "output_type": "stream",
          "name": "stdout",
          "text": [
            "\n",
            "table  :  Departamento\n",
            "weights: Valor\n",
            "                                Frequency             Percent(%)\n",
            "                 | ---------------------- ----------------------\n",
            "Antioquia        |                  62357                  19.13\n",
            "Atlántico        |                    522                   0.16\n",
            "Bogotá           |                 119054                  36.52\n",
            "Bolívar          |                    110                   0.03\n",
            "Boyacá           |                     90                   0.03\n",
            "Cundinamarca     |                 143275                  43.95\n",
            "Magdalena        |                    449                   0.14\n",
            "Risaralda        |                      7                   0.00\n",
            "Valle del Cauca  |                    161                   0.05\n",
            "                 | ---------------------- ----------------------\n",
            "                  Frequency Percent(%) Cumulative Frequency\n",
            "Antioquia             62357   19.12645                62357\n",
            "                  Cumulative Percent(%)\n",
            "Antioquia                      19.12645\n"
          ]
        }
      ]
    },
    {
      "cell_type": "markdown",
      "source": [
        "### Créditos"
      ],
      "metadata": {
        "id": "b3X4IZozkuK0"
      }
    },
    {
      "cell_type": "code",
      "source": [
        "%%R\n",
        "load(\"/content/drive/MyDrive/credit.rda\")\n",
        "str(credit)"
      ],
      "metadata": {
        "colab": {
          "base_uri": "https://localhost:8080/"
        },
        "id": "91L_LjHegEr7",
        "outputId": "e91d2a26-2611-44c2-d9a0-a28e342ebbe1"
      },
      "execution_count": 41,
      "outputs": [
        {
          "output_type": "stream",
          "name": "stdout",
          "text": [
            "'data.frame':\t1000 obs. of  21 variables:\n",
            " $ checking_status    : Factor w/ 4 levels \"A11\",\"A12\",\"A13\",..: 1 2 4 1 1 4 4 2 4 2 ...\n",
            " $ duration           : int  6 48 12 42 24 36 24 36 12 30 ...\n",
            " $ credit_history     : Factor w/ 5 levels \"A30\",\"A31\",\"A32\",..: 5 3 5 3 4 3 3 3 3 5 ...\n",
            " $ purpose            : Factor w/ 10 levels \"A40\",\"A41\",\"A410\",..: 5 5 8 4 1 8 4 2 5 1 ...\n",
            " $ credit_amount      : int  1169 5951 2096 7882 4870 9055 2835 6948 3059 5234 ...\n",
            " $ savings            : Factor w/ 5 levels \"A61\",\"A62\",\"A63\",..: 5 1 1 1 1 5 3 1 4 1 ...\n",
            " $ employment         : Factor w/ 5 levels \"A71\",\"A72\",\"A73\",..: 5 3 4 4 3 3 5 3 4 1 ...\n",
            " $ installment_rate   : int  4 2 2 2 3 2 3 2 2 4 ...\n",
            " $ personal_status    : Factor w/ 4 levels \"A91\",\"A92\",\"A93\",..: 3 2 3 3 3 3 3 3 1 4 ...\n",
            " $ other_parties      : Factor w/ 3 levels \"A101\",\"A102\",..: 1 1 1 3 1 1 1 1 1 1 ...\n",
            " $ residence_since    : int  4 2 3 4 4 4 4 2 4 2 ...\n",
            " $ property_magnitude : Factor w/ 4 levels \"A121\",\"A122\",..: 1 1 1 2 4 4 2 3 1 3 ...\n",
            " $ age                : int  67 22 49 45 53 35 53 35 61 28 ...\n",
            " $ other_payment_plans: Factor w/ 3 levels \"A141\",\"A142\",..: 3 3 3 3 3 3 3 3 3 3 ...\n",
            " $ housing            : Factor w/ 3 levels \"A151\",\"A152\",..: 2 2 2 3 3 3 2 1 2 2 ...\n",
            " $ existing_credits   : int  2 1 1 1 2 1 1 1 1 2 ...\n",
            " $ job                : Factor w/ 4 levels \"A171\",\"A172\",..: 3 3 2 3 3 2 3 4 2 4 ...\n",
            " $ num_dependents     : int  1 1 2 2 2 2 1 1 1 1 ...\n",
            " $ telephone          : Factor w/ 2 levels \"A191\",\"A192\": 2 1 1 1 1 2 1 2 1 1 ...\n",
            " $ foreign_worker     : Factor w/ 2 levels \"A201\",\"A202\": 1 1 1 1 1 1 1 1 1 1 ...\n",
            " $ class              : num  0 1 0 0 1 0 0 0 0 1 ...\n"
          ]
        }
      ]
    },
    {
      "cell_type": "code",
      "source": [
        "# Qué porcentaje de la cartera (número de créditos) corresponde a créditos \"malos\"?\n",
        "## 70%\n",
        "%%R\n",
        "credit = within(credit, {\n",
        "    class <- ifelse(class==0, 'malo', 'bueno')})\n",
        "mytable( ~ class,data=credit,ord=\"levels\", cum=FALSE)"
      ],
      "metadata": {
        "colab": {
          "base_uri": "https://localhost:8080/"
        },
        "id": "oSX6ewT7an4d",
        "outputId": "a8e00029-2954-499e-bf51-4152465099ae"
      },
      "execution_count": 42,
      "outputs": [
        {
          "output_type": "stream",
          "name": "stdout",
          "text": [
            "\n",
            "table  :  class\n",
            "weights: 1\n",
            "                      Frequency             Percent(%)\n",
            "       | ---------------------- ----------------------\n",
            "bueno  |                    300                     30\n",
            "malo   |                    700                     70\n",
            "       | ---------------------- ----------------------\n"
          ]
        }
      ]
    },
    {
      "cell_type": "code",
      "source": [
        "# Qué porcentaje de la cartera (valor de los créditos) corresponde a créditos \"malos\"?\n",
        "## 63.88%\n",
        "%%R\n",
        "mytable(credit_amount ~ class,data=credit,ord=\"levels\", cum=FALSE)"
      ],
      "metadata": {
        "colab": {
          "base_uri": "https://localhost:8080/"
        },
        "id": "AkXVDKhTlFal",
        "outputId": "74d1983d-256e-4d19-e5bf-c60460e1dd34"
      },
      "execution_count": 43,
      "outputs": [
        {
          "output_type": "stream",
          "name": "stdout",
          "text": [
            "\n",
            "table  :  class\n",
            "weights: credit_amount\n",
            "                      Frequency             Percent(%)\n",
            "       | ---------------------- ----------------------\n",
            "bueno  |                1181438                  36.12\n",
            "malo   |                2089820                  63.88\n",
            "       | ---------------------- ----------------------\n"
          ]
        }
      ]
    },
    {
      "cell_type": "code",
      "source": [
        "%%R\n",
        "## No, el porcentaje de cartera en clientes con buen historial es mayor (82.94%) en los correspondientes a créditos malos\n",
        "mytable( ~ credit_history*class, data=credit, colperc=FALSE, percent=FALSE)"
      ],
      "metadata": {
        "colab": {
          "base_uri": "https://localhost:8080/"
        },
        "id": "xU0Nksfw1DFS",
        "outputId": "97700ecd-a700-4130-f2c7-a4a93136bb64"
      },
      "execution_count": 49,
      "outputs": [
        {
          "output_type": "stream",
          "name": "stdout",
          "text": [
            "\n",
            "rows   : credit_history\n",
            "columns: class\n",
            "weights: 1\n",
            "\n",
            " ----------- \n",
            "|Frequency  |\n",
            "|Row Percent|\n",
            " ----------- \n",
            "\n",
            "            bueno    malo _Total_\n",
            "        | ------- ------- -------\n",
            "A30     |   25.00   15.00   40.00\n",
            "        |   62.50   37.50 -------\n",
            "        | ------- ------- -------\n",
            "A31     |   28.00   21.00   49.00\n",
            "        |   57.14   42.86 -------\n",
            "        | ------- ------- -------\n",
            "A32     |  169.00  361.00  530.00\n",
            "        |   31.89   68.11 -------\n",
            "        | ------- ------- -------\n",
            "A33     |   28.00   60.00   88.00\n",
            "        |   31.82   68.18 -------\n",
            "        | ------- ------- -------\n",
            "A34     |   50.00  243.00  293.00\n",
            "        |   17.06   82.94 -------\n",
            "        | ------- ------- -------\n",
            "_Total_ |  300.00  700.00 1000.00\n",
            "        | ------- ------- -------\n"
          ]
        }
      ]
    },
    {
      "cell_type": "code",
      "source": [
        "%%R\n",
        "## No, el porcentaje de cartera (Valor) en clientes con buen historial es mayor (77.37%) en los correspondientes a créditos malos\n",
        "mytable(credit_amount ~ credit_history*class, data=credit, colperc=FALSE, percent=FALSE)"
      ],
      "metadata": {
        "colab": {
          "base_uri": "https://localhost:8080/"
        },
        "id": "uX9s0Sh61uKp",
        "outputId": "5a3bfbba-12a9-40b8-c378-91693b3c46b7"
      },
      "execution_count": 50,
      "outputs": [
        {
          "output_type": "stream",
          "name": "stdout",
          "text": [
            "\n",
            "rows   : credit_history\n",
            "columns: class\n",
            "weights: credit_amount\n",
            "\n",
            " ----------- \n",
            "|Frequency  |\n",
            "|Row Percent|\n",
            " ----------- \n",
            "\n",
            "               bueno       malo    _Total_\n",
            "        |    -------    -------    -------\n",
            "A30     |  138156.00   74071.00  212227.00\n",
            "        |      65.10      34.90    -------\n",
            "        |    -------    -------    -------\n",
            "A31     |   94405.00   69494.00  163899.00\n",
            "        |      57.60      42.40    -------\n",
            "        |    -------    -------    -------\n",
            "A32     |  636380.00  975328.00 1611708.00\n",
            "        |      39.48      60.52    -------\n",
            "        |    -------    -------    -------\n",
            "A33     |  107750.00  270879.00  378629.00\n",
            "        |      28.46      71.54    -------\n",
            "        |    -------    -------    -------\n",
            "A34     |  204747.00  700048.00  904795.00\n",
            "        |      22.63      77.37    -------\n",
            "        |    -------    -------    -------\n",
            "_Total_ | 1181438.00 2089820.00 3271258.00\n",
            "        |    -------    -------    -------\n"
          ]
        }
      ]
    },
    {
      "cell_type": "code",
      "source": [
        "%%R\n",
        "## No, el porcentaje de cartera en clientes con empleo más estable es mayor (74.70%) en los correspondientes a créditos malos\n",
        "mytable( ~ employment*class, data=credit, colperc=FALSE, percent=FALSE)"
      ],
      "metadata": {
        "colab": {
          "base_uri": "https://localhost:8080/"
        },
        "id": "hVd-mLQ72Ds_",
        "outputId": "72ef94ac-105f-4397-a078-9bd34a91e4de"
      },
      "execution_count": 51,
      "outputs": [
        {
          "output_type": "stream",
          "name": "stdout",
          "text": [
            "\n",
            "rows   : employment\n",
            "columns: class\n",
            "weights: 1\n",
            "\n",
            " ----------- \n",
            "|Frequency  |\n",
            "|Row Percent|\n",
            " ----------- \n",
            "\n",
            "            bueno    malo _Total_\n",
            "        | ------- ------- -------\n",
            "A71     |   23.00   39.00   62.00\n",
            "        |   37.10   62.90 -------\n",
            "        | ------- ------- -------\n",
            "A72     |   70.00  102.00  172.00\n",
            "        |   40.70   59.30 -------\n",
            "        | ------- ------- -------\n",
            "A73     |  104.00  235.00  339.00\n",
            "        |   30.68   69.32 -------\n",
            "        | ------- ------- -------\n",
            "A74     |   39.00  135.00  174.00\n",
            "        |   22.41   77.59 -------\n",
            "        | ------- ------- -------\n",
            "A75     |   64.00  189.00  253.00\n",
            "        |   25.30   74.70 -------\n",
            "        | ------- ------- -------\n",
            "_Total_ |  300.00  700.00 1000.00\n",
            "        | ------- ------- -------\n"
          ]
        }
      ]
    },
    {
      "cell_type": "code",
      "source": [
        "%%R\n",
        "## No, el porcentaje de cartera (Valor) en clientes con empleo más estable es mayor (65.21%) en los correspondientes a créditos malos\n",
        "mytable(credit_amount ~ employment*class, data=credit, colperc=FALSE, percent=FALSE)"
      ],
      "metadata": {
        "colab": {
          "base_uri": "https://localhost:8080/"
        },
        "id": "wNGo_stU3lKS",
        "outputId": "d9a7ef7d-ccde-4c2b-fd34-1ee80943e8ed"
      },
      "execution_count": 52,
      "outputs": [
        {
          "output_type": "stream",
          "name": "stdout",
          "text": [
            "\n",
            "rows   : employment\n",
            "columns: class\n",
            "weights: credit_amount\n",
            "\n",
            " ----------- \n",
            "|Frequency  |\n",
            "|Row Percent|\n",
            " ----------- \n",
            "\n",
            "               bueno       malo    _Total_\n",
            "        |    -------    -------    -------\n",
            "A71     |   97919.00  163520.00  261439.00\n",
            "        |      37.45      62.55    -------\n",
            "        |    -------    -------    -------\n",
            "A72     |  234101.00  273721.00  507822.00\n",
            "        |      46.10      53.90    -------\n",
            "        |    -------    -------    -------\n",
            "A73     |  408522.00  650950.00 1059472.00\n",
            "        |      38.56      61.44    -------\n",
            "        |    -------    -------    -------\n",
            "A74     |  157063.00  469632.00  626695.00\n",
            "        |      25.06      74.94    -------\n",
            "        |    -------    -------    -------\n",
            "A75     |  283833.00  531997.00  815830.00\n",
            "        |      34.79      65.21    -------\n",
            "        |    -------    -------    -------\n",
            "_Total_ | 1181438.00 2089820.00 3271258.00\n",
            "        |    -------    -------    -------\n"
          ]
        }
      ]
    },
    {
      "cell_type": "markdown",
      "source": [
        "# Consulta, transformación y creación de conjuntos de datos"
      ],
      "metadata": {
        "id": "qnZYmY9ghmg6"
      }
    },
    {
      "cell_type": "markdown",
      "source": [
        "## Libreria sqldf"
      ],
      "metadata": {
        "id": "ToIoXAk7hp4I"
      }
    },
    {
      "cell_type": "markdown",
      "metadata": {
        "id": "jOwLOGVvgecu"
      },
      "source": [
        "<p></p><h1 style=\"color:red;\"> <strong> <center>Consulta, transformación y creación de conjuntos de datos</center></strong> </h1>\n",
        "<p></p><h2 style=\"color:blue;\"> <strong> <center>Libreria sqldf</center></strong> </h2>"
      ]
    },
    {
      "cell_type": "markdown",
      "metadata": {
        "id": "0CWz2HrWgecu"
      },
      "source": [
        "<img height=\"900\" src=\"https://r2022.netlify.app/sqldf.png\" width=\"850\"/>"
      ]
    },
    {
      "cell_type": "markdown",
      "metadata": {
        "id": "raPMnDCVgecv"
      },
      "source": [
        "\n",
        "<p></p><p style=\"text-align: justify;\"> <a href=\"https://www.sqlite.org/lang_mathfunc.html\" style=\"color:red;\"><strong> Operadores Matemáticos</strong></a></p> <strong>También incluye:</strong> acos, asin, atan, atn2, atan2, acosh, asinh, atanh, difference, degrees, radians, cos, sin, tan, cot, cosh, sinh, tanh, coth, exp, log, log10, power, sign, sqrt, square, ceil, floor, pi.\n",
        "\n"
      ]
    },
    {
      "cell_type": "markdown",
      "metadata": {
        "id": "fJQwaHNZgecv"
      },
      "source": [
        "\n",
        "<p></p><p style=\"text-align: justify;\"> <a href=\"https://www.sqlite.org/lang_corefunc.html\" style=\"color:red;\"><strong> Operadores de Texto</strong></a></p> <strong>También incluye:</strong> replicate, charindex, leftstr, rightstr, ltrim, rtrim, trim, replace, reverse, proper, padl, padr, padc, strfilter.\n",
        "\n"
      ]
    },
    {
      "cell_type": "markdown",
      "metadata": {
        "id": "82chtQ6Egecv"
      },
      "source": [
        "\n",
        "<p style=\"text-align: justify;\"> <a href=\"https://www.sqlite.org/lang_datefunc.html\" style=\"color:red;\"><strong> Operadores de Fechas</strong></a></p>\n"
      ]
    },
    {
      "cell_type": "code",
      "execution_count": null,
      "metadata": {
        "id": "vEnpkMqCgecv"
      },
      "outputs": [],
      "source": [
        "\n",
        "\n",
        "install.packages(\"sqldf\")\n",
        "library(sqldf)\n",
        "help(sqldf)\n",
        "\n",
        "\n"
      ]
    },
    {
      "cell_type": "code",
      "execution_count": null,
      "metadata": {
        "id": "ZsImi_FGgecv"
      },
      "outputs": [],
      "source": [
        "\n",
        "\n",
        "Municipios <- readRDS(\"Municipios.RDS\")\n",
        "\n",
        "\n"
      ]
    },
    {
      "cell_type": "markdown",
      "metadata": {
        "id": "9fqqDAZZgecv"
      },
      "source": [
        "\n",
        "<p></p><h4> <strong> Ejemplo 1 </strong> </h4>\n",
        "<p style=\"text-align: justify;\"> Conjunto de datos con las variables <em>Departamento</em>, <em>Dep</em>, <em>Depmun</em>,\n",
        "<em>Municipio</em>, <em>Superficie</em> y <em>Poblacion</em> que incluye todos los municipios de los departamentos de Antioquia y Caldas con más de 20 mil habitantes\n",
        "y donde los mismos están ordenados con respecto a <em>Dep</em> y de\n",
        "mayor a menor con respecto a <em>Poblacion</em>.</p>\n"
      ]
    },
    {
      "cell_type": "code",
      "execution_count": null,
      "metadata": {
        "id": "3C-0LFi0gecv"
      },
      "outputs": [],
      "source": [
        "\n",
        "\n",
        "E1 <- sqldf(\"select   Departamento, Dep, Depmun, Municipio, Superficie, Poblacion\n",
        "             from     Municipios\n",
        "             where    Dep in ('05','17') and Poblacion > 20000\n",
        "             order by Dep asc, Poblacion desc\")\n",
        "\n",
        "str(E1)\n",
        "head(E1,n=10)\n",
        "tail(E1,n=10)\n",
        "\n",
        "\n"
      ]
    },
    {
      "cell_type": "markdown",
      "metadata": {
        "id": "eeayRcsvgecv"
      },
      "source": [
        "\n",
        "<p></p><h4> <strong> Ejemplo 2 </strong> </h4>\n",
        "<p style=\"text-align: justify;\"> Conjunto de datos con las variables <em>Departamento</em>, <em>Dep</em>, <em>Depmun</em>, <em>Municipio</em>, <em>Superficie</em> y <em>Poblacion</em> que incluye todos los municipios con superficies menores a 300 $km^2$ excepto los de Boyacá y Santander, y que están ordenados por <em>Dep</em> y de mayor a menor por <em>Poblacion</em>.\n",
        "Incluye una variable definida como \"Baja\" para los municipios con\n",
        "<em>denspobl</em> menor a 30, \"Alta\" para los municipios con <em>denspobl</em> mayor\n",
        "a 85, y \"Media\" para los demás.</p>\n"
      ]
    },
    {
      "cell_type": "code",
      "execution_count": null,
      "metadata": {
        "id": "IoL0K9Pigecv"
      },
      "outputs": [],
      "source": [
        "\n",
        "\n",
        "E2 <- sqldf(\"select   Departamento, Dep, Depmun, Municipio, Superficie,\n",
        "                      Poblacion, case when denspobl < 30 then 'Baja'\n",
        "                                      when denspobl > 85 then 'Alta'\n",
        "                                      else 'Media'\n",
        "                                 end as denspoblC\n",
        "             from     Municipios\n",
        "             where    Dep not in ('15','68') and Superficie < 300\n",
        "             order by Dep asc, Poblacion desc\")\n",
        "\n",
        "str(E2)\n",
        "head(E2)\n",
        "tail(E2)\n",
        "\n",
        "\n"
      ]
    },
    {
      "cell_type": "markdown",
      "metadata": {
        "id": "FWrOvAOxgecw"
      },
      "source": [
        "\n",
        "<p></p><h4> <strong> Ejemplo 3 </strong> </h4>\n",
        "<p style=\"text-align: justify;\"> Existen dos o más municipios con el mismo <em>Depmun</em>?</p>\n"
      ]
    },
    {
      "cell_type": "code",
      "execution_count": null,
      "metadata": {
        "id": "yfY73sgQgecw"
      },
      "outputs": [],
      "source": [
        "\n",
        "\n",
        "sqldf(\"select   Depmun, count(*) as reps\n",
        "       from     Municipios\n",
        "       group by Depmun \n",
        "       having   reps > 1\")\n",
        "\n",
        "sqldf(\"select count(*) as tot_filas, count(distinct depmun) as tot_depmuns\n",
        "       from   Municipios\")\n",
        "\n",
        "\n"
      ]
    },
    {
      "cell_type": "markdown",
      "metadata": {
        "id": "lWbyTp9ngecw"
      },
      "source": [
        "\n",
        "<p></p><h4> <strong> Ejemplo 4 </strong> </h4>\n",
        "<p style=\"text-align: justify;\"> De los departamentos con dos o más municipios cual\n",
        "es el menos homogeneo (de acuerdo al coeficiente de variación) con\n",
        "respecto a la superficie de los municipios que lo componen?</p>\n"
      ]
    },
    {
      "cell_type": "code",
      "execution_count": null,
      "metadata": {
        "id": "O6cmGL7Fgecw"
      },
      "outputs": [],
      "source": [
        "\n",
        "\n",
        "sqldf(\"select   Dep, Departamento, stdev(Superficie)/avg(Superficie) as cv\n",
        "       from     Municipios \n",
        "       group by Dep, Departamento\n",
        "       having   count(*) > 1 \n",
        "       order by cv desc \n",
        "       limit    1\")\n",
        "\n",
        "\n"
      ]
    },
    {
      "cell_type": "markdown",
      "metadata": {
        "id": "hO8wktZPgecw"
      },
      "source": [
        "\n",
        "<p></p><h4> <strong> Ejemplo 5 </strong> </h4>\n",
        "<p style=\"text-align: justify;\"> De los departamentos con dos o más municipios cual\n",
        "es el más homogeneo (de acuerdo al coeficiente de variación) con\n",
        "respecto a la superficie de los municipios que lo componen?</p>\n"
      ]
    },
    {
      "cell_type": "code",
      "execution_count": null,
      "metadata": {
        "id": "rndbAhT3gecw"
      },
      "outputs": [],
      "source": [
        "\n",
        "\n",
        "sqldf(\"select   Dep, Departamento, stdev(Superficie)/avg(Superficie) as cv\n",
        "       from     Municipios \n",
        "       group by Dep, Departamento\n",
        "       having   count(*) > 1 \n",
        "       order by cv \n",
        "       limit    1\")\n",
        "\n",
        "\n"
      ]
    },
    {
      "cell_type": "markdown",
      "metadata": {
        "id": "7_gT1s-3gecw"
      },
      "source": [
        "\n",
        "<p></p><h4> <strong> Ejemplo 6 </strong> </h4>\n",
        "<p style=\"text-align: justify;\"> Conjunto de datos con todos los departamentos, ordenados de mayor\n",
        "a menor con respecto a su población, que incluye la siguiente información: número de municipios, superficie,\n",
        "población, densidad poblacional, índice de ruralidad promedio\n",
        "ponderado por población, y una variable igual a \"Grande\" para los\n",
        "departamentos con población mayor a $1.5$ millones de habitantes, \"Pequeño\" para departamentos\n",
        "con población menor a $300$ mil habitantes, y \"Mediano\" para el resto.</p>\n"
      ]
    },
    {
      "cell_type": "code",
      "execution_count": null,
      "metadata": {
        "id": "9ZdyRmZRgecx"
      },
      "outputs": [],
      "source": [
        "\n",
        "\n",
        "E6 <- sqldf(\"select   Dep, Departamento, count(*) as nmunicipios, sum(Poblacion) as totpob,\n",
        "                      sum(Superficie) as totsup, sum(Poblacion)/sum(Superficie) as denspob,\n",
        "                      sum(Irural*Poblacion)/sum(Poblacion) as Irural,\n",
        "                      case when sum(Poblacion) > 1500000 then 'Grande'\n",
        "                           when sum(Poblacion) < 300000 then 'Pequeño'\n",
        "                           else 'Mediano'\n",
        "                      end as totpobC\n",
        "             from     Municipios\n",
        "             group by Dep, Departamento\n",
        "             order by totpob desc\")\n",
        "\n",
        "str(E6)\n",
        "head(E6)\n",
        "tail(E6)\n",
        "\n",
        "\n"
      ]
    },
    {
      "cell_type": "markdown",
      "metadata": {
        "id": "jJms_lRcgecx"
      },
      "source": [
        "\n",
        "<p></p><h4> <strong> Ejemplo 7 </strong> </h4>\n",
        "<p style=\"text-align: justify;\"> Cual es la región con la mayor superficie?</p>\n"
      ]
    },
    {
      "cell_type": "code",
      "execution_count": null,
      "metadata": {
        "id": "0GeOT9t1gecx"
      },
      "outputs": [],
      "source": [
        "\n",
        "\n",
        "sqldf(\"select   Region\n",
        "       from     Municipios\n",
        "       group by Region\n",
        "       order by sum(Superficie) desc\n",
        "       limit    1\")\n",
        "\n",
        "\n"
      ]
    },
    {
      "cell_type": "markdown",
      "metadata": {
        "id": "LixWxbvMgecx"
      },
      "source": [
        "\n",
        "<p></p><h4> <strong> Ejemplo 8 </strong> </h4>\n",
        "<p style=\"text-align: justify;\"> Conjunto de datos con todos los departamentos, ordenados de mayor\n",
        "a menor con respecto a su población, que incluye la siguiente información: número de municipios, superficie,\n",
        "población, densidad poblacional, todo referente a los municipios con índice de ruralidad mayor a 60.</p>\n"
      ]
    },
    {
      "cell_type": "code",
      "execution_count": null,
      "metadata": {
        "id": "HjUWA7eGgecx"
      },
      "outputs": [],
      "source": [
        "\n",
        "\n",
        "E8 <- sqldf(\"select   Dep, Departamento, count(*) as nmunicipios, sum(Poblacion) as totpob,\n",
        "                      sum(Superficie) as totsup, sum(Poblacion)/sum(Superficie) as denspob\n",
        "             from     Municipios\n",
        "             where    Irural > 60\n",
        "             group by Dep, Departamento\n",
        "             order by totpob desc\")\n",
        "\n",
        "str(E8)\n",
        "head(E8)\n",
        "tail(E8)\n",
        "\n",
        "\n"
      ]
    },
    {
      "cell_type": "markdown",
      "metadata": {
        "id": "1GRhs4-agecx"
      },
      "source": [
        "\n",
        "<p></p><h4> <strong> Ejemplo 9 </strong> </h4>\n",
        "<p style=\"text-align: justify;\"> Cual es la región con el mayor número de departamentos?</p>\n"
      ]
    },
    {
      "cell_type": "code",
      "execution_count": null,
      "metadata": {
        "id": "q65s4bamgecy"
      },
      "outputs": [],
      "source": [
        "\n",
        "\n",
        "sqldf(\"select   Region\n",
        "       from     Municipios\n",
        "       group by Region\n",
        "       order by count(distinct Dep) desc\n",
        "       limit    1\")\n",
        "\n",
        "\n"
      ]
    },
    {
      "cell_type": "markdown",
      "metadata": {
        "id": "MAk_P-YPgecy"
      },
      "source": [
        "\n",
        "<p></p><h4> <strong> Ejemplo 10 </strong> </h4>\n",
        "<p style=\"text-align: justify;\"> Conjunto de datos con todos los departamentos con al menos 650 mil habitantes\n",
        "y al menos 10 mil $km^2$ de superficie, ordenados de mayor a menor con relación a su densidad poblacional, y que incluye la siguiente información:\n",
        "número de municipios, superficie, población y densidad poblacional.</p>\n"
      ]
    },
    {
      "cell_type": "code",
      "execution_count": null,
      "metadata": {
        "id": "58lsZ8-Igecy"
      },
      "outputs": [],
      "source": [
        "\n",
        "\n",
        "E10 <- sqldf(\"select  Dep, Departamento, count(*) as nmunicipios, sum(Poblacion) as totpob, \n",
        "                      sum(Superficie) as totsup, sum(Poblacion)/sum(Superficie) as denspob\n",
        "             from     Municipios\n",
        "             group by Dep, Departamento\n",
        "             having   totpob >= 650000 and totsup >= 10000\n",
        "             order by denspob desc\")\n",
        "\n",
        "str(E10)\n",
        "head(E10)\n",
        "tail(E10)\n",
        "\n",
        "\n"
      ]
    },
    {
      "cell_type": "markdown",
      "metadata": {
        "id": "7BYcWO-Jgecy"
      },
      "source": [
        "\n",
        "<p></p><h4> <strong> Ejemplo 11 </strong> </h4>\n",
        "<p style=\"text-align: justify;\"> Conjunto de datos con todos los departamentos con al menos 650 mil\n",
        "habitantes y al menos 10 mil $km^2$ de superficie, ordenados de mayor\n",
        "a menor con relación a su densidad poblacional, y que incluye la siguiente información:\n",
        "número de municipios, superficie, población, y densidad\n",
        "poblacional, todo referente a municipios con índice de ruralidad mayor a 40.</p>\n"
      ]
    },
    {
      "cell_type": "code",
      "execution_count": null,
      "metadata": {
        "id": "JWOyXsfPgecy"
      },
      "outputs": [],
      "source": [
        "\n",
        "\n",
        "E11 <- sqldf(\"select   Dep, Departamento, count(*) as nmunicipios, sum(Poblacion) as totpob, \n",
        "                       sum(Superficie) as totsup, sum(Poblacion)/sum(Superficie) as denspob\n",
        "              from     Municipios\n",
        "              where    Irural > 40\n",
        "              group by Dep, Departamento\n",
        "              having   totpob >= 650000 and totsup >= 10000\n",
        "              order by denspob desc\")\n",
        "\n",
        "str(E11)\n",
        "head(E11)\n",
        "tail(E11)\n",
        "\n",
        "\n"
      ]
    },
    {
      "cell_type": "markdown",
      "metadata": {
        "id": "e5KPFvPUgecy"
      },
      "source": [
        "\n",
        "<p></p><h4> <strong> Ejemplo 12 </strong> </h4>\n",
        "<p style=\"text-align: justify;\"> Existen dos o más municipios con el mismo nombre?\n",
        "Cuantos? Cuales? En qué departamentos están ubicados?</p>\n"
      ]
    },
    {
      "cell_type": "code",
      "execution_count": null,
      "metadata": {
        "id": "Tg-k1h3ugecy"
      },
      "outputs": [],
      "source": [
        "\n",
        "\n",
        "Repetidos <- sqldf(\"select   Municipio, count(*) as veces\n",
        "                    from     Municipios\n",
        "                    group by Municipio\n",
        "                    having   veces > 1\n",
        "                    order by veces desc\")\n",
        "\n",
        "str(Repetidos)\n",
        "head(Repetidos)\n",
        "tail(Repetidos)\n",
        "     \n",
        "E12 <- sqldf(\"select   Municipio, Departamento, Dep, Depmun\n",
        "              from     Municipios\n",
        "              where    Municipio in (select Municipio \n",
        "                                     from   Repetidos)\n",
        "              order by Municipio, Departamento\")\n",
        "\n",
        "str(E12)\n",
        "head(E12,n=10)\n",
        "tail(E12,n=10)\n",
        "\n",
        "\n"
      ]
    },
    {
      "cell_type": "code",
      "execution_count": null,
      "metadata": {
        "id": "mr1VHfSlgecz"
      },
      "outputs": [],
      "source": [
        "\n",
        "\n",
        "E12a <- sqldf(\"select   Municipio, Departamento, Dep, Depmun\n",
        "               from     Municipios\n",
        "               where    Municipio in (select   Municipio\n",
        "                                      from     Municipios\n",
        "                                      group by Municipio\n",
        "                                      having   count(*) > 1)\n",
        "               order by Municipio, Departamento\")\n",
        "\n",
        "all.equal(E12,E12a)\n",
        "\n",
        "\n"
      ]
    },
    {
      "cell_type": "markdown",
      "metadata": {
        "id": "aCqWY3A7gecz"
      },
      "source": [
        "\n",
        "<p></p><h4> <strong> Ejemplo 13 </strong> </h4>\n",
        "<p style=\"text-align: justify;\"> Existen dos o más municipios con el mismo nombre que\n",
        "hacen parte de la misma región? Cuantos? Cuales?</p>\n"
      ]
    },
    {
      "cell_type": "code",
      "execution_count": null,
      "metadata": {
        "id": "lQziFdxogecz"
      },
      "outputs": [],
      "source": [
        "\n",
        "\n",
        "Repetidos <- sqldf(\"select   Region, Municipio, count(*) as veces\n",
        "                    from     Municipios\n",
        "                    group by Region, Municipio\n",
        "                    having   veces > 1\n",
        "                    order by veces desc\")\n",
        "\n",
        "str(Repetidos)\n",
        "head(Repetidos)\n",
        "tail(Repetidos)\n",
        "\n",
        "E13 <- sqldf(\"select   Municipio, Region, Departamento, Dep, Depmun\n",
        "              from     Municipios\n",
        "              where    Region||''||Municipio in (select Region||''||Municipio\n",
        "                                                 from   Repetidos)\n",
        "              order by Municipio asc, Region asc\")\n",
        "\n",
        "str(E13)\n",
        "head(E13,n=10)\n",
        "tail(E13,n=10)\n",
        "\n",
        "\n"
      ]
    },
    {
      "cell_type": "code",
      "execution_count": null,
      "metadata": {
        "id": "5lc6L05qgecz"
      },
      "outputs": [],
      "source": [
        "\n",
        "\n",
        "E13a <- sqldf(\"select   Municipio, Region, Departamento, Dep, Depmun\n",
        "               from     Municipios\n",
        "               where    Region||''||Municipio in (select   Region||''||Municipio\n",
        "                                                  from     Municipios\n",
        "                                                  group by Region, Municipio\n",
        "                                                  having   veces > 1)\n",
        "               order by Municipio asc, Region asc\")\n",
        "\n",
        "all.equal(E13,E13a)\n",
        "\n",
        "\n"
      ]
    },
    {
      "cell_type": "markdown",
      "metadata": {
        "id": "ncojwi0xgecz"
      },
      "source": [
        "\n",
        "<p></p><h4> <strong> Ejemplo 14 </strong> </h4>\n",
        "<p style=\"text-align: justify;\"> Conjunto de datos con los municipios cuyos nombres inician\n",
        "con \"A\" o terminan con \"o\", no importa si llevan tilde o no.</p>\n"
      ]
    },
    {
      "cell_type": "code",
      "execution_count": null,
      "metadata": {
        "id": "ZHtqGAkTgecz"
      },
      "outputs": [],
      "source": [
        "\n",
        "\n",
        "E14 <- sqldf(\"select   Dep, Departamento, Municipio, Depmun\n",
        "              from     Municipios\n",
        "              where    Municipio like 'A%' or\n",
        "                       Municipio like 'Á%' or \n",
        "                       Municipio like '%o' or\n",
        "                       Municipio like '%ó'\n",
        "              order by Depmun\")\n",
        "\n",
        "str(E14)\n",
        "head(E14)\n",
        "tail(E14)\n",
        "\n",
        "\n"
      ]
    },
    {
      "cell_type": "markdown",
      "metadata": {
        "id": "FFPDl94Qgec0"
      },
      "source": [
        "\n",
        "<p></p><h4> <strong> Ejemplo 15 </strong> </h4>\n",
        "<p style=\"text-align: justify;\"> Conjunto de datos con los municipios cuyos nombres inician\n",
        "con \"A\" y terminan con \"o\", no importa si llevan tilde o no.</p>\n"
      ]
    },
    {
      "cell_type": "code",
      "execution_count": null,
      "metadata": {
        "id": "29QkrSrogec0"
      },
      "outputs": [],
      "source": [
        "\n",
        "\n",
        "E15 <- sqldf(\"select   Dep, Departamento, Municipio, Depmun\n",
        "              from     Municipios\n",
        "              where    Municipio like 'A%o' or\n",
        "                       Municipio like 'A%ó' or\n",
        "                       Municipio like 'Á%o'\n",
        "              order by Depmun\")\n",
        "\n",
        "str(E15)\n",
        "head(E15)\n",
        "tail(E15)\n",
        "\n",
        "\n"
      ]
    },
    {
      "cell_type": "markdown",
      "metadata": {
        "id": "ETGBe1SMgec0"
      },
      "source": [
        "\n",
        "<p></p><h4> <strong> Ejemplo 16 </strong> </h4>\n",
        "<p style=\"text-align: justify;\"> Conjunto de datos con los municipios cuyo nombre tiene a la\n",
        "letra \"e\" en las posiciones 2 y 4, no importa si llevan tilde o no.</p>\n"
      ]
    },
    {
      "cell_type": "code",
      "execution_count": null,
      "metadata": {
        "id": "BmiUxVRagec0"
      },
      "outputs": [],
      "source": [
        "\n",
        "\n",
        "E16 <- sqldf(\"select   Dep, Departamento, Municipio, Depmun\n",
        "              from     Municipios\n",
        "              where    Municipio like '_e_e%' or \n",
        "                       Municipio like '_é_e%' or\n",
        "                       Municipio like '_e_é%'\n",
        "              order by Depmun\")\n",
        "\n",
        "str(E16)\n",
        "head(E16)\n",
        "tail(E16)\n",
        "\n",
        "\n"
      ]
    },
    {
      "cell_type": "markdown",
      "metadata": {
        "id": "PFPzAOCdgec0"
      },
      "source": [
        "\n",
        "<p></p><h4> <strong> Ejemplo 17 </strong> </h4>\n",
        "<p style=\"text-align: justify;\"> Conjunto de datos con los municipios cuyos nombres constan\n",
        "de más de una palabra.</p>\n"
      ]
    },
    {
      "cell_type": "code",
      "execution_count": null,
      "metadata": {
        "id": "kq3r5BKggec0"
      },
      "outputs": [],
      "source": [
        "\n",
        "\n",
        "E17 <- sqldf(\"select   Dep, Departamento, Municipio, Depmun\n",
        "              from     Municipios\n",
        "              where    Municipio like '% %'\n",
        "              order by Depmun\")\n",
        "\n",
        "str(E17)\n",
        "head(E17)\n",
        "tail(E17)\n",
        "\n",
        "\n"
      ]
    },
    {
      "cell_type": "markdown",
      "metadata": {
        "id": "ma4LMsyIgec0"
      },
      "source": [
        "<p><img height=\"900\" src=\"https://r2022.netlify.app/sqldf2.png\" width=\"850\"/>"
      ]
    },
    {
      "cell_type": "markdown",
      "metadata": {
        "id": "4xsB3tPmgec0"
      },
      "source": [
        "<img height=\"900\" src=\"https://r2022.netlify.app/sqldf3.png\" width=\"850\"/></p>"
      ]
    },
    {
      "cell_type": "code",
      "execution_count": null,
      "metadata": {
        "id": "_FXuMew6gec1"
      },
      "outputs": [],
      "source": [
        "\n",
        "\n",
        "A <- data.frame(id=c(1,2,2,3),cod=c(23,65,60,87),name=c(\"Leia\",\"Luke\",\"Yoda\",\"Hank\"))\n",
        "B <- data.frame(id=c(2,3,4),cod=c(65,87,29),age=c(23,20,25))\n",
        "A\n",
        "B\n",
        "\n",
        "sqldf(\"select * \n",
        "       from     A inner join B on (A.id=B.id and A.cod=B.cod)\")\n",
        "\n",
        "sqldf(\"select * \n",
        "       from     B inner join A on (B.id=A.id and B.cod=A.cod)\")\n",
        "\n",
        "sqldf(\"select * \n",
        "       from     A left join B on (A.id=B.id and A.cod=B.cod)\")\n",
        "\n",
        "sqldf(\"select * \n",
        "       from     B left join A on (B.id=A.id and B.cod=A.cod)\")\n",
        "\n",
        "\n"
      ]
    },
    {
      "cell_type": "markdown",
      "metadata": {
        "id": "N8_wRlHagec1"
      },
      "source": [
        "\n",
        "<hr/>\n",
        "<p></p><h4> <strong> Ejemplo 18 </strong> </h4>\n",
        "<p style=\"text-align: justify;\"> Cuantos y cuales municipios tienen al menos una estación\n",
        "de monitoreo climático?</p>\n"
      ]
    },
    {
      "cell_type": "code",
      "execution_count": null,
      "metadata": {
        "id": "y4muvYlegec1"
      },
      "outputs": [],
      "source": [
        "\n",
        "\n",
        "Estaciones <- read_excel(\"Estaciones.xlsx\")\n",
        "str(Estaciones)\n",
        "\n",
        "E18 <- sqldf(\"select distinct Depmun\n",
        "              from   Estaciones\")\n",
        "str(E18)\n",
        "head(E18)\n",
        "tail(E18)\n",
        "\n",
        "\n"
      ]
    },
    {
      "cell_type": "markdown",
      "metadata": {
        "id": "hKmY1U04gec1"
      },
      "source": [
        "\n",
        "<p></p><h4> <strong> Ejemplo 19 </strong> </h4>\n",
        "<p style=\"text-align: justify;\"> Conjunto de datos con todos los municipios del país, que incluye una variable que informa el número de \n",
        "estaciones de monitoreo climático con que cuenta cada municipio.</p>\n"
      ]
    },
    {
      "cell_type": "code",
      "execution_count": null,
      "metadata": {
        "id": "-7sf03NOgec1"
      },
      "outputs": [],
      "source": [
        "\n",
        "\n",
        "Emon <- sqldf(\"select   Depmun, count(*) as nem \n",
        "               from     Estaciones\n",
        "               group by Depmun\")\n",
        "\n",
        "E19 <- sqldf(\"select Municipios.*, case when nem is null then 0 \n",
        "                                        else nem \n",
        "                                   end as nest\n",
        "              from   Municipios left join Emon on (Municipios.Depmun = Emon.Depmun)\")\n",
        "\n",
        "str(E19) \n",
        "head(E19)\n",
        "tail(E19)\n",
        "\n",
        "\n"
      ]
    },
    {
      "cell_type": "markdown",
      "metadata": {
        "id": "mmNwq4U4gec1"
      },
      "source": [
        "\n",
        "<p></p><h4> <strong> Ejemplo 20 </strong> </h4>\n",
        "<p style=\"text-align: justify;\"> Existen municipios que no tienen ninguna estación de\n",
        "monitoreo climático? Cuantos? Cuales?</p>\n"
      ]
    },
    {
      "cell_type": "code",
      "execution_count": null,
      "metadata": {
        "id": "b2c3XsPZgec1"
      },
      "outputs": [],
      "source": [
        "\n",
        "\n",
        "E20 <- sqldf(\"select   Municipios.*\n",
        "              from     Municipios left join Emon on (Municipios.Depmun = Emon.Depmun)\n",
        "              where    nem is NULL\n",
        "              order by Depmun\")\n",
        "\n",
        "E20a <- sqldf(\"select   Municipios.*\n",
        "               from     Municipios\n",
        "               where    Depmun not in (select distinct Depmun\n",
        "                                       from   Estaciones)\n",
        "               order by Depmun\")\n",
        "\n",
        "all.equal(E20,E20a)\n",
        "\n",
        "str(E20) \n",
        "head(E20)\n",
        "tail(E20)\n",
        "\n",
        "\n"
      ]
    },
    {
      "cell_type": "markdown",
      "metadata": {
        "id": "v8py5Fsggec2"
      },
      "source": [
        "\n",
        "<p></p><h4> <strong> Ejemplo 21 </strong> </h4>\n",
        "<p style=\"text-align: justify;\"> Copia de Estaciones que solo considera estaciones de monitoreo localizadas \n",
        "como máximo a 2000 metros de altura sobre el nivel del mar, y que incluye los nombres del municipio y del\n",
        "departamento donde están ubicadas las estaciones.</p>\n"
      ]
    },
    {
      "cell_type": "code",
      "execution_count": null,
      "metadata": {
        "id": "PXL4o0o3gec2"
      },
      "outputs": [],
      "source": [
        "\n",
        "\n",
        "E21 <- sqldf(\"select   Estaciones.*, Municipio, Departamento, Dep\n",
        "              from     Estaciones inner join Municipios on (Estaciones.Depmun = Municipios.Depmun)\n",
        "              where    elev <= 2000\n",
        "              order by Depmun, codigo\")\n",
        "\n",
        "E21a <- sqldf(\"select   Estaciones.*, Municipio, Departamento, Dep\n",
        "               from     Estaciones left join Municipios on (Estaciones.Depmun = Municipios.Depmun)\n",
        "               where    elev <= 2000\n",
        "               order by Depmun, codigo\")\n",
        "\n",
        "all.equal(E21,E21a)\n",
        "\n",
        "str(E21)\n",
        "\n",
        "\n"
      ]
    },
    {
      "cell_type": "markdown",
      "source": [
        "## Libreria dplyr"
      ],
      "metadata": {
        "id": "4Yir2nYtjAwg"
      }
    },
    {
      "cell_type": "markdown",
      "metadata": {
        "id": "r7cbfSQUgec2"
      },
      "source": [
        "<p></p><h2 style=\"color:blue;\"> <strong> <center>Libreria dplyr</center></strong> </h2>"
      ]
    },
    {
      "cell_type": "markdown",
      "metadata": {
        "id": "FFG4PNOUgec2"
      },
      "source": [
        "<img height=\"900\" src=\"https://r2022.netlify.app/dplyr0.png\" width=\"850\"/>"
      ]
    },
    {
      "cell_type": "code",
      "execution_count": null,
      "metadata": {
        "id": "JJeo_zBEgec2"
      },
      "outputs": [],
      "source": [
        "\n",
        "\n",
        "install.packages(\"dplyr\")\n",
        "library(dplyr)\n",
        "help(dplyr)\n",
        "\n",
        "\n"
      ]
    },
    {
      "cell_type": "markdown",
      "metadata": {
        "id": "kqzkL-pGgec2"
      },
      "source": [
        "\n",
        "<p></p><h4> <strong> Ejemplo 1 </strong> </h4>\n",
        "<p style=\"text-align: justify;\"> Conjunto de datos con las variables <em>Departamento</em>, <em>Dep</em>, <em>Depmun</em>,\n",
        "<em>Municipio</em>, <em>Superficie</em> y <em>Poblacion</em> que incluye todos los municipios de los departamentos de Antioquia y Caldas con más de 20 mil habitantes\n",
        "y donde los mismos están ordenados con respecto a <em>Dep</em> y de\n",
        "mayor a menor con respecto a <em>Poblacion</em>.</p>\n"
      ]
    },
    {
      "cell_type": "code",
      "execution_count": null,
      "metadata": {
        "id": "d3kBCoGGgec2"
      },
      "outputs": [],
      "source": [
        "\n",
        "\n",
        "e1 <- Municipios %>%\n",
        "      select(Departamento,Dep,Depmun,Municipio,Superficie, Poblacion) %>%\n",
        "      filter(Dep %in% c(\"05\",\"17\") & Poblacion > 20000) %>%\n",
        "      arrange(Dep,desc(Poblacion)) %>% \n",
        "      as.data.frame()\n",
        "\n",
        "all.equal(e1,E1,check.attributes=FALSE)\n",
        "\n",
        "str(e1) \n",
        "head(e1,n=10)\n",
        "tail(e1,n=10)\n",
        "\n",
        "\n"
      ]
    },
    {
      "cell_type": "markdown",
      "metadata": {
        "id": "x1rOp0_zgec2"
      },
      "source": [
        "\n",
        "<p></p><h4> <strong> Ejemplo 2 </strong> </h4>\n",
        "<p style=\"text-align: justify;\"> Conjunto de datos con las variables <em>Departamento</em>, <em>Dep</em>, <em>Depmun</em>, <em>Municipio</em>, <em>Superficie</em> y <em>Poblacion</em> que incluye todos los municipios con superficies menores a 300 $km^2$ excepto los de Boyacá y Santander, y que están ordenados por <em>Dep</em> y de mayor a menor por <em>Poblacion</em>.\n",
        "Incluye una variable definida como \"Baja\" para los municipios con\n",
        "<em>denspobl</em> menor a 30, \"Alta\" para los municipios con <em>denspobl</em> mayor\n",
        "a 85, y \"Media\" para los demás.</p>\n"
      ]
    },
    {
      "cell_type": "code",
      "execution_count": null,
      "metadata": {
        "id": "xgLeXstBgec2"
      },
      "outputs": [],
      "source": [
        "\n",
        "\n",
        "e2 <- Municipios %>%\n",
        "      filter(Dep!=\"15\" & Dep!=\"68\" & Superficie < 300) %>%\n",
        "      mutate(denspoblC=case_when(denspobl > 85 ~ \"Alta\",\n",
        "                                 denspobl < 30 ~ \"Baja\",\n",
        "                                 TRUE ~ \"Media\")) %>%\n",
        "      arrange(Dep,desc(Poblacion)) %>%\n",
        "      select(Departamento,Dep,Depmun,Municipio,Superficie,Poblacion,denspoblC) %>%\n",
        "      as.data.frame()\n",
        "\n",
        "all.equal(e2,E2,check.attributes=FALSE)\n",
        "\n",
        "str(e2) \n",
        "str(E2) \n",
        "head(e2,n=10)\n",
        "tail(e2,n=10)\n",
        "\n",
        "\n"
      ]
    },
    {
      "cell_type": "markdown",
      "metadata": {
        "id": "fzZOPQ-jgec3"
      },
      "source": [
        "\n",
        "<p></p><h4> <strong> Ejemplo 3 </strong> </h4>\n",
        "<p style=\"text-align: justify;\"> Existen dos o más municipios con el mismo <em>Depmun</em>?</p>\n"
      ]
    },
    {
      "cell_type": "code",
      "execution_count": null,
      "metadata": {
        "id": "pgonOGPigec3"
      },
      "outputs": [],
      "source": [
        "\n",
        "\n",
        "Municipios %>% \n",
        "group_by(Depmun) %>%\n",
        "summarise(repetidos=n()) %>% \n",
        "filter(repetidos > 1)\n",
        "\n",
        "Municipios %>%\n",
        "summarise(tot_filas=n(),tot_depmuns=n_distinct(Depmun))\n",
        "\n",
        "\n"
      ]
    },
    {
      "cell_type": "markdown",
      "metadata": {
        "id": "PjDnJE7Hgec3"
      },
      "source": [
        "\n",
        "<p></p><h4> <strong> Ejemplo 4 </strong> </h4>\n",
        "<p style=\"text-align: justify;\"> De los departamentos con dos o más municipios cual\n",
        "es el menos homogeneo (de acuerdo al coeficiente de variación) con\n",
        "respecto a la superficie de los municipios que lo componen?</p>\n"
      ]
    },
    {
      "cell_type": "code",
      "execution_count": null,
      "metadata": {
        "id": "aITXFfR9gec3"
      },
      "outputs": [],
      "source": [
        "\n",
        "\n",
        "Municipios %>% \n",
        "group_by(Dep,Departamento) %>%\n",
        "summarise(mun=n(),cv=sd(Superficie)/mean(Superficie))%>%\n",
        "filter(mun > 1) %>% \n",
        "arrange(desc(cv)) %>% \n",
        "filter(row_number()==1) %>% \n",
        "as.data.frame()\n",
        "\n",
        "\n"
      ]
    },
    {
      "cell_type": "markdown",
      "metadata": {
        "id": "kfdQ8fzRgec3"
      },
      "source": [
        "\n",
        "<p></p><h4> <strong> Ejemplo 5 </strong> </h4>\n",
        "<p style=\"text-align: justify;\"> De los departamentos con dos o más municipios cual\n",
        "es el más homogeneo (de acuerdo al coeficiente de variación) con\n",
        "respecto a la superficie de los municipios que lo componen?</p>\n"
      ]
    },
    {
      "cell_type": "code",
      "execution_count": null,
      "metadata": {
        "id": "8M7JHoH8gec3"
      },
      "outputs": [],
      "source": [
        "\n",
        "\n",
        "Municipios %>% \n",
        "group_by(Dep,Departamento) %>%\n",
        "summarise(mun=n(),cv=sd(Superficie)/mean(Superficie)) %>%\n",
        "filter(mun > 1) %>% \n",
        "arrange(cv) %>% \n",
        "filter(row_number()==1) %>% \n",
        "as.data.frame()\n",
        "\n",
        "\n"
      ]
    },
    {
      "cell_type": "markdown",
      "metadata": {
        "id": "TaMTPtSAgec3"
      },
      "source": [
        "\n",
        "<p></p><h4> <strong> Ejemplo 6 </strong> </h4>\n",
        "<p style=\"text-align: justify;\"> Conjunto de datos con todos los departamentos, ordenados de mayor\n",
        "a menor con respecto a su población, que incluye la siguiente información: número de municipios, superficie,\n",
        "población, densidad poblacional, índice de ruralidad promedio\n",
        "ponderado por población, y una variable igual a \"Grande\" para los\n",
        "departamentos con población mayor a $1.5$ millones de habitantes, \"Pequeño\" para departamentos\n",
        "con población menor a $300$ mil habitantes, y \"Mediano\" para el resto.</p>\n"
      ]
    },
    {
      "cell_type": "code",
      "execution_count": null,
      "metadata": {
        "id": "Lryyuifigec4"
      },
      "outputs": [],
      "source": [
        "\n",
        "\n",
        "e6 <- Municipios %>%\n",
        "      group_by(Dep,Departamento) %>%\n",
        "      summarise(nmunicipios=n(),totpob=sum(Poblacion), \n",
        "                totsup=sum(Superficie),denspob=totpob/totsup,\n",
        "                Irural=sum(Irural*Poblacion)/totpob,\n",
        "                totpobC=case_when(totpob > 1.5e6 ~ \"Grande\",\n",
        "                                  totpob < 3e5 ~ \"Pequeño\",\n",
        "                                  TRUE ~ \"Mediano\")) %>%\n",
        "      arrange(desc(totpob)) %>% \n",
        "      as.data.frame()\n",
        "\n",
        "all.equal(e6,E6,check.attributes=FALSE)\n",
        "\n",
        "str(e6)\n",
        "\n",
        "\n"
      ]
    },
    {
      "cell_type": "markdown",
      "metadata": {
        "id": "flU3xjGJgec4"
      },
      "source": [
        "\n",
        "<p></p><h4> <strong> Ejemplo 7 </strong> </h4>\n",
        "<p style=\"text-align: justify;\"> Cual es la región con la mayor superficie?</p>\n"
      ]
    },
    {
      "cell_type": "code",
      "execution_count": null,
      "metadata": {
        "id": "NGbPCZYAgec4"
      },
      "outputs": [],
      "source": [
        "\n",
        "\n",
        "Municipios %>% \n",
        "group_by(Region) %>%\n",
        "summarise(sup=sum(Superficie)) %>% \n",
        "arrange(desc(sup)) %>% \n",
        "filter(row_number()==1) %>% \n",
        "as.data.frame()\n",
        "\n",
        "\n"
      ]
    },
    {
      "cell_type": "markdown",
      "metadata": {
        "id": "EKX9VBk9gec4"
      },
      "source": [
        "\n",
        "<p></p><h4> <strong> Ejemplo 8 </strong> </h4>\n",
        "<p style=\"text-align: justify;\"> Conjunto de datos con todos los departamentos, ordenados de mayor\n",
        "a menor con respecto a su población, que incluye la siguiente información: número de municipios, superficie,\n",
        "población, densidad poblacional, todo referente a los municipios con índice de ruralidad mayor a 60.</p>\n"
      ]
    },
    {
      "cell_type": "code",
      "execution_count": null,
      "metadata": {
        "id": "_Hfq42-Rgec4"
      },
      "outputs": [],
      "source": [
        "\n",
        "\n",
        "e8 <- Municipios %>%\n",
        "      filter(Irural > 60) %>%\n",
        "      group_by(Dep,Departamento) %>%\n",
        "      summarise(nmunicipios=n(),totpob=sum(Poblacion),totsup=sum(Superficie),\n",
        "                denspob=totpob/totsup) %>%\n",
        "      arrange(desc(totpob)) %>% \n",
        "      as.data.frame()\n",
        "\n",
        "all.equal(e8,E8,check.attributes=FALSE)\n",
        "str(e8)\n",
        "\n",
        "\n"
      ]
    },
    {
      "cell_type": "markdown",
      "metadata": {
        "id": "VD0dZpqegec4"
      },
      "source": [
        "\n",
        "<p></p><h4> <strong> Ejemplo 9 </strong> </h4>\n",
        "<p style=\"text-align: justify;\"> Cual es la región con el mayor número de departamentos?</p>\n"
      ]
    },
    {
      "cell_type": "code",
      "execution_count": null,
      "metadata": {
        "id": "IsdGjdpXgec4"
      },
      "outputs": [],
      "source": [
        "\n",
        "\n",
        "Municipios %>% \n",
        "group_by(Region) %>%\n",
        "summarise(Deps=n_distinct(Dep)) %>%\n",
        "arrange(desc(Deps)) %>%\n",
        "filter(row_number()==1) %>% \n",
        "as.data.frame()\n",
        "\n",
        "\n"
      ]
    },
    {
      "cell_type": "markdown",
      "metadata": {
        "id": "Kcb_lCIIgec4"
      },
      "source": [
        "\n",
        "<p></p><h4> <strong> Ejemplo 10 </strong> </h4>\n",
        "<p style=\"text-align: justify;\"> Conjunto de datos con todos los departamentos con al menos 650 mil habitantes\n",
        "y al menos 10 mil $km^2$ de superficie, ordenados de mayor a menor con relación a su densidad poblacional, y que incluye la siguiente información:\n",
        "número de municipios, superficie, población y densidad poblacional.</p>\n"
      ]
    },
    {
      "cell_type": "code",
      "execution_count": null,
      "metadata": {
        "id": "DZCzRJi2gec4"
      },
      "outputs": [],
      "source": [
        "\n",
        "\n",
        "e10 <- Municipios %>%\n",
        "       group_by(Dep,Departamento) %>%\n",
        "       summarise(nmunicipios=n(),totpob=sum(Poblacion),totsup=sum(Superficie),\n",
        "                 denspob=totpob/totsup) %>%\n",
        "       filter(totpob >= 650000 & totsup >= 10000) %>%\n",
        "       arrange(desc(denspob)) %>% \n",
        "       as.data.frame()\n",
        "\n",
        "all.equal(e10,E10,check.attributes=FALSE)\n",
        "str(e10)\n",
        "\n",
        "\n"
      ]
    },
    {
      "cell_type": "markdown",
      "metadata": {
        "id": "UTgOWATQgec4"
      },
      "source": [
        "\n",
        "<p></p><h4> <strong> Ejemplo 11 </strong> </h4>\n",
        "<p style=\"text-align: justify;\"> Conjunto de datos con todos los departamentos con al menos 650 mil\n",
        "habitantes y al menos 10 mil $km^2$ de superficie, ordenados de mayor\n",
        "a menor con relación a su densidad poblacional, y que incluye la siguiente información:\n",
        "número de municipios, superficie, población, y densidad\n",
        "poblacional, todo referente a municipios con índice de ruralidad mayor a 40.</p>\n"
      ]
    },
    {
      "cell_type": "code",
      "execution_count": null,
      "metadata": {
        "id": "SP7JrhoVgec4"
      },
      "outputs": [],
      "source": [
        "\n",
        "\n",
        "e11 <- Municipios %>%\n",
        "        filter(Irural > 40) %>%\n",
        "        group_by(Dep,Departamento) %>%\n",
        "        summarise(nmunicipios=n(),totpob=sum(Poblacion),totsup=sum(Superficie),\n",
        "                  denspob=totpob/totsup) %>%\n",
        "        filter(totpob >= 650000 & totsup >= 10000) %>%\n",
        "        arrange(desc(denspob)) %>%\n",
        "        as.data.frame()\n",
        "\n",
        "all.equal(e11,E11,check.attributes=FALSE)\n",
        "str(e11)\n",
        "\n",
        "\n"
      ]
    },
    {
      "cell_type": "markdown",
      "metadata": {
        "id": "QkJiZWqggec4"
      },
      "source": [
        "\n",
        "<p></p><h4> <strong> Ejemplo 12 </strong> </h4>\n",
        "<p style=\"text-align: justify;\"> Existen dos o más municipios con el mismo nombre?\n",
        "Cuantos? Cuales? En qué departamentos están ubicados?</p>\n"
      ]
    },
    {
      "cell_type": "code",
      "execution_count": null,
      "metadata": {
        "id": "pDxR_VdUgec4"
      },
      "outputs": [],
      "source": [
        "\n",
        "\n",
        "original <- Sys.getlocale(\"LC_COLLATE\")\n",
        "Sys.setlocale(\"LC_COLLATE\", \"C\")\n",
        "\n",
        "Repetidos <- Municipios %>%\n",
        "             group_by(Municipio) %>%\n",
        "             summarise(veces = n()) %>%\n",
        "             filter(veces > 1) %>%\n",
        "             arrange(desc(veces)) %>%\n",
        "             as.data.frame()\n",
        "\n",
        "str(Repetidos) \n",
        "head(Repetidos)\n",
        "\n",
        "e12 <- Municipios %>%\n",
        "       select(Municipio,Departamento,Dep,Depmun) %>%\n",
        "       filter(Municipio %in% with(Repetidos,Municipio)) %>%\n",
        "       arrange(Municipio,Departamento) %>%\n",
        "       as.data.frame()\n",
        "\n",
        "Sys.setlocale(\"LC_COLLATE\", original)\n",
        "\n",
        "all.equal(e12,E12,check.attributes=FALSE)\n",
        "str(e12)\n",
        "head(e12)\n",
        "tail(e12)\n",
        "\n",
        "\n"
      ]
    },
    {
      "cell_type": "markdown",
      "metadata": {
        "id": "SEDixu9ogec5"
      },
      "source": [
        "\n",
        "<p></p><h4> <strong> Ejemplo 13 </strong> </h4>\n",
        "<p style=\"text-align: justify;\"> Existen dos o más municipios con el mismo nombre que\n",
        "hacen parte de la misma región? Cuantos? Cuales?</p>\n"
      ]
    },
    {
      "cell_type": "code",
      "execution_count": null,
      "metadata": {
        "id": "i96gnY_Hgec5"
      },
      "outputs": [],
      "source": [
        "\n",
        "\n",
        "original <- Sys.getlocale(\"LC_COLLATE\")\n",
        "Sys.setlocale(\"LC_COLLATE\", \"C\")\n",
        "\n",
        "Repetidos <- Municipios %>%\n",
        "             group_by(Region,Municipio) %>%\n",
        "             summarise(veces = n()) %>%\n",
        "             filter(veces > 1) %>%\n",
        "             arrange(desc(veces)) %>%\n",
        "             as.data.frame()\n",
        "\n",
        "str(Repetidos) \n",
        "\n",
        "e13 <- Municipios %>%\n",
        "       select(Municipio,Region,Departamento,Dep,Depmun) %>%\n",
        "       filter(str_c(Region,Municipio) %in% with(Repetidos,str_c(Region,Municipio))) %>%\n",
        "       arrange(Municipio,Region) %>%\n",
        "       as.data.frame()\n",
        "\n",
        "Sys.setlocale(\"LC_COLLATE\", original)\n",
        "\n",
        "all.equal(e13,E13,check.attributes=FALSE)\n",
        "str(e13)\n",
        "\n",
        "\n"
      ]
    },
    {
      "cell_type": "markdown",
      "metadata": {
        "id": "dfeyEuJ5gec5"
      },
      "source": [
        "\n",
        "<p></p><h4> <strong> Ejemplo 14 </strong> </h4>\n",
        "<p style=\"text-align: justify;\"> Conjunto de datos con los municipios cuyos nombres inician\n",
        "con \"A\" o terminan con \"o\", no importa si llevan tilde o no.</p>\n"
      ]
    },
    {
      "cell_type": "code",
      "execution_count": null,
      "metadata": {
        "id": "hZPtV5k4gec5"
      },
      "outputs": [],
      "source": [
        "\n",
        "\n",
        "e14 <- Municipios %>% \n",
        "       select(Dep,Departamento,Municipio,Depmun) %>% \n",
        "       filter(str_detect(Municipio,\"^[AÁ]\") | str_detect(Municipio,\"[oó]$\")) %>%\n",
        "       as.data.frame()\n",
        "\n",
        "e14a <- Municipios %>% \n",
        "        select(Dep,Departamento,Municipio, Depmun) %>% \n",
        "        filter(str_detect(Municipio,\"^[AÁ]|[oó]$\")) %>%\n",
        "        as.data.frame()\n",
        "\n",
        "all.equal(e14,e14a,check.attributes=FALSE)\n",
        "all.equal(e14,E14,check.attributes=FALSE)\n",
        "str(e14) \n",
        "head(e14)\n",
        "\n",
        "\n"
      ]
    },
    {
      "cell_type": "markdown",
      "metadata": {
        "id": "3qnesIkWgec5"
      },
      "source": [
        "\n",
        "<p></p><h4> <strong> Ejemplo 15 </strong> </h4>\n",
        "<p style=\"text-align: justify;\"> Conjunto de datos con los municipios cuyos nombres inician\n",
        "con \"A\" y terminan con \"o\", no importa si llevan tilde o no.</p>\n"
      ]
    },
    {
      "cell_type": "code",
      "execution_count": null,
      "metadata": {
        "id": "Xg-eDMDTgec5"
      },
      "outputs": [],
      "source": [
        "\n",
        "\n",
        "e15 <- Municipios %>% \n",
        "       select(Dep,Departamento,Municipio,Depmun) %>% \n",
        "       filter(str_detect(Municipio,\"^[AÁ]\") & str_detect(Municipio,\"[oó]$\")) %>%\n",
        "       as.data.frame()\n",
        "\n",
        "e15a <- Municipios %>% \n",
        "        select(Dep,Departamento,Municipio,Depmun) %>% \n",
        "        filter(str_detect(Municipio,\"^[AÁ].*[oó]$\")) %>%\n",
        "        as.data.frame()\n",
        "\n",
        "all.equal(e15,e15a,check.attributes=FALSE)\n",
        "all.equal(e15,E15,check.attributes=FALSE)\n",
        "str(e15) \n",
        "head(e15)\n",
        "\n",
        "\n"
      ]
    },
    {
      "cell_type": "markdown",
      "metadata": {
        "id": "wWR_Yxf9gec5"
      },
      "source": [
        "\n",
        "<p></p><h4> <strong> Ejemplo 16 </strong> </h4>\n",
        "<p style=\"text-align: justify;\"> Conjunto de datos con los municipios cuyo nombre tiene a la\n",
        "letra \"e\" en las posiciones 2 y 4, no importa si llevan tilde o no.</p>\n"
      ]
    },
    {
      "cell_type": "code",
      "execution_count": null,
      "metadata": {
        "id": "VoVuLrOCgec5"
      },
      "outputs": [],
      "source": [
        "\n",
        "\n",
        "e16 <- Municipios %>% \n",
        "       select(Dep,Departamento,Municipio,Depmun) %>% \n",
        "       filter(str_sub(Municipio,2,2) %in% c(\"e\",\"é\") & str_sub(Municipio,4,4) %in% c(\"e\",\"é\")) %>%\n",
        "       as.data.frame()\n",
        "\n",
        "e16a <- Municipios %>% \n",
        "        select(Dep,Departamento,Municipio,Depmun) %>% \n",
        "        filter(str_detect(Municipio,\"^.[eé].[eé].*\")) %>%\n",
        "        as.data.frame()\n",
        "\n",
        "all.equal(e16,e16a,check.attributes=FALSE)\n",
        "all.equal(e16,E16,check.attributes=FALSE)\n",
        "str(e16)\n",
        "\n",
        "\n"
      ]
    },
    {
      "cell_type": "markdown",
      "metadata": {
        "id": "hlcqHu9Sgec5"
      },
      "source": [
        "\n",
        "<p></p><h4> <strong> Ejemplo 17 </strong> </h4>\n",
        "<p style=\"text-align: justify;\"> Conjunto de datos con los municipios cuyos nombres constan\n",
        "de más de una palabra.</p>\n"
      ]
    },
    {
      "cell_type": "code",
      "execution_count": null,
      "metadata": {
        "id": "ZwZ8vkhbgec5"
      },
      "outputs": [],
      "source": [
        "\n",
        "\n",
        "e17 <- Municipios %>% \n",
        "       select(Dep,Departamento,Municipio,Depmun) %>% \n",
        "       filter(str_count(Municipio,\" \")>=1) %>%\n",
        "       as.data.frame()\n",
        "\n",
        "e17a <- Municipios %>% \n",
        "        select(Dep,Departamento,Municipio,Depmun) %>% \n",
        "        filter(str_detect(Municipio,\".* .*\")) %>%\n",
        "        as.data.frame()\n",
        "\n",
        "all.equal(e17,e17a,check.attributes=FALSE)\n",
        "all.equal(e17,E17,check.attributes=FALSE)\n",
        "str(e17) \n",
        "head(e17)\n",
        "\n",
        "\n"
      ]
    },
    {
      "cell_type": "markdown",
      "metadata": {
        "id": "wAziPL45gec5"
      },
      "source": [
        "<p><img height=\"900\" src=\"https://r2022.netlify.app/dplyr1.png\" width=\"850\"/>"
      ]
    },
    {
      "cell_type": "markdown",
      "metadata": {
        "id": "n60hwljQgec6"
      },
      "source": [
        "<img height=\"900\" src=\"https://r2022.netlify.app/dplyr2.png\" width=\"850\"/></p>"
      ]
    },
    {
      "cell_type": "code",
      "execution_count": null,
      "metadata": {
        "id": "bx7b-lLHgec6"
      },
      "outputs": [],
      "source": [
        "\n",
        "\n",
        "A <- data.frame(id=c(1,2,2,3),cod=c(23,65,60,87),name=c(\"Leia\",\"Luke\",\"Yoda\",\"Hank\"))\n",
        "B <- data.frame(id=c(2,3,4),cod=c(65,87,29),age=c(23,20,25))\n",
        "A\n",
        "B\n",
        "\n",
        "A %>% inner_join(B,by=c(\"id\"=\"id\",\"cod\"=\"cod\"))\n",
        "\n",
        "B %>% inner_join(A,by=c(\"id\"=\"id\",\"cod\"=\"cod\"))\n",
        "\n",
        "A %>% left_join(B,by=c(\"id\"=\"id\",\"cod\"=\"cod\"))\n",
        "\n",
        "A %>% right_join(B,by=c(\"id\"=\"id\",\"cod\"=\"cod\"))\n",
        "\n",
        "A %>% full_join(B,by=c(\"id\"=\"id\",\"cod\"=\"cod\"))\n",
        "\n",
        "\n"
      ]
    },
    {
      "cell_type": "markdown",
      "metadata": {
        "id": "j8uYRZBogec6"
      },
      "source": [
        "\n",
        "<p></p><h4> <strong> Ejemplo 18 </strong> </h4>\n",
        "<p style=\"text-align: justify;\"> Cuantos y cuales municipios tienen al menos una estación\n",
        "de monitoreo climático?</p>\n"
      ]
    },
    {
      "cell_type": "code",
      "execution_count": null,
      "metadata": {
        "id": "wnO-f26vgec6"
      },
      "outputs": [],
      "source": [
        "\n",
        "\n",
        "e18 <- Estaciones %>% \n",
        "       distinct(Depmun) %>% as.data.frame()\n",
        "\n",
        "all.equal(e18,E18,check.attributes=FALSE)\n",
        "\n",
        "\n"
      ]
    },
    {
      "cell_type": "markdown",
      "metadata": {
        "id": "JTmWXWO-gec6"
      },
      "source": [
        "\n",
        "<p></p><h4> <strong> Ejemplo 19 </strong> </h4>\n",
        "<p style=\"text-align: justify;\"> Conjunto de datos con todos los municipios del país, que incluye una variable que informa el número de \n",
        "estaciones de monitoreo climático con que cuenta cada municipio.</p>\n"
      ]
    },
    {
      "cell_type": "code",
      "execution_count": null,
      "metadata": {
        "id": "S9YiJlVKgec6"
      },
      "outputs": [],
      "source": [
        "\n",
        "\n",
        "Emon <- Estaciones %>% \n",
        "        group_by(Depmun) %>%\n",
        "        summarise(nem=n())\n",
        "\n",
        "e19 <- Municipios %>%\n",
        "       left_join(Emon,by=c(\"Depmun\"=\"Depmun\")) %>%\n",
        "       mutate(nest=case_when(is.na(nem) ~ 0L,TRUE ~ nem)) %>%\n",
        "       select(everything(Municipios),nest) %>%\n",
        "       as.data.frame()\n",
        "\n",
        "all.equal(e19,E19,check.attributes=FALSE)\n",
        "str(e19)\n",
        "\n",
        "\n"
      ]
    },
    {
      "cell_type": "markdown",
      "metadata": {
        "id": "DdmusKchgec6"
      },
      "source": [
        "\n",
        "<p></p><h4> <strong> Ejemplo 20 </strong> </h4>\n",
        "<p style=\"text-align: justify;\"> Existen municipios que no tienen ninguna estación de\n",
        "monitoreo climático? Cuantos? Cuales?</p>\n"
      ]
    },
    {
      "cell_type": "code",
      "execution_count": null,
      "metadata": {
        "id": "PXOuTk6cgec6"
      },
      "outputs": [],
      "source": [
        "\n",
        "\n",
        "e20 <- Municipios %>%\n",
        "       left_join(Emon,by=c(\"Depmun\"=\"Depmun\")) %>%\n",
        "       filter(is.na(nem)) %>% select(everything(Municipios))%>%\n",
        "       arrange(Depmun) %>%\n",
        "       as.data.frame()\n",
        "\n",
        "e20a <- Municipios %>% arrange(Depmun) %>%\n",
        "        filter(!(Depmun %in% with(Estaciones,Depmun))) %>%\n",
        "        as.data.frame()\n",
        "\n",
        "all.equal(e20,e20a,check.attributes=FALSE)\n",
        "all.equal(e20,E20,check.attributes=FALSE)\n",
        "\n",
        "str(e20) \n",
        "head(e20)\n",
        "tail(e20)\n",
        "\n",
        "\n"
      ]
    },
    {
      "cell_type": "markdown",
      "metadata": {
        "id": "Kohoao5mgec6"
      },
      "source": [
        "\n",
        "<p></p><h4> <strong> Ejemplo 21 </strong> </h4>\n",
        "<p style=\"text-align: justify;\"> Copia de Estaciones que solo considera estaciones de monitoreo localizadas \n",
        "como máximo a 2000 metros de altura sobre el nivel del mar, y que incluye los nombres del municipio y del\n",
        "departamento donde están ubicadas las estaciones.</p>\n"
      ]
    },
    {
      "cell_type": "code",
      "execution_count": null,
      "metadata": {
        "id": "iiJfhDi7gec6"
      },
      "outputs": [],
      "source": [
        "\n",
        "\n",
        "e21 <- Estaciones %>%\n",
        "       inner_join(Municipios,by=c(\"Depmun\"=\"Depmun\")) %>%\n",
        "       filter(ELEV <= 2000) %>%\n",
        "       select(everything(Estaciones),Municipio,Departamento,Dep)%>%\n",
        "       arrange(Depmun,CODIGO) %>%\n",
        "       as.data.frame()\n",
        "\n",
        "e21a <- Estaciones %>%\n",
        "        left_join(Municipios,by=c(\"Depmun\"=\"Depmun\")) %>%\n",
        "        filter(ELEV <= 2000) %>%\n",
        "        select(everything(Estaciones),Municipio,Departamento,Dep) %>%\n",
        "        arrange(Depmun,CODIGO) %>%\n",
        "        as.data.frame()\n",
        "\n",
        "all.equal(e21,e21a,check.attributes=FALSE)\n",
        "all.equal(e21,E21,check.attributes=FALSE)\n",
        "\n",
        "\n"
      ]
    },
    {
      "cell_type": "markdown",
      "source": [
        "## Ejercicios"
      ],
      "metadata": {
        "id": "N0eGrGjKjRjy"
      }
    },
    {
      "cell_type": "markdown",
      "metadata": {
        "id": "S371ObjJgec6"
      },
      "source": [
        "\n",
        "<p></p><h2 style=\"color:red;\"> Ejercicios </h2><p></p><h3 style=\"color:red;\"> Elecciones presidenciales en Estados Unidos</h3><p style=\"text-align: justify;\"> El conjunto de datos <strong>elections.xlsx</strong> consta de 15563 filas y registra el total de votos obtenidos por el candidato del partido demócrata (<em>democrat</em>), por el candidato del partido republicano \n",
        "(<em>republic</em>) y por los demás partidos (<em>other</em>) en las elecciones presidenciales de 2000, 2004, 2008, 2012 y 2016 (<em>year</em>) para todos los condados (<em>codecounty</em>) de los que hay información disponible. El conjunto de datos <strong>counties.xlsx</strong> consta de la siguiente información para los 3234 condados que conforman los EU: identificador (<em>codecounty</em>); nombre (<em>county</em>); identificador del estado al que pertenece (<em>codestate</em>); número de habitantes (<em>population</em>); y superficie, en millas al cuadrado (<em>area</em>). Finalmente, el conjunto de datos <strong>states.xlsx</strong> consta identificador (<em>codestate</em>); nombre (<em>state</em>); y region a la que pertenece (<em>region</em>) cada uno de los 56 estados de EU.</p><ul>\n",
        "<li><p style=\"text-align: justify;\"> Importe los conjuntos de datos.</p></li>\n",
        "<li><p style=\"text-align: justify;\"> Cuantos registros y cuantas variables tienen estos conjuntos de datos? De qué tipo son estas variables?</p></li>\n",
        "<li><p style=\"text-align: justify;\"> Existen valores perdidos en los conjuntos de datos? Cuantos? En qué variables?</p></li>\n",
        "<li><p style=\"text-align: justify;\"> Verifique que <em>codecounty</em> y <em>codestate</em> son en realidad identificadores de los condados y los estados en los conjuntos de datos <strong>counties</strong> y <strong>states</strong>, respectivamente.</p></li>\n",
        "<li><p style=\"text-align: justify;\"> Haga lo siguiente en las variables <em>county</em>, <em>state</em> y <em>region</em>: $(i)$ elimine caracteres especiales; $(ii)$ elimine espacios al inicio y al final; $(iii)$ reemplace espacios múltiples por espacios sencillos; $(iv)$ use letras mayúsculas en la inicial de cada palabra. Tenga en cuenta que los nombres de los condados del estado de Puerto Rico están escritos en español.</p></li>\n",
        "</ul>\n",
        "<p style=\"text-align: justify;\"> <strong> De ahora en adelante responda empleando dos metodologias: la primera basada en la libreria <em>sqldf</em>, y la segunda usando la libreria <em>dplyr</em>. En cada caso use <em>system.time()</em> para identificar cual de las dos formas resulta ser la más rápida.</strong> </p><ul>\n",
        "<li><p style=\"text-align: justify;\"> Cree la variable <em>populationC</em> en el conjunto de datos <em>counties</em> de tal forma que: $(i)$ <em>populationC</em> = \"low\" para el $25\\%$ de los condados con menor número de habitantes en cada estado; $(ii)$ <em>populationC</em> = \"high\" para el $25\\%$ de los condados con mayor número de habitantes en cada estado; y $(iii)$ <em>populationC</em> = \"mid\" para el resto de los condados de cada estado. Para los estados con menos de 3 condados defina <em>populationC</em> como <em>missing</em>.</p></li>\n",
        "<li><p style=\"text-align: justify;\"> Existen dos o más condados con el mismo nombre? Cuantos? Cuales? En qué estados están localizados?\n",
        "Cuales son los tres estados con la mayor densidad poblacional? Cuales son las dos regiones con mayor densidad poblacional?</p></li>\n",
        "<li><p style=\"text-align: justify;\"> En cuales condados el candidato del partido republicano obtuvo mayor votación que el del partido demócrata en las elecciones presidenciales de 2000, 2004, 2008, 2012 y 2016?</p></li>\n",
        "<li><p style=\"text-align: justify;\"> En cuales estados el candidato del partido republicano obtuvo mayor votación que el del partido demócrata en las elecciones presidenciales de 2000 en más del $75\\%$ del total de condados que los componen?</p></li>\n",
        "<li><p style=\"text-align: justify;\"> En cuales condados no se tiene niguna información sobre los\n",
        "resultados de las votaciones presidenciales realizadas en el periodo comprendido entre los años 2000 y 2016?</p></li>\n",
        "<li><p style=\"text-align: justify;\"> En cuales condados solo se tiene información sobre algunas, no todas, las votaciones presidenciales realizadas en el periodo comprendido entre los años 2000 y 2016?</p></li>\n",
        "<li><p style=\"text-align: justify;\"> En qué años el candidato demócrata ganó las elecciones en la parte del país formada por los estados con más de 10 millones de habitantes?</p></li>\n",
        "</ul>\n",
        "<p></p><h3 style=\"color:red;\"> IMDb (Internet Movie Database)</h3><p style=\"text-align: justify;\"> Importe los conjuntos de datos separados por tabulaciones en los archivos\n",
        "<strong>namebasics.rar</strong>, <strong>titlebasics.rar</strong>, <strong>titleprincipals.rar</strong> y <strong>titleratings.rar</strong>. Note que estos conjuntos de datos son subconjuntos de aquellos que se \n",
        "describen en https://www.imdb.com/interfaces/.</p><ul>\n",
        "<li><p style=\"text-align: justify;\"> Cuantas películas realizadas en la década de los 80 tienen títulos que\n",
        "inician y/o terminan con la palabra \"Aliens\"? Cual de ellas tiene la mayor duración? Quien\n",
        "dirigió esta película? Cual es la película mejor calificada de este(a) director(a)? </p></li>\n",
        "<li><p style=\"text-align: justify;\"> Cuantas películas han sido dirigidas por \"Werner Herzog\"? Cual de ellas tiene\n",
        "la mayor calificación? En cuales de ellas participa \"Klaus Kinski\" como actor? Cuales actores/actrices,\n",
        "además de \"Klaus Kinski\", participaron en la película titulada \"Nosferatu the Vampyre\"? </p></li>\n",
        "<li><p style=\"text-align: justify;\"> Cuantas películas han sido dirigidas por \"Martin Scorsese\"? Cual de ellas tiene\n",
        "la mayor duración? En cuales de ellas participan \"Joe Pesci\" y \"Robert De Niro\" como actores? Cuales actores/actrices, \n",
        "además de \"Joe Pesci\" y \"Robert De Niro\", participaron en la película titulada \"Raging Bull\"? </p></li>\n",
        "<li><p style=\"text-align: justify;\"> Cual de las películas realizadas en la década de los 70 tiene la mayor\n",
        "calificación? Quien dirigió esta película? Cual de las películas realizadas en la década de los 90 tiene la mayor\n",
        "calificación? Quienes actuaron en esta película? </p></li>\n",
        "<li><p style=\"text-align: justify;\"> Qué porcentaje de las películas realizadas en la década de los 80 tuvieron\n",
        "calificaciones superiores a 8? Qué porcentaje de las películas realizadas en la década de los 90 tuvieron\n",
        "calificaciones superiores a 8? Qué porcentaje de las películas con calificaciones superiores a 8 fueron\n",
        "realizadas en la década de los 70? Qué porcentaje de las películas con calificaciones superiores a 8 fueron\n",
        "realizadas en la década de los 80? </p></li>\n",
        "</ul>\n",
        "<p></p><h3 style=\"color:red;\"> English Premier League</h3><p style=\"text-align: justify;\"> Los archivos <strong>season-1415.xlsx</strong>, <strong>season-1516.xlsx</strong>, <strong>season-1617.xlsx</strong>, <strong>season-1718.xlsx</strong> y <strong>season-1819.xlsx</strong>\n",
        "contienen información sobre los resultados de las temporadas 14/15, 15/16, 16/17, 17/18 y 18/19, respectivamente, de la primera división del futbol inglés. La posición final de los equipos en la clasificación de cada temporada obedece al número de puntos obtenidos por cada uno de ellos, donde ${\\rm Puntos}=3\\times{\\rm PG}+{\\rm PE}$, en que ${\\rm PG}$ y ${\\rm PE}$ representan, respectivamente, el número de partidos ganados y empatados. Si hay dos o más equipos empatados en puntos el desempate se logra ordenando estos equipos de mayor a menor con respecto al <em>Gol diferencia</em>, dado por ${\\rm GA} - {\\rm GC}$, en que ${\\rm GA}$ y ${\\rm GC}$ representan, respectivamente, el número total de goles a favor y en contra. Responda las siguientes preguntas.</p><p></p><h5> En la temporada 16/17 </h5><ul>\n",
        "<li><p style=\"text-align: justify;\"> Cual fue el equipo en el primer lugar de la clasificación?</p></li>\n",
        "<li><p style=\"text-align: justify;\"> Cuantos puntos obtuvo este equipo?</p></li>\n",
        "<li><p style=\"text-align: justify;\"> Cual fue la diferencia entre el número de goles a favor y en contra de este equipo (<em>Gol diferencia</em>)?</p></li>\n",
        "<li><p style=\"text-align: justify;\"> En qué porcentaje de sus partidos ganó este equipo?</p></li>\n",
        "<li><p style=\"text-align: justify;\"> Qué porcentaje de sus disparos iban a la porteria rival? </p></li>\n",
        "<li><p style=\"text-align: justify;\"> Qué porcentaje de sus partidos terminaron sin que ninguno de sus jugadores fuera expulsado? </p></li>\n",
        "</ul>\n",
        "<p></p><h5> En la temporada 17/18 </h5><ul>\n",
        "<li><p style=\"text-align: justify;\"> Cual fue el equipo en el tercer lugar de la clasificación?</p></li>\n",
        "<li><p style=\"text-align: justify;\"> Cuantos puntos obtuvo este equipo?</p></li>\n",
        "<li><p style=\"text-align: justify;\"> Cual fue la diferencia entre el número de goles a favor y en contra de este equipo (<em>Gol diferencia</em>)?</p></li>\n",
        "<li><p style=\"text-align: justify;\"> En qué porcentaje de sus partidos ganó este equipo?</p></li>\n",
        "<li><p style=\"text-align: justify;\"> Qué porcentaje de sus disparos iban a la porteria rival? </p></li>\n",
        "<li><p style=\"text-align: justify;\"> Qué porcentaje de sus partidos terminaron sin que ninguno de sus jugadores fuera expulsado? </p></li>\n",
        "</ul>\n",
        "<p></p><h5> Parte de la temporada 18/19 que se jugó durante 2018 </h5><ul>\n",
        "<li><p style=\"text-align: justify;\"> Cual fue el equipo en el primer lugar de la clasificación?</p></li>\n",
        "<li><p style=\"text-align: justify;\"> Cuantos puntos obtuvo este equipo?</p></li>\n",
        "<li><p style=\"text-align: justify;\"> Cual fue la diferencia entre el número de goles a favor y en contra de este equipo (<em>Gol diferencia</em>)?</p></li>\n",
        "<li><p style=\"text-align: justify;\"> En qué porcentaje de sus partidos ganó este equipo?</p></li>\n",
        "<li><p style=\"text-align: justify;\"> Qué porcentaje de sus disparos iban a la porteria rival? </p></li>\n",
        "<li><p style=\"text-align: justify;\"> Qué porcentaje de sus partidos terminaron sin que ninguno de sus jugadores fuera expulsado? </p></li>\n",
        "</ul>\n",
        "<p></p><h5> Desde la temporada 14/15 hasta la 18/19 </h5><ul>\n",
        "<li><p style=\"text-align: justify;\"> Cuales equipos se mantuvieron en las primeras 4 posiciones de la clasificación final?</p></li>\n",
        "<li><p style=\"text-align: justify;\"> Cuales equipos se mantuvieron en las primeras 5 posiciones de la clasificación final?</p></li>\n",
        "<li><p style=\"text-align: justify;\"> Cuales equipos se mantuvieron en las primeras 6 posiciones de la clasificación final?</p></li>\n",
        "<li><p style=\"text-align: justify;\"> Cuales equipos descendieron a la segunda división? Tenga en cuenta que los últimos tres equipos en la clasificación de cada temporada descienden a la segunda división.</p></li>\n",
        "</ul>\n"
      ]
    },
    {
      "cell_type": "markdown",
      "source": [
        "# Probabilidad"
      ],
      "metadata": {
        "id": "JdJXO3bcjYD0"
      }
    },
    {
      "cell_type": "markdown",
      "metadata": {
        "id": "95mxnXLegec7"
      },
      "source": [
        "<p></p><h1 style=\"color:red;\"> <strong> <center>Probabilidad</center></strong> </h1>"
      ]
    },
    {
      "cell_type": "markdown",
      "metadata": {
        "id": "AMLqtiRzgec7"
      },
      "source": [
        "<img height=\"900\" src=\"https://r2022.netlify.app/discretas1.png\" width=\"850\"/>\n",
        "<img height=\"900\" src=\"https://r2022.netlify.app/discretas2.png\" width=\"850\"/>"
      ]
    },
    {
      "cell_type": "markdown",
      "metadata": {
        "id": "C0Mgtvu_gec7"
      },
      "source": [
        "\n",
        "<p></p><h4> <strong> Ejemplo 1 </strong> </h4>\n",
        "<p style=\"text-align: justify;\"> Gráfico de la función de probabilidad de una variable aleatoria con distribución de Poisson de media $\\lambda = 2.5$ en el intervalo $[0,8]$.</p>\n"
      ]
    },
    {
      "cell_type": "code",
      "execution_count": null,
      "metadata": {
        "id": "iR_SWO6_gec7"
      },
      "outputs": [],
      "source": [
        "\n",
        "\n",
        "lambda <- 2.5\n",
        "rango <- c(0,8)\n",
        "color <- \"blue\"\n",
        "x <- seq(from=rango[1],to=rango[2],by=1)\n",
        "ps <- dpois(x,lambda=lambda)\n",
        "\n",
        "plot(x,ps,bty=\"o\",type=\"h\",lwd=1,lty=\"solid\",col=color,xlab=\"x\",ylab=bquote(~f[X](x)))\n",
        "points(x,ps,pch=20,cex=2,col=color)\n",
        "title(bquote(~X~\"~ Poisson(\"~lambda==.(lambda)~\")\"),cex=2)\n",
        "labels <- ifelse(ps > 0.02,round(ps,digits=2),\"\")\n",
        "text(x,ps,label=labels,pos=4,cex=1,col=\"black\")\n",
        "\n",
        "\n"
      ]
    },
    {
      "cell_type": "markdown",
      "metadata": {
        "id": "jbgq4zl2gec7"
      },
      "source": [
        "\n",
        "<h5 id=\"Modifique-el-gráfico-variando-colores-y-los-siguientes-parámetros\">Modifique el gráfico variando colores y los siguientes parámetros<a class=\"anchor-link\" href=\"#Modifique-el-gráfico-variando-colores-y-los-siguientes-parámetros\">¶</a></h5><ul>\n",
        "<li><strong><em>bty</em></strong>: \"n\", \"o\", \"l\", \"7\", \"c\", \"u\", \"]\"</li>\n",
        "<li><strong><em>lty</em></strong>: \"solid\", \"dashed\", \"dotted\", \"dotdash\", \"longdash\", \"twodash\"</li>\n",
        "<li><strong><em>lwd</em></strong>, <strong><em>cex</em></strong>: valores positivos</li>\n",
        "<li><strong><em>pos</em></strong>: 1,2,3,4</li>\n",
        "<li><strong><em>lambda</em></strong>: valores positivos</li>\n",
        "<li><strong><em>rango</em></strong>: $(l_{inf},l_{sup})$, en que $0\\leq l_{inf}&lt;l_{sup}$</li>\n",
        "</ul>\n"
      ]
    },
    {
      "cell_type": "markdown",
      "metadata": {
        "id": "iF0MYHZMgec7"
      },
      "source": [
        "\n",
        "<p></p><h4> <strong> Ejemplo 2 </strong> </h4>\n",
        "<p style=\"text-align: justify;\"> Gráfico de la función de distribución acumulada de una variable aleatoria con distribución de Poisson de media $\\lambda = 2.5$ en el intervalo $[0,8]$.</p>\n"
      ]
    },
    {
      "cell_type": "code",
      "execution_count": null,
      "metadata": {
        "id": "N-1AsUK5gec7"
      },
      "outputs": [],
      "source": [
        "\n",
        "\n",
        "lambda <- 2.5\n",
        "rango <- c(0,8)\n",
        "color <- \"blue\"\n",
        "x <- seq(from=rango[1]-1,to=rango[2],by=1)\n",
        "ps <- ppois(x,lambda=lambda)\n",
        "cols <- ifelse(ps==0,\"white\",color)\n",
        "\n",
        "plot(x,ps,pch=21,col=cols,bg=cols,lwd=1,bty=\"o\",xlab=\"x\",ylab=bquote(~F[X](x)),cex=1.2)\n",
        "segments(x,ps,x+1,ps,col=color,lty=1,lwd=1)\n",
        "points(x+1,ps,pch=21,col=color,bg=\"white\",cex=1.2)\n",
        "title(bquote(~X~\"~ Poisson(\"~ lambda==.(lambda)~\")\"),cex=2)\n",
        "labels <- ifelse(ps < 0.99 & ps > 0.01,round(ps,digits=2),\"\")\n",
        "text(x,ps,label=labels,pos=3,cex=0.9,col=\"black\")\n",
        "\n",
        "\n"
      ]
    },
    {
      "cell_type": "markdown",
      "metadata": {
        "id": "oT-Gb4-sgec7"
      },
      "source": [
        "\n",
        "<h5 id=\"Modifique-el-gráfico-variando-colores-y-los-siguientes-parámetros\">Modifique el gráfico variando colores y los siguientes parámetros<a class=\"anchor-link\" href=\"#Modifique-el-gráfico-variando-colores-y-los-siguientes-parámetros\">¶</a></h5><ul>\n",
        "<li><strong><em>bty</em></strong>: \"n\", \"o\", \"l\", \"7\", \"c\", \"u\", \"]\"</li>\n",
        "<li><strong><em>lty</em></strong>: \"solid\", \"dashed\", \"dotted\", \"dotdash\", \"longdash\", \"twodash\"</li>\n",
        "<li><strong><em>lwd</em></strong>, <strong><em>cex</em></strong>: valores positivos</li>\n",
        "<li><strong><em>pos</em></strong>: 1,2,3,4</li>\n",
        "<li><strong><em>lambda</em></strong>: valores positivos</li>\n",
        "<li><strong><em>rango</em></strong>: $(l_{inf},l_{sup})$, en que $0\\leq l_{inf}&lt;l_{sup}$</li>\n",
        "</ul>\n"
      ]
    },
    {
      "cell_type": "markdown",
      "metadata": {
        "id": "FwYzqIQZgec7"
      },
      "source": [
        "<p><img height=\"900\" src=\"https://r2022.netlify.app/continuas1.png\" width=\"850\"/>"
      ]
    },
    {
      "cell_type": "markdown",
      "metadata": {
        "id": "Ixe6D4FBgec7"
      },
      "source": [
        "<img height=\"900\" src=\"https://r2022.netlify.app/continuas2.png\" width=\"850\"/>\n",
        "<img height=\"900\" src=\"https://r2022.netlify.app/continuas3.png\" width=\"850\"/>\n",
        "<img height=\"900\" src=\"https://r2022.netlify.app/continuas4.png\" width=\"850\"/></p>"
      ]
    },
    {
      "cell_type": "markdown",
      "metadata": {
        "id": "_Ntm9Bwngec7"
      },
      "source": [
        "\n",
        "<p></p><h4> <strong> Ejemplo 3 </strong> </h4>\n",
        "<p style=\"text-align: justify;\"> Gráfico que compara las funciones de densidad de la distribución Beta para los siguientes valores de sus parámetros: $(α=1.0,β=9.5)$, $(α=1.5,β=9.0)$, $(α=2.5,β=7.5)$, $(α=5.0,β=5.0)$, $(α=7.5,β=2.5)$, $(α=9.0,β=1.5)$ y $(α=9.5,β=1.0)$.</p>\n"
      ]
    },
    {
      "cell_type": "code",
      "execution_count": null,
      "metadata": {
        "id": "MrFNTEoMgec7"
      },
      "outputs": [],
      "source": [
        "\n",
        "\n",
        "a <- c(1.0, 1.5, 2.5, 5.0, 7.5, 9.0, 9.5)\n",
        "b <- c(9.5, 9.0, 7.5, 5.0, 2.5, 1.5, 1.0)\n",
        "color <- \"black\"\n",
        "rango <- c(0,1)\n",
        "\n",
        "for(i in 1:length(a)){\n",
        "   curve(dbeta(x,shape1=a[i],shape2=b[i]),from=rango[1],to=rango[2],add=i>1,\n",
        "         ylab=bquote(~f[X](x)),bty=\"o\",lty=\"solid\",col=color,lwd=1)\n",
        "   text(locator(1),label=bquote(~\"(\"~alpha==.(a[i])~\",\"~beta==.(b[i])~\")\"),col=\"blue\",cex=1.3)\n",
        "}\n",
        "title(bquote(~\"Densidad Beta para algunas combinaciones de (\"~alpha~\",\"~beta~\")\"),cex=2)\n",
        "\n",
        "\n"
      ]
    },
    {
      "cell_type": "markdown",
      "metadata": {
        "id": "Ll2Afqndgec8"
      },
      "source": [
        "\n",
        "<h5 id=\"Modifique-el-gráfico-variando-colores-y-los-siguientes-parámetros\">Modifique el gráfico variando colores y los siguientes parámetros<a class=\"anchor-link\" href=\"#Modifique-el-gráfico-variando-colores-y-los-siguientes-parámetros\">¶</a></h5><ul>\n",
        "<li><strong><em>bty</em></strong>: \"n\", \"o\", \"l\", \"7\", \"c\", \"u\", \"]\"</li>\n",
        "<li><strong><em>lty</em></strong>: \"solid\", \"dashed\", \"dotted\", \"dotdash\", \"longdash\", \"twodash\"</li>\n",
        "<li><strong><em>lwd</em></strong>, <strong><em>cex</em></strong>: valores positivos</li>\n",
        "<li><strong><em>rango</em></strong>: $(l_{inf},l_{sup})$, en que $0\\leq l_{inf}&lt;l_{sup}\\leq 1$</li>\n",
        "<li>Cambie <strong><em>lty</em></strong>=\"solid\" por <strong><em>lty</em></strong>=i </li>\n",
        "<li>Cambie <strong><em>col</em></strong>=color por <strong><em>col</em></strong>=i</li>\n",
        "<li>Cambie <strong><em>lwd</em></strong>=1 por <strong><em>lwd</em></strong>=i</li>\n",
        "<li>Cambie dbeta() por pbeta()</li>\n",
        "</ul>\n"
      ]
    },
    {
      "cell_type": "markdown",
      "metadata": {
        "id": "xpflZZXdgec8"
      },
      "source": [
        "\n",
        "<p></p><h4> <strong> Ejemplo 4 </strong> </h4>\n",
        "<p style=\"text-align: justify;\"> Gráfico que compara las funciones de densidad de la distribución Gama para los siguientes valores de sus parámetros: $(α=1.0,β=0.8)$, $(α=1.25,β=0.6)$, $(α=3.0,β=1.0)$, $(α=10,β=2.5)$, $(α=25,β=5.5)$ y $(α=100,β=20)$.</p>\n"
      ]
    },
    {
      "cell_type": "code",
      "execution_count": null,
      "metadata": {
        "id": "x4X0f79Vgec8"
      },
      "outputs": [],
      "source": [
        "\n",
        "\n",
        "a <- c(1.0, 1.25, 3.0, 10, 25, 100)\n",
        "b <- c(0.8, 0.6 , 1.0, 2.5, 5.5, 20)\n",
        "color <- \"black\"\n",
        "rango <- c(0,8)\n",
        "\n",
        "for(i in 1:length(a)){\n",
        "   curve(dgamma(x,shape=a[i],rate=b[i]),from=rango[1],to=rango[2],add=i>1,\n",
        "         ylab=bquote(~f[X](x)),bty=\"o\",lty=\"solid\",col=color,lwd=1)\n",
        "   text(locator(1),label=bquote(~\"(\"~alpha==.(a[i])~\",\"~beta==.(b[i])~\")\"),col=\"blue\",cex=1)\n",
        "}\n",
        "title(bquote(~\"Densidad Gama para algunas combinaciones de (\"~alpha~\",\"~beta~\")\"),cex=2)\n",
        "\n",
        "\n"
      ]
    },
    {
      "cell_type": "markdown",
      "metadata": {
        "id": "X-WKWpnagec8"
      },
      "source": [
        "\n",
        "<h5 id=\"Modifique-el-gráfico-variando-colores-y-los-siguientes-parámetros\">Modifique el gráfico variando colores y los siguientes parámetros<a class=\"anchor-link\" href=\"#Modifique-el-gráfico-variando-colores-y-los-siguientes-parámetros\">¶</a></h5><ul>\n",
        "<li><strong><em>bty</em></strong>: \"n\", \"o\", \"l\", \"7\", \"c\", \"u\", \"]\"</li>\n",
        "<li><strong><em>lty</em></strong>: \"solid\", \"dashed\", \"dotted\", \"dotdash\", \"longdash\", \"twodash\"</li>\n",
        "<li><strong><em>lwd</em></strong>, <strong><em>cex</em></strong>: valores positivos</li>\n",
        "<li><strong><em>rango</em></strong>: $(l_{inf},l_{sup})$, en que $0 \\leq l_{inf}&lt;l_{sup}\\leq 1$</li>\n",
        "<li>Cambie <strong><em>lty</em></strong>=\"solid\" por <strong><em>lty</em></strong>=i </li>\n",
        "<li>Cambie <strong><em>col</em></strong>=color por <strong><em>col</em></strong>=i</li>\n",
        "<li>Cambie <strong><em>lwd</em></strong>=1 por <strong><em>lwd</em></strong>=i</li>\n",
        "<li>Cambie dgamma() por pgamma()</li>\n",
        "</ul>\n"
      ]
    },
    {
      "cell_type": "markdown",
      "metadata": {
        "id": "O1b5917igec8"
      },
      "source": [
        "\n",
        "<p></p><h4> <strong> Ejemplo 5 </strong> </h4>\n",
        "<p style=\"text-align: justify;\"> Gráfico de la función de densidad conjunta de las variables aleatorias independientes $X$ y $Y$ tales que $f_{X}(x)=\\phi\\!\\left(\\dfrac{2}{\\nu_1}\\,{\\rm sinh}(x)\\right)\\dfrac{2}{\\nu_1}\\,{\\rm cosh}(x)$ y $f_{Y}(y)=\\phi\\!\\left(\\dfrac{2}{\\nu_2}\\,{\\rm sinh}(y)\\right)\\dfrac{2}{\\nu_2}\\,{\\rm cosh}(y)$, en que $\\phi(\\cdot)$ representa la función de densidad de la distribución normal estándar, $\\nu_1&gt;0$ y $\\nu_2&gt;0$.</p>\n"
      ]
    },
    {
      "cell_type": "code",
      "execution_count": null,
      "metadata": {
        "id": "3Qtmarv9gec8"
      },
      "outputs": [],
      "source": [
        "\n",
        "\n",
        "sinhnx <- function(x) dnorm((2/v1)*sinh(x))*(2/v1)*cosh(x)\n",
        "sinhny <- function(y) dnorm((2/v2)*sinh(y))*(2/v2)*cosh(y)\n",
        "fxy <- function(x,y) sinhnx(x)*sinhny(y)\n",
        "x <- seq(from=-3,to=3,length=50)\n",
        "v1 <- 7\n",
        "v2 <- 7\n",
        "z <- outer(X=x,Y=x,FUN=fxy)\n",
        "\n",
        "persp(x,x,z,theta=-30,phi=30,expand=0.5,box=TRUE,col=\"lightblue\",xlab=\"x1\",ylab=\"x2\",\n",
        "      zlab=\" \",main=\"Densidad conjunta\",ticktype=\"detailed\")\n",
        "\n",
        "\n"
      ]
    },
    {
      "cell_type": "markdown",
      "metadata": {
        "id": "Cw_Xu_gcgec8"
      },
      "source": [
        "\n",
        "<h5 id=\"Modifique-el-gráfico-variando-colores-y-los-siguientes-parámetros\">Modifique el gráfico variando colores y los siguientes parámetros<a class=\"anchor-link\" href=\"#Modifique-el-gráfico-variando-colores-y-los-siguientes-parámetros\">¶</a></h5><ul>\n",
        "<li><strong><em>theta</em></strong>, <strong><em>phi</em></strong>: números reales</li>\n",
        "<li><strong><em>expand</em></strong>, <strong><em>v</em></strong>: valores positivos</li>\n",
        "<li><strong><em>box</em></strong>: TRUE, FALSE</li>\n",
        "<li><strong><em>ticktype</em></strong>: \"simple\", \"detailed\"</li>\n",
        "</ul>\n"
      ]
    },
    {
      "cell_type": "markdown",
      "metadata": {
        "id": "hvboa4S_gec8"
      },
      "source": [
        "\n",
        "<p>La libreria <strong><em>gamlss.dist</em></strong> incluye gran variedad de distribuciones discretas, continuas y mixtas, entre las que se cuentan las siguientes:</p>\n",
        "<ul>\n",
        "<li>Beta-Binomial </li>\n",
        "<li>Poisson generalizada</li>\n",
        "<li>Binomial Negativa I</li>\n",
        "<li>Binomial Negativa II</li>\n",
        "<li>Poisson - Normal Inversa</li>\n",
        "<li>Sichel</li>\n",
        "<li>Generalized gamma</li>\n",
        "<li>Power exponential</li>\n",
        "<li>Box–Cox normal</li>\n",
        "<li>Box–Cox $t$</li>\n",
        "<li>Box–Cox power exponential</li>\n",
        "<li>Beta inflacionada de ceros y/o unos</li>\n",
        "</ul>\n"
      ]
    },
    {
      "cell_type": "code",
      "execution_count": null,
      "metadata": {
        "id": "0LWtDhE-gec8"
      },
      "outputs": [],
      "source": [
        "\n",
        "\n",
        "install.packages(\"gamlss\")\n",
        "library(gamlss)\n",
        "help(gamlss.family)\n",
        "\n",
        "\n"
      ]
    },
    {
      "cell_type": "code",
      "execution_count": null,
      "metadata": {
        "id": "FVYZNgNKgec9"
      },
      "outputs": [],
      "source": [
        "\n",
        "\n",
        "pdf.plot(family=NBI, min=0, max=10, mu=5, sigma=c(0.5,0.8,1.2,1.5), \n",
        "         col=\"blue\", col.lab=\"red\", col.axis=\"black\")\n",
        "\n",
        "\n"
      ]
    },
    {
      "cell_type": "code",
      "execution_count": null,
      "metadata": {
        "id": "bHVdZlAqgec9"
      },
      "outputs": [],
      "source": [
        "\n",
        "\n",
        "pdf.plot(family=GA, min=0.01, max=3.0, mu=1, sigma=c(0.3,0.5,0.7,0.9), \n",
        "         col=\"blue\", col.lab=\"red\", col.axis=\"black\")\n",
        "\n",
        "\n"
      ]
    },
    {
      "cell_type": "markdown",
      "source": [
        "# Visualización de datos"
      ],
      "metadata": {
        "id": "F9QXCGlPjqrT"
      }
    },
    {
      "cell_type": "markdown",
      "source": [
        "## Libreria    ggplot2"
      ],
      "metadata": {
        "id": "eeolahQnjuBy"
      }
    },
    {
      "cell_type": "markdown",
      "metadata": {
        "id": "OhNjRxPagec9"
      },
      "source": [
        "\n",
        "<p></p><h1 style=\"color:red;\"> <strong> <center>Visualización de datos </center></strong> </h1>\n",
        "<h2 style=\"color:blue;\"> <strong> <center>Libreria    ggplot2 </center></strong> </h2>\n"
      ]
    },
    {
      "cell_type": "code",
      "execution_count": null,
      "metadata": {
        "id": "f-GSAHHogec9"
      },
      "outputs": [],
      "source": [
        "\n",
        "\n",
        "install.packages(\"ggplot2\")\n",
        "library(ggplot2)\n",
        "help(ggplot2)\n",
        "\n",
        "\n"
      ]
    },
    {
      "cell_type": "code",
      "execution_count": null,
      "metadata": {
        "id": "KPYhkay0gec9"
      },
      "outputs": [],
      "source": [
        "\n",
        "\n",
        "advertising <- read_excel(\"Advertising.xlsx\")\n",
        "str(advertising)\n",
        "\n",
        "\n"
      ]
    },
    {
      "cell_type": "markdown",
      "metadata": {
        "id": "V_k6IEtOgec9"
      },
      "source": [
        "\n",
        "<p></p><h4> <strong> Ejemplo 1 </strong> </h4>\n",
        "<p style=\"text-align: justify;\"> Gráfico de dispersión de las ventas del producto (<em>sales</em>) versus la inversión en publicidad en televisión para el mismo (<em>TV</em>). Estos datos se obtuvieron de <em> Witten, Hastie, Tibshirani y James (2013). An Introduction to Statistical Learning: With Applications in R. Springer.</em></p>\n"
      ]
    },
    {
      "cell_type": "code",
      "execution_count": null,
      "metadata": {
        "id": "QGpZ7faegec9"
      },
      "outputs": [],
      "source": [
        "\n",
        "\n",
        "ggplot(advertising,aes(x=TV,y=sales)) +\n",
        "geom_point() +\n",
        "labs(title=\"Ventas versus inversión en publicidad en TV\",x=\"Publicidad en TV\",y=\"Ventas\") +\n",
        "theme_gray()\n",
        "\n",
        "\n"
      ]
    },
    {
      "cell_type": "markdown",
      "metadata": {
        "id": "fcnZkLtpgec9"
      },
      "source": [
        "\n",
        "<h5 id=\"Modifique-el-gráfico-variando-los-siguientes-parámetros\">Modifique el gráfico variando los siguientes parámetros<a class=\"anchor-link\" href=\"#Modifique-el-gráfico-variando-los-siguientes-parámetros\">¶</a></h5><ul>\n",
        "<li><strong><em>theme</em></strong>: theme_gray(), theme_linedraw(), theme_light(), theme_minimal(),\n",
        "theme_classic(), theme_void()</li>\n",
        "</ul>\n"
      ]
    },
    {
      "cell_type": "markdown",
      "metadata": {
        "id": "fZ4Zgu4pgec9"
      },
      "source": [
        "\n",
        "<p></p><h4> <strong> Ejemplo 2 </strong> </h4>\n",
        "<p style=\"text-align: justify;\"> Gráfico de dispersión <strong> personalizado </strong> de las ventas del producto (<em>sales</em>) versus la inversión en publicidad en televisión para el mismo (<em>TV</em>).</p>\n"
      ]
    },
    {
      "cell_type": "code",
      "execution_count": null,
      "metadata": {
        "id": "YJn5AQzIgec9"
      },
      "outputs": [],
      "source": [
        "\n",
        "\n",
        "ggplot(advertising,aes(x=TV,y=sales)) +\n",
        "geom_point(color=\"red\",shape=16,size=3.5) +\n",
        "labs(title=\"Ventas versus inversión en publicidad en TV\",x=\"Publicidad en TV\",y=\"Ventas\") +\n",
        "scale_x_continuous(breaks=seq(from=0,to=300,by=50)) +\n",
        "scale_y_continuous(breaks=seq(from=0,to=30,by=5)) +\n",
        "theme(\n",
        "  plot.title=element_text(family=\"sans\",face=\"bold\",size=20,vjust=0.5,hjust=0.5,\n",
        "                          color=\"black\",angle=0),\n",
        "  axis.title.x=element_text(family=\"sans\",face=\"bold\",size=18,vjust=0.5,hjust=0.5,\n",
        "                            color=\"blue\",angle=0),\n",
        "  axis.title.y=element_text(family=\"sans\",face=\"bold\",size=18,vjust=0.5,hjust=0.5,\n",
        "                            color=\"blue\",angle=0),\n",
        "  axis.text.x=element_text(family=\"mono\",face=\"bold\",size=14,vjust=0.5,hjust=0.5,\n",
        "                           color=\"black\",angle=0),\n",
        "  axis.text.y=element_text(family=\"mono\",face=\"bold\",size=14,vjust=0.5,hjust=0.5,\n",
        "                           color=\"black\",angle=0),\n",
        "  panel.background=element_rect(fill=\"gray92\"),\n",
        "  panel.grid.major=element_line(color=\"white\",size=1),\n",
        "  panel.grid.minor=element_line(color=\"white\",size=0.5)\n",
        "     )\n",
        "\n",
        "\n"
      ]
    },
    {
      "cell_type": "markdown",
      "metadata": {
        "id": "i95RwCh6gec-"
      },
      "source": [
        "\n",
        "<h5 id=\"Modifique-el-gráfico-variando-colores-y-los-siguientes-parámetros\">Modifique el gráfico variando colores y los siguientes parámetros<a class=\"anchor-link\" href=\"#Modifique-el-gráfico-variando-colores-y-los-siguientes-parámetros\">¶</a></h5><ul>\n",
        "<li><strong><em>shape</em></strong>: entero en el intervalo $[0,25]$</li>\n",
        "<li><strong><em>size</em></strong>: números no negativos</li>\n",
        "<li><strong><em>hjust</em></strong>, <strong><em>vjust</em></strong>: valores en el intervalo $[0,1]$</li>\n",
        "<li><strong><em>face</em></strong>: \"plain\", \"bold\", \"italic\", \"bold.italic\"</li>\n",
        "<li><strong><em>family</em></strong>: \"mono\", \"serif\", \"sans\"</li>\n",
        "<li><strong><em>angle</em></strong>: número en el intervalo $[0,360]$</li>\n",
        "</ul>\n"
      ]
    },
    {
      "cell_type": "markdown",
      "metadata": {
        "id": "lUATV4LLgec-"
      },
      "source": [
        "\n",
        "<p></p><h4> <strong> Ejemplo 3 </strong> </h4>\n",
        "<p style=\"text-align: justify;\"> Creación de un tema <strong> personalizado </strong>.</p>\n"
      ]
    },
    {
      "cell_type": "code",
      "execution_count": null,
      "metadata": {
        "id": "uoxu-XqTgec-"
      },
      "outputs": [],
      "source": [
        "\n",
        "\n",
        "mitema <- \n",
        "theme(\n",
        "  plot.title=element_text(family=\"sans\",face=\"bold\",size=20,vjust=0.5,hjust=0.5,\n",
        "                          color=\"black\",angle=0),\n",
        "  axis.title.x=element_text(family=\"sans\",face=\"bold\",size=18,vjust=0.5,hjust=0.5,\n",
        "                            color=\"blue\",angle=0),\n",
        "  axis.title.y=element_text(family=\"sans\",face=\"bold\",size=18,vjust=0.5,hjust=0.5,\n",
        "                            color=\"blue\",angle=90),\n",
        "  axis.text.x=element_text(family=\"mono\",face=\"bold\",size=14,vjust=0.5,hjust=0.5,\n",
        "                           color=\"black\",angle=0),\n",
        "  axis.text.y=element_text(family=\"mono\",face=\"bold\",size=14,vjust=0.5,hjust=0.5,\n",
        "                           color=\"black\",angle=0),\n",
        "  panel.background=element_rect(fill=\"gray92\"),\n",
        "  panel.grid.major=element_line(color=\"white\",size=1),\n",
        "  panel.grid.minor=element_line(color=\"white\",size=0.5)\n",
        "     )\n",
        "\n",
        "\n"
      ]
    },
    {
      "cell_type": "markdown",
      "metadata": {
        "id": "knXtvTpegec-"
      },
      "source": [
        "\n",
        "<h5 id=\"Modifique-el-tema-variando-colores-y-los-siguientes-parámetros\">Modifique el tema variando colores y los siguientes parámetros<a class=\"anchor-link\" href=\"#Modifique-el-tema-variando-colores-y-los-siguientes-parámetros\">¶</a></h5><ul>\n",
        "<li><strong><em>shape</em></strong>: entero en el intervalo $[0,25]$</li>\n",
        "<li><strong><em>size</em></strong>: números no negativos</li>\n",
        "<li><strong><em>hjust</em></strong>, <strong><em>vjust</em></strong>: valores en el intervalo $[0,1]$</li>\n",
        "<li><strong><em>face</em></strong>: \"plain\", \"bold\", \"italic\", \"bold.italic\"</li>\n",
        "<li><strong><em>family</em></strong>: \"mono\", \"serif\", \"sans\"</li>\n",
        "<li><strong><em>angle</em></strong>: número en el intervalo $[0,360]$</li>\n",
        "</ul>\n"
      ]
    },
    {
      "cell_type": "markdown",
      "metadata": {
        "id": "r0f_O1_dgec-"
      },
      "source": [
        "\n",
        "<p></p><h4> <strong> Ejemplo 4 </strong> </h4>\n",
        "<p style=\"text-align: justify;\"> Gráfico de dispersión de las ventas del producto (<em>sales</em>) versus la inversión en publicidad en televisión para el mismo (<em>TV</em>), el cual incluye una curva de tendencia obtenida usando regresión polinómica.</p>\n"
      ]
    },
    {
      "cell_type": "code",
      "execution_count": null,
      "metadata": {
        "id": "UFgDfSvsgec-"
      },
      "outputs": [],
      "source": [
        "\n",
        "\n",
        "ggplot(advertising,aes(x=TV,y=sales)) +\n",
        "geom_point(color=\"red\",shape=16,size=3.5) +\n",
        "geom_smooth(method=\"lm\",formula=y ~ poly(x,degree=4),se=FALSE,size=1,\n",
        "            linetype=\"solid\",color=\"black\") + \n",
        "labs(title=\"Ventas versus inversión en publicidad en TV\",x=\"Publicidad en TV\",y=\"Ventas\") + \n",
        "scale_x_continuous(breaks=seq(from=0,to=300,by=50)) +\n",
        "scale_y_continuous(breaks=seq(from=0,to=30,by=5)) + mitema\n",
        "\n",
        "\n"
      ]
    },
    {
      "cell_type": "markdown",
      "metadata": {
        "id": "JnEdKTrqgec-"
      },
      "source": [
        "\n",
        "<h5 id=\"Modifique-el-gráfico-variando-colores-y-los-siguientes-parámetros\">Modifique el gráfico variando colores y los siguientes parámetros<a class=\"anchor-link\" href=\"#Modifique-el-gráfico-variando-colores-y-los-siguientes-parámetros\">¶</a></h5><ul>\n",
        "<li><strong><em>shape</em></strong>: entero en el intervalo $[0,25]$</li>\n",
        "<li><strong><em>size</em></strong>: números no negativos</li>\n",
        "<li><strong><em>linetype</em></strong>: \"solid\", \"dashed\", \"dotted\", \"dotdash\", \"longdash\", \"twodash\"</li>\n",
        "<li><strong><em>degree</em></strong>: entero positivo</li>\n",
        "<li><strong><em>se</em></strong>: TRUE, FALSE</li>\n",
        "</ul>\n"
      ]
    },
    {
      "cell_type": "markdown",
      "metadata": {
        "id": "D7IYADpTgec-"
      },
      "source": [
        "\n",
        "<p></p><h4> <strong> Ejemplo 5 </strong> </h4>\n",
        "<p style=\"text-align: justify;\"> Gráfico de dispersión de las ventas del producto (<em>sales</em>) versus la inversión en publicidad en televisión para el mismo (<em>TV</em>), el cual incluye una curva de tendencia obtenida usando regresión no paramétrica.</p>\n"
      ]
    },
    {
      "cell_type": "code",
      "execution_count": null,
      "metadata": {
        "id": "IXFZJlMMgec-"
      },
      "outputs": [],
      "source": [
        "\n",
        "\n",
        "ggplot(advertising,aes(x=TV,y=sales)) +\n",
        "geom_point(color=\"red\",shape=16,size=3.5) +\n",
        "geom_smooth(method=\"gam\",formula=y ~ s(x,bs=\"cr\"),se=FALSE,size=1,\n",
        "            linetype=\"solid\",color=\"black\") + \n",
        "scale_x_continuous(breaks=seq(from=0,to=300,by=50)) +\n",
        "scale_y_continuous(breaks=seq(from=0,to=30,by=5)) +\n",
        "labs(title=\"Ventas versus inversión en publicidad en TV\",x=\"Publicidad en TV\",y=\"Ventas\") + mitema\n",
        "\n",
        "\n"
      ]
    },
    {
      "cell_type": "markdown",
      "metadata": {
        "id": "QxSwxH4wgec-"
      },
      "source": [
        "\n",
        "<h5 id=\"Modifique-el-gráfico-variando-colores-y-los-siguientes-parámetros\">Modifique el gráfico variando colores y los siguientes parámetros<a class=\"anchor-link\" href=\"#Modifique-el-gráfico-variando-colores-y-los-siguientes-parámetros\">¶</a></h5><ul>\n",
        "<li><strong><em>shape</em></strong>: entero en el intervalo $[0,25]$</li>\n",
        "<li><strong><em>size</em></strong>: números no negativos</li>\n",
        "<li><strong><em>linetype</em></strong>: \"solid\", \"dashed\", \"dotted\", \"dotdash\", \"longdash\", \"twodash\"</li>\n",
        "<li><strong><em>bs</em></strong>: \"cr\" (cubic regression splines), \"ps\" (P-splines), \"tp\" (thin plate regression splines)</li>\n",
        "<li><strong><em>se</em></strong>: TRUE, FALSE</li>\n",
        "</ul>\n"
      ]
    },
    {
      "cell_type": "markdown",
      "metadata": {
        "id": "4eqk8PTagec_"
      },
      "source": [
        "\n",
        "<p></p><h4> <strong> Ejemplo 6 </strong> </h4>\n",
        "<p style=\"text-align: justify;\"> Gráfico de dispersión de las ventas del producto (<em>sales</em>) versus la inversión en publicidad en televisión para el mismo (<em>TV</em>). El tamaño del marcador depende de la inversión en publicidad en radio.</p>\n"
      ]
    },
    {
      "cell_type": "code",
      "execution_count": null,
      "metadata": {
        "id": "1vdIS0VBgec_"
      },
      "outputs": [],
      "source": [
        "\n",
        "\n",
        "ggplot(advertising,aes(x=TV,y=sales,size=radio)) +\n",
        "geom_point(color=\"red\",shape=16) +\n",
        "labs(title=\"Ventas versus inversión en publicidad para TV\",x=\"Publicidad para TV\",\n",
        "     y=\"Ventas\",size=\"Publicidad\\n en radio\") +\n",
        "scale_x_continuous(breaks=seq(from=0,to=300,by=50)) +\n",
        "scale_y_continuous(breaks=seq(from=0,to=30,by=5)) +\n",
        "scale_size(range=c(0,5)) + mitema +\n",
        "theme(legend.position=\"right\",\n",
        "      legend.title=element_text(face=\"bold\",size=15,hjust=0.5,vjust=0.5,\n",
        "                                color=\"black\",angle=0),\n",
        "      legend.text=element_text(face=\"plain\",size=13,hjust=0.0,vjust=0.5,\n",
        "                               color=\"black\",angle=0),\n",
        "      legend.direction=\"vertical\"\n",
        "     )\n",
        "\n",
        "\n"
      ]
    },
    {
      "cell_type": "markdown",
      "metadata": {
        "id": "jUsR-nj8gec_"
      },
      "source": [
        "\n",
        "<h5 id=\"Modifique-el-gráfico-variando-colores-y-los-siguientes-parámetros\">Modifique el gráfico variando colores y los siguientes parámetros<a class=\"anchor-link\" href=\"#Modifique-el-gráfico-variando-colores-y-los-siguientes-parámetros\">¶</a></h5><ul>\n",
        "<li><strong><em>shape</em></strong>: entero en el intervalo $[0,25]$</li>\n",
        "<li><strong><em>hjust</em></strong>, <strong><em>vjust</em></strong>: valores en el intervalo $[0,1]$</li>\n",
        "<li><strong><em>family</em></strong>: \"mono\", \"serif\", \"sans\"</li>\n",
        "<li><strong><em>face</em></strong>: \"plain\", \"bold\", \"italic\", \"bold.italic\"</li>\n",
        "<li><strong><em>angle</em></strong>: número en el intervalo $[0,360]$</li>\n",
        "<li><strong><em>legend.position</em></strong>: \"none\", \"left\", \"right\", \"bottom\", \"top\"</li>\n",
        "<li><strong><em>legend.direction</em></strong>: \"horizontal\", \"vertical\"</li>\n",
        "</ul>\n"
      ]
    },
    {
      "cell_type": "markdown",
      "metadata": {
        "id": "2GZTS7wcgec_"
      },
      "source": [
        "\n",
        "<p></p><h4> <strong> Ejemplo 7 </strong> </h4>\n",
        "<p style=\"text-align: justify;\"> Actualización del tema <strong> personalizado </strong>.</p>\n"
      ]
    },
    {
      "cell_type": "code",
      "execution_count": null,
      "metadata": {
        "id": "QWLXRcWugec_"
      },
      "outputs": [],
      "source": [
        "\n",
        "\n",
        "mitema <- mitema + \n",
        "theme(legend.position=\"right\",\n",
        "      legend.title=element_text(family=\"sans\",face=\"bold\",size=15,hjust=0.5,vjust=0.5,\n",
        "                                color=\"black\",angle=0),\n",
        "      legend.text=element_text(family=\"sans\",face=\"plain\",size=13,hjust=0.0,vjust=0.5,\n",
        "                               color=\"black\",angle=0),\n",
        "      legend.direction=\"vertical\"\n",
        "     )\n",
        "\n",
        "\n"
      ]
    },
    {
      "cell_type": "markdown",
      "metadata": {
        "id": "J57IIE-Agec_"
      },
      "source": [
        "\n",
        "<h5 id=\"Modifique-el-gráfico-variando-colores-y-los-siguientes-parámetros\">Modifique el gráfico variando colores y los siguientes parámetros<a class=\"anchor-link\" href=\"#Modifique-el-gráfico-variando-colores-y-los-siguientes-parámetros\">¶</a></h5><ul>\n",
        "<li><strong><em>hjust</em></strong>, <strong><em>vjust</em></strong>: valores en el intervalo $[0,1]$</li>\n",
        "<li><strong><em>family</em></strong>: \"mono\", \"serif\", \"sans\"</li>\n",
        "<li><strong><em>face</em></strong>: \"plain\", \"bold\", \"italic\", \"bold.italic\"</li>\n",
        "<li><strong><em>angle</em></strong>: número en el intervalo $[0,360]$</li>\n",
        "<li><strong><em>legend.position</em></strong>: \"none\", \"left\", \"right\", \"bottom\", \"top\"</li>\n",
        "<li><strong><em>legend.direction</em></strong>: \"horizontal\", \"vertical\"</li>\n",
        "</ul>\n"
      ]
    },
    {
      "cell_type": "markdown",
      "metadata": {
        "id": "V0DrrbgZgec_"
      },
      "source": [
        "\n",
        "<p></p><h4> <strong> Ejemplo 8 </strong> </h4>\n",
        "<p style=\"text-align: justify;\"> Gráfico de dispersión de las ventas del producto (<em>sales</em>) versus la inversión en publicidad en televisión para el mismo (<em>TV</em>). El color del marcador depende de la inversión en publicidad en radio.</p>\n"
      ]
    },
    {
      "cell_type": "code",
      "execution_count": null,
      "metadata": {
        "id": "F5aczWwdgec_"
      },
      "outputs": [],
      "source": [
        "\n",
        "\n",
        "ggplot(advertising,aes(x=TV,y=sales,color=radio)) +\n",
        "geom_point(size=4,shape=16) +\n",
        "scale_x_continuous(breaks=seq(from=0,to=300,by=50)) +\n",
        "scale_y_continuous(breaks=seq(from=0,to=30,by=5)) +\n",
        "labs(title=\"Ventas versus inversión en publicidad para TV\",x=\"Publicidad para TV\",\n",
        "     y=\"Ventas\",color=\"Publicidad\\n en radio\") +\n",
        "scale_color_gradient(low=\"blue\",high=\"red\",breaks=seq(0,50,10)) + mitema\n",
        "\n",
        "\n"
      ]
    },
    {
      "cell_type": "markdown",
      "metadata": {
        "id": "a0XqHiOlgec_"
      },
      "source": [
        "\n",
        "<h5 id=\"Modifique-el-gráfico-variando-colores-y-los-siguientes-parámetros\">Modifique el gráfico variando colores y los siguientes parámetros<a class=\"anchor-link\" href=\"#Modifique-el-gráfico-variando-colores-y-los-siguientes-parámetros\">¶</a></h5><ul>\n",
        "<li><strong><em>shape</em></strong>: entero en el intervalo $[0,25]$</li>\n",
        "</ul>\n"
      ]
    },
    {
      "cell_type": "markdown",
      "metadata": {
        "id": "shvAncsrgec_"
      },
      "source": [
        "\n",
        "<p></p><h4> <strong> Ejemplo 9 </strong> </h4>\n",
        "<p style=\"text-align: justify;\"> Gráfico de dispersión de las ventas del producto (<em>sales</em>) versus la inversión en publicidad en televisión para el mismo (<em>TV</em>). Se usan colores y marcadores diferentes dependiendo de la inversión en publicidad en radio. </p>\n"
      ]
    },
    {
      "cell_type": "code",
      "execution_count": null,
      "metadata": {
        "id": "ZAchzDopgec_"
      },
      "outputs": [],
      "source": [
        "\n",
        "\n",
        "help(cut_number)\n",
        "\n",
        "names <- c(\"Baja\",\"Media\",\"Alta\")\n",
        "advertising <- within(advertising,radioC <- cut_number(radio,n=3,labels=names))\n",
        "with(advertising,table(radioC))\n",
        "\n",
        "\n"
      ]
    },
    {
      "cell_type": "code",
      "execution_count": null,
      "metadata": {
        "id": "MSdeuv3sgec_"
      },
      "outputs": [],
      "source": [
        "\n",
        "\n",
        "ggplot(advertising,aes(x=TV,y=sales,color=radioC,shape=radioC)) +\n",
        "geom_point(size=3.5) +\n",
        "labs(title=\"Ventas versus inversión en publicidad para TV\",x=\"Publicidad para TV\",\n",
        "     y=\"Ventas\",color=\"Publicidad\\n en radio\",shape=\"Publicidad\\n en radio\") +\n",
        "scale_x_continuous(breaks=seq(from=0,to=300,by=50)) +\n",
        "scale_y_continuous(breaks=seq(from=0,to=30,by=5)) +\n",
        "scale_color_manual(values=c(\"blue\",\"black\",\"red\")) +\n",
        "scale_shape_manual(values=c(15,16,17)) + mitema\n",
        "\n",
        "\n"
      ]
    },
    {
      "cell_type": "markdown",
      "metadata": {
        "id": "d7K0dWzegedA"
      },
      "source": [
        "\n",
        "<h5 id=\"Modifique-el-gráfico-variando-colores-y-los-siguientes-parámetros\">Modifique el gráfico variando colores y los siguientes parámetros<a class=\"anchor-link\" href=\"#Modifique-el-gráfico-variando-colores-y-los-siguientes-parámetros\">¶</a></h5><ul>\n",
        "<li><strong><em>shape</em></strong>: entero en el intervalo $[0,25]$</li>\n",
        "<li><strong><em>size</em></strong>: números no negativos</li>\n",
        "</ul>\n"
      ]
    },
    {
      "cell_type": "markdown",
      "metadata": {
        "id": "rhBIzwq8gedA"
      },
      "source": [
        "\n",
        "<p></p><h4> <strong> Ejemplo 10 </strong> </h4>\n",
        "<p style=\"text-align: justify;\"> Gráfico de dispersión de las ventas del producto (<em>sales</em>) versus la inversión en publicidad en televisión para el mismo (<em>TV</em>), el cual incluye una curva de tendencia obtenida usando regresión polinómica. Se usan colores y marcadores diferentes dependiendo de la inversión en publicidad en radio. </p>\n"
      ]
    },
    {
      "cell_type": "code",
      "execution_count": null,
      "metadata": {
        "id": "IqPkxBK-gedA"
      },
      "outputs": [],
      "source": [
        "\n",
        "\n",
        "ggplot(advertising,aes(x=TV,y=sales,color=radioC,shape=radioC)) +\n",
        "geom_point(size=3.5) +\n",
        "geom_smooth(method=\"lm\",formula=y ~ poly(x,degree=3),se=FALSE,size=1,linetype=\"solid\") +\n",
        "scale_x_continuous(breaks=seq(from=0,to=300,by=50)) +\n",
        "scale_y_continuous(breaks=seq(from=0,to=30,by=5)) +\n",
        "labs(title=\"Ventas versus inversión en publicidad para TV\",x=\"Publicidad para TV\",\n",
        "     y=\"Ventas\",color=\"Publicidad\\n en radio\",shape=\"Publicidad\\n en radio\") +\n",
        "scale_color_manual(values=c(\"blue\",\"black\",\"red\")) +\n",
        "scale_shape_manual(values=c(15,16,17)) + mitema\n",
        "\n",
        "\n"
      ]
    },
    {
      "cell_type": "markdown",
      "metadata": {
        "id": "cHSOWRu4gedA"
      },
      "source": [
        "\n",
        "<h5 id=\"Modifique-el-gráfico-variando-colores-y-los-siguientes-parámetros\">Modifique el gráfico variando colores y los siguientes parámetros<a class=\"anchor-link\" href=\"#Modifique-el-gráfico-variando-colores-y-los-siguientes-parámetros\">¶</a></h5><ul>\n",
        "<li><strong><em>shape</em></strong>: entero en el intervalo $[0,25]$</li>\n",
        "<li><strong><em>size</em></strong>: números no negativos</li>\n",
        "<li><strong><em>linetype</em></strong>: \"solid\", \"dashed\", \"dotted\", \"dotdash\", \"longdash\", \"twodash\"</li>\n",
        "<li><strong><em>degree</em></strong>: entero positivo</li>\n",
        "<li><strong><em>se</em></strong>: TRUE, FALSE</li>\n",
        "</ul>\n"
      ]
    },
    {
      "cell_type": "markdown",
      "metadata": {
        "id": "ph5xHT5XgedA"
      },
      "source": [
        "\n",
        "<p></p><h4> <strong> Ejemplo 11 </strong> </h4>\n",
        "<p style=\"text-align: justify;\"> Gráfico de dispersión de las ventas del producto (<em>sales</em>) versus la inversión en publicidad en televisión para el mismo (<em>TV</em>), el cual incluye una curva de tendencia obtenida usando regresión no paramétrica. Se usan colores y marcadores diferentes dependiendo de la inversión en publicidad en radio. </p>\n"
      ]
    },
    {
      "cell_type": "code",
      "execution_count": null,
      "metadata": {
        "id": "Rj8By3HrgedA"
      },
      "outputs": [],
      "source": [
        "\n",
        "\n",
        "ggplot(advertising,aes(x=TV,y=sales,color=radioC,shape=radioC)) +\n",
        "geom_point(size=3.5) +\n",
        "geom_smooth(method=\"gam\",formula=y ~ s(x,bs=\"cr\"),se=FALSE,size=1,linetype=\"solid\") + \n",
        "scale_x_continuous(breaks=seq(from=0,to=300,by=50)) +\n",
        "scale_y_continuous(breaks=seq(from=0,to=30,by=5)) +\n",
        "labs(title=\"Ventas versus inversión en publicidad para TV\",x=\"Publicidad para TV\",\n",
        "     y=\"Ventas\",color=\"Publicidad\\n en radio\",shape=\"Publicidad\\n en radio\") +\n",
        "scale_color_manual(values=c(\"blue\",\"black\",\"red\")) +\n",
        "scale_shape_manual(values=c(15,16,17)) + mitema\n",
        "\n",
        "\n"
      ]
    },
    {
      "cell_type": "markdown",
      "metadata": {
        "id": "LLhFyB-QgedA"
      },
      "source": [
        "\n",
        "<h5 id=\"Modifique-el-gráfico-variando-colores-y-los-siguientes-parámetros\">Modifique el gráfico variando colores y los siguientes parámetros<a class=\"anchor-link\" href=\"#Modifique-el-gráfico-variando-colores-y-los-siguientes-parámetros\">¶</a></h5><ul>\n",
        "<li><strong><em>shape</em></strong>: entero en el intervalo $[0,25]$</li>\n",
        "<li><strong><em>size</em></strong>: números no negativos</li>\n",
        "<li><strong><em>linetype</em></strong>: \"solid\", \"dashed\", \"dotted\", \"dotdash\", \"longdash\", \"twodash\"</li>\n",
        "<li><strong><em>bs</em></strong>: \"cr\" (cubic regression splines), \"ps\" (P-splines), \"tp\" (thin plate regression splines)</li>\n",
        "<li><strong><em>se</em></strong>: TRUE, FALSE</li>\n",
        "</ul>\n"
      ]
    },
    {
      "cell_type": "markdown",
      "metadata": {
        "id": "ADi8AApdgedA"
      },
      "source": [
        "\n",
        "<p></p><h4> <strong> Ejemplo 12 </strong> </h4>\n",
        "<p style=\"text-align: justify;\"> Gráfico de dispersión de las ventas del producto (<em>sales</em>) versus la inversión en publicidad en televisión para el mismo (<em>TV</em>), el cual incluye una curva de tendencia obtenida usando regresión polinómica. Se usan colores, marcadores y paneles diferentes dependiendo de la inversión en publicidad en radio. </p>\n"
      ]
    },
    {
      "cell_type": "code",
      "execution_count": null,
      "metadata": {
        "id": "f1VLfsvEgedA"
      },
      "outputs": [],
      "source": [
        "\n",
        "\n",
        "names <- c(\"Baja\",\"Media baja\",\"Media alta\",\"Alta\")\n",
        "advertising <- within(advertising,newspaperC <- cut_number(newspaper,n=4,labels=names))\n",
        "with(advertising,table(newspaperC))\n",
        "\n",
        "\n"
      ]
    },
    {
      "cell_type": "code",
      "execution_count": null,
      "metadata": {
        "id": "SwL991LngedA"
      },
      "outputs": [],
      "source": [
        "\n",
        "\n",
        "ggplot(advertising,aes(x=TV,y=sales,color=radioC)) +\n",
        "geom_point(size=3.5,shape=16) +\n",
        "geom_smooth(method=\"lm\",formula=y ~ poly(x,degree=3),se=FALSE,size=1,linetype=\"solid\") + \n",
        "labs(title=\"Ventas versus inversión en publicidad para TV\",x=\"Publicidad para TV\",\n",
        "     y=\"Ventas\",subtitle=\"Publicidad en periodico\",color=\"Publicidad\\n en radio\") +\n",
        "scale_color_manual(values=c(\"blue\",\"black\",\"red\")) +\n",
        "facet_wrap(vars(newspaperC),ncol=2,nrow=2,strip.position=\"top\",dir=\"h\",scales=\"free\") + mitema + \n",
        "theme(\n",
        "  plot.subtitle=element_text(face=\"bold\",size=16,vjust=0.5,hjust=0.5,color=\"salmon\"),\n",
        "  strip.background=element_rect(color=\"black\",fill=\"gray80\",size=1),\n",
        "  strip.text=element_text(face=\"bold\",size=13,vjust=0.5,hjust=0.5,color=\"black\",angle=0)\n",
        "     )\n",
        "\n",
        "\n"
      ]
    },
    {
      "cell_type": "markdown",
      "metadata": {
        "id": "vilsX3_ogedA"
      },
      "source": [
        "\n",
        "<h5 id=\"Modifique-el-gráfico-variando-colores-y-los-siguientes-parámetros\">Modifique el gráfico variando colores y los siguientes parámetros<a class=\"anchor-link\" href=\"#Modifique-el-gráfico-variando-colores-y-los-siguientes-parámetros\">¶</a></h5><ul>\n",
        "<li><strong><em>shape</em></strong>: entero en el intervalo $[0,25]$</li>\n",
        "<li><strong><em>size</em></strong>: números no negativos</li>\n",
        "<li><strong><em>linetype</em></strong>: \"solid\", \"dashed\", \"dotted\", \"dotdash\", \"longdash\", \"twodash\"</li>\n",
        "<li><strong><em>degree</em></strong>: entero positivo</li>\n",
        "<li><strong><em>se</em></strong>: TRUE, FALSE</li>\n",
        "<li><strong><em>ncol</em></strong>, <strong><em>nrow</em></strong> : enteros positivos               </li>\n",
        "<li><strong><em>size</em></strong> : números no negativos            </li>\n",
        "<li><strong><em>strip.position</em></strong> : \"top\", \"bottom\", \"left\", \"right\"</li>\n",
        "<li><strong><em>dir</em></strong> : \"h\", \"v\"</li>\n",
        "<li><strong><em>scales</em></strong> : \"fixed\", \"free\", \"free_x\", \"free_y\"</li>\n",
        "</ul>\n"
      ]
    },
    {
      "cell_type": "markdown",
      "metadata": {
        "id": "e5f5YToLgedB"
      },
      "source": [
        "\n",
        "<p></p><h4> <strong> Ejemplo 13 </strong> </h4>\n",
        "<p style=\"text-align: justify;\"> Gráfico de caja de las ventas por cada nivel de la inversión en publicidad en televisión con un panel por cada nivel de la inversión en publicidad en radio.</p>\n"
      ]
    },
    {
      "cell_type": "code",
      "execution_count": null,
      "metadata": {
        "id": "ZkrsIfbEgedB"
      },
      "outputs": [],
      "source": [
        "\n",
        "\n",
        "names <- c(\"Baja\",\"Media baja\",\"Media alta\",\"Alta\")\n",
        "names2 <- c(\"Baja\",\"Media\",\"Alta\")\n",
        "advertising <- within(advertising,{\n",
        "                      radioC <- cut_number(radio,n=4,labels=names)\n",
        "                      TVC <- cut_number(TV,n=3,labels=names2)\n",
        "                      })\n",
        "with(advertising,table(radioC))\n",
        "with(advertising,table(TVC))\n",
        "\n",
        "\n"
      ]
    },
    {
      "cell_type": "code",
      "execution_count": null,
      "metadata": {
        "id": "u5IWVNeWgedB"
      },
      "outputs": [],
      "source": [
        "\n",
        "\n",
        "ggplot(advertising,aes(x=TVC,y=sales,fill=TVC)) +\n",
        "geom_boxplot(outlier.shape=NA,color=\"black\",linetype=\"solid\") +\n",
        "scale_y_continuous(breaks=seq(from=0,to=25,by=5),limits=c(5,25)) + \n",
        "scale_fill_manual(values=c(\"red\",\"yellow\",\"blue\")) + \n",
        "labs(subtitle=\"Inversión en publicidad en radio\",\n",
        "     x=\"Inversión en publicidad en TV\", y=\"Ventas\") +\n",
        "facet_wrap(vars(radioC),ncol=4,nrow=1,strip.position=\"top\",dir=\"h\",scales=\"fixed\") +\n",
        "mitema + \n",
        "theme(\n",
        "  legend.position=\"none\",\n",
        "  plot.subtitle=element_text(face=\"bold\",size=18,vjust=0.5,hjust=0.5,color=\"blue\"),\n",
        "  strip.background=element_rect(color=\"black\",fill=\"gray80\",size=1),\n",
        "  strip.text=element_text(face=\"bold\",size=15,vjust=0.5,hjust=0.5,color=\"black\",angle=0)\n",
        "     )\n",
        "\n",
        "\n"
      ]
    },
    {
      "cell_type": "markdown",
      "metadata": {
        "id": "XHLVodIFgedB"
      },
      "source": [
        "\n",
        "<h5 id=\"Modifique-el-gráfico-variando-colores-y-los-siguientes-parámetros\">Modifique el gráfico variando colores y los siguientes parámetros<a class=\"anchor-link\" href=\"#Modifique-el-gráfico-variando-colores-y-los-siguientes-parámetros\">¶</a></h5><ul>\n",
        "<li><strong><em>linetype</em></strong>: \"solid\", \"dashed\", \"dotted\", \"dotdash\", \"longdash\", \"twodash\"</li>\n",
        "<li><strong><em>ncol</em></strong>, <strong><em>nrow</em></strong> : enteros positivos               </li>\n",
        "<li><strong><em>strip.position</em></strong> : \"top\", \"bottom\", \"left\", \"right\"</li>\n",
        "<li><strong><em>dir</em></strong> : \"h\", \"v\"</li>\n",
        "<li><strong><em>scales</em></strong> : \"fixed\", \"free\", \"free_x\", \"free_y\"</li>\n",
        "<li>Reemplace <strong>_geom<em>boxplot()</em></strong> por <strong>_geom<em>violin()</em></strong> </li>\n",
        "</ul>\n"
      ]
    },
    {
      "cell_type": "markdown",
      "metadata": {
        "id": "V86QUt5fgedB"
      },
      "source": [
        "\n",
        "<p></p><h4> <strong> Ejemplo 14 </strong> </h4>\n",
        "<p style=\"text-align: justify;\"> En estos datos, sacados de <em>Diggle P.J., Heagarty P., Liang K.-Y. y Zeger S.L. (2002) Analysis of Longitudinal Data. Oxford University Press, Oxford</em>, el principal objetivo del análisis es evaluar el efecto de la contaminación por ozono en el crecimiento de los árboles. En un primer grupo (<em>treat=1</em>), se cultivaron un total de 54 árboles en una atmósfera enriquecida con ozono, mientras que en un segundo grupo (<em>treat=0</em>), 25 árboles se cultivaron en una atmósfera normal. El tamaño de cada árbol (<em>size</em>) se observó 13 veces a lo largo del tiempo (<em>days</em>), es decir, 152, 174, 201, 227, 258, 469, 496, 528, 556, 579, 613, 639 y 674 días desde el inicio del experimento.</p>\n"
      ]
    },
    {
      "cell_type": "code",
      "execution_count": null,
      "metadata": {
        "id": "eBO5BJfegedB"
      },
      "outputs": [],
      "source": [
        "\n",
        "\n",
        "install.packages(\"readr\")\n",
        "library(readr)\n",
        "spruce <- read_delim(\"spruce.txt\",delim=\"\\t\",col_names=TRUE)\n",
        "spruce <- within(spruce,treat <- factor(treat,labels=c(\"normal\",\"enriquecida\\n con ozono\")))\n",
        "str(spruce)\n",
        "\n",
        "\n"
      ]
    },
    {
      "cell_type": "code",
      "execution_count": null,
      "metadata": {
        "id": "UuY6y9QGgedB"
      },
      "outputs": [],
      "source": [
        "\n",
        "\n",
        "ggplot(spruce,aes(x=factor(days),y=size/1000,fill=treat)) + \n",
        "geom_boxplot(outlier.shape=NA,color=\"black\",linetype=\"solid\") + \n",
        "scale_y_continuous(breaks=seq(from=0,to=150,by=25),limits=c(0,150)) + \n",
        "labs(x=\"Días desde el comienzo del experimento\", y=\"Tamaño\", fill=\"Atmósfera\") + \n",
        "scale_fill_manual(values=c(\"salmon2\",\"green2\")) + \n",
        "mitema + theme(legend.position=\"right\",\n",
        "               legend.text=element_text(size=14,hjust=0),\n",
        "               legend.title=element_text(face=\"bold\",size=15))\n",
        "\n",
        "\n"
      ]
    },
    {
      "cell_type": "markdown",
      "metadata": {
        "id": "5b7Y5zebgedB"
      },
      "source": [
        "\n",
        "<h5 id=\"Modifique-el-gráfico-variando-colores-y-los-siguientes-parámetros\">Modifique el gráfico variando colores y los siguientes parámetros<a class=\"anchor-link\" href=\"#Modifique-el-gráfico-variando-colores-y-los-siguientes-parámetros\">¶</a></h5><ul>\n",
        "<li><strong><em>linetype</em></strong>: \"solid\", \"dashed\", \"dotted\", \"dotdash\", \"longdash\", \"twodash\"</li>\n",
        "<li>Reemplace <strong>_geom<em>boxplot()</em></strong> por <strong>_geom<em>violin()</em></strong> </li>\n",
        "<li>Adicione <strong>+ _coord<em>flip()</em></strong></li>\n",
        "</ul>\n"
      ]
    },
    {
      "cell_type": "markdown",
      "metadata": {
        "id": "0IV2GqqxgedC"
      },
      "source": [
        "\n",
        "<p></p><h4> <strong> Ejemplo 15 </strong> </h4>\n",
        "<p style=\"text-align: justify;\"> Gráfico de <em>pie</em> que muestra el porcentaje de la población en cada categoria de la variable <em>Region</em>.</p>\n"
      ]
    },
    {
      "cell_type": "code",
      "execution_count": null,
      "metadata": {
        "id": "5yPEIddpgedC"
      },
      "outputs": [],
      "source": [
        "\n",
        "\n",
        "Pobl <- Municipios %>% \n",
        "        group_by(Region) %>% \n",
        "        summarise(freq=sum(Poblacion)) %>% \n",
        "        mutate(percent=round(100*freq/sum(freq),digits=1),\n",
        "               labels=paste0(str_replace(Region,\"Región \",\"\"),\"\\n (\",percent,\"%)\"))\n",
        "\n",
        "\n"
      ]
    },
    {
      "cell_type": "code",
      "execution_count": null,
      "metadata": {
        "id": "0xs-q7fxgedC"
      },
      "outputs": [],
      "source": [
        "\n",
        "\n",
        "ggplot(Pobl,aes(x=\"\",y=freq,fill=Region)) +\n",
        "  geom_col(color=\"black\",linetype=\"solid\") +\n",
        "  geom_text(aes(label=labels),position=position_stack(vjust=0.5),size=5.2,fontface=\"bold\") +\n",
        "  coord_polar(theta=\"y\") +\n",
        "  labs(title=\"Distribución de la Población por Región\") + \n",
        "  scale_fill_brewer(palette=\"RdBu\") + \n",
        "  theme(axis.text = element_blank(),axis.ticks = element_blank(),\n",
        "        axis.title = element_blank(),panel.grid = element_blank(),\n",
        "        panel.background=element_rect(fill=\"gray92\"),legend.position=\"none\",\n",
        "        plot.title=element_text(family=\"sans\",face=\"bold\",size=22,\n",
        "        vjust=0.5,hjust=0.5,color=\"black\"))\n",
        "\n",
        "\n"
      ]
    },
    {
      "cell_type": "markdown",
      "metadata": {
        "id": "4HNzfRwNgedC"
      },
      "source": [
        "\n",
        "<h5 id=\"Modifique-el-gráfico-variando-colores-y-los-siguientes-parámetros\">Modifique el gráfico variando colores y los siguientes parámetros<a class=\"anchor-link\" href=\"#Modifique-el-gráfico-variando-colores-y-los-siguientes-parámetros\">¶</a></h5><ul>\n",
        "<li><strong><em>linetype</em></strong>: \"solid\", \"dashed\", \"dotted\", \"dotdash\", \"longdash\", \"twodash\"</li>\n",
        "<li><strong><em>size</em></strong>: números no negativos</li>\n",
        "<li><strong><em>fontface</em></strong>: \"plain\", \"bold\", \"italic\", \"bold.italic\"</li>\n",
        "<li><strong><em>palette</em></strong>: \"BrBG\", \"PiYG\", \"PRGn\", \"PuOr\", \"RdBu\", \"RdGy\", \"RdYlBu\", \"RdYlGn\",\n",
        "\"Spectral\", \"Accent\", \"Dark2\", \"Paired\", \"Pastel1\", \"Pastel2\", \"Set1\", \"Set2\", \"Set3\",\n",
        "\"Blues\", \"BuGn\", \"BuPu\", \"GnBu\", \"Greens\", \"Greys\", \"Oranges\", \"OrRd\", \"PuBu\", \"PuBuGn\", \n",
        "\"PuRd\", \"Purples\", \"RdPu\", \"Reds\", \"YlGn\", \"YlGnBu\", \"YlOrBr\", \"YlOrRd\"</li>\n",
        "</ul>\n"
      ]
    },
    {
      "cell_type": "markdown",
      "metadata": {
        "id": "nfg-x7KAgedC"
      },
      "source": [
        "\n",
        "<p></p><h4> <strong> Ejemplo 16 </strong> </h4>\n",
        "<p style=\"text-align: justify;\"> Gráfico de <em>pie</em> que muestra el porcentaje de la superficie en cada categoria de la variable <em>Region</em>.</p>\n"
      ]
    },
    {
      "cell_type": "code",
      "execution_count": null,
      "metadata": {
        "id": "RJH5Dgq1gedC"
      },
      "outputs": [],
      "source": [
        "\n",
        "\n",
        "Supe <- Municipios %>% \n",
        "        group_by(Region) %>% \n",
        "        summarise(freq=sum(Superficie)) %>% \n",
        "        mutate(percent=round(100*freq/sum(freq),digits=1),\n",
        "               labels=paste0(str_replace(Region,\"Región \",\"\"),\"\\n (\",percent,\"%)\"))\n",
        "\n",
        "\n"
      ]
    },
    {
      "cell_type": "code",
      "execution_count": null,
      "metadata": {
        "id": "Zhk7HPQLgedF"
      },
      "outputs": [],
      "source": [
        "\n",
        "\n",
        "ggplot(Pobl,aes(x=\"\",y=freq,fill=Region)) +\n",
        "  geom_col(color=\"black\",linetype=\"solid\") +\n",
        "  geom_text(aes(label=labels),position=position_stack(vjust=0.5),size=5.2,fontface=\"bold\") +\n",
        "  coord_polar(theta=\"y\") +\n",
        "  labs(title=\"Distribución de la Superficie por Región\") + \n",
        "  scale_fill_brewer(palette=\"RdBu\") + \n",
        "  theme(axis.text = element_blank(),axis.ticks = element_blank(),\n",
        "        axis.title = element_blank(),panel.grid = element_blank(),\n",
        "        panel.background=element_rect(fill=\"gray92\"),legend.position=\"none\",\n",
        "        plot.title=element_text(family=\"sans\",face=\"bold\",size=22,\n",
        "        vjust=0.5,hjust=0.5,color=\"black\"))\n",
        "\n",
        "\n"
      ]
    },
    {
      "cell_type": "markdown",
      "metadata": {
        "id": "bMIWec8PgedF"
      },
      "source": [
        "\n",
        "<h5 id=\"Modifique-el-gráfico-variando-colores-y-los-siguientes-parámetros\">Modifique el gráfico variando colores y los siguientes parámetros<a class=\"anchor-link\" href=\"#Modifique-el-gráfico-variando-colores-y-los-siguientes-parámetros\">¶</a></h5><ul>\n",
        "<li><strong><em>linetype</em></strong>: \"solid\", \"dashed\", \"dotted\", \"dotdash\", \"longdash\", \"twodash\"</li>\n",
        "<li><strong><em>size</em></strong>: números no negativos</li>\n",
        "<li><strong><em>fontface</em></strong>: \"plain\", \"bold\", \"italic\", \"bold.italic\"</li>\n",
        "<li><strong><em>palette</em></strong>: \"BrBG\", \"PiYG\", \"PRGn\", \"PuOr\", \"RdBu\", \"RdGy\", \"RdYlBu\", \"RdYlGn\",\n",
        "\"Spectral\", \"Accent\", \"Dark2\", \"Paired\", \"Pastel1\", \"Pastel2\", \"Set1\", \"Set2\", \"Set3\",\n",
        "\"Blues\", \"BuGn\", \"BuPu\", \"GnBu\", \"Greens\", \"Greys\", \"Oranges\", \"OrRd\", \"PuBu\", \"PuBuGn\", \n",
        "\"PuRd\", \"Purples\", \"RdPu\", \"Reds\", \"YlGn\", \"YlGnBu\", \"YlOrBr\", \"YlOrRd\"</li>\n",
        "</ul>\n"
      ]
    },
    {
      "cell_type": "markdown",
      "metadata": {
        "id": "IU8tdRb4gedF"
      },
      "source": [
        "\n",
        "<p></p><h4> <strong> Ejemplo 17 </strong> </h4>\n",
        "<p style=\"text-align: justify;\"> Gráfico de <em>pie</em> que en cada región muestra el porcentaje de la población en cada categoria de la variable <em>Zona</em> .</p>\n"
      ]
    },
    {
      "cell_type": "code",
      "execution_count": null,
      "metadata": {
        "id": "rD06YwOhgedF"
      },
      "outputs": [],
      "source": [
        "\n",
        "\n",
        "Pobl2 <- Municipios %>% \n",
        "         group_by(Region,Zona) %>% \n",
        "         summarise(freq2=sum(Poblacion)) %>%\n",
        "         inner_join(Pobl,by=c(\"Region\"=\"Region\")) %>%\n",
        "         mutate(percent=round(100*freq2/freq,digits=1),\n",
        "               labels=paste0(Zona,\"\\n (\",percent,\"%)\"))\n",
        "\n",
        "\n"
      ]
    },
    {
      "cell_type": "code",
      "execution_count": null,
      "metadata": {
        "id": "MMrWJD3hgedF"
      },
      "outputs": [],
      "source": [
        "\n",
        "\n",
        "ggplot(Pobl2,aes(x=\"\",y=percent,fill=Zona)) +\n",
        "  geom_col(color=\"black\",linetype=\"solid\") +\n",
        "  geom_text(aes(label=labels),position=position_stack(vjust=0.5),size=5.2,fontface=\"bold\") +\n",
        "  coord_polar(theta=\"y\") +\n",
        "  labs(title=\"Distribución de la Población por Zona\") + \n",
        "  scale_fill_brewer(palette=\"RdBu\") + \n",
        "  facet_wrap(vars(Region),ncol=3,nrow=2,strip.position=\"top\",dir=\"h\") + \n",
        "  theme(axis.text = element_blank(),axis.ticks = element_blank(),\n",
        "        axis.title = element_blank(),panel.grid = element_blank(),\n",
        "        plot.title=element_text(family=\"sans\",face=\"bold\",size=22,vjust=0.5,hjust=0.5,color=\"black\"),\n",
        "        strip.background=element_rect(color=\"black\",fill=\"gray80\",size=1),\n",
        "        strip.text=element_text(face=\"bold\",size=15,vjust=0.5,hjust=0.5,color=\"blue\",angle=0),\n",
        "        panel.background=element_rect(fill=\"gray92\"),legend.position=\"none\")\n",
        "\n",
        "\n"
      ]
    },
    {
      "cell_type": "markdown",
      "metadata": {
        "id": "gELM52FigedG"
      },
      "source": [
        "\n",
        "<h5 id=\"Modifique-el-gráfico-variando-colores-y-los-siguientes-parámetros\">Modifique el gráfico variando colores y los siguientes parámetros<a class=\"anchor-link\" href=\"#Modifique-el-gráfico-variando-colores-y-los-siguientes-parámetros\">¶</a></h5><ul>\n",
        "<li><strong><em>linetype</em></strong>: \"solid\", \"dashed\", \"dotted\", \"dotdash\", \"longdash\", \"twodash\"</li>\n",
        "<li><strong><em>size</em></strong>: números no negativos</li>\n",
        "<li><strong><em>fontface</em></strong>: \"plain\", \"bold\", \"italic\", \"bold.italic\"</li>\n",
        "<li><strong><em>palette</em></strong>: \"BrBG\", \"PiYG\", \"PRGn\", \"PuOr\", \"RdBu\", \"RdGy\", \"RdYlBu\", \"RdYlGn\",\n",
        "\"Spectral\", \"Accent\", \"Dark2\", \"Paired\", \"Pastel1\", \"Pastel2\", \"Set1\", \"Set2\", \"Set3\",\n",
        "\"Blues\", \"BuGn\", \"BuPu\", \"GnBu\", \"Greens\", \"Greys\", \"Oranges\", \"OrRd\", \"PuBu\", \"PuBuGn\", \n",
        "\"PuRd\", \"Purples\", \"RdPu\", \"Reds\", \"YlGn\", \"YlGnBu\", \"YlOrBr\", \"YlOrRd\"</li>\n",
        "<li><strong><em>ncol</em></strong>, <strong><em>nrow</em></strong> : enteros positivos               </li>\n",
        "<li><strong><em>strip.position</em></strong> : \"top\", \"bottom\", \"left\", \"right\"</li>\n",
        "<li><strong><em>dir</em></strong> : \"h\", \"v\"</li>\n",
        "</ul>\n"
      ]
    },
    {
      "cell_type": "markdown",
      "metadata": {
        "id": "Q7bGh4sIgedG"
      },
      "source": [
        "\n",
        "<p></p><h4> <strong> Ejemplo 18 </strong> </h4>\n",
        "<p style=\"text-align: justify;\"> Gráfico de barras que muestra el número total de municipios por <em>Region</em> y <em>Zona</em> en Colombia.</p>\n"
      ]
    },
    {
      "cell_type": "code",
      "execution_count": null,
      "metadata": {
        "id": "JVWM5FiogedG"
      },
      "outputs": [],
      "source": [
        "\n",
        "\n",
        "ggplot(Municipios, aes(Region)) + \n",
        "geom_bar(aes(fill=Zona),position=position_dodge(),width=0.75) + \n",
        "scale_y_continuous(breaks=seq(from=0,to=300,by=50)) + \n",
        "scale_fill_manual(values=c(\"yellow\",\"blue\")) + \n",
        "labs(title=\"Número de municipios por región\", x=\" \", y=\"Número de Municipios\") + \n",
        "coord_flip() + \n",
        "mitema + theme(legend.position=\"right\",\n",
        "               axis.text.y=element_text(size=18,hjust=1),\n",
        "               axis.title.x=element_text(color=\"red\"))\n",
        "\n",
        "\n"
      ]
    },
    {
      "cell_type": "markdown",
      "metadata": {
        "id": "Ng8Xe0dEgedG"
      },
      "source": [
        "\n",
        "<h5 id=\"Modifique-el-gráfico-variando-colores-y-los-siguientes-parámetros\">Modifique el gráfico variando colores y los siguientes parámetros<a class=\"anchor-link\" href=\"#Modifique-el-gráfico-variando-colores-y-los-siguientes-parámetros\">¶</a></h5><ul>\n",
        "<li><strong><em>width</em></strong>: números en el intervalo $[0,1]$</li>\n",
        "<li><strong><em>size</em></strong>: números no negativos</li>\n",
        "<li><strong><em>legend.position</em></strong> : \"none\", \"left\", \"right\", \"bottom\", \"top\"</li>\n",
        "<li>elimine <strong>_+ coord<em>flip()</em></strong></li>\n",
        "</ul>\n"
      ]
    },
    {
      "cell_type": "markdown",
      "metadata": {
        "id": "RViyjv4UgedG"
      },
      "source": [
        "\n",
        "<p></p><h4> <strong> Ejemplo 19 </strong> </h4>\n",
        "<p style=\"text-align: justify;\"> Gráfico de barras que muestra el total de la <em>Superficie</em> por <em>Region</em> y <em>Zona</em> en Colombia.</p>\n"
      ]
    },
    {
      "cell_type": "code",
      "execution_count": null,
      "metadata": {
        "id": "kLZOeQyegedG"
      },
      "outputs": [],
      "source": [
        "\n",
        "\n",
        "ggplot(Municipios, aes(Region)) + \n",
        "geom_bar(aes(fill=Zona,weight=Superficie/1000),position=position_dodge(),width=0.75) + \n",
        "scale_y_continuous(breaks=seq(from=0,to=500,by=100)) + \n",
        "scale_fill_manual(values=c(\"yellow\",\"blue\")) + \n",
        "labs(title=\"Superficie por región\", x=\" \", y=\"Superficie, en miles de kilómetros cuadrados\") + \n",
        "coord_flip() + \n",
        "mitema + theme(legend.position=\"right\",\n",
        "               axis.text.y=element_text(size=18,hjust=1),\n",
        "               axis.title.x=element_text(color=\"red\"))\n",
        "\n",
        "\n"
      ]
    },
    {
      "cell_type": "markdown",
      "metadata": {
        "id": "J6f_jRCjgedG"
      },
      "source": [
        "\n",
        "<h5 id=\"Modifique-el-gráfico-variando-colores-y-los-siguientes-parámetros\">Modifique el gráfico variando colores y los siguientes parámetros<a class=\"anchor-link\" href=\"#Modifique-el-gráfico-variando-colores-y-los-siguientes-parámetros\">¶</a></h5><ul>\n",
        "<li><strong><em>width</em></strong>: números en el intervalo $[0,1]$</li>\n",
        "<li><strong><em>size</em></strong>: números no negativos</li>\n",
        "<li><strong><em>legend.position</em></strong> : \"none\", \"left\", \"right\", \"bottom\", \"top\"</li>\n",
        "<li>elimine <strong>_+ coord<em>flip()</em></strong></li>\n",
        "</ul>\n"
      ]
    },
    {
      "cell_type": "markdown",
      "metadata": {
        "id": "o3gj_oljgedG"
      },
      "source": [
        "\n",
        "<p></p><h4> <strong> Ejemplo 20 </strong> </h4>\n",
        "<p style=\"text-align: justify;\"> Gráfico de barras que muestra el total de la <em>Poblacion</em> por <em>Region</em> y <em>Zona</em> en Colombia.</p>\n"
      ]
    },
    {
      "cell_type": "code",
      "execution_count": null,
      "metadata": {
        "id": "w1JJO71BgedG"
      },
      "outputs": [],
      "source": [
        "\n",
        "\n",
        "ggplot(Municipios, aes(Region)) + \n",
        "geom_bar(aes(fill=Zona,weight=Poblacion/1000),position=position_dodge(),width=0.75) + \n",
        "scale_y_continuous(breaks=seq(from=0,to=12500,by=2500)) + \n",
        "scale_fill_manual(values=c(\"yellow\",\"blue\")) + \n",
        "labs(title=\"Población por región\", x=\" \", y=\"Población, en miles\") + \n",
        "coord_flip() + \n",
        "mitema + theme(legend.position=\"right\",\n",
        "               axis.text.y=element_text(size=18,hjust=1),\n",
        "               axis.title.x=element_text(color=\"red\"))\n",
        "\n",
        "\n"
      ]
    },
    {
      "cell_type": "markdown",
      "metadata": {
        "id": "K11NeMBGgedG"
      },
      "source": [
        "\n",
        "<h5 id=\"Modifique-el-gráfico-variando-colores-y-los-siguientes-parámetros\">Modifique el gráfico variando colores y los siguientes parámetros<a class=\"anchor-link\" href=\"#Modifique-el-gráfico-variando-colores-y-los-siguientes-parámetros\">¶</a></h5><ul>\n",
        "<li><strong><em>width</em></strong>: números en el intervalo $[0,1]$</li>\n",
        "<li><strong><em>size</em></strong>: números no negativos</li>\n",
        "<li><strong><em>legend.position</em></strong> : \"none\", \"left\", \"right\", \"bottom\", \"top\"</li>\n",
        "<li>elimine <strong>_+ coord<em>flip()</em></strong></li>\n",
        "</ul>\n"
      ]
    },
    {
      "cell_type": "markdown",
      "metadata": {
        "id": "5gbjD9Z6gedH"
      },
      "source": [
        "\n",
        "<p></p><h4> <strong> Ejemplo 21 </strong> </h4>\n",
        "<p style=\"text-align: justify;\"> Gráfico de barras que muestra el total de la <em>Poblacion</em> por <em>Region</em> y <em>Zona</em> en Colombia.</p>\n"
      ]
    },
    {
      "cell_type": "code",
      "execution_count": null,
      "metadata": {
        "id": "Mi0emlBTgedH"
      },
      "outputs": [],
      "source": [
        "\n",
        "\n",
        "ggplot(Municipios, aes(Zona)) + \n",
        "geom_bar(aes(fill=Zona,weight=Poblacion/1000),position=position_dodge(),width=0.95,color=\"black\") + \n",
        "scale_y_continuous(breaks=seq(from=0,to=12500,by=2500)) + \n",
        "scale_fill_manual(values=c(\"yellow\",\"blue\")) + \n",
        "labs(title=\"Población por región\", x=\" \", y=\"Población, en miles\") + \n",
        "facet_wrap(vars(Region),ncol=3,nrow=2,strip.position=\"top\",dir=\"h\",scales=\"fixed\") + mitema + \n",
        "theme(\n",
        "  plot.subtitle=element_text(face=\"bold\",size=16,vjust=0.5,hjust=0.5,color=\"salmon\"),\n",
        "  strip.background=element_rect(color=\"black\",fill=\"gray80\",size=1),\n",
        "  strip.text=element_text(face=\"bold\",size=15,vjust=0.5,hjust=0.5,color=\"black\",angle=0),\n",
        "  axis.title.y=element_text(color=\"red\")  \n",
        "     )\n",
        "\n",
        "\n"
      ]
    },
    {
      "cell_type": "markdown",
      "metadata": {
        "id": "b4OMSYm_gedH"
      },
      "source": [
        "\n",
        "<h5 id=\"Modifique-el-gráfico-variando-colores-y-los-siguientes-parámetros\">Modifique el gráfico variando colores y los siguientes parámetros<a class=\"anchor-link\" href=\"#Modifique-el-gráfico-variando-colores-y-los-siguientes-parámetros\">¶</a></h5><ul>\n",
        "<li><strong><em>width</em></strong>: números en el intervalo $[0,1]$</li>\n",
        "<li><strong><em>ncol</em></strong>, <strong><em>nrow</em></strong> : enteros positivos               </li>\n",
        "<li><strong><em>strip.position</em></strong> : \"top\", \"bottom\", \"left\", \"right\"</li>\n",
        "<li><strong><em>dir</em></strong> : \"h\", \"v\"</li>\n",
        "<li><strong><em>scales</em></strong> : \"fixed\", \"free\", \"free_x\", \"free_y\"</li>\n",
        "</ul>\n"
      ]
    },
    {
      "cell_type": "markdown",
      "metadata": {
        "id": "8cdFkTP5gedH"
      },
      "source": [
        "\n",
        "<p></p><h4> <strong> Ejemplo 22 </strong> </h4>\n",
        "<p style=\"text-align: justify;\"> Mapa de Colombia que muestra las diferencias entre los departamentos con respecto al índice de ruralidad promedio ponderado por población. Se destacan los departamentos con valores mayores a 70. Los archivos con extensión shp se descargaron de la página del <a href=\"https://geoportal.dane.gov.co/servicios/descarga-y-metadatos/descarga-mgn-marco-geoestadistico-nacional/\" style=\"color:black;\"> <strong> Dane. </strong> </a></p>\n"
      ]
    },
    {
      "cell_type": "code",
      "execution_count": null,
      "metadata": {
        "id": "wvE0yq_HgedH"
      },
      "outputs": [],
      "source": [
        "\n",
        "\n",
        "install.packages(\"sf\")\n",
        "\n",
        "deptos <- Municipios %>%\n",
        "          group_by(Departamento,Dep) %>%\n",
        "          summarise(Irural=sum(Poblacion*Irural)/sum(Poblacion)) %>%\n",
        "          as.data.frame()\n",
        "str(deptos)\n",
        " \n",
        "deptoshp <- sf::st_read(\"MGN_DPTO_POLITICO.shp\",quiet=TRUE)\n",
        "str(deptoshp)\n",
        "\n",
        "mapdeptos <- deptoshp %>% left_join(deptos,by=c(\"DPTO_CCDGO\"=\"Dep\"))\n",
        "str(mapdeptos)\n",
        "\n",
        "mundoshp <- sf::st_read(\"admin00.shp\",quiet=TRUE)\n",
        "mundocol <- mundoshp %>% \n",
        "            filter(CNTRY_NAME %in% c(\"Peru\",\"Brazil\",\"Venezuela\",\"Ecuador\",\"Panama\"))\n",
        "str(mundocol)\n",
        "\n",
        "\n"
      ]
    },
    {
      "cell_type": "code",
      "execution_count": null,
      "metadata": {
        "id": "bTDJXpldgedH"
      },
      "outputs": [],
      "source": [
        "\n",
        "\n",
        "ggplot() +\n",
        "geom_sf(data=mundocol) +\n",
        "geom_sf(data=mapdeptos,aes(fill=Irural),col=\"darkgray\",linetype=\"solid\") +\n",
        "coord_sf(xlim=c(-79.5,-66.5),ylim=c(-4.5,13),expand=FALSE) +\n",
        "geom_sf_text(data=mapdeptos,aes(label=ifelse(Irural > 70,Departamento,\"\")),col=\"black\",\n",
        "             fontface=\"bold\",size=4,fun.geometry=function(x) sf::st_centroid(x)) +\n",
        "labs(x=\"Longitud\",y=\"Latitud\",title=\"Colombia\",fill=\"Índice de\\nRuralidad\") +\n",
        "scale_fill_gradient(low=\"white\",high=\"red\",n.breaks=5) +\n",
        "annotate(\"text\", x=c(-74.5,-68,-78,-69,-78.5), y=c(-2.5,0,-1,9,9), colour=\"blue\",\n",
        "         label=c(\"Perú\",\"Brasil\",\"Ecuador\",\"Venezuela\",\"Panamá\")) +\n",
        "theme(panel.background=element_rect(fill=\"lightblue\"))\n",
        "\n",
        "\n"
      ]
    },
    {
      "cell_type": "markdown",
      "metadata": {
        "id": "u_L9AlszgedH"
      },
      "source": [
        "\n",
        "<h5 id=\"Modifique-el-gráfico-variando-colores-y-los-siguientes-parámetros\">Modifique el gráfico variando colores y los siguientes parámetros<a class=\"anchor-link\" href=\"#Modifique-el-gráfico-variando-colores-y-los-siguientes-parámetros\">¶</a></h5><ul>\n",
        "<li><strong><em>size</em></strong>: números no negativos</li>\n",
        "<li><strong><em>linetype</em></strong>: \"solid\", \"dashed\", \"dotted\", \"dotdash\", \"longdash\", \"twodash\"</li>\n",
        "<li><strong><em>fontface</em></strong>: \"plain\", \"bold\", \"italic\", \"bold.italic”</li>\n",
        "<li>Elimine las líneas 2 y 7 del código arriba</li>\n",
        "</ul>\n"
      ]
    },
    {
      "cell_type": "markdown",
      "metadata": {
        "id": "tqqC2GhegedH"
      },
      "source": [
        "\n",
        "<p></p><h4> <strong> Ejemplo 23</strong> </h4>\n",
        "<p style=\"text-align: justify;\"> Mapa de Cundinamarca que muestra las diferencias entre los departamentos con respecto al índice de ruralidad. Se destacan los municipios con valores mayores a 50. </p>\n"
      ]
    },
    {
      "cell_type": "code",
      "execution_count": null,
      "metadata": {
        "id": "-Pk6siqagedH"
      },
      "outputs": [],
      "source": [
        "\n",
        "\n",
        "mpioshp <- sf::st_read(\"MGN_MPIO_POLITICO.shp\",quiet=TRUE)\n",
        "str(mpioshp)\n",
        "\n",
        "cund <- mpioshp %>%\n",
        "        left_join(Municipios,by=c(\"MPIO_CCNCT\"=\"Depmun\")) %>%\n",
        "        filter(Dep==\"25\" | Dep==\"11\")\n",
        "str(cund)\n",
        "\n",
        "\n"
      ]
    },
    {
      "cell_type": "code",
      "execution_count": null,
      "metadata": {
        "id": "ZBAE5NLYgedH"
      },
      "outputs": [],
      "source": [
        "\n",
        "\n",
        "ggplot() +\n",
        "geom_sf(data=deptoshp) +\n",
        "geom_sf(data=cund,aes(fill=Irural),col=\"darkgray\",linetype=\"solid\") +\n",
        "geom_sf_text(data=cund,aes(label=ifelse(Irural > 52,Municipio,\"\")),col=\"black\",\n",
        "             fontface=\"bold\",size=3.5,fun.geometry=function(x) sf::st_centroid(x)) +\n",
        "labs(x=\"Longitud\",y=\"Latitud\",title=\"Cundinamarca\",fill=\"Índice de\\nRuralidad\") +\n",
        "coord_sf(xlim=c(-74.9,-73.0),ylim=c(3.7,5.8)) + \n",
        "scale_fill_gradient(low=\"white\",high=\"red\",n.breaks=5)\n",
        "\n",
        "\n"
      ]
    },
    {
      "cell_type": "markdown",
      "metadata": {
        "id": "cSCwMTQcgedH"
      },
      "source": [
        "\n",
        "<h5 id=\"Modifique-el-gráfico-variando-colores-y-los-siguientes-parámetros\">Modifique el gráfico variando colores y los siguientes parámetros<a class=\"anchor-link\" href=\"#Modifique-el-gráfico-variando-colores-y-los-siguientes-parámetros\">¶</a></h5><ul>\n",
        "<li><strong><em>size</em></strong>: números no negativos</li>\n",
        "<li><strong><em>linetype</em></strong>: \"solid\", \"dashed\", \"dotted\", \"dotdash\", \"longdash\", \"twodash\"</li>\n",
        "<li><strong><em>fontface</em></strong>: \"plain\", \"bold\", \"italic\", \"bold.italic\"</li>\n",
        "<li>Elimine las líneas 2 y 7 del código arriba</li>\n",
        "</ul>\n"
      ]
    },
    {
      "cell_type": "markdown",
      "source": [
        "## Ejercicios"
      ],
      "metadata": {
        "id": "ihuidmqekA2A"
      }
    },
    {
      "cell_type": "markdown",
      "metadata": {
        "id": "np9aeZaWgedH"
      },
      "source": [
        "\n",
        "<p></p><h2 style=\"color:red;\"> Ejercicios</h2><ul>\n",
        "<li><p style=\"text-align: justify;\"> Use el conjunto de datos en el objeto <em>richness</em> del paquete <em>glmtoolbox</em> de <em>R</em> para construir un gráfico de dispersión del número de especies de plantas (<em>Species</em>) versus el nivel de biomasa (<em>Biomass</em>) de las parcelas, en el que el nivel de pH del suelo (<em>pH</em>), que pertenece a una de tres categorias posibles (\"Bajo\", \"Medio\" y \"Alto\"), se identifica mediante el tipo y el color de los símbolos que identifican cada parcela. En cada nivel del pH del suelo incluya una recta que describa la relación entre <em>Species</em> y <em>Biomass</em>.</p></li>\n",
        "<li><p style=\"text-align: justify;\"> Use el conjunto de datos en el objeto <em>Ovocytes</em> del paquete <em>ssym</em> de <em>R</em> para construir un gráfico de dispersión que ilustre la evolución en el tiempo (<em>time</em>) de la fracción del volumen celular isotónico inicial (<em>fraction</em>) entre los ovocitos de cabra maduros (<em>type</em>=\"Mature\") e inmaduros (<em>type</em>=\"Immature\"). Incluya una curva suave (regresión polinómica o regresión no paramétrica) que describa la relación entre <em>fraction</em> y <em>time</em> para cada tipo de ovocito de cabra.</p></li>\n",
        "<li><p style=\"text-align: justify;\"> Use el conjunto de datos en el objeto <em>depression</em> del paquete <em>glmtoolbox</em> de <em>R</em> para construir gráficos de caja que ilustren la evolución en el tiempo (<em>visit</em>) de las diferencias en los valores en la Escala de Depresión Posnatal de Edimburgo (<em>dep</em>) entre las mujeres que fueron tratadas con estrógeno (<em>group</em>=\"estrogen\") y las que fueron tratadas con placebo (<em>group</em>=\"placebo\").</p></li>\n",
        "<li><p style=\"text-align: justify;\"> Use el conjunto de datos en el objeto <em>cellular</em> del paquete <em>glmtoolbox</em> de <em>R</em> para construir un gráfico de barras que ilustre las diferencias entre el porcentaje de células que exhibieron marcadores de diferenciación (100*<em>cells</em>/200) en todas las combinaciones de las dosis de los dos agentes de inmuno-activación, IFN (<em>ifn</em>) y TNF (<em>tnf</em>), a las que fueron expuestas.</p></li>\n",
        "<li><p style=\"text-align: justify;\"> Use el conjunto de datos de las elecciones presidenciales en EU para construir mapas que ilustren la evolución en el tiempo del porcentaje de votos para los candidatos de los partidos demócrata y republicano.</p></li>\n",
        "</ul>\n"
      ]
    },
    {
      "cell_type": "markdown",
      "source": [
        "# Optimización no lineal"
      ],
      "metadata": {
        "id": "KN1TyCrfkF4q"
      }
    },
    {
      "cell_type": "markdown",
      "metadata": {
        "id": "rUTv878KgedI"
      },
      "source": [
        "\n",
        "<p></p><h1 style=\"color:red;\"> <strong> <center>Optimización no lineal </center></strong> </h1>\n",
        "<h4 style=\"color:red;\"> <center>Algoritmo Broyden, Fletcher, Goldfarb y Shanno (BFGS) </center> </h4>\n"
      ]
    },
    {
      "cell_type": "markdown",
      "metadata": {
        "id": "8MLDJq28gedI"
      },
      "source": [
        "<h3 id=\"Ejemplo-1:-Regresión-Logística\"><strong>Ejemplo 1: Regresión Logística</strong><a class=\"anchor-link\" href=\"#Ejemplo-1:-Regresión-Logística\">¶</a></h3><p style=\"text-align: justify;\"> Use el conjunto de datos <strong>ossification</strong> del paquete <em>glmtoolbox</em> de R para ajustar un modelo de regresión logística, en que la variable respuesta es el número de fetos con signos de osificación (<em>fetuses</em>) del total de ratones de la camada (<em>litter</em>), mientras que <em>pht</em> (dosis de PHT a la que se expusieron las madres de la camada) y <em>tcpo</em> (dosis de TCPO a la que se expusieron las madres de la camada) son las variables explicativas."
      ]
    },
    {
      "cell_type": "markdown",
      "metadata": {
        "id": "NZTxdP_GgedI"
      },
      "source": [
        "</p><p><img height=\"950\" src=\"https://r2022.netlify.app/mlgber.png\" width=\"1000\"/></p>"
      ]
    },
    {
      "cell_type": "code",
      "execution_count": null,
      "metadata": {
        "id": "79-J4ryXgedI"
      },
      "outputs": [],
      "source": [
        "\n",
        "\n",
        "install.packages(\"glmtoolbox\")\n",
        "library(glmtoolbox)\n",
        "data(ossification,package=\"glmtoolbox\")\n",
        "\n",
        "help(ossification)\n",
        "\n",
        "\n"
      ]
    },
    {
      "cell_type": "code",
      "execution_count": null,
      "metadata": {
        "id": "iMcGTHF3gedI"
      },
      "outputs": [],
      "source": [
        "\n",
        "\n",
        "y <- ossification$fetuses\n",
        "m <- ossification$litter\n",
        "x1 <- ifelse(ossification$pht==\"60 mg/kg\",1,0)\n",
        "x2 <- ifelse(ossification$tcpo==\"100 mg/kg\",1,0)\n",
        "X <- cbind(1,x1,x2,x1*x2)\n",
        "\n",
        "loglik <- function(beta){\n",
        "          mu <- 1/(1 + exp(-X%*%beta))\n",
        "          return(sum(lchoose(m,y), y*log(mu) + (m-y)*log(1-mu)))\n",
        "}         \n",
        "gradient <- function(beta){\n",
        "            mu <- 1/(1 + exp(-X%*%beta))\n",
        "            return(t(X)%*%(y-m*mu))\n",
        "}\n",
        "y2 <- log(abs(y/m - 0.01)/(1 - abs(y/m - 0.01)))\n",
        "start <- chol2inv(chol(t(X)%*%X))%*%t(X)%*%y2\n",
        "\n",
        "out <- optim(par=start,fn=loglik,gr=gradient,method=\"BFGS\",control=list(reltol=1e-15,fnscale=-1),hessian=TRUE)\n",
        "\n",
        "resumen <- round(cbind(est <- out$par,\n",
        "                       se <- sqrt(diag(chol2inv(chol(-out$hessian)))),\n",
        "                       zval <- est/se,\n",
        "                       p_val <- 2*pnorm(-abs(zval))),digits=6)\n",
        "colnames(resumen) <- c(\"Estimate\", \"Std.Error\", \"z-value\", \"Pr(>|z|)\")\n",
        "rownames(resumen) <- c(\"(Intercept)\",\"pht\",\"tcpo\",\"pht*tcpo\")\n",
        "resumen\n",
        "\n",
        "cat(\"\\nAIC =\",-2*out$value + 2*length(out$par))\n",
        "cat(\"\\nBIC =\",-2*out$value + log(length(y))*length(out$par))\n",
        "\n",
        "\n"
      ]
    },
    {
      "cell_type": "code",
      "execution_count": null,
      "metadata": {
        "id": "CMKZJqvlgedI"
      },
      "outputs": [],
      "source": [
        "\n",
        "\n",
        "fit <- glm(cbind(fetuses,litter-fetuses) ~ pht + tcpo + pht*tcpo, family=binomial, data=ossification)\n",
        "summary(fit)\n",
        "\n",
        "\n"
      ]
    },
    {
      "cell_type": "markdown",
      "metadata": {
        "id": "6VtULjYwgedI"
      },
      "source": [
        "<h3 id=\"Ejemplo-2:-Regresión-log-lineal-de-Poisson\"><strong>Ejemplo 2: Regresión log-lineal de Poisson</strong><a class=\"anchor-link\" href=\"#Ejemplo-2:-Regresión-log-lineal-de-Poisson\">¶</a></h3><p style=\"text-align: justify;\"> Use el conjunto de datos <strong>swimmers</strong> del paquete <em>glmtoolbox</em> de R para ajustar un modelo de regresión log-lineal de Poisson, en que <em>infections</em> (número de infecciones de oído reportadas por cada recluta) es la variable respuesta, mientras que <em>frequency</em> (frecuencia con que nada cada recluta), <em>location</em> (lugar donde acostumbra a nadar cada recluta) y <em>gender</em> (género de cada recluta) son las variables explicativas."
      ]
    },
    {
      "cell_type": "markdown",
      "metadata": {
        "id": "muk38ElagedI"
      },
      "source": [
        "</p><p><img height=\"950\" src=\"https://r2022.netlify.app/mlgpoi.png\" width=\"1000\"/></p>"
      ]
    },
    {
      "cell_type": "code",
      "execution_count": null,
      "metadata": {
        "id": "Tjp6vDYngedI"
      },
      "outputs": [],
      "source": [
        "\n",
        "\n",
        "data(swimmers,package=\"glmtoolbox\")\n",
        "help(swimmers)\n",
        "\n",
        "\n"
      ]
    },
    {
      "cell_type": "code",
      "execution_count": null,
      "metadata": {
        "id": "Nq_MWYNtgedI"
      },
      "outputs": [],
      "source": [
        "\n",
        "\n",
        "y <- swimmers$infections\n",
        "x1 <- ifelse(swimmers$frequency==\"occasional\",1,0)\n",
        "x2 <- ifelse(swimmers$location==\"non-beach\",1,0)\n",
        "x3 <- ifelse(swimmers$gender==\"male\",1,0)\n",
        "X <- cbind(1,x1,x2,x3)\n",
        "\n",
        "loglik <- function(beta){\n",
        "          mu <- exp(X%*%beta)\n",
        "          return(sum(-mu + y*log(mu) - lfactorial(y)))\n",
        "}         \n",
        "gradient <- function(beta){\n",
        "            mu <- exp(X%*%beta)\n",
        "            return(t(X)%*%(y-mu))\n",
        "}\n",
        "y2 <- log(y + 0.01)\n",
        "start <- chol2inv(chol(t(X)%*%X))%*%t(X)%*%y2\n",
        "\n",
        "out <- optim(par=start,fn=loglik,gr=gradient,method=\"BFGS\",control=list(reltol=1e-15,fnscale=-1),hessian=TRUE)\n",
        "\n",
        "resumen <- round(cbind(est <- out$par,\n",
        "                       se <- sqrt(diag(chol2inv(chol(-out$hessian)))),\n",
        "                       zval <- est/se,\n",
        "                       p_val <- 2*pnorm(-abs(zval))),digits=6)\n",
        "colnames(resumen) <- c(\"Estimate\", \"Std.Error\", \"z-value\", \"Pr(>|z|)\")\n",
        "rownames(resumen) <- c(\"(Intercept)\",\"frequency\",\"location\",\"gender\")\n",
        "resumen\n",
        "\n",
        "cat(\"\\nAIC =\",-2*out$value + 2*length(out$par))\n",
        "cat(\"\\nBIC =\",-2*out$value + log(length(y))*length(out$par))\n",
        "\n",
        "\n"
      ]
    },
    {
      "cell_type": "code",
      "execution_count": null,
      "metadata": {
        "id": "0GoB-hiNgedI"
      },
      "outputs": [],
      "source": [
        "\n",
        "\n",
        "fit <- glm(infections ~ frequency + location + gender, family=poisson, data=swimmers)\n",
        "summary(fit)\n",
        "\n",
        "\n"
      ]
    },
    {
      "cell_type": "markdown",
      "metadata": {
        "id": "dbo4qpeCgedI"
      },
      "source": [
        "<h3 id=\"Ejemplo-3:-Modelo-de-sobrevivencia-con-distribución-exponencial-para-datos-con-censura-a-la-derecha\"><strong>Ejemplo 3: Modelo de sobrevivencia con distribución exponencial para datos con censura a la derecha</strong><a class=\"anchor-link\" href=\"#Ejemplo-3:-Modelo-de-sobrevivencia-con-distribución-exponencial-para-datos-con-censura-a-la-derecha\">¶</a></h3><p style=\"text-align: justify;\"> Use el conjunto de datos <strong>ovarian</strong> del paquete <em>survival</em> de R para ajustar un modelo de regresión log-lineal con respuesta de distribución exponencial, en que <em>futime</em> (tiempo de sobrevivencia) es la variable respuesta, <em>fustat</em> es el indicador de censura, <em>age</em> (edad, en años) y <em>rx</em> (grupo de tratamiento) son las variables explicativas."
      ]
    },
    {
      "cell_type": "markdown",
      "metadata": {
        "id": "VNPC7UtegedJ"
      },
      "source": [
        "</p><p><img height=\"950\" src=\"https://r2022.netlify.app/mlgsurv.png\" width=\"1000\"/></p>"
      ]
    },
    {
      "cell_type": "code",
      "execution_count": null,
      "metadata": {
        "id": "KblFzbXAgedJ"
      },
      "outputs": [],
      "source": [
        "\n",
        "\n",
        "install.packages(\"survival\")\n",
        "library(survival)\n",
        "data(ovarian,package=\"survival\")\n",
        "help(ovarian)\n",
        "\n",
        "\n"
      ]
    },
    {
      "cell_type": "code",
      "execution_count": null,
      "metadata": {
        "id": "XIeCjvnHgedJ"
      },
      "outputs": [],
      "source": [
        "\n",
        "\n",
        "z <- ovarian$futime\n",
        "x1 <- ovarian$age\n",
        "x2 <- ovarian$rx \n",
        "delta <- ovarian$fustat\n",
        "X <- cbind(1,x1,x2)\n",
        "\n",
        "loglik <- function(beta){\n",
        "          mu <- exp(X%*%beta)\n",
        "          return(-sum(z/mu + delta*log(mu)))\n",
        "}         \n",
        "gradient <- function(beta){\n",
        "            mu <- exp(X%*%beta)\n",
        "            return(t(X)%*%(z/mu - delta))\n",
        "}\n",
        "z2 <- log(z[delta==1])\n",
        "X2 <- X[delta==1,]\n",
        "start <- chol2inv(chol(t(X2)%*%X2))%*%t(X2)%*%z2\n",
        "\n",
        "out <- optim(par=start,fn=loglik,gr=gradient,method=\"BFGS\",control=list(reltol=1e-15,fnscale=-1),hessian=TRUE)\n",
        "\n",
        "resumen <- round(cbind(est <- out$par,\n",
        "                       se <- sqrt(diag(chol2inv(chol(-out$hessian)))),\n",
        "                       zval <- est/se,\n",
        "                       p_val <- 2*pnorm(-abs(zval))),digits=6)\n",
        "colnames(resumen) <- c(\"Estimate\", \"Std.Error\", \"z-value\", \"Pr(>|z|)\")\n",
        "rownames(resumen) <- c(\"(Intercept)\",\"age\",\"rx\")\n",
        "resumen\n",
        "\n",
        "cat(\"\\nAIC =\",-2*out$value + 2*length(out$par))\n",
        "cat(\"\\nBIC =\",-2*out$value + log(length(y))*length(out$par))\n",
        "\n",
        "\n"
      ]
    },
    {
      "cell_type": "code",
      "execution_count": null,
      "metadata": {
        "id": "4nI26GZPgedJ"
      },
      "outputs": [],
      "source": [
        "\n",
        "\n",
        "fit <- survreg(Surv(futime, fustat) ~ age + rx, ovarian, dist=\"exponential\")\n",
        "summary(fit)\n",
        "\n",
        "\n"
      ]
    },
    {
      "cell_type": "markdown",
      "metadata": {
        "id": "Tb5pBRqMgedJ"
      },
      "source": [
        "<h3 id=\"Ejemplo-4:-Modelo-de-regresión-normal-heteroscedástico\"><strong>Ejemplo 4: Modelo de regresión normal heteroscedástico</strong><a class=\"anchor-link\" href=\"#Ejemplo-4:-Modelo-de-regresión-normal-heteroscedástico\">¶</a></h3><p style=\"text-align: justify;\"> Use el conjunto de datos <strong>Auto</strong> del paquete <em>ISLR</em> de R para ajustar un modelo de regresión normal heteroscedástico, en que <em>mpg</em> (rendimiento de cada vehículo, en millas por galón) es la variable respuesta, mientras que <em>horsepower</em> (caballos de fuerza) y <em>weight</em> (peso) son las variables explicativas."
      ]
    },
    {
      "cell_type": "markdown",
      "metadata": {
        "id": "nxqpaJNrgedJ"
      },
      "source": [
        "</p><p><img height=\"950\" src=\"https://r2022.netlify.app/mrnh.png\" width=\"1000\"/></p>"
      ]
    },
    {
      "cell_type": "code",
      "execution_count": null,
      "metadata": {
        "id": "oS5vURMDgedJ"
      },
      "outputs": [],
      "source": [
        "\n",
        "\n",
        "install.packages(\"ISLR\")\n",
        "data(Auto,package=\"ISLR\")\n",
        "help(Auto)\n",
        "\n",
        "\n"
      ]
    },
    {
      "cell_type": "code",
      "execution_count": null,
      "metadata": {
        "id": "SJu7bmRSgedJ"
      },
      "outputs": [],
      "source": [
        "\n",
        "\n",
        "y  <- Auto$mpg\n",
        "x1 <- log(Auto$horsepower)\n",
        "x2 <- log(Auto$weight)\n",
        "\n",
        "loglik <- function(theta){\n",
        "          mu <- exp(theta[1] + theta[2]*x1 + theta[3]*x2)\n",
        "          sigma2 <- exp(theta[4] + theta[5]*x1 + theta[6]*x2)\n",
        "          return(-(1/2)*sum((y - mu)^2/sigma2 + log(2*pi*sigma2)))\n",
        "}\n",
        "start <- c(log(mean(y)),0,0,log(var(y)),0,0)\n",
        "out <- optim(par=start,fn=loglik,method=\"BFGS\",control=list(reltol=1e-15,fnscale=-1),hessian=TRUE)\n",
        "\n",
        "resumen <- round(cbind(est <- out$par,\n",
        "                       se <- sqrt(diag(chol2inv(chol(-out$hessian)))),\n",
        "                       zval <- est/se,\n",
        "                       p_val <- 2*pnorm(-abs(zval))),digits=6)\n",
        "colnames(resumen) <- c(\"Estimate\", \"Std.Error\", \"z-value\", \"Pr(>|z|)\")\n",
        "rownames(resumen) <- c(\"log(beta0)\",\"horsepower\",\"weight\",\"log(gamma0)\",\"horsepower\",\"weight\")\n",
        "resumen\n",
        "\n",
        "cat(\"\\nAIC =\",-2*out$value + 2*length(out$par))\n",
        "cat(\"\\nBIC =\",-2*out$value + log(length(y))*length(out$par))\n",
        "\n",
        "\n"
      ]
    },
    {
      "cell_type": "code",
      "execution_count": null,
      "metadata": {
        "id": "6o8rBBLDgedJ"
      },
      "outputs": [],
      "source": [
        "\n",
        "\n",
        "install.packages(\"numDeriv\")\n",
        "library(numDeriv)\n",
        "gradient <- function(theta) grad(loglik,theta)\n",
        "out <- optim(par=start,fn=loglik,gr=gradient,method=\"BFGS\",control=list(reltol=1e-15,fnscale=-1),hessian=TRUE)\n",
        "\n",
        "resumen <- round(cbind(est <- out$par,\n",
        "                       se <- sqrt(diag(chol2inv(chol(-out$hessian)))),\n",
        "                       zval <- est/se,\n",
        "                       p_val <- 2*pnorm(-abs(zval))),digits=6)\n",
        "colnames(resumen) <- c(\"Estimate\", \"Std.Error\", \"z-value\", \"Pr(>|z|)\")\n",
        "rownames(resumen) <- c(\"log(beta0)\",\"horsepower\",\"weight\",\"log(gamma0)\",\"horsepower\",\"weight\")\n",
        "resumen\n",
        "\n",
        "cat(\"\\nAIC =\",-2*out$value + 2*length(out$par))\n",
        "cat(\"\\nBIC =\",-2*out$value + log(length(y))*length(out$par))\n",
        "\n",
        "\n"
      ]
    },
    {
      "cell_type": "markdown",
      "source": [
        "# Funciones personalizadas"
      ],
      "metadata": {
        "id": "EZKa_EjRkR1_"
      }
    },
    {
      "cell_type": "markdown",
      "metadata": {
        "id": "kZenq4ztgedJ"
      },
      "source": [
        "\n",
        "<h1 style=\"color:red;\"> <strong> <center>Funciones personalizadas </center></strong> </h1>\n"
      ]
    },
    {
      "cell_type": "markdown",
      "metadata": {
        "id": "Kw-sRCptgedJ"
      },
      "source": [
        "\n",
        "<h3 id=\"Ejemplo-1:-Números-primos\"><strong>Ejemplo 1: Números primos</strong><a class=\"anchor-link\" href=\"#Ejemplo-1:-Números-primos\">¶</a></h3>\n"
      ]
    },
    {
      "cell_type": "code",
      "execution_count": null,
      "metadata": {
        "id": "oH1JuIangedK"
      },
      "outputs": [],
      "source": [
        "\n",
        "\n",
        "primos <- function(n){\n",
        "   if(missingArg(n)) stop(\"Introduzca un número entero mayor a 1\",call.=FALSE)\n",
        "   if(!is.numeric(n)) stop(\"Introduzca un número entero mayor a 1\",call.=FALSE)\n",
        "   if(n<=1 | n!=floor(n)) stop(\"Introduzca un número entero mayor a 1\",call.=FALSE)\n",
        "   nmax <- max(2,floor(sqrt(n)))\n",
        "   out <- matrix(0,nrow=nmax,ncol=1)\n",
        "   m <- n\n",
        "   id <- 1\n",
        "   for(i in 2:nmax){\n",
        "      while(m%%i == 0){\n",
        "           out[id] <- i\n",
        "           m <- m/i\n",
        "           id <- id + 1\n",
        "      }\n",
        "   }\n",
        "   out <- c(out,m); out <- out[out > 1]\n",
        "   salida <- list(primo=c(out[1]==n),factores=out)\n",
        "   if(salida$primo) \n",
        "     cat(\"\\n\",n,\"es un número primo\")\n",
        "   else{\n",
        "       cat(\"\\n\",n,\"no es un número primo.\\n De hecho, \")\n",
        "       f <- table(salida$factores)\n",
        "       f2 <- ifelse(f > 1,paste0(rownames(f),\"^(\",f,\")\"),rownames(f))\n",
        "       cat(n,\"=\",paste0(f2,collapse=\" * \"),\"\\n\")\n",
        "   }\n",
        "   return(invisible(salida))\n",
        "}\n",
        "\n",
        "primos(67850)\n",
        "\n",
        "\n"
      ]
    },
    {
      "cell_type": "markdown",
      "metadata": {
        "id": "C-SFb39agedK"
      },
      "source": [
        "\n",
        "<h3 id=\"Ejemplo-2:-Análisis-Exploratorio-Básico\"><strong>Ejemplo 2: Análisis Exploratorio Básico</strong><a class=\"anchor-link\" href=\"#Ejemplo-2:-Análisis-Exploratorio-Básico\">¶</a></h3>\n"
      ]
    },
    {
      "cell_type": "code",
      "execution_count": null,
      "metadata": {
        "id": "EsiQV2rBgedK"
      },
      "outputs": [],
      "source": [
        "\n",
        "\n",
        "summ <- function(x){\n",
        " x2 <- na.omit(x)\n",
        " y <- c(quantile(x2,c(0,0.25,0.5,0.75,1)),length(boxplot.stats(x2)$out),sum(is.na(x)))\n",
        " y <- c(y[1:6],100*y[6]/length(x),y[7],100*y[7]/length(x))\n",
        " names(y) <- c(\"Min\",\"Q1\",\"Median\",\"Q3\",\"Max\",\"Outliers\",\"(%)Outliers\",\"Missings\",\"(%)Missings\")\n",
        " return(round(y,digits=2))\n",
        "}\n",
        "\n",
        "summ2 <- function(x){\n",
        " x2 <- na.omit(x)   \n",
        " y <- c(length(unique(x2)),sum(is.na(x)))\n",
        " y <- c(y,100*y[2]/length(x))\n",
        " names(y) <- c(\"Levels\",\"Missings\",\"(%)Missings\")\n",
        " return(round(y,digits=2))\n",
        "}\n",
        "\n",
        "eda <- function(datos){\n",
        "         clases <- sapply(datos,class)\n",
        "         num <- clases == \"numeric\" | clases == \"integer\"\n",
        "         text <- clases == \"character\" | clases == \"factor\"\n",
        "         out_ <- list()\n",
        "         if(any(num)){\n",
        "           cat(\"\\n***Resumen de las variables numéricas***\\n\\n\")\n",
        "           datos1 <- as.data.frame(datos[,num])\n",
        "           colnames(datos1) <- colnames(datos)[num]\n",
        "           out_$numeric <- apply(datos1,2,summ)\n",
        "           print(out_$numeric)\n",
        "         }\n",
        "         if(any(text)){\n",
        "           cat(\"\\n***Resumen de las variables de texto***\\n\\n\")\n",
        "           datos2 <- as.data.frame(datos[,text])\n",
        "           colnames(datos2) <- colnames(datos)[text]\n",
        "           out_$text <- apply(datos2,2,summ2)  \n",
        "           print(out_$text)\n",
        "         }\n",
        "         missings <- apply(datos,1,function(x) return(sum(is.na(x))))\n",
        "         if(any(missings > 0)){\n",
        "           cat(\"\\n***Número de missings por individuo***\\n\\n\")\n",
        "           miss <- as.matrix(table(missings))\n",
        "           miss <- cbind(miss,round(100*miss/sum(miss),digits=2))\n",
        "           colnames(miss) <- c(\"Frequency\",\"%\")\n",
        "           out_$missings <- miss  \n",
        "           print(miss)\n",
        "         }\n",
        "         return(invisible(out_))                  \n",
        "}\n",
        "\n",
        "eda(airquality)\n",
        "eda(USArrests)\n",
        "eda(Municipios)\n",
        "\n",
        "\n"
      ]
    },
    {
      "cell_type": "markdown",
      "metadata": {
        "id": "vKY-X_KzgedK"
      },
      "source": [
        "<h3 id=\"Ejemplo-3:-Análisis-de-Componentes-Principales\"><strong>Ejemplo 3: Análisis de Componentes Principales</strong><a class=\"anchor-link\" href=\"#Ejemplo-3:-Análisis-de-Componentes-Principales\">¶</a></h3>"
      ]
    },
    {
      "cell_type": "markdown",
      "metadata": {
        "id": "HQ2EJ0hLgedK"
      },
      "source": [
        "<p><img height=\"900\" src=\"https://r2022.netlify.app/acp.png\" width=\"850\"/></p>"
      ]
    },
    {
      "cell_type": "code",
      "execution_count": null,
      "metadata": {
        "id": "gyf2yXIUgedK"
      },
      "outputs": [],
      "source": [
        "\n",
        "\n",
        "acp <- function(model,data,matrix=c(\"corr\",\"cov\")){\n",
        "      matrix <- match.arg(matrix)\n",
        "      X <- model.frame(model,data=data)\n",
        "      stdize <- function(x,matrix){\n",
        "                if(matrix==\"corr\") return((x-mean(x))/sd(x))\n",
        "                if(matrix==\"cov\")  return((x-mean(x)))\n",
        "      }\n",
        "      X <- apply(X,2,stdize,matrix=matrix)\n",
        "      Z <- t(X)%*%X\n",
        "      vvp <- eigen(Z,symmetric=TRUE)\n",
        "      vals <- vvp$values\n",
        "      vals <- cbind(vals,vals/sum(vals),cumsum(vals)/sum(vals))\n",
        "      colnames(vals) <- c(\"Eigenvalue\",\"Proportion\",\"Cumulative proportion\")\n",
        "      rownames(vals) <- paste0(\"PC\",1:ncol(X),sep=\"\")\n",
        "      print(vals,digits=3)\n",
        "      colnames(vvp$vectors) <- rownames(vals)\n",
        "      rownames(vvp$vectors) <- colnames(X)\n",
        "      print(vvp$vectors,digits=5)\n",
        "      out_ <- list(values=vars, pcs=vvp$vectors)\n",
        "      return(invisible(out_))\n",
        "}\n",
        "\n",
        "acp(~ Murder + Assault + Rape, data = USArrests)\n",
        "\n",
        "\n"
      ]
    },
    {
      "cell_type": "markdown",
      "metadata": {
        "id": "ZzCTTDCqgedK"
      },
      "source": [
        "<h3 id=\"Ejemplo-4:-Modelo-de-regresión-Normal-Lineal\"><strong>Ejemplo 4: Modelo de regresión Normal Lineal</strong><a class=\"anchor-link\" href=\"#Ejemplo-4:-Modelo-de-regresión-Normal-Lineal\">¶</a></h3>"
      ]
    },
    {
      "cell_type": "markdown",
      "metadata": {
        "id": "iFcZTOkqgedK"
      },
      "source": [
        "<p><img height=\"900\" src=\"https://r2022.netlify.app/reglin.png\" width=\"850\"/></p>"
      ]
    },
    {
      "cell_type": "code",
      "execution_count": null,
      "metadata": {
        "id": "LUUQXY6KgedL"
      },
      "outputs": [],
      "source": [
        "\n",
        "\n",
        "reglin <- function(model,data){\n",
        "      mf <- model.frame(model,data=data)\n",
        "      X <- model.matrix(mf,data=data)\n",
        "      n <- nrow(X)\n",
        "      p <- ncol(X)\n",
        "      y <- model.response(mf)\n",
        "      cov <- chol2inv(chol(t(X)%*%X))\n",
        "      b <- cov%*%t(X)%*%y\n",
        "      rownames(b) <- colnames(X)\n",
        "      mu <- X%*%b\n",
        "      sigma2 <- sum((y-mu)^2)/(n-p)\n",
        "      cov <- sigma2*cov\n",
        "      r2 <- 1-sum((y-mu)^2)/sum((y-mean(y))^2)\n",
        "      adj.r2 <- 1 - (1-r2)*((n-1)/(n-p))\n",
        "      out <- list(coef=b,sigma2=sigma2,cov=cov,r2=r2,adj.r2=adj.r2,fitted=mu)\n",
        "      class(out) <- \"mireglin\"\n",
        "      return(out)\n",
        "}\n",
        "coef.mireglin <- function(fit.model){\n",
        "                   return(fit.model$coef)\n",
        "}\n",
        "vcov.mireglin <- function(fit.model){\n",
        "                   return(fit.model$cov)\n",
        "}\n",
        "summary.mireglin <- function(fit){\n",
        "      p <- length(fit$coef)\n",
        "      n <- length(fit$fitted)\n",
        "      t <- fit$coef/sqrt(diag(fit$cov))\n",
        "      f <- (1/(1-fit$r2)-1)*(n-p)/(p-1)\n",
        "      a <- cbind(fit$coef,sqrt(diag(fit$cov)),t,1-pf(t^2,1,n-p))\n",
        "      colnames(a) <- c(\"Estimate\",\"Std. Error\",\"t value\",\"Pr(>|t|)\")\n",
        "      rownames(a) <- rownames(fit$coef)\n",
        "      cat(\"\\nCoefficients:\\n\")\n",
        "      printCoefmat(a,P.values=TRUE,signif.stars=TRUE,has.Pvalue=TRUE,digits=5,\n",
        "                   dig.tst=5,signif.legend=TRUE,tst.ind=c(1,2,3))\n",
        "      cat(\"\\nResidual standard error:\",round(sqrt(fit$sigma2),3),\"on\",n-p,\n",
        "          \"degrees of freedom\\n\")\n",
        "      cat(\"Multiple R-squared:\",round(fit$r2,4),\",Adjusted R-squared:\",\n",
        "          round(fit$adj.r2,4),\"\\n\")\n",
        "      cat(\"F-statistic:\",round(f,2),\" on\",p-1,\"and\",n-p,\"DF,p-value:\",\n",
        "          1-pf(f,p-1,n-p),\"\\n\\n\")\n",
        "}\n",
        "\n",
        "\n"
      ]
    },
    {
      "cell_type": "code",
      "execution_count": null,
      "metadata": {
        "id": "FP2e6_Q3gedL"
      },
      "outputs": [],
      "source": [
        "\n",
        "\n",
        "data(Auto,package=\"ISLR\")\n",
        "fit1 <- lm(mpg ~ log(horsepower) + log(weight),data=Auto)\n",
        "summary(fit1)\n",
        "coef(fit1)\n",
        "vcov(fit1)\n",
        "\n",
        "fit2 <- reglin(mpg ~ log(horsepower) + log(weight),data=Auto)\n",
        "summary(fit2)\n",
        "coef(fit2)\n",
        "vcov(fit2)\n",
        "\n",
        "\n"
      ]
    },
    {
      "cell_type": "markdown",
      "metadata": {
        "id": "CdeVWsZjgedL"
      },
      "source": [
        "<h3 id=\"Ejemplo-5:-Modelo-de-regresión-logístico\"><strong>Ejemplo 5: Modelo de regresión logístico</strong><a class=\"anchor-link\" href=\"#Ejemplo-5:-Modelo-de-regresión-logístico\">¶</a></h3>"
      ]
    },
    {
      "cell_type": "markdown",
      "metadata": {
        "id": "Nu5tSBYngedL"
      },
      "source": [
        "<p><img height=\"900\" src=\"https://r2022.netlify.app/reglogis.png\" width=\"850\"/></p>"
      ]
    },
    {
      "cell_type": "code",
      "execution_count": null,
      "metadata": {
        "id": "6FBNbFxLgedL"
      },
      "outputs": [],
      "source": [
        "\n",
        "\n",
        "reglogis <- function(model,data){\n",
        "        mf <- model.frame(model,data=data)\n",
        "        X <- model.matrix(mf,data=data)\n",
        "        n <- nrow(X)\n",
        "        p <- ncol(X)\n",
        "        y <- model.response(mf)\n",
        "        bNew <- chol2inv(chol(t(X)%*%X))%*%t(X)%*%log(abs(y-0.01)/(1-abs(y-0.01)))\n",
        "        epsilon <- 0.0000001\n",
        "        tol <- 1\n",
        "        iter <- 0\n",
        "        while(tol > epsilon){\n",
        "             bOld <- bNew\n",
        "             mu <- exp(X%*%bOld)/(1+exp(X%*%bOld))\n",
        "             Xw <- X*matrix(sqrt(mu*(1-mu)),n,p)\n",
        "             bNew <- bOld + chol2inv(chol(t(Xw)%*%Xw))%*%t(X)%*%(y-mu)\n",
        "             tol <- max(abs((bNew-bOld)/bOld))\n",
        "             iter <- iter + 1\n",
        "        }\n",
        "        mu <- exp(X%*%bNew)/(1+exp(X%*%bNew))\n",
        "        Xw <- X*matrix(sqrt(mu*(1-mu)),n,p); cov <- chol2inv(chol(t(Xw)%*%Xw))\n",
        "        dev <- -2*sum(y*log(mu) + (1-y)*log(1-mu))\n",
        "        dev0 <- -2*sum(y*log(mean(y)) + (1-y)*log(1-mean(y)))\n",
        "        out <- list(coef=bNew,cov=cov,deviance=dev,deviance0=dev0,\n",
        "                    df=n-p,iter=iter,res=y-mu,fitted=mu)\n",
        "        class(out) <- \"mireglogis\"\n",
        "        return(out)\n",
        "}\n",
        "coef.mireglogis <- function(fit.model){\n",
        "                     return(fit.model$coef)\n",
        "}\n",
        "vcov.mireglogis <- function(fit.model){\n",
        "                     return(fit.model$cov)\n",
        "}\n",
        "summary.mireglogis <- function(fit){\n",
        "      p <- length(fit$coef)\n",
        "      n <- length(fit$fitted)\n",
        "      z <- fit$coef/sqrt(diag(fit$cov))\n",
        "      a <- cbind(fit$coef,sqrt(diag(fit$cov)),z,1-pchisq(z^2,1))\n",
        "      colnames(a) <- c(\"Estimate\",\"Std. Error\",\"z value\",\"Pr(>|z|)\")\n",
        "      rownames(a) <- rownames(fit$coef)\n",
        "      cat(\"\\nCoefficients:\\n\")\n",
        "      printCoefmat(a,P.values=TRUE,signif.stars=TRUE,has.Pvalue=TRUE,\n",
        "                   digits=5,dig.tst=5,signif.legend=TRUE,tst.ind=c(1,2,3))\n",
        "      cat(\"\\n Null deviance:\",round(fit$deviance0,3),\" on \",n-1,\n",
        "          \" degrees of freedom\\n\")\n",
        "      cat(\"Residual deviance:\",round(fit$deviance,3),\" on \",n-p,\n",
        "          \" degrees of freedom\\n\")\n",
        "      cat(\"AIC: \",round(fit$deviance + 2*p,3),\"\\n\\n\")\n",
        "      cat(\"Number of Fisher Scoring iterations:\",fit$iter,\"\\n\\n\")\n",
        "}\n",
        "\n",
        "\n"
      ]
    },
    {
      "cell_type": "code",
      "execution_count": null,
      "metadata": {
        "id": "ENX0i0rwgedL"
      },
      "outputs": [],
      "source": [
        "\n",
        "\n",
        "data(burn1000,package=\"aplore3\")\n",
        "burn1000 <- within(burn1000,resp <- ifelse(death==\"Alive\",1,0))\n",
        "\n",
        "fit1 <- glm(resp ~ age*tbsa*inh_inj,data=burn1000,family=binomial(link=\"logit\"))\n",
        "coef(fit1)\n",
        "vcov(fit1)\n",
        "summary(fit1)\n",
        "\n",
        "fit2 <- reglogis(resp ~ age*tbsa*inh_inj,data=burn1000)\n",
        "coef(fit2)\n",
        "vcov(fit2)\n",
        "summary(fit2)\n",
        "\n",
        "\n"
      ]
    },
    {
      "cell_type": "markdown",
      "metadata": {
        "id": "6rWTpebSgedM"
      },
      "source": [
        "<h3 id=\"Ejemplo-6:-Muestra-aleatoria-de-la-normal-multivariada\"><strong>Ejemplo 6: Muestra aleatoria de la normal multivariada</strong><a class=\"anchor-link\" href=\"#Ejemplo-6:-Muestra-aleatoria-de-la-normal-multivariada\">¶</a></h3>"
      ]
    },
    {
      "cell_type": "markdown",
      "metadata": {
        "id": "WnsP01trgedM"
      },
      "source": [
        "<p><img height=\"900\" src=\"https://r2022.netlify.app/rmultnorm.png\" width=\"850\"/></p>"
      ]
    },
    {
      "cell_type": "code",
      "execution_count": null,
      "metadata": {
        "id": "3U3e5r6rgedM"
      },
      "outputs": [],
      "source": [
        "\n",
        "\n",
        "rmnormal <- function(n,mu,Sigma){\n",
        "      m <- nrow(Sigma)\n",
        "      R <- chol(Sigma)\n",
        "      salida <- matrix(rnorm(m*n),m,n)\n",
        "      salida <- matrix(mu,m,n) + t(R)%*%salida\n",
        "      salida <- t(salida)\n",
        "      colnames(salida) <- as.character(c(1:m))\n",
        "      rownames(salida) <- as.character(c(1:n))\n",
        "      return(salida)\n",
        "}\n",
        "\n",
        "mu <- rep(0, 2)\n",
        "Sigma <- matrix(c(10,3,3,2),2,2)\n",
        "mu\n",
        "Sigma\n",
        "\n",
        "muestra <- rmnormal(n=10000,mu=mu,Sigma=Sigma)\n",
        "\n",
        "\n"
      ]
    },
    {
      "cell_type": "markdown",
      "source": [
        "# Bibliografia"
      ],
      "metadata": {
        "id": "5yQP1HwGlxjV"
      }
    },
    {
      "cell_type": "markdown",
      "metadata": {
        "id": "RS1VNc-6gedM"
      },
      "source": [
        "<p></p><h1 style=\"color:red;\"> <strong> <center>Bibliografia</center></strong> </h1>"
      ]
    },
    {
      "cell_type": "markdown",
      "metadata": {
        "id": "VOwwL0n_gedM"
      },
      "source": [
        "<img height=\"600\" src=\"https://r2022.netlify.app/rfds.png\" width=\"600\"/>\n",
        "<img height=\"600\" src=\"https://r2022.netlify.app/dscpyr.jpg\" width=\"600\"/>\n",
        "<img height=\"600\" src=\"https://r2022.netlify.app/ar.jpg\" width=\"600\"/>"
      ]
    }
  ],
  "metadata": {
    "kernelspec": {
      "display_name": "Python 3 (ipykernel)",
      "language": "python",
      "name": "python3"
    },
    "language_info": {
      "codemirror_mode": {
        "name": "ipython",
        "version": 3
      },
      "file_extension": ".py",
      "mimetype": "text/x-python",
      "name": "python",
      "nbconvert_exporter": "python",
      "pygments_lexer": "ipython3",
      "version": "3.8.13"
    },
    "colab": {
      "provenance": [],
      "collapsed_sections": [
        "fRhPROwGw6mR",
        "2cGU8tjYw9e6",
        "0STT7g5F0y6w",
        "gBIRs3RjhIDd",
        "R8kAq4DFhQuH",
        "4Yir2nYtjAwg",
        "N0eGrGjKjRjy",
        "JdJXO3bcjYD0",
        "F9QXCGlPjqrT",
        "eeolahQnjuBy",
        "ihuidmqekA2A",
        "KN1TyCrfkF4q",
        "EZKa_EjRkR1_",
        "5yQP1HwGlxjV"
      ],
      "toc_visible": true,
      "include_colab_link": true
    }
  },
  "nbformat": 4,
  "nbformat_minor": 0
}