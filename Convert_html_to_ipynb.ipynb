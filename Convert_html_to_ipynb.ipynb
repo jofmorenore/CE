{
 "cells": [
  {
   "cell_type": "code",
   "execution_count": 1,
   "id": "e5894a2e-f779-4bfd-ab79-2ee4268dd6d5",
   "metadata": {},
   "outputs": [
    {
     "name": "stdout",
     "output_type": "stream",
     "text": [
      "<div class=\"jp-Cell jp-MarkdownCell jp-Notebook-cell\">\n",
      "<div class=\"jp-Cell-inputWrapper\">\n",
      "<div class=\"jp-Collapser jp-InputCollapser jp-Cell-inputCollapser\">\n",
      "</div>\n",
      "<div class=\"jp-InputArea jp-Cell-inputArea\"><div class=\"jp-InputPrompt jp-InputArea-prompt\">\n",
      "</div><div class=\"jp-RenderedHTMLCommon jp-RenderedMarkdown jp-MarkdownOutput\" data-mime-type=\"text/markdown\">\n",
      "<center><strong><h1 style=\"color:red;\"> Introducción a SAS </h1></strong></center>\n",
      "<center><strong><h2 style=\"color:black;\"> Luis Hernando Vanegas (lhvanegasp@unal.edu.co) </h2></strong></center>\n",
      "<center><strong><h2 style=\"color:black;\"> Luis Marina Rondón (lmrondonp@unal.edu.co) </h2></strong></center>\n",
      "<center><strong><h3 style=\"color:blue;\"> Universidad Nacional de Colombia </h3></strong></center>\n",
      "<center><strong><h3 style=\"color:blue;\"> Sede Bogotá </h3></strong></center>\n",
      "<center><strong><h3 style=\"color:blue;\"> Facultad de Ciencias </h3></strong></center>\n",
      "<center><strong><h3 style=\"color:blue;\"> Departamento de Estadística </h3></strong></center>\n",
      "</div>\n",
      "</div>\n",
      "</div>\n",
      "</div>\n"
     ]
    },
    {
     "data": {
      "text/plain": [
       "142027"
      ]
     },
     "execution_count": 1,
     "metadata": {},
     "output_type": "execute_result"
    }
   ],
   "source": [
    "# https://stackoverflow.com/questions/28972614/jupyter-ipython-notebook-convert-an-html-notebook-to-ipynb\n",
    "from bs4 import BeautifulSoup\n",
    "import json\n",
    "import urllib.request\n",
    "#  for local html file\n",
    "#response = open(\"/home/fm/Downloads/R2.html\")\n",
    "response = open(\"/home/fm/Downloads/Sas.html\")\n",
    "text = response.read()\n",
    "\n",
    "soup = BeautifulSoup(text, 'lxml')\n",
    "# see some of the html\n",
    "print(soup.div)\n",
    "dictionary = {'nbformat': 4, 'nbformat_minor': 1, 'cells': [], 'metadata': {}}\n",
    "for d in soup.findAll(\"div\"):\n",
    "    if 'class' in d.attrs.keys():\n",
    "        for clas in d.attrs[\"class\"]:\n",
    "            if clas in [\"jp-RenderedMarkdown\", \"jp-InputArea-editor\"]:\n",
    "                # code cell\n",
    "                if clas == \"jp-InputArea-editor\":\n",
    "                    cell = {}\n",
    "                    cell['metadata'] = {}\n",
    "                    #cell['outputs'] = []\n",
    "                    cell['source'] = [d.get_text()]\n",
    "                    cell['execution_count'] = None\n",
    "                    cell['cell_type'] = 'code'\n",
    "                    dictionary['cells'].append(cell)\n",
    "\n",
    "                else:\n",
    "                    cell = {}\n",
    "                    cell['metadata'] = {}\n",
    "\n",
    "                    cell['source'] = [d.decode_contents()]\n",
    "                    cell['cell_type'] = 'markdown'\n",
    "                    dictionary['cells'].append(cell)\n",
    "open('Sas_CONVERTED_BACK.ipynb', 'w').write(json.dumps(dictionary))\n",
    "#open('R2_CONVERTED_BACK.ipynb', 'w').write(json.dumps(dictionary))"
   ]
  },
  {
   "cell_type": "code",
   "execution_count": 2,
   "id": "9f2fe96c-155f-4fb2-815d-7d57a891d54b",
   "metadata": {},
   "outputs": [
    {
     "name": "stdout",
     "output_type": "stream",
     "text": [
      "<div class=\"jp-Cell jp-MarkdownCell jp-Notebook-cell\">\n",
      "<div class=\"jp-Cell-inputWrapper\">\n",
      "<div class=\"jp-Collapser jp-InputCollapser jp-Cell-inputCollapser\">\n",
      "</div>\n",
      "<div class=\"jp-InputArea jp-Cell-inputArea\"><div class=\"jp-InputPrompt jp-InputArea-prompt\">\n",
      "</div><div class=\"jp-RenderedHTMLCommon jp-RenderedMarkdown jp-MarkdownOutput\" data-mime-type=\"text/markdown\">\n",
      "<center><strong><h1 style=\"color:red;\"> Introducción a SAS </h1></strong></center>\n",
      "<center><strong><h2 style=\"color:black;\"> Luis Hernando Vanegas (lhvanegasp@unal.edu.co) </h2></strong></center>\n",
      "<center><strong><h2 style=\"color:black;\"> Luis Marina Rondón (lmrondonp@unal.edu.co) </h2></strong></center>\n",
      "<center><strong><h3 style=\"color:blue;\"> Universidad Nacional de Colombia </h3></strong></center>\n",
      "<center><strong><h3 style=\"color:blue;\"> Sede Bogotá </h3></strong></center>\n",
      "<center><strong><h3 style=\"color:blue;\"> Facultad de Ciencias </h3></strong></center>\n",
      "<center><strong><h3 style=\"color:blue;\"> Departamento de Estadística </h3></strong></center>\n",
      "</div>\n",
      "</div>\n",
      "</div>\n",
      "</div>\n"
     ]
    }
   ],
   "source": [
    "print(soup.div)"
   ]
  }
 ],
 "metadata": {
  "kernelspec": {
   "display_name": "Python 3 (ipykernel)",
   "language": "python",
   "name": "python3"
  },
  "language_info": {
   "codemirror_mode": {
    "name": "ipython",
    "version": 3
   },
   "file_extension": ".py",
   "mimetype": "text/x-python",
   "name": "python",
   "nbconvert_exporter": "python",
   "pygments_lexer": "ipython3",
   "version": "3.8.13"
  }
 },
 "nbformat": 4,
 "nbformat_minor": 5
}
