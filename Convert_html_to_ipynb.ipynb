{
 "cells": [
  {
   "cell_type": "code",
   "execution_count": null,
   "id": "e5894a2e-f779-4bfd-ab79-2ee4268dd6d5",
   "metadata": {},
   "outputs": [],
   "source": [
    "# https://stackoverflow.com/questions/28972614/jupyter-ipython-notebook-convert-an-html-notebook-to-ipynb\n",
    "from bs4 import BeautifulSoup\n",
    "import json\n",
    "import urllib.request\n",
    "#  for local html file\n",
    "response = open(\"/home/fm/Downloads/R2.html\")\n",
    "text = response.read()\n",
    "\n",
    "soup = BeautifulSoup(text, 'lxml')\n",
    "# see some of the html\n",
    "print(soup.div)\n",
    "dictionary = {'nbformat': 4, 'nbformat_minor': 1, 'cells': [], 'metadata': {}}\n",
    "for d in soup.findAll(\"div\"):\n",
    "    if 'class' in d.attrs.keys():\n",
    "        for clas in d.attrs[\"class\"]:\n",
    "            if clas in [\"jp-RenderedMarkdown\", \"jp-InputArea-editor\"]:\n",
    "                # code cell\n",
    "                if clas == \"jp-InputArea-editor\":\n",
    "                    cell = {}\n",
    "                    cell['metadata'] = {}\n",
    "                    #cell['outputs'] = []\n",
    "                    cell['source'] = [d.get_text()]\n",
    "                    cell['execution_count'] = None\n",
    "                    cell['cell_type'] = 'code'\n",
    "                    dictionary['cells'].append(cell)\n",
    "\n",
    "                else:\n",
    "                    cell = {}\n",
    "                    cell['metadata'] = {}\n",
    "\n",
    "                    cell['source'] = [d.decode_contents()]\n",
    "                    cell['cell_type'] = 'markdown'\n",
    "                    dictionary['cells'].append(cell)\n",
    "open('R2_CONVERTED_BACK.ipynb', 'w').write(json.dumps(dictionary))"
   ]
  },
  {
   "cell_type": "code",
   "execution_count": null,
   "id": "9f2fe96c-155f-4fb2-815d-7d57a891d54b",
   "metadata": {},
   "outputs": [],
   "source": [
    "print(soup.div)"
   ]
  }
 ],
 "metadata": {
  "kernelspec": {
   "display_name": "Python 3 (ipykernel)",
   "language": "python",
   "name": "python3"
  },
  "language_info": {
   "codemirror_mode": {
    "name": "ipython",
    "version": 3
   },
   "file_extension": ".py",
   "mimetype": "text/x-python",
   "name": "python",
   "nbconvert_exporter": "python",
   "pygments_lexer": "ipython3",
   "version": "3.8.13"
  }
 },
 "nbformat": 4,
 "nbformat_minor": 5
}
