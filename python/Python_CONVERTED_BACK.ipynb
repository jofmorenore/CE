{
  "cells": [
    {
      "cell_type": "markdown",
      "metadata": {
        "id": "view-in-github",
        "colab_type": "text"
      },
      "source": [
        "<a href=\"https://colab.research.google.com/github/jofmorenore/CE/blob/main/python/Python_CONVERTED_BACK.ipynb\" target=\"_parent\"><img src=\"https://colab.research.google.com/assets/colab-badge.svg\" alt=\"Open In Colab\"/></a>"
      ]
    },
    {
      "cell_type": "markdown",
      "metadata": {
        "id": "VpYe_KZ4vecp"
      },
      "source": [
        "\n",
        "<center><strong><h1 style=\"color:red;\"> Introducción a Python </h1></strong></center>\n",
        "<center><strong><h2 style=\"color:black;\"> Luis Hernando Vanegas (lhvanegasp@unal.edu.co) </h2></strong></center>\n",
        "<center><strong><h2 style=\"color:black;\"> Luis Marina Rondón (lmrondonp@unal.edu.co) </h2></strong></center>\n",
        "<center><strong><h3 style=\"color:blue;\"> Universidad Nacional de Colombia </h3></strong></center>\n",
        "<center><strong><h3 style=\"color:blue;\"> Sede Bogotá </h3></strong></center>\n",
        "<center><strong><h3 style=\"color:blue;\"> Facultad de Ciencias </h3></strong></center>\n",
        "<center><strong><h3 style=\"color:blue;\"> Departamento de Estadística </h3></strong></center>\n"
      ]
    },
    {
      "cell_type": "markdown",
      "source": [
        "# <center><h2><a style=\"color:red;\"> Personalizando el directorio de trabajo </a></h2></center>"
      ],
      "metadata": {
        "id": "N15cNAdwwjCc"
      }
    },
    {
      "cell_type": "code",
      "execution_count": null,
      "metadata": {
        "id": "o86g9gShvecr"
      },
      "outputs": [],
      "source": [
        "\n",
        "\n",
        "import os\n",
        "os.getcwd()\n",
        "\n",
        "\n"
      ]
    },
    {
      "cell_type": "code",
      "execution_count": null,
      "metadata": {
        "id": "Pbvb01Fivecs"
      },
      "outputs": [],
      "source": [
        "\n",
        "\n",
        "os.chdir(\"C:\\\\Nano\\\\Computacion Estadistica\")\n",
        "os.getcwd()\n",
        "\n",
        "\n"
      ]
    },
    {
      "cell_type": "markdown",
      "metadata": {
        "id": "8nFAILtEvecs"
      },
      "source": [
        "\n",
        "# <center><h2><a style=\"color:red;\"> Importación de datos </a></h2></center>\n"
      ]
    },
    {
      "cell_type": "markdown",
      "source": [
        "## <h3><a style=\"color:black;\"> Archivos con extensiones xls y xlsx </a></h3>"
      ],
      "metadata": {
        "id": "IZ40Ce2SwsW1"
      }
    },
    {
      "cell_type": "code",
      "execution_count": null,
      "metadata": {
        "id": "tLLM169svect"
      },
      "outputs": [],
      "source": [
        "\n",
        "\n",
        "import pandas as pd\n",
        "import numpy as np\n",
        "pd.options.display.float_format = '{:,.2f}'.format\n",
        "\n",
        "\n"
      ]
    },
    {
      "cell_type": "markdown",
      "metadata": {
        "id": "Sg3gL-hnvect"
      },
      "source": [
        "\n",
        "### <h4><a href=\"https://pandas.pydata.org/docs/user_guide/index.html\" style=\"color:red;\" target=\"_blank\"><strong>Documentación de pandas</strong></a></h4>\n"
      ]
    },
    {
      "cell_type": "code",
      "execution_count": null,
      "metadata": {
        "id": "Vcp_sSYavect"
      },
      "outputs": [],
      "source": [
        "\n",
        "\n",
        "help(pd.read_excel)\n",
        "\n",
        "\n"
      ]
    },
    {
      "cell_type": "markdown",
      "metadata": {
        "id": "Hy4hL6ssvecu"
      },
      "source": [
        "\n",
        "<h4 style=\"color:red;\">Ejemplo 1</h4>\n",
        "<p align=\"justify\"> Se leen los datos disponibles en la hoja número 12 del libro de Excel <strong><i>sample.xlsx</i></strong>, cuya primera fila contiene los nombres de las variables.</p>\n"
      ]
    },
    {
      "cell_type": "code",
      "execution_count": null,
      "metadata": {
        "id": "m6tGqkHhvecu"
      },
      "outputs": [],
      "source": [
        "\n",
        "\n",
        "plantulas1 = pd.read_excel(\"sample.xlsx\",sheet_name=12,header=0)\n",
        "plantulas1.info()\n",
        "\n",
        "\n"
      ]
    },
    {
      "cell_type": "code",
      "execution_count": null,
      "metadata": {
        "id": "gb8Cp9wvvecu"
      },
      "outputs": [],
      "source": [
        "\n",
        "\n",
        "plantulas1.head(10)\n",
        "\n",
        "\n"
      ]
    },
    {
      "cell_type": "code",
      "execution_count": null,
      "metadata": {
        "id": "qWQUGZ0ivecv"
      },
      "outputs": [],
      "source": [
        "\n",
        "\n",
        "plantulas1.tail(10)\n",
        "\n",
        "\n"
      ]
    },
    {
      "cell_type": "code",
      "execution_count": null,
      "metadata": {
        "id": "hDpOgmAUvecv"
      },
      "outputs": [],
      "source": [
        "\n",
        "\n",
        "plantulas1.shape\n",
        "\n",
        "\n"
      ]
    },
    {
      "cell_type": "code",
      "execution_count": null,
      "metadata": {
        "id": "qTphxpeGvecv"
      },
      "outputs": [],
      "source": [
        "\n",
        "\n",
        "plantulas1.columns\n",
        "\n",
        "\n"
      ]
    },
    {
      "cell_type": "code",
      "execution_count": null,
      "metadata": {
        "id": "P_hsDNACvecv"
      },
      "outputs": [],
      "source": [
        "\n",
        "\n",
        "plantulas1.axes\n",
        "\n",
        "\n"
      ]
    },
    {
      "cell_type": "code",
      "execution_count": null,
      "metadata": {
        "id": "7FxI1PNSvecv"
      },
      "outputs": [],
      "source": [
        "\n",
        "\n",
        "plantulas1.dtypes\n",
        "\n",
        "\n"
      ]
    },
    {
      "cell_type": "markdown",
      "metadata": {
        "id": "2Q_2AjTBvecw"
      },
      "source": [
        "\n",
        "<h4 style=\"color:red;\">Ejemplo 2</h4>\n",
        "<p align=\"justify\"> Se leen los datos disponibles en la hoja <i>Plantulas</i> del libro de Excel <strong><i>sample.xlsx</i></strong>, la cual corresponde a la hoja número 13 del libro.</p>\n"
      ]
    },
    {
      "cell_type": "code",
      "execution_count": null,
      "metadata": {
        "id": "WSL8GmS-vecw"
      },
      "outputs": [],
      "source": [
        "\n",
        "\n",
        "plantulas2 = pd.read_excel(\"sample.xlsx\",sheet_name=\"Plantulas\",header=0)\n",
        "plantulas2.info()\n",
        "plantulas2.tail(10)\n",
        "\n",
        "\n"
      ]
    },
    {
      "cell_type": "markdown",
      "metadata": {
        "id": "RbrPa0c6vecw"
      },
      "source": [
        "\n",
        "<h4 style=\"color:red;\">Ejemplo 3</h4>\n",
        "<p align=\"justify\"> Se leen los datos en las columnas \"A\", \"B\", \"C\" y \"E\" de la hoja <i>Plantulas</i> del libro de Excel <strong><i>sample.xlsx</i></strong>.</p>\n"
      ]
    },
    {
      "cell_type": "code",
      "execution_count": null,
      "metadata": {
        "id": "FRf83lVSvecw"
      },
      "outputs": [],
      "source": [
        "\n",
        "\n",
        "plantulas3 = pd.read_excel(\"sample.xlsx\",sheet_name=\"Plantulas\",usecols=\"A:C,E\",header=0)\n",
        "plantulas3.info()\n",
        "plantulas3.head(10)\n",
        "\n",
        "\n"
      ]
    },
    {
      "cell_type": "markdown",
      "metadata": {
        "id": "-dIvDYqLvecw"
      },
      "source": [
        "\n",
        "<h4 style=\"color:red;\">Ejemplo 4</h4>\n",
        "<p align=\"justify\"> Se leen solo las primeras 35 filas de datos en la hoja <i>Plantulas</i> del libro de Excel <strong><i>sample.xlsx</i></strong>.</p>\n"
      ]
    },
    {
      "cell_type": "code",
      "execution_count": null,
      "metadata": {
        "id": "LuBAOK82vecw"
      },
      "outputs": [],
      "source": [
        "\n",
        "\n",
        "plantulas4 = pd.read_excel(\"sample.xlsx\",sheet_name=\"Plantulas\",nrows=35,header=0)\n",
        "plantulas4.info()\n",
        "plantulas4.head(10)\n",
        "\n",
        "\n"
      ]
    },
    {
      "cell_type": "markdown",
      "metadata": {
        "id": "0ZEfss2lvecw"
      },
      "source": [
        "\n",
        "<h4 style=\"color:red;\">Ejemplo 5</h4>\n",
        "<p align=\"justify\"> Se leen los datos en la hoja <i>Plantulas</i> del libro de Excel <strong><i>sample.xlsx</i></strong> dándole nombres personalizados a las variables.</p>\n"
      ]
    },
    {
      "cell_type": "code",
      "execution_count": null,
      "metadata": {
        "id": "_YFSyZOUvecw"
      },
      "outputs": [],
      "source": [
        "\n",
        "\n",
        "plantulas5 = pd.read_excel(\"sample.xlsx\",sheet_name=\"Plantulas\",header=0,\n",
        "                           names=[\"IdParcela\",\"N_I\",\"IdPlantula\",\"N_i\",\"Altura\"])\n",
        "plantulas5.info()\n",
        "plantulas5.head(10)\n",
        "\n",
        "\n"
      ]
    },
    {
      "cell_type": "markdown",
      "metadata": {
        "id": "ahY0FWELvecw"
      },
      "source": [
        "\n",
        "<h4 style=\"color:red;\">Ejemplo 6</h4>\n",
        "<p align=\"justify\"> Se leen los datos en la hoja <i>Plantulas</i> del libro de Excel <strong><i>sample.xlsx</i></strong>, dándole nombres personalizados a las variables y leyendo estas últimas con formato <i>text</i>, <i>numeric</i>, <i>text</i>, <i>numeric</i> y <i>numeric</i>, respectivamente.</p>\n"
      ]
    },
    {
      "cell_type": "code",
      "execution_count": null,
      "metadata": {
        "id": "FAls436lvecx"
      },
      "outputs": [],
      "source": [
        "\n",
        "\n",
        "plantulas6 = pd.read_excel(\"sample.xlsx\",sheet_name=\"Plantulas\",header=0,\n",
        "                          names=[\"IdParcela\",\"N_I\",\"IdPlantula\",\"N_i\",\"Altura\"],\n",
        "                          dtype={\"IdParcela\":str,\"N_I\":np.int64,\"IdPlantula\":str,\n",
        "                                 \"N_i\":np.float64,\"Altura\":np.float64})\n",
        "plantulas6.info()\n",
        "plantulas6.head(10)\n",
        "\n",
        "\n"
      ]
    },
    {
      "cell_type": "markdown",
      "metadata": {
        "id": "aoEwQu7ovecx"
      },
      "source": [
        "\n",
        "<h4 style=\"color:red;\">Ejemplo 7</h4>\n",
        "<p align=\"justify\"> Se leen los datos en la hoja <i>Plantulas</i> del libro de Excel <strong><i>sample.xlsx</i></strong>, dándole nombres personalizados a las variables y leyendo estas últimas con formato <i>text</i>, <i>skip</i>, <i>text</i>, <i>guess</i> y <i>numeric</i>, respectivamente. Por lo tanto, la segunda variable se excluye y el tipo de la cuarta variable se especifica a partir de una inspección de los datos.</p>\n"
      ]
    },
    {
      "cell_type": "code",
      "execution_count": null,
      "metadata": {
        "id": "BPSIz1qbvecx"
      },
      "outputs": [],
      "source": [
        "\n",
        "\n",
        "plantulas7 = pd.read_excel(\"sample.xlsx\",sheet_name=\"Plantulas\",header=0,usecols=[0,2,3,4],\n",
        "                           names=[\"IdParcela\",\"IdPlantula\",\"N_i\",\"Altura\"],\n",
        "                           dtype={\"IdParcela\":str,\"IdPlantula\":str,\"Altura\":np.float64})\n",
        "plantulas7.info()\n",
        "plantulas7.head(10)\n",
        "\n",
        "\n"
      ]
    },
    {
      "cell_type": "markdown",
      "metadata": {
        "id": "BXHrrY9kvecx"
      },
      "source": [
        "\n",
        "## <h3><a style=\"color:black;\"> Archivos con extensiones txt, csv, tsv, dlm y dat </a></h3>\n"
      ]
    },
    {
      "cell_type": "markdown",
      "source": [
        "### <h4><a style=\"color:black;\"> Archivos delimitados </a></h4>"
      ],
      "metadata": {
        "id": "Qd6Xw2Ruw35j"
      }
    },
    {
      "cell_type": "code",
      "execution_count": null,
      "metadata": {
        "id": "hNLVjycBvecx"
      },
      "outputs": [],
      "source": [
        "\n",
        "\n",
        "help(pd.read_table)\n",
        "\n",
        "\n"
      ]
    },
    {
      "cell_type": "markdown",
      "metadata": {
        "id": "5Y273zsmvecx"
      },
      "source": [
        "\n",
        "<h4 style=\"color:red;\">Ejemplo 8</h4>\n",
        "<p align=\"justify\"> Se leen los datos en el archivo <strong><i>stocks.dlm</i></strong>, en el que los datos están separados por espacios y la primera fila contiene los nombres de las variables.</p>\n"
      ]
    },
    {
      "cell_type": "code",
      "execution_count": null,
      "metadata": {
        "id": "Cm5wMi9Svecx"
      },
      "outputs": [],
      "source": [
        "\n",
        "\n",
        "stocks1 = pd.read_table(\"stocks.dlm\",delimiter=\" \",header=0)\n",
        "stocks1.info()\n",
        "stocks1.head(10)\n",
        "\n",
        "\n"
      ]
    },
    {
      "cell_type": "markdown",
      "metadata": {
        "id": "dkS7d6Ejvecy"
      },
      "source": [
        "\n",
        "<h4 style=\"color:red;\">Ejemplo 9</h4>\n",
        "<p align=\"justify\"> Se leen los datos en el archivo <strong><i>stocks.dlm</i></strong> especificando que el separador decimal es \",\" y el separador de agrupamiento es \".\".</p>\n"
      ]
    },
    {
      "cell_type": "code",
      "execution_count": null,
      "metadata": {
        "id": "oOwt0ppwvecy"
      },
      "outputs": [],
      "source": [
        "\n",
        "\n",
        "stocks2 = pd.read_table(\"stocks.dlm\",delimiter=\" \",decimal=\",\",thousands=\".\",header=0)\n",
        "stocks2.info()\n",
        "stocks2.head(10)\n",
        "\n",
        "\n"
      ]
    },
    {
      "cell_type": "markdown",
      "metadata": {
        "id": "emBnfKGCvecy"
      },
      "source": [
        "\n",
        "<h4 style=\"color:red;\">Ejemplo 10</h4>\n",
        "<p align=\"justify\"> Se leen los datos en el archivo <strong><i>stocks.dlm</i></strong> especificando el formato en el que se deben leer las variables.</p>\n"
      ]
    },
    {
      "cell_type": "code",
      "execution_count": null,
      "metadata": {
        "id": "TaaLUbQUvecy"
      },
      "outputs": [],
      "source": [
        "\n",
        "\n",
        "stocks3 = pd.read_table(\"stocks.dlm\",delimiter=\" \",decimal=\",\",thousands=\".\",header=0,\n",
        "                        dtype={\"A\":str,\"B\":str,\"C\":np.float64,\"D\":np.float64,\"E\":np.float64,\n",
        "                              \"F\":np.float64,\"G\":np.float64,\"H\":np.float64},\n",
        "                        parse_dates=[\"B\"])\n",
        "\n",
        "\n"
      ]
    },
    {
      "cell_type": "markdown",
      "metadata": {
        "id": "s57ByTqFvecy"
      },
      "source": [
        "\n",
        "<p>Si la función <i>pd.read_table()</i> no logra reconocer el formato en que se encuentra la fecha, entonces podemos especificar ese formato usando el argumento <i>date_format</i>.</p>\n"
      ]
    },
    {
      "cell_type": "markdown",
      "metadata": {
        "id": "VDYTWnIxvecy"
      },
      "source": [
        "\n",
        "### <h4><a href=\"https://docs.python.org/2/library/datetime.html#strftime-and-strptime-behavior\" style=\"color:red;\" target=\"_blank\"><strong>Formatos para Fechas y Horas</strong></a></h4>\n"
      ]
    },
    {
      "cell_type": "code",
      "execution_count": null,
      "metadata": {
        "id": "oZKME5Whvecz"
      },
      "outputs": [],
      "source": [
        "\n",
        "\n",
        "from datetime import datetime\n",
        "\n",
        "stocks3 = pd.read_table(\"stocks.dlm\",delimiter=\" \",decimal=\",\",thousands=\".\",header=0,\n",
        "                        dtype={\"A\":str,\"B\":str,\"C\":np.float64,\"D\":np.float64,\"E\":np.float64,\n",
        "                              \"F\":np.float64,\"G\":np.float64,\"H\":np.float64},\n",
        "                        parse_dates=[\"B\"])\n",
        "\n",
        "stocks3.info()\n",
        "stocks3.head(10)\n",
        "\n",
        "\n"
      ]
    },
    {
      "cell_type": "markdown",
      "metadata": {
        "id": "BkrSAU6lvec5"
      },
      "source": [
        "\n",
        "<h4 style=\"color:red;\">Ejemplo 11</h4>\n",
        "<p align=\"justify\"> Se leen los datos en el archivo <strong><i>stocks.dlm</i></strong> personalizando los nombres de las variables.</p>\n"
      ]
    },
    {
      "cell_type": "code",
      "execution_count": null,
      "metadata": {
        "id": "poNrkL7mvec5"
      },
      "outputs": [],
      "source": [
        "\n",
        "\n",
        "stocks4 = pd.read_table(\"stocks.dlm\",delimiter=\" \",header=0,decimal=\",\",thousands=\".\",\n",
        "                        names=[\"Stock\",\"Date\",\"Open\",\"High\",\"Low\",\"Close\",\"Volume\",\"AdjClose\"],\n",
        "                        dtype={\"Stock\":str,\"Date\":str,\"Open\":np.float64,\"High\":np.float64,\n",
        "                               \"Low\":np.float64,\"Close\":np.float64,\"Volume\":np.float64,\n",
        "                               \"AdjClose\":np.float64},\n",
        "                        parse_dates=[\"Date\"], date_format=\"%d%b%y\")\n",
        "stocks4.info()\n",
        "stocks4.head(10)\n",
        "\n",
        "\n"
      ]
    },
    {
      "cell_type": "markdown",
      "metadata": {
        "id": "rX33D14lvec5"
      },
      "source": [
        "\n",
        "<h4 style=\"color:red;\">Ejemplo 12</h4>\n",
        "<p align=\"justify\"> Se leen solo las primeras 500 filas de datos en el archivo <strong><i>stocks.dlm</i></strong>.</p>\n"
      ]
    },
    {
      "cell_type": "code",
      "execution_count": null,
      "metadata": {
        "id": "Y9qoZufjvec5"
      },
      "outputs": [],
      "source": [
        "\n",
        "\n",
        "stocks5 = pd.read_table(\"stocks.dlm\",delimiter=\" \",header=0,decimal=\",\",thousands=\".\",\n",
        "                        names=[\"Stock\",\"Date\",\"Open\",\"High\",\"Low\",\"Close\",\"Volume\",\"AdjClose\"],\n",
        "                        dtype={\"Stock\":str,\"Open\":np.float64,\"High\":np.float64,\n",
        "                               \"Low\":np.float64,\"Close\":np.float64,\"Volume\":np.float64,\n",
        "                               \"AdjClose\":np.float64},\n",
        "                        parse_dates=[\"Date\"], date_format=\"%d%b%y\")\n",
        "stocks5.info()\n",
        "\n",
        "\n"
      ]
    },
    {
      "cell_type": "markdown",
      "metadata": {
        "id": "PDPfwLWFvec6"
      },
      "source": [
        "\n",
        "<h4 style=\"color:red;\">Ejemplo 13</h4>\n",
        "<p align=\"justify\"> Se leen los datos en el archivo <strong><i>stocks.dlm</i></strong> especificando el formato en el que se deben leer las variables. Las variables septima y octava se excluyen.</p>\n"
      ]
    },
    {
      "cell_type": "code",
      "execution_count": null,
      "metadata": {
        "id": "9FDqI6Xvvec6"
      },
      "outputs": [],
      "source": [
        "\n",
        "\n",
        "stocks6 = pd.read_table(\"stocks.dlm\",delimiter=\" \",header=0,decimal=\",\",thousands=\".\",\n",
        "                        usecols=[0,1,2,3,4,5],names=[\"Stock\",\"Date\",\"Open\",\"High\",\"Low\",\"Close\"],\n",
        "                        dtype={\"Stock\":str,\"Open\":np.float64,\"High\":np.float64,\n",
        "                               \"Low\":np.float64,\"Close\":np.float64},\n",
        "                        parse_dates=[\"Date\"], date_format=\"%d%b%y\")\n",
        "stocks6.info()\n",
        "stocks6.head(10)\n",
        "\n",
        "\n"
      ]
    },
    {
      "cell_type": "markdown",
      "metadata": {
        "id": "18wdwFWivec6"
      },
      "source": [
        "\n",
        "<h4 style=\"color:red;\">Ejemplo 14</h4>\n",
        "<p align=\"justify\"> Se leen los datos en el archivo <strong><i>stocks.dlm</i></strong>. Solo se leen las variables que (originalmente) se llaman \"A\", \"B\", \"C\" y \"F\".</p>\n"
      ]
    },
    {
      "cell_type": "code",
      "execution_count": null,
      "metadata": {
        "id": "q9a7_FIlvec6"
      },
      "outputs": [],
      "source": [
        "\n",
        "\n",
        "stocks7 = pd.read_table(\"stocks.dlm\",delimiter=\" \",header=0,decimal=\",\",thousands=\".\",\n",
        "                        names=[\"Stock\",\"Date\",\"Open\",\"High\",\"Low\",\"Close\",\"Volume\",\"AdjClose\"],\n",
        "                        usecols=[\"Stock\",\"Date\",\"Open\",\"Close\"],\n",
        "                        dtype={\"Stock\":str,\"Open\":np.float64,\"Close\":np.float64},\n",
        "                        parse_dates=[\"Date\"], date_format=\"%d%b%y\")\n",
        "stocks7.info()\n",
        "stocks7.head(10)\n",
        "\n",
        "\n"
      ]
    },
    {
      "cell_type": "markdown",
      "metadata": {
        "id": "-fbxEijsvec6"
      },
      "source": [
        "\n",
        "### <h4><a style=\"color:black;\"> Archivos de ancho fijo </a></h4>\n"
      ]
    },
    {
      "cell_type": "code",
      "execution_count": null,
      "metadata": {
        "id": "xjBJf8NKvec6"
      },
      "outputs": [],
      "source": [
        "\n",
        "\n",
        "help(pd.read_fwf)\n",
        "\n",
        "\n"
      ]
    },
    {
      "cell_type": "markdown",
      "metadata": {
        "id": "6EJ-3P6Kvec6"
      },
      "source": [
        "\n",
        "<h4 style=\"color:red;\">Ejemplo 15</h4>\n",
        "<p align=\"justify\"> Se leen los datos en el archivo Se leen los datos en el archivo <strong><i>airrpm.txt</i></strong>, en el que las cuatro variables disponibles tienen anchos fijos e iguales a 6, 15, 10 y 9, respectivamente.</p>\n"
      ]
    },
    {
      "cell_type": "code",
      "execution_count": null,
      "metadata": {
        "id": "eeAyNcVOvec7"
      },
      "outputs": [],
      "source": [
        "\n",
        "\n",
        "airrpm1 = pd.read_fwf(\"airrpm.txt\",widths=[6,15,10,9],names=[\"Month\",\"Available\",\"Revenue\",\"Unused\"],header=0)\n",
        "airrpm1.info()\n",
        "airrpm1.head(10)\n",
        "\n",
        "\n"
      ]
    },
    {
      "cell_type": "markdown",
      "metadata": {
        "id": "-aDVYVLIvec7"
      },
      "source": [
        "\n",
        "<h4 style=\"color:red;\">Ejemplo 16</h4>\n",
        "<p align=\"justify\"> Se leen los datos en el archivo <strong><i>airrpm.txt</i></strong> especificando que el separador decimal es \",\".</p>\n"
      ]
    },
    {
      "cell_type": "code",
      "execution_count": null,
      "metadata": {
        "id": "q7U8-VoFvec7"
      },
      "outputs": [],
      "source": [
        "\n",
        "\n",
        "airrpm2 = pd.read_fwf(\"airrpm.txt\",widths=[6,15,10,9],decimal=\",\",\n",
        "                      names=[\"Month\",\"Available\",\"Revenue\",\"Unused\"])\n",
        "airrpm2.info()\n",
        "airrpm2.head(10)\n",
        "\n",
        "\n"
      ]
    },
    {
      "cell_type": "markdown",
      "metadata": {
        "id": "MrsfWV68vec7"
      },
      "source": [
        "\n",
        "<h4 style=\"color:red;\">Ejemplo 17</h4>\n",
        "<p align=\"justify\"> Se leen los datos en el archivo <strong><i>airrpm.txt</i></strong> especificando el formato de las variables.</p>\n"
      ]
    },
    {
      "cell_type": "code",
      "execution_count": null,
      "metadata": {
        "id": "b_Tu6ftqvec7"
      },
      "outputs": [],
      "source": [
        "\n",
        "\n",
        "airrpm3 = pd.read_fwf(\"airrpm.txt\",widths=[6,15,10,9],decimal=\",\",header=0,\n",
        "                      names=[\"Month\",\"Available\",\"Revenue\",\"Unused\"],\n",
        "                      dtype={\"Available\":np.float64,\"Revenue\":np.float64,\"Unused\":np.float64},\n",
        "                      parse_dates=[\"Month\"], date_format=\"%b-%y\")\n",
        "airrpm3.info()\n",
        "airrpm3.head(10)\n",
        "\n",
        "\n"
      ]
    },
    {
      "cell_type": "markdown",
      "metadata": {
        "id": "EkIK-m9cvec7"
      },
      "source": [
        "\n",
        "<h4 style=\"color:red;\">Ejemplo 18</h4>\n",
        "<p align=\"justify\"> Se leen solo las primeras 200 filas de las variables <i>Month</i> y <i>Revenue</i> en el archivo <strong><i>airrpm.txt</i></strong>.</p>\n"
      ]
    },
    {
      "cell_type": "code",
      "execution_count": null,
      "metadata": {
        "id": "PICJr97_vec7"
      },
      "outputs": [],
      "source": [
        "\n",
        "\n",
        "airrpm4 = pd.read_fwf(\"airrpm.txt\",widths=[6,15,10,9],decimal=\",\",\n",
        "                      names=[\"Month\",\"Available\",\"Revenue\",\"Unused\"],nrows=200,\n",
        "                      usecols=[\"Available\",\"Unused\"])\n",
        "airrpm4.info()\n",
        "airrpm4.head(10)\n",
        "\n",
        "\n"
      ]
    },
    {
      "cell_type": "markdown",
      "metadata": {
        "id": "pbwz34EYvec8"
      },
      "source": [
        "\n",
        "# <center><h2><a style=\"color:red;\"> Creación y modificación de variables </a></h2></center>\n"
      ]
    },
    {
      "cell_type": "markdown",
      "metadata": {
        "id": "g0qgqHfJvec8"
      },
      "source": [
        "\n",
        "### <h4><a href=\"https://www.w3schools.com/python/python_operators.asp\" style=\"color:red;\" target=\"_blank\"><strong>Operadores aritméticos, lógicos, y de comparación</strong></a></h4>\n"
      ]
    },
    {
      "cell_type": "code",
      "execution_count": null,
      "metadata": {
        "id": "MSGYJlMWvec8"
      },
      "outputs": [],
      "source": [
        "\n",
        "\n",
        "Municipios = pd.read_excel(\"Municipios.xlsx\",dtype={\"Irural\":np.float64,\"Dep\":str,\n",
        "                                                    \"Poblacion\":np.float64,\"Depmun\":str})\n",
        "Municipios.info()\n",
        "Municipios.head(10)\n",
        "\n",
        "\n"
      ]
    },
    {
      "cell_type": "markdown",
      "metadata": {
        "id": "OKVxWLq1vec8"
      },
      "source": [
        "\n",
        "<h4 style=\"color:red;\">Ejemplo 1</h4>\n",
        "<p align=\"justify\"> Cuales variables del conjunto de datos Municipios tienen valores perdidos o missings?</p>\n"
      ]
    },
    {
      "cell_type": "code",
      "execution_count": null,
      "metadata": {
        "id": "jW4Tlcezvec8"
      },
      "outputs": [],
      "source": [
        "\n",
        "\n",
        "help(pd.DataFrame.apply)\n",
        "\n",
        "\n"
      ]
    },
    {
      "cell_type": "code",
      "execution_count": null,
      "metadata": {
        "id": "BX9q1xPBvec8"
      },
      "outputs": [],
      "source": [
        "\n",
        "\n",
        "def missings(x):\n",
        "            a = sum(x.isna())\n",
        "            b = 100*np.mean(x.isna())\n",
        "            c = pd.Series({\"Missings\": a,\"%Missings\": b})\n",
        "            return(c)\n",
        "\n",
        "\n"
      ]
    },
    {
      "cell_type": "code",
      "execution_count": null,
      "metadata": {
        "id": "QQsegEPWvec8"
      },
      "outputs": [],
      "source": [
        "\n",
        "\n",
        "Municipios.apply(missings,axis=0)\n",
        "\n",
        "\n"
      ]
    },
    {
      "cell_type": "code",
      "execution_count": null,
      "metadata": {
        "id": "7hV25wQnvec9"
      },
      "outputs": [],
      "source": [
        "\n",
        "\n",
        "Municipios.apply(missings,axis=1)\n",
        "\n",
        "\n"
      ]
    },
    {
      "cell_type": "code",
      "execution_count": null,
      "metadata": {
        "id": "j5QBCOB_vec9"
      },
      "outputs": [],
      "source": [
        "\n",
        "\n",
        "Municipios.apply(missings,axis=1).query(\"Missings > 0\")\n",
        "\n",
        "\n"
      ]
    },
    {
      "cell_type": "markdown",
      "metadata": {
        "id": "a3FiL0t7vec9"
      },
      "source": [
        "\n",
        "<h4 style=\"color:red;\">Ejemplo 2</h4>\n",
        "<p align=\"justify\"> Se hace \"limpieza\" en los nombres de los municipios, es decir, </p>\n",
        "<ul>\n",
        "<li><p align=\"justify\"> Se eliminan caracteres especiales.</p>\n",
        "</li>\n",
        "<li><p align=\"justify\"> Se eliminan espacios al inicio y al final.</p>\n",
        "</li>\n",
        "<li><p align=\"justify\"> Se reemplazan espacios múltiples por sencillos.</p>\n",
        "</li>\n",
        "<li><p align=\"justify\"> Se escriben en letras minúsculas excepto en la inicial de cada palabra.</p>\n",
        "</li>\n",
        "</ul>\n"
      ]
    },
    {
      "cell_type": "code",
      "execution_count": null,
      "metadata": {
        "id": "lviniQkMvec9"
      },
      "outputs": [],
      "source": [
        "\n",
        "\n",
        "help(str.lower)\n",
        "help(str.replace)\n",
        "help(str.strip)\n",
        "help(str.title)\n",
        "\n",
        "\n"
      ]
    },
    {
      "cell_type": "code",
      "execution_count": null,
      "metadata": {
        "id": "dFSuwmCWvec9"
      },
      "outputs": [],
      "source": [
        "\n",
        "\n",
        "Municipios[\"Municipio2\"] = (Municipios.Municipio\n",
        "                            .str.lower()\n",
        "                            .str.replace(\"[^a-záéíóúüñ ]\",\"\", regex=True)\n",
        "                            .str.replace(\" +\",\" \", regex=True)\n",
        "                            .str.strip()\n",
        "                            .str.title()\n",
        "                           )\n",
        "Municipios[[\"Municipio\",\"Municipio2\"]].tail(10)\n",
        "\n",
        "\n"
      ]
    },
    {
      "cell_type": "code",
      "execution_count": null,
      "metadata": {
        "id": "ryrmD8jvvec9"
      },
      "outputs": [],
      "source": [
        "\n",
        "\n",
        "Municipios[\"Municipio\"] = Municipios[\"Municipio2\"]\n",
        "Municipios = Municipios.drop(columns=\"Municipio2\")\n",
        "Municipios.tail(10)\n",
        "\n",
        "\n"
      ]
    },
    {
      "cell_type": "markdown",
      "metadata": {
        "id": "Maz8wd1Evec9"
      },
      "source": [
        "\n",
        "<h4 style=\"color:red;\">Ejemplo 3</h4>\n",
        "<p align=\"justify\"> Se hace \"limpieza\" en los nombres de los departamentos, es decir, </p>\n",
        "<ul>\n",
        "<li><p align=\"justify\"> Se eliminan caracteres especiales.</p>\n",
        "</li>\n",
        "<li><p align=\"justify\"> Se eliminan espacios al inicio y al final.</p>\n",
        "</li>\n",
        "<li><p align=\"justify\"> Se reemplazan espacios múltiples por sencillos.</p>\n",
        "</li>\n",
        "<li><p align=\"justify\"> Se escriben en letras minúsculas excepto en la inicial de cada palabra.</p>\n",
        "</li>\n",
        "</ul>\n"
      ]
    },
    {
      "cell_type": "code",
      "execution_count": null,
      "metadata": {
        "id": "7lzNFtIqvec-"
      },
      "outputs": [],
      "source": [
        "\n",
        "\n",
        "Municipios[\"Departamento2\"] = (Municipios.Departamento\n",
        "                               .str.lower()\n",
        "                               .str.replace(\"[^a-záéíóúüñ ]\",\"\", regex=True)\n",
        "                               .str.replace(\" +\",\" \", regex=True)\n",
        "                               .str.strip()\n",
        "                               .str.title()\n",
        "                              )\n",
        "Municipios[[\"Departamento\",\"Departamento2\"]].head(10)\n",
        "\n",
        "\n"
      ]
    },
    {
      "cell_type": "code",
      "execution_count": null,
      "metadata": {
        "id": "cJChCjCtvec-"
      },
      "outputs": [],
      "source": [
        "\n",
        "\n",
        "Municipios[\"Departamento\"] = Municipios[\"Departamento2\"]\n",
        "Municipios = Municipios.drop(columns=\"Departamento2\")\n",
        "Municipios.head(10)\n",
        "\n",
        "\n"
      ]
    },
    {
      "cell_type": "markdown",
      "metadata": {
        "id": "snRD0kqbvec-"
      },
      "source": [
        "\n",
        "<h4 style=\"color:red;\">Ejemplo 4</h4>\n",
        "<p align=\"justify\"> Se hace \"limpieza\" en los nombres de las regiones, es decir, </p>\n",
        "<ul>\n",
        "<li><p align=\"justify\"> Se eliminan caracteres especiales.</p>\n",
        "</li>\n",
        "<li><p align=\"justify\"> Se eliminan espacios al inicio y al final.</p>\n",
        "</li>\n",
        "<li><p align=\"justify\"> Se reemplazan espacios múltiples por sencillos.</p>\n",
        "</li>\n",
        "<li><p align=\"justify\"> Se escriben en letras minúsculas excepto en la inicial de cada palabra.</p>\n",
        "</li>\n",
        "</ul>\n"
      ]
    },
    {
      "cell_type": "code",
      "execution_count": null,
      "metadata": {
        "id": "ldmTHcGDvec-"
      },
      "outputs": [],
      "source": [
        "\n",
        "\n",
        "Municipios[\"Region\"] = (Municipios.Region\n",
        "                        .str.lower()\n",
        "                        .str.replace(\"[^a-záéíóúüñ ]\",\"\", regex=True)\n",
        "                        .str.replace(\" +\",\" \", regex=True)\n",
        "                        .str.replace(\"región \",\"\", regex=True)\n",
        "                        .str.strip()\n",
        "                        .str.title()\n",
        "                       )\n",
        "Municipios.head(10)\n",
        "\n",
        "\n"
      ]
    },
    {
      "cell_type": "markdown",
      "metadata": {
        "id": "Gerc18FMvec-"
      },
      "source": [
        "\n",
        "<h4 style=\"color:red;\">Ejemplo 5</h4>\n",
        "<p align=\"justify\"> Se crea la variable <i>Tipo</i> igual a: <i>(i)</i> \"Capital\" para la capital de cada departamento; y <i>(ii)</i> \"Otro\" para el resto de los municipios. </p>\n"
      ]
    },
    {
      "cell_type": "code",
      "execution_count": null,
      "metadata": {
        "id": "Vvm6PIsQvec-"
      },
      "outputs": [],
      "source": [
        "\n",
        "\n",
        "def tipo(x):\n",
        "    if x[2:5]==\"001\" and x!=\"25001\": return(\"Capital\")\n",
        "    else: return(\"Otros\")\n",
        "Municipios[\"Tipo\"] = Municipios[\"Depmun\"].apply(tipo)\n",
        "\n",
        "Municipios.info()\n",
        "Municipios.head(10)\n",
        "\n",
        "\n"
      ]
    },
    {
      "cell_type": "markdown",
      "metadata": {
        "id": "YVHUqiupvec_"
      },
      "source": [
        "\n",
        "<h4 style=\"color:red;\">Ejemplo 6</h4>\n",
        "<p align=\"justify\"> Se crea la variable <i>denspobl</i> definida como el cociente entre <i>Poblacion</i> y <i>Superficie</i>. Se crea también la variable <i>Zona</i> definida como: <i>(i)</i> \"Urbano\" cuando <i>Irural</i> $ &lt;= 40$; y <i>(ii)</i> \"Rural\" cuando <i>Irural</i> $ &gt; 40$. </p>\n"
      ]
    },
    {
      "cell_type": "code",
      "execution_count": null,
      "metadata": {
        "id": "rhqQchRkvec_"
      },
      "outputs": [],
      "source": [
        "\n",
        "\n",
        "Municipios[\"denspobl\"] = Municipios[\"Poblacion\"]/Municipios[\"Superficie\"]\n",
        "\n",
        "\n"
      ]
    },
    {
      "cell_type": "code",
      "execution_count": null,
      "metadata": {
        "id": "t0OeEtV1vec_"
      },
      "outputs": [],
      "source": [
        "\n",
        "\n",
        "def zona(x):\n",
        "    if x  > 40: return(\"Rural\")\n",
        "    if x <= 40: return(\"Urbano\")\n",
        "\n",
        "Municipios[\"Zona\"] = Municipios[\"Irural\"].apply(zona)\n",
        "\n",
        "\n"
      ]
    },
    {
      "cell_type": "code",
      "execution_count": null,
      "metadata": {
        "id": "R2uZC2_Vvec_"
      },
      "outputs": [],
      "source": [
        "\n",
        "\n",
        "Municipios.loc[Municipios.Irural >  40,\"Zona2\"] = \"Rural\"\n",
        "Municipios.loc[Municipios.Irural <= 40,\"Zona2\"] = \"Urbano\"\n",
        "\n",
        "\n"
      ]
    },
    {
      "cell_type": "code",
      "execution_count": null,
      "metadata": {
        "id": "96as3sC6vec_"
      },
      "outputs": [],
      "source": [
        "\n",
        "\n",
        "Municipios[\"Zona\"].equals(Municipios[\"Zona2\"])\n",
        "Municipios = Municipios.drop(columns=\"Zona2\")\n",
        "\n",
        "\n"
      ]
    },
    {
      "cell_type": "markdown",
      "metadata": {
        "id": "7fgCF_a9vedA"
      },
      "source": [
        "\n",
        "# <center><h2><a style=\"color:red;\"> Funciones de texto </a></h2></center>\n"
      ]
    },
    {
      "cell_type": "markdown",
      "metadata": {
        "id": "fcfFNSmsvedA"
      },
      "source": [
        "\n",
        "<h4 style=\"color:red;\">Ejemplo 1</h4>\n",
        "<p align=\"justify\"> Conjunto de datos con las variables <i>Departamento</i>, <i>Depmun</i> y <i>Municipio</i>, y con todos los municipios cuyo nombre incluye el nombre de un santo, por ejemplo, Santa Marta, Santo Tomás, San José y Valle de San Jacinto.</p>\n"
      ]
    },
    {
      "cell_type": "code",
      "execution_count": null,
      "metadata": {
        "id": "CgtdjbMYvedA"
      },
      "outputs": [],
      "source": [
        "\n",
        "\n",
        "import warnings\n",
        "warnings.filterwarnings(\"ignore\")\n",
        "\n",
        "santos = (Municipios\n",
        "          .query(\"Municipio.str.contains('(^| )San( |ta |to )').values\")\n",
        "          .loc[:,[\"Departamento\",\"Depmun\",\"Municipio\"]]\n",
        "          .reset_index(drop=True)\n",
        "         )\n",
        "santos.info()\n",
        "santos.head(10)\n",
        "\n",
        "\n"
      ]
    },
    {
      "cell_type": "markdown",
      "metadata": {
        "id": "irrDE8uHvedA"
      },
      "source": [
        "\n",
        "<h4 style=\"color:red;\">Ejemplo 2</h4>\n",
        "<p align=\"justify\"> Conjunto de datos con las variables <i>Departamento</i>, <i>Depmun</i> y <i>Municipio</i>, y con todos los municipios cuyos nombres inician y terminan con la misma vocal.</p>\n"
      ]
    },
    {
      "cell_type": "code",
      "execution_count": null,
      "metadata": {
        "id": "9insrmQAvedA"
      },
      "outputs": [],
      "source": [
        "\n",
        "\n",
        "t = str.maketrans({\"á\":\"a\",\"é\":\"e\",\"í\":\"i\",\"ó\":\"o\",\"ú\":\"u\"})\n",
        "def trans(x):\n",
        "    return(str.lower(x).translate(t))\n",
        "Municipios[\"Municipio2\"] = Municipios[\"Municipio\"].apply(trans)\n",
        "Municipios[\"Iguales\"] = Municipios[\"Municipio2\"].str.get(0) == Municipios[\"Municipio2\"].str.get(-1)\n",
        "\n",
        "\n"
      ]
    },
    {
      "cell_type": "code",
      "execution_count": null,
      "metadata": {
        "id": "wLBhGBzZvedA"
      },
      "outputs": [],
      "source": [
        "\n",
        "\n",
        "voc = (Municipios\n",
        "      .query(\"iguales & Municipio2.str.contains('^(a|e|i|o|u)')\")\n",
        "      .loc[:,[\"Dep\",\"Departamento\",\"Depmun\",\"Municipio\"]]\n",
        "      .reset_index(drop=True)\n",
        "      )\n",
        "voc.info()\n",
        "voc.head(15)\n",
        "\n",
        "\n"
      ]
    },
    {
      "cell_type": "markdown",
      "metadata": {
        "id": "5mXuTFh7vedA"
      },
      "source": [
        "\n",
        "<h4 style=\"color:red;\">Ejemplo 3</h4>\n",
        "<p align=\"justify\"> Conjunto de datos con todos los municipios cuyos nombres inician y terminan con la misma consonante.</p>\n"
      ]
    },
    {
      "cell_type": "code",
      "execution_count": null,
      "metadata": {
        "id": "KaL1lGWqvedB"
      },
      "outputs": [],
      "source": [
        "\n",
        "\n",
        "consonantes = (Municipios\n",
        "               .query(\"iguales & ~Municipio2.str.contains('^(a|e|i|o|u)')\")\n",
        "               .reset_index(drop=True)\n",
        "              )\n",
        "consonantes.info()\n",
        "consonantes.head(15)\n",
        "\n",
        "\n"
      ]
    },
    {
      "cell_type": "markdown",
      "metadata": {
        "id": "hgZ1UQedvedB"
      },
      "source": [
        "\n",
        "<h4 style=\"color:red;\">Ejemplo 4</h4>\n",
        "<p align=\"justify\"> Conjunto de datos con todas las variables excepto <i>Poblacion</i>, <i>Superficie</i> y <i>Irural</i>, y con todos los municipios cuyos nombres tienen \"A\" como primera letra y \"e\" como cuarta letra.</p>\n"
      ]
    },
    {
      "cell_type": "code",
      "execution_count": null,
      "metadata": {
        "id": "IskIte_bvedB"
      },
      "outputs": [],
      "source": [
        "\n",
        "\n",
        "Aes = (Municipios\n",
        "       .query(\"Municipio.str.contains('^(A|Á).{2}(e|é)').values\")\n",
        "       .drop(columns=[\"Poblacion\",\"Superficie\",\"Irural\"])\n",
        "       .reset_index(drop=True)\n",
        "      )\n",
        "Aes.info()\n",
        "Aes.head(15)\n",
        "\n",
        "\n"
      ]
    },
    {
      "cell_type": "markdown",
      "metadata": {
        "id": "_82GMvP9vedD"
      },
      "source": [
        "\n",
        "<h4 style=\"color:red;\">Ejemplo 5</h4>\n",
        "<p align=\"justify\"> Cuales municipios tienen nombres que constan de más de 4 palabras?</p>\n"
      ]
    },
    {
      "cell_type": "code",
      "execution_count": null,
      "metadata": {
        "id": "vc1e8RjcvedD"
      },
      "outputs": [],
      "source": [
        "\n",
        "\n",
        "Mas4 = (Municipios\n",
        "        .query(\"Municipio.str.count(' ').values > 3\")\n",
        "        .reset_index(drop=True)\n",
        "       )\n",
        "Mas4.info()\n",
        "Mas4\n",
        "\n",
        "\n"
      ]
    },
    {
      "cell_type": "markdown",
      "metadata": {
        "id": "YzbYdxOXvedD"
      },
      "source": [
        "\n",
        "<h4 style=\"color:red;\">Ejemplo 6</h4>\n",
        "<p align=\"justify\"> Conjunto de datos con las variables <i>Departamento</i>, <i>Depmun</i> y <i>Municipio</i>, y con el 1% de municipios con los nombres más largos.</p>\n"
      ]
    },
    {
      "cell_type": "code",
      "execution_count": null,
      "metadata": {
        "id": "yuQ1H-_-vedD"
      },
      "outputs": [],
      "source": [
        "\n",
        "\n",
        "long = Municipios[\"Municipio\"].str.len()\n",
        "largos = (Municipios\n",
        "          .query(\"@long > @long.quantile(0.99)\")\n",
        "          .loc[:,[\"Departamento\",\"Depmun\",\"Municipio\"]]\n",
        "          .reset_index(drop=True)\n",
        "         )\n",
        "largos\n",
        "\n",
        "\n"
      ]
    },
    {
      "cell_type": "markdown",
      "metadata": {
        "id": "MtbrBrhlvedD"
      },
      "source": [
        "\n",
        "<h4 style=\"color:red;\">Ejemplo 7</h4>\n",
        "<p align=\"justify\"> Conjunto de datos con las variables <i>Departamento</i>, <i>Depmun</i> y <i>Municipio</i>, y con el 1% de municipios con los nombres más cortos.</p>\n"
      ]
    },
    {
      "cell_type": "code",
      "execution_count": null,
      "metadata": {
        "id": "mQc2KI2BvedE"
      },
      "outputs": [],
      "source": [
        "\n",
        "\n",
        "cortos = (Municipios\n",
        "          .query(\"@long <= @long.quantile(0.01)\")\n",
        "          .loc[:,[\"Departamento\",\"Depmun\",\"Municipio\"]]\n",
        "          .reset_index(drop=True)\n",
        "         )\n",
        "cortos\n",
        "\n",
        "\n"
      ]
    },
    {
      "cell_type": "markdown",
      "metadata": {
        "id": "i8zP2c8ZvedE"
      },
      "source": [
        "\n",
        "# <center><h2><a style=\"color:red;\"> Estadísticas descriptivas </a></h2></center>\n"
      ]
    },
    {
      "cell_type": "markdown",
      "metadata": {
        "id": "fu5u_0SXvedE"
      },
      "source": [
        "\n",
        "<h4 style=\"color:red;\">Ejemplo 1</h4>\n",
        "<p align=\"justify\"> Cálculo de algunas estadísticas descriptivas para las variables numéricas en el conjunto de datos Municipios.</p>\n"
      ]
    },
    {
      "cell_type": "code",
      "execution_count": null,
      "metadata": {
        "id": "3rWNMvWhvedE"
      },
      "outputs": [],
      "source": [
        "\n",
        "\n",
        "help(pd.DataFrame.describe)\n",
        "\n",
        "\n"
      ]
    },
    {
      "cell_type": "code",
      "execution_count": null,
      "metadata": {
        "id": "T0bTivf6vedE"
      },
      "outputs": [],
      "source": [
        "\n",
        "\n",
        "Municipios.describe()\n",
        "\n",
        "\n"
      ]
    },
    {
      "cell_type": "code",
      "execution_count": null,
      "metadata": {
        "id": "1PdqMqTevedF"
      },
      "outputs": [],
      "source": [
        "\n",
        "\n",
        "Municipios.describe(percentiles=[0.1,0.25,0.5,0.75,0.9])\n",
        "\n",
        "\n"
      ]
    },
    {
      "cell_type": "code",
      "execution_count": null,
      "metadata": {
        "id": "GI_XJL1TvedF"
      },
      "outputs": [],
      "source": [
        "\n",
        "\n",
        "Municipios.describe(include=\"object\")\n",
        "\n",
        "\n"
      ]
    },
    {
      "cell_type": "markdown",
      "metadata": {
        "id": "nKslxE3_vedF"
      },
      "source": [
        "\n",
        "<h4 style=\"color:red;\">Ejemplo 2</h4>\n",
        "<p align=\"justify\"> Cálculo de algunas estadísticas descriptivas (personalizadas) para las variables numéricas en el conjunto de datos <i>Municipios</i>.</p>\n"
      ]
    },
    {
      "cell_type": "code",
      "execution_count": null,
      "metadata": {
        "id": "H7ygGBvDvedF"
      },
      "outputs": [],
      "source": [
        "\n",
        "\n",
        "def summary(y,include='numeric'):\n",
        "    def numer(x):\n",
        "        x2 = x.dropna()\n",
        "        a = x.isna().sum()\n",
        "        b = x2.mean()\n",
        "        c = x2.std()\n",
        "        d = c/b\n",
        "        e = x2.skew()\n",
        "        f = x2.kurt()\n",
        "        g = x2.min()\n",
        "        h = np.quantile(x2,0.25)\n",
        "        i = x2.median()\n",
        "        j = np.quantile(x2,0.75)\n",
        "        k = x2.max()\n",
        "        l = pd.Series({\"Missings\":a,\"Mean\":b,\"St.dev\":c,\"Coef.var\":d,\"Skewness\":e,\n",
        "                       \"Kurtosis\":f,\"Min\":g,\"%25\":h,\"Median\":i,\"%75\":j,\"Max\":k})\n",
        "        return(l)\n",
        "    if include == 'numeric':\n",
        "        numerics = y.select_dtypes(include='number')\n",
        "        if len(numerics.columns) > 0: return(numerics.apply(numer))\n",
        "        else: print('Error. There are not numeric-type columns!!')\n",
        "    if include == 'object':\n",
        "        objects = y.select_dtypes(include='object')\n",
        "        if len(objects.columns) > 0: return(objects.describe(include=\"object\"))\n",
        "        else: print('Error. There are not object-type columns!!')\n",
        "\n",
        "\n"
      ]
    },
    {
      "cell_type": "code",
      "execution_count": null,
      "metadata": {
        "id": "PgOzG6DQvedF"
      },
      "outputs": [],
      "source": [
        "\n",
        "\n",
        "summary(Municipios,include=\"numeric\")\n",
        "\n",
        "\n"
      ]
    },
    {
      "cell_type": "code",
      "execution_count": null,
      "metadata": {
        "id": "47HXzI76vedF"
      },
      "outputs": [],
      "source": [
        "\n",
        "\n",
        "summary(Municipios,include=\"object\")\n",
        "\n",
        "\n"
      ]
    },
    {
      "cell_type": "markdown",
      "metadata": {
        "id": "azOViLQXvedF"
      },
      "source": [
        "\n",
        "# <center><h2><a style=\"color:red;\"> Exportación de datos </a></h2></center>\n",
        "<p align=\"justify\"> Guardando el conjunto de datos <i>Municipios</i> en el directorio de trabajo para su uso posterior.</p>\n"
      ]
    },
    {
      "cell_type": "code",
      "execution_count": null,
      "metadata": {
        "id": "3XmhvS3qvedG"
      },
      "outputs": [],
      "source": [
        "\n",
        "\n",
        "Municipios.to_pickle(\"Municipios.pkl\")\n",
        "del Municipios\n",
        "\n",
        "\n"
      ]
    },
    {
      "cell_type": "code",
      "execution_count": null,
      "metadata": {
        "id": "B6o5YhCnvedG"
      },
      "outputs": [],
      "source": [
        "\n",
        "\n",
        "Municipios = pd.read_pickle(\"Municipios.pkl\")\n",
        "Municipios.info()\n",
        "Municipios.head(15)\n",
        "\n",
        "\n"
      ]
    },
    {
      "cell_type": "code",
      "execution_count": null,
      "metadata": {
        "id": "I4KgJKMuvedG"
      },
      "outputs": [],
      "source": [
        "\n",
        "\n",
        "Municipios.to_csv(\"Munis.csv\",sep=\";\",index=False,encoding=\"utf-8\")\n",
        "Municipios.to_excel(\"Munis.xlsx\",index=False)\n",
        "\n",
        "\n"
      ]
    },
    {
      "cell_type": "markdown",
      "metadata": {
        "id": "zgeI_Vv9vedG"
      },
      "source": [
        "\n",
        "# <center><h1><a style=\"color:red;\"> Tablas de frecuencias </a></h1></center>\n"
      ]
    },
    {
      "cell_type": "code",
      "execution_count": null,
      "metadata": {
        "id": "m9Yy0rKFvedG"
      },
      "outputs": [],
      "source": [
        "\n",
        "\n",
        "from mismacrospython import onewayfreq, twowayfreq\n",
        "help(pd.crosstab)\n",
        "\n",
        "\n"
      ]
    },
    {
      "cell_type": "markdown",
      "metadata": {
        "id": "rt2FA8WZvedG"
      },
      "source": [
        "\n",
        "<h3 style=\"color:red;\">Ejemplo 1</h3>\n",
        "<p align=\"justify\"> Qué porcentaje del total representan los municipios de la región Caribe? Cuantos municipios tiene la región Pacífico? Cuales son las 2 regiones con mayor número de municipios? Qué porcentaje del total representan los municipios de estas 2 regiones? Qué porcentaje de los municipios son rurales?</p>\n"
      ]
    },
    {
      "cell_type": "code",
      "execution_count": null,
      "metadata": {
        "id": "JTTjqv76vedG"
      },
      "outputs": [],
      "source": [
        "\n",
        "\n",
        "onewayfreq(rows=\"Region\",data=Municipios,ord=\"freq\")\n",
        "\n",
        "\n"
      ]
    },
    {
      "cell_type": "code",
      "execution_count": null,
      "metadata": {
        "id": "z--b58oBvedG"
      },
      "outputs": [],
      "source": [
        "\n",
        "\n",
        "(pd.crosstab(Municipios.Region,\"Result\",colnames=\" \")\n",
        "   .sort_values(\"Result\",ascending=False))\n",
        "\n",
        "\n"
      ]
    },
    {
      "cell_type": "code",
      "execution_count": null,
      "metadata": {
        "id": "J9qVvX-kvedH"
      },
      "outputs": [],
      "source": [
        "\n",
        "\n",
        "onewayfreq(rows=\"Zona\",data=Municipios,ord=\"level\",cum=False)\n",
        "\n",
        "\n"
      ]
    },
    {
      "cell_type": "code",
      "execution_count": null,
      "metadata": {
        "id": "p4WMmdvjvedH"
      },
      "outputs": [],
      "source": [
        "\n",
        "\n",
        "(pd.crosstab(Municipios.Zona,\"Result\",colnames=\" \")\n",
        "   .sort_values(\"Zona\",ascending=True))\n",
        "\n",
        "\n"
      ]
    },
    {
      "cell_type": "markdown",
      "metadata": {
        "id": "CHmOTKTrvedH"
      },
      "source": [
        "\n",
        "<h3 style=\"color:red;\">Ejemplo 2</h3>\n",
        "<p align=\"justify\"> Qué porcentaje de la población habita en la región Centro Oriente? Cuantos habitantes tiene la región Centro Sur? Cuales son las 2 regiones con mayor número de habitantes? Qué porcentaje de la población habita en estas 2 regiones?</p>\n"
      ]
    },
    {
      "cell_type": "code",
      "execution_count": null,
      "metadata": {
        "id": "sHNYCeabvedH"
      },
      "outputs": [],
      "source": [
        "\n",
        "\n",
        "onewayfreq(rows=\"Region\",weight=\"Poblacion\",data=Municipios,ord=\"-freq\")\n",
        "\n",
        "\n"
      ]
    },
    {
      "cell_type": "code",
      "execution_count": null,
      "metadata": {
        "id": "PLV_CpwivedH"
      },
      "outputs": [],
      "source": [
        "\n",
        "\n",
        "(pd.crosstab(Municipios.Region,\"Result\",values=Municipios.Poblacion,aggfunc=sum,colnames=\" \")\n",
        "   .sort_values(\"Result\",ascending=True))\n",
        "\n",
        "\n"
      ]
    },
    {
      "cell_type": "code",
      "execution_count": null,
      "metadata": {
        "id": "_EX2IqlVvedH"
      },
      "outputs": [],
      "source": [
        "\n",
        "\n",
        "onewayfreq(rows=\"Zona\",weight=\"Poblacion\",data=Municipios,cum=False)\n",
        "\n",
        "\n"
      ]
    },
    {
      "cell_type": "code",
      "execution_count": null,
      "metadata": {
        "id": "1MI5lnJnvedH"
      },
      "outputs": [],
      "source": [
        "\n",
        "\n",
        "(pd.crosstab(Municipios.Zona,\"Result\",values=Municipios.Poblacion,aggfunc=sum,colnames=\" \")\n",
        "   .sort_values(\"Zona\",ascending=True))\n",
        "\n",
        "\n"
      ]
    },
    {
      "cell_type": "markdown",
      "metadata": {
        "id": "GhIPK_xhvedH"
      },
      "source": [
        "\n",
        "<h3 style=\"color:red;\">Ejemplo 3</h3>\n",
        "<p align=\"justify\"> Cuales son los 2 departamentos más/menos poblados de la región Pacífico? Qué porcentaje representan estos municipios del total de la población en la región? Qué porcentaje de la población de la región Caribe habita en municipios rurales?</p>\n"
      ]
    },
    {
      "cell_type": "code",
      "execution_count": null,
      "metadata": {
        "id": "VWXDfm5dvedI"
      },
      "outputs": [],
      "source": [
        "\n",
        "\n",
        "onewayfreq(rows=\"Departamento\",weight=\"Poblacion\",data=Municipios,subset=\"Region=='Pacífico'\",ord=\"freq\")\n",
        "\n",
        "\n"
      ]
    },
    {
      "cell_type": "code",
      "execution_count": null,
      "metadata": {
        "id": "n10i4JyKvedI"
      },
      "outputs": [],
      "source": [
        "\n",
        "\n",
        "Pacifico = Municipios.query(\"Region=='Pacífico'\")\n",
        "(pd.crosstab(Pacifico.Departamento,\"Result\",values=Pacifico.Poblacion,aggfunc=sum,colnames=\" \")\n",
        "   .sort_values(\"Result\",ascending=False))\n",
        "\n",
        "\n"
      ]
    },
    {
      "cell_type": "code",
      "execution_count": null,
      "metadata": {
        "id": "rg2YN6lgvedI"
      },
      "outputs": [],
      "source": [
        "\n",
        "\n",
        "onewayfreq(rows=\"Zona\",weight=\"Poblacion\",data=Municipios,subset=\"Region=='Caribe'\",cum=False)\n",
        "\n",
        "\n"
      ]
    },
    {
      "cell_type": "code",
      "execution_count": null,
      "metadata": {
        "id": "DaVjWQEfvedI"
      },
      "outputs": [],
      "source": [
        "\n",
        "\n",
        "Caribe = Municipios.query(\"Region=='Caribe'\")\n",
        "(pd.crosstab(Caribe.Zona,\"Result\",values=Caribe.Poblacion,aggfunc=sum,colnames=\" \")\n",
        "   .sort_values(\"Result\",ascending=True))\n",
        "\n",
        "\n"
      ]
    },
    {
      "cell_type": "markdown",
      "metadata": {
        "id": "NOMpZcLovedI"
      },
      "source": [
        "\n",
        "<h3 style=\"color:red;\">Ejemplo 4</h3>\n",
        "<p align=\"justify\"> Qué porcentaje de la superficie total de Colombia representa la región Llano? Cual es la superficie de la región Centro Oriente? Cuales son las 2 regiones con mayor/menor superficie? Qué porcentaje representan estas 2 regiones de la superficie total de Colombia? Qué porcentaje de la superficie del país ocupan los municipios rurales?</p>\n"
      ]
    },
    {
      "cell_type": "code",
      "execution_count": null,
      "metadata": {
        "id": "q8nhAluuvedJ"
      },
      "outputs": [],
      "source": [
        "\n",
        "\n",
        "onewayfreq(rows=\"Region\",weight=\"Superficie\",data=Municipios,ord=\"freq\")\n",
        "\n",
        "\n"
      ]
    },
    {
      "cell_type": "code",
      "execution_count": null,
      "metadata": {
        "id": "hyG6hBDdvedJ"
      },
      "outputs": [],
      "source": [
        "\n",
        "\n",
        "(pd.crosstab(Municipios.Region,\"Result\",values=Municipios.Superficie,aggfunc=sum,colnames=\" \")\n",
        "   .sort_values(\"Result\",ascending=False))\n",
        "\n",
        "\n"
      ]
    },
    {
      "cell_type": "code",
      "execution_count": null,
      "metadata": {
        "id": "MmuhRm4IvedJ"
      },
      "outputs": [],
      "source": [
        "\n",
        "\n",
        "onewayfreq(rows=\"Region\",weight=\"Superficie\",data=Municipios,ord=\"-freq\")\n",
        "\n",
        "\n"
      ]
    },
    {
      "cell_type": "code",
      "execution_count": null,
      "metadata": {
        "id": "XoeNdMXSvedJ"
      },
      "outputs": [],
      "source": [
        "\n",
        "\n",
        "(pd.crosstab(Municipios.Region,\"Result\",values=Municipios.Superficie,aggfunc=sum,colnames=\" \")\n",
        "   .sort_values(\"Result\",ascending=True))\n",
        "\n",
        "\n"
      ]
    },
    {
      "cell_type": "code",
      "execution_count": null,
      "metadata": {
        "id": "QQuzYBlavedJ"
      },
      "outputs": [],
      "source": [
        "\n",
        "\n",
        "onewayfreq(rows=\"Zona\",weight=\"Superficie\",data=Municipios,ord=\"freq\",cum=False)\n",
        "\n",
        "\n"
      ]
    },
    {
      "cell_type": "markdown",
      "metadata": {
        "id": "qdd1SVyfvedJ"
      },
      "source": [
        "\n",
        "<h3 style=\"color:red;\">Ejemplo 5</h3>\n",
        "<p align=\"justify\"> Qué porcentaje de los municipios de la región Llano son rurales? Qué porcentaje de los municipios rurales están en la región Pacífico?</p>\n"
      ]
    },
    {
      "cell_type": "code",
      "execution_count": null,
      "metadata": {
        "id": "0LozkWYvvedJ"
      },
      "outputs": [],
      "source": [
        "\n",
        "\n",
        "twowayfreq(rows=\"Region\",columns=\"Zona\",data=Municipios,ord=\"freq\",rowpercent=True,colpercent=True)\n",
        "\n",
        "\n"
      ]
    },
    {
      "cell_type": "code",
      "execution_count": null,
      "metadata": {
        "id": "fgT9QxPDvedK"
      },
      "outputs": [],
      "source": [
        "\n",
        "\n",
        "pd.crosstab(Municipios.Region,Municipios.Zona)\n",
        "\n",
        "\n"
      ]
    },
    {
      "cell_type": "markdown",
      "metadata": {
        "id": "luBI-c7ZvedK"
      },
      "source": [
        "\n",
        "<h3 style=\"color:red;\">Ejemplo 6</h3>\n",
        "<p align=\"justify\"> Qué porcentaje de la población de la región Eje Cafetero está en municipios rurales? Qué porcentaje de la población total en municipios rurales está en la región Centro Sur?</p>\n"
      ]
    },
    {
      "cell_type": "code",
      "execution_count": null,
      "metadata": {
        "id": "s0OAkG1EvedK"
      },
      "outputs": [],
      "source": [
        "\n",
        "\n",
        "twowayfreq(rows=\"Region\",columns=\"Zona\",weight=\"Poblacion\",data=Municipios,ord=\"freq\",rowpercent=True,colpercent=True)\n",
        "\n",
        "\n"
      ]
    },
    {
      "cell_type": "code",
      "execution_count": null,
      "metadata": {
        "id": "MHL3HajGvedK"
      },
      "outputs": [],
      "source": [
        "\n",
        "\n",
        "pd.crosstab(Municipios.Region,Municipios.Zona,values=Municipios.Poblacion,aggfunc=sum)\n",
        "\n",
        "\n"
      ]
    },
    {
      "cell_type": "markdown",
      "metadata": {
        "id": "idSIxcwuvedK"
      },
      "source": [
        "\n",
        "<h3 style=\"color:red;\">Ejemplo 7</h3>\n",
        "<p align=\"justify\"> Qué porcentaje de la superficie de la región Llano corresponde a municipios rurales? Qué porcentaje de la superficie total en municipios rurales está en la región Caribe?</p>\n"
      ]
    },
    {
      "cell_type": "code",
      "execution_count": null,
      "metadata": {
        "id": "qgEbrnONvedK"
      },
      "outputs": [],
      "source": [
        "\n",
        "\n",
        "twowayfreq(rows=\"Region\",columns=\"Zona\",weight=\"Superficie\",data=Municipios,ord=\"freq\",rowpercent=True,colpercent=True)\n",
        "\n",
        "\n"
      ]
    },
    {
      "cell_type": "code",
      "execution_count": null,
      "metadata": {
        "id": "UxAVR4v3vedK"
      },
      "outputs": [],
      "source": [
        "\n",
        "\n",
        "pd.crosstab(Municipios.Region,Municipios.Zona,values=Municipios.Superficie,aggfunc=sum)\n",
        "\n",
        "\n"
      ]
    },
    {
      "cell_type": "markdown",
      "metadata": {
        "id": "FOu8HB8OvedK"
      },
      "source": [
        "\n",
        "# <h1><a style=\"color:red;\">Ejercicio:</a></h1>\n",
        "<p align=\"justify\"> La información en el archivo <strong><i>amenhorrea.dat</i></strong>, en el cual los datos están separados por tabulaciones y la primera fila contiene el nombre de las columnas, corresponde a un experimento en el que un grupo de mujeres (<i>ID</i>) fueron asignadas aleatoriamente a uno de dos tratamientos: 100 mg (<i>Dose</i>=0) o 150 mg (<i>Dose</i>=1) de acetato de medroxiprogesterona. Luego, se midió la presencia (<i>Amenhorrea</i>=1) o ausencia (<i>Amenhorrea</i>=0) de amenorrea durante 4 ocasiones en el tiempo: al inicio del experimento (<i>Time</i>=1) y luego en 3 intervalos de 3 meses (<i>Time</i>=2,3,4). Tenga en cuenta que el conjunto de datos tiene valores perdidos en la variable <i>Amenhorrea</i>, pero estos siempre se presentan en las ocasiones 2, 3 o 4 y nunca al inicio del experimento. Use las funciones <i>onewayfreq()</i> y <i>twowayfreq()</i> para responder a las siguientes preguntas:</p>\n",
        "<ol>\n",
        "<li>Cuantas mujeres recibieron 100 mg de acetato de medroxiprogesterona?</li>\n",
        "<li>Cuantas mujeres recibieron 150 mg de acetato de medroxiprogesterona?</li>\n",
        "<li> En el grupo tratado con 100 mg de acetato de medroxiprogesterona:</li>\n",
        "</ol><ul>\n",
        "<li>3.1. Cuantas mujeres tienen información completa (es decir, 0 valores perdidos) sobre la presencia o ausencia de amenorrea?</li>\n",
        "<li>3.2. Cuantas mujeres tienen información sobre 3 de las cuatro ocasiones en las que se midió la presencia o ausencia de amenorrea?</li>\n",
        "<li>3.3. Cuantas mujeres tienen información sobre 2 de las cuatro ocasiones en las que se midió la presencia o ausencia de amenorrea?</li>\n",
        "<li>3.4. Cuantas mujeres tienen información sobre 1 de las cuatro ocasiones en las que se midió la presencia o ausencia de amenorrea?</li>\n",
        "</ul>\n"
      ]
    },
    {
      "cell_type": "code",
      "execution_count": null,
      "metadata": {
        "id": "B6B1_yMjvedL"
      },
      "outputs": [],
      "source": [
        "import pandas as pd\n",
        "import numpy as np\n",
        "import os\n",
        "\n",
        "os.chdir(\"C:\\\\Nano\\\\Computacion Estadistica\")\n",
        "pd.options.display.float_format = '{:,.2f}'.format\n",
        "\n",
        "from mismacrospython import onewayfreq, twowayfreq\n",
        "\n",
        "amen = pd.read_table(\"amenhorrea.dat\",delimiter=\"\\t\",header=0)\n",
        "amen.info()\n",
        "amen.head()\n",
        "\n",
        "######## Puntos 1 y 2\n",
        "###Opción 1\n",
        "amen.loc[amen[\"Time\"]==0,\"x\"] = 1\n",
        "amen.loc[amen[\"Time\"]!=0,\"x\"] = 0\n",
        "onewayfreq(rows=\"Dose\",weight=\"x\",data=amen)\n",
        "###Opción 2\n",
        "onewayfreq(rows=\"Dose\",weight=\"x\",data=amen,subset=\"Time==0\")\n",
        "\n",
        "######## Punto 3\n",
        "###Opción 1\n",
        "amen.loc[ amen[\"amenhorrea\"].isna(),\"y\"] = 1\n",
        "amen.loc[~amen[\"amenhorrea\"].isna(),\"y\"] = 0\n",
        "temporal = onewayfreq(rows=\"ID\",weight=\"y\",data=amen,subset=\"Dose==0\",cum=False)\n",
        "onewayfreq(rows=\"Frequency\",data=temporal)\n",
        "###Opción 2\n",
        "temporal = onewayfreq(rows=\"ID\",data=amen,subset=\"Dose==0 & amenhorrea.isna()\",cum=False)\n",
        "onewayfreq(rows=\"Frequency\",data=temporal)"
      ]
    },
    {
      "cell_type": "markdown",
      "metadata": {
        "id": "0zK623XVvedL"
      },
      "source": [
        "\n",
        "#<center><h1 style=\"color:red;\">Consulta, transformación, y creación de conjuntos de datos</h1></center>\n"
      ]
    },
    {
      "cell_type": "markdown",
      "source": [
        "# <center><h2><a style=\"color:blue;\"> Libreria duckdb </a></h2></center>\n",
        "<img height=\"350\" src=\"https://python2022.netlify.app/duckdb.png\" width=\"700\"/>"
      ],
      "metadata": {
        "id": "XiWUU5iixfPs"
      }
    },
    {
      "cell_type": "code",
      "execution_count": null,
      "metadata": {
        "id": "XTYzUA3VvedN"
      },
      "outputs": [],
      "source": [
        "\n",
        "\n",
        "!pip install duckdb\n",
        "import duckdb\n",
        "con = duckdb.connect(database=':memory:')\n",
        "\n",
        "\n"
      ]
    },
    {
      "cell_type": "markdown",
      "metadata": {
        "id": "V5y6ZpnhvedN"
      },
      "source": [
        "\n",
        "## <h3><a href=\"https://duckdb.org/docs/sql/functions/numeric\" style=\"color:red;\" target=\"_blank\"><strong>Operadores matemáticos</strong></a></h3>\n",
        "## <h3><a href=\"https://duckdb.org/docs/sql/functions/char\" style=\"color:red;\" target=\"_blank\"><strong>Operadores de texto</strong></a></h3>\n",
        "## <h3><a href=\"https://duckdb.org/docs/sql/functions/date\" style=\"color:red;\" target=\"_blank\"><strong>Operadores de fechas</strong></a></h3>\n",
        "## <h3><a href=\"https://duckdb.org/docs/sql/aggregates\" style=\"color:red;\" target=\"_blank\"><strong>Funciones de agregación</strong></a></h3>\n"
      ]
    },
    {
      "cell_type": "markdown",
      "metadata": {
        "id": "eFEt-KYEvedN"
      },
      "source": [
        "\n",
        "<p><strong>Ejemplo 1</strong></p>\n",
        "<p align=\"justify\"> Conjunto de datos con las variables <i>Departamento</i>, <i>Dep</i>, <i>Depmun</i>, <i>Municipio</i>, <i>Superficie</i> y <i>Poblacion</i> que incluye todos los municipios de los departamentos de Antioquia y Caldas con más de 20 mil habitantes y donde los mismos están ordenados con respecto a <i>Dep</i> y de mayor a menor con respecto a <i>Poblacion</i>.</p>\n"
      ]
    },
    {
      "cell_type": "code",
      "execution_count": null,
      "metadata": {
        "id": "W-Fl44FIvedN"
      },
      "outputs": [],
      "source": [
        "\n",
        "\n",
        "E1 = con.execute(\"\"\"select   Departamento, Dep, Depmun, Municipio, Superficie, Poblacion\n",
        "                    from     Municipios\n",
        "                    where    Dep in ('05','17') and Poblacion > 20000\n",
        "                    order by Dep asc, Poblacion desc\"\"\").df()\n",
        "E1.info()\n",
        "E1.head(10)\n",
        "\n",
        "\n"
      ]
    },
    {
      "cell_type": "markdown",
      "metadata": {
        "id": "8HTvBuhovedN"
      },
      "source": [
        "\n",
        "<p><strong>Ejemplo 2</strong></p>\n",
        "<p align=\"justify\"> Conjunto de datos con las variables <i>Departamento</i>, <i>Dep</i>, <i>Depmun</i>, <i>Municipio</i>, <i>Superficie</i> y <i>Poblacion</i> que incluye todos los municipios con superficies menores a 300 $km^2$ excepto los de Boyacá y Santander, y que están ordenados por <i>Dep</i> y de mayor a menor por <i>Poblacion</i>. Incluye una variable definida como \"Baja\" para los municipios con denspobl menor a 30, \"Alta\" para los municipios con <i>denspobl</i> mayor a 85, y \"Media\" para los demás.</p>\n"
      ]
    },
    {
      "cell_type": "code",
      "execution_count": null,
      "metadata": {
        "id": "CpDBCXIVvedO"
      },
      "outputs": [],
      "source": [
        "\n",
        "\n",
        "E2 = con.execute(\"\"\"select   Departamento, Dep, Depmun, Municipio, Superficie,\n",
        "                             Poblacion, case when denspobl <= 30 then 'Baja'\n",
        "                                             when denspobl > 85 then 'Alta'\n",
        "                                             else 'Media'\n",
        "                                        end as denspoblC\n",
        "                    from     Municipios\n",
        "                    where    Dep not in ('15','68') and Superficie < 300\n",
        "                    order by Dep asc, Poblacion desc\"\"\").df()\n",
        "\n",
        "E2.info()\n",
        "E1.head(10)\n",
        "\n",
        "\n"
      ]
    },
    {
      "cell_type": "markdown",
      "metadata": {
        "id": "FKwy9xpavedO"
      },
      "source": [
        "\n",
        "<p><strong>Ejemplo 3</strong></p>\n",
        "<p align=\"justify\"> Existen dos o más municipios con el mismo <i>Depmun</i>?</p>\n"
      ]
    },
    {
      "cell_type": "code",
      "execution_count": null,
      "metadata": {
        "id": "vQ5eAJSRvedO"
      },
      "outputs": [],
      "source": [
        "\n",
        "\n",
        "con.execute(\"\"\"select   Depmun, count(*) as count\n",
        "               from     Municipios\n",
        "               group by Depmun\n",
        "               having   count > 1\"\"\").df()\n",
        "\n",
        "\n"
      ]
    },
    {
      "cell_type": "markdown",
      "metadata": {
        "id": "M6JU_34VvedO"
      },
      "source": [
        "\n",
        "<p><strong>Ejemplo 4</strong></p>\n",
        "<p align=\"justify\"> De los departamentos con dos o más municipios cual es el menos homogeneo (de acuerdo al coeficiente de variación) con respecto a la superficie de los municipios que lo componen?</p>\n"
      ]
    },
    {
      "cell_type": "code",
      "execution_count": null,
      "metadata": {
        "id": "842ZayrivedO"
      },
      "outputs": [],
      "source": [
        "\n",
        "\n",
        "con.execute(\"\"\"select   Dep, Departamento, stddev_samp(Superficie)/avg(Superficie) as cv\n",
        "               from     Municipios\n",
        "               group by Dep, Departamento\n",
        "               having   count(*) > 1\n",
        "               order by cv desc\n",
        "               limit    1\"\"\").df()\n",
        "\n",
        "\n"
      ]
    },
    {
      "cell_type": "markdown",
      "metadata": {
        "id": "-Rj-oi5YvedO"
      },
      "source": [
        "\n",
        "<p><strong>Ejemplo 5</strong></p>\n",
        "<p align=\"justify\"> De los departamentos con dos o más municipios cual es el más homogeneo (de acuerdo al coeficiente de variación) con respecto a la superficie de los municipios que lo componen?</p>\n"
      ]
    },
    {
      "cell_type": "code",
      "execution_count": null,
      "metadata": {
        "id": "ZNP6pmDuvedP"
      },
      "outputs": [],
      "source": [
        "\n",
        "\n",
        "con.execute(\"\"\"select   Dep, Departamento, stddev_samp(Superficie)/avg(Superficie) as cv\n",
        "               from     Municipios\n",
        "               group by Dep, Departamento\n",
        "               having   count(*) > 1\n",
        "               order by cv asc\n",
        "               limit    1\"\"\").df()\n",
        "\n",
        "\n"
      ]
    },
    {
      "cell_type": "markdown",
      "metadata": {
        "id": "vcgGJlV9vedP"
      },
      "source": [
        "\n",
        "<p><strong>Ejemplo 6</strong></p>\n",
        "<p align=\"justify\"> Conjunto de datos con todos los departamentos, ordenados de mayor a menor con respecto a su población, que incluye la siguiente información: número de municipios, superficie, población, densidad poblacional, índice de ruralidad promedio ponderado por población, y una variable igual a \"Grande\" para los departamentos con población mayor a 1.5 millones de habitantes, \"Pequeño\" para departamentos con población menor a\n",
        "300 mil habitantes, y \"Mediano\" para el resto.</p>\n"
      ]
    },
    {
      "cell_type": "code",
      "execution_count": null,
      "metadata": {
        "id": "KqAGkPb2vedP"
      },
      "outputs": [],
      "source": [
        "\n",
        "\n",
        "E6 = con.execute(\"\"\"select   Dep, Departamento, count(*) as nmunicipios, sum(Poblacion) as totpob,\n",
        "                             sum(Superficie) as totsup, sum(Irural*Poblacion)/sum(Poblacion) as Irural,\n",
        "                             sum(Poblacion)/sum(Superficie) as denspob,\n",
        "                             case when sum(Poblacion) > 1500000 then 'Grande'\n",
        "                                  when sum(Poblacion) <= 300000 then 'Pequeño'\n",
        "                                  else 'Mediano'\n",
        "                             end as totpobC\n",
        "                    from     Municipios\n",
        "                    group by Dep, Departamento\n",
        "                    order by totpob desc\"\"\").df()\n",
        "\n",
        "E6.info()\n",
        "E6.head(10)\n",
        "\n",
        "\n"
      ]
    },
    {
      "cell_type": "markdown",
      "metadata": {
        "id": "ea5UxjTqvedP"
      },
      "source": [
        "\n",
        "<p><strong>Ejemplo 7</strong></p>\n",
        "<p align=\"justify\"> Cual es la región con la mayor superficie?</p>\n"
      ]
    },
    {
      "cell_type": "code",
      "execution_count": null,
      "metadata": {
        "id": "kIBAwrx8vedP"
      },
      "outputs": [],
      "source": [
        "\n",
        "\n",
        "con.execute(\"\"\"select   Region\n",
        "               from     Municipios\n",
        "               group by Region\n",
        "               order by sum(Superficie) desc\n",
        "               limit    1\"\"\").df()\n",
        "\n",
        "\n"
      ]
    },
    {
      "cell_type": "markdown",
      "metadata": {
        "id": "XGcxr7CyvedP"
      },
      "source": [
        "\n",
        "<p><strong>Ejemplo 8</strong></p>\n",
        "<p align=\"justify\"> Conjunto de datos con todos los departamentos, ordenados de mayor a menor con respecto a su población, que incluye la siguiente información: número de municipios, superficie, población, densidad poblacional, todo referente a los municipios con índice de ruralidad mayor a 60.</p>\n"
      ]
    },
    {
      "cell_type": "code",
      "execution_count": null,
      "metadata": {
        "id": "KajVtCd1vedP"
      },
      "outputs": [],
      "source": [
        "\n",
        "\n",
        "E8 = con.execute(\"\"\"select   Dep, Departamento, count(*) as nmunicipios, sum(Poblacion) as totpob,\n",
        "                             sum(Superficie) as totsup, sum(Poblacion)/sum(Superficie) as denspob\n",
        "                    from     Municipios\n",
        "                    where    Irural > 60\n",
        "                    group by Dep, Departamento\n",
        "                    order by totpob desc\"\"\").df()\n",
        "E8.info()\n",
        "E8.head(10)\n",
        "\n",
        "\n"
      ]
    },
    {
      "cell_type": "markdown",
      "metadata": {
        "id": "LemgVtxZvedQ"
      },
      "source": [
        "\n",
        "<p><strong>Ejemplo 9</strong></p>\n",
        "<p align=\"justify\"> Cual es la región con el mayor número de departamentos?</p>\n"
      ]
    },
    {
      "cell_type": "code",
      "execution_count": null,
      "metadata": {
        "id": "IcQmkievvedQ"
      },
      "outputs": [],
      "source": [
        "\n",
        "\n",
        "con.execute(\"\"\"select   Region\n",
        "               from     Municipios\n",
        "               group by Region\n",
        "               order by count(distinct Dep) desc\n",
        "               limit    1\"\"\").df()\n",
        "\n",
        "\n"
      ]
    },
    {
      "cell_type": "markdown",
      "metadata": {
        "id": "ysRR71EGvedQ"
      },
      "source": [
        "\n",
        "<p><strong>Ejemplo 10</strong></p>\n",
        "<p align=\"justify\"> Conjunto de datos con todos los departamentos con al menos 650 mil habitantes y al menos 10 mil $km^2$ de superficie, ordenados de mayor a menor con relación a su densidad poblacional, y que incluye la siguiente información: número de municipios, superficie, población y densidad poblacional.</p>\n"
      ]
    },
    {
      "cell_type": "code",
      "execution_count": null,
      "metadata": {
        "id": "u4AD-2jMvedQ"
      },
      "outputs": [],
      "source": [
        "\n",
        "\n",
        "E10 = con.execute(\"\"\"select   Dep, Departamento, count(*) as nmunicipios, sum(Poblacion) as totpob,\n",
        "                              sum(Superficie) as totsup, sum(Poblacion)/sum(Superficie) as denspob\n",
        "                     from     Municipios\n",
        "                     group by Dep, Departamento\n",
        "                     having   totpob >= 650000 and totsup >= 10000\n",
        "                     order by denspob desc\"\"\").df()\n",
        "E10.info()\n",
        "E10.head(10)\n",
        "\n",
        "\n"
      ]
    },
    {
      "cell_type": "markdown",
      "metadata": {
        "id": "k4LBfmT5vedQ"
      },
      "source": [
        "\n",
        "<p><strong>Ejemplo 11</strong></p>\n",
        "<p align=\"justify\"> Conjunto de datos con todos los departamentos con al menos 650 mil habitantes y al menos 10 mil de superficie, ordenados de mayor a menor con relación a su densidad poblacional, y que incluye la siguiente información: número de municipios, superficie, población, y densidad poblacional, todo referente a municipios con índice de ruralidad mayor a 40.</p>\n"
      ]
    },
    {
      "cell_type": "code",
      "execution_count": null,
      "metadata": {
        "id": "267OJj3vvedR"
      },
      "outputs": [],
      "source": [
        "\n",
        "\n",
        "E11 = con.execute(\"\"\"select   Dep, Departamento, count(*) as nmunicipios, sum(Poblacion) as totpob,\n",
        "                              sum(Superficie) as totsup, sum(Poblacion)/sum(Superficie) as denspob\n",
        "                     from     Municipios\n",
        "                     where    Irural > 40\n",
        "                     group by Dep, Departamento\n",
        "                     having   totpob >= 650000 and totsup >= 10000\n",
        "                     order by denspob desc\"\"\").df()\n",
        "E11.info()\n",
        "E11.head(10)\n",
        "\n",
        "\n"
      ]
    },
    {
      "cell_type": "markdown",
      "metadata": {
        "id": "khFOoUETvedR"
      },
      "source": [
        "\n",
        "<p><strong>Ejemplo 12</strong></p>\n",
        "<p align=\"justify\"> Existen dos o más municipios con el mismo nombre? Cuantos? Cuales? En qué departamentos están ubicados?</p>\n"
      ]
    },
    {
      "cell_type": "code",
      "execution_count": null,
      "metadata": {
        "id": "C-iNgvnfvedR"
      },
      "outputs": [],
      "source": [
        "\n",
        "\n",
        "Repetidos = con.execute(\"\"\"select   Municipio, count(*) as veces\n",
        "                           from     Municipios\n",
        "                           group by Municipio\n",
        "                           having   veces > 1\n",
        "                           order by veces desc\"\"\").df()\n",
        "\n",
        "E12 = con.execute(\"\"\"select   Municipio, Departamento, Dep, Depmun\n",
        "                     from     Municipios\n",
        "                     where    Municipio in (select Municipio\n",
        "                                            from   Repetidos)\n",
        "                     order by Municipio, Departamento\"\"\").df()\n",
        "\n",
        "E12.info()\n",
        "E12.head(10)\n",
        "\n",
        "\n"
      ]
    },
    {
      "cell_type": "code",
      "execution_count": null,
      "metadata": {
        "id": "I0Omvl26vedR"
      },
      "outputs": [],
      "source": [
        "\n",
        "\n",
        "E12a = con.execute(\"\"\"select   Municipio, Departamento, Dep, Depmun\n",
        "                      from     Municipios\n",
        "                      where    Municipio in (select   Municipio\n",
        "                                             from     Municipios\n",
        "                                             group by Municipio\n",
        "                                             having   count(*) > 1)\n",
        "                      order by Municipio, Departamento\"\"\").df()\n",
        "\n",
        "E12a.info()\n",
        "E12a.head(10)\n",
        "\n",
        "\n"
      ]
    },
    {
      "cell_type": "markdown",
      "metadata": {
        "id": "eClqjijwvedR"
      },
      "source": [
        "\n",
        "<p><strong>Ejemplo 13</strong></p>\n",
        "<p align=\"justify\"> Existen dos o más municipios con el mismo nombre que hacen parte de la misma región? Cuantos? Cuales?</p>\n"
      ]
    },
    {
      "cell_type": "code",
      "execution_count": null,
      "metadata": {
        "id": "5bcX_UDZvedR"
      },
      "outputs": [],
      "source": [
        "\n",
        "\n",
        "Municipios[\"regmun\"] = Municipios[\"Region\"] + \" \" + Municipios[\"Municipio\"]\n",
        "Municipios.head(20)\n",
        "\n",
        "\n"
      ]
    },
    {
      "cell_type": "code",
      "execution_count": null,
      "metadata": {
        "id": "3zuPhZjbvedS"
      },
      "outputs": [],
      "source": [
        "\n",
        "\n",
        "Repetidos = con.execute(\"\"\"select   regmun, count(*) as veces\n",
        "                           from     Municipios\n",
        "                           group by regmun\n",
        "                           having   veces > 1\n",
        "                           order by veces desc\"\"\").df()\n",
        "\n",
        "E13 = con.execute(\"\"\"select   Municipio, Region, Departamento, Dep, Depmun\n",
        "                     from     Municipios\n",
        "                     where    regmun in (select regmun\n",
        "                                         from   Repetidos)\n",
        "                     order by Municipio asc, Region asc\"\"\").df()\n",
        "\n",
        "E13.info()\n",
        "E13.head(10)\n",
        "\n",
        "\n"
      ]
    },
    {
      "cell_type": "code",
      "execution_count": null,
      "metadata": {
        "id": "vJpRyPgvvedS"
      },
      "outputs": [],
      "source": [
        "\n",
        "\n",
        "E13a = con.execute(\"\"\"select   Municipio, Region, Departamento, Dep, Depmun\n",
        "                      from     Municipios\n",
        "                      where    regmun in (select   regmun\n",
        "                                          from     Municipios\n",
        "                                          group by regmun\n",
        "                                          having   count(*) > 1)\n",
        "                      order by Municipio asc, Region asc\"\"\").df()\n",
        "\n",
        "Municipios = Municipios.drop(columns=\"regmun\")\n",
        "\n",
        "\n"
      ]
    },
    {
      "cell_type": "code",
      "execution_count": null,
      "metadata": {
        "id": "jnoR656FvedS"
      },
      "outputs": [],
      "source": [
        "\n",
        "\n",
        "E13a.equals(E13)\n",
        "\n",
        "\n"
      ]
    },
    {
      "cell_type": "markdown",
      "metadata": {
        "id": "T_eChiQivedS"
      },
      "source": [
        "\n",
        "<p><strong>Ejemplo 14</strong></p>\n",
        "<p align=\"justify\"> Conjunto de datos con los municipios cuyos nombres inician con \"A\" o terminan con \"o\", no importa si llevan tilde o no.</p>\n"
      ]
    },
    {
      "cell_type": "code",
      "execution_count": null,
      "metadata": {
        "id": "_9hnfApevedS"
      },
      "outputs": [],
      "source": [
        "\n",
        "\n",
        "E14 = con.execute(\"\"\"select    Dep, Departamento, Municipio, Depmun\n",
        "                      from     Municipios\n",
        "                      where    Municipio similar to '(A|Á).*' or Municipio similar to '.*(o|ó)'\n",
        "                      order by Depmun\"\"\").df()\n",
        "\n",
        "E14.info()\n",
        "E14.head(10)\n",
        "\n",
        "\n"
      ]
    },
    {
      "cell_type": "markdown",
      "metadata": {
        "id": "7jCS28jSvedT"
      },
      "source": [
        "\n",
        "<p><strong>Ejemplo 15</strong></p>\n",
        "<p align=\"justify\"> Conjunto de datos con los municipios cuyos nombres inician con \"A\" y terminan con \"o\", no importa si llevan tilde o no.</p>\n"
      ]
    },
    {
      "cell_type": "code",
      "execution_count": null,
      "metadata": {
        "id": "BAH3EVkWvedT"
      },
      "outputs": [],
      "source": [
        "\n",
        "\n",
        "E15 = con.execute(\"\"\"select   Dep, Departamento, Municipio, Depmun\n",
        "                     from     Municipios\n",
        "                     where    Municipio similar to '(A|Á).*(o|ó)'\n",
        "                     order by Depmun\"\"\").df()\n",
        "E15.info()\n",
        "E15.head(10)\n",
        "\n",
        "\n"
      ]
    },
    {
      "cell_type": "markdown",
      "metadata": {
        "id": "ZCxS5PwavedT"
      },
      "source": [
        "\n",
        "<p><strong>Ejemplo 16</strong></p>\n",
        "<p align=\"justify\"> Conjunto de datos con los municipios cuyo nombre tiene a la letra \"e\" en las posiciones 2 y 4, no importa si llevan tilde o no.</p>\n"
      ]
    },
    {
      "cell_type": "code",
      "execution_count": null,
      "metadata": {
        "id": "gbV48DxmvedT"
      },
      "outputs": [],
      "source": [
        "\n",
        "\n",
        "E16 = con.execute(\"\"\"select   Dep, Departamento, Municipio, Depmun\n",
        "                     from     Municipios\n",
        "                     where    Municipio similar to '.{1}(e|é).{1}(e|é).*'\n",
        "                     order by Depmun\"\"\").df()\n",
        "E16.info()\n",
        "E16.head(10)\n",
        "\n",
        "\n"
      ]
    },
    {
      "cell_type": "markdown",
      "metadata": {
        "id": "z8wPLvK1vedU"
      },
      "source": [
        "\n",
        "<p><strong>Ejemplo 17</strong></p>\n",
        "<p align=\"justify\"> Conjunto de datos con los municipios cuyos nombres constan de más de una palabra.</p>\n"
      ]
    },
    {
      "cell_type": "code",
      "execution_count": null,
      "metadata": {
        "id": "rrTR6z_JvedU"
      },
      "outputs": [],
      "source": [
        "\n",
        "\n",
        "E17 = con.execute(\"\"\"select   Dep, Departamento, Municipio, Depmun\n",
        "                     from     Municipios\n",
        "                     where    Municipio similar to '.* .*'\n",
        "                     order by Depmun\"\"\").df()\n",
        "E17.info()\n",
        "E17.head(10)\n",
        "\n",
        "\n"
      ]
    },
    {
      "cell_type": "markdown",
      "metadata": {
        "id": "YxQ0tQeUvedU"
      },
      "source": [
        "\n",
        "<img height=\"350\" src=\"https://python2022.netlify.app/sqldf3.png\" width=\"700\"/>\n",
        "<img height=\"350\" src=\"https://python2022.netlify.app/sqldf2.png\" width=\"700\"/>\n"
      ]
    },
    {
      "cell_type": "markdown",
      "metadata": {
        "id": "E379dpxfvedV"
      },
      "source": [
        "\n",
        "<p><strong>Ejemplo 18</strong></p>\n",
        "<p align=\"justify\"> Cuantos y cuales municipios tienen al menos una estación de monitoreo climático?</p>\n"
      ]
    },
    {
      "cell_type": "code",
      "execution_count": null,
      "metadata": {
        "id": "zFYDR-bnvedV"
      },
      "outputs": [],
      "source": [
        "\n",
        "\n",
        "Estaciones = pd.read_excel(\"Estaciones.xlsx\",dtype={'CODIGO': str, 'Depmun': str})\n",
        "Estaciones.info()\n",
        "Estaciones.head(20)\n",
        "\n",
        "\n"
      ]
    },
    {
      "cell_type": "code",
      "execution_count": null,
      "metadata": {
        "id": "lDvsuCgYvedV"
      },
      "outputs": [],
      "source": [
        "\n",
        "\n",
        "E18 = con.execute(\"\"\"select   distinct Depmun\n",
        "                     from     Estaciones\n",
        "                     order by Depmun\"\"\").df()\n",
        "E18.info()\n",
        "E18.head(10)\n",
        "\n",
        "\n"
      ]
    },
    {
      "cell_type": "markdown",
      "metadata": {
        "id": "EeTlC5A5vedV"
      },
      "source": [
        "\n",
        "<p><strong>Ejemplo 19</strong></p>\n",
        "<p align=\"justify\"> Conjunto de datos con todos los municipios del país, que incluye una variable que informa el número de estaciones de monitoreo climático con que cuenta cada municipio.</p>\n"
      ]
    },
    {
      "cell_type": "code",
      "execution_count": null,
      "metadata": {
        "id": "O035vdUwvedV"
      },
      "outputs": [],
      "source": [
        "\n",
        "\n",
        "Emon = con.execute(\"\"\"select   Depmun, count(*) as nem\n",
        "                      from     Estaciones\n",
        "                      group by Depmun\"\"\").df()\n",
        "\n",
        "E19 = con.execute(\"\"\"select   Municipios.*, case when nem is null then 0\n",
        "                                                 else nem\n",
        "                                            end as nest\n",
        "                     from     Municipios left join Emon on (Municipios.Depmun = Emon.Depmun)\n",
        "                     order by Dep, Poblacion desc\"\"\").df()\n",
        "E19.info()\n",
        "E19.head(20)\n",
        "\n",
        "\n"
      ]
    },
    {
      "cell_type": "markdown",
      "metadata": {
        "id": "WAko3yFKvedW"
      },
      "source": [
        "\n",
        "<p><strong>Ejemplo 20</strong></p>\n",
        "<p align=\"justify\"> Existen municipios que no tienen ninguna estación de monitoreo climático? Cuantos? Cuales?</p>\n"
      ]
    },
    {
      "cell_type": "code",
      "execution_count": null,
      "metadata": {
        "id": "11GcnuOuvedW"
      },
      "outputs": [],
      "source": [
        "\n",
        "\n",
        "E20 = con.execute(\"\"\"select   Municipios.*\n",
        "                     from     Municipios\n",
        "                     where    Depmun not in (select Depmun\n",
        "                                             from   Estaciones)\n",
        "                     order by Depmun\"\"\").df()\n",
        "\n",
        "E20.info()\n",
        "\n",
        "\n"
      ]
    },
    {
      "cell_type": "markdown",
      "metadata": {
        "id": "zdmM7TvDvedW"
      },
      "source": [
        "\n",
        "<p><strong>Ejemplo 21</strong></p>\n",
        "<p align=\"justify\"> Copia de Estaciones que solo considera estaciones de monitoreo localizadas como máximo a 2000 metros de altura sobre el nivel del mar, y que incluye los nombres del municipio y del departamento donde están ubicadas las estaciones.</p>\n"
      ]
    },
    {
      "cell_type": "code",
      "execution_count": null,
      "metadata": {
        "id": "OC-6J8H3vedW"
      },
      "outputs": [],
      "source": [
        "\n",
        "\n",
        "E21 = con.execute(\"\"\"select   Estaciones.*, Municipio, Departamento, Dep\n",
        "                     from     Estaciones inner join Municipios on (Estaciones.Depmun = Municipios.Depmun)\n",
        "                     where    elev <= 2000\n",
        "                     order by Estaciones.Depmun, codigo\"\"\").df()\n",
        "\n",
        "E21.info()\n",
        "E21.head(10)\n",
        "\n",
        "\n"
      ]
    },
    {
      "cell_type": "markdown",
      "metadata": {
        "id": "eJaLfiqavedX"
      },
      "source": [
        "\n",
        "# <center><h1 style=\"color:red;\">Consulta, transformación, y creación de conjuntos de datos</h1></center>\n",
        "\n"
      ]
    },
    {
      "cell_type": "markdown",
      "source": [
        "# <center><h2><a style=\"color:blue;\"> Libreria pandas </a></h2></center>"
      ],
      "metadata": {
        "id": "HVKQLQ44yCEC"
      }
    },
    {
      "cell_type": "markdown",
      "metadata": {
        "id": "_iTFYjYNvedX"
      },
      "source": [
        "\n",
        "<p><strong>Ejemplo 1</strong></p>\n",
        "<p align=\"justify\"> Conjunto de datos con las variables <i>Departamento</i>, <i>Dep</i>, <i>Depmun</i>, <i>Municipio</i>, <i>Superficie</i> y <i>Poblacion</i> que incluye todos los municipios de los departamentos de Antioquia y Caldas con más de 20 mil habitantes y donde los mismos están ordenados con respecto a <i>Dep</i> y de mayor a menor con respecto a <i>Poblacion</i>.</p>\n"
      ]
    },
    {
      "cell_type": "code",
      "execution_count": null,
      "metadata": {
        "id": "PO0VLd_UvedX"
      },
      "outputs": [],
      "source": [
        "\n",
        "\n",
        "e1 = (Municipios\n",
        "      .loc[:,[\"Departamento\",\"Dep\",\"Depmun\",\"Municipio\",\"Superficie\",\"Poblacion\"]]\n",
        "      .query(\"Poblacion > 20000 & Dep in ('05','17')\")\n",
        "      .sort_values(by=[\"Dep\",\"Poblacion\"],ascending=[True,False]).reset_index(drop=True)\n",
        "     )\n",
        "\n",
        "e1.info()\n",
        "e1.head(10)\n",
        "\n",
        "\n"
      ]
    },
    {
      "cell_type": "code",
      "execution_count": null,
      "metadata": {
        "id": "tzmSNocUvedY"
      },
      "outputs": [],
      "source": [
        "\n",
        "\n",
        "def comparacion(a,b):\n",
        "    if len(a.select_dtypes(exclude='float').columns) > 0:\n",
        "        Nf = a.select_dtypes(exclude='float').equals(b.select_dtypes(exclude='float'))\n",
        "    else:\n",
        "        Nf = True\n",
        "    if len(a.select_dtypes(include='float').columns) > 0:\n",
        "        f = a.select_dtypes(include='float').round(5).equals(b.select_dtypes(include='float').round(5))\n",
        "    else:\n",
        "        f = True\n",
        "    if Nf==True & f==True:\n",
        "        return(True)\n",
        "    else:\n",
        "        return(False)\n",
        "\n",
        "\n"
      ]
    },
    {
      "cell_type": "code",
      "execution_count": null,
      "metadata": {
        "id": "ZBhRrMgtvedY"
      },
      "outputs": [],
      "source": [
        "\n",
        "\n",
        "comparacion(e1,E1)\n",
        "\n",
        "\n"
      ]
    },
    {
      "cell_type": "markdown",
      "metadata": {
        "id": "JdZRAtGOvedY"
      },
      "source": [
        "\n",
        "<p><strong>Ejemplo 2</strong></p>\n",
        "<p align=\"justify\"> Conjunto de datos con las variables <i>Departamento</i>, <i>Dep</i>, <i>Depmun</i>, <i>Municipio</i>, <i>Superficie</i> y <i>Poblacion</i> que incluye todos los municipios con superficies menores a 300 $km^2$ excepto los de Boyacá y Santander, y que están ordenados por <i>Dep</i> y de mayor a menor por <i>Poblacion</i>. Incluye una variable definida como \"Baja\" para los municipios con denspobl menor a 30, \"Alta\" para los municipios con <i>denspobl</i> mayor a 85, y \"Media\" para los demás.</p>\n"
      ]
    },
    {
      "cell_type": "code",
      "execution_count": null,
      "metadata": {
        "id": "kesnLnhfvedY"
      },
      "outputs": [],
      "source": [
        "\n",
        "\n",
        "e2 = Municipios\n",
        "e2[\"denspoblC\"] = pd.cut(e2[\"denspobl\"],[np.NINF,30,85,np.inf],labels=[\"Baja\",\"Media\",\"Alta\"]).astype(\"object\")\n",
        "\n",
        "e2 = (e2\n",
        "      .loc[:,[\"Departamento\",\"Dep\",\"Depmun\",\"Municipio\",\"Superficie\",\"Poblacion\",\"denspoblC\"]]\n",
        "      .query(\"Dep not in ('15','68') & Superficie < 300\")\n",
        "      .sort_values(by=[\"Dep\",\"Poblacion\"],ascending=[True,False]).reset_index(drop=True)\n",
        "     )\n",
        "\n",
        "e2.info()\n",
        "e2.head(10)\n",
        "comparacion(e2,E2)\n",
        "\n",
        "\n"
      ]
    },
    {
      "cell_type": "markdown",
      "metadata": {
        "id": "AMdGoEe2vedZ"
      },
      "source": [
        "\n",
        "<p><strong>Ejemplo 3</strong></p>\n",
        "<p align=\"justify\"> Existen dos o más municipios con el mismo <i>Depmun</i>?</p>\n"
      ]
    },
    {
      "cell_type": "code",
      "execution_count": null,
      "metadata": {
        "id": "wqi7N3C3vedZ"
      },
      "outputs": [],
      "source": [
        "\n",
        "\n",
        "(Municipios\n",
        " .groupby(\"Depmun\")\n",
        " .agg(conteo=(\"Depmun\",\"count\")).reset_index()\n",
        " .query(\"conteo > 1\")\n",
        ")\n",
        "\n",
        "\n"
      ]
    },
    {
      "cell_type": "markdown",
      "metadata": {
        "id": "cFpI5LbRvedZ"
      },
      "source": [
        "\n",
        "<p><strong>Ejemplo 4</strong></p>\n",
        "<p align=\"justify\"> De los departamentos con dos o más municipios cual es el menos homogeneo (de acuerdo al coeficiente de variación) con respecto a la superficie de los municipios que lo componen?</p>\n"
      ]
    },
    {
      "cell_type": "code",
      "execution_count": null,
      "metadata": {
        "id": "IRSNP61WvedZ"
      },
      "outputs": [],
      "source": [
        "\n",
        "\n",
        "def cv(x):\n",
        "    return(x.std()/x.mean())\n",
        "\n",
        "(Municipios\n",
        " .groupby([\"Dep\",\"Departamento\"])\n",
        " .agg(conteo=(\"Depmun\",\"count\"),cv=(\"Superficie\",cv)).reset_index()\n",
        " .query(\"conteo > 1\")\n",
        " .drop(columns=\"conteo\")\n",
        " .sort_values(by=[\"cv\"],ascending=False).reset_index(drop=True)\n",
        " .head(n=2)\n",
        ")\n",
        "\n",
        "\n"
      ]
    },
    {
      "cell_type": "markdown",
      "metadata": {
        "id": "8gvKfkjpveda"
      },
      "source": [
        "\n",
        "<p><strong>Ejemplo 5</strong></p>\n",
        "<p align=\"justify\"> De los departamentos con dos o más municipios cual es el más homogeneo (de acuerdo al coeficiente de variación) con respecto a la superficie de los municipios que lo componen?</p>\n"
      ]
    },
    {
      "cell_type": "code",
      "execution_count": null,
      "metadata": {
        "id": "i0YuXxpAveda"
      },
      "outputs": [],
      "source": [
        "\n",
        "\n",
        "(Municipios.groupby([\"Dep\",\"Departamento\"])\n",
        " .agg(conteo=(\"Depmun\",\"count\"),cv=(\"Superficie\",cv)).reset_index()\n",
        " .query(\"conteo > 1\").drop(columns=\"conteo\")\n",
        " .sort_values(by=[\"cv\"],ascending=True).reset_index(drop=True)\n",
        " .head(n=2)\n",
        ")\n",
        "\n",
        "\n"
      ]
    },
    {
      "cell_type": "markdown",
      "metadata": {
        "id": "eNoKAymbveda"
      },
      "source": [
        "\n",
        "<p><strong>Ejemplo 6</strong></p>\n",
        "<p align=\"justify\"> Conjunto de datos con todos los departamentos, ordenados de mayor a menor con respecto a su población, que incluye la siguiente información: número de municipios, superficie, población, densidad poblacional, índice de ruralidad promedio ponderado por población, y una variable igual a \"Grande\" para los departamentos con población mayor a 1.5 millones de habitantes, \"Pequeño\" para departamentos con población menor a\n",
        "300 mil habitantes, y \"Mediano\" para el resto.</p>\n"
      ]
    },
    {
      "cell_type": "code",
      "execution_count": null,
      "metadata": {
        "id": "j_XB97O4veda"
      },
      "outputs": [],
      "source": [
        "\n",
        "\n",
        "def wtmean(x):\n",
        "    w = Municipios.loc[x.index,\"Poblacion\"]\n",
        "    return(sum(x*w)/sum(w))\n",
        "\n",
        "def cases(x):\n",
        "    out = \"Mediano\"\n",
        "    if sum(x) < 300000:  out= \"Pequeño\"\n",
        "    if sum(x) > 1500000: out= \"Grande\"\n",
        "    return(out)\n",
        "\n",
        "e6 = (Municipios\n",
        "      .groupby([\"Dep\",\"Departamento\"])\n",
        "      .agg(nmunicipios=(\"Depmun\",\"count\"),\n",
        "           totpob=(\"Poblacion\",\"sum\"),\n",
        "           totsup=(\"Superficie\",\"sum\"),\n",
        "           Irural=(\"Irural\",wtmean),\n",
        "           totpobC=(\"Poblacion\",cases)).reset_index()\n",
        "      .eval('''denspob = totpob/totsup''')\n",
        "      .sort_values(by=[\"totpob\"],ascending=False).reset_index(drop=True)\n",
        "      .loc[:,[\"Dep\",\"Departamento\",\"nmunicipios\",\"totpob\",\"totsup\",\"Irural\",\"denspob\",\"totpobC\"]]\n",
        "     )\n",
        "\n",
        "e6.info()\n",
        "e6.head()\n",
        "comparacion(e6,E6)\n",
        "\n",
        "\n"
      ]
    },
    {
      "cell_type": "markdown",
      "metadata": {
        "id": "DsQbtxiLvedb"
      },
      "source": [
        "\n",
        "<p><strong>Ejemplo 7</strong></p>\n",
        "<p align=\"justify\"> Cual es la región con la mayor superficie?</p>\n"
      ]
    },
    {
      "cell_type": "code",
      "execution_count": null,
      "metadata": {
        "id": "XO4446OGvedb"
      },
      "outputs": [],
      "source": [
        "\n",
        "\n",
        "(Municipios\n",
        " .groupby([\"Region\"])\n",
        " .agg(Superficie=(\"Superficie\",\"sum\")).reset_index()\n",
        " .sort_values(by=[\"Superficie\"],ascending=False).reset_index(drop=True)\n",
        " .head(n=2)\n",
        ")\n",
        "\n",
        "\n"
      ]
    },
    {
      "cell_type": "markdown",
      "metadata": {
        "id": "H61xFYfKvedb"
      },
      "source": [
        "\n",
        "<p><strong>Ejemplo 8</strong></p>\n",
        "<p align=\"justify\"> Conjunto de datos con todos los departamentos, ordenados de mayor a menor con respecto a su población, que incluye la siguiente información: número de municipios, superficie, población, densidad poblacional, todo referente a los municipios con índice de ruralidad mayor a 60.</p>\n"
      ]
    },
    {
      "cell_type": "code",
      "execution_count": null,
      "metadata": {
        "id": "Xbbb1vLvvedb"
      },
      "outputs": [],
      "source": [
        "\n",
        "\n",
        "e8 = (Municipios\n",
        "      .query(\"Irural > 60\")\n",
        "      .groupby([\"Dep\",\"Departamento\"])\n",
        "      .agg(nmunicipios=(\"Depmun\",\"count\"),\n",
        "           totpob=(\"Poblacion\",\"sum\"),\n",
        "           totsup=(\"Superficie\",\"sum\")).reset_index()\n",
        "      .sort_values(by=[\"totpob\"],ascending=False).reset_index(drop=True)\n",
        "      .eval('''denspob=totpob/totsup''')\n",
        "     )\n",
        "\n",
        "e8.info()\n",
        "e8.head(10)\n",
        "comparacion(e8,E8)\n",
        "\n",
        "\n"
      ]
    },
    {
      "cell_type": "markdown",
      "metadata": {
        "id": "_HSWi4PZvedb"
      },
      "source": [
        "\n",
        "<p><strong>Ejemplo 9</strong></p>\n",
        "<p align=\"justify\"> Cual es la región con el mayor número de departamentos?</p>\n"
      ]
    },
    {
      "cell_type": "code",
      "execution_count": null,
      "metadata": {
        "id": "8xuw74EQvedc"
      },
      "outputs": [],
      "source": [
        "\n",
        "\n",
        "(Municipios\n",
        " .groupby([\"Region\"])\n",
        " .agg(Departamentos=(\"Dep\",\"nunique\")).reset_index()\n",
        " .sort_values(by=[\"Departamentos\"],ascending=False)\n",
        " .head(n=2)\n",
        ")\n",
        "\n",
        "\n"
      ]
    },
    {
      "cell_type": "markdown",
      "metadata": {
        "id": "oE8stS7Hvedc"
      },
      "source": [
        "\n",
        "<p><strong>Ejemplo 10</strong></p>\n",
        "<p align=\"justify\"> Conjunto de datos con todos los departamentos con al menos 650 mil habitantes y al menos 10 mil $km^2$ de superficie, ordenados de mayor a menor con relación a su densidad poblacional, y que incluye la siguiente información: número de municipios, superficie, población y densidad poblacional.</p>\n"
      ]
    },
    {
      "cell_type": "code",
      "execution_count": null,
      "metadata": {
        "id": "mQtyAVmjvede"
      },
      "outputs": [],
      "source": [
        "\n",
        "\n",
        "e10 = (Municipios\n",
        "       .groupby([\"Dep\",\"Departamento\"])\n",
        "       .agg(nmunicipios=(\"Depmun\",\"count\"),\n",
        "            totpob=(\"Poblacion\",\"sum\"),\n",
        "            totsup=(\"Superficie\",\"sum\")).reset_index()\n",
        "       .eval('''denspob = totpob/totsup''')\n",
        "       .query(\"totpob >= 650000 & totsup >= 10000\")\n",
        "       .sort_values(by=[\"denspob\"],ascending=False).reset_index(drop=True)\n",
        "      )\n",
        "\n",
        "e10.info()\n",
        "e10.head(10)\n",
        "comparacion(e10,E10)\n",
        "\n",
        "\n"
      ]
    },
    {
      "cell_type": "markdown",
      "metadata": {
        "id": "V8nJOdIivede"
      },
      "source": [
        "\n",
        "<p><strong>Ejemplo 11</strong></p>\n",
        "<p align=\"justify\"> Conjunto de datos con todos los departamentos con al menos 650 mil habitantes y al menos 10 mil de superficie, ordenados de mayor a menor con relación a su densidad poblacional, y que incluye la siguiente información: número de municipios, superficie, población, y densidad poblacional, todo referente a municipios con índice de ruralidad mayor a 40.</p>\n"
      ]
    },
    {
      "cell_type": "code",
      "execution_count": null,
      "metadata": {
        "id": "KlRlgjf6vede"
      },
      "outputs": [],
      "source": [
        "\n",
        "\n",
        "e11 = (Municipios\n",
        "       .query(\"Irural > 40\")\n",
        "       .groupby([\"Dep\",\"Departamento\"])\n",
        "       .agg(nmunicipios=(\"Depmun\",\"count\"),\n",
        "            totpob=(\"Poblacion\",\"sum\"),\n",
        "            totsup=(\"Superficie\",\"sum\")).reset_index()\n",
        "       .eval('''denspob = totpob/totsup''')\n",
        "       .query(\"totpob >= 650000 & totsup >= 10000\")\n",
        "       .sort_values(by=[\"denspob\"],ascending=False).reset_index(drop=True)\n",
        "      )\n",
        "\n",
        "e11.info()\n",
        "e11.head(10)\n",
        "comparacion(e11,E11)\n",
        "\n",
        "\n"
      ]
    },
    {
      "cell_type": "markdown",
      "metadata": {
        "id": "9n7nUQFFvedf"
      },
      "source": [
        "\n",
        "<p><strong>Ejemplo 12</strong></p>\n",
        "<p align=\"justify\"> Existen dos o más municipios con el mismo nombre? Cuantos? Cuales? En qué departamentos están ubicados?</p>\n"
      ]
    },
    {
      "cell_type": "code",
      "execution_count": null,
      "metadata": {
        "id": "_k9_nfgpvedf"
      },
      "outputs": [],
      "source": [
        "\n",
        "\n",
        "Repetidos = (Municipios\n",
        "             .groupby(\"Municipio\")\n",
        "             .agg(reps=(\"Municipio\",\"count\")).reset_index()\n",
        "             .query(\"reps > 1\")\n",
        "             .sort_values(by=[\"reps\"],ascending=False).reset_index(drop=True)\n",
        "            )\n",
        "reps = Repetidos[\"Municipio\"]\n",
        "Repetidos.info()\n",
        "Repetidos.head(10)\n",
        "\n",
        "\n"
      ]
    },
    {
      "cell_type": "code",
      "execution_count": null,
      "metadata": {
        "id": "c0IY5cM4vedf"
      },
      "outputs": [],
      "source": [
        "\n",
        "\n",
        "e12 = (Municipios\n",
        "       .loc[:,[\"Municipio\",\"Departamento\",\"Dep\",\"Depmun\"]]\n",
        "       .query(\"Municipio in @reps\")\n",
        "       .sort_values(by=[\"Municipio\",\"Departamento\"],ascending=[True,True]).reset_index(drop=True)\n",
        "      )\n",
        "\n",
        "e12.info()\n",
        "e12.head(10)\n",
        "comparacion(e12,E12)\n",
        "\n",
        "\n"
      ]
    },
    {
      "cell_type": "markdown",
      "metadata": {
        "id": "zvyvOoUWvedf"
      },
      "source": [
        "\n",
        "<p><strong>Ejemplo 13</strong></p>\n",
        "<p align=\"justify\"> Existen dos o más municipios con el mismo nombre que hacen parte de la misma región? Cuantos? Cuales?</p>\n"
      ]
    },
    {
      "cell_type": "code",
      "execution_count": null,
      "metadata": {
        "id": "ZWZmv9xJvedf"
      },
      "outputs": [],
      "source": [
        "\n",
        "\n",
        "Municipios[\"regmun\"] = Municipios[\"Region\"] + \" \" + Municipios[\"Municipio\"]\n",
        "Municipios.head(20)\n",
        "\n",
        "\n"
      ]
    },
    {
      "cell_type": "code",
      "execution_count": null,
      "metadata": {
        "id": "lrQeWKfFvedf"
      },
      "outputs": [],
      "source": [
        "\n",
        "\n",
        "Repetidos = (Municipios\n",
        "             .groupby(\"regmun\")\n",
        "             .agg(reps=(\"regmun\",\"count\")).reset_index()\n",
        "             .query(\"reps > 1\")\n",
        "             .sort_values(by=[\"reps\"],ascending=False)\n",
        "            )\n",
        "reps = Repetidos[\"regmun\"]\n",
        "\n",
        "e13 = (Municipios\n",
        "       .query(\"regmun in @reps\")\n",
        "       .loc[:,[\"Municipio\",\"Region\",\"Departamento\",\"Dep\",\"Depmun\"]]\n",
        "       .sort_values(by=[\"Municipio\", \"Region\"],ascending=[True,True]).reset_index(drop=True)\n",
        "      )\n",
        "\n",
        "Municipios = Municipios.drop(columns=\"regmun\")\n",
        "e13.info()\n",
        "e13.head(10)\n",
        "comparacion(e13,E13)\n",
        "\n",
        "\n"
      ]
    },
    {
      "cell_type": "markdown",
      "metadata": {
        "id": "bQQSaZ0tvedf"
      },
      "source": [
        "\n",
        "<p><strong>Ejemplo 14</strong></p>\n",
        "<p align=\"justify\"> Conjunto de datos con los municipios cuyos nombres inician con \"A\" o terminan con \"o\", no importa si llevan tilde o no.</p>\n"
      ]
    },
    {
      "cell_type": "code",
      "execution_count": null,
      "metadata": {
        "id": "Us9ClfAOvedf"
      },
      "outputs": [],
      "source": [
        "\n",
        "\n",
        "e14 = (Municipios\n",
        "       .query(\"Municipio.str.contains('^(A|Á)|(o|ó)$').values\")\n",
        "       .loc[:,[\"Dep\",\"Departamento\",\"Municipio\",\"Depmun\"]]\n",
        "       .sort_values(by=[\"Depmun\"],ascending=True).reset_index(drop=True)\n",
        "      )\n",
        "\n",
        "e14.info()\n",
        "e14.head(10)\n",
        "comparacion(e14,E14)\n",
        "\n",
        "\n"
      ]
    },
    {
      "cell_type": "markdown",
      "metadata": {
        "id": "ni4IgR-Mvedg"
      },
      "source": [
        "\n",
        "<p><strong>Ejemplo 15</strong></p>\n",
        "<p align=\"justify\"> Conjunto de datos con los municipios cuyos nombres inician con \"A\" y terminan con \"o\", no importa si llevan tilde o no.</p>\n"
      ]
    },
    {
      "cell_type": "code",
      "execution_count": null,
      "metadata": {
        "id": "meXwesh_vedg"
      },
      "outputs": [],
      "source": [
        "\n",
        "\n",
        "e15 = (Municipios\n",
        "       .query(\"Municipio.str.contains('^(A|Á).*(o|ó)$').values\")\n",
        "       .loc[:,[\"Dep\",\"Departamento\",\"Municipio\",\"Depmun\"]]\n",
        "       .sort_values(by=[\"Depmun\"],ascending=True).reset_index(drop=True)\n",
        "      )\n",
        "\n",
        "e15.info()\n",
        "e15.head(10)\n",
        "comparacion(e15,E15)\n",
        "\n",
        "\n"
      ]
    },
    {
      "cell_type": "markdown",
      "metadata": {
        "id": "v-dt0mJcvedg"
      },
      "source": [
        "\n",
        "<p><strong>Ejemplo 16</strong></p>\n",
        "<p align=\"justify\"> Conjunto de datos con los municipios cuyo nombre tiene a la letra \"e\" en las posiciones 2 y 4, no importa si llevan tilde o no.</p>\n"
      ]
    },
    {
      "cell_type": "code",
      "execution_count": null,
      "metadata": {
        "id": "lWcqvHCfvedg"
      },
      "outputs": [],
      "source": [
        "\n",
        "\n",
        "e16 = (Municipios\n",
        "       .query(\"Municipio.str.contains('^.{1}(e|é).{1}(e|é).*').values\")\n",
        "       .loc[:,[\"Dep\",\"Departamento\",\"Municipio\",\"Depmun\"]]\n",
        "       .sort_values(by=[\"Depmun\"],ascending=True).reset_index(drop=True)\n",
        "      )\n",
        "\n",
        "e16.info()\n",
        "e16.head(10)\n",
        "comparacion(e16,E16)\n",
        "\n",
        "\n"
      ]
    },
    {
      "cell_type": "markdown",
      "metadata": {
        "id": "rZEOS3MEvedg"
      },
      "source": [
        "\n",
        "<p><strong>Ejemplo 17</strong></p>\n",
        "<p align=\"justify\"> Conjunto de datos con los municipios cuyos nombres constan de más de una palabra.</p>\n"
      ]
    },
    {
      "cell_type": "code",
      "execution_count": null,
      "metadata": {
        "id": "AuxPsmpLvedg"
      },
      "outputs": [],
      "source": [
        "\n",
        "\n",
        "e17 = (Municipios\n",
        "       .query(\"Municipio.str.contains('.* .*').values\")\n",
        "       .loc[:,[\"Dep\",\"Departamento\",\"Municipio\",\"Depmun\"]]\n",
        "       .sort_values(by=[\"Depmun\"],ascending=True).reset_index(drop=True)\n",
        "      )\n",
        "\n",
        "e17.info()\n",
        "e17.head(10)\n",
        "comparacion(e17,E17)\n",
        "\n",
        "\n"
      ]
    },
    {
      "cell_type": "markdown",
      "metadata": {
        "id": "K_tiwH8Zvedg"
      },
      "source": [
        "\n",
        "<img height=\"350\" src=\"https://python2022.netlify.app/sqldf3.png\" width=\"700\"/>\n",
        "<img height=\"350\" src=\"https://python2022.netlify.app/sqldf2.png\" width=\"700\"/>\n"
      ]
    },
    {
      "cell_type": "markdown",
      "metadata": {
        "id": "AaXIZsILvedg"
      },
      "source": [
        "\n",
        "<p><strong>Ejemplo 18</strong></p>\n",
        "<p align=\"justify\"> Cuantos y cuales municipios tienen al menos una estación de monitoreo climático?</p>\n"
      ]
    },
    {
      "cell_type": "code",
      "execution_count": null,
      "metadata": {
        "id": "stQ1gMBKvedg"
      },
      "outputs": [],
      "source": [
        "\n",
        "\n",
        "Estaciones = pd.read_excel(\"Estaciones.xlsx\",dtype={'CODIGO': str, 'Depmun': str})\n",
        "Estaciones.info()\n",
        "Estaciones.head(20)\n",
        "\n",
        "\n"
      ]
    },
    {
      "cell_type": "code",
      "execution_count": null,
      "metadata": {
        "id": "8SF_0_Jvvedh"
      },
      "outputs": [],
      "source": [
        "\n",
        "\n",
        "conest = pd.DataFrame(Estaciones[\"Depmun\"].unique(),columns=[\"Depmun\"])\n",
        "conest.info()\n",
        "\n",
        "\n"
      ]
    },
    {
      "cell_type": "markdown",
      "metadata": {
        "id": "NDABChf-vedh"
      },
      "source": [
        "\n",
        "<p><strong>Ejemplo 19</strong></p>\n",
        "<p align=\"justify\"> Conjunto de datos con todos los municipios del país, que incluye una variable que informa el número de estaciones de monitoreo climático con que cuenta cada municipio.</p>\n"
      ]
    },
    {
      "cell_type": "code",
      "execution_count": null,
      "metadata": {
        "id": "36O8E79Hvedh"
      },
      "outputs": [],
      "source": [
        "\n",
        "\n",
        "Emon = (Estaciones\n",
        "        .groupby(\"Depmun\")\n",
        "        .agg(nem=(\"CODIGO\",\"count\")).reset_index()\n",
        "       )\n",
        "\n",
        "e19 = (Municipios\n",
        "      .merge(Emon,left_on=\"Depmun\",right_on=\"Depmun\",how=\"left\")\n",
        "      .eval('''nest = nem.fillna(0).astype('int64').values''')\n",
        "      .drop(columns=\"nem\")\n",
        "      .sort_values(by=[\"Dep\",\"Poblacion\"],ascending=[True,False]).reset_index(drop=True)\n",
        "      )\n",
        "\n",
        "e19.info()\n",
        "e19.head(20)\n",
        "comparacion(e19,E19)\n",
        "\n",
        "\n"
      ]
    },
    {
      "cell_type": "markdown",
      "metadata": {
        "id": "glbvSC1dvedh"
      },
      "source": [
        "\n",
        "<p><strong>Ejemplo 20</strong></p>\n",
        "<p align=\"justify\"> Existen municipios que no tienen ninguna estación de monitoreo climático? Cuantos? Cuales?</p>\n"
      ]
    },
    {
      "cell_type": "code",
      "execution_count": null,
      "metadata": {
        "id": "sMU3KHYBvedh"
      },
      "outputs": [],
      "source": [
        "\n",
        "\n",
        "e20 = (Municipios\n",
        "       .merge(Emon,left_on=\"Depmun\",right_on=\"Depmun\",how=\"left\")\n",
        "       .query(\"nem.isnull().values\")\n",
        "       .sort_values(by=[\"Depmun\"],ascending=True).reset_index(drop=True)\n",
        "       .drop(columns=\"nem\")\n",
        "      )\n",
        "\n",
        "emons = Emon[\"Depmun\"]\n",
        "e20a = (Municipios\n",
        "        .query(\"Depmun not in @emons\")\n",
        "        .sort_values(by=[\"Depmun\"],ascending=True).reset_index(drop=True)\n",
        "       )\n",
        "\n",
        "e20b = (e19\n",
        "        .query(\"nest==0\").drop(columns=[\"nest\"])\n",
        "        .sort_values(by=[\"Depmun\"],ascending=True).reset_index(drop=True)\n",
        "       )\n",
        "comparacion(e20,e20a)\n",
        "\n",
        "\n"
      ]
    },
    {
      "cell_type": "code",
      "execution_count": null,
      "metadata": {
        "id": "m5wN3fy9vedh"
      },
      "outputs": [],
      "source": [
        "\n",
        "\n",
        "comparacion(e20a,e20b)\n",
        "\n",
        "\n"
      ]
    },
    {
      "cell_type": "markdown",
      "metadata": {
        "id": "JTaZhfP_vedh"
      },
      "source": [
        "\n",
        "<p><strong>Ejemplo 21</strong></p>\n",
        "<p align=\"justify\"> Copia de Estaciones que solo considera estaciones de monitoreo localizadas como máximo a 2000 metros de altura sobre el nivel del mar, y que incluye los nombres del municipio y del departamento donde están ubicadas las estaciones.</p>\n"
      ]
    },
    {
      "cell_type": "code",
      "execution_count": null,
      "metadata": {
        "id": "FUXePqxYvedh"
      },
      "outputs": [],
      "source": [
        "\n",
        "\n",
        "e21=(Estaciones\n",
        "     .merge(Municipios[[\"Municipio\",\"Departamento\",\"Dep\",\"Depmun\"]],left_on=\"Depmun\",right_on=\"Depmun\",how=\"left\")\n",
        "     .query(\"ELEV <= 2000\")\n",
        "     .sort_values(by=[\"Depmun\",\"CODIGO\"],ascending=[True,True]).reset_index(drop=True)\n",
        "    )\n",
        "\n",
        "e21.info()\n",
        "e21.head(10)\n",
        "comparacion(e21,E21)\n",
        "\n",
        "\n"
      ]
    },
    {
      "cell_type": "markdown",
      "metadata": {
        "id": "50sWWVL5vedh"
      },
      "source": [
        "\n",
        "# <h2 style=\"color:red;\">Ejercicio:</h2>\n",
        "<p align=\"justify\"> El archivo <strong><i>Brasil.xlsx</i></strong> contiene tres hojas: <strong><i>Municipios</i></strong>, <strong><i>Estados</i></strong> y <strong><i>Costeros</i></strong>. La hoja <strong><i>Municipios</i></strong> lista los municipios del Brasil, en que las columnas <i> CODESTAD</i>, <i> CODMUNIC</i>, <i> NOMMUNIC</i>, <i> POB</i> y <i> SUP</i> corresponden a código del estado, código del municipio, nombre del municipio, número de habitantes y superficie (en kilómetros cuadrados), respectivamente.  La hoja <strong><i>Estados</i></strong> lista los estados del Brasil, en que las columnas <i> CODESTAD</i>, <i> NOMESTAD</i> y <i> REGIAO</i> corresponden a código del estado, nombre del estado y región, respectivamente. La hoja <strong><i>Costeros</i></strong> lista los municipios costeros del Brasil, en que las columnas <i> CODMUNIC</i> y <i> NOMMUNIC</i> corresponden a código del municipio y nombre del municipio, respectivamente. Tenga en cuenta que los nombres de los municipios, estados y regiones están escritos en portugués, y en esa lengua existen los siguientes acentos: â, ê, ô, á, é, í, ó, ú, ã, õ, à. Use la información en el archivo <strong><i>Brasil.xlsx</i></strong> para responder a las siguientes preguntas (en cada caso debe usar dos estrategias, la primera usando la libreria <i>pandas</i> y la segunda usando la libreria <i>Duckdb</i>):</p>\n",
        "<ol>\n",
        "<li>¿Cuál es la región (<i>REGIAO</i>) con el menor número de municipios?</li>\n",
        "<li>¿Cuál es la región (<i>REGIAO</i>) con la mayor población?</li>\n",
        "<li>¿Cuál es la región (<i>REGIAO</i>) con la menor superficie?</li>\n",
        "<li>¿Cuál es el estado (<i>CODESTAD</i> y <i> NOMESTAD</i>) con la mayor superficie en municipios costeros?</li>\n",
        "<li>¿Cuál es el estado (<i>CODESTAD</i> y <i> NOMESTAD</i>) con la mayor población en municipios costeros?</li>\n",
        "<li>¿Cuál es el estado (<i>CODESTAD</i> y <i> NOMESTAD</i>) con la mayor densidad poblacional en municipios costeros?</li>\n",
        "<li>¿Cuál es el estado (<i>CODESTAD</i> y <i> NOMESTAD</i>) con la mayor proporción de superficie en municipios costeros?</li>\n",
        "<li>¿Cuál es el estado (<i>CODESTAD</i> y <i> NOMESTAD</i>) con la mayor proporción de población en municipios costeros?</li>\n",
        "<li>De los estados sin municipios costeros, ¿cuál (<i>CODESTAD</i> y <i> NOMESTAD</i>) tiene la mayor superficie?</li>\n",
        "<li>De los estados sin municipios costeros, ¿cuál (<i>CODESTAD</i> y <i> NOMESTAD</i>) tiene la mayor población?</li>\n",
        "<li>¿Cuál es el estado (<i>CODESTAD</i> y <i> NOMESTAD</i>) con mayor proporción de municipios cuyo nombre inicia y termina con la misma consonante?</li>\n",
        "<li>¿Cuál es el estado (<i>CODESTAD</i> y <i> NOMESTAD</i>) con mayor proporción de municipios cuyo nombre inicia y termina con la misma vocal?</li>\n",
        "</ol>\n"
      ]
    },
    {
      "cell_type": "code",
      "execution_count": null,
      "metadata": {
        "id": "HmKKZCvEvedi"
      },
      "outputs": [],
      "source": [
        "import pandas as pd\n",
        "import numpy as np\n",
        "import os\n",
        "os.chdir(\"C:\\\\Nano\\\\Computacion Estadistica\")\n",
        "pd.options.display.float_format = '{:,.2f}'.format\n",
        "import duckdb\n",
        "con = duckdb.connect(database=':memory:')\n",
        "\n",
        "############################### prólogo ###############################\n",
        "Municipios = pd.read_excel(\"Brasil.xlsx\",sheet_name=\"Municipios\")\n",
        "Municipios.info()\n",
        "Municipios.head()\n",
        "\n",
        "Estados = pd.read_excel(\"Brasil.xlsx\",sheet_name=\"Estados\")\n",
        "Estados.info()\n",
        "Estados.head()\n",
        "\n",
        "Costeros = pd.read_excel(\"Brasil.xlsx\",sheet_name=\"Costeros\")\n",
        "Costeros[\"Costero\"] = 1\n",
        "Costeros.info()\n",
        "Costeros.head()\n",
        "\n",
        "Municipios = Municipios.merge(Estados,left_on=\"CODESTAD\",right_on=\"CODESTAD\",how=\"left\")\n",
        "Municipios = (Municipios.merge(Costeros[[\"CODMUNIC\",\"Costero\"]],left_on=\"CODMUNIC\",right_on=\"CODMUNIC\",how=\"left\")\n",
        "              .eval(\"Costero=Costero.fillna(0)\")\n",
        "             )\n",
        "Municipios.info()\n",
        "Municipios.head()\n",
        "\n",
        "############################### Pregunta 1 ###############################\n",
        "(Municipios\n",
        " .groupby(\"REGIAO\")\n",
        " .agg(nmunicipios=(\"REGIAO\",\"count\")).reset_index()\n",
        " .sort_values(by=[\"nmunicipios\"],ascending=True).reset_index(drop=True)\n",
        " .head(n=2)\n",
        ")\n",
        "\n",
        "con.execute(\"\"\"select   REGIAO, count(*) as nmunicipios\n",
        "               from     Municipios\n",
        "               group by REGIAO\n",
        "               order by nmunicipios\n",
        "               limit    2\"\"\").df()\n",
        "\n",
        "############################### Pregunta 2 ###############################\n",
        "(Municipios\n",
        " .groupby(\"REGIAO\")\n",
        " .agg(poblacion=(\"POB\",\"sum\")).reset_index()\n",
        " .sort_values(by=[\"poblacion\"],ascending=False).reset_index(drop=True)\n",
        " .head(n=2)\n",
        ")\n",
        "\n",
        "con.execute(\"\"\"select   REGIAO, sum(POB) as poblacion\n",
        "               from     Municipios\n",
        "               group by REGIAO\n",
        "               order by poblacion desc\n",
        "               limit    2\"\"\").df()\n",
        "\n",
        "############################### Pregunta 3 ###############################\n",
        "(Municipios\n",
        " .groupby(\"REGIAO\")\n",
        " .agg(superficie=(\"SUP\",\"sum\")).reset_index()\n",
        " .sort_values(by=[\"superficie\"],ascending=True).reset_index(drop=True)\n",
        " .head(n=2)\n",
        ")\n",
        "\n",
        "con.execute(\"\"\"select   REGIAO, sum(SUP) as superficie\n",
        "               from     Municipios\n",
        "               group by REGIAO\n",
        "               order by superficie\n",
        "               limit    2\"\"\").df()\n",
        "\n",
        "############################### Pregunta 4 ###############################\n",
        "(Municipios\n",
        " .query(\"Costero==1\")\n",
        " .groupby([\"CODESTAD\",\"NOMESTAD\"])\n",
        " .agg(superficie=(\"SUP\",\"sum\")).reset_index()\n",
        " .sort_values(by=[\"superficie\"],ascending=False).reset_index(drop=True)\n",
        " .head(n=2)\n",
        ")\n",
        "\n",
        "con.execute(\"\"\"select   CODESTAD, NOMESTAD, sum(SUP) as superficie\n",
        "               from     Municipios\n",
        "               where    Costero=1\n",
        "               group by CODESTAD, NOMESTAD\n",
        "               order by superficie desc\n",
        "               limit    2\"\"\").df()\n",
        "\n",
        "############################### Pregunta 5 ###############################\n",
        "(Municipios\n",
        " .query(\"Costero==1\")\n",
        " .groupby([\"CODESTAD\",\"NOMESTAD\"])\n",
        " .agg(poblacion=(\"POB\",\"sum\")).reset_index()\n",
        " .sort_values(by=[\"poblacion\"],ascending=False).reset_index(drop=True)\n",
        " .head(n=2)\n",
        ")\n",
        "\n",
        "con.execute(\"\"\"select   CODESTAD, NOMESTAD, sum(POB) as poblacion\n",
        "               from     Municipios\n",
        "               where    Costero=1\n",
        "               group by CODESTAD, NOMESTAD\n",
        "               order by poblacion desc\n",
        "               limit    2\"\"\").df()\n",
        "\n",
        "############################### Pregunta 6 ###############################\n",
        "(Municipios\n",
        " .query(\"Costero==1\")\n",
        " .groupby([\"CODESTAD\",\"NOMESTAD\"])\n",
        " .agg(poblacion=(\"POB\",\"sum\"),superficie=(\"SUP\",\"sum\")).reset_index()\n",
        " .eval(\"denspob=poblacion/superficie\")\n",
        " .sort_values(by=[\"denspob\"],ascending=False).reset_index(drop=True)\n",
        " .head(n=2)\n",
        ")\n",
        "\n",
        "con.execute(\"\"\"select   CODESTAD, NOMESTAD, sum(POB)/sum(SUP) as denspob\n",
        "               from     Municipios\n",
        "               where    Costero=1\n",
        "               group by CODESTAD, NOMESTAD\n",
        "               order by denspob desc\n",
        "               limit    2\"\"\").df()\n",
        "\n",
        "############################### Pregunta 7 ###############################\n",
        "(Municipios\n",
        " .eval(\"SUP2=SUP*Costero\")\n",
        " .groupby([\"CODESTAD\",\"NOMESTAD\"])\n",
        " .agg(superficie2=(\"SUP2\",\"sum\"),superficie=(\"SUP\",\"sum\")).reset_index()\n",
        " .eval(\"prop=superficie2/superficie\")\n",
        " .sort_values(by=[\"prop\"],ascending=False).reset_index(drop=True)\n",
        " .head(n=2)\n",
        ")\n",
        "\n",
        "con.execute(\"\"\"select   CODESTAD, NOMESTAD, sum(SUP*Costero)/sum(SUP) as prop\n",
        "               from     Municipios\n",
        "               group by CODESTAD, NOMESTAD\n",
        "               order by prop desc\n",
        "               limit    2\"\"\").df()\n",
        "\n",
        "############################### Pregunta 8 ###############################\n",
        "(Municipios\n",
        " .eval(\"POB2 = POB*Costero\")\n",
        " .groupby([\"CODESTAD\",\"NOMESTAD\"])\n",
        " .agg(num=(\"POB2\",\"sum\"),den=(\"POB\",\"sum\")).reset_index()\n",
        " .eval(\"prop = num/den\")\n",
        " .sort_values(by=[\"prop\"],ascending=False).reset_index(drop=True)\n",
        " .head(n=2)\n",
        ")\n",
        "\n",
        "con.execute(\"\"\"select   CODESTAD, NOMESTAD, sum(POB*Costero)/sum(POB) as prop\n",
        "               from     Municipios\n",
        "               group by CODESTAD, NOMESTAD\n",
        "               order by prop desc\n",
        "               limit    2\"\"\").df()\n",
        "\n",
        "############################### Pregunta 9 ###############################\n",
        "(Municipios\n",
        " .groupby([\"CODESTAD\",\"NOMESTAD\"])\n",
        " .agg(superficie=(\"SUP\",\"sum\"),costeros=(\"Costero\",\"sum\")).reset_index()\n",
        " .query(\"costeros==0\")\n",
        " .sort_values(by=[\"superficie\"],ascending=False).reset_index(drop=True)\n",
        " .head(n=2)\n",
        ")\n",
        "\n",
        "con.execute(\"\"\"select   CODESTAD, NOMESTAD, sum(SUP) as superficie\n",
        "               from     Municipios\n",
        "               group by CODESTAD, NOMESTAD\n",
        "               having   sum(Costero)=0\n",
        "               order by superficie desc\n",
        "               limit    2\"\"\").df()\n",
        "\n",
        "############################### Pregunta 10 ###############################\n",
        "(Municipios\n",
        " .groupby([\"CODESTAD\",\"NOMESTAD\"])\n",
        " .agg(poblacion=(\"POB\",\"sum\"),costeros=(\"Costero\",\"sum\")).reset_index()\n",
        " .query(\"costeros==0\")\n",
        " .sort_values(by=[\"poblacion\"],ascending=False).reset_index(drop=True)\n",
        " .head(n=2)\n",
        ")\n",
        "\n",
        "con.execute(\"\"\"select   CODESTAD, NOMESTAD, sum(POB) as poblacion\n",
        "               from     Municipios\n",
        "               group by CODESTAD, NOMESTAD\n",
        "               having   sum(Costero)=0\n",
        "               order by poblacion desc\n",
        "               limit    2\"\"\").df()\n",
        "\n",
        "############################### Pregunta 11 ###############################\n",
        "t = str.maketrans({\"â\":\"a\",\"ê\":\"e\",\"ô\":\"o\",\"á\":\"a\",\"é\":\"e\",\"í\":\"i\",\"ó\":\"o\",\"ú\":\"u\",\"ã\":\"a\",\"õ\":\"o\",\"à\":\"a\"})\n",
        "def trans(x):\n",
        "    return(str.lower(x).translate(t))\n",
        "Municipios[\"NOMMUNIC2\"] = Municipios[\"NOMMUNIC\"].apply(trans)\n",
        "Municipios[\"IGUALES\"] = Municipios[\"NOMMUNIC2\"].str.get(0) == Municipios[\"NOMMUNIC2\"].str.get(-1)\n",
        "Municipios[\"CONSO\"] = (Municipios[\"IGUALES\"] & ~Municipios[\"NOMMUNIC2\"].str.contains(\"(a|e|i|o|u)$\")).astype(\"int\")\n",
        "Municipios[\"VOCAL\"] = (Municipios[\"IGUALES\"] &  Municipios[\"NOMMUNIC2\"].str.contains(\"(a|e|i|o|u)$\")).astype(\"int\")\n",
        "Municipios = Municipios.drop(columns=[\"IGUALES\",\"NOMMUNIC2\"])\n",
        "Municipios.tail()\n",
        "\n",
        "(Municipios\n",
        " .groupby([\"CODESTAD\",\"NOMESTAD\"])\n",
        " .agg(cons=(\"CONSO\",\"sum\"),total=(\"CODMUNIC\",\"count\")).reset_index()\n",
        " .eval(\"prop=cons/total\")\n",
        " .sort_values(by=[\"prop\"],ascending=False).reset_index(drop=True)\n",
        " .head(n=2)\n",
        ")\n",
        "\n",
        "con.execute(\"\"\"select   CODESTAD, NOMESTAD, sum(CONSO)/count(*) as prop\n",
        "               from     Municipios\n",
        "               group by CODESTAD, NOMESTAD\n",
        "               order by prop desc\n",
        "               limit    2\"\"\").df()\n",
        "\n",
        "############################### Pregunta 12 ###############################\n",
        "(Municipios\n",
        " .groupby([\"CODESTAD\",\"NOMESTAD\"])\n",
        " .agg(voca=(\"VOCAL\",\"sum\"),total=(\"CODMUNIC\",\"count\")).reset_index()\n",
        " .eval(\"prop=voca/total\")\n",
        " .sort_values(by=[\"prop\"],ascending=False).reset_index(drop=True)\n",
        " .head(n=2)\n",
        ")\n",
        "\n",
        "con.execute(\"\"\"select   CODESTAD, NOMESTAD, sum(VOCAL)/count(*) as prop\n",
        "               from     Municipios\n",
        "               group by CODESTAD, NOMESTAD\n",
        "               order by prop desc\n",
        "               limit    2\"\"\").df()"
      ]
    },
    {
      "cell_type": "markdown",
      "metadata": {
        "id": "9WUkracMvedi"
      },
      "source": [
        "\n",
        "# <center><h1 style=\"color:red;\">Visualización de datos</h1></center>\n"
      ]
    },
    {
      "cell_type": "markdown",
      "source": [
        "# <center><h2 style=\"color:blue;\">Libreria plotnine</h2></center>"
      ],
      "metadata": {
        "id": "UbzXlCuVyUHr"
      }
    },
    {
      "cell_type": "markdown",
      "metadata": {
        "id": "5eT5WvATvedi"
      },
      "source": [
        "\n",
        "### <h4><a href=\"https://plotnine.readthedocs.io/en/stable/\" style=\"color:red;\" target=\"_blank\"><strong>Documentación de plotnine</strong></a></h4>\n"
      ]
    },
    {
      "cell_type": "code",
      "execution_count": null,
      "metadata": {
        "id": "RDit5IV-vedi"
      },
      "outputs": [],
      "source": [
        "\n",
        "\n",
        "!pip install plotnine\n",
        "from plotnine import *\n",
        "\n",
        "\n"
      ]
    },
    {
      "cell_type": "markdown",
      "metadata": {
        "id": "QOksDJyEvedi"
      },
      "source": [
        "\n",
        "<p><strong>Ejemplo 1</strong></p>\n",
        "<p align=\"justify\"> Estos datos, sacados de <i>Witten, Hastie, Tibshirani y James (2013). An Introduction to Statistical Learning: With Applications in R. Springer</i>, consisten en las ventas (sales), en miles de unidades, de un producto en 200 mercados diferentes junto con las inversiones en publicidad, en miles de dólares, para el producto en cada uno de esos mercados para diferentes medios: televisión (<i>TV</i>), radio (<i>radio</i>) y periódico (<i>newspaper</i>). Vea www.StatLearning.com.</p>\n"
      ]
    },
    {
      "cell_type": "code",
      "execution_count": null,
      "metadata": {
        "id": "FcuQxvHivedi"
      },
      "outputs": [],
      "source": [
        "\n",
        "\n",
        "Advertising = pd.read_excel(\"Advertising.xlsx\")\n",
        "Advertising.info()\n",
        "Advertising.head(10)\n",
        "\n",
        "\n"
      ]
    },
    {
      "cell_type": "code",
      "execution_count": null,
      "metadata": {
        "id": "Fu3KitBVvedi"
      },
      "outputs": [],
      "source": [
        "\n",
        "\n",
        "mitema = theme(\n",
        "  plot_title=element_text(family=\"serif\",face=\"bold\",size=12,vjust=1.0,hjust=0.5,color=\"black\",angle=0),\n",
        "  axis_title_x=element_text(family=\"serif\",face=\"bold\",size=11,vjust=0.5,hjust=0.5,color=\"blue\",angle=0),\n",
        "  axis_title_y=element_text(family=\"serif\",face=\"bold\",size=11,vjust=0.5,hjust=0.0,color=\"blue\",angle=90),\n",
        "  axis_text_x=element_text(family=\"sans\",face=\"normal\",size=8,vjust=1.0,hjust=0.5,color=\"black\",angle=0),\n",
        "  axis_text_y=element_text(family=\"sans\",face=\"normal\",size=8,vjust=0.5,hjust=1.0,color=\"black\",angle=0),\n",
        "  panel_background=element_rect(fill='#ECECEC'),\n",
        "  panel_grid_major=element_line(color=\"white\",size=1),\n",
        "  panel_grid_minor=element_line(color=\"white\",size=0.5),\n",
        "  legend_position=\"bottom\",\n",
        "  legend_title=element_text(face=\"serif\",size=9,hjust=0.5,vjust=0.5,color=\"red\",angle=0),\n",
        "  legend_text=element_text(face=\"serif\",size=8,hjust=0.5,vjust=0.5,color=\"black\",angle=0),\n",
        "  legend_direction=\"horizontal\",\n",
        "  figure_size=[6.5,5])\n",
        "\n",
        "\n"
      ]
    },
    {
      "cell_type": "markdown",
      "metadata": {
        "id": "DXwGFyyvvedj"
      },
      "source": [
        "\n",
        "<p align=\"justify\">Modifique el tema variando colores y los siguientes parámetros.</p>\n",
        "<ul>\n",
        "<li><p align=\"justify\"> <strong><i>family:</i></strong> \"Arial\", \"Times New Roman\", \"Serif\", \"Sans\"</p>\n",
        "</li>\n",
        "<li><p align=\"justify\"> <strong><i>face:</i></strong> \"bold\", \"italic\", \"bold italic\"</p>\n",
        "</li>\n",
        "<li><p align=\"justify\"> <strong><i>hjust, vjust:</i></strong> Números en el intervalo $[0,1]$</p>\n",
        "</li>\n",
        "<li><p align=\"justify\"> <strong><i>size:</i></strong> Números no negativos</p>\n",
        "</li>\n",
        "<li><p align=\"justify\"> <strong><i>legend_position:</i></strong> \"right\", \"left\", \"top\", \"bottom\", \"none\"</p>\n",
        "</li>\n",
        "<li><p align=\"justify\"> <strong><i>legend_direction:</i></strong> \"vertical\", \"horizontal\"</p>\n",
        "</li>\n",
        "</ul>\n"
      ]
    },
    {
      "cell_type": "code",
      "execution_count": null,
      "metadata": {
        "id": "WdIIKuI6vedj"
      },
      "outputs": [],
      "source": [
        "\n",
        "\n",
        "(ggplot(Advertising,aes(x=\"TV\",y=\"sales\")) +\n",
        " geom_point(color=\"red\",shape=\"o\",size=1.5) +\n",
        " labs(title=\"Ventas versus inversión en publicidad en TV\",x=\"Publicidad en TV\",y=\"Ventas\") +\n",
        " scale_x_continuous(breaks=list(range(0,300,50))) +\n",
        " scale_y_continuous(breaks=list(range(0,30,5))) + mitema\n",
        ")\n",
        "\n",
        "\n"
      ]
    },
    {
      "cell_type": "markdown",
      "metadata": {
        "id": "oOlGBMC1vedj"
      },
      "source": [
        "\n",
        "<p align=\"justify\">Modifique el gráfico variando colores y los siguientes parámetros.</p>\n",
        "<ul>\n",
        "<li><p align=\"justify\"> <strong><i>shape:</i></strong> \".\", \",\", \"o\", \"v\", \"^\" ,\"&lt;\", \"&gt;\", \"1\", \"2\", \"3\", \"4\", \"8\", \"s\", \"p\", \"P\", \"*\", \"h\", \"H\", \"+\", \"x\", \"X\", \"D\", \"d\", \"|\", \"_\" </p>\n",
        "</li>\n",
        "<li><p align=\"justify\"> <strong><i>size:</i></strong> números no negativos</p>\n",
        "</li>\n",
        "</ul>\n"
      ]
    },
    {
      "cell_type": "markdown",
      "metadata": {
        "id": "PUMSL4Z8vedj"
      },
      "source": [
        "\n",
        "<p><strong>Ejemplo 2</strong></p>\n",
        "<p align=\"justify\"> Gráfico de dispersión de las ventas del producto (<i>sales</i>) versus la inversión en publicidad en televisión para el mismo (<i>TV</i>), el cual incluye una curva de tendencia obtenida usando regresión polinómica.</p>\n"
      ]
    },
    {
      "cell_type": "code",
      "execution_count": null,
      "metadata": {
        "id": "ykaJxuTpvedj"
      },
      "outputs": [],
      "source": [
        "\n",
        "\n",
        "def poly(x, degree=1):\n",
        "    d = {}\n",
        "    for i in range(degree+1):\n",
        "        d['x'+str(i)] = np.power(x,i)\n",
        "    return pd.DataFrame(d)\n",
        "\n",
        "\n"
      ]
    },
    {
      "cell_type": "code",
      "execution_count": null,
      "metadata": {
        "id": "2ZcOH6Ppvedj"
      },
      "outputs": [],
      "source": [
        "\n",
        "\n",
        "(ggplot(Advertising,aes(x=\"TV\",y=\"sales\")) +\n",
        " geom_point(color=\"red\",shape=\"o\",size=1.5) +\n",
        " geom_smooth(method=\"lm\",formula=\"y~poly(x,4)\",level=0.95,se=False,size=1,linetype=\"solid\",color=\"black\") +\n",
        " labs(title=\"Ventas versus inversión en publicidad en TV\",x=\"Publicidad en TV\",y=\"Ventas\") +\n",
        " scale_x_continuous(breaks=list(range(0,300,50))) +\n",
        " scale_y_continuous(breaks=list(range(0,30,5))) + mitema\n",
        ")\n",
        "\n",
        "\n"
      ]
    },
    {
      "cell_type": "markdown",
      "metadata": {
        "id": "lCEt4a1bvedj"
      },
      "source": [
        "\n",
        "<p align=\"justify\">Modifique el gráfico variando colores y los siguientes parámetros.</p>\n",
        "<ul>\n",
        "<li><p align=\"justify\"> <strong><i>linetype:</i></strong> 'solid', 'dashed', 'dashdot', 'dotted', '-', '--', '-.', ':', 'None'</p>\n",
        "</li>\n",
        "<li><p align=\"justify\"> <strong><i>se:</i></strong> True, False</p>\n",
        "</li>\n",
        "<li><p align=\"justify\"> <strong><i>level:</i></strong> Número en el intervalo $(0,1)$</p>\n",
        "</li>\n",
        "</ul>\n"
      ]
    },
    {
      "cell_type": "markdown",
      "metadata": {
        "id": "vEe1-opbvedj"
      },
      "source": [
        "\n",
        "<p><strong>Ejemplo 3</strong></p>\n",
        "<p align=\"justify\"> Gráfico de dispersión de las ventas del producto (<i>sales</i>) versus la inversión en publicidad en televisión para el mismo (<i>TV</i>). El tamaño del marcador depende de la inversión en publicidad en radio (<i>radio</i>).</p>\n"
      ]
    },
    {
      "cell_type": "code",
      "execution_count": null,
      "metadata": {
        "id": "Me55Yd-jvedk"
      },
      "outputs": [],
      "source": [
        "\n",
        "\n",
        "(ggplot(Advertising,aes(x=\"TV\",y=\"sales\",size=\"radio\")) +\n",
        " geom_point(color=\"red\",shape=\"o\") +\n",
        " labs(title=\"Ventas versus inversión en publicidad en TV\",x=\"Publicidad en TV\",y=\"Ventas\",\n",
        "      size=\"Publicidad en radio\") +\n",
        " scale_x_continuous(breaks=list(range(0,300,50))) +\n",
        " scale_y_continuous(breaks=list(range(0,30,5))) +\n",
        " scale_size(range=[0,3]) + mitema\n",
        ")\n",
        "\n",
        "\n"
      ]
    },
    {
      "cell_type": "markdown",
      "metadata": {
        "id": "realMUtUvedk"
      },
      "source": [
        "\n",
        "<p><strong>Ejemplo 4</strong></p>\n",
        "<p align=\"justify\"> Gráfico de dispersión de las ventas del producto (<i>sales</i>) versus la inversión en publicidad en televisión para el mismo (<i>TV</i>). El color del marcador depende de la inversión en publicidad en radio (<i>radio</i>).</p>\n"
      ]
    },
    {
      "cell_type": "code",
      "execution_count": null,
      "metadata": {
        "id": "yO1NDxEGvedk"
      },
      "outputs": [],
      "source": [
        "\n",
        "\n",
        " (ggplot(Advertising,aes(x=\"TV\",y=\"sales\",color=\"radio\")) +\n",
        "  geom_point(shape=\"o\",size=1.5) +\n",
        "  labs(title=\"Ventas versus inversión en publicidad en TV\",x=\"Publicidad en TV\",y=\"Ventas\",\n",
        "       color=\"Publicidad en radio\") +\n",
        "  scale_x_continuous(breaks=list(range(0,300,50))) +\n",
        "  scale_y_continuous(breaks=list(range(0,30,5))) +\n",
        "  scale_color_gradient(low=\"yellow\",high=\"blue\",breaks=list(range(0,60,10))) + mitema +\n",
        "  theme(legend_text=element_text(vjust=0))\n",
        " )\n",
        "\n",
        "\n"
      ]
    },
    {
      "cell_type": "markdown",
      "metadata": {
        "id": "_tqkNlQ6vedk"
      },
      "source": [
        "\n",
        "<p><strong>Ejemplo 5</strong></p>\n",
        "<p align=\"justify\"> Gráfico de dispersión de las ventas del producto (<i>sales</i>) versus la inversión en publicidad en televisión para el mismo (<i>TV</i>). La transparencia del marcador depende de la inversión en publicidad en radio (<i>radio</i>).</p>\n"
      ]
    },
    {
      "cell_type": "code",
      "execution_count": null,
      "metadata": {
        "id": "bmZQbLEivedk"
      },
      "outputs": [],
      "source": [
        "\n",
        "\n",
        " (ggplot(Advertising,aes(x=\"TV\",y=\"sales\",alpha=\"radio\")) +\n",
        "  geom_point(shape=\"o\",size=1.5,color=\"red\") +\n",
        "  labs(title=\"Ventas versus inversión en publicidad en TV\",x=\"Publicidad en TV\",y=\"Ventas\",\n",
        "       alpha=\"Publicidad en radio\") +\n",
        "  scale_x_continuous(breaks=list(range(0,300,50))) +\n",
        "  scale_y_continuous(breaks=list(range(0,30,5))) + mitema +\n",
        "  theme(legend_text=element_text(vjust=0))\n",
        " )\n",
        "\n",
        "\n"
      ]
    },
    {
      "cell_type": "markdown",
      "metadata": {
        "id": "QYs3XBf-vedk"
      },
      "source": [
        "\n",
        "<p><strong>Ejemplo 6</strong></p>\n",
        "<p align=\"justify\"> Gráfico de dispersión de las ventas del producto (<i>sales</i>) versus la inversión en publicidad en televisión para el mismo (<i>TV</i>). Se usan colores y marcadores diferentes dependiendo de la inversión en publicidad en radio (<i>radio</i>).</p>\n"
      ]
    },
    {
      "cell_type": "code",
      "execution_count": null,
      "metadata": {
        "id": "kZvbpKTKvedk"
      },
      "outputs": [],
      "source": [
        "\n",
        "\n",
        "categorias = 3\n",
        "labels = [\"Baja\",\"Media\",\"Alta\"]\n",
        "breaks = np.quantile(Advertising.radio,[x/categorias for x in range(categorias+1)])\n",
        "Advertising[\"radioC\"] = pd.cut(Advertising.radio,breaks,labels=labels,include_lowest=True)\n",
        "Advertising.head()\n",
        "\n",
        "\n"
      ]
    },
    {
      "cell_type": "code",
      "execution_count": null,
      "metadata": {
        "id": "gWimd_D5vedk"
      },
      "outputs": [],
      "source": [
        "\n",
        "\n",
        "(ggplot(Advertising,aes(x=\"TV\",y=\"sales\",color=\"radioC\",shape=\"radioC\")) +\n",
        " geom_point(size=1.5) +\n",
        " labs(title=\"Ventas versus inversión en publicidad para TV\",x=\"Publicidad para TV\",\n",
        "      y=\"Ventas\",color=\"Publicidad en radio\",shape=\"Publicidad en radio\") +\n",
        " scale_x_continuous(breaks=list(range(0,300,50))) +\n",
        " scale_y_continuous(breaks=list(range(0,30,5))) +\n",
        " scale_color_manual(values=[\"blue\",\"black\",\"red\"]) +\n",
        " scale_shape_manual(values=[\"o\",\"^\",\"s\"]) + mitema\n",
        ")\n",
        "\n",
        "\n"
      ]
    },
    {
      "cell_type": "markdown",
      "metadata": {
        "id": "L5gjal7Pvedk"
      },
      "source": [
        "\n",
        "<p><strong>Ejemplo 7</strong></p>\n",
        "<p align=\"justify\"> Gráfico de dispersión de las ventas del producto (<i>sales</i>) versus la inversión en publicidad en televisión para el mismo (<i>TV</i>), en el cual incluye una curva de tendencia obtenida usando regresión polinómica. Se usan colores y marcadores diferentes dependiendo de la inversión en publicidad en radio (<i>radio</i>).</p>\n"
      ]
    },
    {
      "cell_type": "code",
      "execution_count": null,
      "metadata": {
        "id": "06RsuruHvedl"
      },
      "outputs": [],
      "source": [
        "\n",
        "\n",
        "(ggplot(Advertising,aes(x=\"TV\",y=\"sales\",color=\"radioC\",shape=\"radioC\")) +\n",
        " geom_point(size=1.5) +\n",
        " geom_smooth(method=\"lm\",formula=\"y ~ poly(x,4)\",level=0.95,se=False,size=1,linetype=\"solid\") +\n",
        " labs(title=\"Ventas versus inversión en publicidad para TV\",x=\"Publicidad para TV\",\n",
        "            y=\"Ventas\",color=\"Publicidad en radio\",shape=\"Publicidad en radio\") +\n",
        " scale_x_continuous(breaks=list(range(0,300,50))) +\n",
        " scale_y_continuous(breaks=list(range(0,30,5))) +\n",
        " scale_color_manual(values=[\"blue\",\"black\",\"red\"]) +\n",
        " scale_shape_manual(values=[\"o\",\"^\",\"s\"]) + mitema\n",
        ")\n",
        "\n",
        "\n"
      ]
    },
    {
      "cell_type": "markdown",
      "metadata": {
        "id": "voTdt_fgvedl"
      },
      "source": [
        "\n",
        "<p><strong>Ejemplo 8</strong></p>\n",
        "<p align=\"justify\"> Gráfico de dispersión de las ventas del producto (<i>sales</i>) versus la inversión en publicidad en televisión para el mismo (<i>TV</i>), en el cual incluye una curva de tendencia obtenida usando regresión polinómica. Se usan colores y marcadores diferentes dependiendo de la inversión en publicidad en radio (<i>radio</i>). Se considera un panel para cada categoria de la variable <i>newspaperC</i>.</p>\n"
      ]
    },
    {
      "cell_type": "code",
      "execution_count": null,
      "metadata": {
        "id": "5oV_Z7zMvedl"
      },
      "outputs": [],
      "source": [
        "\n",
        "\n",
        "categorias = 4\n",
        "labels = [\"Baja\",\"Media-Baja\",\"Media-Alta\",\"Alta\"]\n",
        "breaks = np.quantile(Advertising.newspaper,[x/categorias for x in range(categorias+1)])\n",
        "Advertising[\"newspaperC\"] = pd.cut(Advertising.newspaper,breaks,labels=labels,include_lowest=True)\n",
        "Advertising.head()\n",
        "\n",
        "\n"
      ]
    },
    {
      "cell_type": "code",
      "execution_count": null,
      "metadata": {
        "id": "DQ-xm3Hyvedl"
      },
      "outputs": [],
      "source": [
        "\n",
        "\n",
        "(ggplot(Advertising,aes(x=\"TV\",y=\"sales\",color=\"radioC\",shape=\"radioC\")) +\n",
        " geom_point(size=1.5) +\n",
        " geom_smooth(method=\"lm\",formula=\"y ~ poly(x,3)\",level=0.95,se=False,size=1,linetype=\"solid\") +\n",
        " labs(title=\"Ventas versus inversión en publicidad para TV\",x=\"Publicidad para TV\",\n",
        "      y=\"Ventas\",color=\"Publicidad en radio\",subtitle=\"Publicidad en periodico\",\n",
        "      shape=\"Publicidad en radio\") +\n",
        " scale_y_continuous(breaks=list(range(0,30,5))) +\n",
        " scale_color_manual(values=[\"blue\",\"black\",\"red\"]) +\n",
        " scale_shape_manual(values=[\"o\",\"^\",\"s\"]) +\n",
        " facet_wrap(\"newspaperC\",nrow=2,ncol=2,dir=\"h\",scales=\"fixed\") + mitema\n",
        ")\n",
        "\n",
        "\n"
      ]
    },
    {
      "cell_type": "markdown",
      "metadata": {
        "id": "lk_FTjO6vedl"
      },
      "source": [
        "\n",
        "<p align=\"justify\">Modifique el gráfico variando colores y los siguientes parámetros.</p>\n",
        "<ul>\n",
        "<li><p align=\"justify\"> <strong><i>nrow, ncol:</i></strong> Números enteros </p>\n",
        "</li>\n",
        "<li><p align=\"justify\"> <strong><i>dir:</i></strong> \"h\", \"v\"</p>\n",
        "</li>\n",
        "<li><p align=\"justify\"> <strong><i>scales:</i></strong> \"fixed\", \"free\", \"free_x\", \"free_y\"</p>\n",
        "</li>\n",
        "</ul>\n"
      ]
    },
    {
      "cell_type": "markdown",
      "metadata": {
        "id": "iKRMzg1Dvedl"
      },
      "source": [
        "\n",
        "<p><strong>Ejemplo 9</strong></p>\n",
        "<p align=\"justify\"> En estos datos, sacados de <i>Diggle P.J., Heagarty P., Liang K.-Y. y Zeger S.L. (2002) Analysis of Longitudinal Data. Oxford University Press, Oxford</i>, el principal objetivo del análisis es evaluar el efecto de la contaminación por ozono en el crecimiento de los árboles. En un primer grupo (<i>treat=\"ozone-enriched\"</i>), se cultivaron un total de 54 árboles en una atmósfera enriquecida con ozono, mientras que en un segundo grupo (<i>treat=\"normal\"</i>), 25 árboles se cultivaron en una atmósfera normal. El tamaño de cada árbol (<i>size</i>) se observó 13 veces a lo largo del tiempo (<i>days</i>), es decir, 152, 174, 201, 227, 258, 469, 496, 528, 556, 579, 613, 639 y 674 días desde el inicio del experimento.</p>\n"
      ]
    },
    {
      "cell_type": "code",
      "execution_count": null,
      "metadata": {
        "id": "FlPdYluXvedl"
      },
      "outputs": [],
      "source": [
        "\n",
        "\n",
        "spruce = pd.read_table(\"spruce.txt\",delimiter=\"\\t\",header=0)\n",
        "spruce.head()\n",
        "\n",
        "\n"
      ]
    },
    {
      "cell_type": "code",
      "execution_count": null,
      "metadata": {
        "id": "gmA23Kebvedl"
      },
      "outputs": [],
      "source": [
        "\n",
        "\n",
        "(ggplot(spruce,aes(x=\"factor(days)\",y=\"size\",fill=\"treat\")) +\n",
        " geom_boxplot(outlier_shape=\"o\",outlier_size=0.5,width=0.8,color=\"black\",outlier_color=\"red\") +\n",
        " labs(x=\"Días desde el comienzo del experimento\", y=\"Tamaño\", fill=\"Atmósfera\") +\n",
        " scale_fill_manual(values=[\"yellow\",\"blue\"]) + mitema\n",
        ")\n",
        "\n",
        "\n"
      ]
    },
    {
      "cell_type": "markdown",
      "metadata": {
        "id": "6NgsfPf3vedl"
      },
      "source": [
        "\n",
        "<p align=\"justify\">Modifique el gráfico variando colores y los siguientes parámetros.</p>\n",
        "<ul>\n",
        "<li><p align=\"justify\"> <strong><i>outlier_shape:</i></strong> \".\", \",\", \"o\", \"v\", \"^\" ,\"&lt;\", \"&gt;\", \"1\", \"2\", \"3\", \"4\", \"8\", \"s\", \"p\", \"P\", \"*\", \"h\", \"H\", \"+\", \"x\", \"X\", \"D\", \"d\", \"|\", \"_\" </p>\n",
        "</li>\n",
        "<li><p align=\"justify\"> <strong><i>width:</i></strong> Números en el intervalo $(0,1)$</p>\n",
        "</li>\n",
        "<li><p align=\"justify\"> <strong><i>outlier_size:</i></strong> Números no negativos</p>\n",
        "</li>\n",
        "<li><p align=\"justify\"> Reemplace <strong><i>outlier_shape=\"o\"</i></strong> por <strong><i>outlier_shape=\"\"</i></strong></p>\n",
        "</li>\n",
        "<li><p align=\"justify\"> Incluya <strong><i> + coord_flip()</i></strong></p>\n",
        "</li>\n",
        "</ul>\n"
      ]
    },
    {
      "cell_type": "markdown",
      "metadata": {
        "id": "pwCeO-97vedm"
      },
      "source": [
        "\n",
        "<p><strong>Ejemplo 10</strong></p>\n",
        "<p align=\"justify\"> Gráfico de barras que muestra el número total de municipios por Region y Zona en Colombia.</p>\n"
      ]
    },
    {
      "cell_type": "code",
      "execution_count": null,
      "metadata": {
        "id": "6RJMvu3kvedm"
      },
      "outputs": [],
      "source": [
        "\n",
        "\n",
        "Municipios = pd.read_pickle(\"Municipios.pkl\")\n",
        "\n",
        "(ggplot(Municipios) +\n",
        " geom_bar(aes(x=\"Region\",fill=\"Zona\"),position=position_dodge(),width=0.75) +\n",
        " scale_y_continuous(breaks=list(range(0,300,50))) +\n",
        " scale_fill_manual(values=[\"yellow\",\"blue\"]) +\n",
        " labs(title=\"Número de municipios por región\", x=\"Región\", y=\"Número de Municipios\") +\n",
        " coord_flip() + mitema\n",
        ")\n",
        "\n",
        "\n"
      ]
    },
    {
      "cell_type": "markdown",
      "metadata": {
        "id": "IZc6Jef1vedm"
      },
      "source": [
        "\n",
        "<p align=\"justify\">Modifique el gráfico variando colores y los siguientes parámetros.</p>\n",
        "<ul>\n",
        "<li><p align=\"justify\"> <strong><i>width:</i></strong> Números en el intervalo $(0,1)$</p>\n",
        "</li>\n",
        "<li><p align=\"justify\"> <strong><i>position:</i></strong> <i>position_dodge()</i>, <i>position_dodge2()</i>, <i>position_stack()</i>, <i>position_fill()</i></p>\n",
        "</li>\n",
        "<li><p align=\"justify\"> Elimine <strong><i> + coord_flip()</i></strong></p>\n",
        "</li>\n",
        "</ul>\n"
      ]
    },
    {
      "cell_type": "markdown",
      "metadata": {
        "id": "p2A8vtCBvedm"
      },
      "source": [
        "\n",
        "<p><strong>Ejemplo 11</strong></p>\n",
        "<p align=\"justify\"> Gráfico de barras que muestra la superficie por Region y Zona en Colombia.</p>\n"
      ]
    },
    {
      "cell_type": "code",
      "execution_count": null,
      "metadata": {
        "id": "zjs_Fm_Uvedm"
      },
      "outputs": [],
      "source": [
        "\n",
        "\n",
        "(ggplot(Municipios) +\n",
        " geom_bar(aes(x=\"Region\",fill=\"Zona\",weights=\"Superficie/1000\"),position=position_dodge(),width=0.75) +\n",
        " scale_y_continuous(breaks=list(range(0,600,50))) +\n",
        " scale_fill_manual(values=[\"yellow\",\"blue\"]) +\n",
        " labs(title=\"Superficie por región\", x=\"Región\", y=\"Superficie, en miles de kilómetros cuadrados\") +\n",
        " coord_flip() + mitema\n",
        ")\n",
        "\n",
        "\n"
      ]
    },
    {
      "cell_type": "markdown",
      "metadata": {
        "id": "aKKrXY-svedm"
      },
      "source": [
        "\n",
        "<p><strong>Ejemplo 12</strong></p>\n",
        "<p align=\"justify\"> Gráfico de barras que muestra la población por Region y Zona en Colombia.</p>\n"
      ]
    },
    {
      "cell_type": "code",
      "execution_count": null,
      "metadata": {
        "id": "kr1sHOqMvedm"
      },
      "outputs": [],
      "source": [
        "\n",
        "\n",
        "(ggplot(Municipios) +\n",
        " geom_bar(aes(x=\"Region\",fill=\"Zona\",weight=\"Poblacion/1000\"),position=position_dodge(),width=0.75) +\n",
        " scale_y_continuous(breaks=list(range(0,15000,2500))) +\n",
        " scale_fill_manual(values=[\"yellow\",\"blue\"]) +\n",
        " labs(title=\"Población por región\", x=\"Región\", y=\"Población, en miles\") +\n",
        " coord_flip() + mitema\n",
        ")\n",
        "\n",
        "\n"
      ]
    },
    {
      "cell_type": "markdown",
      "metadata": {
        "id": "eRvAEnhNvedm"
      },
      "source": [
        "\n",
        "<p><strong>Ejemplo 13</strong></p>\n",
        "<p align=\"justify\"> Gráfico de barras que muestra la población por Region y Zona en Colombia.</p>\n"
      ]
    },
    {
      "cell_type": "code",
      "execution_count": null,
      "metadata": {
        "id": "KIg-nACVvedm"
      },
      "outputs": [],
      "source": [
        "\n",
        "\n",
        "(ggplot(Municipios,aes(x=\"Zona\",fill=\"Zona\",weight=\"Poblacion/1000\")) +\n",
        " geom_bar(position=position_dodge(),width=0.8) +\n",
        " scale_y_continuous(breaks=list(range(0,15000,2500))) +\n",
        " scale_fill_manual(values=[\"yellow\",\"blue\"]) +\n",
        " labs(title=\"Población por región\", x=\"Región\", y=\"Población, en miles\") +\n",
        " facet_wrap(\"Region\",nrow=2,ncol=3,dir=\"h\",scales=\"fixed\") + mitema\n",
        ")\n",
        "\n",
        "\n"
      ]
    },
    {
      "cell_type": "markdown",
      "metadata": {
        "id": "A0Qqp32fvedn"
      },
      "source": [
        "\n",
        "<p><strong>Ejemplo 14</strong></p>\n",
        "<p align=\"justify\"> Gráfico de la evolución en el tiempo (<i>date</i>) de las cotizaciones (<i>open</i>) de tres empresas.</p>\n"
      ]
    },
    {
      "cell_type": "code",
      "execution_count": null,
      "metadata": {
        "id": "30gP5z73vedn"
      },
      "outputs": [],
      "source": [
        "\n",
        "\n",
        "stocks = pd.read_table(\"stocks.dlm\",delimiter=\" \",header=0,decimal=\",\",thousands=\".\",\n",
        "                        names=[\"Stock\",\"Date\",\"Open\",\"High\",\"Low\",\"Close\",\"Volume\",\"AdjClose\"],\n",
        "                        dtype={\"Stock\":str,\"Date\":str,\"Open\":np.float64,\"High\":np.float64,\n",
        "                               \"Low\":np.float64,\"Close\":np.float64,\"Volume\":np.float64,\n",
        "                               \"AdjClose\":np.float64},\n",
        "                        parse_dates=[\"Date\"], date_format=\"%d%b%y\")\n",
        "stocks.info()\n",
        "stocks.head(10)\n",
        "\n",
        "\n"
      ]
    },
    {
      "cell_type": "code",
      "execution_count": null,
      "metadata": {
        "id": "YxjiV7wvvedn"
      },
      "outputs": [],
      "source": [
        "\n",
        "\n",
        "(ggplot(stocks,aes(x=\"Date\",y=\"Open\",color=\"Stock\",shape=\"Stock\")) +\n",
        " geom_line() +\n",
        " geom_point(size=1) +\n",
        " labs(title=\"\",x=\"\",y=\"Open\",color=\"Stock\",shape=\"Stock\") +\n",
        " scale_x_date(date_breaks=\"1 year\", date_labels=\"%Y\") +\n",
        " scale_y_continuous(breaks=list(range(0,250,25))) +\n",
        " scale_color_manual(values=[\"blue\",\"black\",\"red\"]) +\n",
        " scale_shape_manual(values=[\"o\",\"^\",\"s\"]) + mitema +\n",
        " theme(axis_text_x=element_text(angle=90))\n",
        " )\n",
        "\n",
        "\n"
      ]
    },
    {
      "cell_type": "markdown",
      "metadata": {
        "id": "d2R6urPhvedn"
      },
      "source": [
        "\n",
        "<p align=\"justify\">Modifique el gráfico variando colores y los siguientes parámetros.</p>\n",
        "<ul>\n",
        "<li><p align=\"justify\"> Elimine <strong><i> geom_point(size=1) + </i></strong></p>\n",
        "</li>\n",
        "<li><p align=\"justify\"> Reemplace <strong><i>date_breaks=\"1 year\"</i></strong> por <strong><i>date_breaks=\"2 year\"</i></strong></p>\n",
        "</li>\n",
        "<li><p align=\"justify\"> Reemplace <strong><i>date_labels=\"%Y\"</i></strong> por <strong><i>date_labels=\"%y\"</i></strong></p>\n",
        "</li>\n",
        "</ul>\n"
      ]
    },
    {
      "cell_type": "markdown",
      "metadata": {
        "id": "SbgKg2YWvedn"
      },
      "source": [
        "\n",
        "<p><strong>Ejemplo 15</strong></p>\n",
        "<p align=\"justify\"> Gráfico de la evolución en el tiempo (<i>date</i>) de las cotizaciones (<i>open</i>) de IBM.</p>\n"
      ]
    },
    {
      "cell_type": "code",
      "execution_count": null,
      "metadata": {
        "id": "pkRabYQNvedn"
      },
      "outputs": [],
      "source": [
        "\n",
        "\n",
        "(ggplot(stocks.query(\"Stock=='IBM'\"),aes(x=\"Date\",y=\"Open\")) +\n",
        " geom_point(color=\"red\",size=1.25) +\n",
        " geom_line(color=\"red\") +\n",
        " labs(title=\"\",x=\"\",y=\"Open\") +\n",
        " scale_x_date(date_breaks=\"1 year\", date_labels=\"%Y\") +\n",
        " scale_y_continuous(breaks=list(range(0,250,25))) + mitema +\n",
        " theme(axis_text_x=element_text(angle=90))\n",
        " )\n",
        "\n",
        "\n"
      ]
    },
    {
      "cell_type": "markdown",
      "metadata": {
        "id": "Wn2az9Xzvedn"
      },
      "source": [
        "\n",
        "<p><strong>Ejemplo 16</strong></p>\n",
        "<p align=\"justify\"> Mapa de Cundinamarca que muestra las diferencias entre los municipios con respecto al índice de ruralidad (<i>Irural</i>i). Se destacan los municipios con valores mayores a 52.</p>\n"
      ]
    },
    {
      "cell_type": "code",
      "execution_count": null,
      "metadata": {
        "id": "tGHz9mWWvedn"
      },
      "outputs": [],
      "source": [
        "\n",
        "\n",
        "#!pip install geopandas\n",
        "import geopandas as gpd\n",
        "\n",
        "MGN_MPIO = gpd.read_file(\"MGN_MPIO_POLITICO.shp\")\n",
        "def calculate_center(df):\n",
        "    original_crs = df.crs\n",
        "    planar_crs = 'EPSG:3857'\n",
        "    return df['geometry'].to_crs(planar_crs).centroid.to_crs(original_crs)\n",
        "MGN_MPIO['center'] = calculate_center(MGN_MPIO)\n",
        "MGN_MPIO.info()\n",
        "\n",
        "\n"
      ]
    },
    {
      "cell_type": "code",
      "execution_count": null,
      "metadata": {
        "id": "X2jUFsOvvedo"
      },
      "outputs": [],
      "source": [
        "\n",
        "\n",
        "munis = MGN_MPIO.merge(Municipios,right_on=\"Depmun\",left_on=\"MPIO_CCNCT\",how=\"inner\")\n",
        "munis[\"labels\"] = np.where(munis[\"Irural\"] > 52,munis[\"Municipio\"],\"\")\n",
        "munis.info()\n",
        "\n",
        "\n"
      ]
    },
    {
      "cell_type": "code",
      "execution_count": null,
      "metadata": {
        "id": "jXCNNAYxvedo"
      },
      "outputs": [],
      "source": [
        "\n",
        "\n",
        "(ggplot(munis.query(\"Dep in ('25','11')\")) +\n",
        " geom_map(aes(fill=\"Irural\"),color=\"gray\",linetype=\"solid\") +\n",
        " geom_text(aes('center.x','center.y',label=\"labels\"),size=6,fontstyle=\"normal\",fontweight='bold') +\n",
        " labs(x=\"Longitud\",y=\"Latitud\",title=\"Cundinamarca\",fill=\"Índice de\\nRuralidad\\n\") +\n",
        " scale_fill_gradient(low=\"white\",high=\"yellow\") + mitema +\n",
        " theme(legend_position=\"right\",legend_direction=\"vertical\")\n",
        " )\n",
        "\n",
        "\n"
      ]
    },
    {
      "cell_type": "markdown",
      "metadata": {
        "id": "0qOCWqeHvedo"
      },
      "source": [
        "\n",
        "<p align=\"justify\">Modifique el gráfico variando colores y los siguientes parámetros.</p>\n",
        "<ul>\n",
        "<li><p align=\"justify\"> <strong><i>fontstyle:</i></strong> \"normal\", \"italic\", \"oblique\"</p>\n",
        "</li>\n",
        "<li><p align=\"justify\"> <strong><i>fontweight:</i></strong> \"normal\", \"bold\"</p>\n",
        "</li>\n",
        "<li><p align=\"justify\"> <strong><i>linetype:</i></strong> 'solid', 'dashed', 'dashdot', 'dotted', '-', '--', '-.', ':', 'None'</p>\n",
        "</li>\n",
        "<li><p align=\"justify\"> <strong><i>size:</i></strong> Números no negativos</p>\n",
        "</li>\n",
        "<li><p align=\"justify\"> <strong><i>legend_position:</i></strong> \"right\", \"left\", \"top\", \"bottom\", \"none\"</p>\n",
        "</li>\n",
        "<li><p align=\"justify\"> <strong><i>legend_direction:</i></strong> \"vertical\", \"horizontal\"</p>\n",
        "</li>\n",
        "</ul>\n"
      ]
    },
    {
      "cell_type": "markdown",
      "metadata": {
        "id": "gAsSCQtrvedo"
      },
      "source": [
        "\n",
        "<p><strong>Ejemplo 17</strong></p>\n",
        "<p align=\"justify\"> Mapa de Cundinamarca que muestra las estaciones de monitoreo climático.</p>\n"
      ]
    },
    {
      "cell_type": "code",
      "execution_count": null,
      "metadata": {
        "id": "5fvzOJmxvedo"
      },
      "outputs": [],
      "source": [
        "\n",
        "\n",
        "Estaciones = pd.read_excel(\"Estaciones.xlsx\",dtype={'CODIGO': str, 'Depmun': str, 'ELEV':np.float64})\n",
        "def Dep(x):\n",
        "    return(x[0:2])\n",
        "Estaciones[\"Dep\"] = Estaciones[\"Depmun\"].apply(Dep)\n",
        "Estaciones.head()\n",
        "\n",
        "\n"
      ]
    },
    {
      "cell_type": "code",
      "execution_count": null,
      "metadata": {
        "id": "klMr0g1vvedo"
      },
      "outputs": [],
      "source": [
        "\n",
        "\n",
        "mydep = ('25')\n",
        "mydepname = ' y '.join(munis.query(\"Dep in @mydep\").Departamento.unique())\n",
        "\n",
        "(ggplot(munis.query(\"Dep in @mydep\")) +\n",
        " geom_map(fill=\"yellow\",color=\"gray\",linetype=\"solid\") +\n",
        " geom_point(Estaciones.query(\"Dep in @mydep\"),aes(x=\"longitud\",y=\"latitud\"),shape=\"o\",size=1,color=\"blue\") +\n",
        " labs(x=\"Longitud\",y=\"Latitud\",title=\"Estaciones de monitoreo climático en \" + mydepname) + mitema\n",
        ")\n",
        "\n",
        "\n"
      ]
    },
    {
      "cell_type": "markdown",
      "metadata": {
        "id": "vckIJwMSvedo"
      },
      "source": [
        "\n",
        "# <center><h2 style=\"color:blue;\">Librerias seaborn y matplotlib</h2></center>\n"
      ]
    },
    {
      "cell_type": "markdown",
      "metadata": {
        "id": "kB7D-f7Mvedo"
      },
      "source": [
        "\n",
        "<p><strong>Ejemplo 18</strong></p>\n",
        "<p align=\"justify\"> Gráfico de <i>dona</i> que muestra la población por región en Colombia.</p>\n"
      ]
    },
    {
      "cell_type": "code",
      "execution_count": null,
      "metadata": {
        "id": "SajfSgEOvedp"
      },
      "outputs": [],
      "source": [
        "\n",
        "\n",
        "!pip install seaborn\n",
        "import seaborn as sns\n",
        "import matplotlib.pyplot as plt\n",
        "\n",
        "\n"
      ]
    },
    {
      "cell_type": "code",
      "execution_count": null,
      "metadata": {
        "id": "NnLknWYgvedp"
      },
      "outputs": [],
      "source": [
        "\n",
        "\n",
        "Pobl = (Municipios\n",
        "        .groupby([\"Region\"])\n",
        "        .agg(freq=(\"Poblacion\",\"sum\")).reset_index()\n",
        "        )\n",
        "\n",
        "\n"
      ]
    },
    {
      "cell_type": "code",
      "execution_count": null,
      "metadata": {
        "id": "ZKPaq_LMvedp"
      },
      "outputs": [],
      "source": [
        "\n",
        "\n",
        "plt.pie(x=Pobl[\"freq\"],labels=Pobl[\"Region\"],autopct='%1.1f%%',radius=1.2,\n",
        "        shadow=False,pctdistance=0.5,colors=sns.color_palette(),\n",
        "        textprops={\"family\":\"sans-serif\",\"color\":\"black\",\"size\":12,\"style\":\"oblique\"})\n",
        "centre_circle = plt.Circle((0,0),0.8,fc='white'); fig = plt.gcf(); fig.gca().add_artist(centre_circle)\n",
        "plt.title(\"Población por Región\",loc=\"center\",\n",
        "          fontdict={\"family\":\"sans-serif\",\"color\":\"black\",\"size\":17,\"style\":\"normal\"})\n",
        "plt.show()\n",
        "\n",
        "\n"
      ]
    },
    {
      "cell_type": "markdown",
      "metadata": {
        "id": "8jCB03gxvedp"
      },
      "source": [
        "\n",
        "<p><strong>Ejemplo 19</strong></p>\n",
        "<p align=\"justify\"> Gráfico de <i>torta</i> que muestra la superficie por región en Colombia.</p>\n"
      ]
    },
    {
      "cell_type": "code",
      "execution_count": null,
      "metadata": {
        "id": "HZMMYOQVvedp"
      },
      "outputs": [],
      "source": [
        "\n",
        "\n",
        "Super = (Municipios\n",
        "        .groupby([\"Region\"])\n",
        "        .agg(freq=(\"Superficie\",\"sum\")).reset_index()\n",
        "        )\n",
        "\n",
        "\n"
      ]
    },
    {
      "cell_type": "code",
      "execution_count": null,
      "metadata": {
        "id": "n0f5ls7Hvedp"
      },
      "outputs": [],
      "source": [
        "\n",
        "\n",
        "plt.pie(x=Pobl[\"freq\"],labels=Pobl[\"Region\"],autopct='%1.1f%%',radius=1.2,\n",
        "        shadow=False,explode=[0,0.1,0,0,0,0],pctdistance=0.5,colors=sns.color_palette(),\n",
        "        textprops={\"family\":\"sans-serif\",\"color\":\"black\",\"size\":12,\"style\":\"oblique\"})\n",
        "plt.title(\"Superficie por Región\",loc=\"center\",\n",
        "          fontdict={\"family\":\"sans-serif\",\"color\":\"black\",\"size\":17,\"style\":\"normal\"})\n",
        "plt.show()\n",
        "\n",
        "\n"
      ]
    },
    {
      "cell_type": "markdown",
      "metadata": {
        "id": "BinXNNTIvedq"
      },
      "source": [
        "\n",
        "<p><strong>Ejemplo 20</strong></p>\n",
        "<p align=\"justify\"> Matriz de dispersión.</p>\n"
      ]
    },
    {
      "cell_type": "code",
      "execution_count": null,
      "metadata": {
        "id": "jOlXXb3Rvedq"
      },
      "outputs": [],
      "source": [
        "\n",
        "\n",
        "cars = sns.load_dataset(\"mpg\")\n",
        "cars.info()\n",
        "cars.head()\n",
        "\n",
        "\n"
      ]
    },
    {
      "cell_type": "code",
      "execution_count": null,
      "metadata": {
        "id": "Pws1REj8vedq"
      },
      "outputs": [],
      "source": [
        "\n",
        "\n",
        "cars.loc[cars[\"origin\"]==\"usa\",\"Origen\"] = \"Estados Unidos\"\n",
        "cars.loc[cars[\"origin\"]!=\"usa\",\"Origen\"] = \"Japón y Europa\"\n",
        "\n",
        "\n"
      ]
    },
    {
      "cell_type": "code",
      "execution_count": null,
      "metadata": {
        "id": "JkcAhqzjvedq"
      },
      "outputs": [],
      "source": [
        "\n",
        "\n",
        "fig = sns.pairplot(cars,vars=[\"mpg\",\"horsepower\",\"weight\"],hue=\"Origen\",kind=\"scatter\",\n",
        "                   diag_kind=\"hist\",palette=[\"blue\",\"orange\"],\n",
        "                   markers=[\"o\",\"s\"],plot_kws={\"s\":30},diag_kws={\"alpha\":0.7})\n",
        "axes = fig.axes.flatten()\n",
        "titulos = [\"Millas por galón\",\"Caballos de fuerza\",\"Peso\"]\n",
        "c = np.sqrt(len(axes))\n",
        "for ax1 in np.arange(0,c):\n",
        "    for ax2 in np.arange(0,c):\n",
        "        ax = int(ax1*c + ax2)\n",
        "        if ax2==0:axes[ax].set_ylabel(titulos[int(ax1)],fontdict={\"family\":\"serif\",\"color\":\"darkgrey\",\"size\":12})\n",
        "        if ax1==c-1:axes[ax].set_xlabel(titulos[int(ax2)],fontdict={\"family\":\"serif\",\"color\":\"darkgrey\",\"size\":12})\n",
        "plt.show(fig)\n",
        "\n",
        "\n"
      ]
    },
    {
      "cell_type": "markdown",
      "metadata": {
        "id": "52ekMFAovedq"
      },
      "source": [
        "\n",
        "<p><strong>Ejemplo 21</strong></p>\n",
        "<p align=\"justify\"> Histogramas de las variables numéricas en <strong><i>cars</i></strong>, excepto <i>model_year</i>.</p>\n"
      ]
    },
    {
      "cell_type": "code",
      "execution_count": null,
      "metadata": {
        "id": "q_4Uv6qtvedq"
      },
      "outputs": [],
      "source": [
        "\n",
        "\n",
        "cars.drop(columns=\"model_year\").hist(bins=50, color=\"red\", density=True, orientation=\"vertical\", figsize=(12, 8))\n",
        "plt.show()\n",
        "\n",
        "\n"
      ]
    },
    {
      "cell_type": "markdown",
      "metadata": {
        "id": "g4qCgyX6vedq"
      },
      "source": [
        "\n",
        "# <h2 style=\"color:red;\">Ejercicios</h2>\n",
        "<ul>\n",
        "<li><p align=\"justify\"> Importe el conjunto de datos en el archivo <strong>species.xlsx</strong> y cree con él un gráfico de dispersión del número de especies de plantas (<i>Species</i>) versus el nivel de biomasa (<i>Biomass</i>) de las parcelas, en el que el nivel de pH del suelo (<i>pH</i>), que pertenece a una de tres categorias posibles (\"Bajo\", \"Medio\" y \"Alto\"), se identifica mediante el tipo y el color de los símbolos que identifican cada parcela. En cada nivel del pH del suelo incluya una recta que describa la relación entre <i>Species</i> y <i>Biomass</i>. Haga un segundo gráfico usando tres paneles alineados horizontalmente, uno para cada nivel de pH del suelo.</p>\n",
        "</li>\n",
        "<li><p align=\"justify\"> Importe el conjunto de datos en el archivo <strong>mcycle.xlsx</strong> sobre un accidente de motocicleta simulado que se usa para probar cascos de protección. Cree un gráfico de dispersión de la acceleración dela cabeza del piloto (<i>accel</i>) versus el tiempo (<i>times</i>), en milisegundos, desde el impacto que se produjo como resultado del accidente. Incluya una curva suave (regresión polinómica o regresión no paramétrica) que describa la relación entre <i>accel</i> y <i>times</i>.</p>\n",
        "</li>\n",
        "</ul>\n"
      ]
    },
    {
      "cell_type": "markdown",
      "metadata": {
        "id": "R0q0gPylvedq"
      },
      "source": [
        "\n",
        "# <center><h1 style=\"color:red;\">Funciones personalizadas</h1></center>\n"
      ]
    },
    {
      "cell_type": "markdown",
      "metadata": {
        "id": "rZCkxYVNvedr"
      },
      "source": [
        "\n",
        "## <h3 style=\"color:red;\">Números primos</h3>\n"
      ]
    },
    {
      "cell_type": "code",
      "execution_count": null,
      "metadata": {
        "id": "ltF4WViovedr"
      },
      "outputs": [],
      "source": [
        "\n",
        "\n",
        "def primos(n):\n",
        "      n = np.floor(abs(float(n))).astype(int)\n",
        "      nmax = max(2,np.floor(np.sqrt(n)).astype(int))\n",
        "      out = np.zeros([nmax,1])\n",
        "      m = n\n",
        "      id = 0\n",
        "      for i in range(2, nmax):\n",
        "            while m % i == 0:\n",
        "                  out[id] = i\n",
        "                  m = m / i\n",
        "                  id = id + 1\n",
        "      out = np.append(out,m).astype(int)\n",
        "      out = out[out > 1]\n",
        "      prim = out[0] == n\n",
        "      if prim:\n",
        "              print(n,\"es un número primo\")\n",
        "      else:\n",
        "            out2 = '*'.join(list(map(str,out)))\n",
        "            print(n,\"no es un número primo. \\nDe hecho,\",n,\"=\",out2)\n",
        "            return(out)\n",
        "\n",
        "\n"
      ]
    },
    {
      "cell_type": "code",
      "execution_count": null,
      "metadata": {
        "id": "zq1BdXcavedr"
      },
      "outputs": [],
      "source": [
        "\n",
        "\n",
        "primos(7938)\n",
        "\n",
        "\n"
      ]
    },
    {
      "cell_type": "markdown",
      "metadata": {
        "id": "nFXParZovedr"
      },
      "source": [
        "\n",
        "## <h3 style=\"color:red;\">Juego del ahorcado</h3>\n"
      ]
    },
    {
      "cell_type": "code",
      "execution_count": null,
      "metadata": {
        "id": "PqVegoBkvedr"
      },
      "outputs": [],
      "source": [
        "\n",
        "\n",
        "!pip install english-words\n",
        "import string\n",
        "\n",
        "def hangman(longitud = 8):\n",
        "    from english_words import get_english_words_set\n",
        "    words = get_english_words_set(['gcide'], lower=True)\n",
        "    words = pd.DataFrame(words)\n",
        "    words.columns = ['words']\n",
        "    words['longitud'] = words['words'].apply(len)\n",
        "    word = (words\n",
        "            .query(\"longitud>=@longitud\")\n",
        "            .sample()\n",
        "            .loc[:,\"words\"]\n",
        "            .values[0])\n",
        "    n = len(word)\n",
        "    wordv = pd.Series(list(word))\n",
        "    estado = pd.Series(['__']*n)\n",
        "    usadas = pd.Series([''])\n",
        "    intentos = np.ceil(len(pd.unique(wordv))*1.5).astype(\"int64\")\n",
        "    letters = pd.Series(list(string.ascii_lowercase))\n",
        "    vez = 1\n",
        "    print(\"Bienvenido(a) al juego del ahorcado!!!\\n\\n\")\n",
        "    print(\"Adivina la palabra de \",n,\" letras en inglés. Tienes \",intentos, \" intentos.\\n\\n\",sep=\"\")\n",
        "    while any(estado == '__') and vez <= intentos :\n",
        "        print(\"\\nDigita una letra:\")\n",
        "        intento = str.lower(input())\n",
        "        if any(intento == letters):\n",
        "            if all(intento != usadas):\n",
        "                ids = wordv == intento\n",
        "                print(\"\\nIntento \",vez,\". Te quedan \",intentos-vez,\".\\n\",sep=\"\")\n",
        "                if any(ids):\n",
        "                    print('Bien...\\n')\n",
        "                    estado[ids] = intento\n",
        "                    print(' '.join(estado))\n",
        "                else:\n",
        "                    print(\"Lo siento. La letra \",intento,\" no hace parte de la palabra oculta.\\n\",sep=\"\")\n",
        "                    print(' '.join(estado))\n",
        "                usadas = pd.concat([usadas,pd.Series(intento)])\n",
        "                vez = vez + 1\n",
        "            else:\n",
        "                print(\"Ya habias intentado la letra \",intento,\". Inténtalo de nuevo.\\n\",sep=\"\")\n",
        "                print(' '.join(estado))\n",
        "        else: print(\"La letra que digitaste no hace parte del alfabeto inglés. Inténtalo de nuevo.\\n\")\n",
        "    if all(estado != '__'): print(\"\\nFelicitaciones. Ganaste!!!!\\n\")\n",
        "    else:\n",
        "        print(\" \\nLo lamento. Perdiste!!!!\\n\")\n",
        "        print(\"La palabra oculta es \",word,\"\\n\\n\")\n",
        "\n",
        "\n"
      ]
    },
    {
      "cell_type": "code",
      "execution_count": null,
      "metadata": {
        "id": "eVbeBXB7vedr"
      },
      "outputs": [],
      "source": [
        "\n",
        "\n",
        "hangman()\n",
        "\n",
        "\n"
      ]
    },
    {
      "cell_type": "markdown",
      "metadata": {
        "id": "kMu8_dEMvedr"
      },
      "source": [
        "\n",
        "## <h3 style=\"color:red;\">Análisis de Componentes Principales</h3>\n",
        "<img height=\"350\" src=\"https://python2022.netlify.app/acp.png\" width=\"700\"/>\n"
      ]
    },
    {
      "cell_type": "code",
      "execution_count": null,
      "metadata": {
        "id": "dgiMNlk6vedr"
      },
      "outputs": [],
      "source": [
        "\n",
        "\n",
        "def pca(mydata, matrix=\"corr\"):\n",
        "    pcs = [\"PC\" + str(i+1) for i in range(mydata.shape[1])]\n",
        "    if matrix==\"corr\":\n",
        "        matriz = mydata.corr()\n",
        "    else:\n",
        "        matriz = mydata.cov()\n",
        "    vals, vecs = np.linalg.eigh(matriz)\n",
        "    vecs = pd.DataFrame(np.fliplr(vecs), columns=pcs, index=mydata.columns)\n",
        "    vals = pd.DataFrame(vals, columns=[\"Eigenvalue\"])\n",
        "    vals = (vals\n",
        "           .sort_values(by=[\"Eigenvalue\"],ascending=False)\n",
        "           .eval('''Proportion = Eigenvalue/Eigenvalue.sum()\n",
        "                    CumulativeProportion = Proportion.cumsum()''')\n",
        "           )\n",
        "    vals.index = pcs\n",
        "    pd.options.display.float_format = '{:,.3f}'.format\n",
        "    display(vals)\n",
        "    display(vecs)\n",
        "    pd.options.display.float_format = '{:,.2f}'.format\n",
        "    return vals, vecs\n",
        "\n",
        "\n"
      ]
    },
    {
      "cell_type": "code",
      "execution_count": null,
      "metadata": {
        "id": "7pA_N0VTveds"
      },
      "outputs": [],
      "source": [
        "\n",
        "\n",
        "Municipios = pd.read_pickle(\"Municipios.pkl\")\n",
        "a = pca(Municipios[[\"Poblacion\",\"Superficie\",\"denspobl\"]])\n",
        "\n",
        "\n"
      ]
    },
    {
      "cell_type": "markdown",
      "metadata": {
        "id": "DPXlb2BYveds"
      },
      "source": [
        "\n",
        "<img height=\"350\" src=\"https://python2022.netlify.app/biblipy1.jpg\" width=\"700\"/>\n",
        "<img height=\"350\" src=\"https://python2022.netlify.app/biblipy2.jpg\" width=\"700\"/>\n",
        "<img height=\"350\" src=\"https://python2022.netlify.app/biblipy3.jpg\" width=\"700\"/>\n"
      ]
    }
  ],
  "metadata": {
    "kernelspec": {
      "display_name": "Python 3 (ipykernel)",
      "language": "python",
      "name": "python3"
    },
    "language_info": {
      "codemirror_mode": {
        "name": "ipython",
        "version": 3
      },
      "file_extension": ".py",
      "mimetype": "text/x-python",
      "name": "python",
      "nbconvert_exporter": "python",
      "pygments_lexer": "ipython3",
      "version": "3.8.13"
    },
    "colab": {
      "provenance": [],
      "toc_visible": true,
      "include_colab_link": true
    }
  },
  "nbformat": 4,
  "nbformat_minor": 0
}