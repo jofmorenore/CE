{
  "nbformat": 4,
  "nbformat_minor": 0,
  "cells": [
    {
      "cell_type": "markdown",
      "metadata": {
        "id": "view-in-github",
        "colab_type": "text"
      },
      "source": [
        "<a href=\"https://colab.research.google.com/github/jofmorenore/CE/blob/main/sas/Sas_CONVERTED_BACK.ipynb\" target=\"_parent\"><img src=\"https://colab.research.google.com/assets/colab-badge.svg\" alt=\"Open In Colab\"/></a>"
      ]
    },
    {
      "metadata": {
        "id": "MiZoPJDAS0iX"
      },
      "source": [
        "\n",
        "<center><strong><h1 style=\"color:red;\"> Introducción a SAS </h1></strong></center>\n",
        "<center><strong><h2 style=\"color:black;\"> Luis Hernando Vanegas (lhvanegasp@unal.edu.co) </h2></strong></center>\n",
        "<center><strong><h2 style=\"color:black;\"> Luis Marina Rondón (lmrondonp@unal.edu.co) </h2></strong></center>\n",
        "<center><strong><h3 style=\"color:blue;\"> Universidad Nacional de Colombia </h3></strong></center>\n",
        "<center><strong><h3 style=\"color:blue;\"> Sede Bogotá </h3></strong></center>\n",
        "<center><strong><h3 style=\"color:blue;\"> Facultad de Ciencias </h3></strong></center>\n",
        "<center><strong><h3 style=\"color:blue;\"> Departamento de Estadística </h3></strong></center>\n"
      ],
      "cell_type": "markdown"
    },
    {
      "metadata": {
        "id": "gGmdH4ZNS0iZ"
      },
      "source": [
        "\n",
        "# <h1><a href=\"https://documentation.sas.com/doc/en/pgmsascdc/9.4_3.5/proc/n045uxf7ll2p5on1ly4at3vpd47e.htm\" style=\"color:red;\" target=\"_blank\"><strong>1. proc export</strong></a></h1><h2 style=\"color:black;\">Importación y exportación de datos</h2>\n"
      ],
      "cell_type": "markdown"
    },
    {
      "metadata": {
        "id": "kGJgxMYDS0iZ"
      },
      "source": [
        "\n",
        "<h3 style=\"color:red;\">Ejemplo 1</h3><p align=\"justify\"> Exporte el conjunto de datos <strong>sashelp.stocks</strong> al archivo <strong>stocks.txt</strong> delimitado por \",\".</p>\n"
      ],
      "cell_type": "markdown"
    },
    {
      "metadata": {
        "id": "2_9ScxwyS0ia"
      },
      "source": [
        "\n",
        "\n",
        "proc export data=sashelp.stocks dbms=tab outfile=\"/home/hvanegasp0/Curso/stocks.txt\" replace;\n",
        "    delimiter=\",\";\n",
        "run;\n",
        "\n",
        "\n"
      ],
      "execution_count": null,
      "cell_type": "code",
      "outputs": []
    },
    {
      "metadata": {
        "id": "AbhGsaXbS0ib"
      },
      "source": [
        "\n",
        "<h3 style=\"color:red;\">Ejemplo 2</h3><p></p><p align=\"justify\"> Importe el conjunto de datos <strong>stocks.txt</strong> y llámelos <strong>stockstxt</strong>.</p>\n",
        "<h3><a href=\"https://documentation.sas.com/doc/en/pgmsascdc/9.4_3.5/leforinforref/n0verk17pchh4vn1akrrv0b5w3r0.htm\" style=\"color:red;\" target=\"_blank\"><strong>informats</strong></a></h3>\n",
        "<h3><a href=\"https://documentation.sas.com/doc/en/pgmsascdc/9.4_3.5/leforinforref/n0p2fmevfgj470n17h4k9f27qjag.htm\" style=\"color:red;\" target=\"_blank\"><strong>formats</strong></a></h3>\n"
      ],
      "cell_type": "markdown"
    },
    {
      "metadata": {
        "id": "QsWGttj9S0ib"
      },
      "source": [
        "\n",
        "\n",
        "data stockstxt;\n",
        "    infile \"/home/hvanegasp0/Curso/stocks.txt\" dsd delimiter=\",\" firstobs=2;\n",
        "    informat Stock $10. Date date. Open High Low Close Volume AdjClose comma.;\n",
        "    format Date ddmmyy. Open High Low Close AdjClose dollar8.2 Volume comma10.0;\n",
        "    input Stock Date Open High Low Close Volume AdjClose;\n",
        "run;\n",
        "\n",
        "\n"
      ],
      "execution_count": null,
      "cell_type": "code",
      "outputs": []
    },
    {
      "metadata": {
        "id": "tSx1LSeLS0ib"
      },
      "source": [
        "\n",
        "<h3 style=\"color:red;\">Ejemplo 3</h3><p align=\"justify\"> Exporte el conjunto de datos <strong>sashelp.stocks</strong> al archivo <strong>stocks.dat</strong> delimitado por \";\".</p>\n"
      ],
      "cell_type": "markdown"
    },
    {
      "metadata": {
        "id": "oRUK6pISS0ic"
      },
      "source": [
        "\n",
        "\n",
        "proc export data=sashelp.stocks dbms=dlm outfile=\"/home/hvanegasp0/Curso/stocks.dat\" replace;\n",
        "    delimiter=\";\";\n",
        "run;\n",
        "\n",
        "\n"
      ],
      "execution_count": null,
      "cell_type": "code",
      "outputs": []
    },
    {
      "metadata": {
        "id": "eDuy4Oi0S0ic"
      },
      "source": [
        "\n",
        "<h3 style=\"color:red;\">Ejemplo 4</h3><p align=\"justify\"> Importe el conjunto de datos <strong>stocks.dat</strong> y llámelos <strong>stocksdat</strong>.</p>\n"
      ],
      "cell_type": "markdown"
    },
    {
      "metadata": {
        "id": "UQRh3FSkS0ic"
      },
      "source": [
        "\n",
        "\n",
        "data stocksdat;\n",
        "    infile \"/home/hvanegasp0/Curso/stocks.dat\" dsd delimiter=\";\" firstobs=2;\n",
        "    informat Stock $10. Date date. Open High Low Close Volume AdjClose comma.;\n",
        "    format Date ddmmyy. Open High Low Close AdjClose dollar8.2 Volume comma10.0;\n",
        "    input Stock Date Open High Low Close Volume AdjClose;\n",
        "run;\n",
        "\n",
        "\n"
      ],
      "execution_count": null,
      "cell_type": "code",
      "outputs": []
    },
    {
      "metadata": {
        "id": "_k50vsUjS0id"
      },
      "source": [
        "\n",
        "<h3 style=\"color:red;\">Ejemplo 5</h3><p align=\"justify\"> Exporte el conjunto de datos <strong>sashelp.shoes</strong> al archivo shoes.csv delimitado por tabulaciones.</p>\n"
      ],
      "cell_type": "markdown"
    },
    {
      "metadata": {
        "id": "OgUUHIpqS0id"
      },
      "source": [
        "\n",
        "\n",
        "proc export data=sashelp.shoes dbms=csv outfile=\"/home/hvanegasp0/Curso/shoes.csv\" replace;\n",
        "    delimiter=\"09\"x;\n",
        "run;\n",
        "\n",
        "\n"
      ],
      "execution_count": null,
      "cell_type": "code",
      "outputs": []
    },
    {
      "metadata": {
        "id": "0tAxXHyuS0id"
      },
      "source": [
        "\n",
        "<h3 style=\"color:red;\">Ejemplo 6</h3><p align=\"justify\"> Importe el conjunto de datos <strong>shoes.csv</strong> y llámelos <strong>shoescsv</strong>.</p>\n"
      ],
      "cell_type": "markdown"
    },
    {
      "metadata": {
        "id": "g1JLfnLWS0id"
      },
      "source": [
        "\n",
        "\n",
        "data shoescsv;\n",
        "    infile \"/home/hvanegasp0/Curso/shoes.csv\" dsd delimiter=\"09\"x firstobs=2;\n",
        "    informat Region Product Subsidiary $25. Sales Inventory Return comma10.;\n",
        "    format Sales Inventory Return dollar10.;\n",
        "    input Region Product Subsidiary Stores Sales Inventory Return;\n",
        "run;\n",
        "\n",
        "\n"
      ],
      "execution_count": null,
      "cell_type": "code",
      "outputs": []
    },
    {
      "metadata": {
        "id": "pig5sNEhS0id"
      },
      "source": [
        "\n",
        "<h3 style=\"color:red;\">Ejemplo 7</h3><p align=\"justify\"> Exporte el conjunto de datos <strong>sashelp.shoes</strong> al archivo <strong>shoes.dlm</strong> delimitado por \"&amp;\".</p>\n"
      ],
      "cell_type": "markdown"
    },
    {
      "metadata": {
        "id": "T90uPOPUS0id"
      },
      "source": [
        "\n",
        "\n",
        "proc export data=sashelp.shoes dbms=dlm outfile=\"/home/hvanegasp0/Curso/shoes.dlm\" replace;\n",
        "    delimiter=\"&\";\n",
        "run;\n",
        "\n",
        "\n"
      ],
      "execution_count": null,
      "cell_type": "code",
      "outputs": []
    },
    {
      "metadata": {
        "id": "dsmgeeF_S0id"
      },
      "source": [
        "\n",
        "<h3 style=\"color:red;\">Ejemplo 8</h3><p align=\"justify\"> Importe el conjunto de datos <strong>shoes.dlm</strong> y llámelos <strong>shoesdlm</strong>.</p>\n"
      ],
      "cell_type": "markdown"
    },
    {
      "metadata": {
        "id": "nUCE2bffS0id"
      },
      "source": [
        "\n",
        "\n",
        "data shoesdlm;\n",
        "    infile \"/home/hvanegasp0/Curso/shoes.dlm\" dsd delimiter=\"&\" firstobs=2;\n",
        "    informat Region Product Subsidiary $25. Sales Inventory Return comma10.;\n",
        "    format Sales Inventory Return dollar10.;\n",
        "    input Region Product Subsidiary Stores Sales Inventory Return;\n",
        "run;\n",
        "\n",
        "\n"
      ],
      "execution_count": null,
      "cell_type": "code",
      "outputs": []
    },
    {
      "metadata": {
        "id": "BQby5vPSS0ie"
      },
      "source": [
        "\n",
        "<h3 style=\"color:red;\">Ejemplo 9</h3><p align=\"justify\"> Exporte el conjunto de datos <strong>sashelp.shoes</strong> a la hoja \"Zapatos\" del archivo <strong>shoes.xlsx</strong>.</p>\n"
      ],
      "cell_type": "markdown"
    },
    {
      "metadata": {
        "id": "hn9NPLg_S0ie"
      },
      "source": [
        "\n",
        "\n",
        "proc export data=sashelp.shoes dbms=xlsx outfile=\"/home/hvanegasp0/Curso/shoes.xlsx\" replace;\n",
        "    sheet=\"Zapatos\";\n",
        "run;\n",
        "\n",
        "\n"
      ],
      "execution_count": null,
      "cell_type": "code",
      "outputs": []
    },
    {
      "metadata": {
        "id": "2llza2_QS0ie"
      },
      "source": [
        "\n",
        "<h3 style=\"color:red;\">Ejemplo 10</h3><p align=\"justify\"> Importe el conjunto de datos en la hoja \"Zapatos\" del archivo <strong>shoes.xlsx</strong> y llámelos <strong>shoesxlsx</strong>.</p>\n"
      ],
      "cell_type": "markdown"
    },
    {
      "metadata": {
        "id": "xdH8-9VAS0ie"
      },
      "source": [
        "\n",
        "\n",
        "proc import out=shoesxlsx dbms=xlsx datafile=d replace;\n",
        "    getnames=yes;\n",
        "    sheet=\"Zapatos\";\n",
        "run;\n",
        "\n",
        "\n"
      ],
      "execution_count": null,
      "cell_type": "code",
      "outputs": []
    },
    {
      "metadata": {
        "id": "eAgjDPcYS0ie"
      },
      "source": [
        "\n",
        "<h3 style=\"color:red;\">Ejemplo 11</h3><p align=\"justify\"> El archivo <a href=\"https://users.stat.ufl.edu/~winner/data/ukcars.dat\" style=\"color:red;\" target=\"_blank\"><strong>ukcars.dat</strong></a> contiene la producción mensual de vehículos comerciales y de pasajeros en el Reino Unido desde enero de 1997 hasta septiembre de 2004. Importe los datos de acuerdo a la descripción de los mismos que se hace en <a href=\"https://users.stat.ufl.edu/~winner/data/ukcars.txt\" style=\"color:red;\" target=\"_blank\"><strong>ukcars</strong></a>.</p>\n"
      ],
      "cell_type": "markdown"
    },
    {
      "metadata": {
        "id": "T0UqLkxVS0ie"
      },
      "source": [
        "\n",
        "\n",
        "data ukcars;\n",
        "    infile \"http://users.stat.ufl.edu/~winner/data/ukcars.dat\" dsd;\n",
        "    format Commercial Passengers comma10.;\n",
        "    input Year 5. Month $6. Commercial 7. Passengers 6.;\n",
        "run;\n",
        "\n",
        "\n"
      ],
      "execution_count": null,
      "cell_type": "code",
      "outputs": []
    },
    {
      "metadata": {
        "id": "D40EhGLPS0ie"
      },
      "source": [
        "\n",
        "<h3 style=\"color:red;\">Ejemplo 12</h3><p align=\"justify\"> El archivo <a href=\"https://users.stat.ufl.edu/~winner/data/grunfeld.dat\" style=\"color:red;\" target=\"_blank\"><strong>grunfeld.dat</strong></a> contiene la inversión, cotización y total de capital para 10 firmas en el periodo comprendido entre 1935 y 1954. Importe los datos de acuerdo a la descripción de los mismos que se hace en <a href=\"https://users.stat.ufl.edu/~winner/data/grunfeld.txt\" style=\"color:red;\" target=\"_blank\"><strong>grunfeld</strong></a>.</p>\n"
      ],
      "cell_type": "markdown"
    },
    {
      "metadata": {
        "id": "1-Etx9VzS0ie"
      },
      "source": [
        "\n",
        "\n",
        "data grunfeld;\n",
        "    infile \"http://users.stat.ufl.edu/~winner/data/grunfeld.dat\" dsd;\n",
        "    format Investment Value Capital comma10.;\n",
        "    input Firm $20. Year 5. Investment 8. Value 9. Capital 7.;\n",
        "run;\n",
        "\n",
        "\n"
      ],
      "execution_count": null,
      "cell_type": "code",
      "outputs": []
    },
    {
      "metadata": {
        "id": "XGgyE_PCS0if"
      },
      "source": [
        "\n",
        "# <h1><a href=\"https://documentation.sas.com/doc/en/pgmsascdc/9.4_3.5/proc/p10qiuo2yicr4qn17rav8kptnjpu.htm\" style=\"color:red;\" target=\"_blank\"><strong>2. proc print</strong></a></h1>\n"
      ],
      "cell_type": "markdown"
    },
    {
      "metadata": {
        "id": "1Y41MMwpS0if"
      },
      "source": [
        "\n",
        "<h3 style=\"color:red;\">Ejemplo 1</h3><p align=\"justify\"> Muestre las variables <i>Species</i>, <i>SepalLength</i> y <i>PetalWidth</i> del conjunto de datos <strong>sashelp.iris</strong>.</p>\n"
      ],
      "cell_type": "markdown"
    },
    {
      "metadata": {
        "id": "eXTEgqCUS0if"
      },
      "source": [
        "\n",
        "\n",
        "proc print data=sashelp.iris noobs;\n",
        "    var Species SepalLength PetalWidth;\n",
        "run;\n",
        "\n",
        "\n"
      ],
      "execution_count": null,
      "cell_type": "code",
      "outputs": []
    },
    {
      "metadata": {
        "id": "6k6euuIKS0if"
      },
      "source": [
        "\n",
        "<h3 style=\"color:red;\">Ejemplo 2</h3><p align=\"justify\"> Muestre las variables <i>Species</i>, <i>SepalLength</i>, <i>SepalWidth</i>, <i>PetalLength</i> y <i>PetalWidth</i> del conjunto de datos sashelp.iris para las especies \"Setosa\" y \"Versicolor\" cuando <i>PetalLength</i> es menor que 40.</p>\n"
      ],
      "cell_type": "markdown"
    },
    {
      "metadata": {
        "id": "g1i2U8oSS0if"
      },
      "source": [
        "\n",
        "\n",
        "proc print data=sashelp.iris noobs;\n",
        "    var Species SepalLength SepalWidth PetalLength PetalWidth;\n",
        "    where Species in (\"Setosa\",\"Versicolor\") and PetalLength < 40;\n",
        "run;\n",
        "\n",
        "\n"
      ],
      "execution_count": null,
      "cell_type": "code",
      "outputs": []
    },
    {
      "metadata": {
        "id": "osmiQ5sGS0if"
      },
      "source": [
        "\n",
        "<h3 style=\"color:red;\">Ejemplo 3</h3><p align=\"justify\"> Muestre todas las variables y las primeras 10 filas del conjunto de datos <strong>sashelp.iris</strong> para la especie \"Virginica\".</p>\n"
      ],
      "cell_type": "markdown"
    },
    {
      "metadata": {
        "id": "eCZI1xhBS0if"
      },
      "source": [
        "\n",
        "\n",
        "proc print data=sashelp.iris (firstobs=1 obs=10) noobs;\n",
        "    var Species SepalLength SepalWidth PetalLength PetalWidth;\n",
        "    where Species=\"Virginica\";\n",
        "run;\n",
        "\n",
        "\n"
      ],
      "execution_count": null,
      "cell_type": "code",
      "outputs": []
    },
    {
      "metadata": {
        "id": "_YVo8QjVS0if"
      },
      "source": [
        "\n",
        "<h3 style=\"color:red;\">Ejemplo 4</h3><p align=\"justify\"> Muestre todas las variables y las filas de la 20 a la 30 del conjunto de datos <strong>sashelp.iris</strong> para la especie \"Versicolor\".</p>\n"
      ],
      "cell_type": "markdown"
    },
    {
      "metadata": {
        "id": "qKFSIR8KS0if"
      },
      "source": [
        "\n",
        "\n",
        "proc print data=sashelp.iris (firstobs=20 obs=30) noobs;\n",
        "    where Species=\"Versicolor\";\n",
        "run;\n",
        "\n",
        "\n"
      ],
      "execution_count": null,
      "cell_type": "code",
      "outputs": []
    },
    {
      "metadata": {
        "id": "0bYvtUVwS0if"
      },
      "source": [
        "\n",
        "\n",
        "proc print data=sashelp.iris noobs;\n",
        "    var Species SepalLength SepalWidth PetalLength PetalWidth;\n",
        "    where Species in (\"Setosa\",\"Versicolor\") and PetalLength < 40;\n",
        "run;\n",
        "\n",
        "\n"
      ],
      "execution_count": null,
      "cell_type": "code",
      "outputs": []
    },
    {
      "metadata": {
        "id": "HvkMVNNBS0ig"
      },
      "source": [
        "\n",
        "## <h3><a href=\"https://documentation.sas.com/doc/en/pgmsascdc/9.4_3.5/proc/n18jyszn33umngn14czw2qfw7thc.htm\" style=\"color:red;\" target=\"_blank\"><strong>proc import</strong></a></h3>\n"
      ],
      "cell_type": "markdown"
    },
    {
      "metadata": {
        "id": "IYARBVPsS0ig"
      },
      "source": [
        "\n",
        "\n",
        "proc import datafile=\"/home/hvanegasp0/Curso/Municipios.xlsx\" dbms=xlsx out=Municipios replace;\n",
        "    getnames=yes;\n",
        "run;\n",
        "\n",
        "proc contents data=Municipios varnum;\n",
        "run;\n",
        "\n",
        "proc print data=Municipios (obs=10) noobs;\n",
        "run;\n",
        "\n",
        "\n"
      ],
      "execution_count": null,
      "cell_type": "code",
      "outputs": []
    },
    {
      "metadata": {
        "id": "lG4ePkxlS0ig"
      },
      "source": [
        "\n",
        "# <h1 style=\"color:red;\">3. data step </h1><h2 style=\"color:black;\">Creación, modificación y eliminación de variables/columnas</h2>\n",
        "<h2 style=\"color:black;\">Selección de registros/filas</h2>\n"
      ],
      "cell_type": "markdown"
    },
    {
      "metadata": {
        "id": "hYIWRD8fS0ij"
      },
      "source": [
        "\n",
        "<h3><a href=\"https://documentation.sas.com/doc/en/pgmsascdc/9.4_3.5/lepg/p1n8bsqqd03xppn17pgvjpjlbhhs.htm#p1q1ipyj5ltqjan1wd1bn091zw2c\" style=\"color:red;\" target=\"_blank\"><strong>Operadores aritméticos</strong></a></h3>\n",
        "<h3><a href=\"https://documentation.sas.com/doc/en/pgmsascdc/9.4_3.5/lepg/p1n8bsqqd03xppn17pgvjpjlbhhs.htm#p1adilude73mion1fsd1lehhkpoh\" style=\"color:red;\" target=\"_blank\"><strong>Operadores de comparación</strong></a></h3>\n",
        "<h3><a href=\"https://documentation.sas.com/doc/en/pgmsascdc/9.4_3.5/lepg/p1n8bsqqd03xppn17pgvjpjlbhhs.htm#p1ces81yre845mn1rg0jkr2uwxbg\" style=\"color:red;\" target=\"_blank\"><strong>Operadores lógicos</strong></a></h3>\n",
        "<h3><a href=\"https://documentation.sas.com/doc/en/pgmsascdc/9.4_3.5/lefunctionsref/n01f5qrjoh9h4hn1olbdpb5pr2td.htm\" style=\"color:red;\" target=\"_blank\"><strong>Funciones</strong></a></h3>\n"
      ],
      "cell_type": "markdown"
    },
    {
      "metadata": {
        "id": "Q8BpVN0cS0ij"
      },
      "source": [
        "\n",
        "<h3 style=\"color:red;\">Ejemplo 1</h3><p></p><p align=\"justify\"> Cuales variables del conjunto de datos Municipios tienen valores perdidos o missings? </p>\n",
        "<h3><a href=\"https://documentation.sas.com/doc/en/vdmmlcdc/8.1/lestmtsref/p1s3uhhqtscz2sn1otiatbovfn1t.htm\" style=\"color:red;\" target=\"_blank\"><strong>%include</strong></a></h3>\n"
      ],
      "cell_type": "markdown"
    },
    {
      "metadata": {
        "id": "2KNv0jlAS0ik"
      },
      "source": [
        "\n",
        "\n",
        "%include \"/home/hvanegasp0/Curso/mismacros.sas\";\n",
        "%missings(Municipios);\n",
        "\n",
        "\n"
      ],
      "execution_count": null,
      "cell_type": "code",
      "outputs": []
    },
    {
      "metadata": {
        "id": "mPRsqthfS0ik"
      },
      "source": [
        "\n",
        "<h3 style=\"color:red;\">Ejemplo 2</h3><p align=\"justify\"> Se hace \"limpieza\" en los nombres de los municipios, es decir, </p><ul>\n",
        "<li><p align=\"justify\"> Se eliminan caracteres especiales.</p></li>\n",
        "<li><p align=\"justify\"> Se eliminan espacios al inicio y al final.</p></li>\n",
        "<li><p align=\"justify\"> Se reemplazan espacios múltiples por sencillos.</p></li>\n",
        "<li><p></p><p align=\"justify\"> Se escriben en letras minúsculas excepto en la inicial de cada palabra.</p>\n",
        "<h3><a href=\"https://documentation.sas.com/doc/en/pgmsascdc/9.4_3.5/lefunctionsref/n0rrwqm16uiv4vn1t0jj0jvidgao.htm\" style=\"color:red;\" target=\"_blank\"><strong>lowcase</strong></a></h3>\n",
        "<h3><a href=\"https://documentation.sas.com/doc/en/pgmsascdc/9.4_3.5/lefunctionsref/p1si0i16bcqti7n1jxxxe1hstunq.htm\" style=\"color:red;\" target=\"_blank\"><strong>compbl</strong></a></h3>\n",
        "<h3><a href=\"https://documentation.sas.com/doc/en/pgmsascdc/9.4_3.5/lefunctionsref/n0fcshr0ir3h73n1b845c4aq58hz.htm\" style=\"color:red;\" target=\"_blank\"><strong>compress</strong></a></h3>\n",
        "<h3><a href=\"https://documentation.sas.com/doc/en/pgmsascdc/9.4_3.5/lefunctionsref/n0xk6tl87f4b4qn1sp1ywen1ntan.htm\" style=\"color:red;\" target=\"_blank\"><strong>strip</strong></a></h3>\n",
        "<h3><a href=\"https://documentation.sas.com/doc/en/pgmsascdc/9.4_3.5/lefunctionsref/n169kj2of5nur0n1bl1hubv55q63.htm\" style=\"color:red;\" target=\"_blank\"><strong>propcase</strong></a></h3>\n",
        "<h3><a href=\"https://documentation.sas.com/doc/en/pgmsascdc/v_038/lefunctionsref/n101a8jch5trh0n1bc5neq48hc89.htm\" style=\"color:red;\" target=\"_blank\"><strong>transtrn</strong></a></h3></li>\n",
        "</ul>\n"
      ],
      "cell_type": "markdown"
    },
    {
      "metadata": {
        "id": "qS4QwVIHS0ik"
      },
      "source": [
        "\n",
        "\n",
        "data Municipios;\n",
        "set Municipios;\n",
        "    Municipio2 = lowcase(Municipio);\n",
        "    Municipio2 = compress(Municipio2,\"abcdefghijklmnopqrstuvwxyzáéíóúüñ \",\"k\");\n",
        "    Municipio2 = strip(Municipio2);\n",
        "    Municipio2 = compbl(Municipio2);\n",
        "    Municipio2 = propcase(Municipio2);\n",
        "run;\n",
        "\n",
        "proc print data=Municipios (obs=10) noobs;\n",
        "    var Municipio Municipio2;\n",
        "run;\n",
        "\n",
        "data Municipios;\n",
        "set Municipios;\n",
        "    Municipio = Municipio2;\n",
        "    drop Municipio2;\n",
        "run;\n",
        "\n",
        "\n"
      ],
      "execution_count": null,
      "cell_type": "code",
      "outputs": []
    },
    {
      "metadata": {
        "id": "h_4SMwnWS0ik"
      },
      "source": [
        "\n",
        "<h3 style=\"color:red;\">Ejemplo 3</h3><p align=\"justify\"> Se hace \"limpieza\" en los nombres de los departamentos, es decir, </p><ul>\n",
        "<li><p align=\"justify\"> Se eliminan caracteres especiales.</p></li>\n",
        "<li><p align=\"justify\"> Se eliminan espacios al inicio y al final.</p></li>\n",
        "<li><p align=\"justify\"> Se reemplazan espacios múltiples por sencillos.</p></li>\n",
        "<li><p align=\"justify\"> Se escriben en letras minúsculas excepto en la inicial de cada palabra.</p></li>\n",
        "</ul>\n"
      ],
      "cell_type": "markdown"
    },
    {
      "metadata": {
        "id": "AVnMjsVSS0ik"
      },
      "source": [
        "\n",
        "\n",
        "data Municipios;\n",
        "set Municipios;\n",
        "    Departamento2 = lowcase(Departamento);\n",
        "    Departamento2 = compress(Departamento2,\"abcdefghijklmnopqrstuvwxyzáéíóúüñ \",\"k\");\n",
        "    Departamento2 = strip(Departamento2);\n",
        "    Departamento2 = compbl(Departamento2);\n",
        "    Departamento2 = propcase(Departamento2);\n",
        "run;\n",
        "\n",
        "proc print data=Municipios (obs=10) noobs;\n",
        "    var Departamento Departamento2;\n",
        "run;\n",
        "\n",
        "data Municipios;\n",
        "set Municipios;\n",
        "    Departamento = Departamento2;\n",
        "    drop Departamento2;\n",
        "run;\n",
        "\n",
        "\n"
      ],
      "execution_count": null,
      "cell_type": "code",
      "outputs": []
    },
    {
      "metadata": {
        "id": "f6B8Eaa_S0ik"
      },
      "source": [
        "\n",
        "<h3 style=\"color:red;\">Ejemplo 4</h3><p align=\"justify\"> Se hace \"limpieza\" en los nombres de las regiones, es decir, </p><ul>\n",
        "<li><p align=\"justify\"> Se eliminan caracteres especiales.</p></li>\n",
        "<li><p align=\"justify\"> Se eliminan espacios al inicio y al final.</p></li>\n",
        "<li><p align=\"justify\"> Se reemplazan espacios múltiples por sencillos.</p></li>\n",
        "<li><p align=\"justify\"> Se escriben en letras minúsculas excepto en la inicial de cada palabra.</p></li>\n",
        "<li><p align=\"justify\"> Elimine \"Región \".</p></li>\n",
        "</ul>\n"
      ],
      "cell_type": "markdown"
    },
    {
      "metadata": {
        "id": "NjjQBNk2S0ik"
      },
      "source": [
        "\n",
        "\n",
        "data Municipios;\n",
        "set Municipios;\n",
        "    Region = lowcase(Region);\n",
        "    Region = compress(Region,\"abcdefghijklmnopqrstuvwxyzáéíóúüñ \",\"k\");\n",
        "    Region = strip(Region);\n",
        "    Region = compbl(Region);\n",
        "    Region = propcase(Region);\n",
        "    Region = transtrn(Region,\"Región \",\"\");\n",
        "run;\n",
        "\n",
        "\n"
      ],
      "execution_count": null,
      "cell_type": "code",
      "outputs": []
    },
    {
      "metadata": {
        "id": "jGm1BEtNS0il"
      },
      "source": [
        "\n",
        "<h3 style=\"color:red;\">Ejemplo 5</h3><p></p><p align=\"justify\"> Se crea la variable <i>Tipo</i> igual a: <i>(i)</i> \"Capital\" para la capital de cada departamento; y <i>(ii)</i> \"Otro\" para el resto de los municipios. </p>\n"
      ],
      "cell_type": "markdown"
    },
    {
      "cell_type": "markdown",
      "source": [
        "## <h3><a href=\"https://documentation.sas.com/doc/en/pgmsascdc/9.4_3.5/lestmtsref/n1j60arf27ll4nn1ejavv3nby4pa.htm\" style=\"color:red;\" target=\"_blank\"><strong>if-then/else</strong></a></h3>\n",
        "<h3><a href=\"https://documentation.sas.com/doc/en/pgmsascdc/9.4_3.5/lefunctionsref/n1e21rr6al5m2nn19r1fat5qxwrt.htm\" style=\"color:red;\" target=\"_blank\"><strong>cats</strong></a></h3>\n",
        "<h3><a href=\"https://documentation.sas.com/doc/en/pgmsascdc/9.4_3.5/lefunctionsref/p0wqoixcwtx2jqn1ovqf06kart0o.htm\" style=\"color:red;\" target=\"_blank\"><strong>substrn</strong></a></h3>"
      ],
      "metadata": {
        "id": "L-tF_OD6Tabp"
      }
    },
    {
      "metadata": {
        "id": "XaKWHAsYS0il"
      },
      "source": [
        "\n",
        "\n",
        "data Municipios2;\n",
        "set Municipios;\n",
        "    if substrn(Depmun,3,3) = \"001\" then Tipo = \"Capital\";\n",
        "    else Tipo = \"Otro\";\n",
        "    if Depmun=\"25001\" then Tipo = \"Otro\";\n",
        "run;\n",
        "\n",
        "data Municipios3;\n",
        "set Municipios;\n",
        "    if Depmun = cats(Dep,\"001\") then Tipo = \"Capital\";\n",
        "    else Tipo = \"Otro\";\n",
        "    if Depmun=\"25001\" then Tipo = \"Otro\";\n",
        "run;\n",
        "\n",
        "proc compare base=Municipios2 compare=Municipios3;\n",
        "run;\n",
        "\n",
        "data Municipios;\n",
        "set Municipios2;\n",
        "run;\n",
        "\n",
        "proc print data=Municipios (obs=10) noobs;\n",
        "    var Dep Departamento Depmun Municipio Tipo;\n",
        "    where Tipo=\"Capital\";\n",
        "run;\n",
        "\n",
        "\n"
      ],
      "execution_count": null,
      "cell_type": "code",
      "outputs": []
    },
    {
      "metadata": {
        "id": "GzUAo99RS0il"
      },
      "source": [
        "\n",
        "<h3 style=\"color:red;\">Ejemplo 6</h3><p align=\"justify\"> Se crea la variable <i>denspobl</i> definida como el cociente entre <i>Poblacion</i> y <i>Superficie</i>. Se crea también la variable <i>Zona</i> definida como: <i>(i)</i> \"Urbano\" cuando <i>Irural</i> $ &lt;= 40$; y <i>(ii)</i> \"Rural\" cuando <i>Irural</i> $ &gt; 40$. </p>\n"
      ],
      "cell_type": "markdown"
    },
    {
      "metadata": {
        "id": "CuWO5m0xS0il"
      },
      "source": [
        "\n",
        "\n",
        "data Municipios;\n",
        "set Municipios;\n",
        "    Denspobl = Poblacion/Superficie;\n",
        "    if Irural >= 40 then Zona = \"Rural\";\n",
        "    else Zona = \"Urbano\"; \n",
        "run;\n",
        "\n",
        "\n"
      ],
      "execution_count": null,
      "cell_type": "code",
      "outputs": []
    },
    {
      "metadata": {
        "id": "QcaeniFVS0il"
      },
      "source": [
        "\n",
        "## <h3><strong><a href=\"https://documentation.sas.com/doc/en/pgmsascdc/9.4_3.2/lefunctionsref/p0s9ilagexmjl8n1u7e1t1jfnzlk.htm\" style=\"color:red;\" target=\"_blank\">Expresiones regulares</a></strong></h3>\n",
        "<h3><strong><a href=\"https://documentation.sas.com/doc/en/pgmsascdc/9.4_3.2/lefunctionsref/n0bj9p4401w3n9n1gmv6tfshit9m.htm\" style=\"color:red;\" target=\"_blank\">prxmatch</a></strong></h3>\n"
      ],
      "cell_type": "markdown"
    },
    {
      "metadata": {
        "id": "sgiqWOIjS0il"
      },
      "source": [
        "\n",
        "<h3 style=\"color:red;\">Ejemplo 7</h3><p align=\"justify\"> Conjunto de datos con las variables <i>Departamento</i>, <i>Depmun</i> y <i>Municipio</i>, y con todos los municipios cuyo nombre incluye el nombre de un santo, por ejemplo, Santa Marta, Santo Tomás, San José y Valle de San Jacinto.</p>\n"
      ],
      "cell_type": "markdown"
    },
    {
      "metadata": {
        "id": "DOT1oajQS0il"
      },
      "source": [
        "\n",
        "\n",
        "data sintildes;\n",
        "set Municipios;\n",
        "    Municipio2 = ktranslate(lowcase(Municipio),\"aeiou\",\"áéíóú\");\n",
        "    largo = length(strip(Municipio2));\n",
        "run;\n",
        "\n",
        "data Santos;\n",
        "set sintildes;\n",
        "    where prxmatch('/(^| )san( |ta |to )/',strip(Municipio2));\n",
        "    keep Departamento Depmun Municipio;      \n",
        "run;\n",
        "\n",
        "proc print data=Santos noobs;\n",
        "run;\n",
        "\n",
        "\n"
      ],
      "execution_count": null,
      "cell_type": "code",
      "outputs": []
    },
    {
      "metadata": {
        "id": "5lLz91KKS0il"
      },
      "source": [
        "\n",
        "<h3 style=\"color:red;\">Ejemplo 8</h3><p align=\"justify\"> Conjunto de datos con las variables <i>Departamento</i>, <i>Depmun</i> y <i>Municipio</i>, y con todos los municipios cuyos nombres inician y terminan con la misma vocal.</p>\n"
      ],
      "cell_type": "markdown"
    },
    {
      "metadata": {
        "id": "Q2DQ3YvHS0im"
      },
      "source": [
        "\n",
        "\n",
        "data Vocales;\n",
        "set sintildes;\n",
        "    where prxmatch('/(^a.*a$)|(^e.*e$)|(^i.*i$)|(^o.*o$)|(^u.*u$)/',strip(Municipio2));\n",
        "    keep Dep Departamento Depmun Municipio;      \n",
        "run;\n",
        "\n",
        "data Vocales2;\n",
        "set sintildes;\n",
        "    where substrn(strip(Municipio2),1,1)=substrn(strip(Municipio2),largo,1)\n",
        "          and substrn(strip(Municipio2),1,1) in (\"a\",\"e\",\"i\",\"o\",\"u\");\n",
        "    keep Dep Departamento Depmun Municipio;      \n",
        "run;\n",
        "\n",
        "proc compare base=Vocales compare=Vocales2;\n",
        "run;\n",
        "\n",
        "\n"
      ],
      "execution_count": null,
      "cell_type": "code",
      "outputs": []
    },
    {
      "metadata": {
        "id": "Lze4MyvgS0im"
      },
      "source": [
        "\n",
        "<h3 style=\"color:red;\">Ejemplo 9</h3><p align=\"justify\"> Conjunto de datos con todos los municipios cuyos nombres inician y terminan con la misma consonante.</p>\n"
      ],
      "cell_type": "markdown"
    },
    {
      "metadata": {
        "id": "qXCB0bRKS0im"
      },
      "source": [
        "\n",
        "\n",
        "data Consonantes;\n",
        "set sintildes;\n",
        "    where substrn(strip(Municipio2),1,1)=substrn(strip(Municipio2),largo,1)\n",
        "          and substrn(strip(Municipio2),1,1) not in (\"a\",\"e\",\"i\",\"o\",\"u\");\n",
        "    keep Dep Departamento Depmun Municipio;      \n",
        "run;\n",
        "\n",
        "proc print data=Consonantes noobs;\n",
        "    var Dep Departamento Depmun Municipio;\n",
        "run;\n",
        "\n",
        "\n"
      ],
      "execution_count": null,
      "cell_type": "code",
      "outputs": []
    },
    {
      "metadata": {
        "id": "nDwPd_WVS0im"
      },
      "source": [
        "\n",
        "<h3 style=\"color:red;\">Ejemplo 10</h3><p align=\"justify\"> Conjunto de datos con todas las variables excepto <i>Poblacion</i>, <i>Superficie</i> y <i>Irural</i>, y con todos los municipios cuyos nombres tienen \"A\" como primera letra y \"e\" como cuarta letra.</p>\n"
      ],
      "cell_type": "markdown"
    },
    {
      "metadata": {
        "id": "FB0MGDxeS0im"
      },
      "source": [
        "\n",
        "\n",
        "data Aes;\n",
        "set sintildes;\n",
        "    where prxmatch('/^a.{2}e/',strip(Municipio2));\n",
        "    drop Poblacion Superficie Irural;\n",
        "run;\n",
        "\n",
        "proc print data=Aes noobs;\n",
        "    var Dep Departamento Depmun Municipio;\n",
        "run;\n",
        "\n",
        "\n"
      ],
      "execution_count": null,
      "cell_type": "code",
      "outputs": []
    },
    {
      "metadata": {
        "id": "cI-m39adS0im"
      },
      "source": [
        "\n",
        "<h3 style=\"color:red;\">Ejemplo 11</h3><p align=\"justify\"> Se crea la libreria llamada <i>CursoSAS</i> y se guarda en ella el conjunto de datos <i>Municipios</i>.</p>\n"
      ],
      "cell_type": "markdown"
    },
    {
      "metadata": {
        "id": "2graKejeS0im"
      },
      "source": [
        "\n",
        "## <h3><strong><a href=\"https://documentation.sas.com/doc/en/pgmsascdc/9.4_3.5/lestmtsglobal/n1nk65k2vsfmxfn1wu17fntzszbp.htm\" style=\"color:red;\" target=\"_blank\">libname</a></strong></h3>"
      ],
      "cell_type": "markdown"
    },
    {
      "cell_type": "markdown",
      "source": [
        "## <h3><strong><a href=\"https://documentation.sas.com/doc/en/pgmsascdc/9.4_3.5/proc/p0xdkenol7pi1cn14p0iq38shax4.htm\" style=\"color:red;\" target=\"_blank\">proc datasets</a></strong></h3>\n"
      ],
      "metadata": {
        "id": "C3qcWPemTjRq"
      }
    },
    {
      "metadata": {
        "id": "8_5VBvHnS0im"
      },
      "source": [
        "\n",
        "\n",
        "libname CursoSAS \"/home/hvanegasp0/Curso/\";\n",
        "\n",
        "data CursoSAS.Municipios;\n",
        "set Municipios;\n",
        "run;\n",
        "\n",
        "proc datasets library=CursoSAS memtype=data;\n",
        "run;\n",
        "\n",
        "\n"
      ],
      "execution_count": null,
      "cell_type": "code",
      "outputs": []
    },
    {
      "metadata": {
        "id": "R6e92HKPS0in"
      },
      "source": [
        "\n",
        "<h3 style=\"color:red;\">Ejemplo 12</h3><p align=\"justify\"> Se eliminan de la libreria <i>Work</i> los conjuntos de datos <i>Municipios</i>, <i>Municipios2</i> y <i>Municipios3</i>.</p>\n"
      ],
      "cell_type": "markdown"
    },
    {
      "metadata": {
        "id": "gao20G0zS0in"
      },
      "source": [
        "\n",
        "\n",
        "proc datasets library=Work memtype=data;\n",
        "run;\n",
        "\n",
        "proc datasets library=Work memtype=data;\n",
        "    delete Municipios Municipios2 Municipios3;\n",
        "run;\n",
        "\n",
        "proc datasets library=Work memtype=data;\n",
        "run;\n",
        "\n",
        "\n"
      ],
      "execution_count": null,
      "cell_type": "code",
      "outputs": []
    },
    {
      "metadata": {
        "id": "odu9m09aS0in"
      },
      "source": [
        "\n",
        "<h3 style=\"color:black;\"><strong>Unión vertical de conjuntos de datos</strong></h3>\n"
      ],
      "cell_type": "markdown"
    },
    {
      "metadata": {
        "id": "qZv9bO-nS0in"
      },
      "source": [
        "\n",
        "\n",
        "data ds1;\n",
        "input age name$;\n",
        "cards;\n",
        "32 Messi\n",
        "35 Cr7\n",
        "59 Maradona\n",
        "79 Pele\n",
        ";\n",
        "run;\n",
        "\n",
        "proc print data=ds1 noobs;\n",
        "run;\n",
        "\n",
        "data ds2;\n",
        "input year name$;\n",
        "cards;\n",
        "1947 Cruyf\n",
        "1976 Ronaldo\n",
        "1972 Zidane\n",
        ";\n",
        "run;\n",
        "\n",
        "proc print data=ds2 noobs;\n",
        "run;\n",
        "\n",
        "\n"
      ],
      "execution_count": null,
      "cell_type": "code",
      "outputs": []
    },
    {
      "metadata": {
        "id": "0q4kS1_yS0in"
      },
      "source": [
        "\n",
        "\n",
        "data uv1;\n",
        "set ds1 ds2;\n",
        "run;\n",
        "\n",
        "proc print data=uv1 noobs;\n",
        "run;\n",
        "\n",
        "data uv2;\n",
        "set ds2 ds1;\n",
        "run;\n",
        "\n",
        "proc print data=uv2 noobs;\n",
        "run;\n",
        "\n",
        "\n"
      ],
      "execution_count": null,
      "cell_type": "code",
      "outputs": []
    },
    {
      "metadata": {
        "id": "-JU5HC94S0in"
      },
      "source": [
        "\n",
        "<h3 style=\"color:black;\"><strong>Unión horizontal de conjuntos de datos</strong></h3>\n"
      ],
      "cell_type": "markdown"
    },
    {
      "metadata": {
        "id": "VjGKMa5wS0in"
      },
      "source": [
        "\n",
        "\n",
        "data uh1;\n",
        "set ds1;\n",
        "set ds2;\n",
        "run;\n",
        "\n",
        "proc print data=uh1 noobs;\n",
        "run;\n",
        "\n",
        "data uh2;\n",
        "set ds2;\n",
        "set ds1;\n",
        "run;\n",
        "\n",
        "proc print data=uh2 noobs;\n",
        "run;\n",
        "\n",
        "\n"
      ],
      "execution_count": null,
      "cell_type": "code",
      "outputs": []
    },
    {
      "metadata": {
        "id": "9_TR8UUAS0io"
      },
      "source": [
        "\n",
        "<h3 style=\"color:red;\">Ejemplo 13</h3><p align=\"justify\"> Unión vertical de las filas 11 a 20 del conjunto de datos <i>sashelp.prdsal2</i> con las filas 111 a 120 del conjunto de datos <i>sashelp.prdsal3</i>.</p>\n"
      ],
      "cell_type": "markdown"
    },
    {
      "metadata": {
        "id": "op7W3SLqS0io"
      },
      "source": [
        "\n",
        "\n",
        "data prdsal2;\n",
        "set sashelp.prdsal2;\n",
        "    if _n_ <= 10 or _n_ > 20 then delete;\n",
        "run;\n",
        "\n",
        "data prdsal3;\n",
        "set sashelp.prdsal3;\n",
        "    if _n_ <= 110 or _n_ > 120 then delete;\n",
        "run;\n",
        "\n",
        "data prdsal;\n",
        "set prdsal2 prdsal3;\n",
        "run;\n",
        "\n",
        "proc print data=prdsal noobs;\n",
        "run;\n",
        "\n",
        "\n"
      ],
      "execution_count": null,
      "cell_type": "code",
      "outputs": []
    },
    {
      "metadata": {
        "id": "9C48T6_qS0io"
      },
      "source": [
        "\n",
        "<h3 style=\"color:red;\">Ejemplo 14</h3><p align=\"justify\"> Unión horizontal de los conjunto de datos <i>nvst1</i>, <i>nvst2</i>, <i>nvst3</i>, <i>nvst4</i> y <i>nvst5</i> de la libreria <i>sashelp</i>.</p>\n"
      ],
      "cell_type": "markdown"
    },
    {
      "metadata": {
        "id": "eoE2HBksS0io"
      },
      "source": [
        "\n",
        "\n",
        "data nvst;\n",
        "set sashelp.nvst1 (rename=(amount=amount1));\n",
        "set sashelp.nvst2 (rename=(amount=amount2));\n",
        "set sashelp.nvst3 (rename=(amount=amount3));\n",
        "set sashelp.nvst4 (rename=(amount=amount4));\n",
        "set sashelp.nvst5 (rename=(amount=amount5));\n",
        "run;\n",
        "\n",
        "proc print data=nvst noobs;\n",
        "run;\n",
        "\n",
        "\n"
      ],
      "execution_count": null,
      "cell_type": "code",
      "outputs": []
    },
    {
      "metadata": {
        "id": "6bleAfdcS0io"
      },
      "source": [
        "\n",
        "## <h1><a style=\"color:red;\">Ejercicio: sashelp.cars</a></h1><ul>\n",
        "<li><p align=\"justify\"> Para pronosticar el rendimiento, en millas por galón, de los vehículos cuando transitan por grandes autopistas se usa con frecuencia la siguiente fórmula:</p>\n",
        "$$\\frac{16850}{{\\rm Horsepower}^{0.1278}{\\rm Weight}^{0.7081}}$$\n",
        "<p align=\"justify\"> Cuales son los 5 vehículos en los que la fórmula anterior arroja las mayores sobreestimaciones relativas? Cuales son los 5 vehículos en los que la fórmula anterior arroja las mayores subestimaciones absolutas?</p></li>\n",
        "<li><p align=\"justify\"> Cree un conjunto de datos solamente con información sobre fabricante, modelo, origen, peso, caballos de fuerza y rendimiento en grandes autopistas, que incluya solamente los vehículos fabricados por Hyundai de modelos Accent, Elantra o Sonata, y en el que exista una variable definida como \"High\" para los vehículos cuyo peso es mayor a 1.2 toneladas y \"Low\" para los demás.</p></li>\n",
        "</ul>\n"
      ],
      "cell_type": "markdown"
    },
    {
      "cell_type": "code",
      "source": [
        "/************************************************/\n",
        "/************************************************/\n",
        "/***************** sashelp.cars *****************/\n",
        "/************************************************/\n",
        "/************************************************/\n",
        "\n",
        "/**************/\n",
        "/***** 1 *****/\n",
        "/**************/\n",
        "\n",
        "data cars;\n",
        "set sashelp.cars;\n",
        "\tmu = 16850/(Horsepower**(0.1278)*Weight**(0.7081));\n",
        "\tdif_abs = mpg_highway - mu;\n",
        "\tdif_rel = (mpg_highway - mu)/mpg_highway;\n",
        "run;\n",
        "\n",
        "/***** Cuales son los 5 vehículos en los que la fórmula  *****/\n",
        "/***** arroja las mayores sobreestimaciones (relativas)? *****/\n",
        "\n",
        "proc sort data=cars;\n",
        "\tby dif_rel;\n",
        "run;\n",
        "proc print data=cars (obs=5) noobs;\n",
        "\tvar make model type mpg_highway mu dif_rel;\n",
        "run;\n",
        "\n",
        "/***** Cuales son los 5 vehículos en los que la fórmula *****/\n",
        "/***** arroja las mayores subestimaciones (absolutas)?  *****/\n",
        "\n",
        "proc sort data=cars;\n",
        "\tby descending dif_abs;\n",
        "run;\n",
        "proc print data=cars (obs=5) noobs;\n",
        "\tvar make model type mpg_highway mu dif_abs;\n",
        "run;"
      ],
      "metadata": {
        "id": "SC99dppAo3_f"
      },
      "execution_count": null,
      "outputs": []
    },
    {
      "cell_type": "code",
      "source": [
        "/**************/\n",
        "/***** 2 ******/\n",
        "/**************/\n",
        "\n",
        "data cars2;\n",
        "set sashelp.cars;\n",
        "\twhere prxmatch(\"/(accent|elantra|sonata)/\",lowcase(model));\n",
        "\tif weight*0.0004535924 > 1.2 then weight2 = \"High\";\n",
        "\telse weight2 = \"Low\";\n",
        "\tkeep make model origin weight horsepower mpg_highway weight2;          \n",
        "run;"
      ],
      "metadata": {
        "id": "DULkYjO6o-Nn"
      },
      "execution_count": null,
      "outputs": []
    },
    {
      "cell_type": "code",
      "source": [
        "/**************/\n",
        "/***** 3 ******/\n",
        "/**************/\n",
        "\n",
        "proc means data=sashelp.cars nmiss;\n",
        "run;\n",
        "proc print data=sashelp.cars noobs;\n",
        "\twhere cylinders is missing;\n",
        "run;"
      ],
      "metadata": {
        "id": "BHZu3WHho_24"
      },
      "execution_count": null,
      "outputs": []
    },
    {
      "metadata": {
        "id": "AzJRlngFS0io"
      },
      "source": [
        "\n",
        "# <h1><a href=\"https://documentation.sas.com/doc/en/pgmsascdc/9.4_3.5/proc/p02bhn81rn4u64n1b6l00ftdnxge.htm\" style=\"color:red;\" target=\"_blank\">4. proc sort</a></h1><h2 style=\"color:black;\">Ordenando conjuntos de datos</h2>\n"
      ],
      "cell_type": "markdown"
    },
    {
      "metadata": {
        "id": "o3pXvVgpS0io"
      },
      "source": [
        "\n",
        "<h3 style=\"color:red;\">Ejemplo 1</h3><p align=\"justify\"> Se ordena el conjunto de datos <i>CursoSAS.Municipios</i> por <i>Region</i> (alfabéticamente), <i>Dep</i> (alfanuméricamente), <i>Zona</i> (alfabéticamente) y <i>Poblacion</i> (de mayor a menor).</p>\n"
      ],
      "cell_type": "markdown"
    },
    {
      "metadata": {
        "id": "2WYY4LiDS0io"
      },
      "source": [
        "\n",
        "\n",
        "proc sort data=CursoSAS.Municipios;\n",
        "    by Region Dep Zona descending Poblacion;\n",
        "run;\n",
        "\n",
        "\n"
      ],
      "execution_count": null,
      "cell_type": "code",
      "outputs": []
    },
    {
      "metadata": {
        "id": "pLmNE6bJS0ip"
      },
      "source": [
        "\n",
        "<h3 style=\"color:red;\">Ejemplo 2</h3><p align=\"justify\"> Cuales son los 5 municipios rurales con mayor superficie en la region Centro Oriente?</p>\n"
      ],
      "cell_type": "markdown"
    },
    {
      "metadata": {
        "id": "6M283nwvS0ip"
      },
      "source": [
        "\n",
        "\n",
        "proc sort data=CursoSAS.Municipios;\n",
        "    by descending Superficie;\n",
        "run;\n",
        "\n",
        "title \"Municipios rurales con mayor superficie en la Región Centro Oriente\";\n",
        "proc print data=CursoSAS.Municipios (obs=5) noobs;\n",
        "    var Departamento Dep Municipio Superficie;\n",
        "    where Region=\"Región Centro Oriente\" and Zona=\"Rural\";\n",
        "run;\n",
        "\n",
        "\n"
      ],
      "execution_count": null,
      "cell_type": "code",
      "outputs": []
    },
    {
      "metadata": {
        "id": "CH9h9YmuS0ip"
      },
      "source": [
        "\n",
        "<h3 style=\"color:red;\">Ejemplo 3</h3><p align=\"justify\"> Cuales son las 3 ciudades capitales con menor población en Colombia?</p>\n"
      ],
      "cell_type": "markdown"
    },
    {
      "metadata": {
        "id": "DSqEjA2XS0ip"
      },
      "source": [
        "\n",
        "\n",
        "proc sort data=CursoSAS.Municipios;\n",
        "    by Poblacion;\n",
        "run;\n",
        "\n",
        "title \"Ciudades capitales con menor población en Colombia\";\n",
        "proc print data=CursoSAS.Municipios (obs=3) noobs;\n",
        "    var Departamento Dep Municipio Poblacion;\n",
        "    where Tipo=\"Capital\";\n",
        "run;\n",
        "\n",
        "\n"
      ],
      "execution_count": null,
      "cell_type": "code",
      "outputs": []
    },
    {
      "metadata": {
        "id": "iHrz3DM5S0ip"
      },
      "source": [
        "\n",
        "# <h1><a href=\"https://documentation.sas.com/doc/en/statug/15.2/statug_freq_toc.htm\" style=\"color:red;\" target=\"_blank\">5. proc freq</a></h1><h2 style=\"color:black;\">Creación de tablas de frecuencia</h2>\n"
      ],
      "cell_type": "markdown"
    },
    {
      "metadata": {
        "id": "Adh4FRQfS0ip"
      },
      "source": [
        "\n",
        "<h3 style=\"color:red;\">Ejemplo 1</h3><p align=\"justify\"> Qué porcentaje del total representan los municipios del departamento de Norte de Santander? Cuantos municipios tiene el departamento del Valle del Cauca? Cuales son los cinco departamentos con mayor número de municipios? Qué porcentaje del total representan los municipios de estos cinco departamentos? Qué porcentaje de los municipios son rurales?</p>\n"
      ],
      "cell_type": "markdown"
    },
    {
      "metadata": {
        "id": "KMqXa5RNS0ip"
      },
      "source": [
        "\n",
        "\n",
        "proc freq data=CursoSAS.Municipios order=freq;\n",
        "    table Departamento Zona;\n",
        "run;\n",
        "\n",
        "\n"
      ],
      "execution_count": null,
      "cell_type": "code",
      "outputs": []
    },
    {
      "metadata": {
        "id": "_jCXqGDUS0ip"
      },
      "source": [
        "\n",
        "<h3 style=\"color:red;\">Ejemplo 2</h3><p align=\"justify\"> Qué porcentaje de la población habita en el departamento del Meta? Cuantos habitantes tiene el departamento del Putumayo? Cuales son los cuatro departamentos con mayor número de habitantes? Qué porcentaje de la población habita en estos cuatro departamentos?</p>\n"
      ],
      "cell_type": "markdown"
    },
    {
      "metadata": {
        "id": "bnRd_92QS0ip"
      },
      "source": [
        "\n",
        "\n",
        "proc freq data=CursoSAS.Municipios order=freq;\n",
        "    table Departamento;\n",
        "    weight Poblacion;\n",
        "    ods output OneWayFreqs=TF2;\n",
        "run;\n",
        "\n",
        "proc contents data=TF2 varnum;\n",
        "run;\n",
        "\n",
        "proc print data=TF2 (obs=10) noobs;\n",
        "run;\n",
        "\n",
        "\n"
      ],
      "execution_count": null,
      "cell_type": "code",
      "outputs": []
    },
    {
      "metadata": {
        "id": "5oDDy9--S0iq"
      },
      "source": [
        "\n",
        "<h3 style=\"color:red;\">Ejemplo 3</h3><p align=\"justify\"> Cuales son los cinco municipios más/menos poblados del departamento de Bolívar? Qué porcentaje representan estos municipios del total de la población en el departamento? Qué porcentaje de la población del departamento habita en municipios rurales?</p>\n"
      ],
      "cell_type": "markdown"
    },
    {
      "metadata": {
        "id": "EjmuAyDmS0iq"
      },
      "source": [
        "\n",
        "\n",
        "proc freq data=CursoSAS.Municipios order=freq;\n",
        "    where Dep=\"13\";\n",
        "    table Municipio Zona;\n",
        "    weight Poblacion;\n",
        "run;\n",
        "\n",
        "\n"
      ],
      "execution_count": null,
      "cell_type": "code",
      "outputs": []
    },
    {
      "metadata": {
        "id": "P8eDzHk0S0iq"
      },
      "source": [
        "\n",
        "<h3 style=\"color:red;\">Ejemplo 4</h3><p align=\"justify\"> Qué porcentaje de la superficie total de Colombia representa el departamento del Chocó? Cual es la superficie del departamento de Córdoba? Cuales son los cinco departamentos con mayor/menor superficie? Qué porcentaje representan estos cinco departamentos de la superficie total de Colombia? Qué porcentaje de la superficie del país ocupan los municipios rurales?</p>\n"
      ],
      "cell_type": "markdown"
    },
    {
      "metadata": {
        "id": "IBGkvyAdS0iq"
      },
      "source": [
        "\n",
        "\n",
        "proc freq data=CursoSAS.Municipios order=freq;\n",
        "    table Departamento Zona;\n",
        "    weight Superficie;\n",
        "run;\n",
        "\n",
        "\n"
      ],
      "execution_count": null,
      "cell_type": "code",
      "outputs": []
    },
    {
      "metadata": {
        "id": "hgoYsAnvS0iq"
      },
      "source": [
        "\n",
        "<h3 style=\"color:red;\">Ejemplo 5</h3><p align=\"justify\"> Qué porcentaje de los municipios del departamento de La Guajira son rurales? Qué porcentaje de los municipios rurales están en el departamento de Vaupés?</p>\n"
      ],
      "cell_type": "markdown"
    },
    {
      "metadata": {
        "id": "A5w_wfoOS0iq"
      },
      "source": [
        "\n",
        "\n",
        "proc freq data=CursoSAS.Municipios order=freq;\n",
        "    table Departamento*Zona;\n",
        "    ods output CrossTabFreqs=TF5;\n",
        "run;\n",
        "\n",
        "proc contents data=TF5 varnum;\n",
        "run;\n",
        "\n",
        "proc print data=TF5 (obs=10) noobs;\n",
        "run;\n",
        "\n",
        "\n"
      ],
      "execution_count": null,
      "cell_type": "code",
      "outputs": []
    },
    {
      "metadata": {
        "id": "ztfpGB2fS0iq"
      },
      "source": [
        "\n",
        "<h3 style=\"color:red;\">Ejemplo 6</h3><p align=\"justify\"> Qué porcentaje de la población del departamento de Boyacá está en municipios rurales? Qué porcentaje de la población total en municipios rurales está en el departamento de Antioquia?</p>\n"
      ],
      "cell_type": "markdown"
    },
    {
      "metadata": {
        "id": "xnDjOef3S0iq"
      },
      "source": [
        "\n",
        "\n",
        "proc freq data=CursoSAS.Municipios order=freq;\n",
        "    table Departamento*Zona;\n",
        "    weight Poblacion;\n",
        "    ods output CrossTabFreqs=TF6;\n",
        "run;\n",
        "\n",
        "proc contents data=TF6 varnum;\n",
        "run;\n",
        "\n",
        "proc print data=TF6 (obs=10) noobs;\n",
        "run;\n",
        "\n",
        "\n"
      ],
      "execution_count": null,
      "cell_type": "code",
      "outputs": []
    },
    {
      "metadata": {
        "id": "v2bCBFGlS0iq"
      },
      "source": [
        "\n",
        "<h3 style=\"color:red;\">Ejemplo 7</h3><p align=\"justify\"> Qué porcentaje de la superficie del departamento de Nariño corresponde a municipios rurales? Qué porcentaje de la superficie total en municipios rurales está en el departamento de Atlántico?</p>\n"
      ],
      "cell_type": "markdown"
    },
    {
      "metadata": {
        "id": "P00OQMbbS0ir"
      },
      "source": [
        "\n",
        "\n",
        "proc freq data=CursoSAS.Municipios order=freq;\n",
        "    table Departamento*Zona;\n",
        "    weight Superficie;\n",
        "    ods output CrossTabFreqs=TF7;\n",
        "run;\n",
        "\n",
        "proc contents data=TF7 varnum;\n",
        "run;\n",
        "\n",
        "proc print data=TF7 (obs=10) noobs;\n",
        "run;\n",
        "\n",
        "\n"
      ],
      "execution_count": null,
      "cell_type": "code",
      "outputs": []
    },
    {
      "metadata": {
        "id": "it7EsuiBS0ir"
      },
      "source": [
        "\n",
        "# <h1><a href=\"https://documentation.sas.com/doc/en/pgmsascdc/9.4_3.5/proc/p0f0fjpjeuco4gn1ri963f683mi4.htm\" style=\"color:red;\" target=\"_blank\">6. proc means</a></h1><h2 style=\"color:black;\">Cálculo de estadísticas descriptivas</h2>\n"
      ],
      "cell_type": "markdown"
    },
    {
      "metadata": {
        "id": "7ac6xAw7S0ir"
      },
      "source": [
        "\n",
        "<h3 style=\"color:red;\">Ejemplo 1</h3><p align=\"justify\"> Cálculo de algunas estadísticas descriptivas (N, mean, min, max) de las variables <i>Poblacion</i>, <i>Superficie</i> e <i>Irural</i>.</p>\n"
      ],
      "cell_type": "markdown"
    },
    {
      "metadata": {
        "id": "JS8Dtd7uS0ir"
      },
      "source": [
        "\n",
        "\n",
        "proc means data=CursoSAS.Municipios n nmiss mean min max stackodsoutput;\n",
        "    var Poblacion Superficie Irural;\n",
        "    ods output Summary=ED1;\n",
        "run;\n",
        "\n",
        "proc contents data=ED1 varnum;\n",
        "run;\n",
        "\n",
        "proc print data=ED1 (obs=10) noobs;\n",
        "run;\n",
        "\n",
        "\n"
      ],
      "execution_count": null,
      "cell_type": "code",
      "outputs": []
    },
    {
      "metadata": {
        "id": "RP2gVS-_S0ir"
      },
      "source": [
        "\n",
        "<h3 style=\"color:red;\">Ejemplo 2</h3><p align=\"justify\"> Cálculo de algunas estadísticas descriptivas (min, p25, p50, p75, max) de las variables <i>Poblacion</i>, <i>Superficie</i> e <i>Irural</i>.</p>\n"
      ],
      "cell_type": "markdown"
    },
    {
      "metadata": {
        "id": "uF9LRA0vS0ir"
      },
      "source": [
        "\n",
        "\n",
        "proc means data=CursoSAS.Municipios min p25 p50 p75 max stackodsoutput;\n",
        "    var Poblacion Superficie Irural;\n",
        "    ods output Summary=ED2;\n",
        "run;\n",
        "\n",
        "proc contents data=ED2 varnum;\n",
        "run;\n",
        "\n",
        "proc print data=ED2 (obs=10) noobs;\n",
        "run;\n",
        "\n",
        "\n"
      ],
      "execution_count": null,
      "cell_type": "code",
      "outputs": []
    },
    {
      "metadata": {
        "id": "xt2Ba-v2S0ir"
      },
      "source": [
        "\n",
        "<h3 style=\"color:red;\">Ejemplo 3</h3><p align=\"justify\"> Cálculo de algunas estadísticas descriptivas (min, p25, p50, p75, max) de las variables <i>Poblacion</i>, <i>Superficie</i> e <i>Irural</i> para cada <i>Departamento</i>.</p>\n"
      ],
      "cell_type": "markdown"
    },
    {
      "metadata": {
        "id": "AcfDJgt2S0ir"
      },
      "source": [
        "\n",
        "\n",
        "proc means data=CursoSAS.Municipios min p25 p50 p75 max stackodsoutput;\n",
        "    var Poblacion Superficie Irural;\n",
        "    class Departamento;\n",
        "    ods output Summary=ED3;\n",
        "run;\n",
        "\n",
        "proc contents data=ED3 varnum;\n",
        "run;\n",
        "\n",
        "proc print data=ED3 (obs=10) noobs;\n",
        "run;\n",
        "\n",
        "\n"
      ],
      "execution_count": null,
      "cell_type": "code",
      "outputs": []
    },
    {
      "metadata": {
        "id": "u3np_LWrS0is"
      },
      "source": [
        "\n",
        "<h3 style=\"color:red;\">Ejemplo 4</h3><p align=\"justify\"> Cálculo de algunas estadísticas descriptivas (ponderadas por la población) del índice de ruralidad en cada <i>Departamento</i>.</p>\n"
      ],
      "cell_type": "markdown"
    },
    {
      "metadata": {
        "id": "icTVE-OqS0is"
      },
      "source": [
        "\n",
        "\n",
        "proc means data=CursoSAS.Municipios min p25 mean p50 p75 max stackodsoutput;\n",
        "    var Irural;\n",
        "    class Departamento / ascend;\n",
        "    weight Poblacion;\n",
        "run;\n",
        "\n",
        "\n"
      ],
      "execution_count": null,
      "cell_type": "code",
      "outputs": []
    },
    {
      "metadata": {
        "id": "lCuUYwlRS0is"
      },
      "source": [
        "\n",
        "# <h1><a href=\"https://documentation.sas.com/doc/en/pgmsascdc/9.4_3.5/proc/p1xidhqypi0fnwn1if8opjpqpbmn.htm\" style=\"color:red;\" target=\"_blank\">7. proc format</a></h1>\n"
      ],
      "cell_type": "markdown"
    },
    {
      "metadata": {
        "id": "VgMzbWbIS0is"
      },
      "source": [
        "\n",
        "\n",
        "proc format;\n",
        "value  cylind   3-5=\"Cinco o menos cilindros\" \n",
        "                  6=\"Seis cilindros\" \n",
        "               8-12=\"Siete o más cilindros\";\n",
        "             \n",
        "value $origen \"USA\"=\"Estados Unidos\"\n",
        "              other=\"Europa y Asia\";\n",
        "run;\n",
        "\n",
        "proc print data=sashelp.cars (obs=10) noobs;\n",
        "    format cylinders cylind. origin $origen.;\n",
        "    where type = \"Sedan\";\n",
        "run;\n",
        "\n",
        "proc freq data=sashelp.cars;\n",
        "    table cylinders origin;\n",
        "    format cylinders cylind. origin $origen.;\n",
        "    where type = \"Sedan\";\n",
        "run;\n",
        "\n",
        "proc means data=sashelp.cars min p25 p50 p75 max nolabel noobs;\n",
        "    var horsepower weight;\n",
        "    class cylinders;\n",
        "    format cylinders cylind.;\n",
        "run;\n",
        "\n",
        "\n"
      ],
      "execution_count": null,
      "cell_type": "code",
      "outputs": []
    },
    {
      "metadata": {
        "id": "ab370TeeS0is"
      },
      "source": [
        "\n",
        "## <h1><a style=\"color:red;\">Ejercicio</a></h1>\n",
        "<h1><a style=\"color:red;\">sashelp.baseball</a></h1><ul>\n",
        "<li><p align=\"justify\"> Construya un conjunto de datos con los jugadores que no pertenecen ni al equipo de New York ni al equipo de Los Angeles. Cree una variable para el apellido y otra para el nombre de los jugadores.</p></li>\n",
        "<li><p align=\"justify\"> Existen beisbolistas cuyos nombres y apellidos inician con vocales?</p></li>\n",
        "<li><p align=\"justify\"> Existen beisbolistas cuyos nombres y apellidos inician con la misma vocal?</p></li>\n",
        "<li><p align=\"justify\"> Existen beisbolistas cuyos nombres y apellidos inician con la misma consonante?</p></li>\n",
        "<li><p align=\"justify\"> Cuales son los 5 jardineros izquieros (<i>LF</i>) con los salarios más altos en la liga nacional?</p></li>\n",
        "<li><p align=\"justify\"> Cuales son los 5 beisbolistas con los apellidos más cortos en la liga americana?</p></li>\n",
        "<li><p align=\"justify\"> Cuales son los 5 paracortos (<i>SS</i>) con el mayor número de <i>nOuts</i> en la división oeste?</p></li>\n",
        "<li><p align=\"justify\"> Cuales son los 5 beisbolistas con el menor número de <i>nError</i> en Chicago?</p></li>\n",
        "<li><p align=\"justify\"> Existen variables con más de 5% de valores perdidos (<i>missings</i>)? En caso afirmativo, elimínelas.</p></li>\n",
        "</ul>"
      ],
      "cell_type": "markdown"
    },
    {
      "cell_type": "code",
      "source": [
        "/************************************************/\n",
        "/************************************************/\n",
        "/*************** sashelp.baseball ***************/\n",
        "/************************************************/\n",
        "/************************************************/\n",
        "\n",
        "/**************/\n",
        "/***** 1 *****/\n",
        "/**************/\n",
        "\n",
        "data baseball;\n",
        "set sashelp.baseball;\n",
        "\tnyla = prxmatch(\"/(new york|los angeles)/\",lowcase(compbl(team)));\n",
        "\tif nyla=1 then delete;\n",
        "\tApellido = propcase(compbl(strip(scan(name,1,\",\"))));\n",
        "\tNombre = propcase(compbl(strip(scan(name,2,\",\"))));\n",
        "run;\n",
        "\n",
        "proc sort data=baseball;\n",
        "\tby League Division team position;\n",
        "run;   "
      ],
      "metadata": {
        "id": "ljAXyx9QpLEC"
      },
      "execution_count": null,
      "outputs": []
    },
    {
      "cell_type": "code",
      "source": [
        "/**************/\n",
        "/***** 2 *****/\n",
        "/**************/\n",
        "/*****  Existen beisbolistas cuyos nombres y apellidos  *****/\n",
        "/*****  inician con vocales?                            *****/\n",
        "\n",
        "proc print data=baseball noobs;\n",
        "\twhere substr(nombre,1,1) in (\"A\",\"E\",\"I\",\"O\",\"U\") and\n",
        "\t      substr(apellido,1,1) in (\"A\",\"E\",\"I\",\"O\",\"U\");\n",
        "run;\n",
        "\n",
        "/*****  Existen beisbolistas cuyos nombres y apellidos  *****/\n",
        "/*****  inician con la misma vocal?                     *****/\n",
        "\n",
        "proc print data=baseball noobs;\n",
        "\twhere substr(nombre,1,1)=substr(apellido,1,1) and\n",
        "\t      substr(nombre,1,1) in (\"A\",\"E\",\"I\",\"O\",\"U\");\n",
        "run;\n",
        "/*****  Existen beisbolistas cuyos nombres y apellidos  *****/\n",
        "/*****  inician con la misma consonante?                *****/\n",
        "\n",
        "proc print data=baseball noobs;\n",
        "\twhere substr(nombre,1,1)=substr(apellido,1,1) and\n",
        "\t      substr(nombre,1,1) not in (\"A\",\"E\",\"I\",\"O\",\"U\");\n",
        "run;      "
      ],
      "metadata": {
        "id": "6vUVo793pQjJ"
      },
      "execution_count": null,
      "outputs": []
    },
    {
      "cell_type": "code",
      "source": [
        "/**************/\n",
        "/***** 3 *****/\n",
        "/**************/\n",
        "/*****  Cuales son los 5 jardineros izquieros (LF) con  *****/ \n",
        "/*****  los salarios más altos en la liga nacional?     *****/\n",
        "\n",
        "proc sort data=baseball;\n",
        "\tby descending salary;\n",
        "run;      \n",
        "proc print data=baseball (obs=5) noobs;\n",
        "\twhere position=\"LF\" and league=\"National\";\n",
        "run;      \n",
        "\n",
        "/*****  Cuales son los 5 beisbolistas con los apellidos *****/ \n",
        "/*****  más cortos en la liga americana?                *****/\n",
        "\n",
        "data baseball;\n",
        "\tset baseball;\n",
        "\tlongitud_apellido = length(apellido);\n",
        "run;\n",
        "\n",
        "proc sort data=baseball;\n",
        "\tby longitud_apellido;\n",
        "run;      \n",
        "proc print data=baseball (obs=5) noobs;\n",
        "\twhere league=\"American\";\n",
        "run;      \n",
        "\n",
        "/*****  Cuales son los 5 paracortos (SS) con el mayor   *****/\n",
        "/*****  número de nOuts en la división oeste?           *****/\n",
        "\n",
        "proc sort data=baseball;\n",
        "\tby descending nOuts;\n",
        "run;      \n",
        "proc print data=baseball (obs=5) noobs;\n",
        "\twhere position=\"SS\" and division=\"West\";\n",
        "run;      \n",
        "\n",
        "/*****     Cuales son los 5 beisbolistas con el menor   *****/ \n",
        "/*****     número de nError en Chicago?                 *****/\n",
        "\n",
        "proc sort data=baseball;\n",
        "\tby nError;\n",
        "run;      \n",
        "proc print data=baseball (obs=5) noobs;\n",
        "\twhere team=\"Chicago\";\n",
        "run;      "
      ],
      "metadata": {
        "id": "C6VnlM4EpS3p"
      },
      "execution_count": null,
      "outputs": []
    },
    {
      "cell_type": "code",
      "source": [
        "/**************/\n",
        "/***** 4 *****/\n",
        "/**************/\n",
        "/*****    Existen variables con más de 5% de valores    *****/ \n",
        "/*****    perdidos (missings)? En caso afirmativo,      *****/\n",
        "/*****    elimínelas.                                   *****/\n",
        "\n",
        "proc means data=baseball n nmiss;\n",
        "run;\n",
        "data baseball;\n",
        "set baseball;\n",
        "\tdrop salary logsalary;\n",
        "run;"
      ],
      "metadata": {
        "id": "g8KM5lSvpVAy"
      },
      "execution_count": null,
      "outputs": []
    },
    {
      "cell_type": "markdown",
      "source": [
        "<h1><a style=\"color:red;\">sashelp.heart</a></h1><ul>\n",
        "<li><p align=\"justify\"> Qué porcentaje de las personas con sobrepeso (<i>Weight_Status</i>) falleció?</p></li>\n",
        "<li><p align=\"justify\"> A medida que aumenta la presión arterial (<i>BP_Status</i>) el porcentaje de pacientes que fallece también aumenta?</p></li>\n",
        "<li><p align=\"justify\"> La media y la mediana del colesterol (<i>Cholesterol</i>) es mayor entre los fallecidos que entre los que sobrevivieron?</p></li>\n",
        "<li><p align=\"justify\"> A medida que aumenta la frecuencia del hábito de fumar (<i>Smoking_Status</i>) el porcentaje de personas que fallece también aumenta?</p></li>\n",
        "<li><p align=\"justify\"> La media y la mediana del número de cigarrilos consumidos (<i>Smoking</i>) es mayor entre los fallecidos que entre los que sobrevivieron?</p></li>\n",
        "<li><p align=\"justify\"> El porcentaje de pacientes que fallece es mayor entre hombres que entre mujeres (<i>Sex</i>)?</p></li>\n",
        "<li><p align=\"justify\"> Hay valores perdidos (<i>missing</i>) en las variables que se usaron para responder las preguntas en los ítems anteriores? Cuantos?</p></li>\n",
        "</ul>\n"
      ],
      "metadata": {
        "id": "3QyoupMqpKAd"
      }
    },
    {
      "cell_type": "code",
      "source": [
        "/************************************************/\n",
        "/************************************************/\n",
        "/**************** sashelp.heart *****************/\n",
        "/************************************************/\n",
        "/************************************************/\n",
        "\n",
        "/**************/\n",
        "/***** 1 *****/\n",
        "/**************/\n",
        "/*****    Qué porcentaje de las personas con sobrepeso (Weight_Status) falleció?    *****/ \n",
        "\n",
        "proc freq data=sashelp.heart;  \n",
        "\ttable Weight_Status*status / nopercent nocol;\n",
        "run;"
      ],
      "metadata": {
        "id": "dEfg3hwqpeoZ"
      },
      "execution_count": null,
      "outputs": []
    },
    {
      "cell_type": "code",
      "source": [
        "/**************/\n",
        "/***** 2 *****/\n",
        "/**************/\n",
        "/*****    A medida que aumenta la presión arterial (BP_Status) el    *****/ \n",
        "/*****    porcentaje de pacientes que fallece también aumenta?       *****/ \n",
        "\n",
        "proc freq data=sashelp.heart;  \n",
        "\ttable BP_Status*status / nopercent nocol;\n",
        "run;"
      ],
      "metadata": {
        "id": "us0W-T_fph1C"
      },
      "execution_count": null,
      "outputs": []
    },
    {
      "cell_type": "code",
      "source": [
        "/**************/\n",
        "/***** 3 *****/\n",
        "/**************/\n",
        "/*****    La media y la mediana del colesterol (Cholesterol) es\t\t\t *****/ \n",
        "/*****    mayor entre los fallecidos que entre los que sobrevivieron?    *****/ \n",
        "\n",
        "proc means mean p50 data=sashelp.heart;  \n",
        "\tvar Cholesterol;\n",
        "\tclass status;\n",
        "run;"
      ],
      "metadata": {
        "id": "7sK1SP2kpjZS"
      },
      "execution_count": null,
      "outputs": []
    },
    {
      "cell_type": "code",
      "source": [
        "/**************/\n",
        "/***** 4 *****/\n",
        "/**************/\n",
        "/*****    A medida que aumenta la frecuencia del hábito de fumar\t         *****/\n",
        "/*****    (Smoking_Status) el porcentaje de personas que fallece también\t *****/\n",
        "/*****    aumenta? \t\t\t\t\t\t\t\t\t\t\t\t\t\t\t *****/\n",
        "\n",
        "proc freq data=sashelp.heart;  \n",
        "\ttable Smoking_Status*status / nopercent nocol;\n",
        "run;"
      ],
      "metadata": {
        "id": "VCQRd9zfplEC"
      },
      "execution_count": null,
      "outputs": []
    },
    {
      "cell_type": "code",
      "source": [
        "/**************/\n",
        "/***** 5 *****/\n",
        "/**************/\n",
        "/*****    La media y la mediana del número de cigarrilos consumidos (Smoking) *****/\n",
        "/*****    es mayor entre los fallecidos que entre los que sobrevivieron?      *****/\n",
        "\n",
        "proc means mean p50 data=sashelp.heart;  \n",
        "\tvar Smoking;\n",
        "\tclass status;\n",
        "run;"
      ],
      "metadata": {
        "id": "8Eb7th6apmSa"
      },
      "execution_count": null,
      "outputs": []
    },
    {
      "cell_type": "code",
      "source": [
        "/**************/\n",
        "/***** 6 *****/\n",
        "/**************/\n",
        "/*****    El porcentaje de pacientes que fallece es mayor entre hombres  *****/\n",
        "/*****    que entre mujeres (Sex)?                                       *****/\n",
        "\n",
        "proc freq data=sashelp.heart;  \n",
        "\ttable Sex*status / nopercent nocol;\n",
        "run;"
      ],
      "metadata": {
        "id": "yBoW2Ik3pnjy"
      },
      "execution_count": null,
      "outputs": []
    },
    {
      "metadata": {
        "id": "8HngmAuPS0is"
      },
      "source": [
        "\n",
        "# <h1><a href=\"https://documentation.sas.com/doc/en/pgmsascdc/9.4_3.5/sqlproc/n1oihmdy7om5rmn1aorxui3kxizl.htm\" style=\"color:red;\" target=\"_blank\">8. proc sql</a></h1><p></p><h2 style=\"color:black;\">Consulta, transformación, y creación de conjuntos de datos</h2>\n",
        "<img height=\"350\" src=\"https://sas2022.netlify.app/sql.png\" width=\"700\"/>\n"
      ],
      "cell_type": "markdown"
    },
    {
      "metadata": {
        "id": "eOKBQGxqS0is"
      },
      "source": [
        "\n",
        "<p><strong>Ejemplo 1</strong></p>\n",
        "<p align=\"justify\"> Conjunto de datos con las variables <i>Departamento</i>, <i>Dep</i>, <i>Depmun</i>, <i>Municipio</i>, <i>Superficie</i> y <i>Poblacion</i> que incluye todos los municipios de los departamentos de Antioquia y Caldas con más de 20 mil habitantes y donde los mismos están ordenados con respecto a <i>Dep</i> y de mayor a menor con respecto a <i>Poblacion</i>.</p>\n"
      ],
      "cell_type": "markdown"
    },
    {
      "metadata": {
        "id": "bwsStEj-S0is"
      },
      "source": [
        "\n",
        "\n",
        "proc sql;\n",
        "create table E1 as\n",
        "    select Departamento, Dep, Depmun, Municipio, Superficie, Poblacion\n",
        "    from CursoSAS.Municipios\n",
        "    where Dep in (\"05\",\"17\") and Poblacion > 20000\n",
        "    order by Dep asc, Poblacion desc;\n",
        "quit;\n",
        "\n",
        "\n"
      ],
      "execution_count": null,
      "cell_type": "code",
      "outputs": []
    },
    {
      "metadata": {
        "id": "EGGVyj1gS0is"
      },
      "source": [
        "\n",
        "<p><strong>Ejemplo 2</strong></p>\n",
        "<p align=\"justify\"> Conjunto de datos con las variables <i>Departamento</i>, <i>Dep</i>, <i>Depmun</i>, <i>Municipio</i>, <i>Superficie</i> y <i>Poblacion</i> que incluye todos los municipios con superficies menores a 300 $km^2$ excepto los de Boyacá y Santander, y que están ordenados por <i>Dep</i> y de mayor a menor por <i>Poblacion</i>. Incluye una variable definida como \"Baja\" para los municipios con denspobl menor a 30, \"Alta\" para los municipios con <i>denspobl</i> mayor a 85, y \"Media\" para los demás.</p>\n"
      ],
      "cell_type": "markdown"
    },
    {
      "metadata": {
        "id": "JkKzTRGTS0it"
      },
      "source": [
        "\n",
        "\n",
        "proc sql;\n",
        "    create table E2 as\n",
        "    select    Departamento, Dep, Depmun, Municipio, Superficie, \n",
        "              Poblacion, case when denspobl < 30 then \"Baja\"\n",
        "                              when denspobl > 85 then \"Alta\"\n",
        "                              else \"Mediana\"\n",
        "                         end as denspoblC\n",
        "    from      CursoSAS.Municipios\n",
        "    where     Dep not in (\"15\",\"68\") and Superficie < 300\n",
        "    order by  Dep asc, Poblacion desc;\n",
        "quit;\n",
        "\n",
        "\n"
      ],
      "execution_count": null,
      "cell_type": "code",
      "outputs": []
    },
    {
      "metadata": {
        "id": "wNNfBMCGS0it"
      },
      "source": [
        "\n",
        "<p><strong>Ejemplo 3</strong></p>\n",
        "<p align=\"justify\"> Existen dos o más municipios con el mismo <i>Depmun</i>?</p>\n"
      ],
      "cell_type": "markdown"
    },
    {
      "metadata": {
        "id": "anI16pONS0it"
      },
      "source": [
        "\n",
        "\n",
        "proc sql;\n",
        "    select   Depmun, count(*) as repeticiones\n",
        "    from     CursoSAS.Municipios\n",
        "    group by Depmun\n",
        "    having   repeticiones > 1;\n",
        "\n",
        "    select count(*) as total_filas, count(distinct Depmun) as total_depmuns\n",
        "    from   CursoSAS.Municipios;\n",
        "quit;\n",
        "\n",
        "\n"
      ],
      "execution_count": null,
      "cell_type": "code",
      "outputs": []
    },
    {
      "metadata": {
        "id": "3yApr6uzS0it"
      },
      "source": [
        "\n",
        "<p><strong>Ejemplo 4</strong></p>\n",
        "<p align=\"justify\"> De los departamentos con dos o más municipios cual es el menos homogeneo (de acuerdo al coeficiente de variación) con respecto a la superficie de los municipios que lo componen?</p>\n"
      ],
      "cell_type": "markdown"
    },
    {
      "metadata": {
        "id": "3zBCg2OFS0it"
      },
      "source": [
        "\n",
        "\n",
        "proc sql outobs=1;\n",
        "    select   Departamento, Dep, cv(Superficie) as cvar\n",
        "    from     CursoSAS.Municipios\n",
        "    group by Departamento, Dep\n",
        "    having   count(*) > 1\n",
        "    order by cvar desc;\n",
        "quit;    \n",
        "\n",
        "\n"
      ],
      "execution_count": null,
      "cell_type": "code",
      "outputs": []
    },
    {
      "metadata": {
        "id": "Wk7WXstpS0it"
      },
      "source": [
        "\n",
        "<p><strong>Ejemplo 5</strong></p>\n",
        "<p align=\"justify\"> De los departamentos con dos o más municipios cual es el más homogeneo (de acuerdo al coeficiente de variación) con respecto a la superficie de los municipios que lo componen?</p>\n"
      ],
      "cell_type": "markdown"
    },
    {
      "metadata": {
        "id": "_QbHlByWS0it"
      },
      "source": [
        "\n",
        "\n",
        "proc sql outobs=1;\n",
        "    select   Departamento, Dep, cv(Superficie) as cvar\n",
        "    from     CursoSAS.Municipios\n",
        "    group by Departamento, Dep\n",
        "    having   count(*) > 1\n",
        "    order by cvar asc;\n",
        "quit;    \n",
        "\n",
        "\n"
      ],
      "execution_count": null,
      "cell_type": "code",
      "outputs": []
    },
    {
      "metadata": {
        "id": "qcNEuno9S0it"
      },
      "source": [
        "\n",
        "<p><strong>Ejemplo 6</strong></p>\n",
        "<p align=\"justify\"> Conjunto de datos con todos los departamentos, ordenados de mayor a menor con respecto a su población, que incluye la siguiente información: número de municipios, superficie, población, densidad poblacional, índice de ruralidad promedio ponderado por población, y una variable igual a \"Grande\" para los departamentos con población mayor a 1.5 millones de habitantes, \"Pequeño\" para departamentos con población menor a \n",
        "300 mil habitantes, y \"Mediano\" para el resto.</p>\n"
      ],
      "cell_type": "markdown"
    },
    {
      "metadata": {
        "id": "nfCJA1gHS0iu"
      },
      "source": [
        "\n",
        "\n",
        "proc sql;\n",
        "    create table E6 as\n",
        "    select   Dep, Departamento, count(*) as nmunicipios, sum(Poblacion) as totpobl, \n",
        "             sum(Superficie) as totsuper, sum(Poblacion)/sum(Superficie) as denspobl,\n",
        "             sum(Irural*Poblacion)/sum(Poblacion) as Irural,\n",
        "             case when sum(Poblacion) > 1500000 then \"Grande\"\n",
        "                  when sum(Poblacion) < 300000 then \"Pequeño\"\n",
        "                  else \"Mediano\"\n",
        "             end as totpoblC\n",
        "    from     CursoSAS.Municipios\n",
        "    group by Dep, Departamento\n",
        "    order by totpobl desc;\n",
        "quit;\n",
        "\n",
        "\n"
      ],
      "execution_count": null,
      "cell_type": "code",
      "outputs": []
    },
    {
      "metadata": {
        "id": "bSFDYvlqS0iu"
      },
      "source": [
        "\n",
        "<p><strong>Ejemplo 7</strong></p>\n",
        "<p align=\"justify\"> Cual es la región con la mayor superficie?</p>\n"
      ],
      "cell_type": "markdown"
    },
    {
      "metadata": {
        "id": "Lf0spqwgS0iu"
      },
      "source": [
        "\n",
        "\n",
        "proc sql outobs=1;\n",
        "    select   Region,  sum(Superficie) as sup\n",
        "    from     CursoSAS.Municipios\n",
        "    group by Region\n",
        "    order by sup desc;\n",
        "quit;\n",
        "\n",
        "\n"
      ],
      "execution_count": null,
      "cell_type": "code",
      "outputs": []
    },
    {
      "metadata": {
        "id": "D4Sww9gXS0iu"
      },
      "source": [
        "\n",
        "<p><strong>Ejemplo 8</strong></p>\n",
        "<p align=\"justify\"> Conjunto de datos con todos los departamentos, ordenados de mayor a menor con respecto a su población, que incluye la siguiente información: número de municipios, superficie, población, densidad poblacional, todo referente a los municipios con índice de ruralidad mayor a 60.</p>\n"
      ],
      "cell_type": "markdown"
    },
    {
      "metadata": {
        "id": "C-dHa2aAS0iu"
      },
      "source": [
        "\n",
        "\n",
        "proc sql;\n",
        "    create table E8 as\n",
        "    select   Dep, Departamento, count(*) as nmunicipios, sum(Poblacion) as totpobl,\n",
        "             sum(Superficie) as totsuper, sum(Poblacion)/sum(Superficie) as denspobl\n",
        "    from     CursoSAS.Municipios\n",
        "    where    Irural > 60\n",
        "    group by Dep, Departamento\n",
        "    order by totpobl desc;\n",
        "quit;    \n",
        "\n",
        "\n"
      ],
      "execution_count": null,
      "cell_type": "code",
      "outputs": []
    },
    {
      "metadata": {
        "id": "njYoUSmkS0iu"
      },
      "source": [
        "\n",
        "<p><strong>Ejemplo 9</strong></p>\n",
        "<p align=\"justify\"> Cual es la región con el mayor número de departamentos?</p>\n"
      ],
      "cell_type": "markdown"
    },
    {
      "metadata": {
        "id": "T7Nt8axTS0iu"
      },
      "source": [
        "\n",
        "\n",
        "proc sql outobs=1;\n",
        "    select   Region, count(distinct Dep) as Deps\n",
        "    from     CursoSAS.Municipios\n",
        "    group by Region\n",
        "    order by Dep desc;\n",
        "quit;\n",
        "\n",
        "\n"
      ],
      "execution_count": null,
      "cell_type": "code",
      "outputs": []
    },
    {
      "metadata": {
        "id": "Xm6dDyZaS0iu"
      },
      "source": [
        "\n",
        "<p><strong>Ejemplo 10</strong></p>\n",
        "<p align=\"justify\"> Conjunto de datos con todos los departamentos con al menos 650 mil habitantes y al menos 10 mil $km^2$ de superficie, ordenados de mayor a menor con relación a su densidad poblacional, y que incluye la siguiente información: número de municipios, superficie, población y densidad poblacional.</p>\n"
      ],
      "cell_type": "markdown"
    },
    {
      "metadata": {
        "id": "v-s0Sn-rS0iu"
      },
      "source": [
        "\n",
        "\n",
        "proc sql;\n",
        "    create table E10 as\n",
        "    select   Dep, Departamento, count(*) as nmunicipios, sum(Poblacion) as totpobl,\n",
        "             sum(Superficie) as totsuper, sum(Poblacion)/sum(Superficie) as denspobl\n",
        "    from     CursoSAS.Municipios\n",
        "    group by Dep, Departamento\n",
        "    having   totpobl >= 650000 and totsuper >= 10000\n",
        "    order by denspobl desc;\n",
        "quit;    \n",
        "\n",
        "\n"
      ],
      "execution_count": null,
      "cell_type": "code",
      "outputs": []
    },
    {
      "metadata": {
        "id": "SSaS0jADS0iu"
      },
      "source": [
        "\n",
        "<p><strong>Ejemplo 11</strong></p>\n",
        "<p align=\"justify\"> Conjunto de datos con todos los departamentos con al menos 650 mil habitantes y al menos 10 mil de superficie, ordenados de mayor a menor con relación a su densidad poblacional, y que incluye la siguiente información: número de municipios, superficie, población, y densidad poblacional, todo referente a municipios con índice de ruralidad mayor a 40.</p>\n"
      ],
      "cell_type": "markdown"
    },
    {
      "metadata": {
        "id": "0Lcc2u4ES0iv"
      },
      "source": [
        "\n",
        "\n",
        "proc sql;\n",
        "    create table E11 as\n",
        "    select   Dep, Departamento, count(*) as nmunicipios, sum(Poblacion) as totpobl,\n",
        "             sum(Superficie) as totsuper, sum(Poblacion)/sum(Superficie) as denspobl\n",
        "    from     CursoSAS.Municipios\n",
        "    where    Irural > 40\n",
        "    group by Dep, Departamento\n",
        "    having   totpobl >= 650000 and totsuper >= 10000\n",
        "    order by denspobl desc;\n",
        "quit;\n",
        "\n",
        "\n"
      ],
      "execution_count": null,
      "cell_type": "code",
      "outputs": []
    },
    {
      "metadata": {
        "id": "V-_FWojnS0iv"
      },
      "source": [
        "\n",
        "<p><strong>Ejemplo 12</strong></p>\n",
        "<p align=\"justify\"> Existen dos o más municipios con el mismo nombre? Cuantos? Cuales? En qué departamentos están ubicados?</p>\n"
      ],
      "cell_type": "markdown"
    },
    {
      "metadata": {
        "id": "0xAaVcM5S0iv"
      },
      "source": [
        "\n",
        "\n",
        "proc sql;\n",
        "    create table Repetidos as\n",
        "    select   Municipio, count(*) as veces\n",
        "    from     CursoSAS.Municipios\n",
        "    group by Municipio\n",
        "    having   count(*) > 1\n",
        "    order by veces desc;\n",
        "\n",
        "    create table E12 as\n",
        "    select   Municipio, Departamento, Dep, Depmun\n",
        "    from     CursoSAS.Municipios\n",
        "    where    Municipio in (select Municipio\n",
        "                           from   Repetidos)\n",
        "    order by Municipio asc, Departamento asc;\n",
        "quit;\n",
        "\n",
        "\n"
      ],
      "execution_count": null,
      "cell_type": "code",
      "outputs": []
    },
    {
      "metadata": {
        "id": "0_EsL8gzS0iv"
      },
      "source": [
        "\n",
        "\n",
        "proc sql;\n",
        "    create table E12a as\n",
        "    select   Municipio, Departamento, Dep, Depmun\n",
        "    from     CursoSAS.Municipios\n",
        "    where    Municipio in (select   Municipio\n",
        "                           from     CursoSAS.Municipios\n",
        "                           group by Municipio\n",
        "                           having   count(*) > 1)\n",
        "    order by Municipio asc, Departamento asc;\n",
        "quit;\n",
        "\n",
        "proc compare base=E12 compare=E12a;\n",
        "run;\n",
        "\n",
        "\n"
      ],
      "execution_count": null,
      "cell_type": "code",
      "outputs": []
    },
    {
      "metadata": {
        "id": "g9YHZndkS0iv"
      },
      "source": [
        "\n",
        "<p><strong>Ejemplo 13</strong></p>\n",
        "<p align=\"justify\"> Existen dos o más municipios con el mismo nombre que hacen parte de la misma región? Cuantos? Cuales?</p>\n"
      ],
      "cell_type": "markdown"
    },
    {
      "metadata": {
        "id": "ZOwWmL_kS0iv"
      },
      "source": [
        "\n",
        "\n",
        "proc sql;\n",
        "    create table Repetidos as\n",
        "    select   Region, Municipio, count(*) as veces\n",
        "    from     CursoSAS.Municipios\n",
        "    group by Region, Municipio\n",
        "    having   veces > 1\n",
        "    order by veces desc;\n",
        "\n",
        "    create table E13 as\n",
        "    select   Municipio, Region, Departamento, Dep, Depmun\n",
        "    from     CursoSAS.Municipios\n",
        "    where    cats(Region,Municipio) in (select cats(Region,Municipio)\n",
        "                                        from   Repetidos)\n",
        "    order by Municipio asc, Region asc;\n",
        "quit;\n",
        "\n",
        "\n"
      ],
      "execution_count": null,
      "cell_type": "code",
      "outputs": []
    },
    {
      "metadata": {
        "id": "AY173Nw3S0iv"
      },
      "source": [
        "\n",
        "\n",
        "proc sql;\n",
        "    create table E13a as\n",
        "    select   Municipio, Region, Departamento, Dep, Depmun\n",
        "    from     CursoSAS.Municipios\n",
        "    where    cats(Region,Municipio) in (select   cats(Region,Municipio)\n",
        "                                        from     CursoSAS.Municipios\n",
        "                                        group by Region, Municipio\n",
        "                                        having   count(*) > 1)\n",
        "    order by Municipio asc, Region asc;\n",
        "quit;\n",
        "\n",
        "proc compare base=E13 compare=E13a;\n",
        "run;\n",
        "\n",
        "\n"
      ],
      "execution_count": null,
      "cell_type": "code",
      "outputs": []
    },
    {
      "metadata": {
        "id": "MUEjjfzOS0iv"
      },
      "source": [
        "\n",
        "## <h3><strong><a href=\"https://documentation.sas.com/doc/en/pgmsascdc/9.4_3.2/lefunctionsref/p0s9ilagexmjl8n1u7e1t1jfnzlk.htm\" style=\"color:red;\" target=\"_blank\">Expresiones regulares</a></strong></h3>\n",
        "<h3><strong><a href=\"https://documentation.sas.com/doc/en/pgmsascdc/9.4_3.2/lefunctionsref/n0bj9p4401w3n9n1gmv6tfshit9m.htm\" style=\"color:red;\" target=\"_blank\">prxmatch</a></strong></h3>\n"
      ],
      "cell_type": "markdown"
    },
    {
      "metadata": {
        "id": "H-1B5phjS0iw"
      },
      "source": [
        "\n",
        "<p><strong>Ejemplo 14</strong></p>\n",
        "<p align=\"justify\"> Conjunto de datos con los municipios cuyos nombres inician con \"A\" o terminan con \"o\", no importa si llevan tilde o no.</p>\n"
      ],
      "cell_type": "markdown"
    },
    {
      "metadata": {
        "id": "KgYvbi5yS0iw"
      },
      "source": [
        "\n",
        "\n",
        "proc sql;\n",
        "    create table E14 as\n",
        "    select Municipios.*\n",
        "    from   CursoSAS.Municipios\n",
        "    where  prxmatch('/(^(A|Á)|(o|ó)$)/',strip(Municipio));\n",
        "quit;    \n",
        "\n",
        "\n"
      ],
      "execution_count": null,
      "cell_type": "code",
      "outputs": []
    },
    {
      "metadata": {
        "id": "oz6eSPVdS0iw"
      },
      "source": [
        "\n",
        "<p><strong>Ejemplo 15</strong></p>\n",
        "<p align=\"justify\"> Conjunto de datos con los municipios cuyos nombres inician con \"A\" y terminan con \"o\", no importa si llevan tilde o no.</p>\n"
      ],
      "cell_type": "markdown"
    },
    {
      "metadata": {
        "id": "chzQh6GqS0iw"
      },
      "source": [
        "\n",
        "\n",
        "proc sql;\n",
        "    create table E15 as\n",
        "    select Dep, Departamento, Municipio, Depmun\n",
        "    from   CursoSAS.Municipios\n",
        "    where  prxmatch('/^(A|Á).*(o|ó)$/',strip(Municipio));\n",
        "quit;\n",
        "\n",
        "\n"
      ],
      "execution_count": null,
      "cell_type": "code",
      "outputs": []
    },
    {
      "metadata": {
        "id": "gW2Jp4UlS0iw"
      },
      "source": [
        "\n",
        "<p><strong>Ejemplo 16</strong></p>\n",
        "<p align=\"justify\"> Conjunto de datos con los municipios cuyo nombre tiene a la letra \"e\" en las posiciones 2 y 4, no importa si llevan tilde o no.</p>\n"
      ],
      "cell_type": "markdown"
    },
    {
      "metadata": {
        "id": "1ZZ8CuhZS0iw"
      },
      "source": [
        "\n",
        "\n",
        "proc sql;\n",
        "    create table E16 as\n",
        "    select Dep, Departamento, Municipio, Depmun\n",
        "    from   CursoSAS.Municipios\n",
        "    where  prxmatch('/^.{1}(e|é).{1}(e|é)/',strip(lowcase(Municipio)));\n",
        "quit;\n",
        "\n",
        "\n"
      ],
      "execution_count": null,
      "cell_type": "code",
      "outputs": []
    },
    {
      "metadata": {
        "id": "jejOYcYoS0iw"
      },
      "source": [
        "\n",
        "<p><strong>Ejemplo 17</strong></p>\n",
        "<p></p><p align=\"justify\"> Cuantos municipios tienen nombres que constan de 1 palabra (2 palabras) [3 palabras]?</p>\n",
        "<h3><strong><a href=\"https://documentation.sas.com/doc/en/pgmsascdc/v_038/lefunctionsref/n1qcntq4r6p3w3n1mtsnm58tbomc.htm\" style=\"color:red;\" target=\"_blank\">countc</a></strong></h3>\n"
      ],
      "cell_type": "markdown"
    },
    {
      "metadata": {
        "id": "gOnlwEhLS0iw"
      },
      "source": [
        "\n",
        "\n",
        "proc sql;\n",
        "    create table E17 as\n",
        "    select Dep, Departamento, Municipio, Depmun, (countc(strip(Municipio),\" \")+1) as np\n",
        "    from   CursoSAS.Municipios;\n",
        "quit;      \n",
        "proc freq data=E17;\n",
        "    table np;\n",
        "run;\n",
        "\n",
        "\n"
      ],
      "execution_count": null,
      "cell_type": "code",
      "outputs": []
    },
    {
      "metadata": {
        "id": "IfQvcW10S0iw"
      },
      "source": [
        "\n",
        "<p><img height=\"350\" src=\"https://sas2022.netlify.app/sql3.png\" width=\"700\"/>\n",
        "<img height=\"350\" src=\"https://sas2022.netlify.app/sql2.png\" width=\"700\"/></p>\n"
      ],
      "cell_type": "markdown"
    },
    {
      "metadata": {
        "id": "iW2B2qXVS0ix"
      },
      "source": [
        "\n",
        "<p><strong>Ejemplo 18</strong></p>\n",
        "<p align=\"justify\"> Cuantos y cuales municipios tienen al menos una estación de monitoreo climático?</p>\n"
      ],
      "cell_type": "markdown"
    },
    {
      "metadata": {
        "id": "fimqSJyES0ix"
      },
      "source": [
        "\n",
        "\n",
        "proc import datafile=\"/home/hvanegasp0/Curso/Estaciones.xlsx\" dbms=xlsx out=Estaciones replace; \n",
        "    getnames=yes;\n",
        "run;\n",
        "\n",
        "proc contents data=Estaciones;\n",
        "run;\n",
        "\n",
        "proc print data=Estaciones (obs=10) noobs;\n",
        "run;\n",
        "\n",
        "%include \"/home/hvanegasp0/Curso/mismacros.sas\";\n",
        "%missings(Estaciones);\n",
        "\n",
        "\n"
      ],
      "execution_count": null,
      "cell_type": "code",
      "outputs": []
    },
    {
      "metadata": {
        "id": "exlGUJI9S0ix"
      },
      "source": [
        "\n",
        "\n",
        "proc sql;\n",
        "    select count(distinct Depmun) as nmunicipios\n",
        "    from   Estaciones;\n",
        "quit;\n",
        "\n",
        "\n"
      ],
      "execution_count": null,
      "cell_type": "code",
      "outputs": []
    },
    {
      "metadata": {
        "id": "qxrTrM-pS0ix"
      },
      "source": [
        "\n",
        "<p><strong>Ejemplo 19</strong></p>\n",
        "<p align=\"justify\"> Conjunto de datos con todos los municipios del país, que incluye una variable que informa el número de estaciones de monitoreo climático con que cuenta cada municipio.</p>\n"
      ],
      "cell_type": "markdown"
    },
    {
      "metadata": {
        "id": "Q7GaayIHS0ix"
      },
      "source": [
        "\n",
        "\n",
        "proc sql;\n",
        "    create table Emon as\n",
        "    select   Depmun, count(*) as nem\n",
        "    from     Estaciones\n",
        "    group by Depmun;\n",
        "\n",
        "    create table E19 as\n",
        "    select Municipios.*, case when nem is null then 0\n",
        "                             else nem \n",
        "                         end as nest\n",
        "    from   CursoSAS.Municipios as Municipios left join Emon on (Municipios.Depmun = Emon.Depmun);\n",
        "quit;\n",
        "\n",
        "\n"
      ],
      "execution_count": null,
      "cell_type": "code",
      "outputs": []
    },
    {
      "metadata": {
        "id": "oVu7anTpS0ix"
      },
      "source": [
        "\n",
        "<p><strong>Ejemplo 20</strong></p>\n",
        "<p align=\"justify\"> Existen municipios que no tienen ninguna estación de monitoreo climático? Cuantos? Cuales?</p>\n"
      ],
      "cell_type": "markdown"
    },
    {
      "metadata": {
        "id": "GNmZ_bvIS0ix"
      },
      "source": [
        "\n",
        "\n",
        "proc sql;\n",
        "    create table E20 as\n",
        "    select   Municipios.*\n",
        "    from     CursoSAS.Municipios as Municipios left join Emon on (Municipios.Depmun = Emon.Depmun)\n",
        "    where    nem is NULL\n",
        "    order by Depmun;\n",
        "\n",
        "    create table E20a as\n",
        "    select   Municipios.*\n",
        "    from     CursoSAS.Municipios as Municipios\n",
        "    where    Depmun not in (select distinct Depmun\n",
        "                            from   Estaciones)\n",
        "    order by Depmun;\n",
        "quit;\n",
        "\n",
        "proc compare base=E20 compare=E20a;\n",
        "run;\n",
        "\n",
        "\n"
      ],
      "execution_count": null,
      "cell_type": "code",
      "outputs": []
    },
    {
      "metadata": {
        "id": "qBAeloZ7S0ix"
      },
      "source": [
        "\n",
        "<p><strong>Ejemplo 21</strong></p>\n",
        "<p align=\"justify\"> Copia de Estaciones que solo considera estaciones de monitoreo localizadas como máximo a 2000 metros de altura sobre el nivel del mar, y que incluye los nombres del municipio y del departamento donde están ubicadas las estaciones.</p>\n"
      ],
      "cell_type": "markdown"
    },
    {
      "metadata": {
        "id": "xOlgoxPvS0iy"
      },
      "source": [
        "\n",
        "\n",
        "proc sql;\n",
        "    create table E21 as\n",
        "    select   Estaciones.*, Municipio, Departamento, Dep\n",
        "    from     CursoSAS.Municipios as Municipios inner join Estaciones on (Municipios.Depmun=Estaciones.Depmun)\n",
        "    where    elev <= 2000 \n",
        "    order by depmun, codigo;\n",
        "\n",
        "    create table E21a as\n",
        "    select   Estaciones.*, Municipio, Departamento, Dep\n",
        "    from     CursoSAS.Municipios as Municipios right join Estaciones on (Municipios.Depmun=Estaciones.Depmun)\n",
        "    where    elev <= 2000 \n",
        "    order by depmun, codigo;\n",
        "quit;\n",
        "\n",
        "proc compare base=E21 compare=E21a;\n",
        "run;\n",
        "\n",
        "\n"
      ],
      "execution_count": null,
      "cell_type": "code",
      "outputs": []
    },
    {
      "metadata": {
        "id": "ijEWnNthS0iy"
      },
      "source": [
        "\n",
        "## <h2 style=\"color:red;\">Cursos ofrecidos por el departamento de Estadística"
      ],
      "cell_type": "markdown"
    },
    {
      "cell_type": "markdown",
      "source": [
        "</h2><p align=\"justify\">  El conjunto de datos en el archivo <strong>ofrecidos.xlsx</strong> contiene información sobre los cursos ofrecidos por el departamento de Estadística durante varios semestres (<i>Semestre</i>: \"2014-I\", \"2014-II\", \"2015-I\", \"2015-II\", \"2016-I\" y \"2016-II\"), incluyendo el código del curso (<i>CodigoCurso</i>), número de grupo (<i>GrupoN</i>), número de cupos (<i>CuposN</i>), programa al que pertenece el curso (<i>Programa</i>: \"Pregrado\", \"Especialización\", \"Maestría\", \"Doctorado\", \"Otros pregrados\"), agrupación a la que pertenece el curso (<i>Agrupacion</i>: \"Fundamentación\", \"Núcleo\", \"Metodologia\", \"Aplicación\", \"Complementación\" y \"Consolidación\" para el pregrado en Estadística y vacio para los demás programas), identificador del(a) profesor(a) a cargo  <i>IdDocente</i> para los profesores de planta del departamento de Estadística y vacio para los demás), así como el(los) día(s) (<i>Dia</i>), horario (<i>Horario</i>) y salón (<i>Salon</i>) en que se dictó el curso. El conjunto de datos en el archivo <strong>cursos.txt</strong> (separado por \";\") contiene un listado con los códigos (<i>CodigoCurso</i>) y el nombre (<i>NombreCurso</i>) de los cursos. Finalmente, el conjunto de datos en el archivo <strong>docentes.csv</strong> (separado por \",\") contiene un listado con el identificador (<i>IdDocente</i>), nombre (<i>NombreDocente</i>) y correo electrónico (<i>Correo Electronico</i>) de los docentes de planta del departamento de Estadística.</p><ul>\n",
        "<li><p align=\"justify\"> En cual semestre del periodo comprendido entre 2014-I y 2016-II hubo más cupos de\n",
        "\"Probabilidad y Estadística Fundamental\"?</p></li>\n",
        "<li><p align=\"justify\"> En cual semestre del periodo comprendido entre 2014-I y 2016-II hubo más grupos de\n",
        "\"Bioestadística Fundamental\"?</p></li>\n",
        "<li><p align=\"justify\"> En cual semestre del periodo comprendido entre 2014-I y 2016-II hubo mayor homogeneidad\n",
        "(de acuerdo al coeficiente de variación) entre los grupos de \"Estadística Social Fundamental\"\n",
        "en relación al número de cupos ofrecidos?</p></li>\n",
        "<li><p align=\"justify\"> Cuales cursos del pregrado en Estadística (especifique código y nombre) de la agrupación \"Complementación\" se ofrecieron solo un semestre en el periodo comprendido entre 2014-I y 2016-II?</p></li>\n",
        "<li><p align=\"justify\"> Cuales cursos del pregrado en Estadística (especifique código y nombre) de la agrupación \"Nucleo\" se ofrecieron todos los semestres en el periodo comprendido entre 2014-I y 2016-II?</p></li>\n",
        "<li><p align=\"justify\"> Cuales profesores(as) (especifique identificador y nombre) dictaron en solo uno de los programas del departamento de Estadística (es decir, Pregrado, Especialización, Maestría y Doctorado) en el periodo\n",
        "comprendido entre 2014-I y 2016-II?</p></li>\n",
        "<li><p align=\"justify\"> Cuales profesores(as) (especifique identificador y nombre) dictaron en todos los programas del departamento de Estadística (es decir, Pregrado, Especialización, Maestría y Doctorado) en el periodo comprendido entre 2014-I y 2016-II?</p></li>\n",
        "<li><p align=\"justify\"> Cual(es) es(son) el(los) profesor(es) con el menor número de asignaturas diferentes en los programas del departamento de Estadística (es decir, Pregrado, Especialización, Maestría y Doctorado) en el\n",
        "periodo de tiempo comprendido entre 2014-I y 2016-II?</p></li>\n",
        "<li><p align=\"justify\"> Cuales de las agrupaciones del pregrado en Estadística (nombre) han tenido número de cursos y número de cupos mayores al $35\\%$ del total que se ofrecieron en todos los semestres\n",
        "comprendidos entre 2014-I y 2016-II?</p></li>\n",
        "<li><p align=\"justify\"> En cual de los semestres comprendidos entre 2014-I y 2016-II se tuvo el mayor porcentaje\n",
        "de cupos ofrecidos en cursos con clases los lunes (y por lo tanto perjudicados por los feriados) del total de cupos ofrecidos en los programas de posgrado (es decir, Especialización, Maestría y Doctorado)?</p></li>\n",
        "</ul>\n"
      ],
      "metadata": {
        "id": "HqGqsn5_UiFT"
      }
    },
    {
      "cell_type": "code",
      "source": [
        "/******************************************************/\n",
        "/******************************************************/\n",
        "/************************Prólogo***********************/\n",
        "/******************************************************/\n",
        "/******************************************************/\n",
        "\n",
        "proc import out=cursos dbms=tab datafile=\"/home/hvanegasp0/Curso/cursos.txt\" replace;\n",
        "  getnames=yes;\n",
        "  delimiter=\";\";\n",
        "run;\n",
        "proc contents data=cursos varnum;\n",
        "run;\n",
        "proc print data=cursos (obs=20) noobs;\n",
        "run;\n",
        "\n",
        "proc import out=docentes dbms=csv datafile=\"/home/hvanegasp0/Curso/docentes.csv\" replace;\n",
        "  getnames=yes;\n",
        "  delimiter=\",\";\n",
        "run;\n",
        "proc contents data=docentes varnum;\n",
        "run;\n",
        "proc print data=docentes (obs=20) noobs;\n",
        "run;\n",
        "\n",
        "proc import out=ofrecidos dbms=xlsx datafile=\"/home/hvanegasp0/Curso/ofrecidos.xlsx\" replace;\n",
        "  getnames=yes;\n",
        "run;\n",
        "proc contents data=ofrecidos varnum;\n",
        "run;\n",
        "proc print data=ofrecidos (obs=20) noobs;\n",
        "run;\n",
        "\n",
        "proc sql;\n",
        "\tcreate table ofrecidos2 as\n",
        "\tselect ofrecidos.*, nombrecurso\n",
        "\tfrom ofrecidos left join cursos on (ofrecidos.codigocurso=cursos.codigocurso);\n",
        "\n",
        "\tcreate table ofrecidos3 as\n",
        "    select ofrecidos2.*, nombredocente\n",
        "    from ofrecidos2 left join docentes on (ofrecidos2.iddocente=docentes.iddocente);\n",
        "quit;"
      ],
      "metadata": {
        "id": "IaNCEw-bp3An"
      },
      "execution_count": null,
      "outputs": []
    },
    {
      "cell_type": "code",
      "source": [
        "/******************************************************/\n",
        "/******************************************************/\n",
        "/**********************Pregunta 1**********************/\n",
        "/******************************************************/\n",
        "/******************************************************/\n",
        "\t\t\t\t\t \n",
        "/************/\n",
        "/* opción 1 */\n",
        "/************/\n",
        "proc sql;\n",
        "    select Semestre, sum(CuposN) as cupos\n",
        "\tfrom ofrecidos3\n",
        "\twhere NombreCurso=\"Probabilidad y Estadística Fundamental\"\n",
        "\tgroup by Semestre\n",
        "\torder by cupos desc;\n",
        "quit;\n",
        "/************/\n",
        "/* opción 2 */\n",
        "/************/\n",
        "proc freq data=ofrecidos3 order=freq;\n",
        "    table Semestre / nocum;\n",
        "\tweight CuposN;\n",
        "\twhere NombreCurso=\"Probabilidad y Estadística Fundamental\";\n",
        "run;\t\n",
        "\n",
        "/************/\n",
        "/* opción 3 */\n",
        "/************/\n",
        "proc means data=ofrecidos3 sum maxdec=3 nonobs;\n",
        "    var CuposN;\n",
        "\tclass Semestre;\n",
        "\twhere NombreCurso=\"Probabilidad y Estadística Fundamental\";\n",
        "run;\n",
        "/************/\n",
        "/* opción 4 */\n",
        "/************/\n",
        "proc sgplot data=ofrecidos3;\n",
        "  vbar Semestre / response=CuposN stat=sum;\n",
        "  where NombreCurso=\"Probabilidad y Estadística Fundamental\";\n",
        "run; "
      ],
      "metadata": {
        "id": "u6uN-Vfrp8Ni"
      },
      "execution_count": null,
      "outputs": []
    },
    {
      "cell_type": "code",
      "source": [
        "/******************************************************/\n",
        "/******************************************************/\n",
        "/**********************Pregunta 2**********************/\n",
        "/******************************************************/\n",
        "/******************************************************/\n",
        "\t\t\t\t\t \n",
        "/************/\n",
        "/* opción 1 */\n",
        "/************/\n",
        "proc sql;\n",
        "    select Semestre, count(*) as ngrupos\n",
        "\tfrom ofrecidos3\n",
        "\twhere NombreCurso=\"Bioestadística Fundamental\"\n",
        "\tgroup by Semestre\n",
        "\torder by ngrupos desc;\n",
        "quit;\n",
        "/************/\n",
        "/* opción 2 */\n",
        "/************/\n",
        "proc freq data=ofrecidos3 order=freq;\n",
        "    table Semestre / nocum;\n",
        "\twhere NombreCurso=\"Bioestadística Fundamental\";\n",
        "run;\t\n",
        "\n",
        "/************/\n",
        "/* opción 3 */\n",
        "/************/\n",
        "proc means data=ofrecidos3 n maxdec=3 nonobs;\n",
        "    var CuposN;\n",
        "\tclass Semestre;\n",
        "\twhere NombreCurso=\"Bioestadística Fundamental\";\n",
        "run;\n",
        "/************/\n",
        "/* opción 4 */\n",
        "/************/\n",
        "proc sgplot data=ofrecidos3;\n",
        "  vbar Semestre;\n",
        "  where NombreCurso=\"Bioestadística Fundamental\";\n",
        "run; "
      ],
      "metadata": {
        "id": "ViOTcATeqHgc"
      },
      "execution_count": null,
      "outputs": []
    },
    {
      "cell_type": "code",
      "source": [
        "/******************************************************/\n",
        "/******************************************************/\n",
        "/**********************Pregunta 3**********************/\n",
        "/******************************************************/\n",
        "/******************************************************/\n",
        "\t\t\t\t\t \n",
        "/************/\n",
        "/* opción 1 */\n",
        "/************/\n",
        "proc sql;\n",
        "    select Semestre, 100*std(CuposN)/avg(CuposN) as cv\n",
        "\tfrom ofrecidos3\n",
        "\twhere NombreCurso=\"Estadística Social Fundamental\"\n",
        "\tgroup by Semestre\n",
        "\torder by cv asc;\n",
        "quit;\n",
        "/************/\n",
        "/* opción 2 */\n",
        "/************/\n",
        "proc means data=ofrecidos3 cv maxdec=3 nonobs;\n",
        "    var CuposN;\n",
        "\tclass Semestre;\n",
        "\twhere NombreCurso=\"Estadística Social Fundamental\";\n",
        "run;"
      ],
      "metadata": {
        "id": "M2J2aIIiqJls"
      },
      "execution_count": null,
      "outputs": []
    },
    {
      "cell_type": "code",
      "source": [
        "/******************************************************/\n",
        "/******************************************************/\n",
        "/**********************Pregunta 4**********************/\n",
        "/******************************************************/\n",
        "/******************************************************/\n",
        "proc sql;\n",
        "\tselect CodigoCurso, NombreCurso\n",
        "\tfrom ofrecidos3\n",
        "\twhere Programa=\"Pregrado\" and Agrupacion=\"Complementación\"\n",
        "\tgroup by CodigoCurso, NombreCurso\n",
        "\thaving count(distinct Semestre) = 1;\n",
        "quit;"
      ],
      "metadata": {
        "id": "faHelOfHqLnl"
      },
      "execution_count": null,
      "outputs": []
    },
    {
      "cell_type": "code",
      "source": [
        "/******************************************************/\n",
        "/******************************************************/\n",
        "/**********************Pregunta 5**********************/\n",
        "/******************************************************/\n",
        "/******************************************************/\n",
        "proc sql;\n",
        "\tselect CodigoCurso, NombreCurso\n",
        "\tfrom ofrecidos3\n",
        "\twhere Programa=\"Pregrado\" and Agrupacion=\"Nucleo\"\n",
        "\tgroup by CodigoCurso, NombreCurso\n",
        "\thaving count(distinct Semestre) = 6;\n",
        "quit;"
      ],
      "metadata": {
        "id": "TossU3R6qNoc"
      },
      "execution_count": null,
      "outputs": []
    },
    {
      "cell_type": "code",
      "source": [
        "/******************************************************/\n",
        "/******************************************************/\n",
        "/**********************Pregunta 6**********************/\n",
        "/******************************************************/\n",
        "/******************************************************/\n",
        "proc sql;\n",
        "\tselect IdDocente, NombreDocente\n",
        "\tfrom ofrecidos3\n",
        "\twhere IdDocente is not NULL\n",
        "\tgroup by IdDocente, NombreDocente\n",
        "\thaving count(distinct Programa) = 1;\n",
        "quit;\t   "
      ],
      "metadata": {
        "id": "00zEOWrnqP0M"
      },
      "execution_count": null,
      "outputs": []
    },
    {
      "cell_type": "code",
      "source": [
        "/******************************************************/\n",
        "/******************************************************/\n",
        "/**********************Pregunta 7**********************/\n",
        "/******************************************************/\n",
        "/******************************************************/\n",
        "proc sql;\n",
        "\tselect IdDocente, NombreDocente\n",
        "\tfrom ofrecidos3\n",
        "\twhere IdDocente is not NULL\n",
        "\tgroup by IdDocente, NombreDocente\n",
        "\thaving count(distinct Programa) = 4;\n",
        "quit;\t   "
      ],
      "metadata": {
        "id": "B_lJW0vqqR61"
      },
      "execution_count": null,
      "outputs": []
    },
    {
      "cell_type": "code",
      "source": [
        "/******************************************************/\n",
        "/******************************************************/\n",
        "/**********************Pregunta 8**********************/\n",
        "/******************************************************/\n",
        "/******************************************************/\n",
        "proc sql;\n",
        "\tselect IdDocente, NombreDocente, count(distinct CodigoCurso) as cursosdif\n",
        "\tfrom ofrecidos3\n",
        "\twhere Programa in (\"Pregrado\",\"Especialización\",\"Maestría\",\"Doctorado\")\n",
        "\tgroup by IdDocente, NombreDocente\n",
        "\torder by cursosdif;\n",
        "quit;\t   "
      ],
      "metadata": {
        "id": "Wcv3DkVjqT2F"
      },
      "execution_count": null,
      "outputs": []
    },
    {
      "cell_type": "code",
      "source": [
        "/******************************************************/\n",
        "/******************************************************/\n",
        "/**********************Pregunta 9**********************/\n",
        "/******************************************************/\n",
        "/******************************************************/\n",
        "\n",
        "/************/\n",
        "/* opción 1 */\n",
        "/************/\n",
        "proc freq data=ofrecidos3;\n",
        "\ttable Agrupacion*Semestre/ norow nopercent;\n",
        "\twhere Programa=\"Pregrado\";\n",
        "run;\n",
        "proc freq data=ofrecidos3;\n",
        "\ttable Agrupacion*Semestre/ norow nopercent;\n",
        "\tweight CuposN;\n",
        "\twhere Programa=\"Pregrado\";\n",
        "run;\n",
        "\n",
        "/************/\n",
        "/* opción 2 */\n",
        "/************/\n",
        "proc sgplot data=ofrecidos3 pctlevel=group;\n",
        "  hbar Semestre /  group=Agrupacion stat=pct groupdisplay=cluster;\n",
        "  refline 0.35 / axis=x;\n",
        "  where Programa=\"Pregrado\";\n",
        "run;\n",
        "proc sgplot data=ofrecidos3 pctlevel=group;\n",
        "  hbar Semestre / group=Agrupacion response=CuposN stat=pct groupdisplay=cluster;\n",
        "  refline 0.35 / axis=x;\n",
        "  where Programa=\"Pregrado\";\n",
        "run;\n",
        "\n",
        "/************/\n",
        "/* opción 3 */\n",
        "/************/\n",
        "proc sql;\n",
        "\tcreate table temp as\n",
        "\tselect Semestre, Agrupacion, count(*) as grupos, sum(CuposN) as cupos\n",
        "\tfrom ofrecidos3\n",
        "\twhere Programa=\"Pregrado\"\n",
        "\tgroup by Semestre, Agrupacion;\n",
        "\n",
        "    create table temp2 as\n",
        "\tselect Semestre, Agrupacion, case when grupos/sum(grupos) > 0.35 then 1\n",
        "\t                                  else 0\n",
        "\t                             end as Grupos35,\n",
        "\t                             case when cupos/sum(cupos) > 0.35 then 1\n",
        "\t                                  else 0\n",
        "\t                             end as Cupos35\n",
        "\tfrom temp\n",
        "\tgroup by Semestre;\n",
        "\tselect Agrupacion\n",
        "\tfrom temp2\n",
        "\tgroup by Agrupacion\n",
        "\thaving sum(Grupos35)=6 and sum(Cupos35)=6;\n",
        "quit;\t"
      ],
      "metadata": {
        "id": "Qq9oWuv5qVwM"
      },
      "execution_count": null,
      "outputs": []
    },
    {
      "cell_type": "code",
      "source": [
        "/******************************************************/\n",
        "/******************************************************/\n",
        "/**********************Pregunta 10**********************/\n",
        "/******************************************************/\n",
        "/******************************************************/\n",
        "data ofrecidos3;\n",
        "set ofrecidos3;\n",
        "  if substrn(Dia,1,2)=\"LU\" then Lunes=\"Si\";\n",
        "  else Lunes=\"No\";\n",
        "run;\n",
        "\n",
        "/************/\n",
        "/* opción 1 */\n",
        "/************/\n",
        "proc freq data=ofrecidos3;\n",
        "\ttable  Semestre*Lunes / nocol nopercent;\n",
        "\tweight CuposN;\n",
        "\twhere Programa in (\"Especialización\",\"Maestría\",\"Doctorado\");\n",
        "run;\n",
        "\n",
        "/************/\n",
        "/* opción 2 */\n",
        "/************/\n",
        "proc sgplot data=ofrecidos3 pctlevel=group;\n",
        "  hbar Semestre / group=Lunes response=CuposN stat=pct groupdisplay=cluster;\n",
        "\twhere Programa in (\"Especialización\",\"Maestría\",\"Doctorado\");\n",
        "run;"
      ],
      "metadata": {
        "id": "0FYas6VcqYPF"
      },
      "execution_count": null,
      "outputs": []
    },
    {
      "metadata": {
        "id": "5HXP3fN9S0iy"
      },
      "source": [
        "\n",
        "## <h2 style=\"color:red;\">Casos de Covid 19\n"
      ],
      "cell_type": "markdown"
    },
    {
      "cell_type": "markdown",
      "source": [
        "</h2><p align=\"justify\"> Los conjuntos de datos delimitados por tabulaciones en los archivos <strong>covid2020.tsv</strong> y <strong>covid2021.tsv</strong> contienen información diaria (<i>date</i>) y por país (<i>iso_code</i>) sobre el número de nuevos casos (<i>new_cases</i>), el número acumulado de casos (<i>total_cases</i>), el número de nuevas muertes, (<i>new_deaths</i>), y el número acumulado de muertes (<i>total_deaths</i>) por Covid-19 en 2020 y 2021, respectivamente. El conjunto de datos delimitado por tabulaciones en el archivo <strong>pop.tsv</strong> contiene información por continente (<i>continent</i>) y por país (<i>iso_code</i> y <i>location</i>) de la población (<i>population</i>).</p><ul>\n",
        "<li><p align=\"justify\"> Cual fue el país (<i>iso_code</i> y <i>location</i>) de América del Sur con el mayor número de días, consecutivos o no, sin nuevos casos de Covid-19 entre el 1 de junio de 2020 y el 31\n",
        "de mayo de 2021</p></li>\n",
        "<li><p align=\"justify\"> Cual fue el día (<i>date</i>) de 2021 con mayor número de paises de América del Sur sin\n",
        "nuevos casos de Covid-19?</p></li>\n",
        "<li><p align=\"justify\"> Cual fue el país (<i>iso_code</i> y <i>location</i>) de Africa con el mayor número de días, consecutivos o no, sin nuevas muertes por Covid-19 entre el 1 de mayo de 2020 y el 30 de abril de 2021?</p></li>\n",
        "<li><p align=\"justify\"> Cual fue el día (<i>date</i>) de 2020 con mayor número de paises de Africa sin nuevas muertes\n",
        "por Covid-19?</p></li>\n",
        "<li><p align=\"justify\"> Cual fue el país (<i>iso_code</i> y <i>location</i>) de Europa con el mayor número de casos de Covid-19 por 100 mil habitantes ($100000\\times casos/poblacion$) durante 2021?</p></li>\n",
        "<li><p align=\"justify\"> Cual fue el continente (<i>continent</i>) menos homogeneo, de acuerdo al coeficiente de variación, con respecto al número de casos de Covid-19 por 100 mil habitantes ($100000\\times casos/poblacion$) durante 2020 en los países que lo integran?</p></li>\n",
        "<li><p align=\"justify\"> Cual fue el país (<i>iso_code</i> y <i>location</i>) de Asia con el mayor número de días\n",
        "consecutivos sin nuevos casos de Covid-19 en 2020?</p></li>\n",
        "</ul>"
      ],
      "metadata": {
        "id": "mPylmXxgUuyt"
      }
    },
    {
      "cell_type": "code",
      "source": [
        "/******************************************************/\n",
        "/******************************************************/\n",
        "/************************Prólogo***********************/\n",
        "/******************************************************/\n",
        "/******************************************************/\n",
        "proc import out=covid1 dbms=tab datafile=\"/home/hvanegasp0/Curso/covid2020.tsv\" replace;\n",
        "  getnames=yes;\n",
        "  delimiter=\"09\"x;\n",
        "run;\n",
        "proc contents data=covid1 varnum;\n",
        "run;\n",
        "proc print data=covid1 (obs=20) noobs;\n",
        "run;\n",
        "\n",
        "proc import out=covid2 dbms=tab datafile=\"/home/hvanegasp0/Curso/covid2021.tsv\" replace;\n",
        "  getnames=yes;\n",
        "  delimiter=\"09\"x;\n",
        "run;\n",
        "proc contents data=covid2 varnum;\n",
        "run;\n",
        "proc print data=covid2 (obs=20) noobs;\n",
        "run;\n",
        "\n",
        "data pop;\n",
        "  infile   \"/home/hvanegasp0/Curso/pop.tsv\" dsd delimiter=\"09\"x firstobs=2;\n",
        "  informat iso_code $5. continent location $20.;\n",
        "  input    iso_code continent location populaton;\n",
        "run;\n",
        "proc contents data=pop varnum;\n",
        "run;\n",
        "proc print data=pop (obs=20) noobs;\n",
        "run;\n",
        "\n",
        "data covid;\n",
        "  set covid1 covid2;\n",
        "run;\n",
        "\n",
        "proc sql;\n",
        "create table covid3 as \n",
        "select covid.*, continent, location, populaton\n",
        "from   covid left join pop on (covid.iso_code=pop.iso_code);\n",
        "quit;\n",
        "\n",
        "data covid3;\n",
        "set covid3;\n",
        "   iso_code_location = cats(iso_code,\" \",location);\n",
        "run;"
      ],
      "metadata": {
        "id": "ayz_UYk5qdFi"
      },
      "execution_count": null,
      "outputs": []
    },
    {
      "cell_type": "code",
      "source": [
        "/******************************************************/\n",
        "/******************************************************/\n",
        "/**********************Pregunta 1**********************/\n",
        "/******************************************************/\n",
        "/******************************************************/\n",
        "\n",
        "/************/\n",
        "/* opción 1 */\n",
        "/************/\n",
        "proc sql outobs=3;\n",
        "\tselect   iso_code, location, count(*) as sincasos\n",
        "\tfrom     covid3\n",
        "\twhere    continent=\"South America\" and new_cases=0 and \n",
        "\t         date >= '01JUN2020'd and date <='31MAY2021'd\n",
        "\tgroup by iso_code, location\n",
        "\torder by sincasos desc;\n",
        "quit;\n",
        "\n",
        "/************/\n",
        "/* opción 2 */\n",
        "/************/\n",
        "proc freq data=covid3 order=freq;\n",
        "\ttable iso_code_location / nopercent nocum maxlevels=3;\n",
        "\twhere continent=\"South America\" and new_cases=0 and \n",
        "\t      date >= '01JUN2020'd and date <='31MAY2021'd;\n",
        "run;\n",
        "\n",
        "/************/\n",
        "/* opción 3 */\n",
        "/************/\n",
        "proc means data=covid3 n nonobs;\n",
        "\tclass iso_code_location / order=freq;\n",
        "\tvar   new_cases;\n",
        "\twhere continent=\"South America\" and new_cases=0 and \n",
        "\t      date >= '01JUN2020'd and date <='31MAY2021'd;\n",
        "run;\n",
        "\n",
        "/************/\n",
        "/* opción 4 */\n",
        "/************/\n",
        "proc sgplot data=covid3;\n",
        "\tvbar  iso_code / datalabel=location;\n",
        "\twhere continent=\"South America\" and new_cases=0 and \n",
        "\t      date >= '01JUN2020'd and date <='31MAY2021'd;\n",
        "run;"
      ],
      "metadata": {
        "id": "PcEwqj5pqirj"
      },
      "execution_count": null,
      "outputs": []
    },
    {
      "cell_type": "code",
      "source": [
        "/******************************************************/\n",
        "/******************************************************/\n",
        "/**********************Pregunta 2**********************/\n",
        "/******************************************************/\n",
        "/******************************************************/\n",
        "\n",
        "/************/\n",
        "/* opción 1 */\n",
        "/************/\n",
        "proc sql outobs=3;\n",
        "\tselect   date, count(*) as sincasos\n",
        "\tfrom     covid3\n",
        "\twhere    continent=\"South America\" and new_cases=0 and \n",
        "\t         date >= '01JAN2021'd\n",
        "\tgroup by date\n",
        "\torder by sincasos desc;\n",
        "quit;\n",
        "\n",
        "/************/\n",
        "/* opción 2 */\n",
        "/************/\n",
        "proc freq data=covid3 order=freq ;\n",
        "\ttable date / nopercent nocum maxlevels=3;\n",
        "\twhere continent=\"South America\" and new_cases=0 and \n",
        "\t      date >= '01JAN2021'd;\n",
        "run;\n",
        "\n",
        "/************/\n",
        "/* opción 3 */\n",
        "/************/\n",
        "proc means data=covid3 n nonobs;\n",
        "\tclass date / order=freq;\n",
        "\tvar   new_cases;\n",
        "\twhere continent=\"South America\" and new_cases=0 and \n",
        "\t      date >= '01JAN2021'd;\n",
        "run;"
      ],
      "metadata": {
        "id": "ggcxWbOxqnNN"
      },
      "execution_count": null,
      "outputs": []
    },
    {
      "cell_type": "code",
      "source": [
        "/******************************************************/\n",
        "/******************************************************/\n",
        "/**********************Pregunta 3**********************/\n",
        "/******************************************************/\n",
        "/******************************************************/\n",
        "\n",
        "/************/\n",
        "/* opción 1 */\n",
        "/************/\n",
        "proc sql outobs=3;\n",
        "\tselect   iso_code, location, count(*) as sinmuertes\n",
        "\tfrom     covid3\n",
        "\twhere    continent=\"Africa\" and new_deaths=0 and \n",
        "\t         date >= '01MAY2020'd and date <='30APR2021'd\n",
        "\tgroup by iso_code, location\n",
        "\torder by sinmuertes desc;\n",
        "quit;\n",
        "\n",
        "/************/\n",
        "/* opción 2 */\n",
        "/************/\n",
        "proc freq data=covid3 order=freq ;\n",
        "\ttable iso_code_location / nopercent nocum maxlevels=3;\n",
        "\twhere continent=\"Africa\" and new_deaths=0 and \n",
        "\t      date >= '01MAY2020'd and date <='30APR2021'd;\n",
        "run;\n",
        "\n",
        "/************/\n",
        "/* opción 3 */\n",
        "/************/\n",
        "proc means data=covid3 n nonobs;\n",
        "\tclass iso_code_location / order=freq;\n",
        "\tvar   new_deaths;\n",
        "\twhere continent=\"Africa\" and new_deaths=0 and \n",
        "\t      date >= '01MAY2020'd and date <='30APR2021'd;\n",
        "run;"
      ],
      "metadata": {
        "id": "UHt8DoGAqpf9"
      },
      "execution_count": null,
      "outputs": []
    },
    {
      "cell_type": "code",
      "source": [
        "/******************************************************/\n",
        "/******************************************************/\n",
        "/**********************Pregunta 4**********************/\n",
        "/******************************************************/\n",
        "/******************************************************/\n",
        "\n",
        "/************/\n",
        "/* opción 1 */\n",
        "/************/\n",
        "proc sql outobs=3;\n",
        "\tselect   date, count(*) as sinmuertes\n",
        "\tfrom     covid3\n",
        "\twhere    continent=\"Africa\" and new_deaths=0 and \n",
        "\t         date < '01JAN2021'd\n",
        "\tgroup by date\n",
        "\torder by sinmuertes desc;\n",
        "quit;\n",
        "\n",
        "/************/\n",
        "/* opción 2 */\n",
        "/************/\n",
        "proc freq data=covid3 order=freq ;\n",
        "\ttable date / nopercent nocum maxlevels=3;\n",
        "\twhere continent=\"Africa\" and new_deaths=0 and \n",
        "\t      date < '01JAN2021'd;\n",
        "run;\n",
        "\n",
        "/************/\n",
        "/* opción 3 */\n",
        "/************/\n",
        "proc means data=covid3 n nonobs;\n",
        "\tclass date / order=freq;\n",
        "\tvar   new_deaths;\n",
        "\twhere continent=\"Africa\" and new_deaths=0 and \n",
        "\t      date < '01JAN2021'd;\n",
        "run;"
      ],
      "metadata": {
        "id": "n5K-U2Xlqstt"
      },
      "execution_count": null,
      "outputs": []
    },
    {
      "cell_type": "code",
      "source": [
        "/******************************************************/\n",
        "/******************************************************/\n",
        "/**********************Pregunta 5**********************/\n",
        "/******************************************************/\n",
        "/******************************************************/\n",
        "\n",
        "proc sql outobs=3;\n",
        "\tselect   iso_code, location, 100000*sum(new_cases)/avg(populaton) as inci\n",
        "\tfrom     covid3\n",
        "\twhere    continent=\"Europe\" and date >= '01JAN2021'd\n",
        "\tgroup by iso_code, location\n",
        "\torder by inci desc; \n",
        "quit;"
      ],
      "metadata": {
        "id": "ioEFXwnRquqG"
      },
      "execution_count": null,
      "outputs": []
    },
    {
      "cell_type": "code",
      "source": [
        "/******************************************************/\n",
        "/******************************************************/\n",
        "/**********************Pregunta 6**********************/\n",
        "/******************************************************/\n",
        "/******************************************************/\n",
        "proc sql;\n",
        "\tcreate table temporal2 as\n",
        "\tselect   continent, iso_code, location, 100000*sum(new_cases)/avg(populaton) as inci\n",
        "\tfrom     covid3\n",
        "\twhere    date < '01JAN2021'd\n",
        "\tgroup by continent, iso_code, location; \n",
        "\t\n",
        "\tselect   continent, cv(inci) as cvinci\n",
        "\tfrom     temporal2\n",
        "\tgroup by continent\n",
        "\torder by cvinci;\n",
        "quit;"
      ],
      "metadata": {
        "id": "leZo1flfqwf2"
      },
      "execution_count": null,
      "outputs": []
    },
    {
      "cell_type": "code",
      "source": [
        "/******************************************************/\n",
        "/******************************************************/\n",
        "/**********************Pregunta 7**********************/\n",
        "/******************************************************/\n",
        "/******************************************************/\n",
        "proc sql outobs=3;\n",
        "\tselect   iso_code, location, total_cases, count(*) as consecutivos\n",
        "\tfrom     covid3\n",
        "\twhere    continent=\"Asia\" and date < '01JAN2021'd\n",
        "\tgroup by iso_code, location, total_cases\n",
        "\torder by consecutivos desc;\n",
        "quit;"
      ],
      "metadata": {
        "id": "8B5fTukrqx7l"
      },
      "execution_count": null,
      "outputs": []
    },
    {
      "metadata": {
        "id": "v7h2oHl3S0iy"
      },
      "source": [
        "\n",
        "# <h2 style=\"color:black;\">Visualización de datos</h2>\n"
      ],
      "cell_type": "markdown"
    },
    {
      "cell_type": "markdown",
      "source": [
        "## <h1><a href=\"https://documentation.sas.com/doc/en/pgmsascdc/9.4_3.5/grstatproc/n0yjdd910dh59zn1toodgupaj4v9.htm\" style=\"color:red;\" target=\"_blank\">9.1 proc sgplot</a></h1>\n",
        "<h1><a href=\"https://documentation.sas.com/doc/en/pgmsascdc/9.4_3.5/grstatproc/n0zgx9a7en0g5vn1tjpja6sxdiwr.htm\" style=\"color:red;\" target=\"_blank\">9.2 proc sgpanel</a></h1>\n",
        "<h1><a href=\"https://documentation.sas.com/doc/en/pgmsascdc/9.4_3.5/grstatproc/n1je1qlb5bvtypn1rhbeyqw5h9rc.htm\" style=\"color:red;\" target=\"_blank\">9.3 proc sgscatter</a></h1>\n",
        "<h1><a href=\"https://documentation.sas.com/doc/en/pgmsascdc/9.4_3.5/grstatproc/n11xqf2g2rxnmbn1pgk4rbl5vz80.htm\" style=\"color:red;\" target=\"_blank\">9.4 proc sgpie</a></h1> \n"
      ],
      "metadata": {
        "id": "VQuLaoXDVSkj"
      }
    },
    {
      "metadata": {
        "id": "aybSMcB0S0iy"
      },
      "source": [
        "\n",
        "\n",
        "proc import datafile=\"/home/hvanegasp0/Curso/Advertising.xlsx\" dbms=xlsx out=Advertising replace;\n",
        "    getnames=yes;\n",
        "run;\n",
        "\n",
        "proc contents data=Advertising varnum;\n",
        "run;\n",
        "\n",
        "proc print data=Advertising (obs=10) noobs;\n",
        "run;\n",
        "\n",
        "\n"
      ],
      "execution_count": null,
      "cell_type": "code",
      "outputs": []
    },
    {
      "metadata": {
        "id": "TV8qNLJrS0iy"
      },
      "source": [
        "\n",
        "<p><strong>Ejemplo 1</strong></p>\n",
        "<p align=\"justify\"> Estos datos, sacados de <i>Witten, Hastie, Tibshirani y James (2013). An Introduction to Statistical Learning: With Applications in R. Springer</i>, consisten en las ventas (sales), en miles de unidades, de un producto en 200 mercados diferentes junto con las inversiones en publicidad, en miles de dólares, para el producto en cada uno de esos mercados para diferentes medios: televisión (<i>TV</i>), radio (<i>radio</i>) y periódico (<i>newspaper</i>). Vea www.StatLearning.com.</p>\n"
      ],
      "cell_type": "markdown"
    },
    {
      "metadata": {
        "id": "uDpvhcK2S0iy"
      },
      "source": [
        "\n",
        "\n",
        "proc sgplot data=Advertising;\n",
        "    scatter x=tv y=sales;\n",
        "    xaxis   label=\"Publicidad en TV\";\n",
        "    yaxis   label=\"Ventas\";\n",
        "    title   \"Ventas versus inversión en publicidad en TV\";\n",
        "run;\n",
        "\n",
        "\n"
      ],
      "execution_count": null,
      "cell_type": "code",
      "outputs": []
    },
    {
      "metadata": {
        "id": "L13IGQMPS0iy"
      },
      "source": [
        "\n",
        "<p><strong>Ejemplo 2</strong></p>\n",
        "<p align=\"justify\"> Gráfico de dispersión <strong>personalizado</strong> de las ventas del producto (<i>sales</i>) versus la inversión en publicidad en televisión para el mismo (<i>TV</i>).</p>\n"
      ],
      "cell_type": "markdown"
    },
    {
      "metadata": {
        "id": "mVrOJlS7S0iz"
      },
      "source": [
        "\n",
        "\n",
        "proc sgplot data=Advertising noautolegend;\n",
        "    scatter x=tv y=sales / markerattrs=(size=8 symbol=circlefilled color=red);\n",
        "    title   color=black justify=center \"Ventas versus inversión en publicidad en TV\";\n",
        "    xaxis   label=\"Inversión en publicidad en TV\" labelpos=center grid values=(0 to 300 by 50)\n",
        "            labelattrs=(color=blue size=9 weight=normal);\n",
        "    yaxis   label=\"Ventas\" labelpos=center grid values=(0 to 30 by 5)\n",
        "            labelattrs=(color=blue size=9 weight=normal);\n",
        "run;\n",
        "\n",
        "\n"
      ],
      "execution_count": null,
      "cell_type": "code",
      "outputs": []
    },
    {
      "metadata": {
        "id": "mZIHKHBvS0iz"
      },
      "source": [
        "\n",
        "<p align=\"justify\"> Modifique el gráfico variando los siguientes parámetros </p><ul>\n",
        "<li><p align=\"justify\"> <strong><i>justify</i></strong>, <strong><i>labelpos</i></strong>: center, left, right.</p></li>\n",
        "<li><p align=\"justify\"> <strong><i>size</i></strong>: valor positivo.</p></li>\n",
        "<li><p align=\"justify\"> <strong><i>symbol</i></strong>: circle, circlefilled, diamond, diamondfilled, square, squarefilled, star, starfilled, triangle, trianglefilled, triangledown, triangledownfilled, asterisk, plus.</p></li>\n",
        "<li><p align=\"justify\"> <strong><i>weight</i></strong>: bold, normal.</p></li>\n",
        "<li><p align=\"justify\"> Elimine <strong><i>grid</i></strong> de <strong><i>xaxis</i></strong> y/o <strong><i>yaxis</i></strong>.</p></li>\n",
        "</ul>\n"
      ],
      "cell_type": "markdown"
    },
    {
      "metadata": {
        "id": "cAF8kPMmS0iz"
      },
      "source": [
        "\n",
        "<p><strong>Ejemplo 3</strong></p>\n",
        "<p align=\"justify\"> Gráfico de dispersión de las ventas del producto (<i>sales</i>) versus la inversión en publicidad en televisión para el mismo (<i>TV</i>), el cual incluye una curva de tendencia obtenida usando regresión polinómica.</p>\n"
      ],
      "cell_type": "markdown"
    },
    {
      "metadata": {
        "id": "MaHYnh06S0iz"
      },
      "source": [
        "\n",
        "\n",
        "proc sgplot data=Advertising noautolegend;\n",
        "    reg     x=tv y=sales / degree=3 markerattrs=(size=8 symbol=circlefilled color=red)\n",
        "                         lineattrs=(pattern=solid thickness=2 color=black);\n",
        "    title   color=black justify=center \"Ventas versus inversión en publicidad en TV\";\n",
        "    xaxis   label=\"Inversión en publicidad en TV\" labelpos=center grid values=(0 to 300 by 50)\n",
        "            labelattrs=(color=blue size=8 weight=normal);\n",
        "    yaxis   label=\"Ventas\" labelpos=center grid values=(0 to 30 by 5)\n",
        "            labelattrs=(color=blue size=8 weight=normal);\n",
        "run;\n",
        "\n",
        "\n"
      ],
      "execution_count": null,
      "cell_type": "code",
      "outputs": []
    },
    {
      "metadata": {
        "id": "0UvQRV9VS0iz"
      },
      "source": [
        "\n",
        "<p align=\"justify\"> Modifique el gráfico variando los siguientes parámetros </p><ul>\n",
        "<li><p align=\"justify\"> <strong><i>justify</i></strong>, <strong><i>labelpos</i></strong>: center, left, right.</p></li>\n",
        "<li><p align=\"justify\"> <strong><i>size</i></strong>, <strong><i>thickness</i></strong>: valor positivo.</p></li>\n",
        "<li><p align=\"justify\"> <strong><i>symbol</i></strong>: circle, circlefilled, diamond, diamondfilled, square, squarefilled, star, starfilled, triangle, trianglefilled, triangledown, triangledownfilled, asterisk, plus.</p></li>\n",
        "<li><p align=\"justify\"> <strong><i>pattern</i></strong>: solid, shortdash, mediumdash, longdash, dash, dashdashdot, dashdotdot, mediumdashshortdash, longdashshortdash, shortdashdot.</p></li>\n",
        "<li><p align=\"justify\"> <strong><i>weight</i></strong>: bold, normal.</p></li>\n",
        "<li><p align=\"justify\"> <strong><i>degree</i></strong>: entero positivo.</p></li>\n",
        "<li><p align=\"justify\"> Incluya <strong><i>clm</i></strong> despues de <strong><i>degree</i></strong>=value.</p></li>\n",
        "</ul>\n"
      ],
      "cell_type": "markdown"
    },
    {
      "metadata": {
        "id": "QPHfX6aXS0iz"
      },
      "source": [
        "\n",
        "<p><strong>Ejemplo 4</strong></p>\n",
        "<p align=\"justify\"> Gráfico de dispersión de las ventas del producto (<i>sales</i>) versus la inversión en publicidad en televisión para el mismo (<i>TV</i>), el cual incluye una curva de tendencia obtenida usando regresión no paramétrica.</p>\n"
      ],
      "cell_type": "markdown"
    },
    {
      "metadata": {
        "id": "RhpewsLeS0iz"
      },
      "source": [
        "\n",
        "\n",
        "proc sgplot data=Advertising noautolegend;\n",
        "    pbspline x=tv y=sales / smooth=3E5 markerattrs=(size=8 symbol=circlefilled color=red)\n",
        "                            lineattrs=(pattern=solid thickness=2 color=black);\n",
        "    title    color=black justify=center \"Ventas versus inversión en publicidad en TV\";\n",
        "    xaxis    label=\"Inversión en publicidad en TV\" labelpos=center grid values=(0 to 300 by 50)\n",
        "             labelattrs=(color=blue size=8 weight=normal);\n",
        "    yaxis    label=\"Ventas\" labelpos=center grid values=(0 to 30 by 5)\n",
        "             labelattrs=(color=blue size=8 weight=normal);\n",
        "run;\n",
        "\n",
        "\n"
      ],
      "execution_count": null,
      "cell_type": "code",
      "outputs": []
    },
    {
      "metadata": {
        "id": "rpRl9QpkS0iz"
      },
      "source": [
        "\n",
        "<p align=\"justify\"> Modifique el gráfico variando los siguientes parámetros </p><ul>\n",
        "<li><p align=\"justify\"> <strong><i>justify</i></strong>, <strong><i>labelpos</i></strong>: center, left, right.</p></li>\n",
        "<li><p align=\"justify\"> <strong><i>size</i></strong>, <strong><i>thickness</i></strong>, <strong><i>smooth</i></strong>: valor positivo.</p></li>\n",
        "<li><p align=\"justify\"> <strong><i>symbol</i></strong>: circle, circlefilled, diamond, diamondfilled, square, squarefilled, star, starfilled, triangle, trianglefilled, triangledown, triangledownfilled, asterisk, plus.</p></li>\n",
        "<li><p align=\"justify\"> <strong><i>pattern</i></strong>: solid, shortdash, mediumdash, longdash, dash, dashdashdot, dashdotdot, mediumdashshortdash, longdashshortdash, shortdashdot.</p></li>\n",
        "<li><p align=\"justify\"> <strong><i>weight</i></strong>: bold, normal.</p></li>\n",
        "<li><p align=\"justify\"> <strong><i>degree</i></strong>: entero positivo.</p></li>\n",
        "<li><p align=\"justify\"> Incluya <strong><i>clm</i></strong> despues de <strong><i>smooth</i></strong>=value.</p></li>\n",
        "</ul>\n"
      ],
      "cell_type": "markdown"
    },
    {
      "metadata": {
        "id": "7TmW7rrIS0iz"
      },
      "source": [
        "\n",
        "<p><strong>Ejemplo 5</strong></p>\n",
        "<p align=\"justify\"> Gráfico de dispersión de las ventas del producto (<i>sales</i>) versus la inversión en publicidad en televisión para el mismo (<i>TV</i>). Se usan colores y tamaños diferentes dependiendo de la inversión en publicidad en radio.</p>\n"
      ],
      "cell_type": "markdown"
    },
    {
      "metadata": {
        "id": "55W-K6BcS0i0"
      },
      "source": [
        "\n",
        "\n",
        "proc sgplot data=Advertising;\n",
        "    bubble     x=tv y=sales size=radio / colorresponse=radio colormodel=(white red) dataskin=pressed;\n",
        "    title      color=black justify=center \"Ventas versus inversión en publicidad en TV\";\n",
        "    xaxis      label=\"Inversión en publicidad en TV\" labelpos=center grid values=(0 to 300 by 50)\n",
        "               labelattrs=(color=blue size=8 weight=normal);\n",
        "    yaxis      label=\"Ventas\" labelpos=center grid values=(0 to 30 by 5)\n",
        "               labelattrs=(color=blue size=8 weight=normal);      \n",
        "    gradlegend / title=\"Publicidad en Radio\" position=right \n",
        "                 titleattrs=(color=blue size=8 style=normal weight=normal);          \n",
        "run;\n",
        "\n",
        "\n"
      ],
      "execution_count": null,
      "cell_type": "code",
      "outputs": []
    },
    {
      "metadata": {
        "id": "9tfB5SxvS0i0"
      },
      "source": [
        "\n",
        "<p align=\"justify\"> Modifique el gráfico variando los siguientes parámetros </p><ul>\n",
        "<li><p align=\"justify\"> <strong><i>position</i></strong>: top, bottom, left, right.</p></li>\n",
        "<li><p align=\"justify\"> <strong><i>labelpos</i></strong>: center, left, right.</p></li>\n",
        "<li><p align=\"justify\"> <strong><i>size</i></strong>, <strong><i>thickness</i></strong>: valor positivo.</p></li>\n",
        "<li><p align=\"justify\"> <strong><i>weight</i></strong>: bold, normal.</p></li>\n",
        "<li><p align=\"justify\"> <strong><i>style</i></strong>: italic, normal.</p></li>\n",
        "<li><p align=\"justify\"> <strong><i>dataskin</i></strong>: none, crisp, gloss, matte, pressed, sheen.</p></li>\n",
        "</ul>\n"
      ],
      "cell_type": "markdown"
    },
    {
      "metadata": {
        "id": "VDBzfaTcS0i0"
      },
      "source": [
        "\n",
        "<p><strong>Ejemplo 6</strong></p>\n",
        "<p align=\"justify\"> Gráfico de dispersión de las ventas del producto (<i>sales</i>) versus la inversión en publicidad en televisión para el mismo (<i>TV</i>). Se usan colores y marcadores diferentes dependiendo de la inversión en publicidad en radio.</p>\n"
      ],
      "cell_type": "markdown"
    },
    {
      "metadata": {
        "id": "McjaPeDPS0i0"
      },
      "source": [
        "\n",
        "\n",
        "proc rank data=Advertising out=Advertising2 groups=3;\n",
        "   var radio;\n",
        "   ranks radioC;\n",
        "run;\n",
        "\n",
        "data Advertising;\n",
        "set Advertising2;\n",
        "run;\n",
        "\n",
        "proc format;\n",
        "    value bma 1=\"Baja\" 2=\"Media\" 3=\"Alta\";\n",
        "run;\n",
        "\n",
        "proc freq data=Advertising;\n",
        "    table radioC;\n",
        "    format radioC bma.;\n",
        "run;\n",
        "\n",
        "\n"
      ],
      "execution_count": null,
      "cell_type": "code",
      "outputs": []
    },
    {
      "metadata": {
        "id": "cB-za4suS0i0"
      },
      "source": [
        "\n",
        "\n",
        "ods graphics on / attrpriority=none;\n",
        "proc sgplot data=Advertising noautolegend;\n",
        "    styleattrs datacontrastcolors=(red black blue)\n",
        "               datasymbols=(circlefilled squarefilled trianglefilled);\n",
        "    scatter    x=tv y=sales / group=radioC grouporder=ascending markerattrs=(size=8);\n",
        "    title      color=black justify=center \"Ventas versus inversión en publicidad en TV\";\n",
        "    xaxis      label=\"Inversión en publicidad en TV\" labelpos=center grid values=(0 to 300 by 50)\n",
        "               labelattrs=(color=blue size=8 weight=normal);\n",
        "    yaxis      label=\"Ventas\" labelpos=center grid values=(0 to 30 by 5)\n",
        "               labelattrs=(color=blue size=8 weight=normal);\n",
        "    keylegend  / noborder title=\"Publicidad en Radio\" down=1 location=outside position=bottom;\n",
        "    format     radioC bma.;\n",
        "run;\n",
        "ods graphics on / attrpriority=color;           \n",
        "run;\n",
        "\n",
        "\n"
      ],
      "execution_count": null,
      "cell_type": "code",
      "outputs": []
    },
    {
      "metadata": {
        "id": "ilRK9vSZS0i0"
      },
      "source": [
        "\n",
        "<p align=\"justify\"> Modifique el gráfico variando los siguientes parámetros </p><ul>\n",
        "<li><p align=\"justify\"> <strong><i>location</i></strong>: inside, outside.</p></li>\n",
        "<li><p align=\"justify\"> <strong><i>position</i></strong>: bottom, bottomleft, bottomright, left, right, top, topleft, topright.</p></li>\n",
        "<li><p align=\"justify\"> <strong><i>size</i></strong>: valor positivo.</p></li>\n",
        "<li><p align=\"justify\"> <strong><i>symbol</i></strong>: circle, circlefilled, diamond, diamondfilled, square, squarefilled, star, starfilled, triangle, trianglefilled, triangledown, triangledownfilled, asterisk, plus.</p></li>\n",
        "<li><p align=\"justify\"> <strong><i>down</i></strong>: 1, 2, 3.</p></li>\n",
        "</ul>\n"
      ],
      "cell_type": "markdown"
    },
    {
      "metadata": {
        "id": "X0IZnMOLS0i0"
      },
      "source": [
        "\n",
        "<p><strong>Ejemplo 7</strong></p>\n",
        "<p align=\"justify\"> Gráfico de dispersión de las ventas del producto (<i>sales</i>) versus la inversión en publicidad en televisión para el mismo (<i>TV</i>), el cual incluye una curva de tendencia obtenida usando regresión polinómica. Se usan colores y marcadores diferentes dependiendo de la inversión en publicidad en radio.</p>\n"
      ],
      "cell_type": "markdown"
    },
    {
      "metadata": {
        "id": "3F9L560xS0i0"
      },
      "source": [
        "\n",
        "\n",
        "ods graphics on / attrpriority=none;\n",
        "proc sgplot data=Advertising;\n",
        "      styleattrs datacontrastcolors=(red black blue) datasymbols=(circlefilled squarefilled trianglefilled);\n",
        "      scatter    x=tv y=sales / group=radioC grouporder=ascending markerattrs=(size=8);\n",
        "      reg        x=tv y=sales / group=radioC nomarkers degree=3 lineattrs=(pattern=solid thickness=2);\n",
        "      title      color=black justify=center \"Ventas versus inversión en publicidad en TV\";\n",
        "      xaxis      label=\"Inversión en publicidad en TV\" labelpos=center grid values=(0 to 300 by 50)\n",
        "                 labelattrs=(color=blue size=8 weight=normal);\n",
        "      yaxis      label=\"Ventas\" labelpos=center grid values=(0 to 30 by 5)\n",
        "                 labelattrs=(color=blue size=8 weight=normal);\n",
        "      legenditem type=markerline name=\"B\" / label=\"Baja\"  lineattrs=GraphData1 markerattrs=GraphData1; \n",
        "      legenditem type=markerline name=\"M\" / label=\"Media\" lineattrs=GraphData2 markerattrs=GraphData2; \n",
        "      legenditem type=markerline name=\"A\" / label=\"Alta\"  lineattrs=GraphData3 markerattrs=GraphData3;            \n",
        "      keylegend  \"B\" \"M\" \"A\" / noborder title=\"Publicidad en Radio\" down=1 location=outside position=bottom;\n",
        "run;\n",
        "ods graphics on / attrpriority=color;           \n",
        "run;\n",
        "\n",
        "\n"
      ],
      "execution_count": null,
      "cell_type": "code",
      "outputs": []
    },
    {
      "metadata": {
        "id": "By-BSpe6S0i1"
      },
      "source": [
        "\n",
        "<p align=\"justify\"> Modifique el gráfico variando los siguientes parámetros </p><ul>\n",
        "<li><p align=\"justify\"> <strong><i>location</i></strong>: inside, outside.</p></li>\n",
        "<li><p align=\"justify\"> <strong><i>position</i></strong>: bottom, bottomleft, bottomright, left, right, top, topleft, topright.</p></li>\n",
        "<li><p align=\"justify\"> <strong><i>size</i></strong>, <strong><i>thickness</i></strong>: valor positivo.</p></li>\n",
        "<li><p align=\"justify\"> <strong><i>symbol</i></strong>: circle, circlefilled, diamond, diamondfilled, square, squarefilled, star, starfilled, triangle, trianglefilled, triangledown, triangledownfilled, asterisk, plus.</p></li>\n",
        "<li><p align=\"justify\"> <strong><i>pattern</i></strong>: solid, shortdash, mediumdash, longdash, dash, dashdashdot, dashdotdot, mediumdashshortdash, longdashshortdash, shortdashdot.</p></li>\n",
        "<li><p align=\"justify\"> <strong><i>down</i></strong>: 1, 2, 3.</p></li>\n",
        "<li><p align=\"justify\"> <strong><i>degree</i></strong>: entero positivo.</p></li>\n",
        "<li><p align=\"justify\"> Incluya <strong><i>clm</i></strong> despues de <strong><i>degree</i></strong>=value.</p></li>\n",
        "</ul>\n"
      ],
      "cell_type": "markdown"
    },
    {
      "metadata": {
        "id": "UA8k9RDFS0i1"
      },
      "source": [
        "\n",
        "<p><strong>Ejemplo 8</strong></p>\n",
        "<p align=\"justify\"> Gráfico de dispersión de las ventas del producto (<i>sales</i>) versus la inversión en publicidad en televisión para el mismo (<i>TV</i>), el cual incluye una curva de tendencia obtenida usando regresión no paramétrica (pbspline). Se usan colores y marcadores diferentes dependiendo de la inversión en publicidad en radio.</p>\n"
      ],
      "cell_type": "markdown"
    },
    {
      "metadata": {
        "id": "2t6WgXh4S0i1"
      },
      "source": [
        "\n",
        "\n",
        "ods graphics on / attrpriority=none;\n",
        "proc sgplot data=Advertising;\n",
        "      styleattrs datacontrastcolors=(red black blue) datasymbols=(circlefilled squarefilled trianglefilled);\n",
        "      scatter    x=tv y=sales / group=radioC grouporder=ascending markerattrs=(size=8);\n",
        "      pbspline   x=tv y=sales / group=radioC nomarkers smooth=5e5 lineattrs=(pattern=solid thickness=2);\n",
        "      title      color=black justify=center \"Ventas versus inversión en publicidad en TV\";\n",
        "      xaxis      label=\"Inversión en publicidad en TV\" labelpos=center grid values=(0 to 300 by 50)\n",
        "                 labelattrs=(color=blue size=8 weight=normal);\n",
        "      yaxis      label=\"Ventas\" labelpos=center grid values=(0 to 30 by 5)\n",
        "                 labelattrs=(color=blue size=8 weight=normal);\n",
        "      legenditem type=markerline name=\"B\" / label=\"Baja\"  lineattrs=GraphData1 markerattrs=GraphData1; \n",
        "      legenditem type=markerline name=\"M\" / label=\"Media\" lineattrs=GraphData2 markerattrs=GraphData2; \n",
        "      legenditem type=markerline name=\"A\" / label=\"Alta\"  lineattrs=GraphData3 markerattrs=GraphData3;            \n",
        "      keylegend  \"B\" \"M\" \"A\" / noborder title=\"Publicidad en Radio\" down=1 location=outside position=bottom;\n",
        "run;\n",
        "ods graphics on / attrpriority=color;           \n",
        "run;\n",
        "\n",
        "\n"
      ],
      "execution_count": null,
      "cell_type": "code",
      "outputs": []
    },
    {
      "metadata": {
        "id": "J9DNZ21nS0i1"
      },
      "source": [
        "\n",
        "<p align=\"justify\"> Modifique el gráfico variando los siguientes parámetros </p><ul>\n",
        "<li><p align=\"justify\"> <strong><i>location</i></strong>: inside, outside.</p></li>\n",
        "<li><p align=\"justify\"> <strong><i>position</i></strong>: bottom, bottomleft, bottomright, left, right, top, topleft, topright.</p></li>\n",
        "<li><p align=\"justify\"> <strong><i>size</i></strong>, <strong><i>thickness</i></strong>, <strong><i>smooth</i></strong>: valor positivo.</p></li>\n",
        "<li><p align=\"justify\"> <strong><i>symbol</i></strong>: circle, circlefilled, diamond, diamondfilled, square, squarefilled, star, starfilled, triangle, trianglefilled, triangledown, triangledownfilled, asterisk, plus.</p></li>\n",
        "<li><p align=\"justify\"> <strong><i>pattern</i></strong>: solid, shortdash, mediumdash, longdash, dash, dashdashdot, dashdotdot, mediumdashshortdash, longdashshortdash, shortdashdot.</p></li>\n",
        "<li><p align=\"justify\"> <strong><i>down</i></strong>: 1, 2, 3.</p></li>\n",
        "<li><p align=\"justify\"> Incluya <strong><i>clm</i></strong> despues de <strong><i>smooth</i></strong>=value.</p></li>\n",
        "</ul>\n"
      ],
      "cell_type": "markdown"
    },
    {
      "metadata": {
        "id": "557N353xS0i1"
      },
      "source": [
        "\n",
        "<p><strong>Ejemplo 9</strong></p>\n",
        "<p align=\"justify\"> Gráfico de dispersión de las ventas del producto (<i>sales</i>) versus la inversión en publicidad en televisión para el mismo (<i>TV</i>), el cual incluye una curva de tendencia obtenida usando regresión no paramétrica (loess). Se usan colores y marcadores diferentes dependiendo de la inversión en publicidad en radio.</p>\n"
      ],
      "cell_type": "markdown"
    },
    {
      "metadata": {
        "id": "EiSFgGtnS0i1"
      },
      "source": [
        "\n",
        "\n",
        "ods graphics on / attrpriority=none;\n",
        "proc sgplot data=Advertising;\n",
        "      styleattrs datacontrastcolors=(red black blue) datasymbols=(circlefilled squarefilled trianglefilled);\n",
        "      scatter    x=tv y=sales / group=radioC grouporder=ascending markerattrs=(size=8);\n",
        "      loess      x=tv y=sales / group=radioC  lineattrs=(pattern=solid thickness=2) smooth=0.45;\n",
        "      title      color=black justify=center \"Ventas versus inversión en publicidad en TV\";\n",
        "      xaxis      label=\"Inversión en publicidad en TV\" labelpos=center grid values=(0 to 300 by 50)\n",
        "                 labelattrs=(color=blue size=8 weight=normal);\n",
        "      yaxis      label=\"Ventas\" labelpos=center grid values=(0 to 30 by 5)\n",
        "                 labelattrs=(color=blue size=8 weight=normal);\n",
        "      legenditem type=markerline name=\"B\" / label=\"Baja\"  lineattrs=GraphData1 markerattrs=GraphData1; \n",
        "      legenditem type=markerline name=\"M\" / label=\"Media\" lineattrs=GraphData2 markerattrs=GraphData2; \n",
        "      legenditem type=markerline name=\"A\" / label=\"Alta\"  lineattrs=GraphData3 markerattrs=GraphData3;            \n",
        "      keylegend  \"B\" \"M\" \"A\" / noborder title=\"Publicidad en Radio\" down=1 location=outside position=bottom;\n",
        "run;\n",
        "ods graphics on / attrpriority=color;\n",
        "\n",
        "\n"
      ],
      "execution_count": null,
      "cell_type": "code",
      "outputs": []
    },
    {
      "metadata": {
        "id": "LrHArMq3S0i1"
      },
      "source": [
        "\n",
        "<p align=\"justify\"> Modifique el gráfico variando los siguientes parámetros </p><ul>\n",
        "<li><p align=\"justify\"> <strong><i>location</i></strong>: inside, outside.</p></li>\n",
        "<li><p align=\"justify\"> <strong><i>position</i></strong>: bottom, bottomleft, bottomright, left, right, top, topleft, topright.</p></li>\n",
        "<li><p align=\"justify\"> <strong><i>size</i></strong>, <strong><i>thickness</i></strong>, <strong><i>smooth</i></strong>: valor positivo.</p></li>\n",
        "<li><p align=\"justify\"> <strong><i>symbol</i></strong>: circle, circlefilled, diamond, diamondfilled, square, squarefilled, star, starfilled, triangle, trianglefilled, triangledown, triangledownfilled, asterisk, plus.</p></li>\n",
        "<li><p align=\"justify\"> <strong><i>pattern</i></strong>: solid, shortdash, mediumdash, longdash, dash, dashdashdot, dashdotdot, mediumdashshortdash, longdashshortdash, shortdashdot.</p></li>\n",
        "<li><p align=\"justify\"> <strong><i>down</i></strong>: 1, 2, 3.</p></li>\n",
        "<li><p align=\"justify\"> Incluya <strong><i>clm</i></strong> despues de <strong><i>smooth</i></strong>=value.</p></li>\n",
        "</ul>\n"
      ],
      "cell_type": "markdown"
    },
    {
      "metadata": {
        "id": "qEXOUAI_S0i1"
      },
      "source": [
        "\n",
        "<p><strong>Ejemplo 9</strong></p>\n",
        "<p align=\"justify\"> Se usa un panel para cada categoria de <i>newspaperC</i>. En cada panel se tiene un gráfico de dispersión de las ventas del producto (<i>sales</i>) versus la inversión en publicidad para el mismo (<i>TV</i>), el cual incluye una curva de tendencia obtenida usando regresión polinómica. Se usan colores y marcadores diferentes para cada categoria de <i>radioC</i>.</p>\n"
      ],
      "cell_type": "markdown"
    },
    {
      "metadata": {
        "id": "1oSLNHk2S0i1"
      },
      "source": [
        "\n",
        "\n",
        "proc rank data=Advertising out=Advertising2 groups=4;\n",
        "   var newspaper;\n",
        "   ranks newspaperC;\n",
        "run;\n",
        "\n",
        "data Advertising;\n",
        "set Advertising2;\n",
        "run;\n",
        "\n",
        "proc format;\n",
        "    value bmma 1=\"Baja\" 2=\"Media baja\" 3=\"Media alta\" 4=\"Alta\";\n",
        "run;\n",
        "\n",
        "proc freq data=Advertising;\n",
        "    table newspaperC;\n",
        "    format newspaperC bmma.;\n",
        "run;\n",
        "\n",
        "\n"
      ],
      "execution_count": null,
      "cell_type": "code",
      "outputs": []
    },
    {
      "metadata": {
        "id": "LpvWOcq9S0i1"
      },
      "source": [
        "\n",
        "\n",
        "ods graphics on / attrpriority=none;\n",
        "proc sgpanel data=Advertising;\n",
        "      styleattrs datacontrastcolors=(red black blue) \n",
        "                 datasymbols=(circlefilled squarefilled trianglefilled);\n",
        "      panelby    newspaperC / layout=panel rows=2 columns=2 uniscale=row novarname \n",
        "                              headerattrs=(color=blue size=8 weight=normal);           \n",
        "      scatter    x=tv y=sales / group=radioC grouporder=ascending markerattrs=(size=8);\n",
        "      reg        x=tv y=sales / group=radioC nomarkers degree=3 lineattrs=(pattern=solid thickness=2);\n",
        "      title      color=black justify=center \"Inversión en publicidad en periódico\";\n",
        "      colaxis    label=\"Inversión en publicidad en TV\" labelpos=center grid\n",
        "                 labelattrs=(color=blue size=8 weight=normal);\n",
        "      rowaxis    label=\"Ventas\" labelpos=center grid\n",
        "                 labelattrs=(color=blue size=8 weight=normal);\n",
        "      legenditem type=markerline name=\"B\" / label=\"Baja\"  lineattrs=GraphData1 markerattrs=GraphData1; \n",
        "      legenditem type=markerline name=\"M\" / label=\"Media\" lineattrs=GraphData2 markerattrs=GraphData2; \n",
        "      legenditem type=markerline name=\"A\" / label=\"Alta\"  lineattrs=GraphData3 markerattrs=GraphData3;            \n",
        "      keylegend  \"B\" \"M\" \"A\" / noborder title=\"Publicidad en Radio\" down=1 position=bottom;\n",
        "      format     radioC bma. newspaperC bmma.;\n",
        "run;\n",
        "ods graphics on / attrpriority=color;\n",
        "\n",
        "\n"
      ],
      "execution_count": null,
      "cell_type": "code",
      "outputs": []
    },
    {
      "metadata": {
        "id": "EycAbUcnS0i2"
      },
      "source": [
        "\n",
        "<p align=\"justify\"> Modifique el gráfico variando los siguientes parámetros </p><ul>\n",
        "<li><p align=\"justify\"> <strong><i>location</i></strong>: inside, outside.</p></li>\n",
        "<li><p align=\"justify\"> <strong><i>position</i></strong>: bottom, bottomleft, bottomright, left, right, top, topleft, topright.</p></li>\n",
        "<li><p align=\"justify\"> <strong><i>size</i></strong>, <strong><i>thickness</i></strong>: valor positivo.</p></li>\n",
        "<li><p align=\"justify\"> <strong><i>symbol</i></strong>: circle, circlefilled, diamond, diamondfilled, square, squarefilled, star, starfilled, triangle, trianglefilled, triangledown, triangledownfilled, asterisk, plus.</p></li>\n",
        "<li><p align=\"justify\"> <strong><i>pattern</i></strong>: solid, shortdash, mediumdash, longdash, dash, dashdashdot, dashdotdot, mediumdashshortdash, longdashshortdash, shortdashdot.</p></li>\n",
        "<li><p align=\"justify\"> <strong><i>down</i></strong>: 1, 2, 3.</p></li>\n",
        "<li><p align=\"justify\"> <strong><i>degree</i></strong>: entero positivo.</p></li>\n",
        "<li><p align=\"justify\"> Incluya <strong><i>clm</i></strong> despues de <strong><i>degree</i></strong>=value.</p></li>\n",
        "</ul>\n"
      ],
      "cell_type": "markdown"
    },
    {
      "metadata": {
        "id": "Z8uznpdTS0i2"
      },
      "source": [
        "\n",
        "<p><strong>Ejemplo 10</strong></p>\n",
        "<p align=\"justify\"> Se usa un panel para cada categoria de <i>newspaperC</i>. En cada panel se tiene un gráfico de dispersión de las ventas del producto (<i>sales</i>) versus la inversión en publicidad para el mismo (<i>TV</i>), el cual incluye una curva de tendencia obtenida usando regresión no paramétrica (<i>pbspline</i>). Se usan colores y marcadores diferentes para cada categoria de <i>radioC</i>.</p>\n"
      ],
      "cell_type": "markdown"
    },
    {
      "metadata": {
        "id": "oKpe7GAXS0i2"
      },
      "source": [
        "\n",
        "\n",
        "ods graphics on / attrpriority=none;\n",
        "proc sgpanel data=Advertising;\n",
        "      styleattrs datacontrastcolors=(red black blue) \n",
        "                 datasymbols=(circlefilled squarefilled trianglefilled);\n",
        "      panelby    newspaperC / layout=panel rows=2 columns=2 uniscale=row novarname \n",
        "                              headerattrs=(color=blue size=8 weight=normal);           \n",
        "      scatter    x=tv y=sales / group=radioC grouporder=ascending markerattrs=(size=8);\n",
        "      pbspline   x=tv y=sales / group=radioC nomarkers smooth=5e5 lineattrs=(pattern=solid thickness=2);\n",
        "      title      color=black justify=center \"Inversión en publicidad en periódico\";\n",
        "      colaxis    label=\"Inversión en publicidad en TV\" labelpos=center grid\n",
        "                 labelattrs=(color=blue size=8 weight=normal);\n",
        "      rowaxis    label=\"Ventas\" labelpos=center grid\n",
        "                 labelattrs=(color=blue size=8 weight=normal);\n",
        "      legenditem type=markerline name=\"B\" / label=\"Baja\"  lineattrs=GraphData1 markerattrs=GraphData1; \n",
        "      legenditem type=markerline name=\"M\" / label=\"Media\" lineattrs=GraphData2 markerattrs=GraphData2; \n",
        "      legenditem type=markerline name=\"A\" / label=\"Alta\"  lineattrs=GraphData3 markerattrs=GraphData3;            \n",
        "      keylegend  \"B\" \"M\" \"A\" / noborder title=\"Publicidad en Radio\" down=1 position=bottom;\n",
        "      format     radioC bma. newspaperC bmma.;\n",
        "run;\n",
        "ods graphics on / attrpriority=color;\n",
        "\n",
        "\n"
      ],
      "execution_count": null,
      "cell_type": "code",
      "outputs": []
    },
    {
      "metadata": {
        "id": "AqoEXo_XS0i2"
      },
      "source": [
        "\n",
        "<p><strong>Ejemplo 11</strong></p>\n",
        "<p align=\"justify\"> Se ilustra la evolución en el tiempo (<i>date</i>) de las cotizaciones (<i>open</i>) de todos los stocks (<i>stock</i>) usando los datos en <i>sashelp.stocks</i>.</p>\n"
      ],
      "cell_type": "markdown"
    },
    {
      "metadata": {
        "id": "O1B1jGqOS0i2"
      },
      "source": [
        "\n",
        "\n",
        "proc sgplot data=sashelp.stocks;\n",
        "    styleattrs datacontrastcolors=(red blue gray);\n",
        "    series     x=date y=open / markers group=stock markerattrs=(size=4 symbol=squarefilled)\n",
        "               lineattrs=(pattern=solid thickness=1) ;\n",
        "    title      color=black justify=center \"Evolución de la cotización\";\n",
        "    xaxis      label=\" \" grid valueattrs=(color=black size=10);\n",
        "    yaxis      label=\" \" grid valueattrs=(color=black size=10);\n",
        "    keylegend  / title=\" \" noborder down=1 location=inside position=bottomleft;\n",
        "run;\n",
        "\n",
        "\n"
      ],
      "execution_count": null,
      "cell_type": "code",
      "outputs": []
    },
    {
      "metadata": {
        "id": "FUZqD-iwS0i2"
      },
      "source": [
        "\n",
        "<p align=\"justify\"> Modifique el gráfico variando los siguientes parámetros </p><ul>\n",
        "<li><p align=\"justify\"> <strong><i>location</i></strong>: inside, outside.</p></li>\n",
        "<li><p align=\"justify\"> <strong><i>position</i></strong>: bottom, bottomleft, bottomright, left, right, top, topleft, topright.</p></li>\n",
        "<li><p align=\"justify\"> <strong><i>size</i></strong>, <strong><i>thickness</i></strong>: valor positivo.</p></li>\n",
        "<li><p align=\"justify\"> <strong><i>symbol</i></strong>: circle, circlefilled, diamond, diamondfilled, square, squarefilled, star, starfilled, triangle, trianglefilled, triangledown, triangledownfilled, asterisk, plus.</p></li>\n",
        "<li><p align=\"justify\"> <strong><i>pattern</i></strong>: solid, shortdash, mediumdash, longdash, dash, dashdashdot, dashdotdot, mediumdashshortdash, longdashshortdash, shortdashdot.</p></li>\n",
        "<li><p align=\"justify\"> Elimine <strong><i>markers</i></strong>.</p></li>\n",
        "</ul>\n"
      ],
      "cell_type": "markdown"
    },
    {
      "metadata": {
        "id": "L36GahA0S0i2"
      },
      "source": [
        "\n",
        "<p><strong>Ejemplo 12</strong></p>\n",
        "<p align=\"justify\"> Gráfico de la evolución en el tiempo (<i>date</i>) de las cotizaciones (<i>open</i>) y los volumenes (<i>volume</i>) de Microsoft usando los datos en <i>sashelp.stocks</i>.</p>\n"
      ],
      "cell_type": "markdown"
    },
    {
      "metadata": {
        "id": "mB4wu-1JS0i3"
      },
      "source": [
        "\n",
        "\n",
        "proc sgplot data=sashelp.stocks;\n",
        "    series    x=date y=volume / name=\"a\" legendlabel=\"Volumen\"\n",
        "                                lineattrs=(color=gray pattern=solid thickness=1);\n",
        "    series    x=date y=open   / name=\"b\" y2axis legendlabel=\"Cotización\"\n",
        "                                lineattrs=(color=red pattern=solid thickness=1);\n",
        "    xaxis     label=\" \" grid valueattrs=(color=black size=10);\n",
        "    yaxis     label=\"Cantidad\" labelattrs=(color=blue) grid;\n",
        "    y2axis    label=\"Valor, en dólares\" labelattrs=(color=blue) grid;\n",
        "    keylegend \"a\" \"b\" / noborder down=1 location=outside;\n",
        "    where     stock=\"Microsoft\";\n",
        "run;\n",
        "\n",
        "\n"
      ],
      "execution_count": null,
      "cell_type": "code",
      "outputs": []
    },
    {
      "metadata": {
        "id": "yzwzQfKyS0i3"
      },
      "source": [
        "\n",
        "<p align=\"justify\"> Modifique el gráfico variando los siguientes parámetros </p><ul>\n",
        "<li><p align=\"justify\"> <strong><i>location</i></strong>: inside, outside.</p></li>\n",
        "<li><p align=\"justify\"> <strong><i>position</i></strong>: bottom, bottomleft, bottomright, left, right, top, topleft, topright.</p></li>\n",
        "<li><p align=\"justify\"> <strong><i>size</i></strong>, <strong><i>thickness</i></strong>: valor positivo.</p></li>\n",
        "<li><p align=\"justify\"> <strong><i>symbol</i></strong>: circle, circlefilled, diamond, diamondfilled, square, squarefilled, star, starfilled, triangle, trianglefilled, triangledown, triangledownfilled, asterisk, plus.</p></li>\n",
        "<li><p align=\"justify\"> <strong><i>pattern</i></strong>: solid, shortdash, mediumdash, longdash, dash, dashdashdot, dashdotdot, mediumdashshortdash, longdashshortdash, shortdashdot.</p></li>\n",
        "<li><p align=\"justify\"> Agregue <strong><i>markers</i></strong> entre / y <strong><i>name</i></strong>.</p></li>\n",
        "</ul>\n"
      ],
      "cell_type": "markdown"
    },
    {
      "metadata": {
        "id": "eITOXwugS0i3"
      },
      "source": [
        "\n",
        "<p><strong>Ejemplo 13</strong></p>\n",
        "<p align=\"justify\"> Matriz de dispersión con las variables <i>mpg_highway</i>, <i>horsepower</i> y <i>EngineSize</i> del conjunto de datos <i>sashelp.cars</i>.</p>\n"
      ],
      "cell_type": "markdown"
    },
    {
      "metadata": {
        "id": "02TV9HqMS0i3"
      },
      "source": [
        "\n",
        "\n",
        "data cars;\n",
        "set sashelp.cars;\n",
        "run;\n",
        "proc rank data=cars out=cars2 groups=2;\n",
        "   var weight;\n",
        "   ranks weightC;\n",
        "run;\n",
        "data cars;\n",
        "set cars2;\n",
        "run;\n",
        "\n",
        "proc format;\n",
        "    value ba 1=\"Bajo\" 2=\"Alto\";\n",
        "run;\n",
        "\n",
        "proc freq data=cars;\n",
        "    table weightC;\n",
        "    format weightC ba.;\n",
        "run;\n",
        "\n",
        "\n"
      ],
      "execution_count": null,
      "cell_type": "code",
      "outputs": []
    },
    {
      "metadata": {
        "id": "z80KtljgS0i3"
      },
      "source": [
        "\n",
        "\n",
        "proc sgscatter data=cars datacontrastcolors=(red blue);\n",
        "   matrix     mpg_highway horsepower enginesize / group=weightC markerattrs=(size=7 symbol=circlefilled)\n",
        "                                                  legend=(down=2 noborder position=right title=\"Peso\");\n",
        "   label      mpg_highway=\"Millas por galón\" horsepower=\"Caballos de fuerza\" enginesize=\"Tamaño del motor\";         \n",
        "   title      color=black justify=left \"Matriz de dispersión\";\n",
        "   format     weightC ba.;\n",
        "run;\n",
        "\n",
        "\n"
      ],
      "execution_count": null,
      "cell_type": "code",
      "outputs": []
    },
    {
      "metadata": {
        "id": "r4accoFUS0i3"
      },
      "source": [
        "\n",
        "<p align=\"justify\"> Modifique el gráfico variando los siguientes parámetros </p><ul>\n",
        "<li><p align=\"justify\"> <strong><i>justify</i></strong>: center, left, right.</p></li>\n",
        "<li><p align=\"justify\"> <strong><i>size</i></strong>: valor positivo.</p></li>\n",
        "<li><p align=\"justify\"> <strong><i>symbol</i></strong>: circle, circlefilled, diamond, diamondfilled, square, squarefilled, star, starfilled, triangle, trianglefilled, triangledown, triangledownfilled, asterisk, plus.</p></li>\n",
        "<li><p align=\"justify\"> Agregue <strong><i>diagonal=(histogram kernel)</i></strong> despues de <strong><i>markerattrs=(...)</i></strong>.</p></li>\n",
        "</ul>\n"
      ],
      "cell_type": "markdown"
    },
    {
      "metadata": {
        "id": "PgRM5y5zS0i3"
      },
      "source": [
        "\n",
        "<p><strong>Ejemplo 14</strong></p>\n",
        "<p align=\"justify\"> Gráficos de dispersión de <i>mpg_highway</i> versus las variables <i>horsepower</i>, <i>weight</i>, <i>wheelbase</i> y <i>engine_size</i> del conjunto de datos <i>sashelp.cars</i>. Cada gráfico incluye una curva de tendencia obtenida usando regresión polinómica.</p>\n"
      ],
      "cell_type": "markdown"
    },
    {
      "metadata": {
        "id": "44X64TeZS0i3"
      },
      "source": [
        "\n",
        "\n",
        "proc sgscatter data=sashelp.cars;\n",
        "    plot  mpg_highway*(horsepower weight wheelbase enginesize) / rows=2 columns=2\n",
        "          grid reg=(lineattrs=(thickness=2 color=blue) degree=3) \n",
        "          markerattrs=(size=5 symbol=circlefilled color=red);\n",
        "    label mpg_highway=\"Millas por galón\" horsepower=\"Caballos de fuerza\" weight=\"Peso\"\n",
        "          wheelbase=\"Distancia entre ejes\" enginesize=\"Tamaño del motor\"; \n",
        "    title color=black justify=right \"Gráficos de dispersión\";\n",
        "run;\n",
        "\n",
        "\n"
      ],
      "execution_count": null,
      "cell_type": "code",
      "outputs": []
    },
    {
      "metadata": {
        "id": "425sU1LlS0i3"
      },
      "source": [
        "\n",
        "<p align=\"justify\"> Modifique el gráfico variando los siguientes parámetros </p><ul>\n",
        "<li><p align=\"justify\"> <strong><i>justify</i></strong>: center, left, right.</p></li>\n",
        "<li><p align=\"justify\"> <strong><i>size</i></strong>, <strong><i>thickness</i></strong>: valor positivo.</p></li>\n",
        "<li><p align=\"justify\"> <strong><i>symbol</i></strong>: circle, circlefilled, diamond, diamondfilled, square, squarefilled, star, starfilled, triangle, trianglefilled, triangledown, triangledownfilled, asterisk, plus.</p></li>\n",
        "<li><p align=\"justify\"> <strong><i>degree</i></strong>: entero positivo.</p></li>\n",
        "<li><p align=\"justify\"> Agregue <strong><i>clm</i></strong> despues de <strong><i>degreee</i></strong>=value.</p></li>\n",
        "</ul>\n"
      ],
      "cell_type": "markdown"
    },
    {
      "metadata": {
        "id": "BxZOMD52S0i3"
      },
      "source": [
        "\n",
        "<p><strong>Ejemplo 15</strong></p>\n",
        "<p align=\"justify\"> Gráfico tipo <i>dona</i> que muestra el porcentaje de municipios en cada categoria de la variable <i>Region</i>.</p>\n"
      ],
      "cell_type": "markdown"
    },
    {
      "metadata": {
        "id": "tLBSvkI3S0i4"
      },
      "source": [
        "\n",
        "\n",
        "proc sgpie data=CursoSAS.Municipios;\n",
        "    styleattrs backcolor=white datacolors=(orange blue salmon green yellow aquamarine);\n",
        "    donut Region / datalabelattrs=(color=black size=11 style=normal weight=bold) \n",
        "                   datalabeldisplay=(category percent) ringsize=0.4\n",
        "                   datalabelloc=outside holelabel=\"Colombia\"\n",
        "                   holelabelattrs=(color=red style=normal weight=bold);\n",
        "    title \"Distribución del número de municipios por Región\";             \n",
        "run;\n",
        "\n",
        "\n"
      ],
      "execution_count": null,
      "cell_type": "code",
      "outputs": []
    },
    {
      "metadata": {
        "id": "CVue0Ud-S0i4"
      },
      "source": [
        "\n",
        "<p align=\"justify\"> Modifique el gráfico variando los siguientes parámetros </p><ul>\n",
        "<li><p align=\"justify\"> <strong><i>style</i></strong>: italic, normal.</p></li>\n",
        "<li><p align=\"justify\"> <strong><i>weight</i></strong>: bold, normal.</p></li>\n",
        "<li><p align=\"justify\"> <strong><i>size</i></strong>: valor positivo.</p></li>\n",
        "<li><p align=\"justify\"> <strong><i>datalabeldisplay</i></strong>: category, response, percent.</p></li>\n",
        "<li><p align=\"justify\"> <strong><i>datalabelloc</i></strong>: inside, outside, callout.</p></li>\n",
        "<li><p align=\"justify\"> <strong><i>direction</i></strong>: clockwise, counterclockwise.</p></li>\n",
        "<li><p align=\"justify\"> <strong><i>ringsize</i></strong>: Valor en el intervalo $(0,1]$.</p></li>\n",
        "</ul>\n"
      ],
      "cell_type": "markdown"
    },
    {
      "metadata": {
        "id": "CsFGkI8GS0i4"
      },
      "source": [
        "\n",
        "<p><strong>Ejemplo 16</strong></p>\n",
        "<p align=\"justify\"> Gráfico tipo <i>dona</i> que muestra el porcentaje de la superficie de Colombia que representan los municipios de cada categoria de la variable <i>Region</i>.</p>\n"
      ],
      "cell_type": "markdown"
    },
    {
      "metadata": {
        "id": "BTIAMJjOS0i4"
      },
      "source": [
        "\n",
        "\n",
        "proc sgpie data=CursoSAS.Municipios;\n",
        "    styleattrs backcolor=white datacolors=(orange blue salmon green yellow aquamarine);\n",
        "    donut Region / datalabelattrs=(color=black size=11 style=normal weight=bold) \n",
        "                   datalabeldisplay=(category percent) ringsize=0.4 \n",
        "                   datalabelloc=outside holelabel=\"Colombia\" response=superficie\n",
        "                   holelabelattrs=(color=red style=normal weight=bold);\n",
        "    title \"Distribución de la Superficie por Región\";             \n",
        "run;\n",
        "\n",
        "\n"
      ],
      "execution_count": null,
      "cell_type": "code",
      "outputs": []
    },
    {
      "metadata": {
        "id": "YXKUJtFrS0i4"
      },
      "source": [
        "\n",
        "<p align=\"justify\"> Modifique el gráfico variando los siguientes parámetros </p><ul>\n",
        "<li><p align=\"justify\"> <strong><i>style</i></strong>: italic, normal.</p></li>\n",
        "<li><p align=\"justify\"> <strong><i>weight</i></strong>: bold, normal.</p></li>\n",
        "<li><p align=\"justify\"> <strong><i>size</i></strong>: valor positivo.</p></li>\n",
        "<li><p align=\"justify\"> <strong><i>datalabeldisplay</i></strong>: category, response, percent.</p></li>\n",
        "<li><p align=\"justify\"> <strong><i>datalabelloc</i></strong>: inside, outside, callout.</p></li>\n",
        "<li><p align=\"justify\"> <strong><i>direction</i></strong>: clockwise, counterclockwise.</p></li>\n",
        "<li><p align=\"justify\"> <strong><i>ringsize</i></strong>: Valor en el intervalo $(0,1]$.</p></li>\n",
        "</ul>\n"
      ],
      "cell_type": "markdown"
    },
    {
      "metadata": {
        "id": "HsCtk3e8S0i4"
      },
      "source": [
        "\n",
        "<p><strong>Ejemplo 17</strong></p>\n",
        "<p align=\"justify\"> Gráfico tipo <i>torta</i> que muestra el porcentaje de la población de Colombia que representan los municipios de cada categoria de la variable <i>Region</i>.</p>\n"
      ],
      "cell_type": "markdown"
    },
    {
      "metadata": {
        "id": "Wqi3YmToS0i4"
      },
      "source": [
        "\n",
        "\n",
        "proc sgpie data=CursoSAS.Municipios;\n",
        "    styleattrs backcolor=white datacolors=(orange blue salmon green yellow aquamarine);\n",
        "    pie Region /   datalabelattrs=(color=black size=11 style=normal weight=bold) \n",
        "                   datalabeldisplay=(category percent)\n",
        "                   datalabelloc=outside response=poblacion;\n",
        "    title \"Distribución de la Población por Región\";             \n",
        "run;\n",
        "\n",
        "\n"
      ],
      "execution_count": null,
      "cell_type": "code",
      "outputs": []
    },
    {
      "metadata": {
        "id": "nbw0NswzS0i4"
      },
      "source": [
        "\n",
        "<p align=\"justify\"> Modifique el gráfico variando los siguientes parámetros </p><ul>\n",
        "<li><p align=\"justify\"> <strong><i>style</i></strong>: italic, normal.</p></li>\n",
        "<li><p align=\"justify\"> <strong><i>weight</i></strong>: bold, normal.</p></li>\n",
        "<li><p align=\"justify\"> <strong><i>size</i></strong>: valor positivo.</p></li>\n",
        "<li><p align=\"justify\"> <strong><i>datalabeldisplay</i></strong>: category, response, percent.</p></li>\n",
        "<li><p align=\"justify\"> <strong><i>datalabelloc</i></strong>: inside, outside, callout.</p></li>\n",
        "<li><p align=\"justify\"> <strong><i>direction</i></strong>: clockwise, counterclockwise.</p></li>\n",
        "</ul>\n"
      ],
      "cell_type": "markdown"
    },
    {
      "metadata": {
        "id": "jZMG7GbfS0i4"
      },
      "source": [
        "\n",
        "<p><strong>Ejemplo 18</strong></p>\n",
        "<p align=\"justify\"> Gráfico tipo <i>torta</i> que muestra el porcentaje de la superficie de Colombia que representan los municipios de cada categoria de la variable <i>Region</i>.</p>\n"
      ],
      "cell_type": "markdown"
    },
    {
      "metadata": {
        "id": "SKV-PRtBS0i4"
      },
      "source": [
        "\n",
        "\n",
        "proc sgpie data=CursoSAS.Municipios;\n",
        "    styleattrs backcolor=white datacolors=(orange blue salmon green yellow aquamarine);\n",
        "    pie Region /   datalabelattrs=(color=black size=11 style=normal weight=bold) \n",
        "                   datalabeldisplay=(category percent)\n",
        "                   datalabelloc=outside response=poblacion;\n",
        "    title \"Distribución de la Población por Región\";             \n",
        "run;\n",
        "\n",
        "\n"
      ],
      "execution_count": null,
      "cell_type": "code",
      "outputs": []
    },
    {
      "metadata": {
        "id": "WjsAEg6eS0i5"
      },
      "source": [
        "\n",
        "<p align=\"justify\"> Modifique el gráfico variando los siguientes parámetros </p><ul>\n",
        "<li><p align=\"justify\"> <strong><i>style</i></strong>: italic, normal.</p></li>\n",
        "<li><p align=\"justify\"> <strong><i>weight</i></strong>: bold, normal.</p></li>\n",
        "<li><p align=\"justify\"> <strong><i>size</i></strong>: valor positivo.</p></li>\n",
        "<li><p align=\"justify\"> <strong><i>datalabeldisplay</i></strong>: category, response, percent.</p></li>\n",
        "<li><p align=\"justify\"> <strong><i>datalabelloc</i></strong>: inside, outside, callout.</p></li>\n",
        "<li><p align=\"justify\"> <strong><i>direction</i></strong>: clockwise, counterclockwise.</p></li>\n",
        "</ul>\n"
      ],
      "cell_type": "markdown"
    },
    {
      "metadata": {
        "id": "O1AMBJ2cS0i5"
      },
      "source": [
        "\n",
        "<p><strong>Ejemplo 19</strong></p>\n",
        "<p align=\"justify\"> Gráfico de barras que muestra el total de <i>Poblacion</i> por <i>Region</i> y <i>Zona</i> en Colombia.</p>\n"
      ],
      "cell_type": "markdown"
    },
    {
      "metadata": {
        "id": "PYgoLQYhS0i5"
      },
      "source": [
        "\n",
        "\n",
        "proc sgplot data=CursoSAS.Municipios;\n",
        "    styleattrs datacolors=(orange blue) datacontrastcolors=(orange blue);      \n",
        "    hbar       Region / group=zona response=poblacion groupdisplay=cluster\n",
        "                        outlineattrs=(thickness=1) clusterwidth=0.85 stat=sum; \n",
        "    title      \"Distribución de la Población por Región\" color=black bcolor=white;    \n",
        "    xaxis      label=\"Población\" grid valueattrs=(color=black size=10 style=normal weight=normal);\n",
        "    yaxis      label=\" \" valueattrs=(color=black size=10 style=normal weight=normal);\n",
        "    keylegend  / noborder down=2 location=outside position=right title=\"Zona\"\n",
        "                 valueattrs=(color=black size=9  style=normal weight=normal)\n",
        "                 titleattrs=(color=black size=10 style=normal weight=normal);\n",
        "run;\n",
        "\n",
        "\n"
      ],
      "execution_count": null,
      "cell_type": "code",
      "outputs": []
    },
    {
      "metadata": {
        "id": "zTPzfLDNS0i5"
      },
      "source": [
        "\n",
        "<p align=\"justify\"> Modifique el gráfico variando los siguientes parámetros </p><ul>\n",
        "<li><p align=\"justify\"> <strong><i>stat</i></strong>: sum, mean.</p></li>\n",
        "<li><p align=\"justify\"> <strong><i>style</i></strong>: italic, normal.</p></li>\n",
        "<li><p align=\"justify\"> <strong><i>weight</i></strong>: bold, normal.</p></li>\n",
        "<li><p align=\"justify\"> <strong><i>size</i></strong>, <strong><i>thickness</i></strong>: valor positivo.</p></li>\n",
        "<li><p align=\"justify\"> <strong><i>location</i></strong>: inside, outside.</p></li>\n",
        "<li><p align=\"justify\"> <strong><i>position</i></strong>: bottom, bottomleft, bottomright, left, right, top, topleft, topright.</p></li>\n",
        "<li><p align=\"justify\"> <strong><i>down</i></strong>: 1, 2.</p></li>\n",
        "<li><p align=\"justify\"> <strong><i>clusterwidth</i></strong>: valor en el intervalo $(0,1)$.</p></li>\n",
        "<li><p align=\"justify\"> Reemplace <strong><i>hbar</i></strong> por <strong><i>vbar</i></strong>, <strong><i>xaxis</i></strong> por <strong><i>yaxis</i></strong>, y <strong><i>yaxis</i></strong> por <strong><i>xaxis</i></strong>.</p></li>\n",
        "</ul>\n"
      ],
      "cell_type": "markdown"
    },
    {
      "metadata": {
        "id": "8yob_LmNS0i8"
      },
      "source": [
        "\n",
        "<p><strong>Ejemplo 20</strong></p>\n",
        "<p align=\"justify\"> Gráfico de barras que muestra el porcentaje de la <i>Superficie</i> por <i>Zona</i> en cada <i>Region</i> de Colombia.</p>\n"
      ],
      "cell_type": "markdown"
    },
    {
      "metadata": {
        "id": "QUX14ZaMS0i8"
      },
      "source": [
        "\n",
        "\n",
        "proc sgplot data=CursoSAS.Municipios pctlevel=group;\n",
        "    styleattrs datacolors=(orange blue) datacontrastcolors=(orange blue);      \n",
        "    hbar       Region / group=zona response=superficie groupdisplay=cluster\n",
        "                        outlineattrs=(thickness=1) clusterwidth=0.85 stat=percent; \n",
        "    title      \"Distribución de la Superficie por Región\" color=black bcolor=white;    \n",
        "    xaxis      label=\"Superficie\" grid valueattrs=(color=black size=10 style=normal weight=normal);\n",
        "    yaxis      label=\" \" valueattrs=(color=black size=10 style=normal weight=normal);\n",
        "    keylegend  / noborder down=2 location=outside position=right title=\"Zona\"\n",
        "                 valueattrs=(color=black size=9  style=normal weight=normal)\n",
        "                 titleattrs=(color=black size=10 style=normal weight=normal);\n",
        "run;\n",
        "\n",
        "\n"
      ],
      "execution_count": null,
      "cell_type": "code",
      "outputs": []
    },
    {
      "metadata": {
        "id": "1EkHoeIsS0i8"
      },
      "source": [
        "\n",
        "<p align=\"justify\"> Modifique el gráfico variando los siguientes parámetros </p><ul>\n",
        "<li><p align=\"justify\"> <strong><i>stat</i></strong>: sum, mean.</p></li>\n",
        "<li><p align=\"justify\"> <strong><i>style</i></strong>: italic, normal.</p></li>\n",
        "<li><p align=\"justify\"> <strong><i>weight</i></strong>: bold, normal.</p></li>\n",
        "<li><p align=\"justify\"> <strong><i>size</i></strong>, <strong><i>thickness</i></strong>: valor positivo.</p></li>\n",
        "<li><p align=\"justify\"> <strong><i>location</i></strong>: inside, outside.</p></li>\n",
        "<li><p align=\"justify\"> <strong><i>position</i></strong>: bottom, bottomleft, bottomright, left, right, top, topleft, topright.</p></li>\n",
        "<li><p align=\"justify\"> <strong><i>down</i></strong>: 1, 2.</p></li>\n",
        "<li><p align=\"justify\"> <strong><i>clusterwidth</i></strong>: valor en el intervalo $(0,1)$.</p></li>\n",
        "<li><p align=\"justify\"> Reemplace <strong><i>hbar</i></strong> por <strong><i>vbar</i></strong>, <strong><i>xaxis</i></strong> por <strong><i>yaxis</i></strong>, y <strong><i>yaxis</i></strong> por <strong><i>xaxis</i></strong>.</p></li>\n",
        "</ul>\n"
      ],
      "cell_type": "markdown"
    },
    {
      "metadata": {
        "id": "wkksNOxKS0i8"
      },
      "source": [
        "\n",
        "<p><strong>Ejemplo 21</strong></p>\n",
        "<p align=\"justify\"> Gráfico de barras que muestra el total de <i>Poblacion</i> por <i>Zona</i>, con un panel por cada categoria de <i>Region</i>.</p>\n"
      ],
      "cell_type": "markdown"
    },
    {
      "metadata": {
        "id": "t5MNfItmS0i8"
      },
      "source": [
        "\n",
        "\n",
        "proc sgpanel data=CursoSAS.Municipios noautolegend;\n",
        "    styleattrs datacolors=(orange blue) datacontrastcolors=(orange blue);      \n",
        "    vbar       zona / group=zona response=poblacion groupdisplay=cluster \n",
        "                      outlineattrs=(thickness=1) clusterwidth=0.85 stat=sum; \n",
        "    panelby    Region / layout=panel rows=2 columns=3 uniscale=row novarname \n",
        "                        headerattrs=(color=blue size=10 weight=normal);           \n",
        "    title      \"Distribución de la Población por Zona\" color=black bcolor=white;  \n",
        "    rowaxis    label=\"Población\" grid valueattrs=(color=black size=10 style=normal weight=normal);\n",
        "    colaxis    label=\" \" valueattrs=(color=black size=10 style=normal weight=normal);\n",
        "run;\n",
        "\n",
        "\n"
      ],
      "execution_count": null,
      "cell_type": "code",
      "outputs": []
    },
    {
      "metadata": {
        "id": "vHINtol-S0i8"
      },
      "source": [
        "\n",
        "<p align=\"justify\"> Modifique el gráfico variando los siguientes parámetros </p><ul>\n",
        "<li><p align=\"justify\"> <strong><i>layout</i></strong>: lattice, columnlattice, rowlattice, panel.</p></li>\n",
        "<li><p align=\"justify\"> <strong><i>rows</i></strong>: 1, 2 y 3.</p></li>\n",
        "<li><p align=\"justify\"> <strong><i>uniscale</i></strong>: column, row, all.</p></li>\n",
        "</ul>\n",
        "<ul>\n",
        "<li><p align=\"justify\"> <strong><i>size</i></strong>, <strong><i>thickness</i></strong>: valor positivo.</p></li>\n",
        "<li><p align=\"justify\"> <strong><i>style</i></strong>: italic, normal.</p></li>\n",
        "<li><p align=\"justify\"> <strong><i>stat</i></strong>: sum, mean.</p></li>\n",
        "<li><p align=\"justify\"> <strong><i>weight</i></strong>: bold, normal.</p></li>\n",
        "<li><p align=\"justify\"> <strong><i>clusterwidth</i></strong>: valor en el intervalo $(0,1)$.</p></li>\n",
        "<li><p align=\"justify\"> Reemplace <strong><i>hbar</i></strong> por <strong><i>vbar</i></strong>, <strong><i>xaxis</i></strong> por <strong><i>yaxis</i></strong>, y <strong><i>yaxis</i></strong> por <strong><i>xaxis</i></strong>.</p></li>\n",
        "</ul>\n"
      ],
      "cell_type": "markdown"
    },
    {
      "metadata": {
        "id": "LGmNK8XOS0i8"
      },
      "source": [
        "\n",
        "<p><strong>Ejemplo 22</strong></p>\n",
        "<p align=\"justify\"> En estos datos, sacados de <i>Diggle P.J., Heagarty P., Liang K.-Y. y Zeger S.L. (2002) Analysis of Longitudinal Data. Oxford University Press, Oxford</i>, el principal objetivo del análisis es evaluar el efecto de la contaminación por ozono en el crecimiento de los árboles. En un primer grupo (<i>treat=\"ozone-enriched\"</i>), se cultivaron un total de 54 árboles en una atmósfera enriquecida con ozono, mientras que en un segundo grupo (<i>treat=\"normal\"</i>), 25 árboles se cultivaron en una atmósfera normal. El tamaño de cada árbol (<i>size</i>) se observó 13 veces a lo largo del tiempo (<i>days</i>), es decir, 152, 174, 201, 227, 258, 469, 496, 528, 556, 579, 613, 639 y 674 días desde el inicio del experimento.</p>\n"
      ],
      "cell_type": "markdown"
    },
    {
      "metadata": {
        "id": "4G0ZM3j5S0i8"
      },
      "source": [
        "\n",
        "\n",
        "data spruce;\n",
        "    infile \"/home/hvanegasp0/Curso/spruce.txt\" dsd delimiter=\"09\"x firstobs=2;\n",
        "    informat tree treat $15. size comma6.3 days best.;\n",
        "    input tree days size treat;\n",
        "run;\n",
        "\n",
        "proc contents data=spruce varnum;\n",
        "run;\n",
        "\n",
        "proc print data=spruce (obs=10) noobs;\n",
        "run;\n",
        "\n",
        "\n"
      ],
      "execution_count": null,
      "cell_type": "code",
      "outputs": []
    },
    {
      "metadata": {
        "id": "d8ZXw2CoS0i9"
      },
      "source": [
        "\n",
        "\n",
        "proc sgplot data=spruce;\n",
        "    styleattrs datacontrastcolors=(orange blue) datacolors=(orange blue);      \n",
        "    vbox       size / category=days group=treat outliersattrs=(symbol=circlefilled size=4) \n",
        "                      boxwidth=0.8 medianattrs=(color=black pattern=solid thickness=1); \n",
        "    title      \"Tree size across the time\" color=black bcolor=white;    \n",
        "    xaxis      label=\"Days\" valueattrs=(color=black size=10 style=normal weight=normal);\n",
        "    yaxis      label=\"Size\" grid values=(0 to 2000 by 200) \n",
        "               valueattrs=(color=black size=10 style=normal weight=normal);\n",
        "    keylegend  / noborder down=1 location=outside position=bottom title=\"Atmosphere\"\n",
        "                 valueattrs=(color=black size=9  style=normal weight=normal)\n",
        "                 titleattrs=(color=black size=10 style=normal weight=normal);\n",
        "run;\n",
        "\n",
        "\n"
      ],
      "execution_count": null,
      "cell_type": "code",
      "outputs": []
    },
    {
      "metadata": {
        "id": "JDGb8GkbS0i9"
      },
      "source": [
        "\n",
        "<p align=\"justify\"> Modifique el gráfico variando los siguientes parámetros </p><ul>\n",
        "<li><p align=\"justify\"> <strong><i>style</i></strong>: italic, normal.</p></li>\n",
        "<li><p align=\"justify\"> <strong><i>weight</i></strong>: bold, normal.</p></li>\n",
        "<li><p align=\"justify\"> <strong><i>size</i></strong>, <strong><i>thickness</i></strong>: valor positivo.</p></li>\n",
        "<li><p align=\"justify\"> <strong><i>location</i></strong>: inside, outside.</p></li>\n",
        "<li><p align=\"justify\"> <strong><i>position</i></strong>: bottom, bottomleft, bottomright, left, right, top, topleft, topright.</p></li>\n",
        "<li><p align=\"justify\"> <strong><i>down</i></strong>: 1 y 2.</p></li>\n",
        "<li><p align=\"justify\"> <strong><i>boxwidth</i></strong>: valor en el intervalo $(0,1)$.</p></li>\n",
        "<li><p align=\"justify\"> <strong><i>pattern</i></strong>: solid, shortdash, mediumdash, longdash, dash, dashdashdot, dashdotdot, mediumdashshortdash, longdashshortdash, shortdashdot.</p></li>\n",
        "<li><p align=\"justify\"> Reemplace <strong><i>vbox</i></strong> por <strong><i>hbox</i></strong>, <strong><i>xaxis</i></strong> por <strong><i>yaxis</i></strong>, y <strong><i>yaxis</i></strong> por <strong><i>xaxis</i></strong>.</p></li>\n",
        "</ul>\n"
      ],
      "cell_type": "markdown"
    },
    {
      "metadata": {
        "id": "rBgq4f3IS0i9"
      },
      "source": [
        "\n",
        "<p><strong>Ejemplo 23</strong></p>\n",
        "<p align=\"justify\"> En estos datos, sacados de <i>Diggle P.J., Heagarty P., Liang K.-Y. y Zeger S.L. (2002) Analysis of Longitudinal Data. Oxford University Press, Oxford</i>, el principal objetivo del análisis es evaluar el efecto de la contaminación por ozono en el crecimiento de los árboles. En un primer grupo (<i>treat=\"ozone-enriched\"</i>), se cultivaron un total de 54 árboles en una atmósfera enriquecida con ozono, mientras que en un segundo grupo (<i>treat=\"normal\"</i>), 25 árboles se cultivaron en una atmósfera normal. El tamaño de cada árbol (<i>size</i>) se observó 13 veces a lo largo del tiempo (<i>days</i>), es decir, 152, 174, 201, 227, 258, 469, 496, 528, 556, 579, 613, 639 y 674 días desde el inicio del experimento.</p>\n"
      ],
      "cell_type": "markdown"
    },
    {
      "metadata": {
        "id": "3lDi86k9S0i9"
      },
      "source": [
        "\n",
        "\n",
        "proc sgpanel data=spruce;\n",
        "      styleattrs datacolors=(yellow blue);\n",
        "      panelby    days / layout=panel rows=6 columns=2 uniscale=column\n",
        "                         headerattrs=(color=red size=8 weight=normal) sort=ascending;\n",
        "      histogram  size / group=treat dataskin=pressed scale=proportion transparency=0.6 nbins=20;\n",
        "      title      color=black justify=center \"Tree size\";\n",
        "      colaxis    label=\" \" grid values=(0 to 2000 by 500);\n",
        "      rowaxis    label=\" \" grid;\n",
        "      keylegend  / noborder down=1 position=bottom title=\"Atmosphere\"\n",
        "                 valueattrs=(color=black size=9  style=normal weight=normal)\n",
        "                 titleattrs=(color=black size=10 style=normal weight=normal);      \n",
        "      where days ne 674;\n",
        "run;\n",
        "\n",
        "\n"
      ],
      "execution_count": null,
      "cell_type": "code",
      "outputs": []
    },
    {
      "metadata": {
        "id": "t5cwuKNQS0i9"
      },
      "source": [
        "\n",
        "<p><strong>Ejemplo 24</strong></p>\n",
        "<p align=\"justify\"> Mapa con la localización de las estaciones de monitoreo climático.</p>\n"
      ],
      "cell_type": "markdown"
    },
    {
      "metadata": {
        "id": "ikZmDOELS0i9"
      },
      "source": [
        "\n",
        "\n",
        "proc import datafile=\"/home/hvanegasp0/Curso/Estaciones.xlsx\" dbms=xlsx out=Estaciones replace; \n",
        "    getnames=yes;\n",
        "run;\n",
        "\n",
        "proc sgmap plotdata=Estaciones noautolegend;\n",
        "    openstreetmap;\n",
        "    title 'Estaciones de Monitoreo Climático en Colombia';\n",
        "    scatter x=longitud y=latitud / markerattrs=(color=red symbol=circlefilled size=4);\n",
        "run;\n",
        "\n",
        "\n"
      ],
      "execution_count": null,
      "cell_type": "code",
      "outputs": []
    },
    {
      "metadata": {
        "id": "23zXUvHQS0i9"
      },
      "source": [
        "\n",
        "<p align=\"justify\"> Modifique el gráfico variando los siguientes parámetros </p><ul>\n",
        "<li><p align=\"justify\"> Reemplace <strong><i>openstreetmap</i></strong> con <strong><i>esrimap url= 'https://server.arcgisonline.com/arcgis/rest/services/World_Street_Map/MapServer';</i></strong></p></li>\n",
        "</ul>\n"
      ],
      "cell_type": "markdown"
    },
    {
      "metadata": {
        "id": "OCKY7ukeS0i9"
      },
      "source": [
        "\n",
        "<p><strong>Ejemplo 25</strong></p>\n",
        "<p align=\"justify\"> Mapa con la localización de las estaciones de monitoreo climático en Antioquia. El tamaño del marcador es proporcional a la precipitación registrada en cada estación de monitoreo.</p>\n"
      ],
      "cell_type": "markdown"
    },
    {
      "metadata": {
        "id": "C0hIPiPRS0i9"
      },
      "source": [
        "\n",
        "\n",
        "proc sgmap plotdata=Estaciones noautolegend;\n",
        "    openstreetmap;\n",
        "    title 'Estaciones de Monitoreo Climático en Antioquia';\n",
        "    bubble x=longitud y=latitud size=precip / bradiusmin=1 bradiusmax=10 \n",
        "                                              fillattrs=(colr=red) transparency=0.25;\n",
        "    where substrn(Depmun,1,2)=\"05\";\n",
        "run;\n",
        "\n",
        "\n"
      ],
      "execution_count": null,
      "cell_type": "code",
      "outputs": []
    },
    {
      "metadata": {
        "id": "00ho0_P6S0i-"
      },
      "source": [
        "\n",
        "<p align=\"justify\"> Modifique el gráfico variando los siguientes parámetros </p><ul>\n",
        "<li><p align=\"justify\"> Reemplace <strong><i>openstreetmap</i></strong> con <strong><i>esrimap url= 'https://server.arcgisonline.com/arcgis/rest/services/World_Street_Map/MapServer';</i></strong></p></li>\n",
        "</ul>\n"
      ],
      "cell_type": "markdown"
    },
    {
      "metadata": {
        "id": "HHUGQLkkS0i-"
      },
      "source": [
        "\n",
        "## <h2 style=\"color:red;\">Ejercicios</h2><ul>\n",
        "<li><p align=\"justify\"> Importe el conjunto de datos en el archivo <strong>species.xlsx</strong> y cree con él un gráfico de dispersión del número de especies de plantas (<i>Species</i>) versus el nivel de biomasa (<i>Biomass</i>) de las parcelas, en el que el nivel de pH del suelo (<i>pH</i>), que pertenece a una de tres categorias posibles (\"Bajo\", \"Medio\" y \"Alto\"), se identifica mediante el tipo y el color de los símbolos que identifican cada parcela. En cada nivel del pH del suelo incluya una recta que describa la relación entre <i>Species</i> y <i>Biomass</i>. Haga un segundo gráfico usando tres paneles alineados horizontalmente, uno para cada nivel de pH del suelo.</p></li>\n",
        "<li><p align=\"justify\"> Importe el conjunto de datos en el archivo <strong>mcycle.xlsx</strong> sobre un accidente de motocicleta simulado que se usa para probar cascos de protección. Cree un gráfico de dispersión de la acceleración dela cabeza del piloto (<i>accel</i>) versus el tiempo (<i>times</i>), en milisegundos, desde el impacto que se produjo como resultado del accidente. Incluya una curva suave (regresión polinómica o regresión no paramétrica) que describa la relación entre <i>accel</i> y <i>times</i>.</p></li>\n",
        "<li><p align=\"justify\"> Haga un gráfico de las series mensuales de índices de precios (<i>fspcap</i>, <i>fspcom</i> y <i>fspcon</i>) que se encuentran en el conjunto de datos <strong>sashelp.citimon</strong>, en el cual se pueda observar facilmente la asociación entre ellas, si es que existe. Incluya en el mismo gráfico la serie mensual de la tasa de desempleo para mayores de 16 años (<i>lhur</i>).</p></li>\n",
        "<li><p align=\"justify\"> Haga gráficos de caja (verticales u horizontales) con la información del conjunto de datos <strong>sashelp.bmt</strong> en el que se observen las diferencias entre las distribuciones del tiempo de sobrevivencia despues del transplante (<i>t</i>) para los tres grupos de riesgo (<i>group</i>). Considere solamente los pacientes para los que se conoce su desenlace antes del final del estudio (<i>status=1</i>). Haga un segundo gráfico en el que los gráficos de caja se reemplazan por histogramas.</p></li>\n",
        "</ul>\n"
      ],
      "cell_type": "markdown"
    },
    {
      "cell_type": "code",
      "source": [
        "\n",
        "/************************************************/\n",
        "/************************************************/\n",
        "/**************** Primer punto ******************/\n",
        "/************************************************/\n",
        "/************************************************/\n",
        "\n",
        "proc import datafile=\"/home/hvanegasp0/Curso/species.xlsx\" dbms=xlsx out=species replace;\n",
        "    getnames=yes;\n",
        "run;\n",
        "\n",
        "proc contents data=species varnum;\n",
        "run;\n",
        "\n",
        "proc print data=species (obs=10) noobs;\n",
        "run;\n",
        "\n",
        "proc sgplot data=species;\n",
        "      scatter    x=Biomass y=Species / markerattrs=(size=8);\n",
        "      reg        x=Biomass y=Species / nomarkers degree=1 lineattrs=(pattern=solid thickness=2);\n",
        "      panelby    pH / layout=panel rows=2 columns=2 uniscale=row novarname \n",
        "                      headerattrs=(color=blue size=8 weight=normal);\n",
        "\t  title      color=black justify=center \"Species richness versus Biomass by pH\";\n",
        "      xaxis      label=\"Biomass\" labelpos=center grid labelattrs=(color=blue size=8 weight=normal);\n",
        "      yaxis      label=\"Number of species\" labelpos=center grid labelattrs=(color=blue size=8 weight=normal);\n",
        "run;\n",
        "\n",
        "proc sgpanel data=species noautolegend;\n",
        "      panelby    pH / layout=panel rows=1 columns=3 uniscale=row novarname \n",
        "                      headerattrs=(color=blue size=8 weight=normal) sort=data;\n",
        "      scatter    x=Biomass y=Species / markerattrs=(symbol=circlefilled size=8 color=red);\n",
        "      reg        x=Biomass y=Species / nomarkers degree=1 lineattrs=(pattern=solid thickness=2 color=blue);\n",
        "\t  title      color=black justify=center \"Species richness versus Biomass by pH\";\n",
        "      colaxis    label=\"Biomass\" labelpos=center grid labelattrs=(color=blue size=8 weight=normal);\n",
        "      rowaxis    label=\"Number of species\" labelpos=center grid labelattrs=(color=blue size=8 weight=normal);\n",
        "run;"
      ],
      "metadata": {
        "id": "bx5Ee4nG21gM"
      },
      "execution_count": null,
      "outputs": []
    },
    {
      "cell_type": "code",
      "source": [
        "/************************************************/\n",
        "/************************************************/\n",
        "/************** Segundo punto *******************/\n",
        "/************************************************/\n",
        "/************************************************/\n",
        "\n",
        "proc import datafile=\"/home/hvanegasp0/Curso/mcycle.xlsx\" dbms=xlsx out=mcycle replace;\n",
        "    getnames=yes;\n",
        "run;\n",
        "\n",
        "proc contents data=mcycle varnum;\n",
        "run;\n",
        "\n",
        "proc print data=mcycle (obs=10) noobs;\n",
        "run;\n",
        "\n",
        "proc sgplot data=mcycle noautolegend;\n",
        "      pbspline x=times y=accel / markerattrs=(symbol=circlefilled size=8 color=red) \n",
        "                                 lineattrs=(pattern=solid thickness=2 color=blue);\n",
        "      title    color=black justify=center \"Acceleration versus time\";\n",
        "      xaxis    label=\"Time, in miliseconds\" labelpos=center grid\n",
        "               labelattrs=(color=blue size=8 weight=normal);\n",
        "      yaxis    label=\"Pilot's head acceleration\" labelpos=center grid\n",
        "               labelattrs=(color=blue size=8 weight=normal);\n",
        "run;\n",
        "\n",
        "\n",
        "proc sgplot data=mcycle noautolegend;\n",
        "      loess    x=times y=accel / markerattrs=(symbol=circlefilled size=8 color=red) \n",
        "                                 lineattrs=(pattern=solid thickness=2 color=blue);\n",
        "      title    color=black justify=center \"Acceleration versus time\";\n",
        "      xaxis    label=\"Time, in miliseconds\" labelpos=center grid\n",
        "               labelattrs=(color=blue size=8 weight=normal);\n",
        "      yaxis    label=\"Pilot's head acceleration\" labelpos=center grid\n",
        "               labelattrs=(color=blue size=8 weight=normal);\n",
        "run;"
      ],
      "metadata": {
        "id": "zNtp00Y425LL"
      },
      "execution_count": null,
      "outputs": []
    },
    {
      "cell_type": "code",
      "source": [
        "/************************************************/\n",
        "/************************************************/\n",
        "/**************** Tercer punto *******************/\n",
        "/************************************************/\n",
        "/************************************************/\n",
        "\n",
        "proc sgplot data=sashelp.citimon;\n",
        "    series    x=date y=fspcap / name=\"a\" legendlabel=\"Price Index: Capital\"\n",
        "                                lineattrs=(color=blue pattern=solid thickness=1);\n",
        "    series    x=date y=fspcom / name=\"b\" legendlabel=\"Price Index: Composit\"\n",
        "                                lineattrs=(color=red pattern=solid thickness=1);\n",
        "    series    x=date y=fspcon / name=\"c\" legendlabel=\"Price Index: Consumer\"\n",
        "                                lineattrs=(color=black pattern=solid thickness=1);\n",
        "    series    x=date y=lhur   / name=\"d\" y2axis legendlabel=\"Unemployement Rate\"\n",
        "                                lineattrs=(color=green pattern=solid thickness=1);\n",
        "    xaxis     label=\" \" grid valueattrs=(color=black size=10);\n",
        "    yaxis     label=\"Price Index\" labelattrs=(color=blue) grid;\n",
        "    y2axis    label=\"Unemployement Rate\" labelattrs=(color=blue) grid;\n",
        "    keylegend \"a\" \"b\" \"c\" \"d\"/ noborder down=2 location=outside;\n",
        "run;"
      ],
      "metadata": {
        "id": "XWq8Ey0a26m0"
      },
      "execution_count": null,
      "outputs": []
    },
    {
      "cell_type": "code",
      "source": [
        "/************************************************/\n",
        "/************************************************/\n",
        "/**************** Cuarto punto *******************/\n",
        "/************************************************/\n",
        "/************************************************/\n",
        "\n",
        "proc sgplot data=sashelp.bmt noautolegend;\n",
        "    vbox  t / category=group boxwidth=0.8 nooutliers fillattrs=(color=blue)   \n",
        "              lineattrs=(color=black pattern=solid thickness=1)\n",
        "              medianattrs=(color=black pattern=solid thickness=1)\n",
        "              meanattrs=(symbol=circlefilled color=black); \n",
        "    title \"Survival time by disease group\" color=red bcolor=white;    \n",
        "    xaxis label=\"Disease group\" labelattrs=(color=red size=10 style=normal weight=normal);\n",
        "    yaxis label=\"Survival time\" grid values=(0 to 1200 by 200) \n",
        "          labelattrs=(color=red size=10 style=normal weight=normal);\n",
        "    where status=1;             \n",
        "run;"
      ],
      "metadata": {
        "id": "8A6TdmrV27-7"
      },
      "execution_count": null,
      "outputs": []
    },
    {
      "metadata": {
        "id": "8bkM4PKBS0i-"
      },
      "source": [
        "\n",
        "# <h1><a href=\"https://documentation.sas.com/doc/en/pgmsascdc/9.4_3.5/odsug/p06w67748n6ms6n1nfhcbg9emn7z.htm\" style=\"color:red;\" target=\"_blank\">10. Output Delivery System (ODS)</a></h1>\n"
      ],
      "cell_type": "markdown"
    },
    {
      "metadata": {
        "id": "uekb0oX-S0i-"
      },
      "source": [
        "\n",
        "<p><strong>Ejemplo 1</strong></p>\n",
        "<p align=\"justify\"> Se crea el libro de Excel <strong>ods.xlsx</strong> que contiene un listado de municipios ordenados de mayor a menor con respecto al número de habitantes y con las variables <i>Depmun</i>, <i>Municipio</i>, <i>Poblacion</i> y <i>Superficie</i> así como los totales de estas dos últimas variables. Se usa una hoja del libro de Excel para cada departamento.</p>\n"
      ],
      "cell_type": "markdown"
    },
    {
      "metadata": {
        "id": "g9B_tydwS0i-"
      },
      "source": [
        "\n",
        "\n",
        "proc sort data=CursoSAS.Municipios;\n",
        "    by Departamento descending Poblacion;\n",
        "run;\n",
        "\n",
        "ods excel file='/home/hvanegasp0/Curso/ods1.xlsx' options(sheet_name='#byval1');\n",
        "\n",
        "options nodate nonumber nobyline;\n",
        "proc print data=CursoSAS.Municipios noobs nosumlabel;\n",
        "    var Depmun Municipio Poblacion Superficie;\n",
        "    by Departamento;\n",
        "    sum Poblacion Superficie;\n",
        "run;\n",
        "\n",
        "ods excel close;\n",
        "\n",
        "\n"
      ],
      "execution_count": null,
      "cell_type": "code",
      "outputs": []
    },
    {
      "metadata": {
        "id": "8_PfkCgdS0i-"
      },
      "source": [
        "\n",
        "<p><strong>Ejemplo 2</strong></p>\n",
        "<p align=\"justify\"> Se crea el archivo <strong>ods.pdf</strong> que contiene un gráfico de barras horizontal de la variable <i>Departamento</i> ponderado por <i>Poblacion</i> para cada categoria de <i>Region</i>.</p>\n"
      ],
      "cell_type": "markdown"
    },
    {
      "metadata": {
        "id": "vuXhzHTPS0i-"
      },
      "source": [
        "\n",
        "\n",
        "proc sort data=CursoSAS.Municipios;\n",
        "    by Region Departamento;\n",
        "run;\n",
        "\n",
        "ods pdf file='/home/hvanegasp0/Curso/ods.pdf';\n",
        "ods noproctitle;\n",
        "options nodate nonumber nobyline;\n",
        "\n",
        "proc sgplot data=CursoSAS.Municipios noautolegend pctlevel=by;\n",
        "    hbar       Departamento / response=poblacion groupdisplay=cluster \n",
        "                              clusterwidth=0.45 stat=pct fillattrs=(color=blue); \n",
        "    yaxis      label=\" \";\n",
        "    xaxis      label=\"(%) Población\";\n",
        "    title      '#byval1';             \n",
        "    by         Region;\n",
        "run;\n",
        "\n",
        "ods pdf close;\n",
        "\n",
        "\n"
      ],
      "execution_count": null,
      "cell_type": "code",
      "outputs": []
    },
    {
      "metadata": {
        "id": "2ZGxhOU2S0i-"
      },
      "source": [
        "\n",
        "<p><strong>Ejemplo 3</strong></p>\n",
        "<p align=\"justify\"> Se crea el archivo <strong>ods.pptx</strong> que contiene un gráfico de barras horizontal de la variable <i>Departamento</i> ponderado por <i>Superficie</i> para cada categoria de <i>Region</i>.</p>\n"
      ],
      "cell_type": "markdown"
    },
    {
      "metadata": {
        "id": "f1W0nRt3S0i-"
      },
      "source": [
        "\n",
        "\n",
        "ods powerpoint file='/home/hvanegasp0/Curso/ods.pptx';\n",
        "ods noproctitle;\n",
        "options nodate nonumber nobyline;\n",
        "\n",
        "proc sgplot data=CursoSAS.Municipios noautolegend pctlevel=by;\n",
        "    hbar       Departamento / response=superficie groupdisplay=cluster \n",
        "                              clusterwidth=0.45 stat=pct fillattrs=(color=red); \n",
        "    yaxis      label=\" \";\n",
        "    xaxis      label=\"(%) Superficie\";\n",
        "    title      '#byval1';             \n",
        "    by         Region;\n",
        "run;\n",
        "\n",
        "ods powerpoint close;\n",
        "\n",
        "\n"
      ],
      "execution_count": null,
      "cell_type": "code",
      "outputs": []
    },
    {
      "metadata": {
        "id": "zgOYKI4zS0i-"
      },
      "source": [
        "\n",
        "<p><strong>Ejemplo 4</strong></p>\n",
        "<p align=\"justify\"> Se crea el archivo <strong>ods.docx</strong> que contiene una tabla con algunas estadísticas descriptivas de las variables <i>Poblacion</i>, <i>Superficie</i> e <i>Irural</i> para cada categoria de <i>Region</i>.</p>\n"
      ],
      "cell_type": "markdown"
    },
    {
      "metadata": {
        "id": "e9AV6xV4S0i_"
      },
      "source": [
        "\n",
        "\n",
        "ods word file='/home/hvanegasp0/Curso/ods.docx';\n",
        "ods noproctitle;\n",
        "options nodate nonumber nobyline;\n",
        "\n",
        "proc means data=CursoSAS.Municipios n min p25 p50 p75 max nolabels;\n",
        "    var Poblacion Superficie Irural;\n",
        "    by Region;\n",
        "    title '#byval1';\n",
        "run;\n",
        "\n",
        "ods word close;\n",
        "\n",
        "\n"
      ],
      "execution_count": null,
      "cell_type": "code",
      "outputs": []
    },
    {
      "metadata": {
        "id": "ajwK9kg-S0i_"
      },
      "source": [
        "\n",
        "# <h1 style=\"color:red;\">11. Probabilidad</h1>\n"
      ],
      "cell_type": "markdown"
    },
    {
      "metadata": {
        "id": "xu9jhjWoS0i_"
      },
      "source": [
        "\n",
        "<p><img height=\"350\" src=\"https://sas2022.netlify.app/prob1.png\" width=\"700\"/>\n",
        "<img height=\"350\" src=\"https://sas2022.netlify.app/prob2.png\" width=\"700\"/>\n",
        "<img height=\"350\" src=\"https://sas2022.netlify.app/prob3.png\" width=\"700\"/></p>\n"
      ],
      "cell_type": "markdown"
    },
    {
      "metadata": {
        "id": "RfdCD3jUS0i_"
      },
      "source": [
        "\n",
        "<p><strong>Ejemplo 1</strong></p>\n",
        "<p align=\"justify\"> Gráfico de la función de probabilidad de una variable aleatoria con distribución Binomial de parámetros $n=10$ y $\\pi = 0.45$.</p>\n"
      ],
      "cell_type": "markdown"
    },
    {
      "metadata": {
        "id": "EXecc3cMS0i_"
      },
      "source": [
        "\n",
        "\n",
        "data binom;\n",
        "    do i=0 to 10 by 1;\n",
        "       pdf = pdf(\"binomial\",i,0.45,10);\n",
        "       output;\n",
        "    end;\n",
        "run;\n",
        "\n",
        "proc sgplot data=binom noautolegend;\n",
        "    needle  x=i y=pdf / baseline=-1\n",
        "            lineattrs=(pattern=solid color=red thickness=1);\n",
        "    scatter x=i y=pdf / markerattrs=(symbol=circlefilled color=red);      \n",
        "    text    x=i y=pdf text=pdf/textattrs=(weight=bold) position=topleft;\n",
        "    title   justify=center color=blue \"Distribución Binomial(10,0.45)\";\n",
        "    xaxis   label=\"x\" labelattrs=(color=blue) values=(0 to 10 by 1);\n",
        "    yaxis   label=\"P(X=x)\" labelattrs=(color=blue) grid min=0;\n",
        "run;\n",
        "\n",
        "\n"
      ],
      "execution_count": null,
      "cell_type": "code",
      "outputs": []
    },
    {
      "metadata": {
        "id": "H7KAUqehS0i_"
      },
      "source": [
        "\n",
        "<p align=\"justify\"> Modifique el gráfico variando los siguientes parámetros </p><ul>\n",
        "<li><p align=\"justify\"> <strong><i>thickness</i></strong>: valores positivos.</p></li>\n",
        "<li><p align=\"justify\"> <strong><i>justify</i></strong>: left, center, right.</p></li>\n",
        "<li><p align=\"justify\"> <strong><i>position</i></strong>: topleft, topright, bottomleft, bottomright.</p></li>\n",
        "<li><p align=\"justify\"> <strong><i>weight</i></strong>: bold, normal.</p></li>\n",
        "<li><p align=\"justify\"> <strong><i>pattern</i></strong>: solid, shortdash, mediumdash, longdash, dash, dashdashdot, dashdotdot, mediumdashshortdash, longdashshortdash, shortdashdot.</p></li>\n",
        "</ul>\n"
      ],
      "cell_type": "markdown"
    },
    {
      "metadata": {
        "id": "eneu9fSnS0i_"
      },
      "source": [
        "\n",
        "<p><strong>Ejemplo 2</strong></p>\n",
        "<p align=\"justify\"> Gráfico de la función de distribución acumulada de una variable aleatoria con distribución Binomial de parámetros $n=10$ y $\\pi = 0.45$.</p>\n"
      ],
      "cell_type": "markdown"
    },
    {
      "metadata": {
        "id": "dq9kiQ-hS0i_"
      },
      "source": [
        "\n",
        "\n",
        "data binom;\n",
        "set binom;\n",
        "    cdf = cdf(\"binomial\",i,0.4,10);\n",
        "    j = i + 1;\n",
        "run;\n",
        "\n",
        "proc sgplot data=binom noautolegend;\n",
        "    vector  x=i y=cdf / xorigin=j yorigin=cdf noarrowheads\n",
        "                        lineattrs=(color=red thickness=1);\n",
        "    scatter x=i y=cdf / markerattrs=(symbol=circlefilled color=red);\n",
        "    text    x=i y=cdf text=cdf/textattrs=(weight=bold) position=topleft;\n",
        "    title   justify=center color=blue \"Distribución Binomial(10,0.4)\";\n",
        "    xaxis   label=\"x\" labelattrs=(color=blue) values=(0 to 10 by 1);\n",
        "    yaxis   label=\"P(X<=x)\" labelattrs=(color=blue) grid;\n",
        "run;\n",
        "\n",
        "\n"
      ],
      "execution_count": null,
      "cell_type": "code",
      "outputs": []
    },
    {
      "metadata": {
        "id": "ipGUBAn2S0i_"
      },
      "source": [
        "\n",
        "<p align=\"justify\"> Modifique el gráfico variando los siguientes parámetros </p><ul>\n",
        "<li><p align=\"justify\"> <strong><i>thickness</i></strong>: valores positivos.</p></li>\n",
        "<li><p align=\"justify\"> <strong><i>justify</i></strong>: left, center, right.</p></li>\n",
        "<li><p align=\"justify\"> <strong><i>position</i></strong>: topleft, topright, bottomleft, bottomright.</p></li>\n",
        "<li><p align=\"justify\"> <strong><i>weight</i></strong>: bold, normal.</p></li>\n",
        "<li><p align=\"justify\"> <strong><i>pattern</i></strong>: solid, shortdash, mediumdash, longdash, dash, dashdashdot, dashdotdot, mediumdashshortdash, longdashshortdash, shortdashdot.</p></li>\n",
        "</ul>\n"
      ],
      "cell_type": "markdown"
    },
    {
      "metadata": {
        "id": "QwEBvlJKS0jA"
      },
      "source": [
        "\n",
        "<p><img height=\"350\" src=\"https://sas2022.netlify.app/prob4.png\" width=\"700\"/>\n",
        "<img height=\"350\" src=\"https://sas2022.netlify.app/prob5.png\" width=\"700\"/>\n",
        "<img height=\"350\" src=\"https://sas2022.netlify.app/prob6.png\" width=\"700\"/>\n",
        "<img height=\"350\" src=\"https://sas2022.netlify.app/prob7.png\" width=\"700\"/></p>\n"
      ],
      "cell_type": "markdown"
    },
    {
      "metadata": {
        "id": "RWe1X975S0jA"
      },
      "source": [
        "\n",
        "<p><strong>Ejemplo 3</strong></p>\n",
        "<p align=\"justify\"> Gráfico de $f_{X}(x)$ y $F_{X}(x)$ para una variable aleatoria con distribución Beta de parámetros $\\alpha=1.5$ and $\\beta=9$.</p>\n"
      ],
      "cell_type": "markdown"
    },
    {
      "metadata": {
        "id": "alXBl14QS0jA"
      },
      "source": [
        "\n",
        "\n",
        "data beta;\n",
        "    do i=0 to 1 by 0.01;\n",
        "       pdf = pdf(\"beta\",i,1.5,9.0);\n",
        "       cdf = cdf(\"beta\",i,1.5,9.0);\n",
        "       output;\n",
        "    end;\n",
        "run;\n",
        "\n",
        "proc sgplot data=beta;\n",
        "    series    x=i y=pdf / lineattrs=(pattern=solid color=black thickness=2)\n",
        "                       name=\"a\" legendlabel=\"Probability density function\";\n",
        "    series    x=i y=cdf / lineattrs=(pattern=solid color=blue thickness=2) y2axis\n",
        "                       name=\"b\" legendlabel=\"Cumulative distribution function\";\n",
        "    title     justify=center color=red \"Distribution Beta(1.5,9.0)\";\n",
        "    xaxis     label=\"x\" labelattrs=(color=red size=12) grid;\n",
        "    yaxis     label=\"f(x)\" labelattrs=(color=black size=12) grid;\n",
        "    y2axis    label=\"F(x)\" labelattrs=(color=blue size=12) grid;\n",
        "    keylegend \"a\" \"b\" / noborder position=bottomleft down=2;\n",
        "run;\n",
        "\n",
        "\n"
      ],
      "execution_count": null,
      "cell_type": "code",
      "outputs": []
    },
    {
      "metadata": {
        "id": "P_xZXueiS0jA"
      },
      "source": [
        "\n",
        "<p align=\"justify\"> Modifique el gráfico variando los siguientes parámetros </p><ul>\n",
        "<li><p align=\"justify\"> <strong><i>size</i></strong>, <strong><i>thickness</i></strong>: valores positivos.</p></li>\n",
        "<li><p align=\"justify\"> <strong><i>justify</i></strong>: left, center, right.</p></li>\n",
        "<li><p align=\"justify\"> <strong><i>position</i></strong>: topleft, topright, bottomleft, bottomright.</p></li>\n",
        "<li><p align=\"justify\"> <strong><i>down</i></strong>: 1 y 2.</p></li>\n",
        "<li><p align=\"justify\"> <strong><i>pattern</i></strong>: solid, shortdash, mediumdash, longdash, dash, dashdashdot, dashdotdot, mediumdashshortdash, longdashshortdash, shortdashdot.</p></li>\n",
        "</ul>\n"
      ],
      "cell_type": "markdown"
    },
    {
      "metadata": {
        "id": "9WS9jCnkS0jA"
      },
      "source": [
        "\n",
        "<p><strong>Ejemplo 4</strong></p>\n",
        "<p align=\"justify\"> Gráfico de $f_{X}(x)$ y $F_{X}(x)$ para una variable aleatoria con distribución normal estándar.</p>\n"
      ],
      "cell_type": "markdown"
    },
    {
      "metadata": {
        "id": "e19E1wO1S0jA"
      },
      "source": [
        "\n",
        "\n",
        "data normal;\n",
        "    do i=-4 to 4 by 0.01;\n",
        "       pdf = pdf(\"normal\",i,0,1);\n",
        "       cdf = cdf(\"normal\",i,0,1);\n",
        "       output;\n",
        "    end;\n",
        "run;\n",
        "\n",
        "proc sgplot data=normal;\n",
        "    series     x=i y=pdf / lineattrs=(pattern=solid color=black thickness=2)\n",
        "                           name=\"a\" legendlabel=\"Probability density function\";\n",
        "    series     x=i y=cdf / lineattrs=(pattern=solid color=blue thickness=2) y2axis\n",
        "                       name=\"b\" legendlabel=\"Cumulative distribution function\";\n",
        "    title      justify=center color=red \"Standard Normal Distribution\";\n",
        "    xaxis      label=\"x\" labelattrs=(color=red size=12) grid;\n",
        "    yaxis      label=\"f(x)\" labelattrs=(color=black size=12) grid;\n",
        "    y2axis     label=\"F(x)\" labelattrs=(color=blue size=12) grid;\n",
        "    keylegend \"a\" \"b\" / noborder position=bottomleft down=2;\n",
        "run;\n",
        "\n",
        "\n"
      ],
      "execution_count": null,
      "cell_type": "code",
      "outputs": []
    },
    {
      "metadata": {
        "id": "oN1nSs9GS0jA"
      },
      "source": [
        "\n",
        "<p align=\"justify\"> Modifique el gráfico variando los siguientes parámetros </p><ul>\n",
        "<li><p align=\"justify\"> <strong><i>size</i></strong>, <strong><i>thickness</i></strong>: valores positivos.</p></li>\n",
        "<li><p align=\"justify\"> <strong><i>justify</i></strong>: left, center, right.</p></li>\n",
        "<li><p align=\"justify\"> <strong><i>position</i></strong>: topleft, topright, bottomleft, bottomright.</p></li>\n",
        "<li><p align=\"justify\"> <strong><i>down</i></strong>: 1 y 2.</p></li>\n",
        "<li><p align=\"justify\"> <strong><i>pattern</i></strong>: solid, shortdash, mediumdash, longdash, dash, dashdashdot, dashdotdot, mediumdashshortdash, longdashshortdash, shortdashdot.</p></li>\n",
        "</ul>\n"
      ],
      "cell_type": "markdown"
    },
    {
      "metadata": {
        "id": "yfxBbAwuS0jA"
      },
      "source": [
        "\n",
        "# <h1><a href=\"https://documentation.sas.com/doc/en/pgmsascdc/9.4_3.4/imlug/imlug_imlstart_sect012.htm\" style=\"color:red;\" target=\"_blank\">12. proc iml</a></h1><h2 style=\"color:black;\">Creación y manipulación de vectores y matrices</h2>\n"
      ],
      "cell_type": "markdown"
    },
    {
      "metadata": {
        "id": "4B-w96HnS0jA"
      },
      "source": [
        "\n",
        "<p><img height=\"350\" src=\"https://sas2022.netlify.app/iml1.png\" width=\"700\"/>\n",
        "<img height=\"350\" src=\"https://sas2022.netlify.app/iml2.png\" width=\"700\"/>\n",
        "<img height=\"350\" src=\"https://sas2022.netlify.app/iml3.png\" width=\"700\"/>\n",
        "<img height=\"350\" src=\"https://sas2022.netlify.app/iml4.png\" width=\"700\"/></p>\n"
      ],
      "cell_type": "markdown"
    },
    {
      "metadata": {
        "id": "Na6LOrOzS0jB"
      },
      "source": [
        "\n",
        "<h1><a href=\"https://documentation.sas.com/doc/en/pgmsascdc/9.4_3.4/imlug/imlug_langref_sect002.htm\" style=\"color:red;\" target=\"_blank\">Otras funciones en iml</a></h1>\n"
      ],
      "cell_type": "markdown"
    },
    {
      "metadata": {
        "id": "urk8OBNxS0jB"
      },
      "source": [
        "\n",
        "<p><strong>Ejemplo 1</strong></p>\n",
        "<p align=\"justify\"> La matriz <i>M</i> es definida positiva?</p>\n"
      ],
      "cell_type": "markdown"
    },
    {
      "metadata": {
        "id": "OupreREmS0jB"
      },
      "source": [
        "\n",
        "\n",
        "proc iml;\n",
        "    M = {5 1, 1 3};\n",
        "    a = min(eigval(M));\n",
        "    if(a > 0) then\n",
        "      print \"La matriz M es definida positiva pues su mínimo valor propio es\" a[label=\"\"];  \n",
        "    else print \"La matriz M no es definida positiva\";\n",
        "quit;\n",
        "\n",
        "\n"
      ],
      "execution_count": null,
      "cell_type": "code",
      "outputs": []
    },
    {
      "metadata": {
        "id": "-bxxTc6cS0jB"
      },
      "source": [
        "\n",
        "<p><strong>Ejemplo 2</strong></p>\n",
        "<p align=\"justify\"> La matriz <i>M</i> es singular?</p>\n"
      ],
      "cell_type": "markdown"
    },
    {
      "metadata": {
        "id": "tOUuy8ZgS0jB"
      },
      "source": [
        "\n",
        "\n",
        "proc iml;\n",
        "    M = {5 1, 1 -3};\n",
        "    a = det(M);\n",
        "    if(a ^= 0) then print \"La matriz M no es singular pues su determinante es\" a[label=\"\"];\n",
        "    else print \"La matriz M es singular\";\n",
        "quit;\n",
        "\n",
        "\n"
      ],
      "execution_count": null,
      "cell_type": "code",
      "outputs": []
    },
    {
      "metadata": {
        "id": "5MCPa5aFS0jB"
      },
      "source": [
        "\n",
        "<p><strong>Ejemplo 3</strong></p>\n",
        "<p align=\"justify\"> Se calcula el vector de medias, la matriz de varianzas-covarianzas, así como la matriz de correlaciones de las variables <i>sepallength</i>, <i>sepalwidth</i>, <i>petallength</i>, y <i>petalwidth</i> del conjunto de datos <strong>sashelp.iris</strong>.</p>\n"
      ],
      "cell_type": "markdown"
    },
    {
      "metadata": {
        "id": "gj9uwqlkS0jB"
      },
      "source": [
        "\n",
        "\n",
        "proc iml;\n",
        "    use sashelp.iris (keep=sepallength sepalwidth petallength petalwidth);\n",
        "    m = contents();\n",
        "    read all into X;\n",
        "    mu = mean(X);\n",
        "    Y = X - mu;\n",
        "    S = t(Y)*Y/(nrow(Y)-1);\n",
        "    Z = (X - mu)/std(X);\n",
        "    R = t(Z)*Z/(nrow(Z)-1);\n",
        "    print mu[colname=m label=\"Vector de medias\" format=d10.4];\n",
        "    print  S[rowname=m colname=m label=\"Matriz de varianzas-covarianzas\" format=d10.4];\n",
        "    print  R[rowname=m colname=m label=\"Matriz de correlaciones\" format=d10.4];\n",
        "quit;\n",
        "\n",
        "\n"
      ],
      "execution_count": null,
      "cell_type": "code",
      "outputs": []
    },
    {
      "metadata": {
        "id": "tpTRvMpwS0jB"
      },
      "source": [
        "\n",
        "<p><strong>Ejemplo 4</strong></p>\n",
        "<p align=\"justify\"> Se estandarizan (es decir, se resta la media y luego se divide por la desviación estándar) las variables <i>sepallength</i> y <i>sepalwidth</i> del conjunto de datos <strong>sashelp.iris</strong> para luego crear una copia de este conjunto de datos (<strong>iris2</strong>) en el que <i>sepallength</i> y <i>sepalwidth</i> se reemplazan por sus versiones estandarizadas.</p>\n"
      ],
      "cell_type": "markdown"
    },
    {
      "metadata": {
        "id": "oSCFYPNjS0jB"
      },
      "source": [
        "\n",
        "\n",
        "proc iml;\n",
        "    use sashelp.iris(keep=sepallength sepalwidth);\n",
        "    m = contents();\n",
        "    read all into X;\n",
        "\n",
        "    Z = (X - mean(X))/std(X);\n",
        "\n",
        "    create iris2 from Z[colname=m];\n",
        "    append from Z;\n",
        "    close iris2;\n",
        "quit;\n",
        "\n",
        "data iris2;\n",
        "set sashelp.iris;\n",
        "set iris2;\n",
        "run;\n",
        "\n",
        "proc print data=iris2 (obs=10) noobs;\n",
        "run;\n",
        "\n",
        "\n"
      ],
      "execution_count": null,
      "cell_type": "code",
      "outputs": []
    },
    {
      "metadata": {
        "id": "gJ6gs_WjS0jB"
      },
      "source": [
        "\n",
        "<p><strong>Ejemplo 5</strong></p>\n",
        "<p align=\"justify\"> Se hace ACP (Análisis de Componentes Principales) con las variables numéricas del conjunto de datos <strong>sashelp.iris</strong>.</p>\n"
      ],
      "cell_type": "markdown"
    },
    {
      "metadata": {
        "id": "AFgsTzyQS0jC"
      },
      "source": [
        "\n",
        "\n",
        "proc iml;\n",
        "    use sashelp.iris (keep=_numeric_);\n",
        "    m = contents();\n",
        "    read all into X;\n",
        "    Z = (X - mean(X))/std(X);\n",
        "    S = t(Z)*Z/(nrow(Z)-1);\n",
        "    vec = eigvec(S);\n",
        "    val = eigval(S);\n",
        "    b = cusum(val);\n",
        "    val = val||100*val/sum(val)||100*b/sum(val);\n",
        "    s = do(1,ncol(X),1);\n",
        "    print val[colname={\"Eigenvalue\" \"Percentage\" \"Cumulative\"}\n",
        "    label=\"Eigenvalues of the Correlation Matrix\" rowname=s format=d10.4];\n",
        "    print vec[rowname=m colname=s label=\"Principal Components\" format=d10.4];\n",
        "quit;\n",
        "\n",
        "proc princomp data=sashelp.iris;\n",
        "    var _numeric_;\n",
        "run;\n",
        "\n",
        "\n"
      ],
      "execution_count": null,
      "cell_type": "code",
      "outputs": []
    },
    {
      "metadata": {
        "id": "5CO41ejJS0jC"
      },
      "source": [
        "\n",
        "# <h1><a href=\"https://documentation.sas.com/doc/en/pgmsascdc/9.4_3.5/mcrolref/p1nypovnwon4uyn159rst8pgzqrl.htm\" style=\"color:red;\" target=\"_blank\">13. Funciones personalizadas</a></h1>\n"
      ],
      "cell_type": "markdown"
    },
    {
      "metadata": {
        "id": "esXZjappS0jC"
      },
      "source": [
        "\n",
        "<h1><a style=\"color:red;\"> Muestreo de Bernoulli (BER) </a></h1>\n"
      ],
      "cell_type": "markdown"
    },
    {
      "metadata": {
        "id": "I17p9op4S0jC"
      },
      "source": [
        "\n",
        "<p><img height=\"350\" src=\"https://sas2022.netlify.app/macros1.png\" width=\"700\"/></p>\n"
      ],
      "cell_type": "markdown"
    },
    {
      "metadata": {
        "id": "IPPsa7aFS0jC"
      },
      "source": [
        "\n",
        "<p><strong>Ejemplo 1</strong></p>\n",
        "<p align=\"justify\"> Macro <strong>%ber()</strong> que selecciona una muestra aleatoria del conjunto de datos <i>data</i> usando BER con tamaño relativo esperado igual a <i>tre</i> y la guarda en el conjunto de datos <i>out</i>.</p>\n"
      ],
      "cell_type": "markdown"
    },
    {
      "metadata": {
        "id": "GDD93-7hS0jC"
      },
      "source": [
        "\n",
        "\n",
        "%macro ber(data,tre,out=mysample);\n",
        "    %if &tre <= 0 or &tre >= 1 %then %do;\n",
        "      %put ERROR: TRE debe estar en el intervalo (0,1);\n",
        "      %return;\n",
        "    %end;\n",
        "    data &out;\n",
        "      set &data;\n",
        "      u = rand(\"Uniform\",0,1);\n",
        "      if u > &tre then delete;\n",
        "      drop u;\n",
        "    run;\n",
        "    proc sql noprint;\n",
        "      select count(*) into:p \n",
        "      from &data;\n",
        "      select count(*) into:s \n",
        "      from &out;\n",
        "    quit;\n",
        "    %put NOTE: Muestreo de Bernoulli aplicado a &data;\n",
        "    %put NOTE: Tamaño de la Población = &p;\n",
        "    %put NOTE: Tamaño Relativo Esperado = &tre;\n",
        "    %put NOTE: Tamaño de la Muestra = &s;\n",
        "%mend;\n",
        "\n",
        "%ber(sashelp.baseball,0.2,out=bersample);\n",
        "\n",
        "proc contents data=bersample varnum;\n",
        "run;\n",
        "\n",
        "\n"
      ],
      "execution_count": null,
      "cell_type": "code",
      "outputs": []
    },
    {
      "metadata": {
        "id": "rSmjPzTqS0jC"
      },
      "source": [
        "\n",
        "<h1><a style=\"color:red;\"> Muestreo Aleatorio Simple (MAS) </a></h1>\n"
      ],
      "cell_type": "markdown"
    },
    {
      "metadata": {
        "id": "cRVWe9nyS0jC"
      },
      "source": [
        "\n",
        "<p><img height=\"350\" src=\"https://sas2022.netlify.app/macros2.png\" width=\"700\"/></p>\n"
      ],
      "cell_type": "markdown"
    },
    {
      "metadata": {
        "id": "XcPrGMJWS0jC"
      },
      "source": [
        "\n",
        "<p><strong>Ejemplo 2</strong></p>\n",
        "<p align=\"justify\"> Macro <strong>%mas()</strong> que selecciona una muestra aleatoria del conjunto de datos <i>data</i> usando MAS de tamaño igual a <i>size</i> y la guarda en el conjunto de datos <i>out</i>.</p>\n"
      ],
      "cell_type": "markdown"
    },
    {
      "metadata": {
        "id": "2rs6HAuHS0jC"
      },
      "source": [
        "\n",
        "\n",
        "%macro mas(data,size,out=mysample);\n",
        "    proc sql noprint;\n",
        "      select count(*) into: p \n",
        "      from &data;\n",
        "    quit;  \n",
        "    %if &size < 1 or &size > &p or %sysfunc(floor(&size)) ^= &size %then %do;\n",
        "      %put ERROR: SIZE debe ser un entero en el intervalo [1,&p];\n",
        "      %return;\n",
        "    %end;\n",
        "    data &out;\n",
        "      set &data;\n",
        "      u = rand(\"Uniform\",0,1);\n",
        "    run;\n",
        "    proc sort data=&out;\n",
        "      by u;\n",
        "    run;\n",
        "    data &out;\n",
        "      set &out;\n",
        "      if _n_ > &size then delete;\n",
        "      drop u;\n",
        "    run;\n",
        "    %put NOTE: MAS aplicado a &data;\n",
        "    %put NOTE: Tamaño de la Población = &p;\n",
        "    %put NOTE: Tamaño de la Muestra = &size;\n",
        "%mend;\n",
        "\n",
        "%mas(sashelp.baseball,35,out=massample);\n",
        "\n",
        "proc contents data=massample varnum;\n",
        "run;\n",
        "\n",
        "\n"
      ],
      "execution_count": null,
      "cell_type": "code",
      "outputs": []
    },
    {
      "metadata": {
        "id": "TaRHdjRxS0jD"
      },
      "source": [
        "\n",
        "<h1><a style=\"color:red;\"> Análisis de Componentes Principales (ACP) </a></h1>\n"
      ],
      "cell_type": "markdown"
    },
    {
      "metadata": {
        "id": "byVOANYHS0jD"
      },
      "source": [
        "\n",
        "<p><img height=\"350\" src=\"https://sas2022.netlify.app/macros3.png\" width=\"700\"/></p>\n"
      ],
      "cell_type": "markdown"
    },
    {
      "metadata": {
        "id": "fP3ARU2NS0jD"
      },
      "source": [
        "\n",
        "<p><strong>Ejemplo 3</strong></p>\n",
        "<p align=\"justify\"> Macro <strong>%acp()</strong> que hace ACP a las variables <i>vars</i> del conjunto de datos <i>data</i>.</p>\n"
      ],
      "cell_type": "markdown"
    },
    {
      "metadata": {
        "id": "AAfWsOo2S0jD"
      },
      "source": [
        "\n",
        "\n",
        "%macro acp(vars,data,type=\"corr\");\n",
        "    proc iml;\n",
        "      use &data (keep=&vars);\n",
        "      m = contents();\n",
        "      read all into X;\n",
        "      %if &type=\"corr\" %then %do;\n",
        "          Z = (X - mean(X))/std(X);\n",
        "          %put NOTE: Se está usando la matriz de correlaciones;\n",
        "      %end;\n",
        "      %else %do;\n",
        "          Z = (X - mean(X))/std(X);\n",
        "          %put NOTE: Se está usando la matriz de covarianzas;\n",
        "      %end;  \n",
        "      S = t(Z)*Z/(nrow(Z) - 1);\n",
        "      vec = eigvec(S);\n",
        "      val = eigval(S);\n",
        "      b = cusum(val);\n",
        "      val = val||100*val/sum(val)||100*b/sum(val);\n",
        "      s = do(1,ncol(X),1);\n",
        "      print val[colname={\"Eigenvalue\" \"Percentage\" \"Cumulative\"}\n",
        "      label=\"Eigenvalues of the Correlation Matrix\" rowname=s];\n",
        "      print vec[rowname=m colname=s label=\"Principal Components\"];\n",
        "    quit;\n",
        "%mend;\n",
        "\n",
        "%acp(sepallength sepalwidth petallength petalwidth,sashelp.iris);\n",
        "\n",
        "proc princomp data=sashelp.iris;\n",
        "var _numeric_;\n",
        "run;\n",
        "\n",
        "\n"
      ],
      "execution_count": null,
      "cell_type": "code",
      "outputs": []
    },
    {
      "metadata": {
        "id": "FdNIKKvPS0jD"
      },
      "source": [
        "\n",
        "<h1><a style=\"color:red;\"> Regresión Normal Lineal </a></h1>\n"
      ],
      "cell_type": "markdown"
    },
    {
      "metadata": {
        "id": "Ppc0Tx6pS0jD"
      },
      "source": [
        "\n",
        "<p><img height=\"350\" src=\"https://sas2022.netlify.app/macros4.png\" width=\"700\"/></p>\n"
      ],
      "cell_type": "markdown"
    },
    {
      "metadata": {
        "id": "xcb0IK3fS0jD"
      },
      "source": [
        "\n",
        "<p><strong>Ejemplo 4</strong></p>\n",
        "<p align=\"justify\"> Macro <strong>%regression()</strong> que hace regresión normal lineal de las variables <i>vars</i> sobre la respuesta <i>resp</i>, todas las cuales hacen parte del conjunto de datos <i>data</i>.</p>\n"
      ],
      "cell_type": "markdown"
    },
    {
      "metadata": {
        "id": "4xvQNZbVS0jD"
      },
      "source": [
        "\n",
        "\n",
        "%macro regression(resp,vars,data);\n",
        "    data temporal;\n",
        "    set &data;\n",
        "    keep &vars;\n",
        "    run;\n",
        "    proc iml;\n",
        "      use temporal;\n",
        "      m = contents();\n",
        "      read all into X;\n",
        "      use &data var{&resp};\n",
        "      read all into y;\n",
        "      n = nrow(X);\n",
        "      X = j(n,1,1)||X;\n",
        "      p = ncol(X);  \n",
        "      r = \"Intercept\"//m;\n",
        "      b = inv(t(X)*X)*t(X)*y;\n",
        "      sigma2 = sum((y-X*b)#(y-X*b))/(n-p);\n",
        "      se = sqrt(vecdiag(sigma2#inv(t(X)*X)));\n",
        "      pval = 1 - probf((b/se)##2,1,n-p);\n",
        "      out = b||se||b/se||pval;\n",
        "      c = {\"Parameter Estimate\" \"Standard Error\" \"t Value\" \"Pr > |t|\"};\n",
        "      print out[colname=c rowname=r label=\"Parameter Estimates\"];\n",
        "      r2 = 1 - sum((y-X*b)#(y-X*b))/sum((y-mean(y))##2);\n",
        "      F = (r2/(1-r2))*(n-p)/(p-1);\n",
        "      pval = 1 - probf(F,p,n-p);\n",
        "      r2adj = 1 - sigma2/var(y);\n",
        "      r2 = r2||r2adj;\n",
        "      F = F||p||(n-ncol(X))||pval;\n",
        "      print r2[colname={\"R-squared\" \"Adj. R-squared\"} label=\"\"];\n",
        "      print F[colname={\"F Value\" \"df1\" \"df2\" \"Pr > F\"} label=\"\"];\n",
        "    quit;\n",
        "    proc datasets library=work nolist;\n",
        "       delete temporal;\n",
        "    run;\n",
        "%mend;\n",
        "\n",
        "%regression(mpg_city,horsepower weight,sashelp.cars);\n",
        "\n",
        "proc reg data=sashelp.cars plots=none;\n",
        "model mpg_city = horsepower weight;\n",
        "run;\n",
        "\n",
        "\n"
      ],
      "execution_count": null,
      "cell_type": "code",
      "outputs": []
    },
    {
      "metadata": {
        "id": "za97fX8uS0jD"
      },
      "source": [
        "\n",
        "<h1><a style=\"color:red;\"> Regresión Logística </a></h1>\n"
      ],
      "cell_type": "markdown"
    },
    {
      "metadata": {
        "id": "9WbrxineS0jD"
      },
      "source": [
        "\n",
        "<p><img height=\"350\" src=\"https://sas2022.netlify.app/macros5.png\" width=\"700\"/></p>\n"
      ],
      "cell_type": "markdown"
    },
    {
      "metadata": {
        "id": "emHzPQlqS0jD"
      },
      "source": [
        "\n",
        "<p><strong>Ejemplo 5</strong></p>\n",
        "<p align=\"justify\"> Macro <strong>%logistic()</strong> que hace regresión logística de las variables <i>vars</i> sobre la respuesta <i>resp</i>, todas las cuales hacen parte del conjunto de datos <i>data</i>.</p>\n"
      ],
      "cell_type": "markdown"
    },
    {
      "metadata": {
        "id": "fEAlLq2ES0jE"
      },
      "source": [
        "\n",
        "\n",
        "%macro logistic(resp,vars,data);\n",
        "    data temporal;\n",
        "    set &data;\n",
        "    keep &vars;\n",
        "    run;\n",
        "    proc iml;\n",
        "      use temporal var{&vars};\n",
        "      m = contents();\n",
        "      read all into X;\n",
        "      use &data var{&resp};\n",
        "      read all into y;\n",
        "      X = j(nrow(X),1,1)||X;\n",
        "      b_old = inv(t(X)*X)*t(X)*abs(y-0.1);tol = 1;\n",
        "      do while(tol > 0.0001);\n",
        "         mu = exp(X*b_old)/(1 + exp(X*b_old));\n",
        "         Xw = sqrt(mu#(1-mu))#X;\n",
        "         b_new = b_old + inv(t(Xw)*Xw)*t(X)*(y-mu);\n",
        "         tol = max(abs((b_new-b_old)/b_old));\n",
        "         b_old = b_new;\n",
        "      end;\n",
        "      se = sqrt(vecdiag(inv(t(Xw)*Xw)));\n",
        "      pval = 1-probchi((b_old/se)##2,1);\n",
        "      out = b_old||se||(b_old/se)##2||pval;\n",
        "      c = {\"Parameter Estimate\" \"Standard Error\" \"Chi-squared\" \"Pr > ChiSq\"};\n",
        "      r = \"Intercept\"//m;\n",
        "      print out[colname=c rowname=r label=\"Parameter Estimates\"];\n",
        "      logl = sum(y#log(mu) + (1-y)#log(1-mu));\n",
        "      logl0 = sum(y#log(mean(y)) + (1-y)#log(1-mean(y)));\n",
        "      iyc = -2*logl + 2*nrow(b_old) // -2*logl + log(nrow(y))*nrow(b_old) // -2*logl;\n",
        "      si = -2*logl0 + 2 // -2*logl0 + log(nrow(y)) // -2*logl0;\n",
        "      out2 = si || iyc;\n",
        "      c ={\"Intercept Only\" \"Intercept and covariates\"};\n",
        "      r ={\"AIC\" \"SC\" \"-2 Log L\"};\n",
        "      print out2[colname=c rowname=r label=\"Model Fit Statistics\"];\n",
        "      quit;\n",
        "    proc datasets library=work nolist;\n",
        "    delete temporal;\n",
        "    run;\n",
        "%mend;\n",
        "\n",
        "%logistic(choice,logprice loginc,sashelp.margarin);\n",
        "\n",
        "proc logistic data=sashelp.margarin desc;\n",
        "model choice = logprice loginc;\n",
        "run;\n",
        "\n",
        "\n"
      ],
      "execution_count": null,
      "cell_type": "code",
      "outputs": []
    },
    {
      "metadata": {
        "id": "GOSmR7EQS0jE"
      },
      "source": [
        "\n",
        "<h1><a style=\"color:red;\"> Ejercicio </a></h1>\n",
        "<h1><a style=\"color:red;\"> Muestra Aleatoria de la Normal Multivariada </a></h1>\n"
      ],
      "cell_type": "markdown"
    },
    {
      "metadata": {
        "id": "kBUhEhuXS0jE"
      },
      "source": [
        "\n",
        "<p><img height=\"350\" src=\"https://sas2022.netlify.app/nmv.png\" width=\"700\"/></p>\n"
      ],
      "cell_type": "markdown"
    },
    {
      "metadata": {
        "id": "4zxBrL93S0jE"
      },
      "source": [
        "\n",
        "<p>Cree una función con cuatro parámetros (<strong>mu</strong>, <strong>Sigma</strong>, <strong>n</strong> y <strong>data</strong>) que genera una muestra aleatoria de tamaño <strong>n</strong> de la distribución normal multivariada con vector de medias <strong>mu</strong> y matriz de varianzas-covarianzas <strong>Sigma</strong>, para luego guardarla en el conjunto de datos <strong>data</strong>.</p>\n"
      ],
      "cell_type": "markdown"
    },
    {
      "metadata": {
        "id": "237YLWjvS0jE"
      },
      "source": [
        "\n",
        "<p><img height=\"350\" src=\"https://sas2022.netlify.app/bibli1.jpg\" width=\"700\"/>\n",
        "<img height=\"350\" src=\"https://sas2022.netlify.app/bibli2.jpg\" width=\"700\"/>\n",
        "<img height=\"350\" src=\"https://sas2022.netlify.app/bibli3.jpg\" width=\"700\"/></p>\n"
      ],
      "cell_type": "markdown"
    },
    {
      "metadata": {
        "id": "N6-pETauS0jE"
      },
      "source": [
        "\n",
        "\n",
        "import saspy\n",
        "saspy\n",
        "sas = saspy.SASsession()\n",
        "sas.submitLST(\"\"\"\n",
        "\"\"\")\n",
        "\n",
        "\n"
      ],
      "execution_count": null,
      "cell_type": "code",
      "outputs": []
    }
  ],
  "metadata": {
    "colab": {
      "provenance": [],
      "toc_visible": true,
      "collapsed_sections": [
        "gGmdH4ZNS0iZ",
        "XGgyE_PCS0if",
        "AzJRlngFS0io",
        "iHrz3DM5S0ip",
        "it7EsuiBS0ir",
        "8bkM4PKBS0i-",
        "ajwK9kg-S0i_",
        "yfxBbAwuS0jA",
        "5CO41ejJS0jC"
      ],
      "include_colab_link": true
    }
  }
}